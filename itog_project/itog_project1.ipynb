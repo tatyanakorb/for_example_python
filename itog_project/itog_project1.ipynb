{
 "cells": [
  {
   "cell_type": "markdown",
   "metadata": {},
   "source": [
    "# Приложение \"Ненужные вещи\""
   ]
  },
  {
   "cell_type": "markdown",
   "metadata": {},
   "source": [
    "# Задача\n",
    "\n",
    "1. Проанализируйте связь целевого события — просмотра контактов — и других действий пользователей.\n",
    "\n",
    "2. Оцените, какие действия чаще совершают те пользователи, которые просматривают контакты (contacts_show и show_contacts).\n",
    "\n",
    "- Проведите исследовательский анализ данных\n",
    "- Проанализируйте влияние событий на совершение целевого события\n",
    "- Проверьте статистические гипотезы\n",
    "    1. Одни пользователи совершают действия `tips_show` и `tips_click`, другие — только `tips_show`. Проверьте гипотезу: конверсия в просмотры контактов различается у этих двух групп.\n",
    "    2. Сформулируйте собственную статистическую гипотезу. Дополните её нулевой и альтернативной гипотезами. Проверьте гипотезу с помощью статистического теста.\n",
    "    \n",
    "    \n",
    "# Описание данных:\n",
    "\n",
    "Датасет содержит данные о событиях, совершенных в мобильном приложении \"Ненужные вещи\". В нем пользователи продают свои ненужные вещи, размещая их на доске объявлений.\n",
    "\n",
    "В датасете содержатся данные пользователей, впервые совершивших действия в приложении после 7 октября 2019 года.\n",
    "\n",
    "Колонки в mobile_sources.csv: \n",
    "\n",
    "- `userId` — идентификатор пользователя,\n",
    "\n",
    "- `source` — источник, с которого пользователь установил приложение.\n",
    "\n",
    "Колонки в mobile_dataset.csv: \n",
    "\n",
    "- `event.time` — время совершения,\n",
    "\n",
    "- `user.id` — идентификатор пользователя,\n",
    "\n",
    "- `event.name` — действие пользователя.\n",
    "\n",
    "Виды действий:\n",
    "\n",
    "- `advert_open` — открыл карточки объявления,\n",
    "\n",
    "- `photos_show` — просмотрел фотографий в объявлении,\n",
    "\n",
    "- `tips_show` — увидел рекомендованные объявления,\n",
    "\n",
    "- `tips_click` — кликнул по рекомендованному объявлению,\n",
    "\n",
    "- `contacts_show` и `show_contacts` — посмотрел номер телефона,\n",
    "\n",
    "- `contacts_call` — позвонил по номеру из объявления,\n",
    "\n",
    "- `map` — открыл карту объявлений,\n",
    "\n",
    "- `search_1`—`search_7` — разные действия, связанные с поиском по сайту,\n",
    "\n",
    "- `favorites_add` — добавил объявление в избранное.\n",
    "\n",
    "\n",
    "# План работы\n",
    "\n",
    "\n",
    " <b>Шаг 1. Загрузить данные и изучить общую информацию</b>\n",
    "\n",
    "Загрузите данные о сервисе «Ненужные вещи».\n",
    "\n",
    "df_source - 'https://code.s3.yandex.net/datasets/mobile_sources.csv' - датасет, который хранит данные об источниках, с которых пользователь установил приложение.\n",
    "\n",
    "df - 'https://code.s3.yandex.net/datasets/mobile_dataset.csv' - датасет, который содержит данные о действиях пользователей в приложении. \n",
    "\n",
    "Изучить общую информацию о датасетах. \n",
    "\n",
    "Общее кол-во данных в датасетах, кол-во дубликатов, пропущенных данных, посмотреть типы данных.\n",
    "\n",
    "\n",
    " <b>Шаг 2.  Выполнить предобработку данных</b>\n",
    "\n",
    "При необходимости удалить дубликаты, заполнить пропуски, поменять типы данных.  \n",
    "\n",
    "Привести названия всех столбцов к одному виду, для удобства.\n",
    "\n",
    "Добавить столбец в df с датами действий. \n",
    "\n",
    " <b>Шаг 3. Анализ данных</b>\n",
    "\n",
    "1. Посмотреть начальные и конечные даты ДФ. Построить гистограмму зависимости кол-ва действий от времени. Есть ли какая-то периодичность изменения данных и что на это влияет.\n",
    "\n",
    "\n",
    "2. Посмотреть виды действий и заменить `contacts_show` на `show_contacts`, т.к. это одно и то же. \n",
    "\n",
    "\n",
    "3. Посмотреть общее кол-во пользователей и кол-во уникальных пользователей. Посмотреть как распределяются пользователи по видам действий, построить гистограммы для: общего кол-ва, для уникальных и процентное соотношение уникальных к общим. Сравнить их между собой. \n",
    "\n",
    "\n",
    "4. Заменить все search_1-7 на просто search, так как на эти действия приходятся наименьшее кол-во пользователей, а значит они не так сильно влияют на весь дф. А с учетом того, что это по сути одно действие - \"поиск по сайту\", то логичнее было бы их объединить.\n",
    "\n",
    "\n",
    "5. Сделать все аналогичное пункту 3.3, только с учетом объединенных search_1-7 и сравнить.\n",
    "\n",
    "\n",
    "6. Выяснить, из каких источников пользователи приходят в приложение и посмотреть, как распределены источники по видам действий в приложении, мб есть какие-то аномалии (например, что посльзователи из какого-то источника выполняют только одно действие). Построить визуализацию.\n",
    "\n",
    "\n",
    "7. Посмотреть как распределены виды действий по времени, мб есть аномалии. Построить график зависимостей частот действий от времени.\n",
    "\n",
    "  \n",
    "8. Так как нам надо проверить связь целевого события (проверка контактов) от остальных действий, то нужно сделать срез по дф для действия `show_contacts`, получить уникальные user_id и по ним сделать срез по всему дф. И посмотреть как распределены остальные действия для этих юзеров. Построить гистограммы для общего кол-ва, для уникальных и для процентного соотношения уникальных к общим. \n",
    "\n",
    "\n",
    "9. Построить график зависимостей ДФ для целевого действия из пункта 3.8 от времени. \n",
    "\n",
    "\n",
    "10. Разбить время пользователей на сессии (либо на 20-30 минут, либо на суточное разбиение). На основе веделенных сессий, посмотреть сценарии взаимодействия с приложением, выделить несколько основных. \n",
    "\n",
    "10.1. Проверить, сколько длится сессия у тех, кто совершал целевое событие и тех, кто не совершал\n",
    "\n",
    "\n",
    "11. Построить визуализацию, мб воронку, для нескольких сценариев. Сравнить их между собой и выделить наиболее приоритетные, с наибольшей долей уникалыных пользователей, которые доходят до целевого действия.\n",
    "\n",
    "\n",
    "12. Посмотреть на каком шаге сценариев больше всего отпадают пользователи. В процентом соотношении + в абсолют. величинах. \n",
    "\n",
    "\n",
    "13. Посмотреть среднее кол-во действий, которое приходится на одного пользователя. Посчитать выбросы (95, 99 - процентили). Очистить данные.\n",
    "\n",
    "<b>Шаг 4. Изучить результаты эксперимента</b>\n",
    "\n",
    "\n",
    " \n",
    "1. Одни пользователи совершают действия tips_show и tips_click, другие — только tips_show. Проверьте гипотезу: конверсия для просмотров контактов различается у этих двух групп.\n",
    "(проверить данные с выбросами и \"очищенные\")\n",
    "\n",
    "\n",
    "2. Взять два (или несколько) сценария из пункта 3.9 и проверить гипотезу: конверсия для целевого действия (либо \"просмотр контактов\", либо какое-то конечное действие, к которому приходят сценарии, либо, по возможности, рассмотреть сценарии с одним-двумя одинаковыми дейтсвиями в составе) различается у этих двух групп.\n",
    "\n",
    "<b>Шаг 5. Написать общий вывод</b> "
   ]
  },
  {
   "cell_type": "markdown",
   "metadata": {},
   "source": [
    "# Шаг 1. Загрузить данные и изучить общую информацию\n",
    "\n",
    "Загрузите данные о сервисе «Ненужные вещи».\n",
    "\n",
    "df_source - 'https://code.s3.yandex.net/datasets/mobile_sources.csv' - датасет, который хранит данные об источниках, с которых пользователь установил приложение.\n",
    "\n",
    "df - 'https://code.s3.yandex.net/datasets/mobile_dataset.csv' - датасет, который содержит данные о действиях пользователей в приложении. \n",
    "\n",
    "Изучить общую информацию о датасетах. \n",
    "\n",
    "Общее кол-во данных в датасетах, кол-во дубликатов, пропущенных данных, посмотреть типы данных."
   ]
  },
  {
   "cell_type": "code",
   "execution_count": 13,
   "metadata": {},
   "outputs": [],
   "source": [
    "import pandas as pd\n",
    "from scipy import stats as st\n",
    "import numpy as np\n",
    "import matplotlib.pyplot as plt\n",
    "from datetime import datetime, date\n",
    "import plotly\n",
    "import plotly.express as px\n",
    "import plotly.graph_objects as go\n",
    "from plotly.subplots import make_subplots\n",
    "import plotly.io as pio\n",
    "pio.renderers.default='notebook'\n",
    "import math as mth\n",
    "import warnings\n",
    "warnings.filterwarnings('ignore')"
   ]
  },
  {
   "cell_type": "code",
   "execution_count": 14,
   "metadata": {},
   "outputs": [],
   "source": [
    "df_sources = pd.read_csv('https://code.s3.yandex.net/datasets/mobile_sources.csv')\n",
    "df = pd.read_csv('https://code.s3.yandex.net/datasets/mobile_dataset.csv')"
   ]
  },
  {
   "cell_type": "code",
   "execution_count": 15,
   "metadata": {},
   "outputs": [],
   "source": [
    "def data_fr(df):\n",
    "    display(df.head(10))\n",
    "    print(2 * \"\\n\")\n",
    "    display(df.info())\n",
    "    print(2 * \"\\n\")\n",
    "    display(df.describe().T)\n",
    "    print(2 * \"\\n\")\n",
    "    print('Кол-во нулей:')\n",
    "    display(df.isnull().sum())\n",
    "    print(2 * \"\\n\")\n",
    "    print(f'Кол-во дубликатов: {df.duplicated().sum()}')"
   ]
  },
  {
   "cell_type": "code",
   "execution_count": 16,
   "metadata": {},
   "outputs": [
    {
     "data": {
      "text/html": [
       "<div>\n",
       "<style scoped>\n",
       "    .dataframe tbody tr th:only-of-type {\n",
       "        vertical-align: middle;\n",
       "    }\n",
       "\n",
       "    .dataframe tbody tr th {\n",
       "        vertical-align: top;\n",
       "    }\n",
       "\n",
       "    .dataframe thead th {\n",
       "        text-align: right;\n",
       "    }\n",
       "</style>\n",
       "<table border=\"1\" class=\"dataframe\">\n",
       "  <thead>\n",
       "    <tr style=\"text-align: right;\">\n",
       "      <th></th>\n",
       "      <th>userId</th>\n",
       "      <th>source</th>\n",
       "    </tr>\n",
       "  </thead>\n",
       "  <tbody>\n",
       "    <tr>\n",
       "      <th>0</th>\n",
       "      <td>020292ab-89bc-4156-9acf-68bc2783f894</td>\n",
       "      <td>other</td>\n",
       "    </tr>\n",
       "    <tr>\n",
       "      <th>1</th>\n",
       "      <td>cf7eda61-9349-469f-ac27-e5b6f5ec475c</td>\n",
       "      <td>yandex</td>\n",
       "    </tr>\n",
       "    <tr>\n",
       "      <th>2</th>\n",
       "      <td>8c356c42-3ba9-4cb6-80b8-3f868d0192c3</td>\n",
       "      <td>yandex</td>\n",
       "    </tr>\n",
       "    <tr>\n",
       "      <th>3</th>\n",
       "      <td>d9b06b47-0f36-419b-bbb0-3533e582a6cb</td>\n",
       "      <td>other</td>\n",
       "    </tr>\n",
       "    <tr>\n",
       "      <th>4</th>\n",
       "      <td>f32e1e2a-3027-4693-b793-b7b3ff274439</td>\n",
       "      <td>google</td>\n",
       "    </tr>\n",
       "    <tr>\n",
       "      <th>5</th>\n",
       "      <td>17f6b2db-2964-4d11-89d8-7e38d2cb4750</td>\n",
       "      <td>yandex</td>\n",
       "    </tr>\n",
       "    <tr>\n",
       "      <th>6</th>\n",
       "      <td>62aa104f-592d-4ccb-8226-2ba0e719ded5</td>\n",
       "      <td>yandex</td>\n",
       "    </tr>\n",
       "    <tr>\n",
       "      <th>7</th>\n",
       "      <td>57321726-5d66-4d51-84f4-c797c35dcf2b</td>\n",
       "      <td>google</td>\n",
       "    </tr>\n",
       "    <tr>\n",
       "      <th>8</th>\n",
       "      <td>c2cf55c0-95f7-4269-896c-931d14deaab5</td>\n",
       "      <td>google</td>\n",
       "    </tr>\n",
       "    <tr>\n",
       "      <th>9</th>\n",
       "      <td>48e614d6-fe03-40f7-bf9e-4c4f61c19f64</td>\n",
       "      <td>yandex</td>\n",
       "    </tr>\n",
       "  </tbody>\n",
       "</table>\n",
       "</div>"
      ],
      "text/plain": [
       "                                 userId  source\n",
       "0  020292ab-89bc-4156-9acf-68bc2783f894   other\n",
       "1  cf7eda61-9349-469f-ac27-e5b6f5ec475c  yandex\n",
       "2  8c356c42-3ba9-4cb6-80b8-3f868d0192c3  yandex\n",
       "3  d9b06b47-0f36-419b-bbb0-3533e582a6cb   other\n",
       "4  f32e1e2a-3027-4693-b793-b7b3ff274439  google\n",
       "5  17f6b2db-2964-4d11-89d8-7e38d2cb4750  yandex\n",
       "6  62aa104f-592d-4ccb-8226-2ba0e719ded5  yandex\n",
       "7  57321726-5d66-4d51-84f4-c797c35dcf2b  google\n",
       "8  c2cf55c0-95f7-4269-896c-931d14deaab5  google\n",
       "9  48e614d6-fe03-40f7-bf9e-4c4f61c19f64  yandex"
      ]
     },
     "metadata": {},
     "output_type": "display_data"
    },
    {
     "name": "stdout",
     "output_type": "stream",
     "text": [
      "\n",
      "\n",
      "\n",
      "<class 'pandas.core.frame.DataFrame'>\n",
      "RangeIndex: 4293 entries, 0 to 4292\n",
      "Data columns (total 2 columns):\n",
      " #   Column  Non-Null Count  Dtype \n",
      "---  ------  --------------  ----- \n",
      " 0   userId  4293 non-null   object\n",
      " 1   source  4293 non-null   object\n",
      "dtypes: object(2)\n",
      "memory usage: 67.2+ KB\n"
     ]
    },
    {
     "data": {
      "text/plain": [
       "None"
      ]
     },
     "metadata": {},
     "output_type": "display_data"
    },
    {
     "name": "stdout",
     "output_type": "stream",
     "text": [
      "\n",
      "\n",
      "\n"
     ]
    },
    {
     "data": {
      "text/html": [
       "<div>\n",
       "<style scoped>\n",
       "    .dataframe tbody tr th:only-of-type {\n",
       "        vertical-align: middle;\n",
       "    }\n",
       "\n",
       "    .dataframe tbody tr th {\n",
       "        vertical-align: top;\n",
       "    }\n",
       "\n",
       "    .dataframe thead th {\n",
       "        text-align: right;\n",
       "    }\n",
       "</style>\n",
       "<table border=\"1\" class=\"dataframe\">\n",
       "  <thead>\n",
       "    <tr style=\"text-align: right;\">\n",
       "      <th></th>\n",
       "      <th>count</th>\n",
       "      <th>unique</th>\n",
       "      <th>top</th>\n",
       "      <th>freq</th>\n",
       "    </tr>\n",
       "  </thead>\n",
       "  <tbody>\n",
       "    <tr>\n",
       "      <th>userId</th>\n",
       "      <td>4293</td>\n",
       "      <td>4293</td>\n",
       "      <td>842cd1d5-ef1d-4398-a1d6-93b1890676fc</td>\n",
       "      <td>1</td>\n",
       "    </tr>\n",
       "    <tr>\n",
       "      <th>source</th>\n",
       "      <td>4293</td>\n",
       "      <td>3</td>\n",
       "      <td>yandex</td>\n",
       "      <td>1934</td>\n",
       "    </tr>\n",
       "  </tbody>\n",
       "</table>\n",
       "</div>"
      ],
      "text/plain": [
       "       count unique                                   top  freq\n",
       "userId  4293   4293  842cd1d5-ef1d-4398-a1d6-93b1890676fc     1\n",
       "source  4293      3                                yandex  1934"
      ]
     },
     "metadata": {},
     "output_type": "display_data"
    },
    {
     "name": "stdout",
     "output_type": "stream",
     "text": [
      "\n",
      "\n",
      "\n",
      "Кол-во нулей:\n"
     ]
    },
    {
     "data": {
      "text/plain": [
       "userId    0\n",
       "source    0\n",
       "dtype: int64"
      ]
     },
     "metadata": {},
     "output_type": "display_data"
    },
    {
     "name": "stdout",
     "output_type": "stream",
     "text": [
      "\n",
      "\n",
      "\n",
      "Кол-во дубликатов: 0\n"
     ]
    }
   ],
   "source": [
    "data_fr(df_sources)"
   ]
  },
  {
   "cell_type": "code",
   "execution_count": 17,
   "metadata": {},
   "outputs": [
    {
     "data": {
      "text/html": [
       "<div>\n",
       "<style scoped>\n",
       "    .dataframe tbody tr th:only-of-type {\n",
       "        vertical-align: middle;\n",
       "    }\n",
       "\n",
       "    .dataframe tbody tr th {\n",
       "        vertical-align: top;\n",
       "    }\n",
       "\n",
       "    .dataframe thead th {\n",
       "        text-align: right;\n",
       "    }\n",
       "</style>\n",
       "<table border=\"1\" class=\"dataframe\">\n",
       "  <thead>\n",
       "    <tr style=\"text-align: right;\">\n",
       "      <th></th>\n",
       "      <th>event.time</th>\n",
       "      <th>event.name</th>\n",
       "      <th>user.id</th>\n",
       "    </tr>\n",
       "  </thead>\n",
       "  <tbody>\n",
       "    <tr>\n",
       "      <th>0</th>\n",
       "      <td>2019-10-07 00:00:00.431357</td>\n",
       "      <td>advert_open</td>\n",
       "      <td>020292ab-89bc-4156-9acf-68bc2783f894</td>\n",
       "    </tr>\n",
       "    <tr>\n",
       "      <th>1</th>\n",
       "      <td>2019-10-07 00:00:01.236320</td>\n",
       "      <td>tips_show</td>\n",
       "      <td>020292ab-89bc-4156-9acf-68bc2783f894</td>\n",
       "    </tr>\n",
       "    <tr>\n",
       "      <th>2</th>\n",
       "      <td>2019-10-07 00:00:02.245341</td>\n",
       "      <td>tips_show</td>\n",
       "      <td>cf7eda61-9349-469f-ac27-e5b6f5ec475c</td>\n",
       "    </tr>\n",
       "    <tr>\n",
       "      <th>3</th>\n",
       "      <td>2019-10-07 00:00:07.039334</td>\n",
       "      <td>tips_show</td>\n",
       "      <td>020292ab-89bc-4156-9acf-68bc2783f894</td>\n",
       "    </tr>\n",
       "    <tr>\n",
       "      <th>4</th>\n",
       "      <td>2019-10-07 00:00:56.319813</td>\n",
       "      <td>advert_open</td>\n",
       "      <td>cf7eda61-9349-469f-ac27-e5b6f5ec475c</td>\n",
       "    </tr>\n",
       "    <tr>\n",
       "      <th>5</th>\n",
       "      <td>2019-10-07 00:01:19.993624</td>\n",
       "      <td>tips_show</td>\n",
       "      <td>cf7eda61-9349-469f-ac27-e5b6f5ec475c</td>\n",
       "    </tr>\n",
       "    <tr>\n",
       "      <th>6</th>\n",
       "      <td>2019-10-07 00:01:27.770232</td>\n",
       "      <td>advert_open</td>\n",
       "      <td>020292ab-89bc-4156-9acf-68bc2783f894</td>\n",
       "    </tr>\n",
       "    <tr>\n",
       "      <th>7</th>\n",
       "      <td>2019-10-07 00:01:34.804591</td>\n",
       "      <td>tips_show</td>\n",
       "      <td>020292ab-89bc-4156-9acf-68bc2783f894</td>\n",
       "    </tr>\n",
       "    <tr>\n",
       "      <th>8</th>\n",
       "      <td>2019-10-07 00:01:49.732803</td>\n",
       "      <td>advert_open</td>\n",
       "      <td>cf7eda61-9349-469f-ac27-e5b6f5ec475c</td>\n",
       "    </tr>\n",
       "    <tr>\n",
       "      <th>9</th>\n",
       "      <td>2019-10-07 00:01:54.958298</td>\n",
       "      <td>advert_open</td>\n",
       "      <td>020292ab-89bc-4156-9acf-68bc2783f894</td>\n",
       "    </tr>\n",
       "  </tbody>\n",
       "</table>\n",
       "</div>"
      ],
      "text/plain": [
       "                   event.time   event.name  \\\n",
       "0  2019-10-07 00:00:00.431357  advert_open   \n",
       "1  2019-10-07 00:00:01.236320    tips_show   \n",
       "2  2019-10-07 00:00:02.245341    tips_show   \n",
       "3  2019-10-07 00:00:07.039334    tips_show   \n",
       "4  2019-10-07 00:00:56.319813  advert_open   \n",
       "5  2019-10-07 00:01:19.993624    tips_show   \n",
       "6  2019-10-07 00:01:27.770232  advert_open   \n",
       "7  2019-10-07 00:01:34.804591    tips_show   \n",
       "8  2019-10-07 00:01:49.732803  advert_open   \n",
       "9  2019-10-07 00:01:54.958298  advert_open   \n",
       "\n",
       "                                user.id  \n",
       "0  020292ab-89bc-4156-9acf-68bc2783f894  \n",
       "1  020292ab-89bc-4156-9acf-68bc2783f894  \n",
       "2  cf7eda61-9349-469f-ac27-e5b6f5ec475c  \n",
       "3  020292ab-89bc-4156-9acf-68bc2783f894  \n",
       "4  cf7eda61-9349-469f-ac27-e5b6f5ec475c  \n",
       "5  cf7eda61-9349-469f-ac27-e5b6f5ec475c  \n",
       "6  020292ab-89bc-4156-9acf-68bc2783f894  \n",
       "7  020292ab-89bc-4156-9acf-68bc2783f894  \n",
       "8  cf7eda61-9349-469f-ac27-e5b6f5ec475c  \n",
       "9  020292ab-89bc-4156-9acf-68bc2783f894  "
      ]
     },
     "metadata": {},
     "output_type": "display_data"
    },
    {
     "name": "stdout",
     "output_type": "stream",
     "text": [
      "\n",
      "\n",
      "\n",
      "<class 'pandas.core.frame.DataFrame'>\n",
      "RangeIndex: 74197 entries, 0 to 74196\n",
      "Data columns (total 3 columns):\n",
      " #   Column      Non-Null Count  Dtype \n",
      "---  ------      --------------  ----- \n",
      " 0   event.time  74197 non-null  object\n",
      " 1   event.name  74197 non-null  object\n",
      " 2   user.id     74197 non-null  object\n",
      "dtypes: object(3)\n",
      "memory usage: 1.7+ MB\n"
     ]
    },
    {
     "data": {
      "text/plain": [
       "None"
      ]
     },
     "metadata": {},
     "output_type": "display_data"
    },
    {
     "name": "stdout",
     "output_type": "stream",
     "text": [
      "\n",
      "\n",
      "\n"
     ]
    },
    {
     "data": {
      "text/html": [
       "<div>\n",
       "<style scoped>\n",
       "    .dataframe tbody tr th:only-of-type {\n",
       "        vertical-align: middle;\n",
       "    }\n",
       "\n",
       "    .dataframe tbody tr th {\n",
       "        vertical-align: top;\n",
       "    }\n",
       "\n",
       "    .dataframe thead th {\n",
       "        text-align: right;\n",
       "    }\n",
       "</style>\n",
       "<table border=\"1\" class=\"dataframe\">\n",
       "  <thead>\n",
       "    <tr style=\"text-align: right;\">\n",
       "      <th></th>\n",
       "      <th>count</th>\n",
       "      <th>unique</th>\n",
       "      <th>top</th>\n",
       "      <th>freq</th>\n",
       "    </tr>\n",
       "  </thead>\n",
       "  <tbody>\n",
       "    <tr>\n",
       "      <th>event.time</th>\n",
       "      <td>74197</td>\n",
       "      <td>74197</td>\n",
       "      <td>2019-10-09 09:04:54.930611</td>\n",
       "      <td>1</td>\n",
       "    </tr>\n",
       "    <tr>\n",
       "      <th>event.name</th>\n",
       "      <td>74197</td>\n",
       "      <td>16</td>\n",
       "      <td>tips_show</td>\n",
       "      <td>40055</td>\n",
       "    </tr>\n",
       "    <tr>\n",
       "      <th>user.id</th>\n",
       "      <td>74197</td>\n",
       "      <td>4293</td>\n",
       "      <td>cb36854f-570a-41f4-baa8-36680b396370</td>\n",
       "      <td>478</td>\n",
       "    </tr>\n",
       "  </tbody>\n",
       "</table>\n",
       "</div>"
      ],
      "text/plain": [
       "            count unique                                   top   freq\n",
       "event.time  74197  74197            2019-10-09 09:04:54.930611      1\n",
       "event.name  74197     16                             tips_show  40055\n",
       "user.id     74197   4293  cb36854f-570a-41f4-baa8-36680b396370    478"
      ]
     },
     "metadata": {},
     "output_type": "display_data"
    },
    {
     "name": "stdout",
     "output_type": "stream",
     "text": [
      "\n",
      "\n",
      "\n",
      "Кол-во нулей:\n"
     ]
    },
    {
     "data": {
      "text/plain": [
       "event.time    0\n",
       "event.name    0\n",
       "user.id       0\n",
       "dtype: int64"
      ]
     },
     "metadata": {},
     "output_type": "display_data"
    },
    {
     "name": "stdout",
     "output_type": "stream",
     "text": [
      "\n",
      "\n",
      "\n",
      "Кол-во дубликатов: 0\n"
     ]
    }
   ],
   "source": [
    "data_fr(df)"
   ]
  },
  {
   "cell_type": "markdown",
   "metadata": {},
   "source": [
    "В ДФ дубликатов не обнаружено, пропущенных данных тоже нет. \n",
    "\n",
    "Надо поменять тип данных в колонке с датой и временем, создать новую колонку для даты, для удобства.\n",
    "\n",
    "Также для удобства далее переименую некоторые колонки датафреймов."
   ]
  },
  {
   "cell_type": "markdown",
   "metadata": {},
   "source": [
    "# Шаг 2.  Выполнить предобработку данных\n",
    "\n",
    "При необходимости удалить дубликаты, заполнить пропуски, поменять типы данных.  \n",
    "\n",
    "Привести названия всех столбцов к одному виду, для удобства.\n",
    "\n",
    "Добавить столбец в df с датами действий. "
   ]
  },
  {
   "cell_type": "code",
   "execution_count": 18,
   "metadata": {},
   "outputs": [
    {
     "data": {
      "text/html": [
       "<div>\n",
       "<style scoped>\n",
       "    .dataframe tbody tr th:only-of-type {\n",
       "        vertical-align: middle;\n",
       "    }\n",
       "\n",
       "    .dataframe tbody tr th {\n",
       "        vertical-align: top;\n",
       "    }\n",
       "\n",
       "    .dataframe thead th {\n",
       "        text-align: right;\n",
       "    }\n",
       "</style>\n",
       "<table border=\"1\" class=\"dataframe\">\n",
       "  <thead>\n",
       "    <tr style=\"text-align: right;\">\n",
       "      <th></th>\n",
       "      <th>user_id</th>\n",
       "      <th>source</th>\n",
       "    </tr>\n",
       "  </thead>\n",
       "  <tbody>\n",
       "    <tr>\n",
       "      <th>0</th>\n",
       "      <td>020292ab-89bc-4156-9acf-68bc2783f894</td>\n",
       "      <td>other</td>\n",
       "    </tr>\n",
       "    <tr>\n",
       "      <th>1</th>\n",
       "      <td>cf7eda61-9349-469f-ac27-e5b6f5ec475c</td>\n",
       "      <td>yandex</td>\n",
       "    </tr>\n",
       "    <tr>\n",
       "      <th>2</th>\n",
       "      <td>8c356c42-3ba9-4cb6-80b8-3f868d0192c3</td>\n",
       "      <td>yandex</td>\n",
       "    </tr>\n",
       "    <tr>\n",
       "      <th>3</th>\n",
       "      <td>d9b06b47-0f36-419b-bbb0-3533e582a6cb</td>\n",
       "      <td>other</td>\n",
       "    </tr>\n",
       "    <tr>\n",
       "      <th>4</th>\n",
       "      <td>f32e1e2a-3027-4693-b793-b7b3ff274439</td>\n",
       "      <td>google</td>\n",
       "    </tr>\n",
       "  </tbody>\n",
       "</table>\n",
       "</div>"
      ],
      "text/plain": [
       "                                user_id  source\n",
       "0  020292ab-89bc-4156-9acf-68bc2783f894   other\n",
       "1  cf7eda61-9349-469f-ac27-e5b6f5ec475c  yandex\n",
       "2  8c356c42-3ba9-4cb6-80b8-3f868d0192c3  yandex\n",
       "3  d9b06b47-0f36-419b-bbb0-3533e582a6cb   other\n",
       "4  f32e1e2a-3027-4693-b793-b7b3ff274439  google"
      ]
     },
     "execution_count": 18,
     "metadata": {},
     "output_type": "execute_result"
    }
   ],
   "source": [
    "df_sources = df_sources.rename(columns={'userId':'user_id'})\n",
    "df_sources.head()"
   ]
  },
  {
   "cell_type": "code",
   "execution_count": 19,
   "metadata": {},
   "outputs": [
    {
     "data": {
      "text/html": [
       "<div>\n",
       "<style scoped>\n",
       "    .dataframe tbody tr th:only-of-type {\n",
       "        vertical-align: middle;\n",
       "    }\n",
       "\n",
       "    .dataframe tbody tr th {\n",
       "        vertical-align: top;\n",
       "    }\n",
       "\n",
       "    .dataframe thead th {\n",
       "        text-align: right;\n",
       "    }\n",
       "</style>\n",
       "<table border=\"1\" class=\"dataframe\">\n",
       "  <thead>\n",
       "    <tr style=\"text-align: right;\">\n",
       "      <th></th>\n",
       "      <th>event_time</th>\n",
       "      <th>event_name</th>\n",
       "      <th>user_id</th>\n",
       "    </tr>\n",
       "  </thead>\n",
       "  <tbody>\n",
       "    <tr>\n",
       "      <th>0</th>\n",
       "      <td>2019-10-07 00:00:00.431357</td>\n",
       "      <td>advert_open</td>\n",
       "      <td>020292ab-89bc-4156-9acf-68bc2783f894</td>\n",
       "    </tr>\n",
       "    <tr>\n",
       "      <th>1</th>\n",
       "      <td>2019-10-07 00:00:01.236320</td>\n",
       "      <td>tips_show</td>\n",
       "      <td>020292ab-89bc-4156-9acf-68bc2783f894</td>\n",
       "    </tr>\n",
       "    <tr>\n",
       "      <th>2</th>\n",
       "      <td>2019-10-07 00:00:02.245341</td>\n",
       "      <td>tips_show</td>\n",
       "      <td>cf7eda61-9349-469f-ac27-e5b6f5ec475c</td>\n",
       "    </tr>\n",
       "    <tr>\n",
       "      <th>3</th>\n",
       "      <td>2019-10-07 00:00:07.039334</td>\n",
       "      <td>tips_show</td>\n",
       "      <td>020292ab-89bc-4156-9acf-68bc2783f894</td>\n",
       "    </tr>\n",
       "    <tr>\n",
       "      <th>4</th>\n",
       "      <td>2019-10-07 00:00:56.319813</td>\n",
       "      <td>advert_open</td>\n",
       "      <td>cf7eda61-9349-469f-ac27-e5b6f5ec475c</td>\n",
       "    </tr>\n",
       "  </tbody>\n",
       "</table>\n",
       "</div>"
      ],
      "text/plain": [
       "                   event_time   event_name  \\\n",
       "0  2019-10-07 00:00:00.431357  advert_open   \n",
       "1  2019-10-07 00:00:01.236320    tips_show   \n",
       "2  2019-10-07 00:00:02.245341    tips_show   \n",
       "3  2019-10-07 00:00:07.039334    tips_show   \n",
       "4  2019-10-07 00:00:56.319813  advert_open   \n",
       "\n",
       "                                user_id  \n",
       "0  020292ab-89bc-4156-9acf-68bc2783f894  \n",
       "1  020292ab-89bc-4156-9acf-68bc2783f894  \n",
       "2  cf7eda61-9349-469f-ac27-e5b6f5ec475c  \n",
       "3  020292ab-89bc-4156-9acf-68bc2783f894  \n",
       "4  cf7eda61-9349-469f-ac27-e5b6f5ec475c  "
      ]
     },
     "execution_count": 19,
     "metadata": {},
     "output_type": "execute_result"
    }
   ],
   "source": [
    "df.columns = [x.replace('.', '_') for x in df.columns]\n",
    "df.head()"
   ]
  },
  {
   "cell_type": "markdown",
   "metadata": {},
   "source": [
    "Посмотрю скрытые дубли по времени и айди"
   ]
  },
  {
   "cell_type": "code",
   "execution_count": 20,
   "metadata": {},
   "outputs": [
    {
     "data": {
      "text/plain": [
       "0"
      ]
     },
     "execution_count": 20,
     "metadata": {},
     "output_type": "execute_result"
    }
   ],
   "source": [
    "df[['event_time', 'user_id']].duplicated().sum()"
   ]
  },
  {
   "cell_type": "code",
   "execution_count": 21,
   "metadata": {},
   "outputs": [
    {
     "name": "stdout",
     "output_type": "stream",
     "text": [
      "<class 'pandas.core.frame.DataFrame'>\n",
      "RangeIndex: 74197 entries, 0 to 74196\n",
      "Data columns (total 3 columns):\n",
      " #   Column      Non-Null Count  Dtype         \n",
      "---  ------      --------------  -----         \n",
      " 0   event_time  74197 non-null  datetime64[ns]\n",
      " 1   event_name  74197 non-null  object        \n",
      " 2   user_id     74197 non-null  object        \n",
      "dtypes: datetime64[ns](1), object(2)\n",
      "memory usage: 1.7+ MB\n"
     ]
    }
   ],
   "source": [
    "df.event_time = pd.to_datetime(df['event_time']).round('1s')\n",
    "df.info()"
   ]
  },
  {
   "cell_type": "markdown",
   "metadata": {},
   "source": [
    "Сделаю отдельную колонку для даты"
   ]
  },
  {
   "cell_type": "code",
   "execution_count": 22,
   "metadata": {},
   "outputs": [
    {
     "data": {
      "text/html": [
       "<div>\n",
       "<style scoped>\n",
       "    .dataframe tbody tr th:only-of-type {\n",
       "        vertical-align: middle;\n",
       "    }\n",
       "\n",
       "    .dataframe tbody tr th {\n",
       "        vertical-align: top;\n",
       "    }\n",
       "\n",
       "    .dataframe thead th {\n",
       "        text-align: right;\n",
       "    }\n",
       "</style>\n",
       "<table border=\"1\" class=\"dataframe\">\n",
       "  <thead>\n",
       "    <tr style=\"text-align: right;\">\n",
       "      <th></th>\n",
       "      <th>event_time</th>\n",
       "      <th>event_name</th>\n",
       "      <th>user_id</th>\n",
       "      <th>event_date</th>\n",
       "    </tr>\n",
       "  </thead>\n",
       "  <tbody>\n",
       "    <tr>\n",
       "      <th>0</th>\n",
       "      <td>2019-10-07 00:00:00</td>\n",
       "      <td>advert_open</td>\n",
       "      <td>020292ab-89bc-4156-9acf-68bc2783f894</td>\n",
       "      <td>2019-10-07</td>\n",
       "    </tr>\n",
       "    <tr>\n",
       "      <th>1</th>\n",
       "      <td>2019-10-07 00:00:01</td>\n",
       "      <td>tips_show</td>\n",
       "      <td>020292ab-89bc-4156-9acf-68bc2783f894</td>\n",
       "      <td>2019-10-07</td>\n",
       "    </tr>\n",
       "    <tr>\n",
       "      <th>2</th>\n",
       "      <td>2019-10-07 00:00:02</td>\n",
       "      <td>tips_show</td>\n",
       "      <td>cf7eda61-9349-469f-ac27-e5b6f5ec475c</td>\n",
       "      <td>2019-10-07</td>\n",
       "    </tr>\n",
       "    <tr>\n",
       "      <th>3</th>\n",
       "      <td>2019-10-07 00:00:07</td>\n",
       "      <td>tips_show</td>\n",
       "      <td>020292ab-89bc-4156-9acf-68bc2783f894</td>\n",
       "      <td>2019-10-07</td>\n",
       "    </tr>\n",
       "    <tr>\n",
       "      <th>4</th>\n",
       "      <td>2019-10-07 00:00:56</td>\n",
       "      <td>advert_open</td>\n",
       "      <td>cf7eda61-9349-469f-ac27-e5b6f5ec475c</td>\n",
       "      <td>2019-10-07</td>\n",
       "    </tr>\n",
       "  </tbody>\n",
       "</table>\n",
       "</div>"
      ],
      "text/plain": [
       "           event_time   event_name                               user_id  \\\n",
       "0 2019-10-07 00:00:00  advert_open  020292ab-89bc-4156-9acf-68bc2783f894   \n",
       "1 2019-10-07 00:00:01    tips_show  020292ab-89bc-4156-9acf-68bc2783f894   \n",
       "2 2019-10-07 00:00:02    tips_show  cf7eda61-9349-469f-ac27-e5b6f5ec475c   \n",
       "3 2019-10-07 00:00:07    tips_show  020292ab-89bc-4156-9acf-68bc2783f894   \n",
       "4 2019-10-07 00:00:56  advert_open  cf7eda61-9349-469f-ac27-e5b6f5ec475c   \n",
       "\n",
       "  event_date  \n",
       "0 2019-10-07  \n",
       "1 2019-10-07  \n",
       "2 2019-10-07  \n",
       "3 2019-10-07  \n",
       "4 2019-10-07  "
      ]
     },
     "execution_count": 22,
     "metadata": {},
     "output_type": "execute_result"
    }
   ],
   "source": [
    "df['event_date'] = pd.to_datetime(df['event_time']).dt.date.astype('datetime64[ns]')\n",
    "df.head()"
   ]
  },
  {
   "cell_type": "markdown",
   "metadata": {},
   "source": [
    "# Шаг 3. Анализ данных"
   ]
  },
  {
   "cell_type": "markdown",
   "metadata": {},
   "source": [
    "## 1. Посмотреть начальные и конечные даты ДФ. Построить гистограмму зависимости кол-ва действий от времени. Есть ли какая-то периодичность изменения данных и что на это влияет."
   ]
  },
  {
   "cell_type": "code",
   "execution_count": 23,
   "metadata": {},
   "outputs": [
    {
     "name": "stdout",
     "output_type": "stream",
     "text": [
      "Дата начала ДФ: 2019-10-07 00:00:00\n",
      "Дата конца ДФ: 2019-11-03 23:58:13\n"
     ]
    }
   ],
   "source": [
    "print('Дата начала ДФ:', df.event_time.min())\n",
    "print('Дата конца ДФ:',df.event_time.max())"
   ]
  },
  {
   "cell_type": "code",
   "execution_count": null,
   "metadata": {},
   "outputs": [],
   "source": [
    "fig = px.histogram(df,\n",
    "                   x='event_time',\n",
    "                   nbins=500,\n",
    "                   title='Events per day')\n",
    "fig.update_layout(bargap=0.1)\n",
    "fig.update_xaxes(title_text='Day, time')\n",
    "fig.show()"
   ]
  },
  {
   "attachments": {},
   "cell_type": "markdown",
   "metadata": {},
   "source": [
    "![](\\newplot.png)"
   ]
  },
  {
   "cell_type": "markdown",
   "metadata": {},
   "source": [
    "Прослеживается четкая зависимость от времени суток - в ночное время активность снижается, в дневное возрастает. Судя по этому графику, сложно сказать, есть ли зависимость от дней недели, так как на первый взгляд, пиковые значения приходятся на рандомные даты.\n",
    "\n",
    "Далее добавлю столбец для дней недели и построю гистограмму и посмотрю на какие дни приходятся максимальные и минимальные значения."
   ]
  },
  {
   "cell_type": "code",
   "execution_count": 24,
   "metadata": {},
   "outputs": [
    {
     "data": {
      "text/html": [
       "<div>\n",
       "<style scoped>\n",
       "    .dataframe tbody tr th:only-of-type {\n",
       "        vertical-align: middle;\n",
       "    }\n",
       "\n",
       "    .dataframe tbody tr th {\n",
       "        vertical-align: top;\n",
       "    }\n",
       "\n",
       "    .dataframe thead th {\n",
       "        text-align: right;\n",
       "    }\n",
       "</style>\n",
       "<table border=\"1\" class=\"dataframe\">\n",
       "  <thead>\n",
       "    <tr style=\"text-align: right;\">\n",
       "      <th></th>\n",
       "      <th>event_time</th>\n",
       "      <th>event_name</th>\n",
       "      <th>user_id</th>\n",
       "      <th>event_date</th>\n",
       "      <th>weekday</th>\n",
       "    </tr>\n",
       "  </thead>\n",
       "  <tbody>\n",
       "    <tr>\n",
       "      <th>0</th>\n",
       "      <td>2019-10-07 00:00:00</td>\n",
       "      <td>advert_open</td>\n",
       "      <td>020292ab-89bc-4156-9acf-68bc2783f894</td>\n",
       "      <td>2019-10-07</td>\n",
       "      <td>0</td>\n",
       "    </tr>\n",
       "    <tr>\n",
       "      <th>1</th>\n",
       "      <td>2019-10-07 00:00:01</td>\n",
       "      <td>tips_show</td>\n",
       "      <td>020292ab-89bc-4156-9acf-68bc2783f894</td>\n",
       "      <td>2019-10-07</td>\n",
       "      <td>0</td>\n",
       "    </tr>\n",
       "    <tr>\n",
       "      <th>2</th>\n",
       "      <td>2019-10-07 00:00:02</td>\n",
       "      <td>tips_show</td>\n",
       "      <td>cf7eda61-9349-469f-ac27-e5b6f5ec475c</td>\n",
       "      <td>2019-10-07</td>\n",
       "      <td>0</td>\n",
       "    </tr>\n",
       "    <tr>\n",
       "      <th>3</th>\n",
       "      <td>2019-10-07 00:00:07</td>\n",
       "      <td>tips_show</td>\n",
       "      <td>020292ab-89bc-4156-9acf-68bc2783f894</td>\n",
       "      <td>2019-10-07</td>\n",
       "      <td>0</td>\n",
       "    </tr>\n",
       "    <tr>\n",
       "      <th>4</th>\n",
       "      <td>2019-10-07 00:00:56</td>\n",
       "      <td>advert_open</td>\n",
       "      <td>cf7eda61-9349-469f-ac27-e5b6f5ec475c</td>\n",
       "      <td>2019-10-07</td>\n",
       "      <td>0</td>\n",
       "    </tr>\n",
       "  </tbody>\n",
       "</table>\n",
       "</div>"
      ],
      "text/plain": [
       "           event_time   event_name                               user_id  \\\n",
       "0 2019-10-07 00:00:00  advert_open  020292ab-89bc-4156-9acf-68bc2783f894   \n",
       "1 2019-10-07 00:00:01    tips_show  020292ab-89bc-4156-9acf-68bc2783f894   \n",
       "2 2019-10-07 00:00:02    tips_show  cf7eda61-9349-469f-ac27-e5b6f5ec475c   \n",
       "3 2019-10-07 00:00:07    tips_show  020292ab-89bc-4156-9acf-68bc2783f894   \n",
       "4 2019-10-07 00:00:56  advert_open  cf7eda61-9349-469f-ac27-e5b6f5ec475c   \n",
       "\n",
       "  event_date  weekday  \n",
       "0 2019-10-07        0  \n",
       "1 2019-10-07        0  \n",
       "2 2019-10-07        0  \n",
       "3 2019-10-07        0  \n",
       "4 2019-10-07        0  "
      ]
     },
     "execution_count": 24,
     "metadata": {},
     "output_type": "execute_result"
    }
   ],
   "source": [
    "df['weekday'] = pd.to_datetime(df['event_time']).dt.weekday\n",
    "df.head()"
   ]
  },
  {
   "cell_type": "code",
   "execution_count": null,
   "metadata": {},
   "outputs": [],
   "source": [
    "fig = px.histogram(df,\n",
    "                   x='weekday',\n",
    "                   nbins=7,\n",
    "                   title='Events per weekday')\n",
    "fig.update_layout(bargap=0.1)\n",
    "fig.update_xaxes(title_text='Weekday')\n",
    "fig.show()"
   ]
  },
  {
   "attachments": {},
   "cell_type": "markdown",
   "metadata": {},
   "source": [
    "![](\\newplot2.png)"
   ]
  },
  {
   "cell_type": "markdown",
   "metadata": {},
   "source": [
    "Все более-менее ровно. Максимум приходится на понедельник (11,6к), потом в течении недели активность плавно снижается, но не критично и минимум достигается в субботу(9,1к). В воскресенье активность средняя, на уровне середины недели (10,5к). "
   ]
  },
  {
   "cell_type": "markdown",
   "metadata": {},
   "source": [
    "## 2. Посмотреть виды действий и заменить `contacts_show` на `show_contacts`, т.к. это одно и то же."
   ]
  },
  {
   "cell_type": "code",
   "execution_count": 25,
   "metadata": {},
   "outputs": [
    {
     "name": "stdout",
     "output_type": "stream",
     "text": [
      "Виды действий пользователей в приложении: ['advert_open' 'tips_show' 'map' 'contacts_show' 'search_4' 'search_5'\n",
      " 'tips_click' 'photos_show' 'search_1' 'search_2' 'search_3'\n",
      " 'favorites_add' 'contacts_call' 'search_6' 'search_7' 'show_contacts']\n"
     ]
    }
   ],
   "source": [
    "print('Виды действий пользователей в приложении:', df.event_name.unique())"
   ]
  },
  {
   "cell_type": "markdown",
   "metadata": {},
   "source": [
    "Виды действий:\n",
    "\n",
    "- `advert_open` — открыл карточки объявления,\n",
    "- `photos_show` — просмотрел фотографий в объявлении,\n",
    "- `tips_show` — увидел рекомендованные объявления,\n",
    "- `tips_click` — кликнул по рекомендованному объявлению,\n",
    "- `contacts_show` и `show_contacts` — посмотрел номер телефона,\n",
    "- `contacts_call` — позвонил по номеру из объявления,\n",
    "- `map` — открыл карту объявлений,\n",
    "- `search_1`—`search_7` — разные действия, связанные с поиском по сайту,\n",
    "- `favorites_add` — добавил объявление в избранное."
   ]
  },
  {
   "cell_type": "markdown",
   "metadata": {},
   "source": [
    "Так как `contacts_show` и `show_contacts` - это одно и то же действие, то заменю `contacts_show` на `show_contacts`, чтобы не плодить ненужных альтернатив."
   ]
  },
  {
   "cell_type": "code",
   "execution_count": 26,
   "metadata": {},
   "outputs": [],
   "source": [
    "df['event_name'] = df['event_name'].replace('contacts_show','show_contacts')"
   ]
  },
  {
   "cell_type": "markdown",
   "metadata": {},
   "source": [
    "## 3. Посмотреть общее кол-во пользователей и кол-во уникальных пользователей. Посмотреть как распределяются пользователи по видам действий, построить гистограммы для: общего кол-ва, для уникальных и процентное соотношение уникальных к общим. Сравнить их между собой. "
   ]
  },
  {
   "cell_type": "code",
   "execution_count": 27,
   "metadata": {},
   "outputs": [
    {
     "name": "stdout",
     "output_type": "stream",
     "text": [
      "Общее кол-во пользователей: 74197\n",
      "Кол-во уникальных пользователей: 4293\n"
     ]
    }
   ],
   "source": [
    "unique_users = len(df.user_id.unique())\n",
    "print('Общее кол-во пользователей:', len(df.user_id)) \n",
    "print('Кол-во уникальных пользователей:', unique_users)\n"
   ]
  },
  {
   "cell_type": "code",
   "execution_count": 28,
   "metadata": {},
   "outputs": [
    {
     "data": {
      "text/html": [
       "<div>\n",
       "<style scoped>\n",
       "    .dataframe tbody tr th:only-of-type {\n",
       "        vertical-align: middle;\n",
       "    }\n",
       "\n",
       "    .dataframe tbody tr th {\n",
       "        vertical-align: top;\n",
       "    }\n",
       "\n",
       "    .dataframe thead th {\n",
       "        text-align: right;\n",
       "    }\n",
       "</style>\n",
       "<table border=\"1\" class=\"dataframe\">\n",
       "  <thead>\n",
       "    <tr style=\"text-align: right;\">\n",
       "      <th></th>\n",
       "      <th>count</th>\n",
       "      <th>nunique</th>\n",
       "      <th>perc</th>\n",
       "    </tr>\n",
       "    <tr>\n",
       "      <th>event_name</th>\n",
       "      <th></th>\n",
       "      <th></th>\n",
       "      <th></th>\n",
       "    </tr>\n",
       "  </thead>\n",
       "  <tbody>\n",
       "    <tr>\n",
       "      <th>tips_show</th>\n",
       "      <td>40055</td>\n",
       "      <td>2801</td>\n",
       "      <td>7.0</td>\n",
       "    </tr>\n",
       "    <tr>\n",
       "      <th>photos_show</th>\n",
       "      <td>10012</td>\n",
       "      <td>1095</td>\n",
       "      <td>10.9</td>\n",
       "    </tr>\n",
       "    <tr>\n",
       "      <th>advert_open</th>\n",
       "      <td>6164</td>\n",
       "      <td>751</td>\n",
       "      <td>12.2</td>\n",
       "    </tr>\n",
       "    <tr>\n",
       "      <th>show_contacts</th>\n",
       "      <td>4529</td>\n",
       "      <td>981</td>\n",
       "      <td>21.7</td>\n",
       "    </tr>\n",
       "    <tr>\n",
       "      <th>map</th>\n",
       "      <td>3881</td>\n",
       "      <td>1456</td>\n",
       "      <td>37.5</td>\n",
       "    </tr>\n",
       "  </tbody>\n",
       "</table>\n",
       "</div>"
      ],
      "text/plain": [
       "               count  nunique  perc\n",
       "event_name                         \n",
       "tips_show      40055     2801   7.0\n",
       "photos_show    10012     1095  10.9\n",
       "advert_open     6164      751  12.2\n",
       "show_contacts   4529      981  21.7\n",
       "map             3881     1456  37.5"
      ]
     },
     "execution_count": 28,
     "metadata": {},
     "output_type": "execute_result"
    }
   ],
   "source": [
    "event_name = ( df.groupby('event_name')['user_id'].\n",
    "                 agg( ['count', 'nunique']).\n",
    "                 sort_values(by='count', ascending=False) )\n",
    "\n",
    "event_name['perc'] =  round(event_name['nunique'] *100 / event_name['count'], 1)               \n",
    "event_name.head()\n",
    "\n"
   ]
  },
  {
   "cell_type": "code",
   "execution_count": null,
   "metadata": {},
   "outputs": [],
   "source": [
    "fig = make_subplots(rows=1, cols=3, \n",
    "                    subplot_titles=('Count for all',\n",
    "                                    'Count for unique ID',\n",
    "                                    'Percent unique ID from all'\n",
    "                                   ))\n",
    "\n",
    "trace0 = go.Bar(name='Count',\n",
    "                x=event_name.index,\n",
    "                y=event_name['count']\n",
    "                )\n",
    "\n",
    "trace1 = go.Bar(name='Unique count',\n",
    "                x=event_name.index,\n",
    "                y=event_name['nunique']\n",
    "                )\n",
    "\n",
    "trace2 = go.Bar(name='Percent unique ID from all',\n",
    "                x=event_name.index,\n",
    "                y=event_name['perc']\n",
    "                )               \n",
    "\n",
    "fig.append_trace(trace0, 1, 1)\n",
    "fig.append_trace(trace1, 1, 2)\n",
    "fig.append_trace(trace2, 1, 3)\n",
    "\n",
    "fig.update_layout(title='Events',\n",
    "                  margin=dict(l=0, r=0, t=70, b=0),\n",
    "                 width = 1200,\n",
    "                 height = 400,\n",
    "                 bargap=0.05)\n",
    "                 #plot_bgcolor='#444')\n",
    "\n",
    "fig.update_yaxes(title_text='Count')\n",
    "fig['layout']['xaxis1'].update(title_text='Event name')\n",
    "fig['layout']['xaxis2'].update(title_text='Event name')\n",
    "fig['layout']['xaxis3'].update(title_text='Event name')\n",
    "fig['layout']['yaxis3'].update(title_text='Percent, %')\n",
    "\n",
    "fig.show()"
   ]
  },
  {
   "attachments": {},
   "cell_type": "markdown",
   "metadata": {},
   "source": [
    "![](\\newplot3.png)"
   ]
  },
  {
   "cell_type": "markdown",
   "metadata": {},
   "source": [
    "Чаще всего пользователи совершают следующие действия: \n",
    "\n",
    "- увидел рекомендованное объявление (40к)\n",
    "- просмотр фото (10к)\n",
    "- открыл карточку объявления (6,1к)\n",
    "- просмотр контактов (4,5-к)\n",
    "- открыл карту объявление (3,8к)\n",
    "- search_1 поиск по сайту (3,5к)\n",
    "\n",
    "Реже всего выполняются альтернативные поиски по сайту, звонки по номеру из объявления, переход к рекомендованному объявлению и добавление в избранное.\n",
    "\n",
    "Однако, если посмотреть процентное соотношение кол-ва уникальных пользователей к частоте совершения этого действия, то видно, что выше всего процент у search_2-7 (от 40 до 74%), что может указывать на то, что данные поиски по сайту не особо удобны (если вообще возможны) для простого скроллинга. Либо просто неудобны для пользователей и поэтому попробовав единожды, они больше к ним не возвращались.\n",
    "\n",
    "Так же довольно большой процент уникальных пользователей у просмотра карты (что скорее всего связано с поиском ближайших объявлений и сортировкой по дальности).\n",
    "\n",
    "А наименьший процент уникальных пользвателей (7%) у действия \"просмотр рекомендованного объявления\", что объясняется огромной частотой выполнения действия (40к) и не особо большим кол-вом уникальных пользователей (2800). Скорее всего это действие автоматическое, как, например, \"просмотр главной страницы\", \"обязательная реклама для бесплатных приложений\" и т.д.\n",
    "\n"
   ]
  },
  {
   "cell_type": "code",
   "execution_count": null,
   "metadata": {},
   "outputs": [],
   "source": [
    "fig = px.bar(event_name,\n",
    "             x=event_name.index,\n",
    "             y=event_name['nunique'] *100 / unique_users,\n",
    "             title='% of unique users / events name',\n",
    "             text=round(event_name['nunique'] *100 / unique_users))\n",
    "\n",
    "fig.update_layout(bargap=0.1)\n",
    "fig.update_xaxes(title_text='Events')\n",
    "fig.update_yaxes(title_text='%')\n",
    "fig.show()"
   ]
  },
  {
   "attachments": {},
   "cell_type": "markdown",
   "metadata": {},
   "source": [
    "![](\\newplot4.png)"
   ]
  },
  {
   "cell_type": "markdown",
   "metadata": {},
   "source": [
    "Если сравнить проценты уникальных пользователей, которые приходится на каждое действие, к уникальным пользователям всего ДФ, то на search_2, search_3, search_6 и search_7 приходится менее 4-6%, на search_4 - 11%, а больше всего у search_1 (18%) и search_5 (15%). \n",
    "\n",
    "Около 65% уникальных пользователей из всего дф просматривают рекомендованные объявления, а 34% смотрят карту. Проценты для остальных действий находятся в пределах 8-26%. "
   ]
  },
  {
   "cell_type": "markdown",
   "metadata": {},
   "source": [
    "## 4. Заменить все search_1-7 на просто search.\n",
    "## 5. Сделать все аналогичное пункту 3.3, только с учетом объединенных search_1-7 и сравнить.\n",
    "\n",
    "Так как на эти действия приходится наименьшее кол-во пользователей, а значит они не так сильно влияют на весь дф. А с учетом того, что это по сути одно действие - \"поиск по сайту\", то логичнее было бы их объединить."
   ]
  },
  {
   "cell_type": "code",
   "execution_count": 29,
   "metadata": {},
   "outputs": [],
   "source": [
    "for i in range(1, 8):\n",
    "    df['event_name'] = df['event_name'].replace(f'search_{i}','search')"
   ]
  },
  {
   "cell_type": "code",
   "execution_count": 30,
   "metadata": {},
   "outputs": [
    {
     "data": {
      "text/html": [
       "<div>\n",
       "<style scoped>\n",
       "    .dataframe tbody tr th:only-of-type {\n",
       "        vertical-align: middle;\n",
       "    }\n",
       "\n",
       "    .dataframe tbody tr th {\n",
       "        vertical-align: top;\n",
       "    }\n",
       "\n",
       "    .dataframe thead th {\n",
       "        text-align: right;\n",
       "    }\n",
       "</style>\n",
       "<table border=\"1\" class=\"dataframe\">\n",
       "  <thead>\n",
       "    <tr style=\"text-align: right;\">\n",
       "      <th></th>\n",
       "      <th>count</th>\n",
       "      <th>nunique</th>\n",
       "      <th>perc</th>\n",
       "    </tr>\n",
       "    <tr>\n",
       "      <th>event_name</th>\n",
       "      <th></th>\n",
       "      <th></th>\n",
       "      <th></th>\n",
       "    </tr>\n",
       "  </thead>\n",
       "  <tbody>\n",
       "    <tr>\n",
       "      <th>tips_show</th>\n",
       "      <td>40055</td>\n",
       "      <td>2801</td>\n",
       "      <td>7.0</td>\n",
       "    </tr>\n",
       "    <tr>\n",
       "      <th>photos_show</th>\n",
       "      <td>10012</td>\n",
       "      <td>1095</td>\n",
       "      <td>10.9</td>\n",
       "    </tr>\n",
       "    <tr>\n",
       "      <th>search</th>\n",
       "      <td>6784</td>\n",
       "      <td>1666</td>\n",
       "      <td>24.6</td>\n",
       "    </tr>\n",
       "    <tr>\n",
       "      <th>advert_open</th>\n",
       "      <td>6164</td>\n",
       "      <td>751</td>\n",
       "      <td>12.2</td>\n",
       "    </tr>\n",
       "    <tr>\n",
       "      <th>show_contacts</th>\n",
       "      <td>4529</td>\n",
       "      <td>981</td>\n",
       "      <td>21.7</td>\n",
       "    </tr>\n",
       "    <tr>\n",
       "      <th>map</th>\n",
       "      <td>3881</td>\n",
       "      <td>1456</td>\n",
       "      <td>37.5</td>\n",
       "    </tr>\n",
       "    <tr>\n",
       "      <th>favorites_add</th>\n",
       "      <td>1417</td>\n",
       "      <td>351</td>\n",
       "      <td>24.8</td>\n",
       "    </tr>\n",
       "    <tr>\n",
       "      <th>tips_click</th>\n",
       "      <td>814</td>\n",
       "      <td>322</td>\n",
       "      <td>39.6</td>\n",
       "    </tr>\n",
       "    <tr>\n",
       "      <th>contacts_call</th>\n",
       "      <td>541</td>\n",
       "      <td>213</td>\n",
       "      <td>39.4</td>\n",
       "    </tr>\n",
       "  </tbody>\n",
       "</table>\n",
       "</div>"
      ],
      "text/plain": [
       "               count  nunique  perc\n",
       "event_name                         \n",
       "tips_show      40055     2801   7.0\n",
       "photos_show    10012     1095  10.9\n",
       "search          6784     1666  24.6\n",
       "advert_open     6164      751  12.2\n",
       "show_contacts   4529      981  21.7\n",
       "map             3881     1456  37.5\n",
       "favorites_add   1417      351  24.8\n",
       "tips_click       814      322  39.6\n",
       "contacts_call    541      213  39.4"
      ]
     },
     "execution_count": 30,
     "metadata": {},
     "output_type": "execute_result"
    }
   ],
   "source": [
    "event_name = ( df.groupby('event_name')['user_id'].\n",
    "                 agg( ['count', 'nunique']).\n",
    "                 sort_values(by='count', ascending=False) )\n",
    "\n",
    "event_name['perc'] =  round(event_name['nunique'] *100 / event_name['count'], 1)               \n",
    "event_name.head(10)"
   ]
  },
  {
   "cell_type": "code",
   "execution_count": null,
   "metadata": {},
   "outputs": [],
   "source": [
    "fig = make_subplots(rows=1, cols=3, \n",
    "                    subplot_titles=('Count for all',\n",
    "                                    'Count for unique ID',\n",
    "                                    'Percent unique ID from all'\n",
    "                                   ))\n",
    "\n",
    "trace0 = go.Bar(name='Count',\n",
    "                x=event_name.index,\n",
    "                y=event_name['count']\n",
    "                )\n",
    "\n",
    "trace1 = go.Bar(name='Unique count',\n",
    "                x=event_name.index,\n",
    "                y=event_name['nunique']\n",
    "                )\n",
    "\n",
    "trace2 = go.Bar(name='Percent unique ID from all',\n",
    "                x=event_name.index,\n",
    "                y=event_name['perc']\n",
    "                )               \n",
    "\n",
    "fig.append_trace(trace0, 1, 1)\n",
    "fig.append_trace(trace1, 1, 2)\n",
    "fig.append_trace(trace2, 1, 3)\n",
    "\n",
    "fig.update_layout(title='Events',\n",
    "                  margin=dict(l=0, r=0, t=70, b=0),\n",
    "                 width = 1200,\n",
    "                 height = 400,\n",
    "                 bargap=0.05)\n",
    "                 #plot_bgcolor='#444')\n",
    "\n",
    "fig.update_yaxes(title_text='Count')\n",
    "fig['layout']['xaxis1'].update(title_text='Event name')\n",
    "fig['layout']['xaxis2'].update(title_text='Event name')\n",
    "fig['layout']['xaxis3'].update(title_text='Event name')\n",
    "fig['layout']['yaxis3'].update(title_text='Percent, %')\n",
    "\n",
    "fig.show()"
   ]
  },
  {
   "attachments": {},
   "cell_type": "markdown",
   "metadata": {},
   "source": [
    "![](\\newplot5.png)"
   ]
  },
  {
   "cell_type": "markdown",
   "metadata": {},
   "source": [
    "С учетом объединения поисков по сайту, суммарно на это действие стало приходиться около 6784 раз выполнений, сумма уникальных пользователей стала 1666, а процент усреднился и стал - 24,6%."
   ]
  },
  {
   "cell_type": "code",
   "execution_count": null,
   "metadata": {},
   "outputs": [],
   "source": [
    "fig = px.bar(event_name,\n",
    "             x=event_name.index,\n",
    "             y=event_name['nunique'] *100 / unique_users,\n",
    "             title='% of unique users / events name',\n",
    "             text=round(event_name['nunique'] *100 / unique_users))\n",
    "\n",
    "fig.update_layout(bargap=0.1)\n",
    "fig.update_xaxes(title_text='Events')\n",
    "fig.update_yaxes(title_text='%')\n",
    "fig.show()"
   ]
  },
  {
   "attachments": {},
   "cell_type": "markdown",
   "metadata": {},
   "source": [
    "![](\\newplot6.png)"
   ]
  },
  {
   "cell_type": "markdown",
   "metadata": {},
   "source": [
    "После объединения всех search, на это действие стало приходиться 39% от всех уникальных пользователей дф."
   ]
  },
  {
   "cell_type": "markdown",
   "metadata": {},
   "source": [
    "## 6. Выяснить, из каких источников пользователи приходят в приложение и посмотреть, как распределены источники по видам действий в приложении, мб есть какие-то аномалии (например, что посльзователи из какого-то источника выполняют только одно действие). Построить визуализацию."
   ]
  },
  {
   "cell_type": "code",
   "execution_count": 31,
   "metadata": {},
   "outputs": [
    {
     "name": "stdout",
     "output_type": "stream",
     "text": [
      "Кол-во уникальных пользователей в df_sources (с данными об источниках): 4293\n",
      "Кол-во уникальных пользователей в df (с данными о действиях): 4293\n"
     ]
    }
   ],
   "source": [
    "print('Кол-во уникальных пользователей в df_sources (с данными об источниках):', len(df_sources.user_id.unique()))\n",
    "print('Кол-во уникальных пользователей в df (с данными о действиях):', unique_users)"
   ]
  },
  {
   "cell_type": "markdown",
   "metadata": {},
   "source": [
    "Ну так как кол-во уникальных пользователей в обоих дф совпадает, то можно предположить, что данные а) не пропущены б) каждом айди из df соответствует айди из df_sources. Поэтому объединю эти две таблицы и как распределяются источники установки по выполненным действиям и нет ли там где атаки ботов или наоборот игнора какой-то функции. "
   ]
  },
  {
   "cell_type": "code",
   "execution_count": 32,
   "metadata": {},
   "outputs": [
    {
     "data": {
      "text/html": [
       "<div>\n",
       "<style scoped>\n",
       "    .dataframe tbody tr th:only-of-type {\n",
       "        vertical-align: middle;\n",
       "    }\n",
       "\n",
       "    .dataframe tbody tr th {\n",
       "        vertical-align: top;\n",
       "    }\n",
       "\n",
       "    .dataframe thead th {\n",
       "        text-align: right;\n",
       "    }\n",
       "</style>\n",
       "<table border=\"1\" class=\"dataframe\">\n",
       "  <thead>\n",
       "    <tr style=\"text-align: right;\">\n",
       "      <th></th>\n",
       "      <th>count</th>\n",
       "    </tr>\n",
       "    <tr>\n",
       "      <th>source</th>\n",
       "      <th></th>\n",
       "    </tr>\n",
       "  </thead>\n",
       "  <tbody>\n",
       "    <tr>\n",
       "      <th>yandex</th>\n",
       "      <td>1934</td>\n",
       "    </tr>\n",
       "    <tr>\n",
       "      <th>other</th>\n",
       "      <td>1230</td>\n",
       "    </tr>\n",
       "    <tr>\n",
       "      <th>google</th>\n",
       "      <td>1129</td>\n",
       "    </tr>\n",
       "  </tbody>\n",
       "</table>\n",
       "</div>"
      ],
      "text/plain": [
       "        count\n",
       "source       \n",
       "yandex   1934\n",
       "other    1230\n",
       "google   1129"
      ]
     },
     "execution_count": 32,
     "metadata": {},
     "output_type": "execute_result"
    }
   ],
   "source": [
    "df_sources.groupby('source')['user_id'].agg(['count']).sort_values(by='count', ascending=False)"
   ]
  },
  {
   "cell_type": "markdown",
   "metadata": {},
   "source": [
    "Больше всего пользователей пришло из яндекса (1934), потом из сторонних источников (1230), а на третьем месте гугл (1129)."
   ]
  },
  {
   "cell_type": "code",
   "execution_count": 33,
   "metadata": {},
   "outputs": [
    {
     "data": {
      "text/html": [
       "<div>\n",
       "<style scoped>\n",
       "    .dataframe tbody tr th:only-of-type {\n",
       "        vertical-align: middle;\n",
       "    }\n",
       "\n",
       "    .dataframe tbody tr th {\n",
       "        vertical-align: top;\n",
       "    }\n",
       "\n",
       "    .dataframe thead th {\n",
       "        text-align: right;\n",
       "    }\n",
       "</style>\n",
       "<table border=\"1\" class=\"dataframe\">\n",
       "  <thead>\n",
       "    <tr style=\"text-align: right;\">\n",
       "      <th></th>\n",
       "      <th>event_name</th>\n",
       "      <th>source</th>\n",
       "      <th>user_id</th>\n",
       "    </tr>\n",
       "  </thead>\n",
       "  <tbody>\n",
       "    <tr>\n",
       "      <th>26</th>\n",
       "      <td>tips_show</td>\n",
       "      <td>yandex</td>\n",
       "      <td>19952</td>\n",
       "    </tr>\n",
       "    <tr>\n",
       "      <th>25</th>\n",
       "      <td>tips_show</td>\n",
       "      <td>other</td>\n",
       "      <td>10125</td>\n",
       "    </tr>\n",
       "    <tr>\n",
       "      <th>24</th>\n",
       "      <td>tips_show</td>\n",
       "      <td>google</td>\n",
       "      <td>9978</td>\n",
       "    </tr>\n",
       "    <tr>\n",
       "      <th>14</th>\n",
       "      <td>photos_show</td>\n",
       "      <td>yandex</td>\n",
       "      <td>3684</td>\n",
       "    </tr>\n",
       "    <tr>\n",
       "      <th>12</th>\n",
       "      <td>photos_show</td>\n",
       "      <td>google</td>\n",
       "      <td>3466</td>\n",
       "    </tr>\n",
       "  </tbody>\n",
       "</table>\n",
       "</div>"
      ],
      "text/plain": [
       "     event_name  source  user_id\n",
       "26    tips_show  yandex    19952\n",
       "25    tips_show   other    10125\n",
       "24    tips_show  google     9978\n",
       "14  photos_show  yandex     3684\n",
       "12  photos_show  google     3466"
      ]
     },
     "execution_count": 33,
     "metadata": {},
     "output_type": "execute_result"
    }
   ],
   "source": [
    "df_sources_all = df[['user_id','event_name','event_date']].merge(df_sources, how='outer')\n",
    "\n",
    "df_sources_events = df_sources_all.groupby(['event_name', 'source'], as_index=False)['user_id'].count().sort_values(by='user_id', ascending=False)\n",
    "df_sources_events.head()"
   ]
  },
  {
   "cell_type": "code",
   "execution_count": null,
   "metadata": {},
   "outputs": [],
   "source": [
    "fig = px.bar(df_sources_events,\n",
    "             x='event_name',\n",
    "             y='user_id', \n",
    "             color='source',\n",
    "             title='Sources count / events')\n",
    "\n",
    "fig.update_yaxes(title_text='Count')\n",
    "fig.update_xaxes(title_text='Events')\n",
    "fig.update_layout(\n",
    "                   margin=dict(l=0, r=0, t=50, b=0),\n",
    "                   width = 900,\n",
    "                   height = 500)\n",
    "fig.show()"
   ]
  },
  {
   "attachments": {},
   "cell_type": "markdown",
   "metadata": {},
   "source": [
    "![](\\newplot7.png)"
   ]
  },
  {
   "cell_type": "markdown",
   "metadata": {},
   "source": [
    "Однозначно можно сказать, что в данном вопросе аномалий нет. Все источники пользователей распределены равномерно по действиям, нет аномалий по слишком большому или слишком малому соотношени. В целом доли распределены так же, как и общее число пользователей с источников. "
   ]
  },
  {
   "cell_type": "code",
   "execution_count": null,
   "metadata": {},
   "outputs": [],
   "source": [
    "df_2 = df_sources_all.groupby(['event_date', 'source'], as_index=False)['user_id'].count()\n",
    "\n",
    "fig = go.Figure()\n",
    "\n",
    "for i in df_sources_all.source.unique():\n",
    "    fig.add_trace(go.Scatter(x = df_2[df_2['source'] == i]['event_date'],\n",
    "                             y = df_2[df_2['source'] == i]['user_id'],\n",
    "                             mode = 'lines',\n",
    "                             name = i))\n",
    "\n",
    "\n",
    "fig.update_layout(title='Events count for sources',\n",
    "                   xaxis_title='Day',\n",
    "                   yaxis_title='Count')\n",
    "\n",
    "fig.show()"
   ]
  },
  {
   "attachments": {},
   "cell_type": "markdown",
   "metadata": {},
   "source": [
    "![](\\newplot8.png)"
   ]
  },
  {
   "cell_type": "markdown",
   "metadata": {},
   "source": [
    "Вот так распределены пользователи, пришедшие с определенных источников, то есть сказать, что есть какие-то скачки или провалы невозможно. Только если 2 ноября наблюдаются некоторые падения активности пользователей с яндеска и гугла. Опять же, данная проврка была проведена, чтобы исключить возможность бот-атак или других каких-либо аномалий в ДФ. "
   ]
  },
  {
   "cell_type": "markdown",
   "metadata": {},
   "source": [
    "## 7. Посмотреть как распределены виды действий по времени, мб есть аномалии. Построить график зависимостей частот действий от времени."
   ]
  },
  {
   "cell_type": "markdown",
   "metadata": {},
   "source": [
    "Посмотрю как распределены дейсвия пользователей по времени:\n",
    "\n",
    "- первый график для частоты\n",
    "- второй это зависимость уникальных айди от времени"
   ]
  },
  {
   "cell_type": "code",
   "execution_count": 34,
   "metadata": {},
   "outputs": [
    {
     "data": {
      "text/plain": [
       "MultiIndex([('event_date',        ''),\n",
       "            ('event_name',        ''),\n",
       "            (   'user_id',   'count'),\n",
       "            (   'user_id', 'nunique')],\n",
       "           )"
      ]
     },
     "execution_count": 34,
     "metadata": {},
     "output_type": "execute_result"
    }
   ],
   "source": [
    "df_1 = df.groupby(['event_date', 'event_name'], as_index=False).agg({'user_id':['count','nunique']})\n",
    "df_1.columns"
   ]
  },
  {
   "cell_type": "code",
   "execution_count": 35,
   "metadata": {},
   "outputs": [
    {
     "data": {
      "text/html": [
       "<div>\n",
       "<style scoped>\n",
       "    .dataframe tbody tr th:only-of-type {\n",
       "        vertical-align: middle;\n",
       "    }\n",
       "\n",
       "    .dataframe tbody tr th {\n",
       "        vertical-align: top;\n",
       "    }\n",
       "\n",
       "    .dataframe thead th {\n",
       "        text-align: right;\n",
       "    }\n",
       "</style>\n",
       "<table border=\"1\" class=\"dataframe\">\n",
       "  <thead>\n",
       "    <tr style=\"text-align: right;\">\n",
       "      <th></th>\n",
       "      <th>event_time</th>\n",
       "      <th>event_name</th>\n",
       "      <th>user_id</th>\n",
       "      <th>event_date</th>\n",
       "      <th>weekday</th>\n",
       "    </tr>\n",
       "  </thead>\n",
       "  <tbody>\n",
       "    <tr>\n",
       "      <th>0</th>\n",
       "      <td>2019-10-07 00:00:00</td>\n",
       "      <td>advert_open</td>\n",
       "      <td>020292ab-89bc-4156-9acf-68bc2783f894</td>\n",
       "      <td>2019-10-07</td>\n",
       "      <td>0</td>\n",
       "    </tr>\n",
       "    <tr>\n",
       "      <th>1</th>\n",
       "      <td>2019-10-07 00:00:01</td>\n",
       "      <td>tips_show</td>\n",
       "      <td>020292ab-89bc-4156-9acf-68bc2783f894</td>\n",
       "      <td>2019-10-07</td>\n",
       "      <td>0</td>\n",
       "    </tr>\n",
       "    <tr>\n",
       "      <th>2</th>\n",
       "      <td>2019-10-07 00:00:02</td>\n",
       "      <td>tips_show</td>\n",
       "      <td>cf7eda61-9349-469f-ac27-e5b6f5ec475c</td>\n",
       "      <td>2019-10-07</td>\n",
       "      <td>0</td>\n",
       "    </tr>\n",
       "    <tr>\n",
       "      <th>3</th>\n",
       "      <td>2019-10-07 00:00:07</td>\n",
       "      <td>tips_show</td>\n",
       "      <td>020292ab-89bc-4156-9acf-68bc2783f894</td>\n",
       "      <td>2019-10-07</td>\n",
       "      <td>0</td>\n",
       "    </tr>\n",
       "    <tr>\n",
       "      <th>4</th>\n",
       "      <td>2019-10-07 00:00:56</td>\n",
       "      <td>advert_open</td>\n",
       "      <td>cf7eda61-9349-469f-ac27-e5b6f5ec475c</td>\n",
       "      <td>2019-10-07</td>\n",
       "      <td>0</td>\n",
       "    </tr>\n",
       "  </tbody>\n",
       "</table>\n",
       "</div>"
      ],
      "text/plain": [
       "           event_time   event_name                               user_id  \\\n",
       "0 2019-10-07 00:00:00  advert_open  020292ab-89bc-4156-9acf-68bc2783f894   \n",
       "1 2019-10-07 00:00:01    tips_show  020292ab-89bc-4156-9acf-68bc2783f894   \n",
       "2 2019-10-07 00:00:02    tips_show  cf7eda61-9349-469f-ac27-e5b6f5ec475c   \n",
       "3 2019-10-07 00:00:07    tips_show  020292ab-89bc-4156-9acf-68bc2783f894   \n",
       "4 2019-10-07 00:00:56  advert_open  cf7eda61-9349-469f-ac27-e5b6f5ec475c   \n",
       "\n",
       "  event_date  weekday  \n",
       "0 2019-10-07        0  \n",
       "1 2019-10-07        0  \n",
       "2 2019-10-07        0  \n",
       "3 2019-10-07        0  \n",
       "4 2019-10-07        0  "
      ]
     },
     "execution_count": 35,
     "metadata": {},
     "output_type": "execute_result"
    }
   ],
   "source": [
    "df.head()"
   ]
  },
  {
   "cell_type": "code",
   "execution_count": null,
   "metadata": {},
   "outputs": [],
   "source": [
    "fig = make_subplots(rows=2, cols=1, \n",
    "                    subplot_titles=('Count for all',\n",
    "                                    'Count for unique ID'\n",
    "                                   ))\n",
    "\n",
    "for i in df.event_name.unique():\n",
    "    trace0 = go.Scatter(x = df_1[df_1['event_name'] == i]['event_date'],\n",
    "                             y = df_1[df_1['event_name'] == i]['user_id','count'],\n",
    "                             mode = 'lines',\n",
    "                             name = i)\n",
    "    fig.append_trace(trace0, 1, 1)\n",
    "\n",
    "\n",
    "    trace1 = go.Scatter(x = df_1[df_1['event_name'] == i]['event_date'],\n",
    "                             y = df_1[df_1['event_name'] == i]['user_id','nunique'],\n",
    "                             mode = 'lines',\n",
    "                             name = i)\n",
    "    fig.append_trace(trace1, 2, 1)\n",
    "    \n",
    "\n",
    "\n",
    "fig.update_layout(title='Counts',\n",
    "                   margin=dict(l=0, r=0, t=50, b=0),\n",
    "                   width = 900,\n",
    "                   height = 700)\n",
    "\n",
    "fig.update_yaxes(title_text='Count')\n",
    "fig['layout']['xaxis1'].update(title_text='Day')\n",
    "fig['layout']['xaxis2'].update(title_text='Day')\n",
    "\n",
    "fig.show()"
   ]
  },
  {
   "attachments": {},
   "cell_type": "markdown",
   "metadata": {},
   "source": [
    "![](\\newplot9.png)"
   ]
  },
  {
   "cell_type": "markdown",
   "metadata": {},
   "source": [
    "На первом графике видно, что действие - просмотр рекомендованного объявления - чаще всего выполнялось на всех промежутке времени. Так же его выполняло и наибольшее кол-во уникальных пользователей.\n",
    "\n",
    "Судя по графикам, все действия распределены равномерно и нет никаких скачков, падений. Так же  и нет роста или уменьшения кол-ва пользователей с течением времени почти для всех действий, кроме просмотра фото - на начало дф и первые несколько дней это действие выполняли 36-47 пользователей, на конец ДФ их количество выросло до 70-85. "
   ]
  },
  {
   "cell_type": "markdown",
   "metadata": {},
   "source": [
    "## 8. Дф для действия `show_contacts`\n",
    "\n",
    "Так как нам надо проверить связь целевого события (проверка контактов) от остальных действий, то нужно сделать срез по дф для действия `show_contacts`, получить уникальные user_id и по ним сделать срез по всему дф. И посмотреть как распределены остальные действия для этих юзеров. Построить гистограммы для общего кол-ва, для уникальных и для процентного соотношения уникальных к общим. "
   ]
  },
  {
   "cell_type": "code",
   "execution_count": 36,
   "metadata": {},
   "outputs": [],
   "source": [
    "user_id_show_contacts = list(df.query('event_name == \"show_contacts\"').user_id.unique())"
   ]
  },
  {
   "cell_type": "code",
   "execution_count": 37,
   "metadata": {},
   "outputs": [
    {
     "data": {
      "text/html": [
       "<div>\n",
       "<style scoped>\n",
       "    .dataframe tbody tr th:only-of-type {\n",
       "        vertical-align: middle;\n",
       "    }\n",
       "\n",
       "    .dataframe tbody tr th {\n",
       "        vertical-align: top;\n",
       "    }\n",
       "\n",
       "    .dataframe thead th {\n",
       "        text-align: right;\n",
       "    }\n",
       "</style>\n",
       "<table border=\"1\" class=\"dataframe\">\n",
       "  <thead>\n",
       "    <tr style=\"text-align: right;\">\n",
       "      <th></th>\n",
       "      <th>event_time</th>\n",
       "      <th>event_name</th>\n",
       "      <th>user_id</th>\n",
       "      <th>event_date</th>\n",
       "      <th>weekday</th>\n",
       "    </tr>\n",
       "  </thead>\n",
       "  <tbody>\n",
       "    <tr>\n",
       "      <th>12</th>\n",
       "      <td>2019-10-07 00:02:07</td>\n",
       "      <td>tips_show</td>\n",
       "      <td>8c356c42-3ba9-4cb6-80b8-3f868d0192c3</td>\n",
       "      <td>2019-10-07</td>\n",
       "      <td>0</td>\n",
       "    </tr>\n",
       "    <tr>\n",
       "      <th>24</th>\n",
       "      <td>2019-10-07 00:05:16</td>\n",
       "      <td>show_contacts</td>\n",
       "      <td>8c356c42-3ba9-4cb6-80b8-3f868d0192c3</td>\n",
       "      <td>2019-10-07</td>\n",
       "      <td>0</td>\n",
       "    </tr>\n",
       "    <tr>\n",
       "      <th>28</th>\n",
       "      <td>2019-10-07 00:06:01</td>\n",
       "      <td>tips_show</td>\n",
       "      <td>8c356c42-3ba9-4cb6-80b8-3f868d0192c3</td>\n",
       "      <td>2019-10-07</td>\n",
       "      <td>0</td>\n",
       "    </tr>\n",
       "    <tr>\n",
       "      <th>32</th>\n",
       "      <td>2019-10-07 00:06:56</td>\n",
       "      <td>tips_show</td>\n",
       "      <td>8c356c42-3ba9-4cb6-80b8-3f868d0192c3</td>\n",
       "      <td>2019-10-07</td>\n",
       "      <td>0</td>\n",
       "    </tr>\n",
       "    <tr>\n",
       "      <th>35</th>\n",
       "      <td>2019-10-07 00:09:25</td>\n",
       "      <td>tips_show</td>\n",
       "      <td>8c356c42-3ba9-4cb6-80b8-3f868d0192c3</td>\n",
       "      <td>2019-10-07</td>\n",
       "      <td>0</td>\n",
       "    </tr>\n",
       "  </tbody>\n",
       "</table>\n",
       "</div>"
      ],
      "text/plain": [
       "            event_time     event_name                               user_id  \\\n",
       "12 2019-10-07 00:02:07      tips_show  8c356c42-3ba9-4cb6-80b8-3f868d0192c3   \n",
       "24 2019-10-07 00:05:16  show_contacts  8c356c42-3ba9-4cb6-80b8-3f868d0192c3   \n",
       "28 2019-10-07 00:06:01      tips_show  8c356c42-3ba9-4cb6-80b8-3f868d0192c3   \n",
       "32 2019-10-07 00:06:56      tips_show  8c356c42-3ba9-4cb6-80b8-3f868d0192c3   \n",
       "35 2019-10-07 00:09:25      tips_show  8c356c42-3ba9-4cb6-80b8-3f868d0192c3   \n",
       "\n",
       "   event_date  weekday  \n",
       "12 2019-10-07        0  \n",
       "24 2019-10-07        0  \n",
       "28 2019-10-07        0  \n",
       "32 2019-10-07        0  \n",
       "35 2019-10-07        0  "
      ]
     },
     "execution_count": 37,
     "metadata": {},
     "output_type": "execute_result"
    }
   ],
   "source": [
    "df_contacts_events = df.query('user_id == @user_id_show_contacts')\n",
    "df_contacts_events.head()"
   ]
  },
  {
   "cell_type": "code",
   "execution_count": 38,
   "metadata": {},
   "outputs": [
    {
     "data": {
      "text/html": [
       "<div>\n",
       "<style scoped>\n",
       "    .dataframe tbody tr th:only-of-type {\n",
       "        vertical-align: middle;\n",
       "    }\n",
       "\n",
       "    .dataframe tbody tr th {\n",
       "        vertical-align: top;\n",
       "    }\n",
       "\n",
       "    .dataframe thead th {\n",
       "        text-align: right;\n",
       "    }\n",
       "</style>\n",
       "<table border=\"1\" class=\"dataframe\">\n",
       "  <thead>\n",
       "    <tr style=\"text-align: right;\">\n",
       "      <th></th>\n",
       "      <th>count</th>\n",
       "      <th>nunique</th>\n",
       "      <th>perc</th>\n",
       "    </tr>\n",
       "    <tr>\n",
       "      <th>event_name</th>\n",
       "      <th></th>\n",
       "      <th></th>\n",
       "      <th></th>\n",
       "    </tr>\n",
       "  </thead>\n",
       "  <tbody>\n",
       "    <tr>\n",
       "      <th>tips_show</th>\n",
       "      <td>12768</td>\n",
       "      <td>516</td>\n",
       "      <td>4.0</td>\n",
       "    </tr>\n",
       "    <tr>\n",
       "      <th>show_contacts</th>\n",
       "      <td>4529</td>\n",
       "      <td>981</td>\n",
       "      <td>21.7</td>\n",
       "    </tr>\n",
       "    <tr>\n",
       "      <th>photos_show</th>\n",
       "      <td>3828</td>\n",
       "      <td>339</td>\n",
       "      <td>8.9</td>\n",
       "    </tr>\n",
       "    <tr>\n",
       "      <th>search</th>\n",
       "      <td>2084</td>\n",
       "      <td>377</td>\n",
       "      <td>18.1</td>\n",
       "    </tr>\n",
       "    <tr>\n",
       "      <th>advert_open</th>\n",
       "      <td>1589</td>\n",
       "      <td>138</td>\n",
       "      <td>8.7</td>\n",
       "    </tr>\n",
       "    <tr>\n",
       "      <th>map</th>\n",
       "      <td>1101</td>\n",
       "      <td>289</td>\n",
       "      <td>26.2</td>\n",
       "    </tr>\n",
       "    <tr>\n",
       "      <th>contacts_call</th>\n",
       "      <td>541</td>\n",
       "      <td>213</td>\n",
       "      <td>39.4</td>\n",
       "    </tr>\n",
       "    <tr>\n",
       "      <th>favorites_add</th>\n",
       "      <td>424</td>\n",
       "      <td>136</td>\n",
       "      <td>32.1</td>\n",
       "    </tr>\n",
       "    <tr>\n",
       "      <th>tips_click</th>\n",
       "      <td>333</td>\n",
       "      <td>100</td>\n",
       "      <td>30.0</td>\n",
       "    </tr>\n",
       "  </tbody>\n",
       "</table>\n",
       "</div>"
      ],
      "text/plain": [
       "               count  nunique  perc\n",
       "event_name                         \n",
       "tips_show      12768      516   4.0\n",
       "show_contacts   4529      981  21.7\n",
       "photos_show     3828      339   8.9\n",
       "search          2084      377  18.1\n",
       "advert_open     1589      138   8.7\n",
       "map             1101      289  26.2\n",
       "contacts_call    541      213  39.4\n",
       "favorites_add    424      136  32.1\n",
       "tips_click       333      100  30.0"
      ]
     },
     "execution_count": 38,
     "metadata": {},
     "output_type": "execute_result"
    }
   ],
   "source": [
    "event_name = ( df_contacts_events.groupby('event_name')['user_id'].\n",
    "                 agg( ['count', 'nunique']).\n",
    "                 sort_values(by='count', ascending=False) )\n",
    "\n",
    "event_name['perc'] =  round(event_name['nunique'] *100 / event_name['count'], 1)               \n",
    "event_name.head(10)"
   ]
  },
  {
   "cell_type": "code",
   "execution_count": null,
   "metadata": {},
   "outputs": [],
   "source": [
    "fig = make_subplots(rows=1, cols=3, \n",
    "                    subplot_titles=('Count for all',\n",
    "                                    'Count for unique ID',\n",
    "                                    'Percent unique ID from all'\n",
    "                                   ))\n",
    "\n",
    "trace0 = go.Bar(name='Count',\n",
    "                x=event_name.index,\n",
    "                y=event_name['count']\n",
    "                )\n",
    "\n",
    "trace1 = go.Bar(name='Unique count',\n",
    "                x=event_name.index,\n",
    "                y=event_name['nunique']\n",
    "                )\n",
    "\n",
    "trace2 = go.Bar(name='Percent unique ID from all',\n",
    "                x=event_name.index,\n",
    "                y=event_name['perc']\n",
    "                )               \n",
    "\n",
    "fig.append_trace(trace0, 1, 1)\n",
    "fig.append_trace(trace1, 1, 2)\n",
    "fig.append_trace(trace2, 1, 3)\n",
    "\n",
    "fig.update_layout(title='Events',\n",
    "                  margin=dict(l=0, r=0, t=70, b=0),\n",
    "                 width = 1200,\n",
    "                 height = 400,\n",
    "                 bargap=0.05)\n",
    "                 #plot_bgcolor='#444')\n",
    "\n",
    "fig.update_yaxes(title_text='Count')\n",
    "fig['layout']['xaxis1'].update(title_text='Event name')\n",
    "fig['layout']['xaxis2'].update(title_text='Event name')\n",
    "fig['layout']['xaxis3'].update(title_text='Event name')\n",
    "fig['layout']['yaxis3'].update(title_text='Percent, %')\n",
    "\n",
    "fig.show()"
   ]
  },
  {
   "attachments": {},
   "cell_type": "markdown",
   "metadata": {},
   "source": [
    "![](\\newplot10.png)"
   ]
  },
  {
   "cell_type": "markdown",
   "metadata": {},
   "source": [
    "Если проанализировать действия пользователей, которые хоть раз смотрели контакты, то видно, что помимо основного целевого действия, превалируют - просмотр рекомендованного объявления (12,7к всего и 516 уникальных пользователей), поиск (2084 и 377), просмотр фото (3828 и 339) и просмотр карты (1101 и 289). "
   ]
  },
  {
   "cell_type": "code",
   "execution_count": null,
   "metadata": {},
   "outputs": [],
   "source": [
    "fig = px.bar(event_name,\n",
    "             x=event_name.index,\n",
    "             y=event_name['nunique'] *100 / unique_users,\n",
    "             title='% of unique users / events name',\n",
    "             text=round(event_name['nunique'] *100 / unique_users))\n",
    "\n",
    "fig.update_layout(bargap=0.1)\n",
    "fig.update_xaxes(title_text='Events')\n",
    "fig.update_yaxes(title_text='%')\n",
    "fig.show()"
   ]
  },
  {
   "attachments": {},
   "cell_type": "markdown",
   "metadata": {},
   "source": [
    "![](\\newplot11.png)"
   ]
  },
  {
   "cell_type": "markdown",
   "metadata": {},
   "source": [
    "Наибольший процент уникальных пользователей относительно всего дф, приходится на: просмотр контактов (23%), просмотр рекомендованного объявления (12%). Все остальные действия занимают долю меньше 10%. "
   ]
  },
  {
   "cell_type": "markdown",
   "metadata": {},
   "source": [
    "## 9. Построить график зависимостей ДФ для целевого действия из пункта 3.8 от времени."
   ]
  },
  {
   "cell_type": "code",
   "execution_count": 39,
   "metadata": {},
   "outputs": [
    {
     "data": {
      "text/html": [
       "<div>\n",
       "<style scoped>\n",
       "    .dataframe tbody tr th:only-of-type {\n",
       "        vertical-align: middle;\n",
       "    }\n",
       "\n",
       "    .dataframe tbody tr th {\n",
       "        vertical-align: top;\n",
       "    }\n",
       "\n",
       "    .dataframe thead tr th {\n",
       "        text-align: left;\n",
       "    }\n",
       "</style>\n",
       "<table border=\"1\" class=\"dataframe\">\n",
       "  <thead>\n",
       "    <tr>\n",
       "      <th></th>\n",
       "      <th>event_date</th>\n",
       "      <th>event_name</th>\n",
       "      <th colspan=\"2\" halign=\"left\">user_id</th>\n",
       "    </tr>\n",
       "    <tr>\n",
       "      <th></th>\n",
       "      <th></th>\n",
       "      <th></th>\n",
       "      <th>count</th>\n",
       "      <th>nunique</th>\n",
       "    </tr>\n",
       "  </thead>\n",
       "  <tbody>\n",
       "    <tr>\n",
       "      <th>0</th>\n",
       "      <td>2019-10-07</td>\n",
       "      <td>advert_open</td>\n",
       "      <td>11</td>\n",
       "      <td>4</td>\n",
       "    </tr>\n",
       "    <tr>\n",
       "      <th>1</th>\n",
       "      <td>2019-10-07</td>\n",
       "      <td>contacts_call</td>\n",
       "      <td>7</td>\n",
       "      <td>6</td>\n",
       "    </tr>\n",
       "    <tr>\n",
       "      <th>2</th>\n",
       "      <td>2019-10-07</td>\n",
       "      <td>favorites_add</td>\n",
       "      <td>19</td>\n",
       "      <td>3</td>\n",
       "    </tr>\n",
       "    <tr>\n",
       "      <th>3</th>\n",
       "      <td>2019-10-07</td>\n",
       "      <td>map</td>\n",
       "      <td>44</td>\n",
       "      <td>9</td>\n",
       "    </tr>\n",
       "    <tr>\n",
       "      <th>4</th>\n",
       "      <td>2019-10-07</td>\n",
       "      <td>photos_show</td>\n",
       "      <td>67</td>\n",
       "      <td>13</td>\n",
       "    </tr>\n",
       "  </tbody>\n",
       "</table>\n",
       "</div>"
      ],
      "text/plain": [
       "  event_date     event_name user_id        \n",
       "                              count nunique\n",
       "0 2019-10-07    advert_open      11       4\n",
       "1 2019-10-07  contacts_call       7       6\n",
       "2 2019-10-07  favorites_add      19       3\n",
       "3 2019-10-07            map      44       9\n",
       "4 2019-10-07    photos_show      67      13"
      ]
     },
     "execution_count": 39,
     "metadata": {},
     "output_type": "execute_result"
    }
   ],
   "source": [
    "df_2 = df_contacts_events.groupby(['event_date', 'event_name'], as_index=False).agg({'user_id':['count','nunique']})\n",
    "df_2.head()"
   ]
  },
  {
   "cell_type": "code",
   "execution_count": null,
   "metadata": {},
   "outputs": [],
   "source": [
    "fig = make_subplots(rows=2, cols=1, \n",
    "                    subplot_titles=('Count for all',\n",
    "                                    'Count for unique ID'\n",
    "                                   ))\n",
    "\n",
    "for i in df.event_name.unique():\n",
    "    trace0 = go.Scatter(x = df_2[df_2['event_name'] == i]['event_date'],\n",
    "                             y = df_2[df_2['event_name'] == i]['user_id','count'],\n",
    "                             mode = 'lines',\n",
    "                             name = i)\n",
    "    fig.append_trace(trace0, 1, 1)\n",
    "\n",
    "\n",
    "    trace1 = go.Scatter(x = df_2[df_2['event_name'] == i]['event_date'],\n",
    "                             y = df_2[df_2['event_name'] == i]['user_id','nunique'],\n",
    "                             mode = 'lines',\n",
    "                             name = i)\n",
    "    fig.append_trace(trace1, 2, 1)\n",
    "    \n",
    "\n",
    "\n",
    "fig.update_layout(title='Counts',\n",
    "                   margin=dict(l=0, r=0, t=50, b=0),\n",
    "                   width = 900,\n",
    "                   height = 700)\n",
    "\n",
    "fig.update_yaxes(title_text='Count')\n",
    "fig['layout']['xaxis1'].update(title_text='Day')\n",
    "fig['layout']['xaxis2'].update(title_text='Day')\n",
    "\n",
    "fig.show()"
   ]
  },
  {
   "attachments": {},
   "cell_type": "markdown",
   "metadata": {},
   "source": [
    "![](\\newplot12.png)"
   ]
  },
  {
   "cell_type": "markdown",
   "metadata": {},
   "source": [
    "Если построить график аналогичный графику из 3.7, но для дф для просмотра контактов, то видно, что суммарное кол-во просмотра рекомендованных объявлений уже не настолько больше, чем в пункте 3.7. Уровень всех действий более-менее сравнялся. И распределение действий уникальных пользователей тоже сравнялось.\n",
    "\n",
    "На нижнем графике хорошо видно, что с течением времени, кол-во уникальных пользователей, которые пользовались функциями \"просмотр фото\", \"просмотр контактов\", \"поиск\" только росло, зато для \"просмотра карты\" в последнии 5 дней резко упало. "
   ]
  },
  {
   "cell_type": "markdown",
   "metadata": {},
   "source": [
    "## 10. Разбить время пользователей на сессии (либо на 20-30 минут, либо на суточное разбиение). На основе введеленных сессий, посмотреть сценарии взаимодействия с приложением, выделить несколько основных. Для нескольких сценариев посмотреть их время жизни."
   ]
  },
  {
   "cell_type": "markdown",
   "metadata": {},
   "source": [
    "Так как наше целевое действие - это просмотр контактов, то и сценарии я буду строить на основе ДФ, со срезом по этим действиям. То есть по пользователям, которые хоть раз смотрели контакты, но совсем не обязательно, что оно попадет в каждый сценарии.  "
   ]
  },
  {
   "cell_type": "code",
   "execution_count": 40,
   "metadata": {},
   "outputs": [
    {
     "data": {
      "text/html": [
       "<div>\n",
       "<style scoped>\n",
       "    .dataframe tbody tr th:only-of-type {\n",
       "        vertical-align: middle;\n",
       "    }\n",
       "\n",
       "    .dataframe tbody tr th {\n",
       "        vertical-align: top;\n",
       "    }\n",
       "\n",
       "    .dataframe thead th {\n",
       "        text-align: right;\n",
       "    }\n",
       "</style>\n",
       "<table border=\"1\" class=\"dataframe\">\n",
       "  <thead>\n",
       "    <tr style=\"text-align: right;\">\n",
       "      <th></th>\n",
       "      <th>event_time</th>\n",
       "      <th>event_name</th>\n",
       "      <th>user_id</th>\n",
       "      <th>event_date</th>\n",
       "      <th>weekday</th>\n",
       "    </tr>\n",
       "  </thead>\n",
       "  <tbody>\n",
       "    <tr>\n",
       "      <th>31632</th>\n",
       "      <td>2019-10-19 21:34:34</td>\n",
       "      <td>search</td>\n",
       "      <td>00157779-810c-4498-9e05-a1e9e3cedf93</td>\n",
       "      <td>2019-10-19</td>\n",
       "      <td>5</td>\n",
       "    </tr>\n",
       "    <tr>\n",
       "      <th>31636</th>\n",
       "      <td>2019-10-19 21:35:19</td>\n",
       "      <td>search</td>\n",
       "      <td>00157779-810c-4498-9e05-a1e9e3cedf93</td>\n",
       "      <td>2019-10-19</td>\n",
       "      <td>5</td>\n",
       "    </tr>\n",
       "    <tr>\n",
       "      <th>31640</th>\n",
       "      <td>2019-10-19 21:36:44</td>\n",
       "      <td>search</td>\n",
       "      <td>00157779-810c-4498-9e05-a1e9e3cedf93</td>\n",
       "      <td>2019-10-19</td>\n",
       "      <td>5</td>\n",
       "    </tr>\n",
       "    <tr>\n",
       "      <th>31655</th>\n",
       "      <td>2019-10-19 21:40:39</td>\n",
       "      <td>photos_show</td>\n",
       "      <td>00157779-810c-4498-9e05-a1e9e3cedf93</td>\n",
       "      <td>2019-10-19</td>\n",
       "      <td>5</td>\n",
       "    </tr>\n",
       "    <tr>\n",
       "      <th>31659</th>\n",
       "      <td>2019-10-19 21:42:14</td>\n",
       "      <td>photos_show</td>\n",
       "      <td>00157779-810c-4498-9e05-a1e9e3cedf93</td>\n",
       "      <td>2019-10-19</td>\n",
       "      <td>5</td>\n",
       "    </tr>\n",
       "  </tbody>\n",
       "</table>\n",
       "</div>"
      ],
      "text/plain": [
       "               event_time   event_name                               user_id  \\\n",
       "31632 2019-10-19 21:34:34       search  00157779-810c-4498-9e05-a1e9e3cedf93   \n",
       "31636 2019-10-19 21:35:19       search  00157779-810c-4498-9e05-a1e9e3cedf93   \n",
       "31640 2019-10-19 21:36:44       search  00157779-810c-4498-9e05-a1e9e3cedf93   \n",
       "31655 2019-10-19 21:40:39  photos_show  00157779-810c-4498-9e05-a1e9e3cedf93   \n",
       "31659 2019-10-19 21:42:14  photos_show  00157779-810c-4498-9e05-a1e9e3cedf93   \n",
       "\n",
       "      event_date  weekday  \n",
       "31632 2019-10-19        5  \n",
       "31636 2019-10-19        5  \n",
       "31640 2019-10-19        5  \n",
       "31655 2019-10-19        5  \n",
       "31659 2019-10-19        5  "
      ]
     },
     "execution_count": 40,
     "metadata": {},
     "output_type": "execute_result"
    }
   ],
   "source": [
    "df_contacts_events = df_contacts_events.sort_values(by=['user_id', 'event_time'])\n",
    "df_contacts_events.head()"
   ]
  },
  {
   "cell_type": "code",
   "execution_count": 41,
   "metadata": {},
   "outputs": [
    {
     "data": {
      "text/plain": [
       "event_date  user_id                             \n",
       "2019-10-13  c140f88a-c544-4ce6-a6bd-578a1a0d1b18    169\n",
       "2019-10-14  955bd7b0-8da8-49df-adee-546b59347634    119\n",
       "2019-10-29  abdcbe3c-221b-4f59-afd9-bf9ca78f7e4c    118\n",
       "2019-10-12  c140f88a-c544-4ce6-a6bd-578a1a0d1b18    114\n",
       "2019-10-28  e13f9f32-7ae3-4204-8d60-898db040bcfc    111\n",
       "                                                   ... \n",
       "2019-10-17  40ac38b1-71f1-4295-99b3-f5a419386e8e      1\n",
       "2019-10-11  62a5375a-eb94-4ed2-90ef-3d79d8e0c359      1\n",
       "2019-10-19  83ae922a-1d12-458a-b591-0ea6d283ce0d      1\n",
       "2019-10-18  10d599e4-5e65-47a9-9b01-958f8ab2fcac      1\n",
       "2019-10-26  a107daca-36e9-458e-93f2-ab615bdbb394      1\n",
       "Name: event_name, Length: 2475, dtype: int64"
      ]
     },
     "execution_count": 41,
     "metadata": {},
     "output_type": "execute_result"
    }
   ],
   "source": [
    "df_contacts_events.groupby(['event_date', 'user_id'])['event_name'].count().sort_values(ascending=False)"
   ]
  },
  {
   "cell_type": "markdown",
   "metadata": {},
   "source": [
    "Если разбивать на сессии по суткам, то в одну сессию попадает слишком много действий, чтобы выделить какой-то сценарий. Поэтому разбивать на сессии буду по полчаса."
   ]
  },
  {
   "cell_type": "code",
   "execution_count": 42,
   "metadata": {},
   "outputs": [],
   "source": [
    "g_cont = ( df_contacts_events.groupby('user_id')['event_time'].diff() > pd.Timedelta('30Min') ).cumsum()\n"
   ]
  },
  {
   "cell_type": "code",
   "execution_count": 43,
   "metadata": {},
   "outputs": [
    {
     "data": {
      "text/html": [
       "<div>\n",
       "<style scoped>\n",
       "    .dataframe tbody tr th:only-of-type {\n",
       "        vertical-align: middle;\n",
       "    }\n",
       "\n",
       "    .dataframe tbody tr th {\n",
       "        vertical-align: top;\n",
       "    }\n",
       "\n",
       "    .dataframe thead th {\n",
       "        text-align: right;\n",
       "    }\n",
       "</style>\n",
       "<table border=\"1\" class=\"dataframe\">\n",
       "  <thead>\n",
       "    <tr style=\"text-align: right;\">\n",
       "      <th></th>\n",
       "      <th>event_time</th>\n",
       "      <th>event_name</th>\n",
       "      <th>user_id</th>\n",
       "      <th>event_date</th>\n",
       "      <th>weekday</th>\n",
       "      <th>session_id</th>\n",
       "    </tr>\n",
       "  </thead>\n",
       "  <tbody>\n",
       "    <tr>\n",
       "      <th>72364</th>\n",
       "      <td>2019-11-03 14:48:44</td>\n",
       "      <td>tips_show</td>\n",
       "      <td>fffb9e79-b927-4dbb-9b48-7fd09b23a62b</td>\n",
       "      <td>2019-11-03</td>\n",
       "      <td>6</td>\n",
       "      <td>3818</td>\n",
       "    </tr>\n",
       "    <tr>\n",
       "      <th>72487</th>\n",
       "      <td>2019-11-03 15:36:01</td>\n",
       "      <td>tips_show</td>\n",
       "      <td>fffb9e79-b927-4dbb-9b48-7fd09b23a62b</td>\n",
       "      <td>2019-11-03</td>\n",
       "      <td>6</td>\n",
       "      <td>3819</td>\n",
       "    </tr>\n",
       "    <tr>\n",
       "      <th>72491</th>\n",
       "      <td>2019-11-03 15:36:29</td>\n",
       "      <td>tips_show</td>\n",
       "      <td>fffb9e79-b927-4dbb-9b48-7fd09b23a62b</td>\n",
       "      <td>2019-11-03</td>\n",
       "      <td>6</td>\n",
       "      <td>3819</td>\n",
       "    </tr>\n",
       "    <tr>\n",
       "      <th>72498</th>\n",
       "      <td>2019-11-03 15:37:18</td>\n",
       "      <td>tips_show</td>\n",
       "      <td>fffb9e79-b927-4dbb-9b48-7fd09b23a62b</td>\n",
       "      <td>2019-11-03</td>\n",
       "      <td>6</td>\n",
       "      <td>3819</td>\n",
       "    </tr>\n",
       "    <tr>\n",
       "      <th>72502</th>\n",
       "      <td>2019-11-03 15:37:44</td>\n",
       "      <td>tips_show</td>\n",
       "      <td>fffb9e79-b927-4dbb-9b48-7fd09b23a62b</td>\n",
       "      <td>2019-11-03</td>\n",
       "      <td>6</td>\n",
       "      <td>3819</td>\n",
       "    </tr>\n",
       "    <tr>\n",
       "      <th>72547</th>\n",
       "      <td>2019-11-03 15:47:44</td>\n",
       "      <td>tips_show</td>\n",
       "      <td>fffb9e79-b927-4dbb-9b48-7fd09b23a62b</td>\n",
       "      <td>2019-11-03</td>\n",
       "      <td>6</td>\n",
       "      <td>3819</td>\n",
       "    </tr>\n",
       "    <tr>\n",
       "      <th>72552</th>\n",
       "      <td>2019-11-03 15:48:05</td>\n",
       "      <td>show_contacts</td>\n",
       "      <td>fffb9e79-b927-4dbb-9b48-7fd09b23a62b</td>\n",
       "      <td>2019-11-03</td>\n",
       "      <td>6</td>\n",
       "      <td>3819</td>\n",
       "    </tr>\n",
       "    <tr>\n",
       "      <th>72564</th>\n",
       "      <td>2019-11-03 15:50:02</td>\n",
       "      <td>tips_show</td>\n",
       "      <td>fffb9e79-b927-4dbb-9b48-7fd09b23a62b</td>\n",
       "      <td>2019-11-03</td>\n",
       "      <td>6</td>\n",
       "      <td>3819</td>\n",
       "    </tr>\n",
       "    <tr>\n",
       "      <th>72574</th>\n",
       "      <td>2019-11-03 15:50:35</td>\n",
       "      <td>tips_show</td>\n",
       "      <td>fffb9e79-b927-4dbb-9b48-7fd09b23a62b</td>\n",
       "      <td>2019-11-03</td>\n",
       "      <td>6</td>\n",
       "      <td>3819</td>\n",
       "    </tr>\n",
       "    <tr>\n",
       "      <th>72579</th>\n",
       "      <td>2019-11-03 15:50:56</td>\n",
       "      <td>tips_show</td>\n",
       "      <td>fffb9e79-b927-4dbb-9b48-7fd09b23a62b</td>\n",
       "      <td>2019-11-03</td>\n",
       "      <td>6</td>\n",
       "      <td>3819</td>\n",
       "    </tr>\n",
       "    <tr>\n",
       "      <th>72584</th>\n",
       "      <td>2019-11-03 15:51:24</td>\n",
       "      <td>tips_show</td>\n",
       "      <td>fffb9e79-b927-4dbb-9b48-7fd09b23a62b</td>\n",
       "      <td>2019-11-03</td>\n",
       "      <td>6</td>\n",
       "      <td>3819</td>\n",
       "    </tr>\n",
       "    <tr>\n",
       "      <th>72589</th>\n",
       "      <td>2019-11-03 15:51:58</td>\n",
       "      <td>show_contacts</td>\n",
       "      <td>fffb9e79-b927-4dbb-9b48-7fd09b23a62b</td>\n",
       "      <td>2019-11-03</td>\n",
       "      <td>6</td>\n",
       "      <td>3819</td>\n",
       "    </tr>\n",
       "    <tr>\n",
       "      <th>72684</th>\n",
       "      <td>2019-11-03 16:07:41</td>\n",
       "      <td>tips_show</td>\n",
       "      <td>fffb9e79-b927-4dbb-9b48-7fd09b23a62b</td>\n",
       "      <td>2019-11-03</td>\n",
       "      <td>6</td>\n",
       "      <td>3819</td>\n",
       "    </tr>\n",
       "    <tr>\n",
       "      <th>72688</th>\n",
       "      <td>2019-11-03 16:08:18</td>\n",
       "      <td>tips_show</td>\n",
       "      <td>fffb9e79-b927-4dbb-9b48-7fd09b23a62b</td>\n",
       "      <td>2019-11-03</td>\n",
       "      <td>6</td>\n",
       "      <td>3819</td>\n",
       "    </tr>\n",
       "    <tr>\n",
       "      <th>72689</th>\n",
       "      <td>2019-11-03 16:08:25</td>\n",
       "      <td>tips_show</td>\n",
       "      <td>fffb9e79-b927-4dbb-9b48-7fd09b23a62b</td>\n",
       "      <td>2019-11-03</td>\n",
       "      <td>6</td>\n",
       "      <td>3819</td>\n",
       "    </tr>\n",
       "  </tbody>\n",
       "</table>\n",
       "</div>"
      ],
      "text/plain": [
       "               event_time     event_name  \\\n",
       "72364 2019-11-03 14:48:44      tips_show   \n",
       "72487 2019-11-03 15:36:01      tips_show   \n",
       "72491 2019-11-03 15:36:29      tips_show   \n",
       "72498 2019-11-03 15:37:18      tips_show   \n",
       "72502 2019-11-03 15:37:44      tips_show   \n",
       "72547 2019-11-03 15:47:44      tips_show   \n",
       "72552 2019-11-03 15:48:05  show_contacts   \n",
       "72564 2019-11-03 15:50:02      tips_show   \n",
       "72574 2019-11-03 15:50:35      tips_show   \n",
       "72579 2019-11-03 15:50:56      tips_show   \n",
       "72584 2019-11-03 15:51:24      tips_show   \n",
       "72589 2019-11-03 15:51:58  show_contacts   \n",
       "72684 2019-11-03 16:07:41      tips_show   \n",
       "72688 2019-11-03 16:08:18      tips_show   \n",
       "72689 2019-11-03 16:08:25      tips_show   \n",
       "\n",
       "                                    user_id event_date  weekday  session_id  \n",
       "72364  fffb9e79-b927-4dbb-9b48-7fd09b23a62b 2019-11-03        6        3818  \n",
       "72487  fffb9e79-b927-4dbb-9b48-7fd09b23a62b 2019-11-03        6        3819  \n",
       "72491  fffb9e79-b927-4dbb-9b48-7fd09b23a62b 2019-11-03        6        3819  \n",
       "72498  fffb9e79-b927-4dbb-9b48-7fd09b23a62b 2019-11-03        6        3819  \n",
       "72502  fffb9e79-b927-4dbb-9b48-7fd09b23a62b 2019-11-03        6        3819  \n",
       "72547  fffb9e79-b927-4dbb-9b48-7fd09b23a62b 2019-11-03        6        3819  \n",
       "72552  fffb9e79-b927-4dbb-9b48-7fd09b23a62b 2019-11-03        6        3819  \n",
       "72564  fffb9e79-b927-4dbb-9b48-7fd09b23a62b 2019-11-03        6        3819  \n",
       "72574  fffb9e79-b927-4dbb-9b48-7fd09b23a62b 2019-11-03        6        3819  \n",
       "72579  fffb9e79-b927-4dbb-9b48-7fd09b23a62b 2019-11-03        6        3819  \n",
       "72584  fffb9e79-b927-4dbb-9b48-7fd09b23a62b 2019-11-03        6        3819  \n",
       "72589  fffb9e79-b927-4dbb-9b48-7fd09b23a62b 2019-11-03        6        3819  \n",
       "72684  fffb9e79-b927-4dbb-9b48-7fd09b23a62b 2019-11-03        6        3819  \n",
       "72688  fffb9e79-b927-4dbb-9b48-7fd09b23a62b 2019-11-03        6        3819  \n",
       "72689  fffb9e79-b927-4dbb-9b48-7fd09b23a62b 2019-11-03        6        3819  "
      ]
     },
     "execution_count": 43,
     "metadata": {},
     "output_type": "execute_result"
    }
   ],
   "source": [
    "df_contacts_events['session_id'] = df_contacts_events.groupby(['user_id', g_cont], sort=False).ngroup() + 1\n",
    "\n",
    "df_contacts_events.tail(15)"
   ]
  },
  {
   "cell_type": "markdown",
   "metadata": {},
   "source": [
    "Очень много tips show приходится на одного пользователя, поэтому если принять, что это действие происходит автоматически в приложении и на него не влияют действия пользователя, то просто удалю их из рассмотрения сценария, т.к. в анализе действий юзера в приложении оно  просто мешать и раздувать данные."
   ]
  },
  {
   "cell_type": "code",
   "execution_count": 44,
   "metadata": {},
   "outputs": [
    {
     "data": {
      "text/html": [
       "<div>\n",
       "<style scoped>\n",
       "    .dataframe tbody tr th:only-of-type {\n",
       "        vertical-align: middle;\n",
       "    }\n",
       "\n",
       "    .dataframe tbody tr th {\n",
       "        vertical-align: top;\n",
       "    }\n",
       "\n",
       "    .dataframe thead th {\n",
       "        text-align: right;\n",
       "    }\n",
       "</style>\n",
       "<table border=\"1\" class=\"dataframe\">\n",
       "  <thead>\n",
       "    <tr style=\"text-align: right;\">\n",
       "      <th></th>\n",
       "      <th>event_time</th>\n",
       "      <th>event_name</th>\n",
       "      <th>user_id</th>\n",
       "      <th>event_date</th>\n",
       "      <th>weekday</th>\n",
       "      <th>session_id</th>\n",
       "    </tr>\n",
       "  </thead>\n",
       "  <tbody>\n",
       "    <tr>\n",
       "      <th>31632</th>\n",
       "      <td>2019-10-19 21:34:34</td>\n",
       "      <td>search</td>\n",
       "      <td>00157779-810c-4498-9e05-a1e9e3cedf93</td>\n",
       "      <td>2019-10-19</td>\n",
       "      <td>5</td>\n",
       "      <td>1</td>\n",
       "    </tr>\n",
       "    <tr>\n",
       "      <th>31636</th>\n",
       "      <td>2019-10-19 21:35:19</td>\n",
       "      <td>search</td>\n",
       "      <td>00157779-810c-4498-9e05-a1e9e3cedf93</td>\n",
       "      <td>2019-10-19</td>\n",
       "      <td>5</td>\n",
       "      <td>1</td>\n",
       "    </tr>\n",
       "    <tr>\n",
       "      <th>31640</th>\n",
       "      <td>2019-10-19 21:36:44</td>\n",
       "      <td>search</td>\n",
       "      <td>00157779-810c-4498-9e05-a1e9e3cedf93</td>\n",
       "      <td>2019-10-19</td>\n",
       "      <td>5</td>\n",
       "      <td>1</td>\n",
       "    </tr>\n",
       "    <tr>\n",
       "      <th>31655</th>\n",
       "      <td>2019-10-19 21:40:39</td>\n",
       "      <td>photos_show</td>\n",
       "      <td>00157779-810c-4498-9e05-a1e9e3cedf93</td>\n",
       "      <td>2019-10-19</td>\n",
       "      <td>5</td>\n",
       "      <td>1</td>\n",
       "    </tr>\n",
       "    <tr>\n",
       "      <th>31659</th>\n",
       "      <td>2019-10-19 21:42:14</td>\n",
       "      <td>photos_show</td>\n",
       "      <td>00157779-810c-4498-9e05-a1e9e3cedf93</td>\n",
       "      <td>2019-10-19</td>\n",
       "      <td>5</td>\n",
       "      <td>1</td>\n",
       "    </tr>\n",
       "    <tr>\n",
       "      <th>31670</th>\n",
       "      <td>2019-10-19 21:44:56</td>\n",
       "      <td>photos_show</td>\n",
       "      <td>00157779-810c-4498-9e05-a1e9e3cedf93</td>\n",
       "      <td>2019-10-19</td>\n",
       "      <td>5</td>\n",
       "      <td>1</td>\n",
       "    </tr>\n",
       "    <tr>\n",
       "      <th>31685</th>\n",
       "      <td>2019-10-19 21:46:53</td>\n",
       "      <td>photos_show</td>\n",
       "      <td>00157779-810c-4498-9e05-a1e9e3cedf93</td>\n",
       "      <td>2019-10-19</td>\n",
       "      <td>5</td>\n",
       "      <td>1</td>\n",
       "    </tr>\n",
       "    <tr>\n",
       "      <th>31730</th>\n",
       "      <td>2019-10-19 21:58:00</td>\n",
       "      <td>search</td>\n",
       "      <td>00157779-810c-4498-9e05-a1e9e3cedf93</td>\n",
       "      <td>2019-10-19</td>\n",
       "      <td>5</td>\n",
       "      <td>1</td>\n",
       "    </tr>\n",
       "    <tr>\n",
       "      <th>31737</th>\n",
       "      <td>2019-10-19 21:59:55</td>\n",
       "      <td>photos_show</td>\n",
       "      <td>00157779-810c-4498-9e05-a1e9e3cedf93</td>\n",
       "      <td>2019-10-19</td>\n",
       "      <td>5</td>\n",
       "      <td>1</td>\n",
       "    </tr>\n",
       "    <tr>\n",
       "      <th>33482</th>\n",
       "      <td>2019-10-20 18:49:24</td>\n",
       "      <td>search</td>\n",
       "      <td>00157779-810c-4498-9e05-a1e9e3cedf93</td>\n",
       "      <td>2019-10-20</td>\n",
       "      <td>6</td>\n",
       "      <td>2</td>\n",
       "    </tr>\n",
       "    <tr>\n",
       "      <th>33498</th>\n",
       "      <td>2019-10-20 18:59:23</td>\n",
       "      <td>photos_show</td>\n",
       "      <td>00157779-810c-4498-9e05-a1e9e3cedf93</td>\n",
       "      <td>2019-10-20</td>\n",
       "      <td>6</td>\n",
       "      <td>2</td>\n",
       "    </tr>\n",
       "    <tr>\n",
       "      <th>33510</th>\n",
       "      <td>2019-10-20 19:03:02</td>\n",
       "      <td>favorites_add</td>\n",
       "      <td>00157779-810c-4498-9e05-a1e9e3cedf93</td>\n",
       "      <td>2019-10-20</td>\n",
       "      <td>6</td>\n",
       "      <td>2</td>\n",
       "    </tr>\n",
       "    <tr>\n",
       "      <th>33514</th>\n",
       "      <td>2019-10-20 19:04:16</td>\n",
       "      <td>search</td>\n",
       "      <td>00157779-810c-4498-9e05-a1e9e3cedf93</td>\n",
       "      <td>2019-10-20</td>\n",
       "      <td>6</td>\n",
       "      <td>2</td>\n",
       "    </tr>\n",
       "    <tr>\n",
       "      <th>33523</th>\n",
       "      <td>2019-10-20 19:09:56</td>\n",
       "      <td>search</td>\n",
       "      <td>00157779-810c-4498-9e05-a1e9e3cedf93</td>\n",
       "      <td>2019-10-20</td>\n",
       "      <td>6</td>\n",
       "      <td>2</td>\n",
       "    </tr>\n",
       "    <tr>\n",
       "      <th>33528</th>\n",
       "      <td>2019-10-20 19:11:47</td>\n",
       "      <td>search</td>\n",
       "      <td>00157779-810c-4498-9e05-a1e9e3cedf93</td>\n",
       "      <td>2019-10-20</td>\n",
       "      <td>6</td>\n",
       "      <td>2</td>\n",
       "    </tr>\n",
       "  </tbody>\n",
       "</table>\n",
       "</div>"
      ],
      "text/plain": [
       "               event_time     event_name  \\\n",
       "31632 2019-10-19 21:34:34         search   \n",
       "31636 2019-10-19 21:35:19         search   \n",
       "31640 2019-10-19 21:36:44         search   \n",
       "31655 2019-10-19 21:40:39    photos_show   \n",
       "31659 2019-10-19 21:42:14    photos_show   \n",
       "31670 2019-10-19 21:44:56    photos_show   \n",
       "31685 2019-10-19 21:46:53    photos_show   \n",
       "31730 2019-10-19 21:58:00         search   \n",
       "31737 2019-10-19 21:59:55    photos_show   \n",
       "33482 2019-10-20 18:49:24         search   \n",
       "33498 2019-10-20 18:59:23    photos_show   \n",
       "33510 2019-10-20 19:03:02  favorites_add   \n",
       "33514 2019-10-20 19:04:16         search   \n",
       "33523 2019-10-20 19:09:56         search   \n",
       "33528 2019-10-20 19:11:47         search   \n",
       "\n",
       "                                    user_id event_date  weekday  session_id  \n",
       "31632  00157779-810c-4498-9e05-a1e9e3cedf93 2019-10-19        5           1  \n",
       "31636  00157779-810c-4498-9e05-a1e9e3cedf93 2019-10-19        5           1  \n",
       "31640  00157779-810c-4498-9e05-a1e9e3cedf93 2019-10-19        5           1  \n",
       "31655  00157779-810c-4498-9e05-a1e9e3cedf93 2019-10-19        5           1  \n",
       "31659  00157779-810c-4498-9e05-a1e9e3cedf93 2019-10-19        5           1  \n",
       "31670  00157779-810c-4498-9e05-a1e9e3cedf93 2019-10-19        5           1  \n",
       "31685  00157779-810c-4498-9e05-a1e9e3cedf93 2019-10-19        5           1  \n",
       "31730  00157779-810c-4498-9e05-a1e9e3cedf93 2019-10-19        5           1  \n",
       "31737  00157779-810c-4498-9e05-a1e9e3cedf93 2019-10-19        5           1  \n",
       "33482  00157779-810c-4498-9e05-a1e9e3cedf93 2019-10-20        6           2  \n",
       "33498  00157779-810c-4498-9e05-a1e9e3cedf93 2019-10-20        6           2  \n",
       "33510  00157779-810c-4498-9e05-a1e9e3cedf93 2019-10-20        6           2  \n",
       "33514  00157779-810c-4498-9e05-a1e9e3cedf93 2019-10-20        6           2  \n",
       "33523  00157779-810c-4498-9e05-a1e9e3cedf93 2019-10-20        6           2  \n",
       "33528  00157779-810c-4498-9e05-a1e9e3cedf93 2019-10-20        6           2  "
      ]
     },
     "execution_count": 44,
     "metadata": {},
     "output_type": "execute_result"
    }
   ],
   "source": [
    "df_cont_clean = df_contacts_events.query('event_name != \"tips_show\"')\n",
    "df_cont_clean.head(15)"
   ]
  },
  {
   "cell_type": "markdown",
   "metadata": {},
   "source": [
    "Теперь получу несколько сессий, с наибольшим кол-вом действий."
   ]
  },
  {
   "cell_type": "code",
   "execution_count": 45,
   "metadata": {},
   "outputs": [],
   "source": [
    "sessions = list(df_cont_clean.groupby('session_id')['event_date'].count().sort_values(ascending=False).head(15).index)"
   ]
  },
  {
   "cell_type": "code",
   "execution_count": 46,
   "metadata": {},
   "outputs": [
    {
     "data": {
      "text/html": [
       "<div>\n",
       "<style scoped>\n",
       "    .dataframe tbody tr th:only-of-type {\n",
       "        vertical-align: middle;\n",
       "    }\n",
       "\n",
       "    .dataframe tbody tr th {\n",
       "        vertical-align: top;\n",
       "    }\n",
       "\n",
       "    .dataframe thead th {\n",
       "        text-align: right;\n",
       "    }\n",
       "</style>\n",
       "<table border=\"1\" class=\"dataframe\">\n",
       "  <thead>\n",
       "    <tr style=\"text-align: right;\">\n",
       "      <th></th>\n",
       "      <th>event_time</th>\n",
       "      <th>event_name</th>\n",
       "      <th>user_id</th>\n",
       "      <th>event_date</th>\n",
       "      <th>weekday</th>\n",
       "      <th>session_id</th>\n",
       "    </tr>\n",
       "  </thead>\n",
       "  <tbody>\n",
       "    <tr>\n",
       "      <th>54002</th>\n",
       "      <td>2019-10-27 19:47:51</td>\n",
       "      <td>photos_show</td>\n",
       "      <td>13140930-df18-4793-a230-7cca5c8813db</td>\n",
       "      <td>2019-10-27</td>\n",
       "      <td>6</td>\n",
       "      <td>314</td>\n",
       "    </tr>\n",
       "    <tr>\n",
       "      <th>54006</th>\n",
       "      <td>2019-10-27 19:49:26</td>\n",
       "      <td>photos_show</td>\n",
       "      <td>13140930-df18-4793-a230-7cca5c8813db</td>\n",
       "      <td>2019-10-27</td>\n",
       "      <td>6</td>\n",
       "      <td>314</td>\n",
       "    </tr>\n",
       "    <tr>\n",
       "      <th>54007</th>\n",
       "      <td>2019-10-27 19:49:26</td>\n",
       "      <td>photos_show</td>\n",
       "      <td>13140930-df18-4793-a230-7cca5c8813db</td>\n",
       "      <td>2019-10-27</td>\n",
       "      <td>6</td>\n",
       "      <td>314</td>\n",
       "    </tr>\n",
       "    <tr>\n",
       "      <th>54012</th>\n",
       "      <td>2019-10-27 19:51:13</td>\n",
       "      <td>photos_show</td>\n",
       "      <td>13140930-df18-4793-a230-7cca5c8813db</td>\n",
       "      <td>2019-10-27</td>\n",
       "      <td>6</td>\n",
       "      <td>314</td>\n",
       "    </tr>\n",
       "    <tr>\n",
       "      <th>54013</th>\n",
       "      <td>2019-10-27 19:51:15</td>\n",
       "      <td>show_contacts</td>\n",
       "      <td>13140930-df18-4793-a230-7cca5c8813db</td>\n",
       "      <td>2019-10-27</td>\n",
       "      <td>6</td>\n",
       "      <td>314</td>\n",
       "    </tr>\n",
       "    <tr>\n",
       "      <th>...</th>\n",
       "      <td>...</td>\n",
       "      <td>...</td>\n",
       "      <td>...</td>\n",
       "      <td>...</td>\n",
       "      <td>...</td>\n",
       "      <td>...</td>\n",
       "    </tr>\n",
       "    <tr>\n",
       "      <th>54107</th>\n",
       "      <td>2019-10-27 20:00:09</td>\n",
       "      <td>photos_show</td>\n",
       "      <td>13140930-df18-4793-a230-7cca5c8813db</td>\n",
       "      <td>2019-10-27</td>\n",
       "      <td>6</td>\n",
       "      <td>314</td>\n",
       "    </tr>\n",
       "    <tr>\n",
       "      <th>54116</th>\n",
       "      <td>2019-10-27 20:00:55</td>\n",
       "      <td>photos_show</td>\n",
       "      <td>13140930-df18-4793-a230-7cca5c8813db</td>\n",
       "      <td>2019-10-27</td>\n",
       "      <td>6</td>\n",
       "      <td>314</td>\n",
       "    </tr>\n",
       "    <tr>\n",
       "      <th>54117</th>\n",
       "      <td>2019-10-27 20:00:55</td>\n",
       "      <td>photos_show</td>\n",
       "      <td>13140930-df18-4793-a230-7cca5c8813db</td>\n",
       "      <td>2019-10-27</td>\n",
       "      <td>6</td>\n",
       "      <td>314</td>\n",
       "    </tr>\n",
       "    <tr>\n",
       "      <th>54118</th>\n",
       "      <td>2019-10-27 20:00:56</td>\n",
       "      <td>photos_show</td>\n",
       "      <td>13140930-df18-4793-a230-7cca5c8813db</td>\n",
       "      <td>2019-10-27</td>\n",
       "      <td>6</td>\n",
       "      <td>314</td>\n",
       "    </tr>\n",
       "    <tr>\n",
       "      <th>54119</th>\n",
       "      <td>2019-10-27 20:00:56</td>\n",
       "      <td>photos_show</td>\n",
       "      <td>13140930-df18-4793-a230-7cca5c8813db</td>\n",
       "      <td>2019-10-27</td>\n",
       "      <td>6</td>\n",
       "      <td>314</td>\n",
       "    </tr>\n",
       "  </tbody>\n",
       "</table>\n",
       "<p>86 rows × 6 columns</p>\n",
       "</div>"
      ],
      "text/plain": [
       "               event_time     event_name  \\\n",
       "54002 2019-10-27 19:47:51    photos_show   \n",
       "54006 2019-10-27 19:49:26    photos_show   \n",
       "54007 2019-10-27 19:49:26    photos_show   \n",
       "54012 2019-10-27 19:51:13    photos_show   \n",
       "54013 2019-10-27 19:51:15  show_contacts   \n",
       "...                   ...            ...   \n",
       "54107 2019-10-27 20:00:09    photos_show   \n",
       "54116 2019-10-27 20:00:55    photos_show   \n",
       "54117 2019-10-27 20:00:55    photos_show   \n",
       "54118 2019-10-27 20:00:56    photos_show   \n",
       "54119 2019-10-27 20:00:56    photos_show   \n",
       "\n",
       "                                    user_id event_date  weekday  session_id  \n",
       "54002  13140930-df18-4793-a230-7cca5c8813db 2019-10-27        6         314  \n",
       "54006  13140930-df18-4793-a230-7cca5c8813db 2019-10-27        6         314  \n",
       "54007  13140930-df18-4793-a230-7cca5c8813db 2019-10-27        6         314  \n",
       "54012  13140930-df18-4793-a230-7cca5c8813db 2019-10-27        6         314  \n",
       "54013  13140930-df18-4793-a230-7cca5c8813db 2019-10-27        6         314  \n",
       "...                                     ...        ...      ...         ...  \n",
       "54107  13140930-df18-4793-a230-7cca5c8813db 2019-10-27        6         314  \n",
       "54116  13140930-df18-4793-a230-7cca5c8813db 2019-10-27        6         314  \n",
       "54117  13140930-df18-4793-a230-7cca5c8813db 2019-10-27        6         314  \n",
       "54118  13140930-df18-4793-a230-7cca5c8813db 2019-10-27        6         314  \n",
       "54119  13140930-df18-4793-a230-7cca5c8813db 2019-10-27        6         314  \n",
       "\n",
       "[86 rows x 6 columns]"
      ]
     },
     "execution_count": 46,
     "metadata": {},
     "output_type": "execute_result"
    }
   ],
   "source": [
    "df_cont_clean.query('session_id == @sessions[0]')"
   ]
  },
  {
   "cell_type": "markdown",
   "metadata": {},
   "source": [
    "Теперь видно, что много однотипных действий - \"просмотр фото\", \"поиск\" и т.д. Скорее всего учитывается, например, каждое фото в объявление, каждое объявление, найденное с помощью поиска. Поэтому просто уберу дубли по номеру сессии и виду действия, что бы можно было бы точнее выделить сценарий."
   ]
  },
  {
   "cell_type": "code",
   "execution_count": 47,
   "metadata": {},
   "outputs": [
    {
     "data": {
      "text/plain": [
       "9096"
      ]
     },
     "execution_count": 47,
     "metadata": {},
     "output_type": "execute_result"
    }
   ],
   "source": [
    "df_cont_clean[['session_id', 'event_name']].duplicated().sum()"
   ]
  },
  {
   "cell_type": "code",
   "execution_count": 48,
   "metadata": {},
   "outputs": [
    {
     "data": {
      "text/html": [
       "<div>\n",
       "<style scoped>\n",
       "    .dataframe tbody tr th:only-of-type {\n",
       "        vertical-align: middle;\n",
       "    }\n",
       "\n",
       "    .dataframe tbody tr th {\n",
       "        vertical-align: top;\n",
       "    }\n",
       "\n",
       "    .dataframe thead th {\n",
       "        text-align: right;\n",
       "    }\n",
       "</style>\n",
       "<table border=\"1\" class=\"dataframe\">\n",
       "  <thead>\n",
       "    <tr style=\"text-align: right;\">\n",
       "      <th></th>\n",
       "      <th>event_time</th>\n",
       "      <th>event_name</th>\n",
       "      <th>user_id</th>\n",
       "      <th>event_date</th>\n",
       "      <th>weekday</th>\n",
       "      <th>session_id</th>\n",
       "    </tr>\n",
       "  </thead>\n",
       "  <tbody>\n",
       "    <tr>\n",
       "      <th>31632</th>\n",
       "      <td>2019-10-19 21:34:34</td>\n",
       "      <td>search</td>\n",
       "      <td>00157779-810c-4498-9e05-a1e9e3cedf93</td>\n",
       "      <td>2019-10-19</td>\n",
       "      <td>5</td>\n",
       "      <td>1</td>\n",
       "    </tr>\n",
       "    <tr>\n",
       "      <th>31655</th>\n",
       "      <td>2019-10-19 21:40:39</td>\n",
       "      <td>photos_show</td>\n",
       "      <td>00157779-810c-4498-9e05-a1e9e3cedf93</td>\n",
       "      <td>2019-10-19</td>\n",
       "      <td>5</td>\n",
       "      <td>1</td>\n",
       "    </tr>\n",
       "    <tr>\n",
       "      <th>33482</th>\n",
       "      <td>2019-10-20 18:49:24</td>\n",
       "      <td>search</td>\n",
       "      <td>00157779-810c-4498-9e05-a1e9e3cedf93</td>\n",
       "      <td>2019-10-20</td>\n",
       "      <td>6</td>\n",
       "      <td>2</td>\n",
       "    </tr>\n",
       "    <tr>\n",
       "      <th>33498</th>\n",
       "      <td>2019-10-20 18:59:23</td>\n",
       "      <td>photos_show</td>\n",
       "      <td>00157779-810c-4498-9e05-a1e9e3cedf93</td>\n",
       "      <td>2019-10-20</td>\n",
       "      <td>6</td>\n",
       "      <td>2</td>\n",
       "    </tr>\n",
       "    <tr>\n",
       "      <th>33510</th>\n",
       "      <td>2019-10-20 19:03:02</td>\n",
       "      <td>favorites_add</td>\n",
       "      <td>00157779-810c-4498-9e05-a1e9e3cedf93</td>\n",
       "      <td>2019-10-20</td>\n",
       "      <td>6</td>\n",
       "      <td>2</td>\n",
       "    </tr>\n",
       "  </tbody>\n",
       "</table>\n",
       "</div>"
      ],
      "text/plain": [
       "               event_time     event_name  \\\n",
       "31632 2019-10-19 21:34:34         search   \n",
       "31655 2019-10-19 21:40:39    photos_show   \n",
       "33482 2019-10-20 18:49:24         search   \n",
       "33498 2019-10-20 18:59:23    photos_show   \n",
       "33510 2019-10-20 19:03:02  favorites_add   \n",
       "\n",
       "                                    user_id event_date  weekday  session_id  \n",
       "31632  00157779-810c-4498-9e05-a1e9e3cedf93 2019-10-19        5           1  \n",
       "31655  00157779-810c-4498-9e05-a1e9e3cedf93 2019-10-19        5           1  \n",
       "33482  00157779-810c-4498-9e05-a1e9e3cedf93 2019-10-20        6           2  \n",
       "33498  00157779-810c-4498-9e05-a1e9e3cedf93 2019-10-20        6           2  \n",
       "33510  00157779-810c-4498-9e05-a1e9e3cedf93 2019-10-20        6           2  "
      ]
     },
     "execution_count": 48,
     "metadata": {},
     "output_type": "execute_result"
    }
   ],
   "source": [
    "df_cont_clean = df_cont_clean.drop_duplicates(subset=['session_id', 'event_name'])\n",
    "df_cont_clean.head()"
   ]
  },
  {
   "cell_type": "markdown",
   "metadata": {},
   "source": [
    "Теперь намного лучше. Далее выделю несколько сессий с наибольшим кол-вом действий, мб есть какой-то частый сценарий."
   ]
  },
  {
   "cell_type": "code",
   "execution_count": 49,
   "metadata": {},
   "outputs": [],
   "source": [
    "sessions_1 = list(df_cont_clean.groupby('session_id')['event_date'].count().\n",
    "                  sort_values(ascending=False).head(15).index)"
   ]
  },
  {
   "cell_type": "code",
   "execution_count": 50,
   "metadata": {},
   "outputs": [
    {
     "data": {
      "text/html": [
       "<div>\n",
       "<style scoped>\n",
       "    .dataframe tbody tr th:only-of-type {\n",
       "        vertical-align: middle;\n",
       "    }\n",
       "\n",
       "    .dataframe tbody tr th {\n",
       "        vertical-align: top;\n",
       "    }\n",
       "\n",
       "    .dataframe thead th {\n",
       "        text-align: right;\n",
       "    }\n",
       "</style>\n",
       "<table border=\"1\" class=\"dataframe\">\n",
       "  <thead>\n",
       "    <tr style=\"text-align: right;\">\n",
       "      <th></th>\n",
       "      <th>event_time</th>\n",
       "      <th>event_name</th>\n",
       "      <th>user_id</th>\n",
       "      <th>event_date</th>\n",
       "      <th>weekday</th>\n",
       "      <th>session_id</th>\n",
       "    </tr>\n",
       "  </thead>\n",
       "  <tbody>\n",
       "    <tr>\n",
       "      <th>30532</th>\n",
       "      <td>2019-10-19 15:08:12</td>\n",
       "      <td>show_contacts</td>\n",
       "      <td>604d74a6-2481-4e12-989e-38789e35675a</td>\n",
       "      <td>2019-10-19</td>\n",
       "      <td>5</td>\n",
       "      <td>1411</td>\n",
       "    </tr>\n",
       "    <tr>\n",
       "      <th>30533</th>\n",
       "      <td>2019-10-19 15:08:15</td>\n",
       "      <td>contacts_call</td>\n",
       "      <td>604d74a6-2481-4e12-989e-38789e35675a</td>\n",
       "      <td>2019-10-19</td>\n",
       "      <td>5</td>\n",
       "      <td>1411</td>\n",
       "    </tr>\n",
       "    <tr>\n",
       "      <th>30556</th>\n",
       "      <td>2019-10-19 15:16:27</td>\n",
       "      <td>photos_show</td>\n",
       "      <td>604d74a6-2481-4e12-989e-38789e35675a</td>\n",
       "      <td>2019-10-19</td>\n",
       "      <td>5</td>\n",
       "      <td>1411</td>\n",
       "    </tr>\n",
       "    <tr>\n",
       "      <th>30603</th>\n",
       "      <td>2019-10-19 15:34:21</td>\n",
       "      <td>search</td>\n",
       "      <td>604d74a6-2481-4e12-989e-38789e35675a</td>\n",
       "      <td>2019-10-19</td>\n",
       "      <td>5</td>\n",
       "      <td>1411</td>\n",
       "    </tr>\n",
       "    <tr>\n",
       "      <th>30620</th>\n",
       "      <td>2019-10-19 15:37:34</td>\n",
       "      <td>favorites_add</td>\n",
       "      <td>604d74a6-2481-4e12-989e-38789e35675a</td>\n",
       "      <td>2019-10-19</td>\n",
       "      <td>5</td>\n",
       "      <td>1411</td>\n",
       "    </tr>\n",
       "    <tr>\n",
       "      <th>30685</th>\n",
       "      <td>2019-10-19 15:57:56</td>\n",
       "      <td>advert_open</td>\n",
       "      <td>604d74a6-2481-4e12-989e-38789e35675a</td>\n",
       "      <td>2019-10-19</td>\n",
       "      <td>5</td>\n",
       "      <td>1411</td>\n",
       "    </tr>\n",
       "  </tbody>\n",
       "</table>\n",
       "</div>"
      ],
      "text/plain": [
       "               event_time     event_name  \\\n",
       "30532 2019-10-19 15:08:12  show_contacts   \n",
       "30533 2019-10-19 15:08:15  contacts_call   \n",
       "30556 2019-10-19 15:16:27    photos_show   \n",
       "30603 2019-10-19 15:34:21         search   \n",
       "30620 2019-10-19 15:37:34  favorites_add   \n",
       "30685 2019-10-19 15:57:56    advert_open   \n",
       "\n",
       "                                    user_id event_date  weekday  session_id  \n",
       "30532  604d74a6-2481-4e12-989e-38789e35675a 2019-10-19        5        1411  \n",
       "30533  604d74a6-2481-4e12-989e-38789e35675a 2019-10-19        5        1411  \n",
       "30556  604d74a6-2481-4e12-989e-38789e35675a 2019-10-19        5        1411  \n",
       "30603  604d74a6-2481-4e12-989e-38789e35675a 2019-10-19        5        1411  \n",
       "30620  604d74a6-2481-4e12-989e-38789e35675a 2019-10-19        5        1411  \n",
       "30685  604d74a6-2481-4e12-989e-38789e35675a 2019-10-19        5        1411  "
      ]
     },
     "metadata": {},
     "output_type": "display_data"
    },
    {
     "data": {
      "text/html": [
       "<div>\n",
       "<style scoped>\n",
       "    .dataframe tbody tr th:only-of-type {\n",
       "        vertical-align: middle;\n",
       "    }\n",
       "\n",
       "    .dataframe tbody tr th {\n",
       "        vertical-align: top;\n",
       "    }\n",
       "\n",
       "    .dataframe thead th {\n",
       "        text-align: right;\n",
       "    }\n",
       "</style>\n",
       "<table border=\"1\" class=\"dataframe\">\n",
       "  <thead>\n",
       "    <tr style=\"text-align: right;\">\n",
       "      <th></th>\n",
       "      <th>event_time</th>\n",
       "      <th>event_name</th>\n",
       "      <th>user_id</th>\n",
       "      <th>event_date</th>\n",
       "      <th>weekday</th>\n",
       "      <th>session_id</th>\n",
       "    </tr>\n",
       "  </thead>\n",
       "  <tbody>\n",
       "    <tr>\n",
       "      <th>7345</th>\n",
       "      <td>2019-10-10 10:29:27</td>\n",
       "      <td>photos_show</td>\n",
       "      <td>40ac38b1-71f1-4295-99b3-f5a419386e8e</td>\n",
       "      <td>2019-10-10</td>\n",
       "      <td>3</td>\n",
       "      <td>1028</td>\n",
       "    </tr>\n",
       "    <tr>\n",
       "      <th>7361</th>\n",
       "      <td>2019-10-10 10:38:22</td>\n",
       "      <td>search</td>\n",
       "      <td>40ac38b1-71f1-4295-99b3-f5a419386e8e</td>\n",
       "      <td>2019-10-10</td>\n",
       "      <td>3</td>\n",
       "      <td>1028</td>\n",
       "    </tr>\n",
       "    <tr>\n",
       "      <th>7404</th>\n",
       "      <td>2019-10-10 10:49:58</td>\n",
       "      <td>show_contacts</td>\n",
       "      <td>40ac38b1-71f1-4295-99b3-f5a419386e8e</td>\n",
       "      <td>2019-10-10</td>\n",
       "      <td>3</td>\n",
       "      <td>1028</td>\n",
       "    </tr>\n",
       "    <tr>\n",
       "      <th>7437</th>\n",
       "      <td>2019-10-10 11:04:30</td>\n",
       "      <td>favorites_add</td>\n",
       "      <td>40ac38b1-71f1-4295-99b3-f5a419386e8e</td>\n",
       "      <td>2019-10-10</td>\n",
       "      <td>3</td>\n",
       "      <td>1028</td>\n",
       "    </tr>\n",
       "    <tr>\n",
       "      <th>7453</th>\n",
       "      <td>2019-10-10 11:09:58</td>\n",
       "      <td>advert_open</td>\n",
       "      <td>40ac38b1-71f1-4295-99b3-f5a419386e8e</td>\n",
       "      <td>2019-10-10</td>\n",
       "      <td>3</td>\n",
       "      <td>1028</td>\n",
       "    </tr>\n",
       "    <tr>\n",
       "      <th>7463</th>\n",
       "      <td>2019-10-10 11:16:07</td>\n",
       "      <td>contacts_call</td>\n",
       "      <td>40ac38b1-71f1-4295-99b3-f5a419386e8e</td>\n",
       "      <td>2019-10-10</td>\n",
       "      <td>3</td>\n",
       "      <td>1028</td>\n",
       "    </tr>\n",
       "  </tbody>\n",
       "</table>\n",
       "</div>"
      ],
      "text/plain": [
       "              event_time     event_name                               user_id  \\\n",
       "7345 2019-10-10 10:29:27    photos_show  40ac38b1-71f1-4295-99b3-f5a419386e8e   \n",
       "7361 2019-10-10 10:38:22         search  40ac38b1-71f1-4295-99b3-f5a419386e8e   \n",
       "7404 2019-10-10 10:49:58  show_contacts  40ac38b1-71f1-4295-99b3-f5a419386e8e   \n",
       "7437 2019-10-10 11:04:30  favorites_add  40ac38b1-71f1-4295-99b3-f5a419386e8e   \n",
       "7453 2019-10-10 11:09:58    advert_open  40ac38b1-71f1-4295-99b3-f5a419386e8e   \n",
       "7463 2019-10-10 11:16:07  contacts_call  40ac38b1-71f1-4295-99b3-f5a419386e8e   \n",
       "\n",
       "     event_date  weekday  session_id  \n",
       "7345 2019-10-10        3        1028  \n",
       "7361 2019-10-10        3        1028  \n",
       "7404 2019-10-10        3        1028  \n",
       "7437 2019-10-10        3        1028  \n",
       "7453 2019-10-10        3        1028  \n",
       "7463 2019-10-10        3        1028  "
      ]
     },
     "metadata": {},
     "output_type": "display_data"
    },
    {
     "data": {
      "text/html": [
       "<div>\n",
       "<style scoped>\n",
       "    .dataframe tbody tr th:only-of-type {\n",
       "        vertical-align: middle;\n",
       "    }\n",
       "\n",
       "    .dataframe tbody tr th {\n",
       "        vertical-align: top;\n",
       "    }\n",
       "\n",
       "    .dataframe thead th {\n",
       "        text-align: right;\n",
       "    }\n",
       "</style>\n",
       "<table border=\"1\" class=\"dataframe\">\n",
       "  <thead>\n",
       "    <tr style=\"text-align: right;\">\n",
       "      <th></th>\n",
       "      <th>event_time</th>\n",
       "      <th>event_name</th>\n",
       "      <th>user_id</th>\n",
       "      <th>event_date</th>\n",
       "      <th>weekday</th>\n",
       "      <th>session_id</th>\n",
       "    </tr>\n",
       "  </thead>\n",
       "  <tbody>\n",
       "    <tr>\n",
       "      <th>60677</th>\n",
       "      <td>2019-10-29 21:18:25</td>\n",
       "      <td>search</td>\n",
       "      <td>00157779-810c-4498-9e05-a1e9e3cedf93</td>\n",
       "      <td>2019-10-29</td>\n",
       "      <td>1</td>\n",
       "      <td>4</td>\n",
       "    </tr>\n",
       "    <tr>\n",
       "      <th>60683</th>\n",
       "      <td>2019-10-29 21:19:35</td>\n",
       "      <td>photos_show</td>\n",
       "      <td>00157779-810c-4498-9e05-a1e9e3cedf93</td>\n",
       "      <td>2019-10-29</td>\n",
       "      <td>1</td>\n",
       "      <td>4</td>\n",
       "    </tr>\n",
       "    <tr>\n",
       "      <th>60714</th>\n",
       "      <td>2019-10-29 21:26:40</td>\n",
       "      <td>show_contacts</td>\n",
       "      <td>00157779-810c-4498-9e05-a1e9e3cedf93</td>\n",
       "      <td>2019-10-29</td>\n",
       "      <td>1</td>\n",
       "      <td>4</td>\n",
       "    </tr>\n",
       "    <tr>\n",
       "      <th>60717</th>\n",
       "      <td>2019-10-29 21:26:52</td>\n",
       "      <td>contacts_call</td>\n",
       "      <td>00157779-810c-4498-9e05-a1e9e3cedf93</td>\n",
       "      <td>2019-10-29</td>\n",
       "      <td>1</td>\n",
       "      <td>4</td>\n",
       "    </tr>\n",
       "    <tr>\n",
       "      <th>60881</th>\n",
       "      <td>2019-10-29 22:10:07</td>\n",
       "      <td>favorites_add</td>\n",
       "      <td>00157779-810c-4498-9e05-a1e9e3cedf93</td>\n",
       "      <td>2019-10-29</td>\n",
       "      <td>1</td>\n",
       "      <td>4</td>\n",
       "    </tr>\n",
       "    <tr>\n",
       "      <th>60884</th>\n",
       "      <td>2019-10-29 22:10:22</td>\n",
       "      <td>advert_open</td>\n",
       "      <td>00157779-810c-4498-9e05-a1e9e3cedf93</td>\n",
       "      <td>2019-10-29</td>\n",
       "      <td>1</td>\n",
       "      <td>4</td>\n",
       "    </tr>\n",
       "  </tbody>\n",
       "</table>\n",
       "</div>"
      ],
      "text/plain": [
       "               event_time     event_name  \\\n",
       "60677 2019-10-29 21:18:25         search   \n",
       "60683 2019-10-29 21:19:35    photos_show   \n",
       "60714 2019-10-29 21:26:40  show_contacts   \n",
       "60717 2019-10-29 21:26:52  contacts_call   \n",
       "60881 2019-10-29 22:10:07  favorites_add   \n",
       "60884 2019-10-29 22:10:22    advert_open   \n",
       "\n",
       "                                    user_id event_date  weekday  session_id  \n",
       "60677  00157779-810c-4498-9e05-a1e9e3cedf93 2019-10-29        1           4  \n",
       "60683  00157779-810c-4498-9e05-a1e9e3cedf93 2019-10-29        1           4  \n",
       "60714  00157779-810c-4498-9e05-a1e9e3cedf93 2019-10-29        1           4  \n",
       "60717  00157779-810c-4498-9e05-a1e9e3cedf93 2019-10-29        1           4  \n",
       "60881  00157779-810c-4498-9e05-a1e9e3cedf93 2019-10-29        1           4  \n",
       "60884  00157779-810c-4498-9e05-a1e9e3cedf93 2019-10-29        1           4  "
      ]
     },
     "metadata": {},
     "output_type": "display_data"
    },
    {
     "data": {
      "text/html": [
       "<div>\n",
       "<style scoped>\n",
       "    .dataframe tbody tr th:only-of-type {\n",
       "        vertical-align: middle;\n",
       "    }\n",
       "\n",
       "    .dataframe tbody tr th {\n",
       "        vertical-align: top;\n",
       "    }\n",
       "\n",
       "    .dataframe thead th {\n",
       "        text-align: right;\n",
       "    }\n",
       "</style>\n",
       "<table border=\"1\" class=\"dataframe\">\n",
       "  <thead>\n",
       "    <tr style=\"text-align: right;\">\n",
       "      <th></th>\n",
       "      <th>event_time</th>\n",
       "      <th>event_name</th>\n",
       "      <th>user_id</th>\n",
       "      <th>event_date</th>\n",
       "      <th>weekday</th>\n",
       "      <th>session_id</th>\n",
       "    </tr>\n",
       "  </thead>\n",
       "  <tbody>\n",
       "    <tr>\n",
       "      <th>5182</th>\n",
       "      <td>2019-10-09 08:54:26</td>\n",
       "      <td>search</td>\n",
       "      <td>78e8c1af-ca3b-41e9-914c-66f74590b9b6</td>\n",
       "      <td>2019-10-09</td>\n",
       "      <td>2</td>\n",
       "      <td>1794</td>\n",
       "    </tr>\n",
       "    <tr>\n",
       "      <th>5204</th>\n",
       "      <td>2019-10-09 09:01:43</td>\n",
       "      <td>favorites_add</td>\n",
       "      <td>78e8c1af-ca3b-41e9-914c-66f74590b9b6</td>\n",
       "      <td>2019-10-09</td>\n",
       "      <td>2</td>\n",
       "      <td>1794</td>\n",
       "    </tr>\n",
       "    <tr>\n",
       "      <th>5210</th>\n",
       "      <td>2019-10-09 09:02:59</td>\n",
       "      <td>show_contacts</td>\n",
       "      <td>78e8c1af-ca3b-41e9-914c-66f74590b9b6</td>\n",
       "      <td>2019-10-09</td>\n",
       "      <td>2</td>\n",
       "      <td>1794</td>\n",
       "    </tr>\n",
       "    <tr>\n",
       "      <th>5242</th>\n",
       "      <td>2019-10-09 09:19:13</td>\n",
       "      <td>map</td>\n",
       "      <td>78e8c1af-ca3b-41e9-914c-66f74590b9b6</td>\n",
       "      <td>2019-10-09</td>\n",
       "      <td>2</td>\n",
       "      <td>1794</td>\n",
       "    </tr>\n",
       "    <tr>\n",
       "      <th>5245</th>\n",
       "      <td>2019-10-09 09:19:58</td>\n",
       "      <td>advert_open</td>\n",
       "      <td>78e8c1af-ca3b-41e9-914c-66f74590b9b6</td>\n",
       "      <td>2019-10-09</td>\n",
       "      <td>2</td>\n",
       "      <td>1794</td>\n",
       "    </tr>\n",
       "  </tbody>\n",
       "</table>\n",
       "</div>"
      ],
      "text/plain": [
       "              event_time     event_name                               user_id  \\\n",
       "5182 2019-10-09 08:54:26         search  78e8c1af-ca3b-41e9-914c-66f74590b9b6   \n",
       "5204 2019-10-09 09:01:43  favorites_add  78e8c1af-ca3b-41e9-914c-66f74590b9b6   \n",
       "5210 2019-10-09 09:02:59  show_contacts  78e8c1af-ca3b-41e9-914c-66f74590b9b6   \n",
       "5242 2019-10-09 09:19:13            map  78e8c1af-ca3b-41e9-914c-66f74590b9b6   \n",
       "5245 2019-10-09 09:19:58    advert_open  78e8c1af-ca3b-41e9-914c-66f74590b9b6   \n",
       "\n",
       "     event_date  weekday  session_id  \n",
       "5182 2019-10-09        2        1794  \n",
       "5204 2019-10-09        2        1794  \n",
       "5210 2019-10-09        2        1794  \n",
       "5242 2019-10-09        2        1794  \n",
       "5245 2019-10-09        2        1794  "
      ]
     },
     "metadata": {},
     "output_type": "display_data"
    },
    {
     "data": {
      "text/html": [
       "<div>\n",
       "<style scoped>\n",
       "    .dataframe tbody tr th:only-of-type {\n",
       "        vertical-align: middle;\n",
       "    }\n",
       "\n",
       "    .dataframe tbody tr th {\n",
       "        vertical-align: top;\n",
       "    }\n",
       "\n",
       "    .dataframe thead th {\n",
       "        text-align: right;\n",
       "    }\n",
       "</style>\n",
       "<table border=\"1\" class=\"dataframe\">\n",
       "  <thead>\n",
       "    <tr style=\"text-align: right;\">\n",
       "      <th></th>\n",
       "      <th>event_time</th>\n",
       "      <th>event_name</th>\n",
       "      <th>user_id</th>\n",
       "      <th>event_date</th>\n",
       "      <th>weekday</th>\n",
       "      <th>session_id</th>\n",
       "    </tr>\n",
       "  </thead>\n",
       "  <tbody>\n",
       "    <tr>\n",
       "      <th>47116</th>\n",
       "      <td>2019-10-25 13:35:27</td>\n",
       "      <td>advert_open</td>\n",
       "      <td>8cf10cd3-ccc9-40cd-b3a1-6b8c310fc58d</td>\n",
       "      <td>2019-10-25</td>\n",
       "      <td>4</td>\n",
       "      <td>2079</td>\n",
       "    </tr>\n",
       "    <tr>\n",
       "      <th>47122</th>\n",
       "      <td>2019-10-25 13:37:16</td>\n",
       "      <td>search</td>\n",
       "      <td>8cf10cd3-ccc9-40cd-b3a1-6b8c310fc58d</td>\n",
       "      <td>2019-10-25</td>\n",
       "      <td>4</td>\n",
       "      <td>2079</td>\n",
       "    </tr>\n",
       "    <tr>\n",
       "      <th>47129</th>\n",
       "      <td>2019-10-25 13:39:02</td>\n",
       "      <td>favorites_add</td>\n",
       "      <td>8cf10cd3-ccc9-40cd-b3a1-6b8c310fc58d</td>\n",
       "      <td>2019-10-25</td>\n",
       "      <td>4</td>\n",
       "      <td>2079</td>\n",
       "    </tr>\n",
       "    <tr>\n",
       "      <th>47138</th>\n",
       "      <td>2019-10-25 13:41:02</td>\n",
       "      <td>photos_show</td>\n",
       "      <td>8cf10cd3-ccc9-40cd-b3a1-6b8c310fc58d</td>\n",
       "      <td>2019-10-25</td>\n",
       "      <td>4</td>\n",
       "      <td>2079</td>\n",
       "    </tr>\n",
       "    <tr>\n",
       "      <th>47163</th>\n",
       "      <td>2019-10-25 13:48:53</td>\n",
       "      <td>show_contacts</td>\n",
       "      <td>8cf10cd3-ccc9-40cd-b3a1-6b8c310fc58d</td>\n",
       "      <td>2019-10-25</td>\n",
       "      <td>4</td>\n",
       "      <td>2079</td>\n",
       "    </tr>\n",
       "  </tbody>\n",
       "</table>\n",
       "</div>"
      ],
      "text/plain": [
       "               event_time     event_name  \\\n",
       "47116 2019-10-25 13:35:27    advert_open   \n",
       "47122 2019-10-25 13:37:16         search   \n",
       "47129 2019-10-25 13:39:02  favorites_add   \n",
       "47138 2019-10-25 13:41:02    photos_show   \n",
       "47163 2019-10-25 13:48:53  show_contacts   \n",
       "\n",
       "                                    user_id event_date  weekday  session_id  \n",
       "47116  8cf10cd3-ccc9-40cd-b3a1-6b8c310fc58d 2019-10-25        4        2079  \n",
       "47122  8cf10cd3-ccc9-40cd-b3a1-6b8c310fc58d 2019-10-25        4        2079  \n",
       "47129  8cf10cd3-ccc9-40cd-b3a1-6b8c310fc58d 2019-10-25        4        2079  \n",
       "47138  8cf10cd3-ccc9-40cd-b3a1-6b8c310fc58d 2019-10-25        4        2079  \n",
       "47163  8cf10cd3-ccc9-40cd-b3a1-6b8c310fc58d 2019-10-25        4        2079  "
      ]
     },
     "metadata": {},
     "output_type": "display_data"
    }
   ],
   "source": [
    "for i in range(0, 5):\n",
    "    display(df_cont_clean.query('session_id == @sessions_1[@i]'))"
   ]
  },
  {
   "cell_type": "code",
   "execution_count": 51,
   "metadata": {},
   "outputs": [
    {
     "data": {
      "text/html": [
       "<div>\n",
       "<style scoped>\n",
       "    .dataframe tbody tr th:only-of-type {\n",
       "        vertical-align: middle;\n",
       "    }\n",
       "\n",
       "    .dataframe tbody tr th {\n",
       "        vertical-align: top;\n",
       "    }\n",
       "\n",
       "    .dataframe thead th {\n",
       "        text-align: right;\n",
       "    }\n",
       "</style>\n",
       "<table border=\"1\" class=\"dataframe\">\n",
       "  <thead>\n",
       "    <tr style=\"text-align: right;\">\n",
       "      <th></th>\n",
       "      <th>event_time</th>\n",
       "      <th>event_name</th>\n",
       "      <th>user_id</th>\n",
       "      <th>event_date</th>\n",
       "      <th>weekday</th>\n",
       "      <th>session_id</th>\n",
       "    </tr>\n",
       "  </thead>\n",
       "  <tbody>\n",
       "    <tr>\n",
       "      <th>33482</th>\n",
       "      <td>2019-10-20 18:49:24</td>\n",
       "      <td>search</td>\n",
       "      <td>00157779-810c-4498-9e05-a1e9e3cedf93</td>\n",
       "      <td>2019-10-20</td>\n",
       "      <td>6</td>\n",
       "      <td>2</td>\n",
       "    </tr>\n",
       "    <tr>\n",
       "      <th>33498</th>\n",
       "      <td>2019-10-20 18:59:23</td>\n",
       "      <td>photos_show</td>\n",
       "      <td>00157779-810c-4498-9e05-a1e9e3cedf93</td>\n",
       "      <td>2019-10-20</td>\n",
       "      <td>6</td>\n",
       "      <td>2</td>\n",
       "    </tr>\n",
       "    <tr>\n",
       "      <th>33510</th>\n",
       "      <td>2019-10-20 19:03:02</td>\n",
       "      <td>favorites_add</td>\n",
       "      <td>00157779-810c-4498-9e05-a1e9e3cedf93</td>\n",
       "      <td>2019-10-20</td>\n",
       "      <td>6</td>\n",
       "      <td>2</td>\n",
       "    </tr>\n",
       "    <tr>\n",
       "      <th>33533</th>\n",
       "      <td>2019-10-20 19:17:19</td>\n",
       "      <td>show_contacts</td>\n",
       "      <td>00157779-810c-4498-9e05-a1e9e3cedf93</td>\n",
       "      <td>2019-10-20</td>\n",
       "      <td>6</td>\n",
       "      <td>2</td>\n",
       "    </tr>\n",
       "    <tr>\n",
       "      <th>33534</th>\n",
       "      <td>2019-10-20 19:17:25</td>\n",
       "      <td>contacts_call</td>\n",
       "      <td>00157779-810c-4498-9e05-a1e9e3cedf93</td>\n",
       "      <td>2019-10-20</td>\n",
       "      <td>6</td>\n",
       "      <td>2</td>\n",
       "    </tr>\n",
       "  </tbody>\n",
       "</table>\n",
       "</div>"
      ],
      "text/plain": [
       "               event_time     event_name  \\\n",
       "33482 2019-10-20 18:49:24         search   \n",
       "33498 2019-10-20 18:59:23    photos_show   \n",
       "33510 2019-10-20 19:03:02  favorites_add   \n",
       "33533 2019-10-20 19:17:19  show_contacts   \n",
       "33534 2019-10-20 19:17:25  contacts_call   \n",
       "\n",
       "                                    user_id event_date  weekday  session_id  \n",
       "33482  00157779-810c-4498-9e05-a1e9e3cedf93 2019-10-20        6           2  \n",
       "33498  00157779-810c-4498-9e05-a1e9e3cedf93 2019-10-20        6           2  \n",
       "33510  00157779-810c-4498-9e05-a1e9e3cedf93 2019-10-20        6           2  \n",
       "33533  00157779-810c-4498-9e05-a1e9e3cedf93 2019-10-20        6           2  \n",
       "33534  00157779-810c-4498-9e05-a1e9e3cedf93 2019-10-20        6           2  "
      ]
     },
     "execution_count": 51,
     "metadata": {},
     "output_type": "execute_result"
    }
   ],
   "source": [
    "df_top15_ses = df_cont_clean.query('session_id == @sessions_1')\n",
    "df_top15_ses.head()"
   ]
  },
  {
   "cell_type": "code",
   "execution_count": 52,
   "metadata": {},
   "outputs": [],
   "source": [
    "df_top15_ses['session_id'] = df_top15_ses['session_id'].astype('str')\n",
    "#df_top15_ses.info()"
   ]
  },
  {
   "cell_type": "code",
   "execution_count": null,
   "metadata": {},
   "outputs": [],
   "source": [
    "fig = px.bar(df_top15_ses,\n",
    "             x='session_id',\n",
    "             y='event_name', \n",
    "             color='event_name',\n",
    "             title='Sources count / events')\n",
    "\n",
    "fig.update_yaxes(title_text='Count')\n",
    "fig.update_xaxes(title_text='Events')\n",
    "fig.update_layout(\n",
    "                   margin=dict(l=0, r=0, t=50, b=0),\n",
    "                   width = 900,\n",
    "                   height = 500)\n",
    "fig.show()"
   ]
  },
  {
   "attachments": {},
   "cell_type": "markdown",
   "metadata": {},
   "source": [
    "![](\\newplot13.png)"
   ]
  },
  {
   "cell_type": "markdown",
   "metadata": {},
   "source": [
    "Если посмотреть самые объемные по видам действий сессии, то видно, что большая часть из них имеет в своем составе:\n",
    "\n",
    "1. Поиск 15 / 15\n",
    "2. Просмотр контактов 15 / 15\n",
    "3. Добавление в избранное 13 / 15\n",
    "4. Просмотр фото 11 / 15\n",
    "5. Открытие объявления 10 / 15\n",
    "6. Звонок по телефону 8 / 15\n",
    "\n",
    "В целом из этого можно составить наиболее полный сценарий:\n",
    "\n",
    "Поиск - просмотр фото - добавление в избранное - открытие объявления - просмотр контактов - звонок по телефону. \n",
    "\n",
    "Скорее всего, их порядок может миксоваться, меняться местами, но состав +- будет одинаковый, по крайней мере, при кол-ве действий от 4."
   ]
  },
  {
   "cell_type": "markdown",
   "metadata": {},
   "source": [
    "Далее я посмотрю как распределена частота, если нижнюю границу сессии установить на уровне 3 видов действий. "
   ]
  },
  {
   "cell_type": "code",
   "execution_count": 53,
   "metadata": {},
   "outputs": [
    {
     "data": {
      "text/plain": [
       "535"
      ]
     },
     "execution_count": 53,
     "metadata": {},
     "output_type": "execute_result"
    }
   ],
   "source": [
    "sessions_2 = list(df_cont_clean.groupby('session_id')['event_date'].count()[lambda x: x >= 3].index)\n",
    "len(sessions_2)"
   ]
  },
  {
   "cell_type": "code",
   "execution_count": 54,
   "metadata": {},
   "outputs": [
    {
     "data": {
      "text/html": [
       "<div>\n",
       "<style scoped>\n",
       "    .dataframe tbody tr th:only-of-type {\n",
       "        vertical-align: middle;\n",
       "    }\n",
       "\n",
       "    .dataframe tbody tr th {\n",
       "        vertical-align: top;\n",
       "    }\n",
       "\n",
       "    .dataframe thead th {\n",
       "        text-align: right;\n",
       "    }\n",
       "</style>\n",
       "<table border=\"1\" class=\"dataframe\">\n",
       "  <thead>\n",
       "    <tr style=\"text-align: right;\">\n",
       "      <th></th>\n",
       "      <th>event_time</th>\n",
       "      <th>event_name</th>\n",
       "      <th>user_id</th>\n",
       "      <th>event_date</th>\n",
       "      <th>weekday</th>\n",
       "      <th>session_id</th>\n",
       "    </tr>\n",
       "  </thead>\n",
       "  <tbody>\n",
       "    <tr>\n",
       "      <th>33482</th>\n",
       "      <td>2019-10-20 18:49:24</td>\n",
       "      <td>search</td>\n",
       "      <td>00157779-810c-4498-9e05-a1e9e3cedf93</td>\n",
       "      <td>2019-10-20</td>\n",
       "      <td>6</td>\n",
       "      <td>2</td>\n",
       "    </tr>\n",
       "    <tr>\n",
       "      <th>33498</th>\n",
       "      <td>2019-10-20 18:59:23</td>\n",
       "      <td>photos_show</td>\n",
       "      <td>00157779-810c-4498-9e05-a1e9e3cedf93</td>\n",
       "      <td>2019-10-20</td>\n",
       "      <td>6</td>\n",
       "      <td>2</td>\n",
       "    </tr>\n",
       "    <tr>\n",
       "      <th>33510</th>\n",
       "      <td>2019-10-20 19:03:02</td>\n",
       "      <td>favorites_add</td>\n",
       "      <td>00157779-810c-4498-9e05-a1e9e3cedf93</td>\n",
       "      <td>2019-10-20</td>\n",
       "      <td>6</td>\n",
       "      <td>2</td>\n",
       "    </tr>\n",
       "    <tr>\n",
       "      <th>33533</th>\n",
       "      <td>2019-10-20 19:17:19</td>\n",
       "      <td>show_contacts</td>\n",
       "      <td>00157779-810c-4498-9e05-a1e9e3cedf93</td>\n",
       "      <td>2019-10-20</td>\n",
       "      <td>6</td>\n",
       "      <td>2</td>\n",
       "    </tr>\n",
       "    <tr>\n",
       "      <th>33534</th>\n",
       "      <td>2019-10-20 19:17:25</td>\n",
       "      <td>contacts_call</td>\n",
       "      <td>00157779-810c-4498-9e05-a1e9e3cedf93</td>\n",
       "      <td>2019-10-20</td>\n",
       "      <td>6</td>\n",
       "      <td>2</td>\n",
       "    </tr>\n",
       "    <tr>\n",
       "      <th>...</th>\n",
       "      <td>...</td>\n",
       "      <td>...</td>\n",
       "      <td>...</td>\n",
       "      <td>...</td>\n",
       "      <td>...</td>\n",
       "      <td>...</td>\n",
       "    </tr>\n",
       "    <tr>\n",
       "      <th>2934</th>\n",
       "      <td>2019-10-08 11:31:39</td>\n",
       "      <td>map</td>\n",
       "      <td>fdd232f5-962d-4eed-ac02-f0141385cc8f</td>\n",
       "      <td>2019-10-08</td>\n",
       "      <td>1</td>\n",
       "      <td>3768</td>\n",
       "    </tr>\n",
       "    <tr>\n",
       "      <th>3017</th>\n",
       "      <td>2019-10-08 11:52:04</td>\n",
       "      <td>tips_click</td>\n",
       "      <td>fdd232f5-962d-4eed-ac02-f0141385cc8f</td>\n",
       "      <td>2019-10-08</td>\n",
       "      <td>1</td>\n",
       "      <td>3768</td>\n",
       "    </tr>\n",
       "    <tr>\n",
       "      <th>34582</th>\n",
       "      <td>2019-10-21 10:59:24</td>\n",
       "      <td>show_contacts</td>\n",
       "      <td>ff1554b5-919e-40b1-90bb-ee1f7f6d5846</td>\n",
       "      <td>2019-10-21</td>\n",
       "      <td>0</td>\n",
       "      <td>3785</td>\n",
       "    </tr>\n",
       "    <tr>\n",
       "      <th>34583</th>\n",
       "      <td>2019-10-21 10:59:26</td>\n",
       "      <td>contacts_call</td>\n",
       "      <td>ff1554b5-919e-40b1-90bb-ee1f7f6d5846</td>\n",
       "      <td>2019-10-21</td>\n",
       "      <td>0</td>\n",
       "      <td>3785</td>\n",
       "    </tr>\n",
       "    <tr>\n",
       "      <th>34592</th>\n",
       "      <td>2019-10-21 11:01:32</td>\n",
       "      <td>search</td>\n",
       "      <td>ff1554b5-919e-40b1-90bb-ee1f7f6d5846</td>\n",
       "      <td>2019-10-21</td>\n",
       "      <td>0</td>\n",
       "      <td>3785</td>\n",
       "    </tr>\n",
       "  </tbody>\n",
       "</table>\n",
       "<p>1763 rows × 6 columns</p>\n",
       "</div>"
      ],
      "text/plain": [
       "               event_time     event_name  \\\n",
       "33482 2019-10-20 18:49:24         search   \n",
       "33498 2019-10-20 18:59:23    photos_show   \n",
       "33510 2019-10-20 19:03:02  favorites_add   \n",
       "33533 2019-10-20 19:17:19  show_contacts   \n",
       "33534 2019-10-20 19:17:25  contacts_call   \n",
       "...                   ...            ...   \n",
       "2934  2019-10-08 11:31:39            map   \n",
       "3017  2019-10-08 11:52:04     tips_click   \n",
       "34582 2019-10-21 10:59:24  show_contacts   \n",
       "34583 2019-10-21 10:59:26  contacts_call   \n",
       "34592 2019-10-21 11:01:32         search   \n",
       "\n",
       "                                    user_id event_date  weekday  session_id  \n",
       "33482  00157779-810c-4498-9e05-a1e9e3cedf93 2019-10-20        6           2  \n",
       "33498  00157779-810c-4498-9e05-a1e9e3cedf93 2019-10-20        6           2  \n",
       "33510  00157779-810c-4498-9e05-a1e9e3cedf93 2019-10-20        6           2  \n",
       "33533  00157779-810c-4498-9e05-a1e9e3cedf93 2019-10-20        6           2  \n",
       "33534  00157779-810c-4498-9e05-a1e9e3cedf93 2019-10-20        6           2  \n",
       "...                                     ...        ...      ...         ...  \n",
       "2934   fdd232f5-962d-4eed-ac02-f0141385cc8f 2019-10-08        1        3768  \n",
       "3017   fdd232f5-962d-4eed-ac02-f0141385cc8f 2019-10-08        1        3768  \n",
       "34582  ff1554b5-919e-40b1-90bb-ee1f7f6d5846 2019-10-21        0        3785  \n",
       "34583  ff1554b5-919e-40b1-90bb-ee1f7f6d5846 2019-10-21        0        3785  \n",
       "34592  ff1554b5-919e-40b1-90bb-ee1f7f6d5846 2019-10-21        0        3785  \n",
       "\n",
       "[1763 rows x 6 columns]"
      ]
     },
     "execution_count": 54,
     "metadata": {},
     "output_type": "execute_result"
    }
   ],
   "source": [
    "df_cont_clean.query('session_id == @sessions_2')"
   ]
  },
  {
   "cell_type": "code",
   "execution_count": null,
   "metadata": {},
   "outputs": [],
   "source": [
    "fig = px.histogram(df_cont_clean.query('session_id == @sessions_2'),\n",
    "                   x='event_name',\n",
    "                   nbins=len(df_cont_clean.event_name.unique()),\n",
    "                   title='Events')\n",
    "fig.update_layout(bargap=0.1)\n",
    "fig.update_xaxes(title_text='Events')\n",
    "fig.show()"
   ]
  },
  {
   "attachments": {},
   "cell_type": "markdown",
   "metadata": {},
   "source": [
    "![](\\newplot14.png)"
   ]
  },
  {
   "cell_type": "markdown",
   "metadata": {},
   "source": [
    "Чаще всего встречаются поиск, просмотр контактов, открытие объявления, звонок по телефону, просмотр карты и просмотр фото.\n",
    "\n",
    "Можно предположить такие сценарии:\n",
    "\n",
    "Поиск - открытие объявления - просмотр фото - просмотр контактов\n",
    "\n",
    "Поиск - открытие объявления - просмотр контактов\n",
    "\n",
    "Поиск - просмотр карты - открытие объявления - просмотр контактов\n",
    "\n",
    "Поиск - просмотр карты - просмотр контактов - звонок по объявлению\n",
    "\n",
    "Опять же, все эти действия легко могут миксоваться между собой и быть взаимозаменяемыми. Но по гистограмме видно, что в сценарий мало вписываются два действия - добавление в избранное и кликнуть по рекомендованному объявлению. И если первое можно еще объяснить нежелание засорять ненужными объявлениями избранного, то второе указывает на то, что алгоритмя предложенных объявлений работает не очень хорошо и выдает неактуальные для пользователей предложения."
   ]
  },
  {
   "cell_type": "markdown",
   "metadata": {},
   "source": [
    "### 10.1 Проверить сколько длится сессия у тех, кто совершал целевое событие и тех, кто не совершал.\n",
    "\n",
    "Посчитаю среднее время длительности сессии у тех пользователей, кто смотрел контакты у объявления и тех, кто этого не делал, и сравню их между собой."
   ]
  },
  {
   "cell_type": "code",
   "execution_count": 55,
   "metadata": {},
   "outputs": [
    {
     "data": {
      "text/html": [
       "<div>\n",
       "<style scoped>\n",
       "    .dataframe tbody tr th:only-of-type {\n",
       "        vertical-align: middle;\n",
       "    }\n",
       "\n",
       "    .dataframe tbody tr th {\n",
       "        vertical-align: top;\n",
       "    }\n",
       "\n",
       "    .dataframe thead th {\n",
       "        text-align: right;\n",
       "    }\n",
       "</style>\n",
       "<table border=\"1\" class=\"dataframe\">\n",
       "  <thead>\n",
       "    <tr style=\"text-align: right;\">\n",
       "      <th></th>\n",
       "      <th>event_time</th>\n",
       "      <th>event_name</th>\n",
       "      <th>user_id</th>\n",
       "      <th>event_date</th>\n",
       "      <th>weekday</th>\n",
       "      <th>session_id</th>\n",
       "    </tr>\n",
       "  </thead>\n",
       "  <tbody>\n",
       "    <tr>\n",
       "      <th>31632</th>\n",
       "      <td>2019-10-19 21:34:34</td>\n",
       "      <td>search</td>\n",
       "      <td>00157779-810c-4498-9e05-a1e9e3cedf93</td>\n",
       "      <td>2019-10-19</td>\n",
       "      <td>5</td>\n",
       "      <td>1</td>\n",
       "    </tr>\n",
       "    <tr>\n",
       "      <th>31655</th>\n",
       "      <td>2019-10-19 21:40:39</td>\n",
       "      <td>photos_show</td>\n",
       "      <td>00157779-810c-4498-9e05-a1e9e3cedf93</td>\n",
       "      <td>2019-10-19</td>\n",
       "      <td>5</td>\n",
       "      <td>1</td>\n",
       "    </tr>\n",
       "    <tr>\n",
       "      <th>33482</th>\n",
       "      <td>2019-10-20 18:49:24</td>\n",
       "      <td>search</td>\n",
       "      <td>00157779-810c-4498-9e05-a1e9e3cedf93</td>\n",
       "      <td>2019-10-20</td>\n",
       "      <td>6</td>\n",
       "      <td>2</td>\n",
       "    </tr>\n",
       "    <tr>\n",
       "      <th>33498</th>\n",
       "      <td>2019-10-20 18:59:23</td>\n",
       "      <td>photos_show</td>\n",
       "      <td>00157779-810c-4498-9e05-a1e9e3cedf93</td>\n",
       "      <td>2019-10-20</td>\n",
       "      <td>6</td>\n",
       "      <td>2</td>\n",
       "    </tr>\n",
       "    <tr>\n",
       "      <th>33510</th>\n",
       "      <td>2019-10-20 19:03:02</td>\n",
       "      <td>favorites_add</td>\n",
       "      <td>00157779-810c-4498-9e05-a1e9e3cedf93</td>\n",
       "      <td>2019-10-20</td>\n",
       "      <td>6</td>\n",
       "      <td>2</td>\n",
       "    </tr>\n",
       "  </tbody>\n",
       "</table>\n",
       "</div>"
      ],
      "text/plain": [
       "               event_time     event_name  \\\n",
       "31632 2019-10-19 21:34:34         search   \n",
       "31655 2019-10-19 21:40:39    photos_show   \n",
       "33482 2019-10-20 18:49:24         search   \n",
       "33498 2019-10-20 18:59:23    photos_show   \n",
       "33510 2019-10-20 19:03:02  favorites_add   \n",
       "\n",
       "                                    user_id event_date  weekday  session_id  \n",
       "31632  00157779-810c-4498-9e05-a1e9e3cedf93 2019-10-19        5           1  \n",
       "31655  00157779-810c-4498-9e05-a1e9e3cedf93 2019-10-19        5           1  \n",
       "33482  00157779-810c-4498-9e05-a1e9e3cedf93 2019-10-20        6           2  \n",
       "33498  00157779-810c-4498-9e05-a1e9e3cedf93 2019-10-20        6           2  \n",
       "33510  00157779-810c-4498-9e05-a1e9e3cedf93 2019-10-20        6           2  "
      ]
     },
     "execution_count": 55,
     "metadata": {},
     "output_type": "execute_result"
    }
   ],
   "source": [
    "df_cont_clean.head()"
   ]
  },
  {
   "cell_type": "code",
   "execution_count": 56,
   "metadata": {},
   "outputs": [
    {
     "data": {
      "text/html": [
       "<div>\n",
       "<style scoped>\n",
       "    .dataframe tbody tr th:only-of-type {\n",
       "        vertical-align: middle;\n",
       "    }\n",
       "\n",
       "    .dataframe tbody tr th {\n",
       "        vertical-align: top;\n",
       "    }\n",
       "\n",
       "    .dataframe thead th {\n",
       "        text-align: right;\n",
       "    }\n",
       "</style>\n",
       "<table border=\"1\" class=\"dataframe\">\n",
       "  <thead>\n",
       "    <tr style=\"text-align: right;\">\n",
       "      <th></th>\n",
       "      <th>event_time</th>\n",
       "      <th>event_name</th>\n",
       "      <th>user_id</th>\n",
       "      <th>event_date</th>\n",
       "      <th>weekday</th>\n",
       "      <th>session_id</th>\n",
       "    </tr>\n",
       "  </thead>\n",
       "  <tbody>\n",
       "    <tr>\n",
       "      <th>31632</th>\n",
       "      <td>2019-10-19 21:34:34</td>\n",
       "      <td>search</td>\n",
       "      <td>00157779-810c-4498-9e05-a1e9e3cedf93</td>\n",
       "      <td>2019-10-19</td>\n",
       "      <td>5</td>\n",
       "      <td>1</td>\n",
       "    </tr>\n",
       "    <tr>\n",
       "      <th>31655</th>\n",
       "      <td>2019-10-19 21:40:39</td>\n",
       "      <td>photos_show</td>\n",
       "      <td>00157779-810c-4498-9e05-a1e9e3cedf93</td>\n",
       "      <td>2019-10-19</td>\n",
       "      <td>5</td>\n",
       "      <td>1</td>\n",
       "    </tr>\n",
       "    <tr>\n",
       "      <th>43761</th>\n",
       "      <td>2019-10-24 10:50:40</td>\n",
       "      <td>photos_show</td>\n",
       "      <td>00157779-810c-4498-9e05-a1e9e3cedf93</td>\n",
       "      <td>2019-10-24</td>\n",
       "      <td>3</td>\n",
       "      <td>3</td>\n",
       "    </tr>\n",
       "    <tr>\n",
       "      <th>43766</th>\n",
       "      <td>2019-10-24 10:52:19</td>\n",
       "      <td>advert_open</td>\n",
       "      <td>00157779-810c-4498-9e05-a1e9e3cedf93</td>\n",
       "      <td>2019-10-24</td>\n",
       "      <td>3</td>\n",
       "      <td>3</td>\n",
       "    </tr>\n",
       "    <tr>\n",
       "      <th>58047</th>\n",
       "      <td>2019-10-29 02:17:12</td>\n",
       "      <td>photos_show</td>\n",
       "      <td>00551e79-152e-4441-9cf7-565d7eb04090</td>\n",
       "      <td>2019-10-29</td>\n",
       "      <td>1</td>\n",
       "      <td>9</td>\n",
       "    </tr>\n",
       "  </tbody>\n",
       "</table>\n",
       "</div>"
      ],
      "text/plain": [
       "               event_time   event_name                               user_id  \\\n",
       "31632 2019-10-19 21:34:34       search  00157779-810c-4498-9e05-a1e9e3cedf93   \n",
       "31655 2019-10-19 21:40:39  photos_show  00157779-810c-4498-9e05-a1e9e3cedf93   \n",
       "43761 2019-10-24 10:50:40  photos_show  00157779-810c-4498-9e05-a1e9e3cedf93   \n",
       "43766 2019-10-24 10:52:19  advert_open  00157779-810c-4498-9e05-a1e9e3cedf93   \n",
       "58047 2019-10-29 02:17:12  photos_show  00551e79-152e-4441-9cf7-565d7eb04090   \n",
       "\n",
       "      event_date  weekday  session_id  \n",
       "31632 2019-10-19        5           1  \n",
       "31655 2019-10-19        5           1  \n",
       "43761 2019-10-24        3           3  \n",
       "43766 2019-10-24        3           3  \n",
       "58047 2019-10-29        1           9  "
      ]
     },
     "execution_count": 56,
     "metadata": {},
     "output_type": "execute_result"
    }
   ],
   "source": [
    "s_c = list(df_cont_clean.query('event_name == \"show_contacts\"').session_id)\n",
    "df_not_sc = df_cont_clean.query('session_id != @s_c')\n",
    "df_not_sc.head()"
   ]
  },
  {
   "cell_type": "code",
   "execution_count": 57,
   "metadata": {},
   "outputs": [
    {
     "name": "stdout",
     "output_type": "stream",
     "text": [
      "Продолжительность сессии, если в составе нет просмотра контактов: count                         1466\n",
      "mean     0 days 00:02:03.898362892\n",
      "std      0 days 00:08:29.843949796\n",
      "min                0 days 00:00:00\n",
      "25%                0 days 00:00:00\n",
      "50%                0 days 00:00:00\n",
      "75%         0 days 00:00:13.750000\n",
      "max                0 days 02:54:05\n",
      "Name: lifetime, dtype: object\n"
     ]
    }
   ],
   "source": [
    "not_show_contacts = df_not_sc.groupby('session_id',as_index=False)['event_time'].agg(['max','min'])\n",
    "not_show_contacts['lifetime'] = (not_show_contacts['max'] - not_show_contacts['min'])\n",
    "print('Продолжительность сессии, если в составе нет просмотра контактов:',\n",
    "      not_show_contacts['lifetime'].describe())"
   ]
  },
  {
   "cell_type": "code",
   "execution_count": 58,
   "metadata": {},
   "outputs": [
    {
     "name": "stdout",
     "output_type": "stream",
     "text": [
      "Продолжительность сессии, если в составе есть просмотр контактов: count                         1703\n",
      "mean     0 days 00:07:03.784497944\n",
      "std      0 days 00:14:24.569618419\n",
      "min                0 days 00:00:00\n",
      "25%                0 days 00:00:00\n",
      "50%                0 days 00:01:02\n",
      "75%                0 days 00:07:51\n",
      "max                0 days 03:21:08\n",
      "Name: lifetime, dtype: object\n"
     ]
    }
   ],
   "source": [
    "df_sc = df_cont_clean.query('session_id == @s_c')\n",
    "show_contact = df_sc.groupby('session_id',as_index=False)['event_time'].agg(['max','min'])\n",
    "show_contact['lifetime'] = show_contact['max'] - show_contact['min']\n",
    "print('Продолжительность сессии, если в составе есть просмотр контактов:', show_contact['lifetime'].describe())"
   ]
  },
  {
   "cell_type": "markdown",
   "metadata": {},
   "source": [
    "В среднем сессия, которая имеет в своем составе целевое действие, длится в три раза дольше, чем те, которые не имеют.\n",
    "\n",
    "Но это если сравнивать сессии пользователей, которые хоть единожды, но совершали целевое действие. А далее я сравню пользователей, которые никогда не смотрели контакты."
   ]
  },
  {
   "cell_type": "code",
   "execution_count": 59,
   "metadata": {},
   "outputs": [
    {
     "data": {
      "text/html": [
       "<div>\n",
       "<style scoped>\n",
       "    .dataframe tbody tr th:only-of-type {\n",
       "        vertical-align: middle;\n",
       "    }\n",
       "\n",
       "    .dataframe tbody tr th {\n",
       "        vertical-align: top;\n",
       "    }\n",
       "\n",
       "    .dataframe thead th {\n",
       "        text-align: right;\n",
       "    }\n",
       "</style>\n",
       "<table border=\"1\" class=\"dataframe\">\n",
       "  <thead>\n",
       "    <tr style=\"text-align: right;\">\n",
       "      <th></th>\n",
       "      <th>event_time</th>\n",
       "      <th>event_name</th>\n",
       "      <th>user_id</th>\n",
       "      <th>event_date</th>\n",
       "      <th>weekday</th>\n",
       "      <th>session_id</th>\n",
       "    </tr>\n",
       "  </thead>\n",
       "  <tbody>\n",
       "    <tr>\n",
       "      <th>31632</th>\n",
       "      <td>2019-10-19 21:34:34</td>\n",
       "      <td>search</td>\n",
       "      <td>00157779-810c-4498-9e05-a1e9e3cedf93</td>\n",
       "      <td>2019-10-19</td>\n",
       "      <td>5</td>\n",
       "      <td>1</td>\n",
       "    </tr>\n",
       "    <tr>\n",
       "      <th>31655</th>\n",
       "      <td>2019-10-19 21:40:39</td>\n",
       "      <td>photos_show</td>\n",
       "      <td>00157779-810c-4498-9e05-a1e9e3cedf93</td>\n",
       "      <td>2019-10-19</td>\n",
       "      <td>5</td>\n",
       "      <td>1</td>\n",
       "    </tr>\n",
       "    <tr>\n",
       "      <th>33482</th>\n",
       "      <td>2019-10-20 18:49:24</td>\n",
       "      <td>search</td>\n",
       "      <td>00157779-810c-4498-9e05-a1e9e3cedf93</td>\n",
       "      <td>2019-10-20</td>\n",
       "      <td>6</td>\n",
       "      <td>2</td>\n",
       "    </tr>\n",
       "    <tr>\n",
       "      <th>33498</th>\n",
       "      <td>2019-10-20 18:59:23</td>\n",
       "      <td>photos_show</td>\n",
       "      <td>00157779-810c-4498-9e05-a1e9e3cedf93</td>\n",
       "      <td>2019-10-20</td>\n",
       "      <td>6</td>\n",
       "      <td>2</td>\n",
       "    </tr>\n",
       "    <tr>\n",
       "      <th>33510</th>\n",
       "      <td>2019-10-20 19:03:02</td>\n",
       "      <td>favorites_add</td>\n",
       "      <td>00157779-810c-4498-9e05-a1e9e3cedf93</td>\n",
       "      <td>2019-10-20</td>\n",
       "      <td>6</td>\n",
       "      <td>2</td>\n",
       "    </tr>\n",
       "  </tbody>\n",
       "</table>\n",
       "</div>"
      ],
      "text/plain": [
       "               event_time     event_name  \\\n",
       "31632 2019-10-19 21:34:34         search   \n",
       "31655 2019-10-19 21:40:39    photos_show   \n",
       "33482 2019-10-20 18:49:24         search   \n",
       "33498 2019-10-20 18:59:23    photos_show   \n",
       "33510 2019-10-20 19:03:02  favorites_add   \n",
       "\n",
       "                                    user_id event_date  weekday  session_id  \n",
       "31632  00157779-810c-4498-9e05-a1e9e3cedf93 2019-10-19        5           1  \n",
       "31655  00157779-810c-4498-9e05-a1e9e3cedf93 2019-10-19        5           1  \n",
       "33482  00157779-810c-4498-9e05-a1e9e3cedf93 2019-10-20        6           2  \n",
       "33498  00157779-810c-4498-9e05-a1e9e3cedf93 2019-10-20        6           2  \n",
       "33510  00157779-810c-4498-9e05-a1e9e3cedf93 2019-10-20        6           2  "
      ]
     },
     "execution_count": 59,
     "metadata": {},
     "output_type": "execute_result"
    }
   ],
   "source": [
    "df_not_contacts_events = df.query('user_id != @user_id_show_contacts')\n",
    "\n",
    "df_not_contacts_events = df_contacts_events.sort_values(by=['user_id', 'event_time'])\n",
    "g_not_cont = ( df_not_contacts_events.groupby('user_id')['event_time'].diff() > pd.Timedelta('30Min') ).cumsum()\n",
    "df_not_contacts_events['session_id'] = df_not_contacts_events.groupby(['user_id', g_not_cont], \n",
    "                                                                      sort=False).ngroup() + 1\n",
    "df_not_cont_clean = df_not_contacts_events.query('event_name != \"tips_show\"')\n",
    "df_not_cont_clean = df_not_cont_clean.drop_duplicates(subset=['session_id', 'event_name'])\n",
    "df_not_cont_clean.head()"
   ]
  },
  {
   "cell_type": "code",
   "execution_count": 60,
   "metadata": {},
   "outputs": [
    {
     "name": "stdout",
     "output_type": "stream",
     "text": [
      "Продолжительность сессии пользователей, которые вообще ни разу не смотрели контакты: count                         3169\n",
      "mean     0 days 00:04:45.055222467\n",
      "std      0 days 00:12:17.666960072\n",
      "min                0 days 00:00:00\n",
      "25%                0 days 00:00:00\n",
      "50%                0 days 00:00:00\n",
      "75%                0 days 00:03:49\n",
      "max                0 days 03:21:08\n",
      "Name: lifetime, dtype: object\n"
     ]
    }
   ],
   "source": [
    "show_not_not_contact = df_not_cont_clean.groupby('session_id',as_index=False)['event_time'].agg(['max','min'])\n",
    "show_not_not_contact['lifetime'] = (show_not_not_contact['max'] - show_not_not_contact['min'])\n",
    "print('Продолжительность сессии пользователей, которые вообще ни разу не смотрели контакты:', show_not_not_contact['lifetime'].describe())"
   ]
  },
  {
   "cell_type": "code",
   "execution_count": 61,
   "metadata": {},
   "outputs": [
    {
     "name": "stdout",
     "output_type": "stream",
     "text": [
      "Кол-во сессий с одним действием, у тех пользователей, которые ни разу не выполняли целевое действие: 1698\n",
      "Кол-во сессий с одним действием, у тех пользователей, которые выполнили целевое действие: 611\n"
     ]
    }
   ],
   "source": [
    "print('Кол-во сессий с одним действием, у тех пользователей, которые ни разу не выполняли целевое действие:', \n",
    "      len(df_not_cont_clean.groupby('session_id')['event_name'].count()[lambda x: x == 1]))\n",
    "print('Кол-во сессий с одним действием, у тех пользователей, которые выполнили целевое действие:', \n",
    "      len(df_sc.groupby('session_id')['event_name'].count()[lambda x: x == 1]))"
   ]
  },
  {
   "cell_type": "markdown",
   "metadata": {},
   "source": [
    "В этом случае продолжительность сессии больше, чем у тех, кто в конкретной сессии не смотрел контакты, но хоть раз это делал. И меньше, чем в тех сессиях, когда контакты просматривались. "
   ]
  },
  {
   "attachments": {},
   "cell_type": "markdown",
   "metadata": {},
   "source": [
    "<div class=\"alert alert-block alert-info\"> \n",
    "У людей, которые совершали целевое действие хоть раз, наибольшее среднее время, проведенное в приложении - 7 минут, при этом довольно большое стандартное отклонение - 14 минут, что говорит о больших выбросах. При этом медиана - 1 минута, 3 квартиль - 8 минут, что почти совпадает со средним, а значит, что пользователи совершали много супер коротких сессий из одного действия. \n",
    "\n",
    "У пользователей, которые ни разу не совершали целевое действие, среднее время, проведенное в приложении - 4 минуты 45 секунд, при этом тоже довольно большое стандартное отклонение - 12 минут, но которое меньше, чем у тех, которые смотрели контакты. Это так же указывает на наличие выбросов. При этом медиана - 0 минут 0 секунд, скорее всего половина этих пользователей проводила в приложении доли секунд и совершала одно действие. 3 квартиль - 3 минуты 49 секунд, что тоже близко к среднему, как и в первом случае.\n",
    "\n",
    "Так как у рассмотренных двух групп пользователей различаются: среднии, медианные, а также 3квартили, и все в пользу тех, кто хоть раз совершал целевое действие, то можно сказать, что:\n",
    "    \n",
    "    \n",
    "1. Пользователи, которые совершали целевое действие, больше времени проводят в приложении\n",
    "\n",
    "2. Имеют меньшее кол-во коротких сессий, когда выполнялось только одно действие. У тех, кто ни разу не смотрел контакты - 1698 единичных сессий; у тех, кто совершал целевое действие - 611.  </div>"
   ]
  },
  {
   "cell_type": "markdown",
   "metadata": {},
   "source": [
    "## 11. Построить визуализацию, для нескольких сценариев. Сравнить их между собой и выделить наиболее приоритетные, с наибольшей долей уникальных пользователей, которые доходят до целевого действия."
   ]
  },
  {
   "cell_type": "markdown",
   "metadata": {},
   "source": [
    "## 12. Посмотреть на каком шаге сценариев больше всего отпадают пользователи. В процентом соотношении + в абсолют. величинах."
   ]
  },
  {
   "cell_type": "markdown",
   "metadata": {},
   "source": [
    "Объединю эти два пункта, так как процентное соотношени и сколько отпало пользователей, есть на визуализациях воронок."
   ]
  },
  {
   "cell_type": "markdown",
   "metadata": {},
   "source": [
    "В пункте 10 работы было выделено несколько сценариев из них самым длинным является:\n",
    "\n",
    "Поиск - просмотр фото - добавление в избранное - открытие объявления - просмотр контактов - звонок по телефону\n",
    "\n",
    "А самым частым:\n",
    "\n",
    "Поиск - открытие объявления - просмотр фото - просмотр контактов\n"
   ]
  },
  {
   "cell_type": "code",
   "execution_count": 62,
   "metadata": {},
   "outputs": [],
   "source": [
    "long_script = ( df_cont_clean.query('event_name == \"search\" |  event_name == \"photos_show\" | event_name == \"favorites_add\" | event_name == \"advert_open\" | event_name == \"show_contacts\" | event_name == \"contacts_call\"') )"
   ]
  },
  {
   "cell_type": "code",
   "execution_count": 63,
   "metadata": {},
   "outputs": [
    {
     "data": {
      "text/plain": [
       "session_id\n",
       "4       6\n",
       "1028    6\n",
       "1411    6\n",
       "Name: event_name, dtype: int64"
      ]
     },
     "execution_count": 63,
     "metadata": {},
     "output_type": "execute_result"
    }
   ],
   "source": [
    "long_script.groupby('session_id')['event_name'].count()[lambda x: x == 6]"
   ]
  },
  {
   "cell_type": "markdown",
   "metadata": {},
   "source": [
    "Их всего 3 штуки, поэтому их рассматривать не имеет смысла. Возьму без сценарий без добавления в избранное."
   ]
  },
  {
   "cell_type": "code",
   "execution_count": 64,
   "metadata": {},
   "outputs": [
    {
     "data": {
      "text/plain": [
       "session_id\n",
       "4       5\n",
       "1028    5\n",
       "1411    5\n",
       "Name: event_name, dtype: int64"
      ]
     },
     "execution_count": 64,
     "metadata": {},
     "output_type": "execute_result"
    }
   ],
   "source": [
    "long_script = ( df_cont_clean.query('event_name == \"search\" |  event_name == \"photos_show\" | event_name == \"advert_open\" | event_name == \"show_contacts\" | event_name == \"contacts_call\"') )\n",
    "\n",
    "long_script.groupby('session_id')['event_name'].count()[lambda x: x == 5]"
   ]
  },
  {
   "cell_type": "code",
   "execution_count": 65,
   "metadata": {},
   "outputs": [
    {
     "data": {
      "text/plain": [
       "session_id\n",
       "4       4\n",
       "710     4\n",
       "771     4\n",
       "1028    4\n",
       "1411    4\n",
       "2079    4\n",
       "3336    4\n",
       "Name: event_name, dtype: int64"
      ]
     },
     "execution_count": 65,
     "metadata": {},
     "output_type": "execute_result"
    }
   ],
   "source": [
    "short_script_1 = ( df_cont_clean.query('event_name == \"search\" |  event_name == \"photos_show\" | event_name == \"advert_open\" | event_name == \"show_contacts\"') )\n",
    "\n",
    "short_script_1.groupby('session_id')['event_name'].count()[lambda x: x == 4]"
   ]
  },
  {
   "cell_type": "markdown",
   "metadata": {},
   "source": [
    "Однако сессий, когда выполнялся бы длинный сценарий полностью, очень мало. Поэтому буду рассматривать сценарии из 3 действий: \n",
    "\n",
    "Поиск - просмотр фото - просмотр контактов\n",
    "\n",
    "Поиск - просмотр фото - открытие объявления \n",
    "\n",
    "Первое с целевым действием, второе без."
   ]
  },
  {
   "cell_type": "code",
   "execution_count": 66,
   "metadata": {},
   "outputs": [
    {
     "name": "stdout",
     "output_type": "stream",
     "text": [
      "Кол-во сессий, когда был сделан сценарий-1: 134\n"
     ]
    }
   ],
   "source": [
    "short_script_sc = ( df_cont_clean.query('event_name == \"search\" |  event_name == \"photos_show\"  | event_name == \"show_contacts\"') )\n",
    "\n",
    "print('Кол-во сессий, когда был сделан сценарий-1:',\n",
    "      len(short_script_sc.groupby('session_id')['event_name'].count()[lambda x: x == 3]))"
   ]
  },
  {
   "cell_type": "code",
   "execution_count": 67,
   "metadata": {},
   "outputs": [
    {
     "name": "stdout",
     "output_type": "stream",
     "text": [
      "Кол-во сессий, когда был сделан сценарий-2: 21\n"
     ]
    }
   ],
   "source": [
    "short_script = ( df_cont_clean.query('event_name == \"search\" |  event_name == \"photos_show\"  | event_name == \"advert_open\"') )\n",
    "\n",
    "print('Кол-во сессий, когда был сделан сценарий-2:', \n",
    "      len(short_script.groupby('session_id')['event_name'].count()[lambda x: x == 3]))"
   ]
  },
  {
   "cell_type": "markdown",
   "metadata": {},
   "source": [
    "Действительно, первый сценарий является наиболее частым у пользователей, которые хоть раз смотрели контакты.\n",
    "\n",
    "А теперь проверю второй сценарий по всему ДФ, т.е. и по пользователям, которые ни разу не делали целевое действие."
   ]
  },
  {
   "cell_type": "code",
   "execution_count": 68,
   "metadata": {},
   "outputs": [
    {
     "data": {
      "text/html": [
       "<div>\n",
       "<style scoped>\n",
       "    .dataframe tbody tr th:only-of-type {\n",
       "        vertical-align: middle;\n",
       "    }\n",
       "\n",
       "    .dataframe tbody tr th {\n",
       "        vertical-align: top;\n",
       "    }\n",
       "\n",
       "    .dataframe thead th {\n",
       "        text-align: right;\n",
       "    }\n",
       "</style>\n",
       "<table border=\"1\" class=\"dataframe\">\n",
       "  <thead>\n",
       "    <tr style=\"text-align: right;\">\n",
       "      <th></th>\n",
       "      <th>event_time</th>\n",
       "      <th>event_name</th>\n",
       "      <th>user_id</th>\n",
       "      <th>event_date</th>\n",
       "      <th>weekday</th>\n",
       "      <th>session_id</th>\n",
       "    </tr>\n",
       "  </thead>\n",
       "  <tbody>\n",
       "    <tr>\n",
       "      <th>31632</th>\n",
       "      <td>2019-10-19 21:34:34</td>\n",
       "      <td>search</td>\n",
       "      <td>00157779-810c-4498-9e05-a1e9e3cedf93</td>\n",
       "      <td>2019-10-19</td>\n",
       "      <td>5</td>\n",
       "      <td>1</td>\n",
       "    </tr>\n",
       "    <tr>\n",
       "      <th>31655</th>\n",
       "      <td>2019-10-19 21:40:39</td>\n",
       "      <td>photos_show</td>\n",
       "      <td>00157779-810c-4498-9e05-a1e9e3cedf93</td>\n",
       "      <td>2019-10-19</td>\n",
       "      <td>5</td>\n",
       "      <td>1</td>\n",
       "    </tr>\n",
       "    <tr>\n",
       "      <th>33482</th>\n",
       "      <td>2019-10-20 18:49:24</td>\n",
       "      <td>search</td>\n",
       "      <td>00157779-810c-4498-9e05-a1e9e3cedf93</td>\n",
       "      <td>2019-10-20</td>\n",
       "      <td>6</td>\n",
       "      <td>2</td>\n",
       "    </tr>\n",
       "    <tr>\n",
       "      <th>33498</th>\n",
       "      <td>2019-10-20 18:59:23</td>\n",
       "      <td>photos_show</td>\n",
       "      <td>00157779-810c-4498-9e05-a1e9e3cedf93</td>\n",
       "      <td>2019-10-20</td>\n",
       "      <td>6</td>\n",
       "      <td>2</td>\n",
       "    </tr>\n",
       "    <tr>\n",
       "      <th>33510</th>\n",
       "      <td>2019-10-20 19:03:02</td>\n",
       "      <td>favorites_add</td>\n",
       "      <td>00157779-810c-4498-9e05-a1e9e3cedf93</td>\n",
       "      <td>2019-10-20</td>\n",
       "      <td>6</td>\n",
       "      <td>2</td>\n",
       "    </tr>\n",
       "  </tbody>\n",
       "</table>\n",
       "</div>"
      ],
      "text/plain": [
       "               event_time     event_name  \\\n",
       "31632 2019-10-19 21:34:34         search   \n",
       "31655 2019-10-19 21:40:39    photos_show   \n",
       "33482 2019-10-20 18:49:24         search   \n",
       "33498 2019-10-20 18:59:23    photos_show   \n",
       "33510 2019-10-20 19:03:02  favorites_add   \n",
       "\n",
       "                                    user_id event_date  weekday  session_id  \n",
       "31632  00157779-810c-4498-9e05-a1e9e3cedf93 2019-10-19        5           1  \n",
       "31655  00157779-810c-4498-9e05-a1e9e3cedf93 2019-10-19        5           1  \n",
       "33482  00157779-810c-4498-9e05-a1e9e3cedf93 2019-10-20        6           2  \n",
       "33498  00157779-810c-4498-9e05-a1e9e3cedf93 2019-10-20        6           2  \n",
       "33510  00157779-810c-4498-9e05-a1e9e3cedf93 2019-10-20        6           2  "
      ]
     },
     "execution_count": 68,
     "metadata": {},
     "output_type": "execute_result"
    }
   ],
   "source": [
    "df_not_cont_clean.head()"
   ]
  },
  {
   "cell_type": "code",
   "execution_count": 69,
   "metadata": {},
   "outputs": [
    {
     "name": "stdout",
     "output_type": "stream",
     "text": [
      "Кол-во сессий, когда был сделан сценарий-2: 42\n"
     ]
    }
   ],
   "source": [
    "short_script_2 = ( df_not_cont_clean.query('event_name == \"search\" |  event_name == \"photos_show\"  | event_name == \"advert_open\"') )\n",
    "\n",
    "print('Кол-во сессий, когда был сделан сценарий-2:', \n",
    "      len(short_script_2.groupby('session_id')['event_name'].count()[lambda x: x == 3]) \n",
    "      + len(short_script.groupby('session_id')['event_name'].count()[lambda x: x == 3]))"
   ]
  },
  {
   "cell_type": "markdown",
   "metadata": {},
   "source": [
    "Всего выделено три основных сценария: первый - самый часто встречающийся (Поиск - просмотр фото - просмотр контактов)\n",
    "\n",
    "второй - с альтернативным целевым действием (поиск - просмотр фото - просмотр объявления)\n",
    "\n",
    "третий - самый длинный и самый полный (поиск - просмотр фото - просмотр контактов - открытие объявления - звонок по объявлению).\n",
    "\n",
    "Наиболее приоритетным является первый, а второ будет рассматриваться, как альтернатива, и на их основе будет проводиться эксперимент 4.2. "
   ]
  },
  {
   "cell_type": "markdown",
   "metadata": {},
   "source": [
    "Вначале посчитаю кол-во уникальных пользователей на первом шаге воронки. Потому возьму сессии этих пользователей и профильтрую по нему срез по второму шагу - просмотр фото, чтобы туда попали только те, кто совершал поиск."
   ]
  },
  {
   "cell_type": "code",
   "execution_count": 70,
   "metadata": {},
   "outputs": [],
   "source": [
    "df = df.sort_values(by=['user_id', 'event_time'])\n",
    "d = ( df.groupby('user_id')['event_time'].diff() > pd.Timedelta('30Min') ).cumsum()\n",
    "df['session_id'] = df.groupby(['user_id', d], sort=False).ngroup() + 1\n",
    "\n",
    "df_clean = df.drop_duplicates(subset=['session_id', 'event_name'])"
   ]
  },
  {
   "cell_type": "code",
   "execution_count": 71,
   "metadata": {},
   "outputs": [],
   "source": [
    "def funnel(df, event_first, event_second, event_third):\n",
    "    \n",
    "    corr = ( df.query('event_name == @event_first').\n",
    "                           groupby('event_name', as_index=False)['user_id'].nunique())\n",
    "    \n",
    "    ff = df.query('event_name == @event_first')[['event_time', 'session_id']]\n",
    "    \n",
    "    #filtr = list(df.query('event_name == @event_first').session_id.unique())\n",
    "    \n",
    "    corr = corr.append( df.query('event_name == @event_second').\n",
    "                                 query('session_id == list(@ff.session_id)').\n",
    "                                 merge(ff, on='session_id', suffixes=('', '_x')).\n",
    "                                 query('event_time > event_time_x').\n",
    "                                 groupby('event_name', as_index=False)['user_id'].nunique())\n",
    "    \n",
    "    ff = ( df.query('event_name == @event_second').\n",
    "           query('session_id == list(@ff.session_id)').\n",
    "           merge(ff, on='session_id', suffixes=('', '_x')).\n",
    "           query('event_time > event_time_x'))[['event_time', 'session_id']]\n",
    "    \n",
    "    corr = corr.append( df.query('event_name == @event_third').\n",
    "                                 query('session_id == list(@ff.session_id)').\n",
    "                                 merge(ff, on='session_id', suffixes=('', '_x')).\n",
    "                                 query('event_time > event_time_x').\n",
    "                                 groupby('event_name', as_index=False)['user_id'].nunique()).reset_index(drop=True)\n",
    "    \n",
    "    \n",
    "    return corr"
   ]
  },
  {
   "cell_type": "code",
   "execution_count": 72,
   "metadata": {},
   "outputs": [
    {
     "data": {
      "text/html": [
       "<div>\n",
       "<style scoped>\n",
       "    .dataframe tbody tr th:only-of-type {\n",
       "        vertical-align: middle;\n",
       "    }\n",
       "\n",
       "    .dataframe tbody tr th {\n",
       "        vertical-align: top;\n",
       "    }\n",
       "\n",
       "    .dataframe thead th {\n",
       "        text-align: right;\n",
       "    }\n",
       "</style>\n",
       "<table border=\"1\" class=\"dataframe\">\n",
       "  <thead>\n",
       "    <tr style=\"text-align: right;\">\n",
       "      <th></th>\n",
       "      <th>event_name</th>\n",
       "      <th>user_id</th>\n",
       "    </tr>\n",
       "  </thead>\n",
       "  <tbody>\n",
       "    <tr>\n",
       "      <th>0</th>\n",
       "      <td>search</td>\n",
       "      <td>1666</td>\n",
       "    </tr>\n",
       "    <tr>\n",
       "      <th>1</th>\n",
       "      <td>photos_show</td>\n",
       "      <td>478</td>\n",
       "    </tr>\n",
       "    <tr>\n",
       "      <th>2</th>\n",
       "      <td>show_contacts</td>\n",
       "      <td>59</td>\n",
       "    </tr>\n",
       "  </tbody>\n",
       "</table>\n",
       "</div>"
      ],
      "text/plain": [
       "      event_name  user_id\n",
       "0         search     1666\n",
       "1    photos_show      478\n",
       "2  show_contacts       59"
      ]
     },
     "execution_count": 72,
     "metadata": {},
     "output_type": "execute_result"
    }
   ],
   "source": [
    "new_funnel_script_1 = funnel(df_clean, 'search', 'photos_show','show_contacts')\n",
    "new_funnel_script_1"
   ]
  },
  {
   "cell_type": "code",
   "execution_count": 73,
   "metadata": {},
   "outputs": [
    {
     "data": {
      "text/html": [
       "<div>\n",
       "<style scoped>\n",
       "    .dataframe tbody tr th:only-of-type {\n",
       "        vertical-align: middle;\n",
       "    }\n",
       "\n",
       "    .dataframe tbody tr th {\n",
       "        vertical-align: top;\n",
       "    }\n",
       "\n",
       "    .dataframe thead th {\n",
       "        text-align: right;\n",
       "    }\n",
       "</style>\n",
       "<table border=\"1\" class=\"dataframe\">\n",
       "  <thead>\n",
       "    <tr style=\"text-align: right;\">\n",
       "      <th></th>\n",
       "      <th>event_name</th>\n",
       "      <th>user_id</th>\n",
       "    </tr>\n",
       "  </thead>\n",
       "  <tbody>\n",
       "    <tr>\n",
       "      <th>0</th>\n",
       "      <td>search</td>\n",
       "      <td>1666</td>\n",
       "    </tr>\n",
       "    <tr>\n",
       "      <th>1</th>\n",
       "      <td>photos_show</td>\n",
       "      <td>478</td>\n",
       "    </tr>\n",
       "    <tr>\n",
       "      <th>2</th>\n",
       "      <td>advert_open</td>\n",
       "      <td>13</td>\n",
       "    </tr>\n",
       "  </tbody>\n",
       "</table>\n",
       "</div>"
      ],
      "text/plain": [
       "    event_name  user_id\n",
       "0       search     1666\n",
       "1  photos_show      478\n",
       "2  advert_open       13"
      ]
     },
     "execution_count": 73,
     "metadata": {},
     "output_type": "execute_result"
    }
   ],
   "source": [
    "new_funnel_script_2 = funnel(df_clean, 'search', 'photos_show','advert_open')\n",
    "new_funnel_script_2"
   ]
  },
  {
   "cell_type": "code",
   "execution_count": 74,
   "metadata": {},
   "outputs": [
    {
     "data": {
      "text/html": [
       "<div>\n",
       "<style scoped>\n",
       "    .dataframe tbody tr th:only-of-type {\n",
       "        vertical-align: middle;\n",
       "    }\n",
       "\n",
       "    .dataframe tbody tr th {\n",
       "        vertical-align: top;\n",
       "    }\n",
       "\n",
       "    .dataframe thead th {\n",
       "        text-align: right;\n",
       "    }\n",
       "</style>\n",
       "<table border=\"1\" class=\"dataframe\">\n",
       "  <thead>\n",
       "    <tr style=\"text-align: right;\">\n",
       "      <th></th>\n",
       "      <th>event_name</th>\n",
       "      <th>user_id</th>\n",
       "    </tr>\n",
       "  </thead>\n",
       "  <tbody>\n",
       "    <tr>\n",
       "      <th>0</th>\n",
       "      <td>search</td>\n",
       "      <td>1666</td>\n",
       "    </tr>\n",
       "    <tr>\n",
       "      <th>1</th>\n",
       "      <td>show_contacts</td>\n",
       "      <td>242</td>\n",
       "    </tr>\n",
       "    <tr>\n",
       "      <th>2</th>\n",
       "      <td>contacts_call</td>\n",
       "      <td>69</td>\n",
       "    </tr>\n",
       "  </tbody>\n",
       "</table>\n",
       "</div>"
      ],
      "text/plain": [
       "      event_name  user_id\n",
       "0         search     1666\n",
       "1  show_contacts      242\n",
       "2  contacts_call       69"
      ]
     },
     "execution_count": 74,
     "metadata": {},
     "output_type": "execute_result"
    }
   ],
   "source": [
    "new_funnel_script_3 = funnel(df_clean, 'search', 'show_contacts','contacts_call')\n",
    "new_funnel_script_3"
   ]
  },
  {
   "cell_type": "code",
   "execution_count": null,
   "metadata": {},
   "outputs": [],
   "source": [
    "fig = go.Figure(go.Funnel(\n",
    "                 y=new_funnel_script_1.event_name,\n",
    "                 x=new_funnel_script_1.user_id,\n",
    "                 textinfo = \"value+percent initial+percent previous\"\n",
    "                 ))\n",
    "\n",
    "fig.update_yaxes(title_text='Events')\n",
    "\n",
    "fig.show()"
   ]
  },
  {
   "attachments": {},
   "cell_type": "markdown",
   "metadata": {},
   "source": [
    "![](\\newplot15.png)"
   ]
  },
  {
   "cell_type": "code",
   "execution_count": null,
   "metadata": {},
   "outputs": [],
   "source": [
    "fig = go.Figure(go.Funnel(\n",
    "                 y=new_funnel_script_2.event_name,\n",
    "                 x=new_funnel_script_2.user_id,\n",
    "                 textinfo = \"value+percent initial+percent previous\"\n",
    "                 ))\n",
    "\n",
    "fig.update_yaxes(title_text='Events')\n",
    "\n",
    "fig.show()"
   ]
  },
  {
   "attachments": {},
   "cell_type": "markdown",
   "metadata": {},
   "source": [
    "![](\\newplot16.png)"
   ]
  },
  {
   "cell_type": "code",
   "execution_count": null,
   "metadata": {},
   "outputs": [],
   "source": [
    "fig = go.Figure(go.Funnel(\n",
    "                 y=new_funnel_script_3.event_name,\n",
    "                 x=new_funnel_script_3.user_id,\n",
    "                 textinfo = \"value+percent initial+percent previous\"\n",
    "                 ))\n",
    "\n",
    "fig.update_yaxes(title_text='Events')\n",
    "\n",
    "fig.show()"
   ]
  },
  {
   "attachments": {},
   "cell_type": "markdown",
   "metadata": {},
   "source": [
    "![](\\newplot17.png)"
   ]
  },
  {
   "cell_type": "markdown",
   "metadata": {},
   "source": [
    "<div class=\"alert alert-block alert-info\"> Получились три воронки, где: первая - с целевым действие \"просмотр контактов\". Наиболее часто встречающийся сценарий. \n",
    "    \n",
    "вторая - с альтернативным целевым действием \"просмотр объявления\". Просто чтоб была.\n",
    "    \n",
    "третья - чтобы сценарий, когда после просмотра контактов, еще и позвонили. (самый большой процент от предыдущего шага здесь)</div>"
   ]
  },
  {
   "cell_type": "markdown",
   "metadata": {},
   "source": [
    " <div class=\"alert alert-block alert-info\"> Далее посмотрю сколько человек переходят с какого-то действия на целевое и так можно сказать, что сильнее всего влияет на просмотр контактов, т.е. конверсию. </div>"
   ]
  },
  {
   "cell_type": "code",
   "execution_count": 75,
   "metadata": {},
   "outputs": [],
   "source": [
    "all_events = list(df.query('event_name != \"show_contacts\"').event_name.unique())"
   ]
  },
  {
   "cell_type": "code",
   "execution_count": 76,
   "metadata": {},
   "outputs": [],
   "source": [
    "def funnel_1(df, event_first, event_second):\n",
    "    \n",
    "    corr = ( df.query('event_name == @event_first').\n",
    "                           groupby('event_name', as_index=False)['user_id'].nunique())\n",
    "    \n",
    "    ff = df.query('event_name == @event_first')[['event_time', 'session_id']]\n",
    "    \n",
    "    #filtr = list(df.query('event_name == @event_first').session_id.unique())\n",
    "    \n",
    "    corr = corr.append( df.query('event_name == @event_second').\n",
    "                                 query('session_id == list(@ff.session_id)').\n",
    "                                 merge(ff, on='session_id').\n",
    "                                 query('event_time_x > event_time_y').\n",
    "                                 groupby('event_name', as_index=False)['user_id'].nunique()).reset_index(drop=True)\n",
    "    \n",
    "    corr['perc'] = round(corr.user_id * 100 / corr.user_id.shift(periods=1), 2)\n",
    "    return corr "
   ]
  },
  {
   "cell_type": "code",
   "execution_count": 77,
   "metadata": {},
   "outputs": [
    {
     "data": {
      "text/html": [
       "<div>\n",
       "<style scoped>\n",
       "    .dataframe tbody tr th:only-of-type {\n",
       "        vertical-align: middle;\n",
       "    }\n",
       "\n",
       "    .dataframe tbody tr th {\n",
       "        vertical-align: top;\n",
       "    }\n",
       "\n",
       "    .dataframe thead th {\n",
       "        text-align: right;\n",
       "    }\n",
       "</style>\n",
       "<table border=\"1\" class=\"dataframe\">\n",
       "  <thead>\n",
       "    <tr style=\"text-align: right;\">\n",
       "      <th></th>\n",
       "      <th>event_name</th>\n",
       "      <th>user_id</th>\n",
       "      <th>perc</th>\n",
       "    </tr>\n",
       "  </thead>\n",
       "  <tbody>\n",
       "    <tr>\n",
       "      <th>0</th>\n",
       "      <td>tips_show</td>\n",
       "      <td>2801</td>\n",
       "      <td>NaN</td>\n",
       "    </tr>\n",
       "    <tr>\n",
       "      <th>1</th>\n",
       "      <td>show_contacts</td>\n",
       "      <td>431</td>\n",
       "      <td>15.39</td>\n",
       "    </tr>\n",
       "  </tbody>\n",
       "</table>\n",
       "</div>"
      ],
      "text/plain": [
       "      event_name  user_id   perc\n",
       "0      tips_show     2801    NaN\n",
       "1  show_contacts      431  15.39"
      ]
     },
     "metadata": {},
     "output_type": "display_data"
    },
    {
     "data": {
      "text/html": [
       "<div>\n",
       "<style scoped>\n",
       "    .dataframe tbody tr th:only-of-type {\n",
       "        vertical-align: middle;\n",
       "    }\n",
       "\n",
       "    .dataframe tbody tr th {\n",
       "        vertical-align: top;\n",
       "    }\n",
       "\n",
       "    .dataframe thead th {\n",
       "        text-align: right;\n",
       "    }\n",
       "</style>\n",
       "<table border=\"1\" class=\"dataframe\">\n",
       "  <thead>\n",
       "    <tr style=\"text-align: right;\">\n",
       "      <th></th>\n",
       "      <th>event_name</th>\n",
       "      <th>user_id</th>\n",
       "      <th>perc</th>\n",
       "    </tr>\n",
       "  </thead>\n",
       "  <tbody>\n",
       "    <tr>\n",
       "      <th>0</th>\n",
       "      <td>map</td>\n",
       "      <td>1456</td>\n",
       "      <td>NaN</td>\n",
       "    </tr>\n",
       "    <tr>\n",
       "      <th>1</th>\n",
       "      <td>show_contacts</td>\n",
       "      <td>181</td>\n",
       "      <td>12.43</td>\n",
       "    </tr>\n",
       "  </tbody>\n",
       "</table>\n",
       "</div>"
      ],
      "text/plain": [
       "      event_name  user_id   perc\n",
       "0            map     1456    NaN\n",
       "1  show_contacts      181  12.43"
      ]
     },
     "metadata": {},
     "output_type": "display_data"
    },
    {
     "data": {
      "text/html": [
       "<div>\n",
       "<style scoped>\n",
       "    .dataframe tbody tr th:only-of-type {\n",
       "        vertical-align: middle;\n",
       "    }\n",
       "\n",
       "    .dataframe tbody tr th {\n",
       "        vertical-align: top;\n",
       "    }\n",
       "\n",
       "    .dataframe thead th {\n",
       "        text-align: right;\n",
       "    }\n",
       "</style>\n",
       "<table border=\"1\" class=\"dataframe\">\n",
       "  <thead>\n",
       "    <tr style=\"text-align: right;\">\n",
       "      <th></th>\n",
       "      <th>event_name</th>\n",
       "      <th>user_id</th>\n",
       "      <th>perc</th>\n",
       "    </tr>\n",
       "  </thead>\n",
       "  <tbody>\n",
       "    <tr>\n",
       "      <th>0</th>\n",
       "      <td>search</td>\n",
       "      <td>1666</td>\n",
       "      <td>NaN</td>\n",
       "    </tr>\n",
       "    <tr>\n",
       "      <th>1</th>\n",
       "      <td>show_contacts</td>\n",
       "      <td>242</td>\n",
       "      <td>14.53</td>\n",
       "    </tr>\n",
       "  </tbody>\n",
       "</table>\n",
       "</div>"
      ],
      "text/plain": [
       "      event_name  user_id   perc\n",
       "0         search     1666    NaN\n",
       "1  show_contacts      242  14.53"
      ]
     },
     "metadata": {},
     "output_type": "display_data"
    },
    {
     "data": {
      "text/html": [
       "<div>\n",
       "<style scoped>\n",
       "    .dataframe tbody tr th:only-of-type {\n",
       "        vertical-align: middle;\n",
       "    }\n",
       "\n",
       "    .dataframe tbody tr th {\n",
       "        vertical-align: top;\n",
       "    }\n",
       "\n",
       "    .dataframe thead th {\n",
       "        text-align: right;\n",
       "    }\n",
       "</style>\n",
       "<table border=\"1\" class=\"dataframe\">\n",
       "  <thead>\n",
       "    <tr style=\"text-align: right;\">\n",
       "      <th></th>\n",
       "      <th>event_name</th>\n",
       "      <th>user_id</th>\n",
       "      <th>perc</th>\n",
       "    </tr>\n",
       "  </thead>\n",
       "  <tbody>\n",
       "    <tr>\n",
       "      <th>0</th>\n",
       "      <td>photos_show</td>\n",
       "      <td>1095</td>\n",
       "      <td>NaN</td>\n",
       "    </tr>\n",
       "    <tr>\n",
       "      <th>1</th>\n",
       "      <td>show_contacts</td>\n",
       "      <td>191</td>\n",
       "      <td>17.44</td>\n",
       "    </tr>\n",
       "  </tbody>\n",
       "</table>\n",
       "</div>"
      ],
      "text/plain": [
       "      event_name  user_id   perc\n",
       "0    photos_show     1095    NaN\n",
       "1  show_contacts      191  17.44"
      ]
     },
     "metadata": {},
     "output_type": "display_data"
    },
    {
     "data": {
      "text/html": [
       "<div>\n",
       "<style scoped>\n",
       "    .dataframe tbody tr th:only-of-type {\n",
       "        vertical-align: middle;\n",
       "    }\n",
       "\n",
       "    .dataframe tbody tr th {\n",
       "        vertical-align: top;\n",
       "    }\n",
       "\n",
       "    .dataframe thead th {\n",
       "        text-align: right;\n",
       "    }\n",
       "</style>\n",
       "<table border=\"1\" class=\"dataframe\">\n",
       "  <thead>\n",
       "    <tr style=\"text-align: right;\">\n",
       "      <th></th>\n",
       "      <th>event_name</th>\n",
       "      <th>user_id</th>\n",
       "      <th>perc</th>\n",
       "    </tr>\n",
       "  </thead>\n",
       "  <tbody>\n",
       "    <tr>\n",
       "      <th>0</th>\n",
       "      <td>favorites_add</td>\n",
       "      <td>351</td>\n",
       "      <td>NaN</td>\n",
       "    </tr>\n",
       "    <tr>\n",
       "      <th>1</th>\n",
       "      <td>show_contacts</td>\n",
       "      <td>48</td>\n",
       "      <td>13.68</td>\n",
       "    </tr>\n",
       "  </tbody>\n",
       "</table>\n",
       "</div>"
      ],
      "text/plain": [
       "      event_name  user_id   perc\n",
       "0  favorites_add      351    NaN\n",
       "1  show_contacts       48  13.68"
      ]
     },
     "metadata": {},
     "output_type": "display_data"
    },
    {
     "data": {
      "text/html": [
       "<div>\n",
       "<style scoped>\n",
       "    .dataframe tbody tr th:only-of-type {\n",
       "        vertical-align: middle;\n",
       "    }\n",
       "\n",
       "    .dataframe tbody tr th {\n",
       "        vertical-align: top;\n",
       "    }\n",
       "\n",
       "    .dataframe thead th {\n",
       "        text-align: right;\n",
       "    }\n",
       "</style>\n",
       "<table border=\"1\" class=\"dataframe\">\n",
       "  <thead>\n",
       "    <tr style=\"text-align: right;\">\n",
       "      <th></th>\n",
       "      <th>event_name</th>\n",
       "      <th>user_id</th>\n",
       "      <th>perc</th>\n",
       "    </tr>\n",
       "  </thead>\n",
       "  <tbody>\n",
       "    <tr>\n",
       "      <th>0</th>\n",
       "      <td>contacts_call</td>\n",
       "      <td>213</td>\n",
       "      <td>NaN</td>\n",
       "    </tr>\n",
       "  </tbody>\n",
       "</table>\n",
       "</div>"
      ],
      "text/plain": [
       "      event_name  user_id  perc\n",
       "0  contacts_call      213   NaN"
      ]
     },
     "metadata": {},
     "output_type": "display_data"
    },
    {
     "data": {
      "text/html": [
       "<div>\n",
       "<style scoped>\n",
       "    .dataframe tbody tr th:only-of-type {\n",
       "        vertical-align: middle;\n",
       "    }\n",
       "\n",
       "    .dataframe tbody tr th {\n",
       "        vertical-align: top;\n",
       "    }\n",
       "\n",
       "    .dataframe thead th {\n",
       "        text-align: right;\n",
       "    }\n",
       "</style>\n",
       "<table border=\"1\" class=\"dataframe\">\n",
       "  <thead>\n",
       "    <tr style=\"text-align: right;\">\n",
       "      <th></th>\n",
       "      <th>event_name</th>\n",
       "      <th>user_id</th>\n",
       "      <th>perc</th>\n",
       "    </tr>\n",
       "  </thead>\n",
       "  <tbody>\n",
       "    <tr>\n",
       "      <th>0</th>\n",
       "      <td>advert_open</td>\n",
       "      <td>751</td>\n",
       "      <td>NaN</td>\n",
       "    </tr>\n",
       "    <tr>\n",
       "      <th>1</th>\n",
       "      <td>show_contacts</td>\n",
       "      <td>75</td>\n",
       "      <td>9.99</td>\n",
       "    </tr>\n",
       "  </tbody>\n",
       "</table>\n",
       "</div>"
      ],
      "text/plain": [
       "      event_name  user_id  perc\n",
       "0    advert_open      751   NaN\n",
       "1  show_contacts       75  9.99"
      ]
     },
     "metadata": {},
     "output_type": "display_data"
    },
    {
     "data": {
      "text/html": [
       "<div>\n",
       "<style scoped>\n",
       "    .dataframe tbody tr th:only-of-type {\n",
       "        vertical-align: middle;\n",
       "    }\n",
       "\n",
       "    .dataframe tbody tr th {\n",
       "        vertical-align: top;\n",
       "    }\n",
       "\n",
       "    .dataframe thead th {\n",
       "        text-align: right;\n",
       "    }\n",
       "</style>\n",
       "<table border=\"1\" class=\"dataframe\">\n",
       "  <thead>\n",
       "    <tr style=\"text-align: right;\">\n",
       "      <th></th>\n",
       "      <th>event_name</th>\n",
       "      <th>user_id</th>\n",
       "      <th>perc</th>\n",
       "    </tr>\n",
       "  </thead>\n",
       "  <tbody>\n",
       "    <tr>\n",
       "      <th>0</th>\n",
       "      <td>tips_click</td>\n",
       "      <td>322</td>\n",
       "      <td>NaN</td>\n",
       "    </tr>\n",
       "    <tr>\n",
       "      <th>1</th>\n",
       "      <td>show_contacts</td>\n",
       "      <td>26</td>\n",
       "      <td>8.07</td>\n",
       "    </tr>\n",
       "  </tbody>\n",
       "</table>\n",
       "</div>"
      ],
      "text/plain": [
       "      event_name  user_id  perc\n",
       "0     tips_click      322   NaN\n",
       "1  show_contacts       26  8.07"
      ]
     },
     "metadata": {},
     "output_type": "display_data"
    }
   ],
   "source": [
    "for i in all_events:\n",
    "    display(funnel_1(df_clean, i, 'show_contacts'))"
   ]
  },
  {
   "cell_type": "code",
   "execution_count": 78,
   "metadata": {},
   "outputs": [],
   "source": [
    "all_events = list(df.query('event_name != \"show_contacts\" & event_name != \"contacts_call\"').event_name.unique())"
   ]
  },
  {
   "cell_type": "code",
   "execution_count": 79,
   "metadata": {},
   "outputs": [],
   "source": [
    "p = []\n",
    "d = []\n",
    "s = []\n",
    "for i in all_events:\n",
    "    p.append(funnel_1(df_clean, i, 'show_contacts').perc[1])\n",
    "    d.append(funnel_1(df_clean, i, 'show_contacts').event_name[0])\n",
    "    s.append(funnel_1(df_clean, i, 'show_contacts').user_id[1])\n",
    " \n"
   ]
  },
  {
   "cell_type": "code",
   "execution_count": null,
   "metadata": {},
   "outputs": [],
   "source": [
    "fig = make_subplots(rows=2, cols=1, \n",
    "                    subplot_titles=('Count for all',\n",
    "                                    'Percent unique ID from events'\n",
    "                                   ))\n",
    "\n",
    "trace0 = go.Bar(name='Count',\n",
    "                x=d,\n",
    "                y=s\n",
    "                )\n",
    "\n",
    "trace1 = go.Bar(name='%',\n",
    "                x=d,\n",
    "                y=p\n",
    "                )\n",
    "             \n",
    "\n",
    "fig.append_trace(trace0, 1, 1)\n",
    "fig.append_trace(trace1, 2, 1)\n",
    "\n",
    "\n",
    "fig.update_layout(title='Events',\n",
    "                  margin=dict(l=0, r=0, t=70, b=0),\n",
    "                 width = 1000,\n",
    "                 height = 700,\n",
    "                 bargap=0.05)\n",
    "                 #plot_bgcolor='#444')\n",
    "\n",
    "fig.update_yaxes(title_text='Count')\n",
    "fig['layout']['xaxis1'].update(title_text='Event name')\n",
    "fig['layout']['xaxis2'].update(title_text='Event name')\n",
    "fig['layout']['yaxis2'].update(title_text='Percent, %')\n",
    "\n",
    "fig.show()"
   ]
  },
  {
   "attachments": {},
   "cell_type": "markdown",
   "metadata": {},
   "source": [
    "![](\\newplot18.png)"
   ]
  },
  {
   "cell_type": "markdown",
   "metadata": {},
   "source": [
    "<div class=\"alert alert-block alert-info\"> Первый график - это абсолютные величины, второй - проценты тех, кто совершает какое-то действие и далее просмотр контактов в одной сессии. \n",
    "\n",
    "Нет переходов от звонков по объявлению к просмотру коттактов, что и понятно, он невозможен без просмотра контактов. \n",
    "\n",
    "Наибольший процент у просмотров фото (17%), потом идет просмотр рекомендованного объявления (15%), поиск (14,5%), добавление в избранное (14%).\n",
    "\n",
    "В абсолютных величинах преобладают - просмотр рекомендованного объявления (431), поиск (242), просмотр фото (191), просмотр карты (181).\n",
    "\n",
    "Если принять, что просмотр объявления - это автоматическое действие и не учитывать его влияние, то сильнее всего на целевое действие влияют - поиск и просмотр фото. </div>"
   ]
  },
  {
   "cell_type": "markdown",
   "metadata": {},
   "source": [
    "## 13. Посмотреть среднее кол-во действий, которое приходится на одного пользователя. Посчитать выбросы (95, 99 - процентили). \n",
    "\n"
   ]
  },
  {
   "cell_type": "markdown",
   "metadata": {},
   "source": [
    "Так как изначально я думала проводить другой тест для гипотез, а потом поняла, что он не подойдет под конкретную задачу, поэтому остался данный пункт.\n",
    "\n",
    "В среднем на пользователя из ДФ приходится по 17 действий в приложении. "
   ]
  },
  {
   "cell_type": "code",
   "execution_count": 80,
   "metadata": {},
   "outputs": [
    {
     "data": {
      "text/plain": [
       "17.28"
      ]
     },
     "execution_count": 80,
     "metadata": {},
     "output_type": "execute_result"
    }
   ],
   "source": [
    "round(df.groupby('user_id')['event_name'].count().mean(), 2)"
   ]
  },
  {
   "cell_type": "code",
   "execution_count": 81,
   "metadata": {},
   "outputs": [
    {
     "data": {
      "text/plain": [
       "array([ 59., 132.])"
      ]
     },
     "execution_count": 81,
     "metadata": {},
     "output_type": "execute_result"
    }
   ],
   "source": [
    "limit_events = ( np.percentile(df.\n",
    "                               groupby('user_id')['event_name'].\n",
    "                               count(), [95, 99]) )\n",
    "limit_events"
   ]
  },
  {
   "cell_type": "code",
   "execution_count": null,
   "metadata": {},
   "outputs": [],
   "source": [
    "fig = go.Figure()\n",
    "\n",
    "\n",
    "fig.add_trace(go.Scatter(x=pd.Series(range(0,len(df_contacts_events['user_id']))),\n",
    "                         y=df.groupby('user_id')['event_name'].count(),\n",
    "                             mode='markers',\n",
    "                             name='Events'))\n",
    "\n",
    "fig.add_trace(go.Scatter(x=pd.Series(range(0,len(df.groupby('user_id')))),\n",
    "                        y=np.ones_like(range(0,len(df.groupby('user_id')))) * limit_events[0],\n",
    "                        mode='lines',\n",
    "                        name='95-percentile'))\n",
    "\n",
    "fig.add_trace(go.Scatter(x=pd.Series(range(0,len(df.groupby('user_id')))),\n",
    "                        y=np.ones_like(range(0,len(df.groupby('user_id')))) * limit_events[1],\n",
    "                        mode='lines',\n",
    "                        name='99-percentile'))\n",
    "\n",
    "fig.update_layout(title='Точечный график кол-ва действий в приложении пользователей',\n",
    "                   xaxis_title='Users',\n",
    "                   yaxis_title='Revenue')"
   ]
  },
  {
   "attachments": {},
   "cell_type": "markdown",
   "metadata": {},
   "source": [
    "![](\\newplot19.png)"
   ]
  },
  {
   "cell_type": "markdown",
   "metadata": {},
   "source": [
    "На графике хорошо видно, что большиство бользователей совершают сного меньше ста действий в приложении, а все, что больше ста имеет лишь единичный характер и является скорее исключением. "
   ]
  },
  {
   "cell_type": "markdown",
   "metadata": {},
   "source": [
    "# Шаг 4. Изучить результаты эксперимента"
   ]
  },
  {
   "cell_type": "markdown",
   "metadata": {},
   "source": [
    "## 1. Одни пользователи совершают действия tips_show и tips_click, другие — только tips_show. Проверьте гипотезу: конверсия для просмотров контактов различается у этих двух групп."
   ]
  },
  {
   "cell_type": "markdown",
   "metadata": {},
   "source": [
    "group_a - это те, кто совершают tips_show и tips_click\n",
    "\n",
    "group_b - это те, кто совершают только tips_show \n",
    "\n",
    "Для начала сделаю срез по группе А, т.е. по тем, кто совершают оба действия. Это будет группа А. \n",
    "\n",
    "Потом сделаю срез по тем, кто сделал только tips_click, и исключу их из среза, где оба дествия, и получится, что останутся только те, кто делал только tips_show, без tips_click. Это будет группа В."
   ]
  },
  {
   "cell_type": "code",
   "execution_count": 82,
   "metadata": {},
   "outputs": [
    {
     "data": {
      "text/plain": [
       "array(['tips_show', 'tips_click'], dtype=object)"
      ]
     },
     "execution_count": 82,
     "metadata": {},
     "output_type": "execute_result"
    }
   ],
   "source": [
    "group_a = df_clean.query('event_name == \"tips_show\" | event_name == \"tips_click\"')\n",
    "group_a.event_name.unique()"
   ]
  },
  {
   "cell_type": "code",
   "execution_count": 83,
   "metadata": {},
   "outputs": [],
   "source": [
    "filtr = list(df_clean.query('event_name == \"tips_click\"').user_id.unique())"
   ]
  },
  {
   "cell_type": "code",
   "execution_count": 84,
   "metadata": {},
   "outputs": [
    {
     "data": {
      "text/html": [
       "<div>\n",
       "<style scoped>\n",
       "    .dataframe tbody tr th:only-of-type {\n",
       "        vertical-align: middle;\n",
       "    }\n",
       "\n",
       "    .dataframe tbody tr th {\n",
       "        vertical-align: top;\n",
       "    }\n",
       "\n",
       "    .dataframe thead th {\n",
       "        text-align: right;\n",
       "    }\n",
       "</style>\n",
       "<table border=\"1\" class=\"dataframe\">\n",
       "  <thead>\n",
       "    <tr style=\"text-align: right;\">\n",
       "      <th></th>\n",
       "      <th>event_time</th>\n",
       "      <th>event_name</th>\n",
       "      <th>user_id</th>\n",
       "      <th>event_date</th>\n",
       "      <th>weekday</th>\n",
       "      <th>session_id</th>\n",
       "    </tr>\n",
       "  </thead>\n",
       "  <tbody>\n",
       "    <tr>\n",
       "      <th>805</th>\n",
       "      <td>2019-10-07 13:39:46</td>\n",
       "      <td>tips_show</td>\n",
       "      <td>0001b1d5-b74a-4cbf-aeb0-7df5947bf349</td>\n",
       "      <td>2019-10-07</td>\n",
       "      <td>0</td>\n",
       "      <td>1</td>\n",
       "    </tr>\n",
       "    <tr>\n",
       "      <th>6565</th>\n",
       "      <td>2019-10-09 18:40:29</td>\n",
       "      <td>tips_show</td>\n",
       "      <td>0001b1d5-b74a-4cbf-aeb0-7df5947bf349</td>\n",
       "      <td>2019-10-09</td>\n",
       "      <td>2</td>\n",
       "      <td>2</td>\n",
       "    </tr>\n",
       "    <tr>\n",
       "      <th>36412</th>\n",
       "      <td>2019-10-21 19:52:31</td>\n",
       "      <td>tips_show</td>\n",
       "      <td>0001b1d5-b74a-4cbf-aeb0-7df5947bf349</td>\n",
       "      <td>2019-10-21</td>\n",
       "      <td>0</td>\n",
       "      <td>3</td>\n",
       "    </tr>\n",
       "    <tr>\n",
       "      <th>37559</th>\n",
       "      <td>2019-10-22 11:19:11</td>\n",
       "      <td>tips_show</td>\n",
       "      <td>0001b1d5-b74a-4cbf-aeb0-7df5947bf349</td>\n",
       "      <td>2019-10-22</td>\n",
       "      <td>1</td>\n",
       "      <td>4</td>\n",
       "    </tr>\n",
       "    <tr>\n",
       "      <th>33368</th>\n",
       "      <td>2019-10-20 17:48:42</td>\n",
       "      <td>tips_show</td>\n",
       "      <td>004690c3-5a84-4bb7-a8af-e0c8f8fca64e</td>\n",
       "      <td>2019-10-20</td>\n",
       "      <td>6</td>\n",
       "      <td>13</td>\n",
       "    </tr>\n",
       "  </tbody>\n",
       "</table>\n",
       "</div>"
      ],
      "text/plain": [
       "               event_time event_name                               user_id  \\\n",
       "805   2019-10-07 13:39:46  tips_show  0001b1d5-b74a-4cbf-aeb0-7df5947bf349   \n",
       "6565  2019-10-09 18:40:29  tips_show  0001b1d5-b74a-4cbf-aeb0-7df5947bf349   \n",
       "36412 2019-10-21 19:52:31  tips_show  0001b1d5-b74a-4cbf-aeb0-7df5947bf349   \n",
       "37559 2019-10-22 11:19:11  tips_show  0001b1d5-b74a-4cbf-aeb0-7df5947bf349   \n",
       "33368 2019-10-20 17:48:42  tips_show  004690c3-5a84-4bb7-a8af-e0c8f8fca64e   \n",
       "\n",
       "      event_date  weekday  session_id  \n",
       "805   2019-10-07        0           1  \n",
       "6565  2019-10-09        2           2  \n",
       "36412 2019-10-21        0           3  \n",
       "37559 2019-10-22        1           4  \n",
       "33368 2019-10-20        6          13  "
      ]
     },
     "execution_count": 84,
     "metadata": {},
     "output_type": "execute_result"
    }
   ],
   "source": [
    "group_b = group_a.query('user_id != @filtr')\n",
    "\n",
    "group_b.head()"
   ]
  },
  {
   "cell_type": "markdown",
   "metadata": {},
   "source": [
    "Для начала создам сводные таблицы с данными, которые пригодятся для проведения тестов.\n",
    "\n",
    "Первая таблица - кол-во уникальных пользователей для разных групп тестирования (А и В) в зависимости от типа действия.\n",
    "\n",
    "Вторая таблица - общее кол-во уникальных пользователей в разных группах тестирования.\n",
    "\n",
    "Пропорции рассчитавались так, что для каждой сравниваемой группы бралось кол-во уникальных пользователей для конкретного события и делилось на общее кол-во уникальных пользователей в этой группе. И так сравнивались разные группы между собой."
   ]
  },
  {
   "cell_type": "code",
   "execution_count": 85,
   "metadata": {},
   "outputs": [],
   "source": [
    "group_a_id = list(group_a.user_id.unique())\n",
    "group_b_id = list(group_b.user_id.unique())"
   ]
  },
  {
   "cell_type": "code",
   "execution_count": 86,
   "metadata": {},
   "outputs": [
    {
     "data": {
      "text/html": [
       "<div>\n",
       "<style scoped>\n",
       "    .dataframe tbody tr th:only-of-type {\n",
       "        vertical-align: middle;\n",
       "    }\n",
       "\n",
       "    .dataframe tbody tr th {\n",
       "        vertical-align: top;\n",
       "    }\n",
       "\n",
       "    .dataframe thead th {\n",
       "        text-align: right;\n",
       "    }\n",
       "</style>\n",
       "<table border=\"1\" class=\"dataframe\">\n",
       "  <thead>\n",
       "    <tr style=\"text-align: right;\">\n",
       "      <th></th>\n",
       "      <th>event_time</th>\n",
       "      <th>event_name</th>\n",
       "      <th>user_id</th>\n",
       "      <th>event_date</th>\n",
       "      <th>weekday</th>\n",
       "      <th>session_id</th>\n",
       "      <th>group</th>\n",
       "    </tr>\n",
       "  </thead>\n",
       "  <tbody>\n",
       "    <tr>\n",
       "      <th>805</th>\n",
       "      <td>2019-10-07 13:39:46</td>\n",
       "      <td>tips_show</td>\n",
       "      <td>0001b1d5-b74a-4cbf-aeb0-7df5947bf349</td>\n",
       "      <td>2019-10-07</td>\n",
       "      <td>0</td>\n",
       "      <td>1</td>\n",
       "      <td>A</td>\n",
       "    </tr>\n",
       "    <tr>\n",
       "      <th>6541</th>\n",
       "      <td>2019-10-09 18:33:56</td>\n",
       "      <td>map</td>\n",
       "      <td>0001b1d5-b74a-4cbf-aeb0-7df5947bf349</td>\n",
       "      <td>2019-10-09</td>\n",
       "      <td>2</td>\n",
       "      <td>2</td>\n",
       "      <td>A</td>\n",
       "    </tr>\n",
       "    <tr>\n",
       "      <th>6565</th>\n",
       "      <td>2019-10-09 18:40:29</td>\n",
       "      <td>tips_show</td>\n",
       "      <td>0001b1d5-b74a-4cbf-aeb0-7df5947bf349</td>\n",
       "      <td>2019-10-09</td>\n",
       "      <td>2</td>\n",
       "      <td>2</td>\n",
       "      <td>A</td>\n",
       "    </tr>\n",
       "    <tr>\n",
       "      <th>36412</th>\n",
       "      <td>2019-10-21 19:52:31</td>\n",
       "      <td>tips_show</td>\n",
       "      <td>0001b1d5-b74a-4cbf-aeb0-7df5947bf349</td>\n",
       "      <td>2019-10-21</td>\n",
       "      <td>0</td>\n",
       "      <td>3</td>\n",
       "      <td>A</td>\n",
       "    </tr>\n",
       "    <tr>\n",
       "      <th>36419</th>\n",
       "      <td>2019-10-21 19:53:39</td>\n",
       "      <td>map</td>\n",
       "      <td>0001b1d5-b74a-4cbf-aeb0-7df5947bf349</td>\n",
       "      <td>2019-10-21</td>\n",
       "      <td>0</td>\n",
       "      <td>3</td>\n",
       "      <td>A</td>\n",
       "    </tr>\n",
       "  </tbody>\n",
       "</table>\n",
       "</div>"
      ],
      "text/plain": [
       "               event_time event_name                               user_id  \\\n",
       "805   2019-10-07 13:39:46  tips_show  0001b1d5-b74a-4cbf-aeb0-7df5947bf349   \n",
       "6541  2019-10-09 18:33:56        map  0001b1d5-b74a-4cbf-aeb0-7df5947bf349   \n",
       "6565  2019-10-09 18:40:29  tips_show  0001b1d5-b74a-4cbf-aeb0-7df5947bf349   \n",
       "36412 2019-10-21 19:52:31  tips_show  0001b1d5-b74a-4cbf-aeb0-7df5947bf349   \n",
       "36419 2019-10-21 19:53:39        map  0001b1d5-b74a-4cbf-aeb0-7df5947bf349   \n",
       "\n",
       "      event_date  weekday  session_id group  \n",
       "805   2019-10-07        0           1     A  \n",
       "6541  2019-10-09        2           2     A  \n",
       "6565  2019-10-09        2           2     A  \n",
       "36412 2019-10-21        0           3     A  \n",
       "36419 2019-10-21        0           3     A  "
      ]
     },
     "execution_count": 86,
     "metadata": {},
     "output_type": "execute_result"
    }
   ],
   "source": [
    "df_group_a_id = df_clean.query('user_id == @group_a_id')\n",
    "df_group_a_id['group'] = 'A'\n",
    "df_group_b_id = df_clean.query('user_id == @group_b_id')\n",
    "df_group_b_id['group'] = 'B'\n",
    "df_group_ab = df_group_a_id.append(df_group_b_id)\n",
    "df_group_a_id.head()   "
   ]
  },
  {
   "cell_type": "code",
   "execution_count": 87,
   "metadata": {},
   "outputs": [
    {
     "data": {
      "text/html": [
       "<div>\n",
       "<style scoped>\n",
       "    .dataframe tbody tr th:only-of-type {\n",
       "        vertical-align: middle;\n",
       "    }\n",
       "\n",
       "    .dataframe tbody tr th {\n",
       "        vertical-align: top;\n",
       "    }\n",
       "\n",
       "    .dataframe thead th {\n",
       "        text-align: right;\n",
       "    }\n",
       "</style>\n",
       "<table border=\"1\" class=\"dataframe\">\n",
       "  <thead>\n",
       "    <tr style=\"text-align: right;\">\n",
       "      <th></th>\n",
       "      <th>unique_users_all</th>\n",
       "      <th>A</th>\n",
       "      <th>B</th>\n",
       "    </tr>\n",
       "    <tr>\n",
       "      <th>event_name</th>\n",
       "      <th></th>\n",
       "      <th></th>\n",
       "      <th></th>\n",
       "    </tr>\n",
       "  </thead>\n",
       "  <tbody>\n",
       "    <tr>\n",
       "      <th>tips_show</th>\n",
       "      <td>2801</td>\n",
       "      <td>2801</td>\n",
       "      <td>2504.0</td>\n",
       "    </tr>\n",
       "    <tr>\n",
       "      <th>map</th>\n",
       "      <td>1360</td>\n",
       "      <td>1360</td>\n",
       "      <td>1212.0</td>\n",
       "    </tr>\n",
       "    <tr>\n",
       "      <th>search</th>\n",
       "      <td>808</td>\n",
       "      <td>808</td>\n",
       "      <td>727.0</td>\n",
       "    </tr>\n",
       "    <tr>\n",
       "      <th>advert_open</th>\n",
       "      <td>598</td>\n",
       "      <td>598</td>\n",
       "      <td>532.0</td>\n",
       "    </tr>\n",
       "    <tr>\n",
       "      <th>show_contacts</th>\n",
       "      <td>525</td>\n",
       "      <td>525</td>\n",
       "      <td>425.0</td>\n",
       "    </tr>\n",
       "    <tr>\n",
       "      <th>tips_click</th>\n",
       "      <td>322</td>\n",
       "      <td>322</td>\n",
       "      <td>NaN</td>\n",
       "    </tr>\n",
       "    <tr>\n",
       "      <th>favorites_add</th>\n",
       "      <td>112</td>\n",
       "      <td>112</td>\n",
       "      <td>80.0</td>\n",
       "    </tr>\n",
       "    <tr>\n",
       "      <th>photos_show</th>\n",
       "      <td>13</td>\n",
       "      <td>13</td>\n",
       "      <td>9.0</td>\n",
       "    </tr>\n",
       "    <tr>\n",
       "      <th>contacts_call</th>\n",
       "      <td>1</td>\n",
       "      <td>1</td>\n",
       "      <td>1.0</td>\n",
       "    </tr>\n",
       "  </tbody>\n",
       "</table>\n",
       "</div>"
      ],
      "text/plain": [
       "               unique_users_all     A       B\n",
       "event_name                                   \n",
       "tips_show                  2801  2801  2504.0\n",
       "map                        1360  1360  1212.0\n",
       "search                      808   808   727.0\n",
       "advert_open                 598   598   532.0\n",
       "show_contacts               525   525   425.0\n",
       "tips_click                  322   322     NaN\n",
       "favorites_add               112   112    80.0\n",
       "photos_show                  13    13     9.0\n",
       "contacts_call                 1     1     1.0"
      ]
     },
     "metadata": {},
     "output_type": "display_data"
    },
    {
     "data": {
      "text/html": [
       "<div>\n",
       "<style scoped>\n",
       "    .dataframe tbody tr th:only-of-type {\n",
       "        vertical-align: middle;\n",
       "    }\n",
       "\n",
       "    .dataframe tbody tr th {\n",
       "        vertical-align: top;\n",
       "    }\n",
       "\n",
       "    .dataframe thead th {\n",
       "        text-align: right;\n",
       "    }\n",
       "</style>\n",
       "<table border=\"1\" class=\"dataframe\">\n",
       "  <thead>\n",
       "    <tr style=\"text-align: right;\">\n",
       "      <th></th>\n",
       "      <th>group</th>\n",
       "      <th>A</th>\n",
       "      <th>B</th>\n",
       "    </tr>\n",
       "  </thead>\n",
       "  <tbody>\n",
       "    <tr>\n",
       "      <th>nunique</th>\n",
       "      <th>user_id</th>\n",
       "      <td>2826</td>\n",
       "      <td>2504</td>\n",
       "    </tr>\n",
       "  </tbody>\n",
       "</table>\n",
       "</div>"
      ],
      "text/plain": [
       "group               A     B\n",
       "nunique user_id  2826  2504"
      ]
     },
     "execution_count": 87,
     "metadata": {},
     "output_type": "execute_result"
    }
   ],
   "source": [
    "ztest =  df_group_ab.pivot_table(index='event_name', \n",
    "                values='user_id', \n",
    "                aggfunc=['nunique'])\\\n",
    ".sort_values(by=('nunique', 'user_id'), \n",
    "             ascending=False)\n",
    "\n",
    "ztest.columns = ['unique_users_all']\n",
    "\n",
    "for i in df_group_ab.group.unique():\n",
    "    ztest[i] = df_group_ab.query('group == @i').pivot_table(index='event_name', \n",
    "                    values='user_id', \n",
    "                    aggfunc=['nunique'])\n",
    "                   \n",
    "\n",
    "ztest_count = df_group_ab.pivot_table(index='group', \n",
    "                values='user_id', \n",
    "                aggfunc=['nunique'])\\\n",
    ".sort_values(by=('nunique', 'user_id'), \n",
    "             ascending=False)\n",
    "\n",
    "ztest_count = ztest_count.T\n",
    "\n",
    "display(ztest)\n",
    "ztest_count"
   ]
  },
  {
   "cell_type": "code",
   "execution_count": 88,
   "metadata": {},
   "outputs": [
    {
     "data": {
      "text/html": [
       "<div>\n",
       "<style scoped>\n",
       "    .dataframe tbody tr th:only-of-type {\n",
       "        vertical-align: middle;\n",
       "    }\n",
       "\n",
       "    .dataframe tbody tr th {\n",
       "        vertical-align: top;\n",
       "    }\n",
       "\n",
       "    .dataframe thead th {\n",
       "        text-align: right;\n",
       "    }\n",
       "</style>\n",
       "<table border=\"1\" class=\"dataframe\">\n",
       "  <thead>\n",
       "    <tr style=\"text-align: right;\">\n",
       "      <th></th>\n",
       "      <th>event_time</th>\n",
       "      <th>event_name</th>\n",
       "      <th>user_id</th>\n",
       "      <th>event_date</th>\n",
       "      <th>weekday</th>\n",
       "      <th>session_id</th>\n",
       "      <th>group</th>\n",
       "    </tr>\n",
       "  </thead>\n",
       "  <tbody>\n",
       "    <tr>\n",
       "      <th>805</th>\n",
       "      <td>2019-10-07 13:39:46</td>\n",
       "      <td>tips_show</td>\n",
       "      <td>0001b1d5-b74a-4cbf-aeb0-7df5947bf349</td>\n",
       "      <td>2019-10-07</td>\n",
       "      <td>0</td>\n",
       "      <td>1</td>\n",
       "      <td>A</td>\n",
       "    </tr>\n",
       "    <tr>\n",
       "      <th>6541</th>\n",
       "      <td>2019-10-09 18:33:56</td>\n",
       "      <td>map</td>\n",
       "      <td>0001b1d5-b74a-4cbf-aeb0-7df5947bf349</td>\n",
       "      <td>2019-10-09</td>\n",
       "      <td>2</td>\n",
       "      <td>2</td>\n",
       "      <td>A</td>\n",
       "    </tr>\n",
       "    <tr>\n",
       "      <th>6565</th>\n",
       "      <td>2019-10-09 18:40:29</td>\n",
       "      <td>tips_show</td>\n",
       "      <td>0001b1d5-b74a-4cbf-aeb0-7df5947bf349</td>\n",
       "      <td>2019-10-09</td>\n",
       "      <td>2</td>\n",
       "      <td>2</td>\n",
       "      <td>A</td>\n",
       "    </tr>\n",
       "    <tr>\n",
       "      <th>36412</th>\n",
       "      <td>2019-10-21 19:52:31</td>\n",
       "      <td>tips_show</td>\n",
       "      <td>0001b1d5-b74a-4cbf-aeb0-7df5947bf349</td>\n",
       "      <td>2019-10-21</td>\n",
       "      <td>0</td>\n",
       "      <td>3</td>\n",
       "      <td>A</td>\n",
       "    </tr>\n",
       "    <tr>\n",
       "      <th>36419</th>\n",
       "      <td>2019-10-21 19:53:39</td>\n",
       "      <td>map</td>\n",
       "      <td>0001b1d5-b74a-4cbf-aeb0-7df5947bf349</td>\n",
       "      <td>2019-10-21</td>\n",
       "      <td>0</td>\n",
       "      <td>3</td>\n",
       "      <td>A</td>\n",
       "    </tr>\n",
       "  </tbody>\n",
       "</table>\n",
       "</div>"
      ],
      "text/plain": [
       "               event_time event_name                               user_id  \\\n",
       "805   2019-10-07 13:39:46  tips_show  0001b1d5-b74a-4cbf-aeb0-7df5947bf349   \n",
       "6541  2019-10-09 18:33:56        map  0001b1d5-b74a-4cbf-aeb0-7df5947bf349   \n",
       "6565  2019-10-09 18:40:29  tips_show  0001b1d5-b74a-4cbf-aeb0-7df5947bf349   \n",
       "36412 2019-10-21 19:52:31  tips_show  0001b1d5-b74a-4cbf-aeb0-7df5947bf349   \n",
       "36419 2019-10-21 19:53:39        map  0001b1d5-b74a-4cbf-aeb0-7df5947bf349   \n",
       "\n",
       "      event_date  weekday  session_id group  \n",
       "805   2019-10-07        0           1     A  \n",
       "6541  2019-10-09        2           2     A  \n",
       "6565  2019-10-09        2           2     A  \n",
       "36412 2019-10-21        0           3     A  \n",
       "36419 2019-10-21        0           3     A  "
      ]
     },
     "execution_count": 88,
     "metadata": {},
     "output_type": "execute_result"
    }
   ],
   "source": [
    "df_group_a_id.head()"
   ]
  },
  {
   "cell_type": "code",
   "execution_count": 89,
   "metadata": {},
   "outputs": [
    {
     "data": {
      "text/html": [
       "<div>\n",
       "<style scoped>\n",
       "    .dataframe tbody tr th:only-of-type {\n",
       "        vertical-align: middle;\n",
       "    }\n",
       "\n",
       "    .dataframe tbody tr th {\n",
       "        vertical-align: top;\n",
       "    }\n",
       "\n",
       "    .dataframe thead th {\n",
       "        text-align: right;\n",
       "    }\n",
       "</style>\n",
       "<table border=\"1\" class=\"dataframe\">\n",
       "  <thead>\n",
       "    <tr style=\"text-align: right;\">\n",
       "      <th></th>\n",
       "      <th>event_name</th>\n",
       "      <th>user_id</th>\n",
       "    </tr>\n",
       "  </thead>\n",
       "  <tbody>\n",
       "    <tr>\n",
       "      <th>0</th>\n",
       "      <td>tips_show</td>\n",
       "      <td>2801</td>\n",
       "    </tr>\n",
       "    <tr>\n",
       "      <th>1</th>\n",
       "      <td>tips_click</td>\n",
       "      <td>281</td>\n",
       "    </tr>\n",
       "    <tr>\n",
       "      <th>2</th>\n",
       "      <td>show_contacts</td>\n",
       "      <td>23</td>\n",
       "    </tr>\n",
       "  </tbody>\n",
       "</table>\n",
       "</div>"
      ],
      "text/plain": [
       "      event_name  user_id\n",
       "0      tips_show     2801\n",
       "1     tips_click      281\n",
       "2  show_contacts       23"
      ]
     },
     "execution_count": 89,
     "metadata": {},
     "output_type": "execute_result"
    }
   ],
   "source": [
    "ztest_df1 = funnel(df_group_a_id, 'tips_show', 'tips_click','show_contacts')\n",
    "ztest_df1"
   ]
  },
  {
   "cell_type": "markdown",
   "metadata": {},
   "source": [
    "<div class=\"alert alert-block alert-info\"> Так, ну в первой группе размер группы, т.е. те, кто сделали оба действия, будут 281 человек, а целевое - 23. Во второй - 2504 и 352 соответственно. </div>"
   ]
  },
  {
   "cell_type": "code",
   "execution_count": 90,
   "metadata": {},
   "outputs": [
    {
     "data": {
      "text/html": [
       "<div>\n",
       "<style scoped>\n",
       "    .dataframe tbody tr th:only-of-type {\n",
       "        vertical-align: middle;\n",
       "    }\n",
       "\n",
       "    .dataframe tbody tr th {\n",
       "        vertical-align: top;\n",
       "    }\n",
       "\n",
       "    .dataframe thead th {\n",
       "        text-align: right;\n",
       "    }\n",
       "</style>\n",
       "<table border=\"1\" class=\"dataframe\">\n",
       "  <thead>\n",
       "    <tr style=\"text-align: right;\">\n",
       "      <th></th>\n",
       "      <th>event_name</th>\n",
       "      <th>user_id</th>\n",
       "    </tr>\n",
       "  </thead>\n",
       "  <tbody>\n",
       "    <tr>\n",
       "      <th>0</th>\n",
       "      <td>tips_show</td>\n",
       "      <td>2504</td>\n",
       "    </tr>\n",
       "    <tr>\n",
       "      <th>1</th>\n",
       "      <td>show_contacts</td>\n",
       "      <td>352</td>\n",
       "    </tr>\n",
       "  </tbody>\n",
       "</table>\n",
       "</div>"
      ],
      "text/plain": [
       "      event_name  user_id\n",
       "0      tips_show     2504\n",
       "1  show_contacts      352"
      ]
     },
     "execution_count": 90,
     "metadata": {},
     "output_type": "execute_result"
    }
   ],
   "source": [
    "ztest_df2 = funnel_1(df_group_b_id, 'tips_show', 'show_contacts').drop(columns='perc')\n",
    "ztest_df2"
   ]
  },
  {
   "cell_type": "markdown",
   "metadata": {},
   "source": [
    "H-0: доли (пропорции) групп А и Б равны, Н-1: доли (пропорции) групп А и Б не равны.\n",
    "\n",
    "Проверка будет проводиться односторонним z-тестом для долей/пропорций.\n",
    "\n",
    "Пропорции будут считаться между группами А и В на каждом виде действий (т.е. 9 экспериментов).\n",
    "\n",
    "Критический уровень стат значимости = 0.05, ибо 0.1 слишком много для данного кол-ва экспериментов."
   ]
  },
  {
   "cell_type": "code",
   "execution_count": 91,
   "metadata": {},
   "outputs": [
    {
     "name": "stdout",
     "output_type": "stream",
     "text": [
      "p-значение для двух групп tips_show + tips_click и только tips_show для конверсии целевого действия:  0.0062\n",
      "Отвергаем нулевую гипотезу: между долями групп tips_show + tips_click и только tips_show для конверсии целевого действия есть значимая разница\n"
     ]
    }
   ],
   "source": [
    "alpha=0.05\n",
    "\n",
    "p1 = ztest_df1.user_id[2] / ztest_df1.user_id[1]\n",
    "p2 = ztest_df2.user_id[1] / ztest_df2.user_id[0]\n",
    "\n",
    "p_combined = (ztest_df1.user_id[2] + ztest_df2.user_id[1]) / (ztest_df1.user_id[1] + ztest_df2.user_id[0])\n",
    "\n",
    "difference = p1 - p2 \n",
    "        \n",
    "\n",
    "z_value = difference / mth.sqrt(p_combined * (1 - p_combined) * (1/ztest_df1.user_id[1]+ 1/ztest_df2.user_id[0]))\n",
    "\n",
    "distr = st.norm(0, 1) \n",
    "\n",
    "p_value = round((1 - distr.cdf(abs(z_value))) * 2, 4)\n",
    "\n",
    "print(f'p-значение для двух групп tips_show + tips_click и только tips_show для конверсии целевого действия: ', p_value)\n",
    "\n",
    "if p_value < alpha:\n",
    "    print(f'Отвергаем нулевую гипотезу: между долями групп tips_show + tips_click и только tips_show для конверсии целевого действия есть значимая разница')\n",
    "    \n",
    "else: \n",
    "    print(\n",
    "          f'Не получилось отвергнуть нулевую гипотезу, нет оснований считать доли групп tips_show + tips_click и только tips_show для конверсии целевого действия разными'\n",
    "        )\n",
    "    "
   ]
  },
  {
   "cell_type": "markdown",
   "metadata": {},
   "source": [
    "<div class=\"alert alert-block alert-info\"> По итогу оказалось, что разница конверсии целевого действия у этих двух групп все же есть, так как нулевая гипотеза о равенстве долей была отвергнута. </div>"
   ]
  },
  {
   "cell_type": "code",
   "execution_count": 92,
   "metadata": {},
   "outputs": [],
   "source": [
    "def z_test(df1, df2, num_1, num_2, alpha):\n",
    " \n",
    "\n",
    "        event_name = df1.index\n",
    "\n",
    "        p1 = df1[num_1] / df2[num_1].values\n",
    "        p2 = df1[num_2] / df2[num_2].values\n",
    "\n",
    "        p_combined = (df1[num_1] + df1[num_2]) / (df2[num_1].values + df2[num_2].values)\n",
    "\n",
    "        difference = p1 - p2 \n",
    "        \n",
    "        for i in event_name:\n",
    "            z_value = difference[i] / mth.sqrt(p_combined[i] * (1 - p_combined[i]) * (1/df2[num_1].values + 1/df2[num_2].values))\n",
    "\n",
    "            distr = st.norm(0, 1) \n",
    "\n",
    "            p_value = round((1 - distr.cdf(abs(z_value))) * 2, 4)\n",
    "\n",
    "            print(f'p-значение для двух групп ({num_1}, {num_2}) на шаге воронки {i}: ', p_value)\n",
    "\n",
    "            if p_value < alpha:\n",
    "                print(f'Отвергаем нулевую гипотезу: между долями групп {num_1}, {num_2} на шаге воронки {i} есть значимая разница')\n",
    "                print('\\n')\n",
    "            else: \n",
    "                print(\n",
    "                    f'Не получилось отвергнуть нулевую гипотезу, нет оснований считать доли групп {num_1}, {num_2} на шаге воронки {i} разными'\n",
    "                )\n",
    "                print('\\n')"
   ]
  },
  {
   "cell_type": "code",
   "execution_count": 93,
   "metadata": {},
   "outputs": [
    {
     "name": "stdout",
     "output_type": "stream",
     "text": [
      "p-значение для двух групп (A, B) на шаге воронки tips_show:  0.0\n",
      "Отвергаем нулевую гипотезу: между долями групп A, B на шаге воронки tips_show есть значимая разница\n",
      "\n",
      "\n",
      "p-значение для двух групп (A, B) на шаге воронки map:  0.8394\n",
      "Не получилось отвергнуть нулевую гипотезу, нет оснований считать доли групп A, B на шаге воронки map разными\n",
      "\n",
      "\n",
      "p-значение для двух групп (A, B) на шаге воронки search:  0.7222\n",
      "Не получилось отвергнуть нулевую гипотезу, нет оснований считать доли групп A, B на шаге воронки search разными\n",
      "\n",
      "\n",
      "p-значение для двух групп (A, B) на шаге воронки advert_open:  0.9393\n",
      "Не получилось отвергнуть нулевую гипотезу, нет оснований считать доли групп A, B на шаге воронки advert_open разными\n",
      "\n",
      "\n",
      "p-значение для двух групп (A, B) на шаге воронки show_contacts:  0.1266\n",
      "Не получилось отвергнуть нулевую гипотезу, нет оснований считать доли групп A, B на шаге воронки show_contacts разными\n",
      "\n",
      "\n",
      "p-значение для двух групп (A, B) на шаге воронки tips_click:  nan\n",
      "Не получилось отвергнуть нулевую гипотезу, нет оснований считать доли групп A, B на шаге воронки tips_click разными\n",
      "\n",
      "\n",
      "p-значение для двух групп (A, B) на шаге воронки favorites_add:  0.133\n",
      "Не получилось отвергнуть нулевую гипотезу, нет оснований считать доли групп A, B на шаге воронки favorites_add разными\n",
      "\n",
      "\n",
      "p-значение для двух групп (A, B) на шаге воронки photos_show:  0.5675\n",
      "Не получилось отвергнуть нулевую гипотезу, нет оснований считать доли групп A, B на шаге воронки photos_show разными\n",
      "\n",
      "\n",
      "p-значение для двух групп (A, B) на шаге воронки contacts_call:  0.9318\n",
      "Не получилось отвергнуть нулевую гипотезу, нет оснований считать доли групп A, B на шаге воронки contacts_call разными\n",
      "\n",
      "\n"
     ]
    }
   ],
   "source": [
    "z_test(ztest, ztest_count, 'A', 'B', alpha=0.05)"
   ]
  },
  {
   "cell_type": "markdown",
   "metadata": {},
   "source": [
    "В целом можно сказать, что пропорции у двух групп равны. И только на этапе  tips_show была отвергнута нулевая гипотеза о равенстве и доли оказались неравными. \n",
    "\n",
    "Ну, а если смотреть конверсию только для целевого действия, то она у них не различается, так как не удалось отвергнуть нулевую гипотезу.\n",
    "\n",
    "Далее я хотела сделать данный тест для \"очищенных\" данных, для этого выполняла пункт 3.13, но так как сравниваются доли уникальных пользователей, то если убрать пользователей, которые совершали больше обычного действий, то это мало повлияет на соотношения, как если бы мы сравнивали доли от суммаркого кол-ва действий и уникалых пользователей. "
   ]
  },
  {
   "cell_type": "markdown",
   "metadata": {},
   "source": [
    "## 2. Взять два (или несколько) сценария из пункта 3.10-3.11 и проверить гипотезу: конверсия для целевого действия (либо \"просмотр контактов\", либо какое-то конечное действие, к которому приходят сценарии, либо, по возможности, рассмотреть сценарии с одним-двумя одинаковыми действиями в составе) различается у этих двух групп."
   ]
  },
  {
   "cell_type": "markdown",
   "metadata": {},
   "source": [
    "Предположим, что у нас есть две группы подопытных. Одна группа идет по одному сценарию, вторая по другому. Помимо своего обязательного набора из сценариев, они могут совершать другие виды действий в приложении. Разность в долях для этих действий и будем проверять.\n",
    "\n",
    "Возьму два однотипных сценария:\n",
    "\n",
    "Поиск - просмотр фото - просмотр контактов\n",
    "\n",
    "Поиск  - просмотр фото - открытие объявления\n",
    "\n",
    "Только одно заканчивается целевым действием, а второе нет.\n",
    "\n",
    "Нулевая гипотеза - доли у данных сценариев равны.\n",
    "\n",
    "Альтернативная гипотеза - доли сценариев разные. \n",
    "\n",
    "Проверка будет проводиться односторонним z-тестом для долей/пропорций.\n",
    "\n",
    "Пропорции будут считаться между группами А и В на каждом виде действий (т.е. 9 экспериментов).\n",
    "\n",
    "Критический уровень стат значимости = 0.05."
   ]
  },
  {
   "cell_type": "code",
   "execution_count": 94,
   "metadata": {},
   "outputs": [],
   "source": [
    "group_a = df.query('event_name == \"search\" | event_name == \"photos_show\" | event_name == \"show_contacts\"')\n"
   ]
  },
  {
   "cell_type": "code",
   "execution_count": 95,
   "metadata": {},
   "outputs": [
    {
     "data": {
      "text/plain": [
       "array(['tips_show', 'map', 'search', 'photos_show', 'favorites_add',\n",
       "       'show_contacts', 'contacts_call', 'advert_open', 'tips_click'],\n",
       "      dtype=object)"
      ]
     },
     "execution_count": 95,
     "metadata": {},
     "output_type": "execute_result"
    }
   ],
   "source": [
    "df.event_name.unique()"
   ]
  },
  {
   "cell_type": "code",
   "execution_count": 96,
   "metadata": {},
   "outputs": [],
   "source": [
    "group_b = df.query('event_name == \"search\" | event_name == \"photos_show\" | event_name == \"advert_open\"')\n"
   ]
  },
  {
   "cell_type": "code",
   "execution_count": 97,
   "metadata": {},
   "outputs": [],
   "source": [
    "group_a_id = list(group_a.user_id.unique())\n",
    "group_b_id = list(group_b.user_id.unique())"
   ]
  },
  {
   "cell_type": "code",
   "execution_count": 98,
   "metadata": {},
   "outputs": [
    {
     "data": {
      "text/plain": [
       "array(['A', 'B'], dtype=object)"
      ]
     },
     "execution_count": 98,
     "metadata": {},
     "output_type": "execute_result"
    }
   ],
   "source": [
    "df_group_a_id = df.query('user_id == @group_a_id')\n",
    "df_group_a_id['group'] = 'A'\n",
    "df_group_b_id = df.query('user_id == @group_b_id')\n",
    "df_group_b_id['group'] = 'B'\n",
    "df_group_ab = df_group_a_id.append(df_group_b_id)\n",
    "df_group_ab.group.unique() "
   ]
  },
  {
   "cell_type": "code",
   "execution_count": 99,
   "metadata": {},
   "outputs": [
    {
     "data": {
      "text/html": [
       "<div>\n",
       "<style scoped>\n",
       "    .dataframe tbody tr th:only-of-type {\n",
       "        vertical-align: middle;\n",
       "    }\n",
       "\n",
       "    .dataframe tbody tr th {\n",
       "        vertical-align: top;\n",
       "    }\n",
       "\n",
       "    .dataframe thead th {\n",
       "        text-align: right;\n",
       "    }\n",
       "</style>\n",
       "<table border=\"1\" class=\"dataframe\">\n",
       "  <thead>\n",
       "    <tr style=\"text-align: right;\">\n",
       "      <th></th>\n",
       "      <th>unique_users_all</th>\n",
       "      <th>A</th>\n",
       "      <th>B</th>\n",
       "    </tr>\n",
       "    <tr>\n",
       "      <th>event_name</th>\n",
       "      <th></th>\n",
       "      <th></th>\n",
       "      <th></th>\n",
       "    </tr>\n",
       "  </thead>\n",
       "  <tbody>\n",
       "    <tr>\n",
       "      <th>search</th>\n",
       "      <td>1666</td>\n",
       "      <td>1666</td>\n",
       "      <td>1666</td>\n",
       "    </tr>\n",
       "    <tr>\n",
       "      <th>tips_show</th>\n",
       "      <td>1464</td>\n",
       "      <td>1179</td>\n",
       "      <td>1126</td>\n",
       "    </tr>\n",
       "    <tr>\n",
       "      <th>photos_show</th>\n",
       "      <td>1095</td>\n",
       "      <td>1095</td>\n",
       "      <td>1095</td>\n",
       "    </tr>\n",
       "    <tr>\n",
       "      <th>show_contacts</th>\n",
       "      <td>981</td>\n",
       "      <td>981</td>\n",
       "      <td>570</td>\n",
       "    </tr>\n",
       "    <tr>\n",
       "      <th>map</th>\n",
       "      <td>903</td>\n",
       "      <td>660</td>\n",
       "      <td>742</td>\n",
       "    </tr>\n",
       "    <tr>\n",
       "      <th>advert_open</th>\n",
       "      <td>751</td>\n",
       "      <td>408</td>\n",
       "      <td>751</td>\n",
       "    </tr>\n",
       "    <tr>\n",
       "      <th>favorites_add</th>\n",
       "      <td>317</td>\n",
       "      <td>301</td>\n",
       "      <td>292</td>\n",
       "    </tr>\n",
       "    <tr>\n",
       "      <th>contacts_call</th>\n",
       "      <td>213</td>\n",
       "      <td>213</td>\n",
       "      <td>185</td>\n",
       "    </tr>\n",
       "    <tr>\n",
       "      <th>tips_click</th>\n",
       "      <td>174</td>\n",
       "      <td>151</td>\n",
       "      <td>114</td>\n",
       "    </tr>\n",
       "  </tbody>\n",
       "</table>\n",
       "</div>"
      ],
      "text/plain": [
       "               unique_users_all     A     B\n",
       "event_name                                 \n",
       "search                     1666  1666  1666\n",
       "tips_show                  1464  1179  1126\n",
       "photos_show                1095  1095  1095\n",
       "show_contacts               981   981   570\n",
       "map                         903   660   742\n",
       "advert_open                 751   408   751\n",
       "favorites_add               317   301   292\n",
       "contacts_call               213   213   185\n",
       "tips_click                  174   151   114"
      ]
     },
     "metadata": {},
     "output_type": "display_data"
    },
    {
     "data": {
      "text/html": [
       "<div>\n",
       "<style scoped>\n",
       "    .dataframe tbody tr th:only-of-type {\n",
       "        vertical-align: middle;\n",
       "    }\n",
       "\n",
       "    .dataframe tbody tr th {\n",
       "        vertical-align: top;\n",
       "    }\n",
       "\n",
       "    .dataframe thead th {\n",
       "        text-align: right;\n",
       "    }\n",
       "</style>\n",
       "<table border=\"1\" class=\"dataframe\">\n",
       "  <thead>\n",
       "    <tr style=\"text-align: right;\">\n",
       "      <th></th>\n",
       "      <th>group</th>\n",
       "      <th>A</th>\n",
       "      <th>B</th>\n",
       "    </tr>\n",
       "  </thead>\n",
       "  <tbody>\n",
       "    <tr>\n",
       "      <th>nunique</th>\n",
       "      <th>user_id</th>\n",
       "      <td>2571</td>\n",
       "      <td>2503</td>\n",
       "    </tr>\n",
       "  </tbody>\n",
       "</table>\n",
       "</div>"
      ],
      "text/plain": [
       "group               A     B\n",
       "nunique user_id  2571  2503"
      ]
     },
     "execution_count": 99,
     "metadata": {},
     "output_type": "execute_result"
    }
   ],
   "source": [
    "ztest =  df_group_ab.pivot_table(index='event_name', \n",
    "                values='user_id', \n",
    "                aggfunc=['nunique'])\\\n",
    ".sort_values(by=('nunique', 'user_id'), \n",
    "             ascending=False)\n",
    "\n",
    "ztest.columns = ['unique_users_all']\n",
    "\n",
    "for i in df_group_ab.group.unique():\n",
    "    ztest[i] = df_group_ab.query('group == @i').pivot_table(index='event_name', \n",
    "                    values='user_id', \n",
    "                    aggfunc=['nunique'])\n",
    "                   \n",
    "\n",
    "ztest_count = df_group_ab.pivot_table(index='group', \n",
    "                values='user_id', \n",
    "                aggfunc=['nunique'])\\\n",
    ".sort_values(by=('nunique', 'user_id'), \n",
    "             ascending=False)\n",
    "\n",
    "ztest_count = ztest_count.T\n",
    "\n",
    "display(ztest)\n",
    "ztest_count"
   ]
  },
  {
   "cell_type": "code",
   "execution_count": 100,
   "metadata": {},
   "outputs": [
    {
     "data": {
      "text/html": [
       "<div>\n",
       "<style scoped>\n",
       "    .dataframe tbody tr th:only-of-type {\n",
       "        vertical-align: middle;\n",
       "    }\n",
       "\n",
       "    .dataframe tbody tr th {\n",
       "        vertical-align: top;\n",
       "    }\n",
       "\n",
       "    .dataframe thead th {\n",
       "        text-align: right;\n",
       "    }\n",
       "</style>\n",
       "<table border=\"1\" class=\"dataframe\">\n",
       "  <thead>\n",
       "    <tr style=\"text-align: right;\">\n",
       "      <th></th>\n",
       "      <th>event_name</th>\n",
       "      <th>user_id</th>\n",
       "    </tr>\n",
       "  </thead>\n",
       "  <tbody>\n",
       "    <tr>\n",
       "      <th>0</th>\n",
       "      <td>search</td>\n",
       "      <td>1666</td>\n",
       "    </tr>\n",
       "    <tr>\n",
       "      <th>1</th>\n",
       "      <td>photos_show</td>\n",
       "      <td>478</td>\n",
       "    </tr>\n",
       "    <tr>\n",
       "      <th>2</th>\n",
       "      <td>show_contacts</td>\n",
       "      <td>59</td>\n",
       "    </tr>\n",
       "  </tbody>\n",
       "</table>\n",
       "</div>"
      ],
      "text/plain": [
       "      event_name  user_id\n",
       "0         search     1666\n",
       "1    photos_show      478\n",
       "2  show_contacts       59"
      ]
     },
     "execution_count": 100,
     "metadata": {},
     "output_type": "execute_result"
    }
   ],
   "source": [
    "new_funnel_script_1"
   ]
  },
  {
   "cell_type": "code",
   "execution_count": 101,
   "metadata": {},
   "outputs": [
    {
     "data": {
      "text/html": [
       "<div>\n",
       "<style scoped>\n",
       "    .dataframe tbody tr th:only-of-type {\n",
       "        vertical-align: middle;\n",
       "    }\n",
       "\n",
       "    .dataframe tbody tr th {\n",
       "        vertical-align: top;\n",
       "    }\n",
       "\n",
       "    .dataframe thead th {\n",
       "        text-align: right;\n",
       "    }\n",
       "</style>\n",
       "<table border=\"1\" class=\"dataframe\">\n",
       "  <thead>\n",
       "    <tr style=\"text-align: right;\">\n",
       "      <th></th>\n",
       "      <th>event_name</th>\n",
       "      <th>user_id</th>\n",
       "    </tr>\n",
       "  </thead>\n",
       "  <tbody>\n",
       "    <tr>\n",
       "      <th>0</th>\n",
       "      <td>search</td>\n",
       "      <td>1666</td>\n",
       "    </tr>\n",
       "    <tr>\n",
       "      <th>1</th>\n",
       "      <td>photos_show</td>\n",
       "      <td>478</td>\n",
       "    </tr>\n",
       "    <tr>\n",
       "      <th>2</th>\n",
       "      <td>advert_open</td>\n",
       "      <td>13</td>\n",
       "    </tr>\n",
       "  </tbody>\n",
       "</table>\n",
       "</div>"
      ],
      "text/plain": [
       "    event_name  user_id\n",
       "0       search     1666\n",
       "1  photos_show      478\n",
       "2  advert_open       13"
      ]
     },
     "execution_count": 101,
     "metadata": {},
     "output_type": "execute_result"
    }
   ],
   "source": [
    "new_funnel_script_2"
   ]
  },
  {
   "cell_type": "code",
   "execution_count": 102,
   "metadata": {},
   "outputs": [
    {
     "name": "stdout",
     "output_type": "stream",
     "text": [
      "p-значение для двух сценариев для конверсии целевого действия:  0.0\n",
      "Отвергаем нулевую гипотезу: между долями двух сценариев для конверсии целевого действия есть значимая разница\n"
     ]
    }
   ],
   "source": [
    "alpha=0.05\n",
    "\n",
    "p1 = new_funnel_script_1.user_id[2] / new_funnel_script_1.user_id[0]\n",
    "p2 = new_funnel_script_2.user_id[2] / new_funnel_script_2.user_id[0]\n",
    "\n",
    "p_combined = (new_funnel_script_1.user_id[2] + new_funnel_script_2.user_id[2]) / (new_funnel_script_1.user_id[0] + new_funnel_script_2.user_id[0])\n",
    "\n",
    "difference = p1 - p2 \n",
    "        \n",
    "\n",
    "z_value = difference / mth.sqrt(p_combined * (1 - p_combined) * (1/new_funnel_script_1.user_id[0]+ 1/new_funnel_script_2.user_id[0]))\n",
    "\n",
    "distr = st.norm(0, 1) \n",
    "\n",
    "p_value = round((1 - distr.cdf(abs(z_value))) * 2, 4)\n",
    "\n",
    "print(f'p-значение для двух сценариев для конверсии целевого действия: ', p_value)\n",
    "\n",
    "if p_value < alpha:\n",
    "    print(f'Отвергаем нулевую гипотезу: между долями двух сценариев для конверсии целевого действия есть значимая разница')\n",
    "    \n",
    "else: \n",
    "    print(\n",
    "          f'Не получилось отвергнуть нулевую гипотезу, нет оснований считать доли двух сценариев для конверсии целевого действия разными'\n",
    "        )"
   ]
  },
  {
   "cell_type": "markdown",
   "metadata": {},
   "source": [
    "<div class=\"alert alert-block alert-info\"> Получается, что разница для конверсий целевых действий двух однотипных сценариев действительно есть, т.к. нулевая гипотеза была отвергнута.</div>"
   ]
  },
  {
   "cell_type": "code",
   "execution_count": 103,
   "metadata": {},
   "outputs": [
    {
     "name": "stdout",
     "output_type": "stream",
     "text": [
      "p-значение для двух групп (A, B) на шаге воронки search:  0.1867\n",
      "Не получилось отвергнуть нулевую гипотезу, нет оснований считать доли групп A, B на шаге воронки search разными\n",
      "\n",
      "\n",
      "p-значение для двух групп (A, B) на шаге воронки tips_show:  0.533\n",
      "Не получилось отвергнуть нулевую гипотезу, нет оснований считать доли групп A, B на шаге воронки tips_show разными\n",
      "\n",
      "\n",
      "p-значение для двух групп (A, B) на шаге воронки photos_show:  0.4054\n",
      "Не получилось отвергнуть нулевую гипотезу, нет оснований считать доли групп A, B на шаге воронки photos_show разными\n",
      "\n",
      "\n",
      "p-значение для двух групп (A, B) на шаге воронки show_contacts:  0.0\n",
      "Отвергаем нулевую гипотезу: между долями групп A, B на шаге воронки show_contacts есть значимая разница\n",
      "\n",
      "\n",
      "p-значение для двух групп (A, B) на шаге воронки map:  0.0016\n",
      "Отвергаем нулевую гипотезу: между долями групп A, B на шаге воронки map есть значимая разница\n",
      "\n",
      "\n",
      "p-значение для двух групп (A, B) на шаге воронки advert_open:  0.0\n",
      "Отвергаем нулевую гипотезу: между долями групп A, B на шаге воронки advert_open есть значимая разница\n",
      "\n",
      "\n",
      "p-значение для двух групп (A, B) на шаге воронки favorites_add:  0.9633\n",
      "Не получилось отвергнуть нулевую гипотезу, нет оснований считать доли групп A, B на шаге воронки favorites_add разными\n",
      "\n",
      "\n",
      "p-значение для двух групп (A, B) на шаге воронки contacts_call:  0.2366\n",
      "Не получилось отвергнуть нулевую гипотезу, нет оснований считать доли групп A, B на шаге воронки contacts_call разными\n",
      "\n",
      "\n",
      "p-значение для двух групп (A, B) на шаге воронки tips_click:  0.0348\n",
      "Отвергаем нулевую гипотезу: между долями групп A, B на шаге воронки tips_click есть значимая разница\n",
      "\n",
      "\n"
     ]
    }
   ],
   "source": [
    "z_test(ztest, ztest_count, 'A', 'B', alpha=0.05)"
   ]
  },
  {
   "cell_type": "markdown",
   "metadata": {},
   "source": [
    "Из 9 проведенных экспериментов у 4 удалось отвергнуть нулевую гипотезу и сказать, что доли между группами не равны на действиях: клик по рекомендованному объявлению, открытие объявления, просмотр карты и открытие контактов. Если открытие контактов и открытие объявления еще можно объяснить тем, что эти действия являются целевыми в разных сценариев и различие в долях является закономерным, то открытие карты и клик по рекомендации - это неожиданная находка. Значит пользователи из одного сценария делают это чаще/меньше, чем из другого. "
   ]
  },
  {
   "cell_type": "markdown",
   "metadata": {},
   "source": [
    "# Вывод\n",
    "\n",
    "Всего в датасете: общее кол-во пользователей: 74197\n",
    "кол-во уникальных пользователей: 4293\n",
    "\n",
    "Среднее кол-во действий на одного пользователя - 17.\n",
    "\n",
    "Чаще всего пользователи совершают следующие действия: \n",
    "\n",
    "- увидел рекомендованное объявление (40к)\n",
    "- просмотр фото (10к)\n",
    "- открыл карточку объявления (6,1к)\n",
    "- просмотр контактов (4,5-к)\n",
    "- открыл карту объявление (3,8к)\n",
    "- search_1 поиск по сайту (3,5к)\n",
    "\n",
    "Реже всего выполняются альтернативные поиски по сайту, звонки по номеру из объявления, переход к рекомендованному объявлению и добавление в избранное. Однако, если посмотреть процентное соотношение кол-ва уникальных пользователей к частоте совершения этого действия, то видно, что выше всего процент у search_2-7 (от 40 до 74%), что может указывать на то, что данные поиски по сайту не особо удобны (если вообще возможны) для простого скроллинга. Либо просто неудобны для пользователей и поэтому попробовав единожды, они больше к ним не возвращались. А наименьший процент уникальных пользвателей (7%) у действия \"просмотр рекомендованного объявления\", что объясняется огромной частотой выполнения действия (40к) и не особо большим кол-вом уникальных пользователей (2800). Скорее всего это действие автоматическое, как, например, \"просмотр главной страницы\", \"обязательная реклама для бесплатных приложений\" и т.д. Около 65% уникальных пользователей из всего дф просматривают рекомендованные объявления, а 34% смотрят карту. Проценты для остальных действий находятся в пределах 8-26%. Если сравнить проценты уникальных пользователей для search_2, search_3, search_6 и search_7, то на них приходится менее 4-6%, на search_4 - 11%, а больше всего у search_1 (18%) и search_5 (15%). Поэтому далее все search были объединены. С учетом объединения поисков по сайту, суммарно на это действие стало приходиться около 6784 раз выполнений, сумма уникальных пользователей стала 1666, а процент усреднился и стал - 24,6%.\n",
    "\n",
    "Прослеживается четкая зависимость от времени суток - в ночное время активность снижается, в дневное возрастает. Есть некоторая зависимость активности пользователей в зависимости от дня недели -  максимум приходится на понедельник (11,6к), потом в течении недели активность плавно снижается, но не критично и минимум достигается в субботу(9,1к). В воскресенье активность средняя, на уровне середины недели (10,5к). \n",
    "\n",
    "Больше всего пользователей пришло из яндекса (1934), потом из сторонних источников (1230), а на третьем месте гугл (1129).\n",
    "Все источники пользователей распределены равномерно по действиям, нет аномалий по слишком большому или слишком малому соотношению. В целом доли распределены так же, как и общее число пользователей с источников. \n",
    "\n",
    "Все действия по времени распределены равномерно и нет никаких скачков, падений. Так же  и нет роста или уменьшения кол-ва пользователей с течением времени почти для всех действий, кроме просмотра фото - на начало дф и первые несколько дней это действие выполняли 36-47 пользователей, на конец ДФ их количество выросло до 70-85. \n",
    "\n",
    "Если проанализировать действия пользователей, которые хоть раз смотрели контакты, то видно, что помимо основного целевого действия, превалируют - просмотр рекомендованного объявления (12,7к всего и 516 уникальных пользователей), поиск (2084 и 377), просмотр фото (3828 и 339) и просмотр карты (1101 и 289). Наибольший процент уникальных пользователей относительно всего дф, приходится на: просмотр контактов (23%), просмотр рекомендованного объявления (12%). Все остальные действия занимают долю меньше 10%. \n",
    "\n",
    "Для дф для целевого действия с течением времени, кол-во уникальных пользователей, которые пользовались функциями \"просмотр фото\", \"просмотр контактов\", \"поиск\" только росло, зато для \"просмотра карты\" в последнии 5 дней резко упало. \n",
    "\n",
    "Было выделено несколько сценариев из них самым длинным является:\n",
    "\n",
    "Поиск - просмотр фото - добавление в избранное - открытие объявления - просмотр контактов - звонок по телефону\n",
    "\n",
    "А самым частым:\n",
    "\n",
    "Поиск - открытие объявления - просмотр фото - просмотр контактов (134 полных выполнения)\n",
    "\n",
    "Однако сессий, когда выполнялся бы длинный сценарий полностью, очень мало (3). Поэтому далее рассматривались сценарии из 3 действий: \n",
    "\n",
    "Поиск - просмотр фото - просмотр контактов\n",
    "\n",
    "Поиск - просмотр фото - открытие объявления \n",
    "\n",
    "Первое с целевым действием, второе без.\n",
    "\n",
    "<div class=\"alert alert-block alert-info\"> Первый график - это абсолютные величины, второй - проценты тех, кто совершает какое-то действие и далее просмотр контактов в одной сессии. \n",
    "\n",
    "Нет переходов от звонков по объявлению к просмотру коттактов, что и понятно, он невозможен без просмотра контактов. \n",
    "\n",
    "Наибольший процент у просмотров фото (17%), потом идет просмотр рекомендованного объявления (15%), поиск (14,5%), добавление в избранное (14%).\n",
    "\n",
    "В абсолютных величинах преобладают - просмотр рекомендованного объявления (431), поиск (242), просмотр фото (191), просмотр карты (181).\n",
    "\n",
    "Если принять, что просмотр объявления - это автоматическое действие и не учитывать его влияние, то сильнее всего на целевое действие влияют - поиск и просмотр фото. </div>\n",
    " \n",
    "\n",
    "\n",
    "В ходе работы были проверены гипотезы:\n",
    "\n",
    "1. Первая - Одни пользователи совершают действия `tips_show` и `tips_click`, другие — только `tips_show`. Проверьте гипотезу: конверсия в просмотры контактов различается у этих двух групп.\n",
    "\n",
    "группа А - это те, кто совершают tips_show и tips_click\n",
    "\n",
    "группа Б - это те, кто совершают только tips_show\n",
    "\n",
    "Гипотезы: H-0: доли (пропорции) групп А и Б равны, Н-1: доли (пропорции) групп А и Б не равны.\n",
    "\n",
    "Проверка проводилась односторонним z-тестом для долей/пропорций.\n",
    "\n",
    "Пропорции будут считаться между группами А и Б на каждом виде действий (т.е. 9 экспериментов).\n",
    "\n",
    "Критический уровень стат значимости = 0.05, ибо 0.1 слишком много для данного кол-ва экспериментов.\n",
    "\n",
    "При проверки первой гипотезы было выявлено, что пропорции у двух групп равны. И только на этапе tips_show была отвергнута нулевая гипотеза о равенстве и доли оказались неравными. А если смотреть конверсию только для целевого действия, то она у них не различается, так как не удалось отвергнуть нулевую гипотезу.\n",
    "\n",
    "2. Вторая - предположим, что у нас есть две группы подопытных. Одна группа идет по одному сценарию, вторая по другому. Помимо своего обязательного набора из сценариев, они могут совершать другие виды действий в приложении. Проверить равенство долей этих групп.\n",
    "\n",
    "Возьму два однотипных сценария:\n",
    "\n",
    "группа А: Поиск - просмотр фото - просмотр контактов\n",
    "\n",
    "группа Б: Поиск  - просмотр фото - открытие объявления\n",
    "\n",
    "Только одно заканчивается целевым действием, а второе нет.\n",
    "\n",
    "Нулевая гипотеза - доли у данных сценариев равны.\n",
    "\n",
    "Альтернативная гипотеза - доли сценариев разные. \n",
    "\n",
    "Проверка будет проводиться односторонним z-тестом для долей/пропорций.\n",
    "\n",
    "Пропорции будут считаться между группами А и Б на каждом виде действий (т.е. 9 экспериментов).\n",
    "\n",
    "Критический уровень стат значимости = 0.05.\n",
    "\n",
    "Из 9 проведенных экспериментов у 4 удалось отвергнуть нулевую гипотезу и сказать, что доли между группами не равны на действиях: клик по рекомендованному объявлению, открытие объявления, просмотр карты и открытие контактов. Если открытие контактов и открытие объявления еще можно объяснить тем, что эти действия являются целевыми в разных сценариях и различие в долях является закономерным, то открытие карты и клик по рекомендации - это неожиданная находка. Значит пользователи из одного сценария делают это чаще/меньше, чем из другого. \n",
    "\n",
    "<div class=\"alert alert-block alert-info\"> По итогу оказалось, что разница конверсии целевого действия в обоих гипотезах все же есть, так как H-0 о равенстве долей была отвергнута оба раза. \n",
    "\n",
    "Рекомендации:\n",
    "\n",
    "Так как самыми влияющими на целевое действие (просмотр контактов) являются - поиск и просмотр фото, то всегда стоит делать упор на эти функции. Если с фото все понятно (за лайфтайм дф кол-во уникальных пользователей, которые пользуются этим дествием только выросло - с 36 до 85, то с поиском не все так однозначно. Так как в дф представлены разные виды поисков, и у большинства из них очень высокий процент уникальных пользователей, но низкая частота использования, что укаывает на то, что возврат к этим действиям очень низкий. А обусловленно это может быть - низким качеством исполнения, неудобством в использовании, сложностью поиска, неточностью алгоритнов поиска и т.д. Т.е. хорошо было бы поработать над search_2, search_3, search_6 и search_7. \n",
    "\n",
    "В данной работе целым действием является \"просмотр контактов\", но если принять за целевое действие \"звонок по объявлнию\", то окажется, что переходят на следующий шаг довольно маленькое кол-во пользователей, что тоже может говорить об неудобстве, нестабильности работы, сложности и т.д., и это мб тоже требует доработки. </div>\n",
    "\n"
   ]
  }
 ],
 "metadata": {
  "ExecuteTimeLog": [
   {
    "duration": 1279,
    "start_time": "2022-12-05T07:31:47.225Z"
   },
   {
    "duration": 183,
    "start_time": "2022-12-05T07:31:48.506Z"
   },
   {
    "duration": 4,
    "start_time": "2022-12-05T07:31:48.690Z"
   },
   {
    "duration": 90,
    "start_time": "2022-12-05T07:31:48.696Z"
   },
   {
    "duration": 158,
    "start_time": "2022-12-05T07:31:48.788Z"
   },
   {
    "duration": 8,
    "start_time": "2022-12-05T07:31:48.947Z"
   },
   {
    "duration": 34,
    "start_time": "2022-12-05T07:31:48.957Z"
   },
   {
    "duration": 36,
    "start_time": "2022-12-05T07:31:48.992Z"
   },
   {
    "duration": 53,
    "start_time": "2022-12-05T07:31:49.029Z"
   },
   {
    "duration": 906,
    "start_time": "2022-12-05T07:31:49.085Z"
   },
   {
    "duration": 4,
    "start_time": "2022-12-05T07:31:49.993Z"
   },
   {
    "duration": 34,
    "start_time": "2022-12-05T07:31:49.998Z"
   },
   {
    "duration": 48,
    "start_time": "2022-12-05T07:31:50.034Z"
   },
   {
    "duration": 19,
    "start_time": "2022-12-05T07:31:50.084Z"
   },
   {
    "duration": 75,
    "start_time": "2022-12-05T07:31:50.104Z"
   },
   {
    "duration": 130,
    "start_time": "2022-12-05T07:31:50.180Z"
   },
   {
    "duration": 15,
    "start_time": "2022-12-05T07:31:50.312Z"
   },
   {
    "duration": 39,
    "start_time": "2022-12-05T07:31:50.328Z"
   },
   {
    "duration": 49,
    "start_time": "2022-12-05T07:31:50.369Z"
   },
   {
    "duration": 26,
    "start_time": "2022-12-05T07:31:50.420Z"
   },
   {
    "duration": 22,
    "start_time": "2022-12-05T07:31:50.448Z"
   },
   {
    "duration": 57,
    "start_time": "2022-12-05T07:31:50.472Z"
   },
   {
    "duration": 56,
    "start_time": "2022-12-05T07:31:50.531Z"
   },
   {
    "duration": 9,
    "start_time": "2022-12-05T07:31:50.589Z"
   },
   {
    "duration": 24,
    "start_time": "2022-12-05T07:31:50.599Z"
   },
   {
    "duration": 34,
    "start_time": "2022-12-05T07:31:50.625Z"
   },
   {
    "duration": 55,
    "start_time": "2022-12-05T07:31:50.660Z"
   },
   {
    "duration": 20,
    "start_time": "2022-12-05T08:23:38.215Z"
   },
   {
    "duration": 20,
    "start_time": "2022-12-05T08:23:49.721Z"
   },
   {
    "duration": 27,
    "start_time": "2022-12-05T08:24:08.147Z"
   },
   {
    "duration": 1243,
    "start_time": "2022-12-05T08:24:26.716Z"
   },
   {
    "duration": 272,
    "start_time": "2022-12-05T08:24:27.961Z"
   },
   {
    "duration": 3,
    "start_time": "2022-12-05T08:24:28.235Z"
   },
   {
    "duration": 57,
    "start_time": "2022-12-05T08:24:28.240Z"
   },
   {
    "duration": 195,
    "start_time": "2022-12-05T08:24:28.300Z"
   },
   {
    "duration": 8,
    "start_time": "2022-12-05T08:24:28.497Z"
   },
   {
    "duration": 11,
    "start_time": "2022-12-05T08:24:28.506Z"
   },
   {
    "duration": 64,
    "start_time": "2022-12-05T08:24:28.519Z"
   },
   {
    "duration": 8,
    "start_time": "2022-12-05T08:24:28.585Z"
   },
   {
    "duration": 62,
    "start_time": "2022-12-05T08:24:28.597Z"
   },
   {
    "duration": 2376,
    "start_time": "2022-12-05T08:24:28.661Z"
   },
   {
    "duration": 5,
    "start_time": "2022-12-05T08:24:31.040Z"
   },
   {
    "duration": 40,
    "start_time": "2022-12-05T08:24:31.047Z"
   },
   {
    "duration": 12,
    "start_time": "2022-12-05T08:24:31.089Z"
   },
   {
    "duration": 7,
    "start_time": "2022-12-05T08:24:31.104Z"
   },
   {
    "duration": 89,
    "start_time": "2022-12-05T08:24:31.113Z"
   },
   {
    "duration": 74,
    "start_time": "2022-12-05T08:24:31.204Z"
   },
   {
    "duration": 18,
    "start_time": "2022-12-05T08:24:31.280Z"
   },
   {
    "duration": 30,
    "start_time": "2022-12-05T08:24:31.299Z"
   },
   {
    "duration": 64,
    "start_time": "2022-12-05T08:24:31.330Z"
   },
   {
    "duration": 16,
    "start_time": "2022-12-05T08:24:31.395Z"
   },
   {
    "duration": 21,
    "start_time": "2022-12-05T08:24:31.413Z"
   },
   {
    "duration": 49,
    "start_time": "2022-12-05T08:24:31.436Z"
   },
   {
    "duration": 66,
    "start_time": "2022-12-05T08:24:31.487Z"
   },
   {
    "duration": 24,
    "start_time": "2022-12-05T08:24:31.555Z"
   },
   {
    "duration": 18,
    "start_time": "2022-12-05T08:24:31.581Z"
   },
   {
    "duration": 21,
    "start_time": "2022-12-05T08:24:31.600Z"
   },
   {
    "duration": 74,
    "start_time": "2022-12-05T08:24:31.624Z"
   },
   {
    "duration": 44,
    "start_time": "2022-12-05T08:27:03.744Z"
   },
   {
    "duration": 37,
    "start_time": "2022-12-05T08:27:27.023Z"
   },
   {
    "duration": 29,
    "start_time": "2022-12-05T08:29:12.019Z"
   },
   {
    "duration": 48,
    "start_time": "2022-12-05T08:29:17.239Z"
   },
   {
    "duration": 8,
    "start_time": "2022-12-05T08:42:09.673Z"
   },
   {
    "duration": 5,
    "start_time": "2022-12-05T08:42:58.911Z"
   },
   {
    "duration": 165,
    "start_time": "2022-12-05T08:43:13.215Z"
   },
   {
    "duration": 11,
    "start_time": "2022-12-05T08:44:16.012Z"
   },
   {
    "duration": 8,
    "start_time": "2022-12-05T08:45:16.602Z"
   },
   {
    "duration": 49,
    "start_time": "2022-12-05T08:45:54.503Z"
   },
   {
    "duration": 31,
    "start_time": "2022-12-05T08:46:24.771Z"
   },
   {
    "duration": 1968,
    "start_time": "2022-12-05T08:48:02.831Z"
   },
   {
    "duration": 35,
    "start_time": "2022-12-05T08:50:23.018Z"
   },
   {
    "duration": 34,
    "start_time": "2022-12-05T08:50:54.503Z"
   },
   {
    "duration": 17,
    "start_time": "2022-12-05T08:52:00.092Z"
   },
   {
    "duration": 31,
    "start_time": "2022-12-05T08:52:08.650Z"
   },
   {
    "duration": 1587,
    "start_time": "2022-12-05T08:52:10.857Z"
   },
   {
    "duration": 21,
    "start_time": "2022-12-05T08:52:57.643Z"
   },
   {
    "duration": 31,
    "start_time": "2022-12-05T08:53:00.479Z"
   },
   {
    "duration": 7,
    "start_time": "2022-12-05T08:54:29.731Z"
   },
   {
    "duration": 582,
    "start_time": "2022-12-05T08:55:20.483Z"
   },
   {
    "duration": 45,
    "start_time": "2022-12-05T08:55:33.036Z"
   },
   {
    "duration": 37,
    "start_time": "2022-12-05T08:56:02.612Z"
   },
   {
    "duration": 48,
    "start_time": "2022-12-05T09:53:36.250Z"
   },
   {
    "duration": 60,
    "start_time": "2022-12-05T09:53:39.960Z"
   },
   {
    "duration": 9,
    "start_time": "2022-12-05T09:54:03.130Z"
   },
   {
    "duration": 1156,
    "start_time": "2022-12-05T09:56:33.332Z"
   },
   {
    "duration": 36,
    "start_time": "2022-12-05T09:56:52.200Z"
   },
   {
    "duration": 1151,
    "start_time": "2022-12-05T09:59:43.975Z"
   },
   {
    "duration": 345,
    "start_time": "2022-12-05T09:59:45.129Z"
   },
   {
    "duration": 3,
    "start_time": "2022-12-05T09:59:45.476Z"
   },
   {
    "duration": 65,
    "start_time": "2022-12-05T09:59:45.481Z"
   },
   {
    "duration": 135,
    "start_time": "2022-12-05T09:59:45.548Z"
   },
   {
    "duration": 7,
    "start_time": "2022-12-05T09:59:45.685Z"
   },
   {
    "duration": 61,
    "start_time": "2022-12-05T09:59:45.693Z"
   },
   {
    "duration": 49,
    "start_time": "2022-12-05T09:59:45.756Z"
   },
   {
    "duration": 7,
    "start_time": "2022-12-05T09:59:45.806Z"
   },
   {
    "duration": 63,
    "start_time": "2022-12-05T09:59:45.815Z"
   },
   {
    "duration": 2107,
    "start_time": "2022-12-05T09:59:45.880Z"
   },
   {
    "duration": 4,
    "start_time": "2022-12-05T09:59:47.989Z"
   },
   {
    "duration": 39,
    "start_time": "2022-12-05T09:59:47.994Z"
   },
   {
    "duration": 48,
    "start_time": "2022-12-05T09:59:48.035Z"
   },
   {
    "duration": 28,
    "start_time": "2022-12-05T09:59:48.084Z"
   },
   {
    "duration": 63,
    "start_time": "2022-12-05T09:59:48.114Z"
   },
   {
    "duration": 53,
    "start_time": "2022-12-05T09:59:48.179Z"
   },
   {
    "duration": 16,
    "start_time": "2022-12-05T09:59:48.234Z"
   },
   {
    "duration": 43,
    "start_time": "2022-12-05T09:59:48.251Z"
   },
   {
    "duration": 42,
    "start_time": "2022-12-05T09:59:48.296Z"
   },
   {
    "duration": 13,
    "start_time": "2022-12-05T09:59:48.339Z"
   },
   {
    "duration": 32,
    "start_time": "2022-12-05T09:59:48.353Z"
   },
   {
    "duration": 20,
    "start_time": "2022-12-05T09:59:48.386Z"
   },
   {
    "duration": 39,
    "start_time": "2022-12-05T09:59:48.407Z"
   },
   {
    "duration": 8,
    "start_time": "2022-12-05T09:59:48.447Z"
   },
   {
    "duration": 22,
    "start_time": "2022-12-05T09:59:48.457Z"
   },
   {
    "duration": 15,
    "start_time": "2022-12-05T09:59:48.480Z"
   },
   {
    "duration": 53,
    "start_time": "2022-12-05T09:59:48.498Z"
   },
   {
    "duration": 33,
    "start_time": "2022-12-05T09:59:48.552Z"
   },
   {
    "duration": 66,
    "start_time": "2022-12-05T09:59:48.587Z"
   },
   {
    "duration": 58,
    "start_time": "2022-12-05T09:59:48.654Z"
   },
   {
    "duration": 9,
    "start_time": "2022-12-05T09:59:48.714Z"
   },
   {
    "duration": 18,
    "start_time": "2022-12-05T09:59:48.725Z"
   },
   {
    "duration": 45,
    "start_time": "2022-12-05T09:59:48.745Z"
   },
   {
    "duration": 47,
    "start_time": "2022-12-05T09:59:48.792Z"
   },
   {
    "duration": 9,
    "start_time": "2022-12-05T10:48:27.372Z"
   },
   {
    "duration": 12,
    "start_time": "2022-12-05T10:51:45.354Z"
   },
   {
    "duration": 13,
    "start_time": "2022-12-05T10:51:57.466Z"
   },
   {
    "duration": 10,
    "start_time": "2022-12-05T10:52:17.437Z"
   },
   {
    "duration": 10,
    "start_time": "2022-12-05T10:52:33.360Z"
   },
   {
    "duration": 10,
    "start_time": "2022-12-05T10:53:00.367Z"
   },
   {
    "duration": 8,
    "start_time": "2022-12-05T10:53:04.438Z"
   },
   {
    "duration": 12,
    "start_time": "2022-12-05T10:53:59.915Z"
   },
   {
    "duration": 10,
    "start_time": "2022-12-05T10:54:13.842Z"
   },
   {
    "duration": 10,
    "start_time": "2022-12-05T10:55:15.423Z"
   },
   {
    "duration": 54,
    "start_time": "2022-12-05T11:25:25.222Z"
   },
   {
    "duration": 9,
    "start_time": "2022-12-05T11:27:46.356Z"
   },
   {
    "duration": 9,
    "start_time": "2022-12-05T11:27:53.553Z"
   },
   {
    "duration": 9,
    "start_time": "2022-12-05T11:28:01.447Z"
   },
   {
    "duration": 10,
    "start_time": "2022-12-05T11:28:13.317Z"
   },
   {
    "duration": 288,
    "start_time": "2022-12-05T11:33:30.413Z"
   },
   {
    "duration": 89,
    "start_time": "2022-12-05T11:35:48.665Z"
   },
   {
    "duration": 11,
    "start_time": "2022-12-05T11:36:20.036Z"
   },
   {
    "duration": 7,
    "start_time": "2022-12-05T11:36:35.934Z"
   },
   {
    "duration": 9,
    "start_time": "2022-12-05T11:36:52.959Z"
   },
   {
    "duration": 8,
    "start_time": "2022-12-05T11:37:31.847Z"
   },
   {
    "duration": 6,
    "start_time": "2022-12-05T11:37:48.429Z"
   },
   {
    "duration": 268,
    "start_time": "2022-12-05T11:37:54.273Z"
   },
   {
    "duration": 10,
    "start_time": "2022-12-05T11:38:23.396Z"
   },
   {
    "duration": 51,
    "start_time": "2022-12-05T11:39:01.486Z"
   },
   {
    "duration": 13,
    "start_time": "2022-12-05T11:40:43.239Z"
   },
   {
    "duration": 206,
    "start_time": "2022-12-05T11:41:41.824Z"
   },
   {
    "duration": 7,
    "start_time": "2022-12-05T11:42:32.551Z"
   },
   {
    "duration": 18,
    "start_time": "2022-12-05T11:43:09.376Z"
   },
   {
    "duration": 123,
    "start_time": "2022-12-05T11:43:34.026Z"
   },
   {
    "duration": 9,
    "start_time": "2022-12-05T11:53:26.794Z"
   },
   {
    "duration": 7,
    "start_time": "2022-12-05T12:10:12.572Z"
   },
   {
    "duration": 11,
    "start_time": "2022-12-05T12:10:22.764Z"
   },
   {
    "duration": 13,
    "start_time": "2022-12-05T12:11:52.850Z"
   },
   {
    "duration": 10,
    "start_time": "2022-12-05T12:12:08.601Z"
   },
   {
    "duration": 12,
    "start_time": "2022-12-05T12:12:45.315Z"
   },
   {
    "duration": 1215,
    "start_time": "2022-12-05T12:21:50.651Z"
   },
   {
    "duration": 330,
    "start_time": "2022-12-05T12:21:51.868Z"
   },
   {
    "duration": 5,
    "start_time": "2022-12-05T12:21:52.201Z"
   },
   {
    "duration": 74,
    "start_time": "2022-12-05T12:21:52.209Z"
   },
   {
    "duration": 238,
    "start_time": "2022-12-05T12:21:52.285Z"
   },
   {
    "duration": 11,
    "start_time": "2022-12-05T12:21:52.525Z"
   },
   {
    "duration": 33,
    "start_time": "2022-12-05T12:21:52.538Z"
   },
   {
    "duration": 72,
    "start_time": "2022-12-05T12:21:52.579Z"
   },
   {
    "duration": 8,
    "start_time": "2022-12-05T12:21:52.654Z"
   },
   {
    "duration": 70,
    "start_time": "2022-12-05T12:21:52.666Z"
   },
   {
    "duration": 2427,
    "start_time": "2022-12-05T12:21:52.738Z"
   },
   {
    "duration": 4,
    "start_time": "2022-12-05T12:21:55.178Z"
   },
   {
    "duration": 28,
    "start_time": "2022-12-05T12:21:55.184Z"
   },
   {
    "duration": 9,
    "start_time": "2022-12-05T12:21:55.214Z"
   },
   {
    "duration": 53,
    "start_time": "2022-12-05T12:21:55.225Z"
   },
   {
    "duration": 39,
    "start_time": "2022-12-05T12:21:55.280Z"
   },
   {
    "duration": 104,
    "start_time": "2022-12-05T12:21:55.322Z"
   },
   {
    "duration": 28,
    "start_time": "2022-12-05T12:21:55.428Z"
   },
   {
    "duration": 50,
    "start_time": "2022-12-05T12:21:55.459Z"
   },
   {
    "duration": 81,
    "start_time": "2022-12-05T12:21:55.511Z"
   },
   {
    "duration": 10,
    "start_time": "2022-12-05T12:21:55.593Z"
   },
   {
    "duration": 21,
    "start_time": "2022-12-05T12:21:55.605Z"
   },
   {
    "duration": 55,
    "start_time": "2022-12-05T12:21:55.629Z"
   },
   {
    "duration": 56,
    "start_time": "2022-12-05T12:21:55.687Z"
   },
   {
    "duration": 9,
    "start_time": "2022-12-05T12:21:55.745Z"
   },
   {
    "duration": 24,
    "start_time": "2022-12-05T12:21:55.756Z"
   },
   {
    "duration": 28,
    "start_time": "2022-12-05T12:21:55.782Z"
   },
   {
    "duration": 49,
    "start_time": "2022-12-05T12:21:55.814Z"
   },
   {
    "duration": 19,
    "start_time": "2022-12-05T12:21:55.865Z"
   },
   {
    "duration": 68,
    "start_time": "2022-12-05T12:21:55.887Z"
   },
   {
    "duration": 68,
    "start_time": "2022-12-05T12:21:55.957Z"
   },
   {
    "duration": 9,
    "start_time": "2022-12-05T12:21:56.026Z"
   },
   {
    "duration": 41,
    "start_time": "2022-12-05T12:21:56.038Z"
   },
   {
    "duration": 21,
    "start_time": "2022-12-05T12:21:56.081Z"
   },
   {
    "duration": 43,
    "start_time": "2022-12-05T12:21:56.104Z"
   },
   {
    "duration": 33,
    "start_time": "2022-12-05T12:21:56.149Z"
   },
   {
    "duration": 15,
    "start_time": "2022-12-05T12:21:56.184Z"
   },
   {
    "duration": 14,
    "start_time": "2022-12-05T12:21:56.201Z"
   },
   {
    "duration": 21,
    "start_time": "2022-12-05T12:21:56.217Z"
   },
   {
    "duration": 140,
    "start_time": "2022-12-05T12:21:56.240Z"
   },
   {
    "duration": 12,
    "start_time": "2022-12-05T12:21:56.382Z"
   },
   {
    "duration": 19,
    "start_time": "2022-12-05T12:21:56.395Z"
   },
   {
    "duration": 230,
    "start_time": "2022-12-05T12:43:04.060Z"
   },
   {
    "duration": 2658,
    "start_time": "2022-12-05T12:44:19.177Z"
   },
   {
    "duration": 39713,
    "start_time": "2022-12-05T12:44:39.964Z"
   },
   {
    "duration": 311,
    "start_time": "2022-12-05T12:45:36.518Z"
   },
   {
    "duration": 296,
    "start_time": "2022-12-05T12:52:16.185Z"
   },
   {
    "duration": 336,
    "start_time": "2022-12-05T12:52:37.070Z"
   },
   {
    "duration": 311,
    "start_time": "2022-12-05T12:52:53.457Z"
   },
   {
    "duration": 15,
    "start_time": "2022-12-05T12:54:56.184Z"
   },
   {
    "duration": 14,
    "start_time": "2022-12-05T12:55:03.963Z"
   },
   {
    "duration": 11,
    "start_time": "2022-12-05T12:55:09.226Z"
   },
   {
    "duration": 16,
    "start_time": "2022-12-05T12:55:14.505Z"
   },
   {
    "duration": 21,
    "start_time": "2022-12-05T12:55:59.144Z"
   },
   {
    "duration": 17,
    "start_time": "2022-12-05T13:05:21.148Z"
   },
   {
    "duration": 18,
    "start_time": "2022-12-05T13:05:40.882Z"
   },
   {
    "duration": 21,
    "start_time": "2022-12-05T13:05:48.770Z"
   },
   {
    "duration": 30,
    "start_time": "2022-12-05T13:06:01.809Z"
   },
   {
    "duration": 13,
    "start_time": "2022-12-05T13:08:27.686Z"
   },
   {
    "duration": 6,
    "start_time": "2022-12-05T13:09:00.391Z"
   },
   {
    "duration": 5,
    "start_time": "2022-12-05T13:09:19.081Z"
   },
   {
    "duration": 5,
    "start_time": "2022-12-05T13:09:33.456Z"
   },
   {
    "duration": 5,
    "start_time": "2022-12-05T13:09:41.079Z"
   },
   {
    "duration": 1167,
    "start_time": "2022-12-05T13:11:38.898Z"
   },
   {
    "duration": 1168,
    "start_time": "2022-12-05T13:12:22.286Z"
   },
   {
    "duration": 0,
    "start_time": "2022-12-05T13:13:09.137Z"
   },
   {
    "duration": 22,
    "start_time": "2022-12-05T13:13:35.642Z"
   },
   {
    "duration": 9,
    "start_time": "2022-12-05T13:13:50.883Z"
   },
   {
    "duration": 393,
    "start_time": "2022-12-05T13:14:00.863Z"
   },
   {
    "duration": 388,
    "start_time": "2022-12-05T13:14:19.464Z"
   },
   {
    "duration": 14,
    "start_time": "2022-12-05T13:15:00.440Z"
   },
   {
    "duration": 9,
    "start_time": "2022-12-05T13:15:07.839Z"
   },
   {
    "duration": 358,
    "start_time": "2022-12-05T13:15:09.433Z"
   },
   {
    "duration": 15,
    "start_time": "2022-12-05T13:30:29.071Z"
   },
   {
    "duration": 10,
    "start_time": "2022-12-05T13:31:17.433Z"
   },
   {
    "duration": 11,
    "start_time": "2022-12-05T13:32:08.301Z"
   },
   {
    "duration": 6,
    "start_time": "2022-12-05T13:32:38.828Z"
   },
   {
    "duration": 13,
    "start_time": "2022-12-05T13:33:24.386Z"
   },
   {
    "duration": 8,
    "start_time": "2022-12-05T13:34:46.110Z"
   },
   {
    "duration": 13,
    "start_time": "2022-12-05T13:35:00.123Z"
   },
   {
    "duration": 20,
    "start_time": "2022-12-05T13:35:31.609Z"
   },
   {
    "duration": 18,
    "start_time": "2022-12-05T13:36:38.342Z"
   },
   {
    "duration": 9,
    "start_time": "2022-12-05T13:40:59.753Z"
   },
   {
    "duration": 7,
    "start_time": "2022-12-05T13:41:34.882Z"
   },
   {
    "duration": 13,
    "start_time": "2022-12-05T13:41:40.330Z"
   },
   {
    "duration": 9,
    "start_time": "2022-12-05T13:42:13.076Z"
   },
   {
    "duration": 13,
    "start_time": "2022-12-05T13:42:49.123Z"
   },
   {
    "duration": 16,
    "start_time": "2022-12-05T13:43:02.466Z"
   },
   {
    "duration": 15,
    "start_time": "2022-12-05T13:43:56.829Z"
   },
   {
    "duration": 17,
    "start_time": "2022-12-05T13:44:07.316Z"
   },
   {
    "duration": 13,
    "start_time": "2022-12-05T13:45:39.299Z"
   },
   {
    "duration": 18,
    "start_time": "2022-12-05T13:45:44.188Z"
   },
   {
    "duration": 15,
    "start_time": "2022-12-05T13:46:30.034Z"
   },
   {
    "duration": 124,
    "start_time": "2022-12-05T13:53:03.554Z"
   },
   {
    "duration": 137,
    "start_time": "2022-12-05T13:53:25.054Z"
   },
   {
    "duration": 137,
    "start_time": "2022-12-05T13:53:55.854Z"
   },
   {
    "duration": 17,
    "start_time": "2022-12-05T13:54:36.622Z"
   },
   {
    "duration": 12,
    "start_time": "2022-12-05T13:54:46.830Z"
   },
   {
    "duration": 17,
    "start_time": "2022-12-05T13:56:07.624Z"
   },
   {
    "duration": 13,
    "start_time": "2022-12-05T13:56:16.517Z"
   },
   {
    "duration": 14,
    "start_time": "2022-12-05T13:57:33.311Z"
   },
   {
    "duration": 15,
    "start_time": "2022-12-05T13:57:46.814Z"
   },
   {
    "duration": 19,
    "start_time": "2022-12-05T13:57:53.513Z"
   },
   {
    "duration": 17,
    "start_time": "2022-12-05T14:00:33.511Z"
   },
   {
    "duration": 446,
    "start_time": "2022-12-05T14:04:55.190Z"
   },
   {
    "duration": 1277,
    "start_time": "2022-12-05T14:05:49.886Z"
   },
   {
    "duration": 296,
    "start_time": "2022-12-05T14:05:51.165Z"
   },
   {
    "duration": 5,
    "start_time": "2022-12-05T14:05:51.463Z"
   },
   {
    "duration": 50,
    "start_time": "2022-12-05T14:05:51.470Z"
   },
   {
    "duration": 182,
    "start_time": "2022-12-05T14:05:51.522Z"
   },
   {
    "duration": 10,
    "start_time": "2022-12-05T14:05:51.706Z"
   },
   {
    "duration": 22,
    "start_time": "2022-12-05T14:05:51.718Z"
   },
   {
    "duration": 45,
    "start_time": "2022-12-05T14:05:51.742Z"
   },
   {
    "duration": 6,
    "start_time": "2022-12-05T14:05:51.789Z"
   },
   {
    "duration": 37,
    "start_time": "2022-12-05T14:05:51.798Z"
   },
   {
    "duration": 2357,
    "start_time": "2022-12-05T14:05:51.837Z"
   },
   {
    "duration": 5,
    "start_time": "2022-12-05T14:05:54.196Z"
   },
   {
    "duration": 13,
    "start_time": "2022-12-05T14:05:54.203Z"
   },
   {
    "duration": 8,
    "start_time": "2022-12-05T14:05:54.218Z"
   },
   {
    "duration": 53,
    "start_time": "2022-12-05T14:05:54.228Z"
   },
   {
    "duration": 36,
    "start_time": "2022-12-05T14:05:54.283Z"
   },
   {
    "duration": 126,
    "start_time": "2022-12-05T14:05:54.321Z"
   },
   {
    "duration": 19,
    "start_time": "2022-12-05T14:05:54.449Z"
   },
   {
    "duration": 31,
    "start_time": "2022-12-05T14:05:54.469Z"
   },
   {
    "duration": 47,
    "start_time": "2022-12-05T14:05:54.502Z"
   },
   {
    "duration": 31,
    "start_time": "2022-12-05T14:05:54.551Z"
   },
   {
    "duration": 15,
    "start_time": "2022-12-05T14:05:54.584Z"
   },
   {
    "duration": 22,
    "start_time": "2022-12-05T14:05:54.601Z"
   },
   {
    "duration": 57,
    "start_time": "2022-12-05T14:05:54.624Z"
   },
   {
    "duration": 6,
    "start_time": "2022-12-05T14:05:54.683Z"
   },
   {
    "duration": 6,
    "start_time": "2022-12-05T14:05:54.691Z"
   },
   {
    "duration": 12,
    "start_time": "2022-12-05T14:05:54.699Z"
   },
   {
    "duration": 69,
    "start_time": "2022-12-05T14:05:54.716Z"
   },
   {
    "duration": 10,
    "start_time": "2022-12-05T14:05:54.787Z"
   },
   {
    "duration": 91,
    "start_time": "2022-12-05T14:05:54.800Z"
   },
   {
    "duration": 46,
    "start_time": "2022-12-05T14:05:54.893Z"
   },
   {
    "duration": 9,
    "start_time": "2022-12-05T14:05:54.941Z"
   },
   {
    "duration": 63,
    "start_time": "2022-12-05T14:05:54.952Z"
   },
   {
    "duration": 22,
    "start_time": "2022-12-05T14:05:55.016Z"
   },
   {
    "duration": 43,
    "start_time": "2022-12-05T14:05:55.040Z"
   },
   {
    "duration": 31,
    "start_time": "2022-12-05T14:05:55.085Z"
   },
   {
    "duration": 44,
    "start_time": "2022-12-05T14:05:55.117Z"
   },
   {
    "duration": 25,
    "start_time": "2022-12-05T14:05:55.163Z"
   },
   {
    "duration": 30,
    "start_time": "2022-12-05T14:05:55.189Z"
   },
   {
    "duration": 147,
    "start_time": "2022-12-05T14:05:55.221Z"
   },
   {
    "duration": 19,
    "start_time": "2022-12-05T14:05:55.370Z"
   },
   {
    "duration": 53,
    "start_time": "2022-12-05T14:05:55.391Z"
   },
   {
    "duration": 26,
    "start_time": "2022-12-05T14:05:55.445Z"
   },
   {
    "duration": 7,
    "start_time": "2022-12-05T14:05:55.473Z"
   },
   {
    "duration": 35,
    "start_time": "2022-12-05T14:05:55.482Z"
   },
   {
    "duration": 30,
    "start_time": "2022-12-05T14:05:55.519Z"
   },
   {
    "duration": 19,
    "start_time": "2022-12-05T14:05:55.551Z"
   },
   {
    "duration": 19,
    "start_time": "2022-12-05T14:05:55.572Z"
   },
   {
    "duration": 22,
    "start_time": "2022-12-05T14:05:55.593Z"
   },
   {
    "duration": 475,
    "start_time": "2022-12-05T14:05:55.617Z"
   },
   {
    "duration": 169,
    "start_time": "2022-12-05T14:05:56.095Z"
   },
   {
    "duration": 23,
    "start_time": "2022-12-05T14:05:56.265Z"
   },
   {
    "duration": 21,
    "start_time": "2022-12-05T14:05:56.291Z"
   },
   {
    "duration": 28,
    "start_time": "2022-12-05T14:05:56.313Z"
   },
   {
    "duration": 1423,
    "start_time": "2022-12-06T07:54:14.305Z"
   },
   {
    "duration": 280,
    "start_time": "2022-12-06T07:54:15.730Z"
   },
   {
    "duration": 3,
    "start_time": "2022-12-06T07:54:16.012Z"
   },
   {
    "duration": 52,
    "start_time": "2022-12-06T07:54:16.018Z"
   },
   {
    "duration": 163,
    "start_time": "2022-12-06T07:54:16.071Z"
   },
   {
    "duration": 7,
    "start_time": "2022-12-06T07:54:16.236Z"
   },
   {
    "duration": 11,
    "start_time": "2022-12-06T07:54:16.245Z"
   },
   {
    "duration": 45,
    "start_time": "2022-12-06T07:54:16.257Z"
   },
   {
    "duration": 6,
    "start_time": "2022-12-06T07:54:16.303Z"
   },
   {
    "duration": 33,
    "start_time": "2022-12-06T07:54:16.321Z"
   },
   {
    "duration": 2044,
    "start_time": "2022-12-06T07:54:16.355Z"
   },
   {
    "duration": 3,
    "start_time": "2022-12-06T07:54:18.402Z"
   },
   {
    "duration": 14,
    "start_time": "2022-12-06T07:54:18.421Z"
   },
   {
    "duration": 9,
    "start_time": "2022-12-06T07:54:18.437Z"
   },
   {
    "duration": 7,
    "start_time": "2022-12-06T07:54:18.448Z"
   },
   {
    "duration": 102,
    "start_time": "2022-12-06T07:54:18.457Z"
   },
   {
    "duration": 106,
    "start_time": "2022-12-06T07:54:18.561Z"
   },
   {
    "duration": 26,
    "start_time": "2022-12-06T07:54:18.669Z"
   },
   {
    "duration": 60,
    "start_time": "2022-12-06T07:54:18.696Z"
   },
   {
    "duration": 39,
    "start_time": "2022-12-06T07:54:18.758Z"
   },
   {
    "duration": 29,
    "start_time": "2022-12-06T07:54:18.799Z"
   },
   {
    "duration": 16,
    "start_time": "2022-12-06T07:54:18.829Z"
   },
   {
    "duration": 21,
    "start_time": "2022-12-06T07:54:18.847Z"
   },
   {
    "duration": 30,
    "start_time": "2022-12-06T07:54:18.870Z"
   },
   {
    "duration": 23,
    "start_time": "2022-12-06T07:54:18.902Z"
   },
   {
    "duration": 7,
    "start_time": "2022-12-06T07:54:18.927Z"
   },
   {
    "duration": 16,
    "start_time": "2022-12-06T07:54:18.935Z"
   },
   {
    "duration": 44,
    "start_time": "2022-12-06T07:54:18.954Z"
   },
   {
    "duration": 22,
    "start_time": "2022-12-06T07:54:19.000Z"
   },
   {
    "duration": 56,
    "start_time": "2022-12-06T07:54:19.024Z"
   },
   {
    "duration": 46,
    "start_time": "2022-12-06T07:54:19.082Z"
   },
   {
    "duration": 8,
    "start_time": "2022-12-06T07:54:19.129Z"
   },
   {
    "duration": 19,
    "start_time": "2022-12-06T07:54:19.138Z"
   },
   {
    "duration": 19,
    "start_time": "2022-12-06T07:54:19.159Z"
   },
   {
    "duration": 63,
    "start_time": "2022-12-06T07:54:19.180Z"
   },
   {
    "duration": 11,
    "start_time": "2022-12-06T07:54:19.245Z"
   },
   {
    "duration": 15,
    "start_time": "2022-12-06T07:54:19.259Z"
   },
   {
    "duration": 12,
    "start_time": "2022-12-06T07:54:19.276Z"
   },
   {
    "duration": 35,
    "start_time": "2022-12-06T07:54:19.289Z"
   },
   {
    "duration": 104,
    "start_time": "2022-12-06T07:54:19.325Z"
   },
   {
    "duration": 8,
    "start_time": "2022-12-06T07:54:19.431Z"
   },
   {
    "duration": 15,
    "start_time": "2022-12-06T07:54:19.441Z"
   },
   {
    "duration": 17,
    "start_time": "2022-12-06T07:54:19.457Z"
   },
   {
    "duration": 47,
    "start_time": "2022-12-06T07:54:19.475Z"
   },
   {
    "duration": 7,
    "start_time": "2022-12-06T07:54:19.523Z"
   },
   {
    "duration": 8,
    "start_time": "2022-12-06T07:54:19.532Z"
   },
   {
    "duration": 21,
    "start_time": "2022-12-06T07:54:19.542Z"
   },
   {
    "duration": 20,
    "start_time": "2022-12-06T07:54:19.564Z"
   },
   {
    "duration": 40,
    "start_time": "2022-12-06T07:54:19.586Z"
   },
   {
    "duration": 339,
    "start_time": "2022-12-06T07:54:19.628Z"
   },
   {
    "duration": 125,
    "start_time": "2022-12-06T07:54:19.969Z"
   },
   {
    "duration": 10,
    "start_time": "2022-12-06T07:54:20.095Z"
   },
   {
    "duration": 34,
    "start_time": "2022-12-06T07:54:20.106Z"
   },
   {
    "duration": 21,
    "start_time": "2022-12-06T07:54:20.142Z"
   },
   {
    "duration": 14,
    "start_time": "2022-12-06T08:55:12.882Z"
   },
   {
    "duration": 1059,
    "start_time": "2022-12-06T08:55:58.473Z"
   },
   {
    "duration": 317,
    "start_time": "2022-12-06T08:55:59.534Z"
   },
   {
    "duration": 5,
    "start_time": "2022-12-06T08:55:59.852Z"
   },
   {
    "duration": 63,
    "start_time": "2022-12-06T08:55:59.859Z"
   },
   {
    "duration": 134,
    "start_time": "2022-12-06T08:55:59.923Z"
   },
   {
    "duration": 8,
    "start_time": "2022-12-06T08:56:00.058Z"
   },
   {
    "duration": 29,
    "start_time": "2022-12-06T08:56:00.068Z"
   },
   {
    "duration": 39,
    "start_time": "2022-12-06T08:56:00.098Z"
   },
   {
    "duration": 12,
    "start_time": "2022-12-06T08:56:00.139Z"
   },
   {
    "duration": 52,
    "start_time": "2022-12-06T08:56:00.154Z"
   },
   {
    "duration": 2115,
    "start_time": "2022-12-06T08:56:00.208Z"
   },
   {
    "duration": 4,
    "start_time": "2022-12-06T08:56:02.325Z"
   },
   {
    "duration": 43,
    "start_time": "2022-12-06T08:56:02.330Z"
   },
   {
    "duration": 49,
    "start_time": "2022-12-06T08:56:02.375Z"
   },
   {
    "duration": 16,
    "start_time": "2022-12-06T08:56:02.426Z"
   },
   {
    "duration": 50,
    "start_time": "2022-12-06T08:56:02.444Z"
   },
   {
    "duration": 45,
    "start_time": "2022-12-06T08:56:02.496Z"
   },
   {
    "duration": 18,
    "start_time": "2022-12-06T08:56:02.542Z"
   },
   {
    "duration": 32,
    "start_time": "2022-12-06T08:56:02.562Z"
   },
   {
    "duration": 49,
    "start_time": "2022-12-06T08:56:02.596Z"
   },
   {
    "duration": 8,
    "start_time": "2022-12-06T08:56:02.647Z"
   },
   {
    "duration": 20,
    "start_time": "2022-12-06T08:56:02.656Z"
   },
   {
    "duration": 22,
    "start_time": "2022-12-06T08:56:02.678Z"
   },
   {
    "duration": 41,
    "start_time": "2022-12-06T08:56:02.701Z"
   },
   {
    "duration": 7,
    "start_time": "2022-12-06T08:56:02.743Z"
   },
   {
    "duration": 10,
    "start_time": "2022-12-06T08:56:02.752Z"
   },
   {
    "duration": 17,
    "start_time": "2022-12-06T08:56:02.763Z"
   },
   {
    "duration": 66,
    "start_time": "2022-12-06T08:56:02.784Z"
   },
   {
    "duration": 8,
    "start_time": "2022-12-06T08:56:02.852Z"
   },
   {
    "duration": 69,
    "start_time": "2022-12-06T08:56:02.862Z"
   },
   {
    "duration": 37,
    "start_time": "2022-12-06T08:56:02.932Z"
   },
   {
    "duration": 8,
    "start_time": "2022-12-06T08:56:02.970Z"
   },
   {
    "duration": 17,
    "start_time": "2022-12-06T08:56:02.979Z"
   },
   {
    "duration": 43,
    "start_time": "2022-12-06T08:56:02.997Z"
   },
   {
    "duration": 42,
    "start_time": "2022-12-06T08:56:03.042Z"
   },
   {
    "duration": 14,
    "start_time": "2022-12-06T08:56:03.085Z"
   },
   {
    "duration": 27,
    "start_time": "2022-12-06T08:56:03.100Z"
   },
   {
    "duration": 8,
    "start_time": "2022-12-06T08:56:03.129Z"
   },
   {
    "duration": 29,
    "start_time": "2022-12-06T08:56:03.139Z"
   },
   {
    "duration": 101,
    "start_time": "2022-12-06T08:56:03.170Z"
   },
   {
    "duration": 11,
    "start_time": "2022-12-06T08:56:03.273Z"
   },
   {
    "duration": 3,
    "start_time": "2022-12-06T08:56:03.285Z"
   },
   {
    "duration": 32,
    "start_time": "2022-12-06T08:56:03.289Z"
   },
   {
    "duration": 5,
    "start_time": "2022-12-06T08:56:03.323Z"
   },
   {
    "duration": 16,
    "start_time": "2022-12-06T08:56:03.329Z"
   },
   {
    "duration": 19,
    "start_time": "2022-12-06T08:56:03.346Z"
   },
   {
    "duration": 170,
    "start_time": "2022-12-06T08:56:03.366Z"
   },
   {
    "duration": 0,
    "start_time": "2022-12-06T08:56:03.538Z"
   },
   {
    "duration": 0,
    "start_time": "2022-12-06T08:56:03.539Z"
   },
   {
    "duration": 0,
    "start_time": "2022-12-06T08:56:03.540Z"
   },
   {
    "duration": 0,
    "start_time": "2022-12-06T08:56:03.541Z"
   },
   {
    "duration": 0,
    "start_time": "2022-12-06T08:56:03.542Z"
   },
   {
    "duration": 11,
    "start_time": "2022-12-06T09:01:28.791Z"
   },
   {
    "duration": 9,
    "start_time": "2022-12-06T09:01:39.828Z"
   },
   {
    "duration": 19,
    "start_time": "2022-12-06T09:01:53.624Z"
   },
   {
    "duration": 1138,
    "start_time": "2022-12-06T09:12:44.842Z"
   },
   {
    "duration": 232,
    "start_time": "2022-12-06T09:12:45.982Z"
   },
   {
    "duration": 3,
    "start_time": "2022-12-06T09:12:46.216Z"
   },
   {
    "duration": 41,
    "start_time": "2022-12-06T09:12:46.221Z"
   },
   {
    "duration": 142,
    "start_time": "2022-12-06T09:12:46.263Z"
   },
   {
    "duration": 18,
    "start_time": "2022-12-06T09:12:46.406Z"
   },
   {
    "duration": 21,
    "start_time": "2022-12-06T09:12:46.425Z"
   },
   {
    "duration": 37,
    "start_time": "2022-12-06T09:12:46.447Z"
   },
   {
    "duration": 5,
    "start_time": "2022-12-06T09:12:46.486Z"
   },
   {
    "duration": 48,
    "start_time": "2022-12-06T09:12:46.494Z"
   },
   {
    "duration": 2061,
    "start_time": "2022-12-06T09:12:46.544Z"
   },
   {
    "duration": 3,
    "start_time": "2022-12-06T09:12:48.607Z"
   },
   {
    "duration": 52,
    "start_time": "2022-12-06T09:12:48.611Z"
   },
   {
    "duration": 13,
    "start_time": "2022-12-06T09:12:48.664Z"
   },
   {
    "duration": 8,
    "start_time": "2022-12-06T09:12:48.678Z"
   },
   {
    "duration": 38,
    "start_time": "2022-12-06T09:12:48.687Z"
   },
   {
    "duration": 43,
    "start_time": "2022-12-06T09:12:48.727Z"
   },
   {
    "duration": 21,
    "start_time": "2022-12-06T09:12:48.771Z"
   },
   {
    "duration": 54,
    "start_time": "2022-12-06T09:12:48.794Z"
   },
   {
    "duration": 97,
    "start_time": "2022-12-06T09:12:48.849Z"
   },
   {
    "duration": 10,
    "start_time": "2022-12-06T09:12:48.947Z"
   },
   {
    "duration": 70,
    "start_time": "2022-12-06T09:12:48.959Z"
   },
   {
    "duration": 29,
    "start_time": "2022-12-06T09:12:49.031Z"
   },
   {
    "duration": 39,
    "start_time": "2022-12-06T09:12:49.062Z"
   },
   {
    "duration": 22,
    "start_time": "2022-12-06T09:12:49.102Z"
   },
   {
    "duration": 16,
    "start_time": "2022-12-06T09:12:49.125Z"
   },
   {
    "duration": 37,
    "start_time": "2022-12-06T09:12:49.142Z"
   },
   {
    "duration": 68,
    "start_time": "2022-12-06T09:12:49.182Z"
   },
   {
    "duration": 8,
    "start_time": "2022-12-06T09:12:49.252Z"
   },
   {
    "duration": 81,
    "start_time": "2022-12-06T09:12:49.261Z"
   },
   {
    "duration": 35,
    "start_time": "2022-12-06T09:12:49.343Z"
   },
   {
    "duration": 26,
    "start_time": "2022-12-06T09:12:49.380Z"
   },
   {
    "duration": 39,
    "start_time": "2022-12-06T09:12:49.407Z"
   },
   {
    "duration": 40,
    "start_time": "2022-12-06T09:12:49.447Z"
   },
   {
    "duration": 58,
    "start_time": "2022-12-06T09:12:49.488Z"
   },
   {
    "duration": 9,
    "start_time": "2022-12-06T09:12:49.548Z"
   },
   {
    "duration": 24,
    "start_time": "2022-12-06T09:12:49.559Z"
   },
   {
    "duration": 21,
    "start_time": "2022-12-06T09:12:49.585Z"
   },
   {
    "duration": 14,
    "start_time": "2022-12-06T09:12:49.607Z"
   },
   {
    "duration": 135,
    "start_time": "2022-12-06T09:12:49.622Z"
   },
   {
    "duration": 9,
    "start_time": "2022-12-06T09:12:49.759Z"
   },
   {
    "duration": 23,
    "start_time": "2022-12-06T09:12:49.770Z"
   },
   {
    "duration": 43,
    "start_time": "2022-12-06T09:12:49.794Z"
   },
   {
    "duration": 9,
    "start_time": "2022-12-06T09:12:49.838Z"
   },
   {
    "duration": 22,
    "start_time": "2022-12-06T09:12:49.849Z"
   },
   {
    "duration": 18,
    "start_time": "2022-12-06T09:12:49.873Z"
   },
   {
    "duration": 12,
    "start_time": "2022-12-06T09:12:49.893Z"
   },
   {
    "duration": 23,
    "start_time": "2022-12-06T09:12:49.907Z"
   },
   {
    "duration": 30,
    "start_time": "2022-12-06T09:12:49.932Z"
   },
   {
    "duration": 5,
    "start_time": "2022-12-06T09:12:49.964Z"
   },
   {
    "duration": 28,
    "start_time": "2022-12-06T09:12:49.971Z"
   },
   {
    "duration": 35,
    "start_time": "2022-12-06T09:12:50.000Z"
   },
   {
    "duration": 30,
    "start_time": "2022-12-06T09:12:50.039Z"
   },
   {
    "duration": 163,
    "start_time": "2022-12-06T09:12:50.071Z"
   },
   {
    "duration": 0,
    "start_time": "2022-12-06T09:12:50.236Z"
   },
   {
    "duration": 0,
    "start_time": "2022-12-06T09:12:50.238Z"
   },
   {
    "duration": 0,
    "start_time": "2022-12-06T09:12:50.239Z"
   },
   {
    "duration": 0,
    "start_time": "2022-12-06T09:12:50.240Z"
   },
   {
    "duration": 19,
    "start_time": "2022-12-06T09:54:02.884Z"
   },
   {
    "duration": 1118,
    "start_time": "2022-12-06T09:55:08.666Z"
   },
   {
    "duration": 321,
    "start_time": "2022-12-06T09:55:09.786Z"
   },
   {
    "duration": 3,
    "start_time": "2022-12-06T09:55:10.108Z"
   },
   {
    "duration": 44,
    "start_time": "2022-12-06T09:55:10.113Z"
   },
   {
    "duration": 137,
    "start_time": "2022-12-06T09:55:10.158Z"
   },
   {
    "duration": 7,
    "start_time": "2022-12-06T09:55:10.297Z"
   },
   {
    "duration": 22,
    "start_time": "2022-12-06T09:55:10.306Z"
   },
   {
    "duration": 30,
    "start_time": "2022-12-06T09:55:10.329Z"
   },
   {
    "duration": 37,
    "start_time": "2022-12-06T09:55:10.361Z"
   },
   {
    "duration": 21,
    "start_time": "2022-12-06T09:55:10.401Z"
   },
   {
    "duration": 36,
    "start_time": "2022-12-06T09:55:10.423Z"
   },
   {
    "duration": 869,
    "start_time": "2022-12-06T09:55:10.461Z"
   },
   {
    "duration": 4,
    "start_time": "2022-12-06T09:55:11.332Z"
   },
   {
    "duration": 23,
    "start_time": "2022-12-06T09:55:11.338Z"
   },
   {
    "duration": 65,
    "start_time": "2022-12-06T09:55:11.363Z"
   },
   {
    "duration": 20,
    "start_time": "2022-12-06T09:55:11.430Z"
   },
   {
    "duration": 89,
    "start_time": "2022-12-06T09:55:11.451Z"
   },
   {
    "duration": 144,
    "start_time": "2022-12-06T09:55:11.542Z"
   },
   {
    "duration": 16,
    "start_time": "2022-12-06T09:55:11.688Z"
   },
   {
    "duration": 41,
    "start_time": "2022-12-06T09:55:11.706Z"
   },
   {
    "duration": 49,
    "start_time": "2022-12-06T09:55:11.749Z"
   },
   {
    "duration": 35,
    "start_time": "2022-12-06T09:55:11.799Z"
   },
   {
    "duration": 21,
    "start_time": "2022-12-06T09:55:11.836Z"
   },
   {
    "duration": 28,
    "start_time": "2022-12-06T09:55:11.859Z"
   },
   {
    "duration": 34,
    "start_time": "2022-12-06T09:55:11.888Z"
   },
   {
    "duration": 7,
    "start_time": "2022-12-06T09:55:11.923Z"
   },
   {
    "duration": 14,
    "start_time": "2022-12-06T09:55:11.932Z"
   },
   {
    "duration": 48,
    "start_time": "2022-12-06T09:55:11.950Z"
   },
   {
    "duration": 54,
    "start_time": "2022-12-06T09:55:12.000Z"
   },
   {
    "duration": 7,
    "start_time": "2022-12-06T09:55:12.056Z"
   },
   {
    "duration": 66,
    "start_time": "2022-12-06T09:55:12.065Z"
   },
   {
    "duration": 41,
    "start_time": "2022-12-06T09:55:12.132Z"
   },
   {
    "duration": 8,
    "start_time": "2022-12-06T09:55:12.174Z"
   },
   {
    "duration": 32,
    "start_time": "2022-12-06T09:55:12.184Z"
   },
   {
    "duration": 54,
    "start_time": "2022-12-06T09:55:12.220Z"
   },
   {
    "duration": 41,
    "start_time": "2022-12-06T09:55:12.276Z"
   },
   {
    "duration": 35,
    "start_time": "2022-12-06T09:55:12.319Z"
   },
   {
    "duration": 15,
    "start_time": "2022-12-06T09:55:12.356Z"
   },
   {
    "duration": 10,
    "start_time": "2022-12-06T09:55:12.373Z"
   },
   {
    "duration": 9,
    "start_time": "2022-12-06T09:55:12.385Z"
   },
   {
    "duration": 97,
    "start_time": "2022-12-06T09:55:12.396Z"
   },
   {
    "duration": 9,
    "start_time": "2022-12-06T09:55:12.495Z"
   },
   {
    "duration": 24,
    "start_time": "2022-12-06T09:55:12.505Z"
   },
   {
    "duration": 22,
    "start_time": "2022-12-06T09:55:12.531Z"
   },
   {
    "duration": 7,
    "start_time": "2022-12-06T09:55:12.554Z"
   },
   {
    "duration": 22,
    "start_time": "2022-12-06T09:55:12.563Z"
   },
   {
    "duration": 45,
    "start_time": "2022-12-06T09:55:12.587Z"
   },
   {
    "duration": 9,
    "start_time": "2022-12-06T09:55:12.633Z"
   },
   {
    "duration": 20,
    "start_time": "2022-12-06T09:55:12.644Z"
   },
   {
    "duration": 21,
    "start_time": "2022-12-06T09:55:12.665Z"
   },
   {
    "duration": 11,
    "start_time": "2022-12-06T09:55:12.688Z"
   },
   {
    "duration": 25,
    "start_time": "2022-12-06T09:55:12.700Z"
   },
   {
    "duration": 30,
    "start_time": "2022-12-06T09:55:12.726Z"
   },
   {
    "duration": 11,
    "start_time": "2022-12-06T09:55:12.758Z"
   },
   {
    "duration": 182,
    "start_time": "2022-12-06T09:55:12.771Z"
   },
   {
    "duration": 0,
    "start_time": "2022-12-06T09:55:12.955Z"
   },
   {
    "duration": 0,
    "start_time": "2022-12-06T09:55:12.956Z"
   },
   {
    "duration": 0,
    "start_time": "2022-12-06T09:55:12.957Z"
   },
   {
    "duration": 0,
    "start_time": "2022-12-06T09:55:12.958Z"
   },
   {
    "duration": 30,
    "start_time": "2022-12-06T09:59:38.230Z"
   },
   {
    "duration": 41,
    "start_time": "2022-12-06T09:59:40.969Z"
   },
   {
    "duration": 9,
    "start_time": "2022-12-06T10:01:06.364Z"
   },
   {
    "duration": 4,
    "start_time": "2022-12-06T10:03:14.843Z"
   },
   {
    "duration": 25,
    "start_time": "2022-12-06T10:03:46.889Z"
   },
   {
    "duration": 26,
    "start_time": "2022-12-06T10:04:21.244Z"
   },
   {
    "duration": 11,
    "start_time": "2022-12-06T10:07:31.434Z"
   },
   {
    "duration": 60,
    "start_time": "2022-12-06T10:07:46.153Z"
   },
   {
    "duration": 74,
    "start_time": "2022-12-06T10:07:54.410Z"
   },
   {
    "duration": 11,
    "start_time": "2022-12-06T10:08:11.112Z"
   },
   {
    "duration": 20,
    "start_time": "2022-12-06T10:11:28.613Z"
   },
   {
    "duration": 24,
    "start_time": "2022-12-06T10:11:43.583Z"
   },
   {
    "duration": 47,
    "start_time": "2022-12-06T10:13:34.077Z"
   },
   {
    "duration": 725,
    "start_time": "2022-12-06T10:13:52.051Z"
   },
   {
    "duration": 1167,
    "start_time": "2022-12-06T10:14:25.800Z"
   },
   {
    "duration": 217,
    "start_time": "2022-12-06T10:14:26.969Z"
   },
   {
    "duration": 4,
    "start_time": "2022-12-06T10:14:27.188Z"
   },
   {
    "duration": 49,
    "start_time": "2022-12-06T10:14:27.194Z"
   },
   {
    "duration": 145,
    "start_time": "2022-12-06T10:14:27.245Z"
   },
   {
    "duration": 7,
    "start_time": "2022-12-06T10:14:27.392Z"
   },
   {
    "duration": 24,
    "start_time": "2022-12-06T10:14:27.401Z"
   },
   {
    "duration": 47,
    "start_time": "2022-12-06T10:14:27.427Z"
   },
   {
    "duration": 30,
    "start_time": "2022-12-06T10:14:27.475Z"
   },
   {
    "duration": 13,
    "start_time": "2022-12-06T10:14:27.508Z"
   },
   {
    "duration": 35,
    "start_time": "2022-12-06T10:14:27.523Z"
   },
   {
    "duration": 2053,
    "start_time": "2022-12-06T10:14:27.560Z"
   },
   {
    "duration": 6,
    "start_time": "2022-12-06T10:14:29.616Z"
   },
   {
    "duration": 13,
    "start_time": "2022-12-06T10:14:29.623Z"
   },
   {
    "duration": 9,
    "start_time": "2022-12-06T10:14:29.637Z"
   },
   {
    "duration": 11,
    "start_time": "2022-12-06T10:14:29.648Z"
   },
   {
    "duration": 88,
    "start_time": "2022-12-06T10:14:29.660Z"
   },
   {
    "duration": 79,
    "start_time": "2022-12-06T10:14:29.750Z"
   },
   {
    "duration": 17,
    "start_time": "2022-12-06T10:14:29.830Z"
   },
   {
    "duration": 28,
    "start_time": "2022-12-06T10:14:29.849Z"
   },
   {
    "duration": 58,
    "start_time": "2022-12-06T10:14:29.879Z"
   },
   {
    "duration": 8,
    "start_time": "2022-12-06T10:14:29.938Z"
   },
   {
    "duration": 15,
    "start_time": "2022-12-06T10:14:29.948Z"
   },
   {
    "duration": 29,
    "start_time": "2022-12-06T10:14:29.964Z"
   },
   {
    "duration": 43,
    "start_time": "2022-12-06T10:14:29.995Z"
   },
   {
    "duration": 8,
    "start_time": "2022-12-06T10:14:30.040Z"
   },
   {
    "duration": 38,
    "start_time": "2022-12-06T10:14:30.049Z"
   },
   {
    "duration": 751,
    "start_time": "2022-12-06T10:14:30.090Z"
   },
   {
    "duration": 11,
    "start_time": "2022-12-06T10:14:30.843Z"
   },
   {
    "duration": 24,
    "start_time": "2022-12-06T10:14:30.855Z"
   },
   {
    "duration": 39,
    "start_time": "2022-12-06T10:14:30.881Z"
   },
   {
    "duration": 56,
    "start_time": "2022-12-06T10:14:30.921Z"
   },
   {
    "duration": 75,
    "start_time": "2022-12-06T10:14:30.979Z"
   },
   {
    "duration": 8,
    "start_time": "2022-12-06T10:14:31.055Z"
   },
   {
    "duration": 95,
    "start_time": "2022-12-06T10:14:31.065Z"
   },
   {
    "duration": 39,
    "start_time": "2022-12-06T10:14:31.162Z"
   },
   {
    "duration": 23,
    "start_time": "2022-12-06T10:14:31.202Z"
   },
   {
    "duration": 25,
    "start_time": "2022-12-06T10:14:31.227Z"
   },
   {
    "duration": 52,
    "start_time": "2022-12-06T10:14:31.253Z"
   },
   {
    "duration": 42,
    "start_time": "2022-12-06T10:14:31.307Z"
   },
   {
    "duration": 19,
    "start_time": "2022-12-06T10:14:31.351Z"
   },
   {
    "duration": 28,
    "start_time": "2022-12-06T10:14:31.372Z"
   },
   {
    "duration": 13,
    "start_time": "2022-12-06T10:14:31.401Z"
   },
   {
    "duration": 28,
    "start_time": "2022-12-06T10:14:31.415Z"
   },
   {
    "duration": 112,
    "start_time": "2022-12-06T10:14:31.444Z"
   },
   {
    "duration": 14,
    "start_time": "2022-12-06T10:14:31.558Z"
   },
   {
    "duration": 51,
    "start_time": "2022-12-06T10:14:31.574Z"
   },
   {
    "duration": 13,
    "start_time": "2022-12-06T10:14:31.627Z"
   },
   {
    "duration": 9,
    "start_time": "2022-12-06T10:14:31.642Z"
   },
   {
    "duration": 22,
    "start_time": "2022-12-06T10:14:31.653Z"
   },
   {
    "duration": 46,
    "start_time": "2022-12-06T10:14:31.677Z"
   },
   {
    "duration": 10,
    "start_time": "2022-12-06T10:14:31.725Z"
   },
   {
    "duration": 37,
    "start_time": "2022-12-06T10:14:31.736Z"
   },
   {
    "duration": 27,
    "start_time": "2022-12-06T10:14:31.775Z"
   },
   {
    "duration": 8,
    "start_time": "2022-12-06T10:14:31.804Z"
   },
   {
    "duration": 24,
    "start_time": "2022-12-06T10:14:31.813Z"
   },
   {
    "duration": 20,
    "start_time": "2022-12-06T10:14:31.839Z"
   },
   {
    "duration": 10,
    "start_time": "2022-12-06T10:14:31.860Z"
   },
   {
    "duration": 161,
    "start_time": "2022-12-06T10:14:31.872Z"
   },
   {
    "duration": 0,
    "start_time": "2022-12-06T10:14:32.034Z"
   },
   {
    "duration": 0,
    "start_time": "2022-12-06T10:14:32.036Z"
   },
   {
    "duration": 0,
    "start_time": "2022-12-06T10:14:32.037Z"
   },
   {
    "duration": 0,
    "start_time": "2022-12-06T10:14:32.038Z"
   },
   {
    "duration": 693,
    "start_time": "2022-12-06T10:15:29.042Z"
   },
   {
    "duration": 1159,
    "start_time": "2022-12-06T10:17:00.862Z"
   },
   {
    "duration": 274,
    "start_time": "2022-12-06T10:17:02.023Z"
   },
   {
    "duration": 3,
    "start_time": "2022-12-06T10:17:02.299Z"
   },
   {
    "duration": 207,
    "start_time": "2022-12-06T10:17:02.304Z"
   },
   {
    "duration": 138,
    "start_time": "2022-12-06T10:17:02.512Z"
   },
   {
    "duration": 7,
    "start_time": "2022-12-06T10:17:02.652Z"
   },
   {
    "duration": 16,
    "start_time": "2022-12-06T10:17:02.661Z"
   },
   {
    "duration": 50,
    "start_time": "2022-12-06T10:17:02.678Z"
   },
   {
    "duration": 29,
    "start_time": "2022-12-06T10:17:02.730Z"
   },
   {
    "duration": 6,
    "start_time": "2022-12-06T10:17:02.762Z"
   },
   {
    "duration": 58,
    "start_time": "2022-12-06T10:17:02.769Z"
   },
   {
    "duration": 2168,
    "start_time": "2022-12-06T10:17:02.829Z"
   },
   {
    "duration": 3,
    "start_time": "2022-12-06T10:17:04.999Z"
   },
   {
    "duration": 21,
    "start_time": "2022-12-06T10:17:05.004Z"
   },
   {
    "duration": 11,
    "start_time": "2022-12-06T10:17:05.027Z"
   },
   {
    "duration": 22,
    "start_time": "2022-12-06T10:17:05.040Z"
   },
   {
    "duration": 94,
    "start_time": "2022-12-06T10:17:05.063Z"
   },
   {
    "duration": 73,
    "start_time": "2022-12-06T10:17:05.159Z"
   },
   {
    "duration": 18,
    "start_time": "2022-12-06T10:17:05.234Z"
   },
   {
    "duration": 45,
    "start_time": "2022-12-06T10:17:05.253Z"
   },
   {
    "duration": 84,
    "start_time": "2022-12-06T10:17:05.300Z"
   },
   {
    "duration": 46,
    "start_time": "2022-12-06T10:17:05.386Z"
   },
   {
    "duration": 38,
    "start_time": "2022-12-06T10:17:05.433Z"
   },
   {
    "duration": 45,
    "start_time": "2022-12-06T10:17:05.472Z"
   },
   {
    "duration": 41,
    "start_time": "2022-12-06T10:17:05.519Z"
   },
   {
    "duration": 38,
    "start_time": "2022-12-06T10:17:05.561Z"
   },
   {
    "duration": 58,
    "start_time": "2022-12-06T10:17:05.601Z"
   },
   {
    "duration": 936,
    "start_time": "2022-12-06T10:17:05.664Z"
   },
   {
    "duration": 1,
    "start_time": "2022-12-06T10:17:06.601Z"
   },
   {
    "duration": 0,
    "start_time": "2022-12-06T10:17:06.603Z"
   },
   {
    "duration": 0,
    "start_time": "2022-12-06T10:17:06.604Z"
   },
   {
    "duration": 0,
    "start_time": "2022-12-06T10:17:06.605Z"
   },
   {
    "duration": 0,
    "start_time": "2022-12-06T10:17:06.606Z"
   },
   {
    "duration": 0,
    "start_time": "2022-12-06T10:17:06.620Z"
   },
   {
    "duration": 0,
    "start_time": "2022-12-06T10:17:06.621Z"
   },
   {
    "duration": 0,
    "start_time": "2022-12-06T10:17:06.623Z"
   },
   {
    "duration": 0,
    "start_time": "2022-12-06T10:17:06.624Z"
   },
   {
    "duration": 0,
    "start_time": "2022-12-06T10:17:06.625Z"
   },
   {
    "duration": 0,
    "start_time": "2022-12-06T10:17:06.626Z"
   },
   {
    "duration": 0,
    "start_time": "2022-12-06T10:17:06.627Z"
   },
   {
    "duration": 0,
    "start_time": "2022-12-06T10:17:06.628Z"
   },
   {
    "duration": 0,
    "start_time": "2022-12-06T10:17:06.630Z"
   },
   {
    "duration": 0,
    "start_time": "2022-12-06T10:17:06.631Z"
   },
   {
    "duration": 0,
    "start_time": "2022-12-06T10:17:06.632Z"
   },
   {
    "duration": 0,
    "start_time": "2022-12-06T10:17:06.633Z"
   },
   {
    "duration": 0,
    "start_time": "2022-12-06T10:17:06.634Z"
   },
   {
    "duration": 0,
    "start_time": "2022-12-06T10:17:06.635Z"
   },
   {
    "duration": 0,
    "start_time": "2022-12-06T10:17:06.636Z"
   },
   {
    "duration": 0,
    "start_time": "2022-12-06T10:17:06.637Z"
   },
   {
    "duration": 0,
    "start_time": "2022-12-06T10:17:06.638Z"
   },
   {
    "duration": 0,
    "start_time": "2022-12-06T10:17:06.639Z"
   },
   {
    "duration": 0,
    "start_time": "2022-12-06T10:17:06.640Z"
   },
   {
    "duration": 0,
    "start_time": "2022-12-06T10:17:06.642Z"
   },
   {
    "duration": 0,
    "start_time": "2022-12-06T10:17:06.643Z"
   },
   {
    "duration": 0,
    "start_time": "2022-12-06T10:17:06.645Z"
   },
   {
    "duration": 0,
    "start_time": "2022-12-06T10:17:06.646Z"
   },
   {
    "duration": 0,
    "start_time": "2022-12-06T10:17:06.647Z"
   },
   {
    "duration": 0,
    "start_time": "2022-12-06T10:17:06.649Z"
   },
   {
    "duration": 0,
    "start_time": "2022-12-06T10:17:06.650Z"
   },
   {
    "duration": 0,
    "start_time": "2022-12-06T10:17:06.651Z"
   },
   {
    "duration": 0,
    "start_time": "2022-12-06T10:17:06.653Z"
   },
   {
    "duration": 0,
    "start_time": "2022-12-06T10:17:06.654Z"
   },
   {
    "duration": 0,
    "start_time": "2022-12-06T10:17:06.655Z"
   },
   {
    "duration": 0,
    "start_time": "2022-12-06T10:17:06.657Z"
   },
   {
    "duration": 10,
    "start_time": "2022-12-06T10:19:30.531Z"
   },
   {
    "duration": 758,
    "start_time": "2022-12-06T10:19:32.311Z"
   },
   {
    "duration": 1211,
    "start_time": "2022-12-06T10:20:00.630Z"
   },
   {
    "duration": 301,
    "start_time": "2022-12-06T10:20:01.842Z"
   },
   {
    "duration": 4,
    "start_time": "2022-12-06T10:20:02.145Z"
   },
   {
    "duration": 66,
    "start_time": "2022-12-06T10:20:02.151Z"
   },
   {
    "duration": 155,
    "start_time": "2022-12-06T10:20:02.219Z"
   },
   {
    "duration": 9,
    "start_time": "2022-12-06T10:20:02.376Z"
   },
   {
    "duration": 35,
    "start_time": "2022-12-06T10:20:02.387Z"
   },
   {
    "duration": 51,
    "start_time": "2022-12-06T10:20:02.424Z"
   },
   {
    "duration": 29,
    "start_time": "2022-12-06T10:20:02.477Z"
   },
   {
    "duration": 13,
    "start_time": "2022-12-06T10:20:02.509Z"
   },
   {
    "duration": 40,
    "start_time": "2022-12-06T10:20:02.523Z"
   },
   {
    "duration": 2119,
    "start_time": "2022-12-06T10:20:02.565Z"
   },
   {
    "duration": 4,
    "start_time": "2022-12-06T10:20:04.686Z"
   },
   {
    "duration": 31,
    "start_time": "2022-12-06T10:20:04.691Z"
   },
   {
    "duration": 7,
    "start_time": "2022-12-06T10:20:04.723Z"
   },
   {
    "duration": 15,
    "start_time": "2022-12-06T10:20:04.732Z"
   },
   {
    "duration": 87,
    "start_time": "2022-12-06T10:20:04.749Z"
   },
   {
    "duration": 46,
    "start_time": "2022-12-06T10:20:04.837Z"
   },
   {
    "duration": 40,
    "start_time": "2022-12-06T10:20:04.885Z"
   },
   {
    "duration": 31,
    "start_time": "2022-12-06T10:20:04.926Z"
   },
   {
    "duration": 47,
    "start_time": "2022-12-06T10:20:04.958Z"
   },
   {
    "duration": 22,
    "start_time": "2022-12-06T10:20:05.006Z"
   },
   {
    "duration": 24,
    "start_time": "2022-12-06T10:20:05.029Z"
   },
   {
    "duration": 22,
    "start_time": "2022-12-06T10:20:05.054Z"
   },
   {
    "duration": 44,
    "start_time": "2022-12-06T10:20:05.077Z"
   },
   {
    "duration": 8,
    "start_time": "2022-12-06T10:20:05.123Z"
   },
   {
    "duration": 40,
    "start_time": "2022-12-06T10:20:05.132Z"
   },
   {
    "duration": 784,
    "start_time": "2022-12-06T10:20:05.175Z"
   },
   {
    "duration": 22,
    "start_time": "2022-12-06T10:20:05.961Z"
   },
   {
    "duration": 14,
    "start_time": "2022-12-06T10:20:05.984Z"
   },
   {
    "duration": 23,
    "start_time": "2022-12-06T10:20:06.000Z"
   },
   {
    "duration": 16,
    "start_time": "2022-12-06T10:20:06.025Z"
   },
   {
    "duration": 29,
    "start_time": "2022-12-06T10:20:06.042Z"
   },
   {
    "duration": 47,
    "start_time": "2022-12-06T10:20:06.072Z"
   },
   {
    "duration": 7,
    "start_time": "2022-12-06T10:20:06.120Z"
   },
   {
    "duration": 63,
    "start_time": "2022-12-06T10:20:06.128Z"
   },
   {
    "duration": 40,
    "start_time": "2022-12-06T10:20:06.193Z"
   },
   {
    "duration": 7,
    "start_time": "2022-12-06T10:20:06.234Z"
   },
   {
    "duration": 19,
    "start_time": "2022-12-06T10:20:06.242Z"
   },
   {
    "duration": 19,
    "start_time": "2022-12-06T10:20:06.263Z"
   },
   {
    "duration": 54,
    "start_time": "2022-12-06T10:20:06.284Z"
   },
   {
    "duration": 13,
    "start_time": "2022-12-06T10:20:06.339Z"
   },
   {
    "duration": 18,
    "start_time": "2022-12-06T10:20:06.354Z"
   },
   {
    "duration": 26,
    "start_time": "2022-12-06T10:20:06.374Z"
   },
   {
    "duration": 11,
    "start_time": "2022-12-06T10:20:06.402Z"
   },
   {
    "duration": 93,
    "start_time": "2022-12-06T10:20:06.414Z"
   },
   {
    "duration": 19,
    "start_time": "2022-12-06T10:20:06.509Z"
   },
   {
    "duration": 15,
    "start_time": "2022-12-06T10:20:06.529Z"
   },
   {
    "duration": 28,
    "start_time": "2022-12-06T10:20:06.546Z"
   },
   {
    "duration": 6,
    "start_time": "2022-12-06T10:20:06.575Z"
   },
   {
    "duration": 39,
    "start_time": "2022-12-06T10:20:06.583Z"
   },
   {
    "duration": 19,
    "start_time": "2022-12-06T10:20:06.623Z"
   },
   {
    "duration": 10,
    "start_time": "2022-12-06T10:20:06.643Z"
   },
   {
    "duration": 24,
    "start_time": "2022-12-06T10:20:06.654Z"
   },
   {
    "duration": 13,
    "start_time": "2022-12-06T10:20:06.679Z"
   },
   {
    "duration": 4,
    "start_time": "2022-12-06T10:20:06.694Z"
   },
   {
    "duration": 34,
    "start_time": "2022-12-06T10:20:06.700Z"
   },
   {
    "duration": 18,
    "start_time": "2022-12-06T10:20:06.735Z"
   },
   {
    "duration": 8,
    "start_time": "2022-12-06T10:20:06.755Z"
   },
   {
    "duration": 171,
    "start_time": "2022-12-06T10:20:06.764Z"
   },
   {
    "duration": 0,
    "start_time": "2022-12-06T10:20:06.936Z"
   },
   {
    "duration": 0,
    "start_time": "2022-12-06T10:20:06.937Z"
   },
   {
    "duration": 0,
    "start_time": "2022-12-06T10:20:06.939Z"
   },
   {
    "duration": 1,
    "start_time": "2022-12-06T10:20:06.939Z"
   },
   {
    "duration": 13,
    "start_time": "2022-12-06T10:26:37.778Z"
   },
   {
    "duration": 179,
    "start_time": "2022-12-06T10:30:05.899Z"
   },
   {
    "duration": 180,
    "start_time": "2022-12-06T10:30:22.468Z"
   },
   {
    "duration": 1159,
    "start_time": "2022-12-06T10:30:53.456Z"
   },
   {
    "duration": 280,
    "start_time": "2022-12-06T10:30:54.617Z"
   },
   {
    "duration": 4,
    "start_time": "2022-12-06T10:30:54.898Z"
   },
   {
    "duration": 48,
    "start_time": "2022-12-06T10:30:54.904Z"
   },
   {
    "duration": 149,
    "start_time": "2022-12-06T10:30:54.953Z"
   },
   {
    "duration": 18,
    "start_time": "2022-12-06T10:30:55.104Z"
   },
   {
    "duration": 25,
    "start_time": "2022-12-06T10:30:55.123Z"
   },
   {
    "duration": 46,
    "start_time": "2022-12-06T10:30:55.149Z"
   },
   {
    "duration": 27,
    "start_time": "2022-12-06T10:30:55.197Z"
   },
   {
    "duration": 6,
    "start_time": "2022-12-06T10:30:55.226Z"
   },
   {
    "duration": 37,
    "start_time": "2022-12-06T10:30:55.233Z"
   },
   {
    "duration": 2094,
    "start_time": "2022-12-06T10:30:55.271Z"
   },
   {
    "duration": 3,
    "start_time": "2022-12-06T10:30:57.368Z"
   },
   {
    "duration": 14,
    "start_time": "2022-12-06T10:30:57.373Z"
   },
   {
    "duration": 34,
    "start_time": "2022-12-06T10:30:57.388Z"
   },
   {
    "duration": 5,
    "start_time": "2022-12-06T10:30:57.424Z"
   },
   {
    "duration": 34,
    "start_time": "2022-12-06T10:30:57.430Z"
   },
   {
    "duration": 98,
    "start_time": "2022-12-06T10:30:57.465Z"
   },
   {
    "duration": 16,
    "start_time": "2022-12-06T10:30:57.565Z"
   },
   {
    "duration": 49,
    "start_time": "2022-12-06T10:30:57.583Z"
   },
   {
    "duration": 39,
    "start_time": "2022-12-06T10:30:57.634Z"
   },
   {
    "duration": 14,
    "start_time": "2022-12-06T10:30:57.674Z"
   },
   {
    "duration": 21,
    "start_time": "2022-12-06T10:30:57.689Z"
   },
   {
    "duration": 34,
    "start_time": "2022-12-06T10:30:57.712Z"
   },
   {
    "duration": 38,
    "start_time": "2022-12-06T10:30:57.748Z"
   },
   {
    "duration": 8,
    "start_time": "2022-12-06T10:30:57.788Z"
   },
   {
    "duration": 33,
    "start_time": "2022-12-06T10:30:57.797Z"
   },
   {
    "duration": 722,
    "start_time": "2022-12-06T10:30:57.833Z"
   },
   {
    "duration": 659,
    "start_time": "2022-12-06T10:30:58.557Z"
   },
   {
    "duration": 11,
    "start_time": "2022-12-06T10:30:59.220Z"
   },
   {
    "duration": 18,
    "start_time": "2022-12-06T10:30:59.232Z"
   },
   {
    "duration": 13,
    "start_time": "2022-12-06T10:30:59.252Z"
   },
   {
    "duration": 13,
    "start_time": "2022-12-06T10:30:59.267Z"
   },
   {
    "duration": 46,
    "start_time": "2022-12-06T10:30:59.282Z"
   },
   {
    "duration": 7,
    "start_time": "2022-12-06T10:30:59.330Z"
   },
   {
    "duration": 71,
    "start_time": "2022-12-06T10:30:59.338Z"
   },
   {
    "duration": 111,
    "start_time": "2022-12-06T10:30:59.410Z"
   },
   {
    "duration": 7,
    "start_time": "2022-12-06T10:30:59.522Z"
   },
   {
    "duration": 25,
    "start_time": "2022-12-06T10:30:59.531Z"
   },
   {
    "duration": 18,
    "start_time": "2022-12-06T10:30:59.557Z"
   },
   {
    "duration": 57,
    "start_time": "2022-12-06T10:30:59.576Z"
   },
   {
    "duration": 178,
    "start_time": "2022-12-06T10:30:59.635Z"
   },
   {
    "duration": 12,
    "start_time": "2022-12-06T10:30:59.815Z"
   },
   {
    "duration": 12,
    "start_time": "2022-12-06T10:30:59.829Z"
   },
   {
    "duration": 17,
    "start_time": "2022-12-06T10:30:59.843Z"
   },
   {
    "duration": 11,
    "start_time": "2022-12-06T10:30:59.862Z"
   },
   {
    "duration": 112,
    "start_time": "2022-12-06T10:30:59.875Z"
   },
   {
    "duration": 9,
    "start_time": "2022-12-06T10:30:59.988Z"
   },
   {
    "duration": 51,
    "start_time": "2022-12-06T10:30:59.999Z"
   },
   {
    "duration": 18,
    "start_time": "2022-12-06T10:31:00.052Z"
   },
   {
    "duration": 18,
    "start_time": "2022-12-06T10:31:00.072Z"
   },
   {
    "duration": 32,
    "start_time": "2022-12-06T10:31:00.092Z"
   },
   {
    "duration": 21,
    "start_time": "2022-12-06T10:31:00.126Z"
   },
   {
    "duration": 28,
    "start_time": "2022-12-06T10:31:00.149Z"
   },
   {
    "duration": 32,
    "start_time": "2022-12-06T10:31:00.179Z"
   },
   {
    "duration": 40,
    "start_time": "2022-12-06T10:31:00.213Z"
   },
   {
    "duration": 14,
    "start_time": "2022-12-06T10:31:00.254Z"
   },
   {
    "duration": 52,
    "start_time": "2022-12-06T10:31:00.269Z"
   },
   {
    "duration": 33,
    "start_time": "2022-12-06T10:31:00.323Z"
   },
   {
    "duration": 33,
    "start_time": "2022-12-06T10:31:00.358Z"
   },
   {
    "duration": 174,
    "start_time": "2022-12-06T10:31:00.393Z"
   },
   {
    "duration": 0,
    "start_time": "2022-12-06T10:31:00.569Z"
   },
   {
    "duration": 0,
    "start_time": "2022-12-06T10:31:00.570Z"
   },
   {
    "duration": 0,
    "start_time": "2022-12-06T10:31:00.571Z"
   },
   {
    "duration": 0,
    "start_time": "2022-12-06T10:31:00.572Z"
   },
   {
    "duration": 9,
    "start_time": "2022-12-06T10:32:32.153Z"
   },
   {
    "duration": 190,
    "start_time": "2022-12-06T10:33:55.107Z"
   },
   {
    "duration": 178,
    "start_time": "2022-12-06T10:39:21.310Z"
   },
   {
    "duration": 165,
    "start_time": "2022-12-06T10:39:48.518Z"
   },
   {
    "duration": 18,
    "start_time": "2022-12-06T10:39:51.859Z"
   },
   {
    "duration": 9,
    "start_time": "2022-12-06T10:41:55.562Z"
   },
   {
    "duration": 25,
    "start_time": "2022-12-06T10:42:44.311Z"
   },
   {
    "duration": 7,
    "start_time": "2022-12-06T10:42:59.751Z"
   },
   {
    "duration": 14,
    "start_time": "2022-12-06T10:43:13.157Z"
   },
   {
    "duration": 12,
    "start_time": "2022-12-06T10:43:41.842Z"
   },
   {
    "duration": 18,
    "start_time": "2022-12-06T10:44:22.789Z"
   },
   {
    "duration": 14,
    "start_time": "2022-12-06T10:44:44.627Z"
   },
   {
    "duration": 18,
    "start_time": "2022-12-06T10:48:05.466Z"
   },
   {
    "duration": 11,
    "start_time": "2022-12-06T10:48:45.387Z"
   },
   {
    "duration": 8,
    "start_time": "2022-12-06T10:49:00.851Z"
   },
   {
    "duration": 7,
    "start_time": "2022-12-06T10:49:46.131Z"
   },
   {
    "duration": 8,
    "start_time": "2022-12-06T10:49:57.976Z"
   },
   {
    "duration": 6,
    "start_time": "2022-12-06T10:50:58.180Z"
   },
   {
    "duration": 13,
    "start_time": "2022-12-06T10:51:24.771Z"
   },
   {
    "duration": 28,
    "start_time": "2022-12-06T10:51:48.541Z"
   },
   {
    "duration": 12,
    "start_time": "2022-12-06T10:55:11.676Z"
   },
   {
    "duration": 11,
    "start_time": "2022-12-06T10:55:17.823Z"
   },
   {
    "duration": 12,
    "start_time": "2022-12-06T10:55:22.346Z"
   },
   {
    "duration": 7,
    "start_time": "2022-12-06T10:56:07.292Z"
   },
   {
    "duration": 10,
    "start_time": "2022-12-06T10:56:31.937Z"
   },
   {
    "duration": 10,
    "start_time": "2022-12-06T10:56:40.627Z"
   },
   {
    "duration": 17,
    "start_time": "2022-12-06T10:56:53.941Z"
   },
   {
    "duration": 18,
    "start_time": "2022-12-06T10:57:12.895Z"
   },
   {
    "duration": 35,
    "start_time": "2022-12-06T10:58:04.596Z"
   },
   {
    "duration": 30,
    "start_time": "2022-12-06T10:58:24.511Z"
   },
   {
    "duration": 22,
    "start_time": "2022-12-06T10:59:15.459Z"
   },
   {
    "duration": 14,
    "start_time": "2022-12-06T10:59:48.993Z"
   },
   {
    "duration": 5,
    "start_time": "2022-12-06T11:02:02.672Z"
   },
   {
    "duration": 13,
    "start_time": "2022-12-06T11:02:23.819Z"
   },
   {
    "duration": 21,
    "start_time": "2022-12-06T11:02:36.914Z"
   },
   {
    "duration": 23,
    "start_time": "2022-12-06T11:03:06.695Z"
   },
   {
    "duration": 21,
    "start_time": "2022-12-06T11:03:29.351Z"
   },
   {
    "duration": 31,
    "start_time": "2022-12-06T11:04:54.392Z"
   },
   {
    "duration": 11,
    "start_time": "2022-12-06T11:05:35.731Z"
   },
   {
    "duration": 147,
    "start_time": "2022-12-06T11:05:58.040Z"
   },
   {
    "duration": 160,
    "start_time": "2022-12-06T11:06:37.368Z"
   },
   {
    "duration": 21,
    "start_time": "2022-12-06T11:06:55.288Z"
   },
   {
    "duration": 175,
    "start_time": "2022-12-06T11:07:43.932Z"
   },
   {
    "duration": 156,
    "start_time": "2022-12-06T11:08:02.942Z"
   },
   {
    "duration": 1118,
    "start_time": "2022-12-06T11:17:57.642Z"
   },
   {
    "duration": 415,
    "start_time": "2022-12-06T11:17:58.762Z"
   },
   {
    "duration": 3,
    "start_time": "2022-12-06T11:17:59.179Z"
   },
   {
    "duration": 47,
    "start_time": "2022-12-06T11:17:59.184Z"
   },
   {
    "duration": 136,
    "start_time": "2022-12-06T11:17:59.232Z"
   },
   {
    "duration": 11,
    "start_time": "2022-12-06T11:17:59.370Z"
   },
   {
    "duration": 13,
    "start_time": "2022-12-06T11:17:59.383Z"
   },
   {
    "duration": 53,
    "start_time": "2022-12-06T11:17:59.397Z"
   },
   {
    "duration": 29,
    "start_time": "2022-12-06T11:17:59.451Z"
   },
   {
    "duration": 7,
    "start_time": "2022-12-06T11:17:59.482Z"
   },
   {
    "duration": 65,
    "start_time": "2022-12-06T11:17:59.490Z"
   },
   {
    "duration": 2103,
    "start_time": "2022-12-06T11:17:59.556Z"
   },
   {
    "duration": 3,
    "start_time": "2022-12-06T11:18:01.661Z"
   },
   {
    "duration": 30,
    "start_time": "2022-12-06T11:18:01.666Z"
   },
   {
    "duration": 27,
    "start_time": "2022-12-06T11:18:01.722Z"
   },
   {
    "duration": 30,
    "start_time": "2022-12-06T11:18:01.751Z"
   },
   {
    "duration": 52,
    "start_time": "2022-12-06T11:18:01.783Z"
   },
   {
    "duration": 75,
    "start_time": "2022-12-06T11:18:01.837Z"
   },
   {
    "duration": 17,
    "start_time": "2022-12-06T11:18:01.914Z"
   },
   {
    "duration": 46,
    "start_time": "2022-12-06T11:18:01.932Z"
   },
   {
    "duration": 41,
    "start_time": "2022-12-06T11:18:01.979Z"
   },
   {
    "duration": 25,
    "start_time": "2022-12-06T11:18:02.022Z"
   },
   {
    "duration": 47,
    "start_time": "2022-12-06T11:18:02.049Z"
   },
   {
    "duration": 47,
    "start_time": "2022-12-06T11:18:02.097Z"
   },
   {
    "duration": 106,
    "start_time": "2022-12-06T11:18:02.146Z"
   },
   {
    "duration": 27,
    "start_time": "2022-12-06T11:18:02.254Z"
   },
   {
    "duration": 36,
    "start_time": "2022-12-06T11:18:02.282Z"
   },
   {
    "duration": 710,
    "start_time": "2022-12-06T11:18:02.321Z"
   },
   {
    "duration": 678,
    "start_time": "2022-12-06T11:18:03.033Z"
   },
   {
    "duration": 13,
    "start_time": "2022-12-06T11:18:03.713Z"
   },
   {
    "duration": 16,
    "start_time": "2022-12-06T11:18:03.727Z"
   },
   {
    "duration": 10,
    "start_time": "2022-12-06T11:18:03.745Z"
   },
   {
    "duration": 16,
    "start_time": "2022-12-06T11:18:03.757Z"
   },
   {
    "duration": 50,
    "start_time": "2022-12-06T11:18:03.775Z"
   },
   {
    "duration": 8,
    "start_time": "2022-12-06T11:18:03.826Z"
   },
   {
    "duration": 65,
    "start_time": "2022-12-06T11:18:03.835Z"
   },
   {
    "duration": 119,
    "start_time": "2022-12-06T11:18:03.902Z"
   },
   {
    "duration": 8,
    "start_time": "2022-12-06T11:18:04.023Z"
   },
   {
    "duration": 21,
    "start_time": "2022-12-06T11:18:04.032Z"
   },
   {
    "duration": 18,
    "start_time": "2022-12-06T11:18:04.055Z"
   },
   {
    "duration": 61,
    "start_time": "2022-12-06T11:18:04.074Z"
   },
   {
    "duration": 174,
    "start_time": "2022-12-06T11:18:04.137Z"
   },
   {
    "duration": 24,
    "start_time": "2022-12-06T11:18:04.312Z"
   },
   {
    "duration": 12,
    "start_time": "2022-12-06T11:18:04.337Z"
   },
   {
    "duration": 19,
    "start_time": "2022-12-06T11:18:04.351Z"
   },
   {
    "duration": 180,
    "start_time": "2022-12-06T11:18:04.372Z"
   },
   {
    "duration": 7,
    "start_time": "2022-12-06T11:18:04.554Z"
   },
   {
    "duration": 18,
    "start_time": "2022-12-06T11:18:04.563Z"
   },
   {
    "duration": 5,
    "start_time": "2022-12-06T11:18:04.583Z"
   },
   {
    "duration": 181,
    "start_time": "2022-12-06T11:18:04.590Z"
   },
   {
    "duration": 7,
    "start_time": "2022-12-06T11:18:04.773Z"
   },
   {
    "duration": 11,
    "start_time": "2022-12-06T11:18:04.782Z"
   },
   {
    "duration": 27,
    "start_time": "2022-12-06T11:18:04.795Z"
   },
   {
    "duration": 9,
    "start_time": "2022-12-06T11:18:04.823Z"
   },
   {
    "duration": 108,
    "start_time": "2022-12-06T11:18:04.834Z"
   },
   {
    "duration": 21,
    "start_time": "2022-12-06T11:18:04.944Z"
   },
   {
    "duration": 14,
    "start_time": "2022-12-06T11:18:04.967Z"
   },
   {
    "duration": 42,
    "start_time": "2022-12-06T11:18:04.982Z"
   },
   {
    "duration": 4,
    "start_time": "2022-12-06T11:18:05.025Z"
   },
   {
    "duration": 46,
    "start_time": "2022-12-06T11:18:05.031Z"
   },
   {
    "duration": 26,
    "start_time": "2022-12-06T11:18:05.078Z"
   },
   {
    "duration": 9,
    "start_time": "2022-12-06T11:18:05.105Z"
   },
   {
    "duration": 23,
    "start_time": "2022-12-06T11:18:05.115Z"
   },
   {
    "duration": 22,
    "start_time": "2022-12-06T11:18:05.140Z"
   },
   {
    "duration": 32,
    "start_time": "2022-12-06T11:18:05.163Z"
   },
   {
    "duration": 28,
    "start_time": "2022-12-06T11:18:05.197Z"
   },
   {
    "duration": 14,
    "start_time": "2022-12-06T11:18:05.227Z"
   },
   {
    "duration": 9,
    "start_time": "2022-12-06T11:18:05.242Z"
   },
   {
    "duration": 51,
    "start_time": "2022-12-06T11:18:05.253Z"
   },
   {
    "duration": 0,
    "start_time": "2022-12-06T11:18:05.306Z"
   },
   {
    "duration": 0,
    "start_time": "2022-12-06T11:18:05.307Z"
   },
   {
    "duration": 0,
    "start_time": "2022-12-06T11:18:05.308Z"
   },
   {
    "duration": 0,
    "start_time": "2022-12-06T11:18:05.309Z"
   },
   {
    "duration": 14,
    "start_time": "2022-12-06T11:34:19.182Z"
   },
   {
    "duration": 7,
    "start_time": "2022-12-06T11:35:28.507Z"
   },
   {
    "duration": 17,
    "start_time": "2022-12-06T11:36:31.088Z"
   },
   {
    "duration": 15,
    "start_time": "2022-12-06T11:36:34.627Z"
   },
   {
    "duration": 8,
    "start_time": "2022-12-06T11:36:41.733Z"
   },
   {
    "duration": 587,
    "start_time": "2022-12-06T11:36:52.103Z"
   },
   {
    "duration": 12,
    "start_time": "2022-12-06T11:37:08.298Z"
   },
   {
    "duration": 6,
    "start_time": "2022-12-06T11:37:18.864Z"
   },
   {
    "duration": 6,
    "start_time": "2022-12-06T11:37:27.039Z"
   },
   {
    "duration": 6,
    "start_time": "2022-12-06T11:37:42.345Z"
   },
   {
    "duration": 7,
    "start_time": "2022-12-06T11:38:17.887Z"
   },
   {
    "duration": 10,
    "start_time": "2022-12-06T11:38:25.300Z"
   },
   {
    "duration": 9,
    "start_time": "2022-12-06T11:39:01.542Z"
   },
   {
    "duration": 1105,
    "start_time": "2022-12-06T11:39:27.579Z"
   },
   {
    "duration": 278,
    "start_time": "2022-12-06T11:39:28.686Z"
   },
   {
    "duration": 4,
    "start_time": "2022-12-06T11:39:28.965Z"
   },
   {
    "duration": 50,
    "start_time": "2022-12-06T11:39:28.971Z"
   },
   {
    "duration": 137,
    "start_time": "2022-12-06T11:39:29.023Z"
   },
   {
    "duration": 7,
    "start_time": "2022-12-06T11:39:29.161Z"
   },
   {
    "duration": 11,
    "start_time": "2022-12-06T11:39:29.169Z"
   },
   {
    "duration": 47,
    "start_time": "2022-12-06T11:39:29.181Z"
   },
   {
    "duration": 27,
    "start_time": "2022-12-06T11:39:29.230Z"
   },
   {
    "duration": 6,
    "start_time": "2022-12-06T11:39:29.259Z"
   },
   {
    "duration": 57,
    "start_time": "2022-12-06T11:39:29.267Z"
   },
   {
    "duration": 2071,
    "start_time": "2022-12-06T11:39:29.325Z"
   },
   {
    "duration": 4,
    "start_time": "2022-12-06T11:39:31.398Z"
   },
   {
    "duration": 58,
    "start_time": "2022-12-06T11:39:31.403Z"
   },
   {
    "duration": 46,
    "start_time": "2022-12-06T11:39:31.463Z"
   },
   {
    "duration": 30,
    "start_time": "2022-12-06T11:39:31.510Z"
   },
   {
    "duration": 90,
    "start_time": "2022-12-06T11:39:31.542Z"
   },
   {
    "duration": 42,
    "start_time": "2022-12-06T11:39:31.634Z"
   },
   {
    "duration": 16,
    "start_time": "2022-12-06T11:39:31.678Z"
   },
   {
    "duration": 48,
    "start_time": "2022-12-06T11:39:31.695Z"
   },
   {
    "duration": 38,
    "start_time": "2022-12-06T11:39:31.745Z"
   },
   {
    "duration": 21,
    "start_time": "2022-12-06T11:39:31.784Z"
   },
   {
    "duration": 17,
    "start_time": "2022-12-06T11:39:31.806Z"
   },
   {
    "duration": 50,
    "start_time": "2022-12-06T11:39:31.824Z"
   },
   {
    "duration": 30,
    "start_time": "2022-12-06T11:39:31.875Z"
   },
   {
    "duration": 7,
    "start_time": "2022-12-06T11:39:31.907Z"
   },
   {
    "duration": 30,
    "start_time": "2022-12-06T11:39:31.915Z"
   },
   {
    "duration": 702,
    "start_time": "2022-12-06T11:39:31.949Z"
   },
   {
    "duration": 658,
    "start_time": "2022-12-06T11:39:32.653Z"
   },
   {
    "duration": 12,
    "start_time": "2022-12-06T11:39:33.313Z"
   },
   {
    "duration": 8,
    "start_time": "2022-12-06T11:39:33.327Z"
   },
   {
    "duration": 15,
    "start_time": "2022-12-06T11:39:33.337Z"
   },
   {
    "duration": 37,
    "start_time": "2022-12-06T11:39:33.353Z"
   },
   {
    "duration": 47,
    "start_time": "2022-12-06T11:39:33.391Z"
   },
   {
    "duration": 6,
    "start_time": "2022-12-06T11:39:33.440Z"
   },
   {
    "duration": 60,
    "start_time": "2022-12-06T11:39:33.448Z"
   },
   {
    "duration": 114,
    "start_time": "2022-12-06T11:39:33.509Z"
   },
   {
    "duration": 7,
    "start_time": "2022-12-06T11:39:33.625Z"
   },
   {
    "duration": 23,
    "start_time": "2022-12-06T11:39:33.633Z"
   },
   {
    "duration": 19,
    "start_time": "2022-12-06T11:39:33.657Z"
   },
   {
    "duration": 55,
    "start_time": "2022-12-06T11:39:33.678Z"
   },
   {
    "duration": 164,
    "start_time": "2022-12-06T11:39:33.735Z"
   },
   {
    "duration": 24,
    "start_time": "2022-12-06T11:39:33.900Z"
   },
   {
    "duration": 12,
    "start_time": "2022-12-06T11:39:33.926Z"
   },
   {
    "duration": 26,
    "start_time": "2022-12-06T11:39:33.939Z"
   },
   {
    "duration": 159,
    "start_time": "2022-12-06T11:39:33.966Z"
   },
   {
    "duration": 7,
    "start_time": "2022-12-06T11:39:34.126Z"
   },
   {
    "duration": 25,
    "start_time": "2022-12-06T11:39:34.135Z"
   },
   {
    "duration": 7,
    "start_time": "2022-12-06T11:39:34.161Z"
   },
   {
    "duration": 172,
    "start_time": "2022-12-06T11:39:34.169Z"
   },
   {
    "duration": 7,
    "start_time": "2022-12-06T11:39:34.342Z"
   },
   {
    "duration": 12,
    "start_time": "2022-12-06T11:39:34.351Z"
   },
   {
    "duration": 20,
    "start_time": "2022-12-06T11:39:34.365Z"
   },
   {
    "duration": 8,
    "start_time": "2022-12-06T11:39:34.386Z"
   },
   {
    "duration": 27,
    "start_time": "2022-12-06T11:39:34.395Z"
   },
   {
    "duration": 100,
    "start_time": "2022-12-06T11:39:34.423Z"
   },
   {
    "duration": 9,
    "start_time": "2022-12-06T11:39:34.525Z"
   },
   {
    "duration": 47,
    "start_time": "2022-12-06T11:39:34.535Z"
   },
   {
    "duration": 22,
    "start_time": "2022-12-06T11:39:34.584Z"
   },
   {
    "duration": 4,
    "start_time": "2022-12-06T11:39:34.608Z"
   },
   {
    "duration": 17,
    "start_time": "2022-12-06T11:39:34.614Z"
   },
   {
    "duration": 23,
    "start_time": "2022-12-06T11:39:34.633Z"
   },
   {
    "duration": 8,
    "start_time": "2022-12-06T11:39:34.658Z"
   },
   {
    "duration": 10,
    "start_time": "2022-12-06T11:39:34.668Z"
   },
   {
    "duration": 15,
    "start_time": "2022-12-06T11:39:34.679Z"
   },
   {
    "duration": 28,
    "start_time": "2022-12-06T11:39:34.695Z"
   },
   {
    "duration": 39,
    "start_time": "2022-12-06T11:39:34.724Z"
   },
   {
    "duration": 16,
    "start_time": "2022-12-06T11:39:34.764Z"
   },
   {
    "duration": 7,
    "start_time": "2022-12-06T11:39:34.782Z"
   },
   {
    "duration": 29,
    "start_time": "2022-12-06T11:39:34.791Z"
   },
   {
    "duration": 0,
    "start_time": "2022-12-06T11:39:34.822Z"
   },
   {
    "duration": 0,
    "start_time": "2022-12-06T11:39:34.823Z"
   },
   {
    "duration": 0,
    "start_time": "2022-12-06T11:39:34.824Z"
   },
   {
    "duration": 0,
    "start_time": "2022-12-06T11:39:34.825Z"
   },
   {
    "duration": 6,
    "start_time": "2022-12-06T11:44:15.125Z"
   },
   {
    "duration": 14,
    "start_time": "2022-12-06T11:45:18.932Z"
   },
   {
    "duration": 66,
    "start_time": "2022-12-06T11:47:52.644Z"
   },
   {
    "duration": 44,
    "start_time": "2022-12-06T11:48:25.118Z"
   },
   {
    "duration": 257,
    "start_time": "2022-12-06T11:59:02.907Z"
   },
   {
    "duration": 1122,
    "start_time": "2022-12-06T12:02:20.138Z"
   },
   {
    "duration": 259,
    "start_time": "2022-12-06T12:02:21.261Z"
   },
   {
    "duration": 3,
    "start_time": "2022-12-06T12:02:21.522Z"
   },
   {
    "duration": 53,
    "start_time": "2022-12-06T12:02:21.527Z"
   },
   {
    "duration": 155,
    "start_time": "2022-12-06T12:02:21.581Z"
   },
   {
    "duration": 8,
    "start_time": "2022-12-06T12:02:21.737Z"
   },
   {
    "duration": 27,
    "start_time": "2022-12-06T12:02:21.746Z"
   },
   {
    "duration": 46,
    "start_time": "2022-12-06T12:02:21.775Z"
   },
   {
    "duration": 30,
    "start_time": "2022-12-06T12:02:21.822Z"
   },
   {
    "duration": 6,
    "start_time": "2022-12-06T12:02:21.855Z"
   },
   {
    "duration": 55,
    "start_time": "2022-12-06T12:02:21.862Z"
   },
   {
    "duration": 2086,
    "start_time": "2022-12-06T12:02:21.919Z"
   },
   {
    "duration": 4,
    "start_time": "2022-12-06T12:02:24.007Z"
   },
   {
    "duration": 15,
    "start_time": "2022-12-06T12:02:24.012Z"
   },
   {
    "duration": 10,
    "start_time": "2022-12-06T12:02:24.029Z"
   },
   {
    "duration": 8,
    "start_time": "2022-12-06T12:02:24.041Z"
   },
   {
    "duration": 81,
    "start_time": "2022-12-06T12:02:24.051Z"
   },
   {
    "duration": 44,
    "start_time": "2022-12-06T12:02:24.134Z"
   },
   {
    "duration": 18,
    "start_time": "2022-12-06T12:02:24.221Z"
   },
   {
    "duration": 37,
    "start_time": "2022-12-06T12:02:24.241Z"
   },
   {
    "duration": 59,
    "start_time": "2022-12-06T12:02:24.279Z"
   },
   {
    "duration": 35,
    "start_time": "2022-12-06T12:02:24.339Z"
   },
   {
    "duration": 22,
    "start_time": "2022-12-06T12:02:24.376Z"
   },
   {
    "duration": 19,
    "start_time": "2022-12-06T12:02:24.399Z"
   },
   {
    "duration": 31,
    "start_time": "2022-12-06T12:02:24.420Z"
   },
   {
    "duration": 7,
    "start_time": "2022-12-06T12:02:24.453Z"
   },
   {
    "duration": 44,
    "start_time": "2022-12-06T12:02:24.462Z"
   },
   {
    "duration": 733,
    "start_time": "2022-12-06T12:02:24.510Z"
   },
   {
    "duration": 712,
    "start_time": "2022-12-06T12:02:25.245Z"
   },
   {
    "duration": 10,
    "start_time": "2022-12-06T12:02:25.959Z"
   },
   {
    "duration": 11,
    "start_time": "2022-12-06T12:02:25.971Z"
   },
   {
    "duration": 18,
    "start_time": "2022-12-06T12:02:25.984Z"
   },
   {
    "duration": 16,
    "start_time": "2022-12-06T12:02:26.003Z"
   },
   {
    "duration": 42,
    "start_time": "2022-12-06T12:02:26.021Z"
   },
   {
    "duration": 8,
    "start_time": "2022-12-06T12:02:26.065Z"
   },
   {
    "duration": 75,
    "start_time": "2022-12-06T12:02:26.074Z"
   },
   {
    "duration": 105,
    "start_time": "2022-12-06T12:02:26.150Z"
   },
   {
    "duration": 7,
    "start_time": "2022-12-06T12:02:26.256Z"
   },
   {
    "duration": 29,
    "start_time": "2022-12-06T12:02:26.264Z"
   },
   {
    "duration": 20,
    "start_time": "2022-12-06T12:02:26.295Z"
   },
   {
    "duration": 43,
    "start_time": "2022-12-06T12:02:26.321Z"
   },
   {
    "duration": 196,
    "start_time": "2022-12-06T12:02:26.365Z"
   },
   {
    "duration": 20,
    "start_time": "2022-12-06T12:02:26.562Z"
   },
   {
    "duration": 12,
    "start_time": "2022-12-06T12:02:26.584Z"
   },
   {
    "duration": 26,
    "start_time": "2022-12-06T12:02:26.598Z"
   },
   {
    "duration": 160,
    "start_time": "2022-12-06T12:02:26.626Z"
   },
   {
    "duration": 7,
    "start_time": "2022-12-06T12:02:26.788Z"
   },
   {
    "duration": 26,
    "start_time": "2022-12-06T12:02:26.796Z"
   },
   {
    "duration": 6,
    "start_time": "2022-12-06T12:02:26.823Z"
   },
   {
    "duration": 260,
    "start_time": "2022-12-06T12:02:26.830Z"
   },
   {
    "duration": 5,
    "start_time": "2022-12-06T12:02:27.092Z"
   },
   {
    "duration": 28,
    "start_time": "2022-12-06T12:02:27.098Z"
   },
   {
    "duration": 48,
    "start_time": "2022-12-06T12:02:27.127Z"
   },
   {
    "duration": 9,
    "start_time": "2022-12-06T12:02:27.176Z"
   },
   {
    "duration": 14,
    "start_time": "2022-12-06T12:02:27.186Z"
   },
   {
    "duration": 9,
    "start_time": "2022-12-06T12:02:27.221Z"
   },
   {
    "duration": 9,
    "start_time": "2022-12-06T12:02:27.231Z"
   },
   {
    "duration": 117,
    "start_time": "2022-12-06T12:02:27.241Z"
   },
   {
    "duration": 10,
    "start_time": "2022-12-06T12:02:27.360Z"
   },
   {
    "duration": 14,
    "start_time": "2022-12-06T12:02:27.372Z"
   },
   {
    "duration": 14,
    "start_time": "2022-12-06T12:02:27.422Z"
   },
   {
    "duration": 6,
    "start_time": "2022-12-06T12:02:27.438Z"
   },
   {
    "duration": 18,
    "start_time": "2022-12-06T12:02:27.445Z"
   },
   {
    "duration": 17,
    "start_time": "2022-12-06T12:02:27.465Z"
   },
   {
    "duration": 38,
    "start_time": "2022-12-06T12:02:27.484Z"
   },
   {
    "duration": 11,
    "start_time": "2022-12-06T12:02:27.524Z"
   },
   {
    "duration": 15,
    "start_time": "2022-12-06T12:02:27.536Z"
   },
   {
    "duration": 5,
    "start_time": "2022-12-06T12:02:27.552Z"
   },
   {
    "duration": 18,
    "start_time": "2022-12-06T12:02:27.558Z"
   },
   {
    "duration": 44,
    "start_time": "2022-12-06T12:02:27.577Z"
   },
   {
    "duration": 11,
    "start_time": "2022-12-06T12:02:27.623Z"
   },
   {
    "duration": 27,
    "start_time": "2022-12-06T12:02:27.636Z"
   },
   {
    "duration": 0,
    "start_time": "2022-12-06T12:02:27.665Z"
   },
   {
    "duration": 0,
    "start_time": "2022-12-06T12:02:27.666Z"
   },
   {
    "duration": 0,
    "start_time": "2022-12-06T12:02:27.667Z"
   },
   {
    "duration": 0,
    "start_time": "2022-12-06T12:02:27.668Z"
   },
   {
    "duration": 1201,
    "start_time": "2022-12-06T13:23:37.424Z"
   },
   {
    "duration": 301,
    "start_time": "2022-12-06T13:23:38.628Z"
   },
   {
    "duration": 4,
    "start_time": "2022-12-06T13:23:38.932Z"
   },
   {
    "duration": 48,
    "start_time": "2022-12-06T13:23:38.938Z"
   },
   {
    "duration": 169,
    "start_time": "2022-12-06T13:23:38.988Z"
   },
   {
    "duration": 7,
    "start_time": "2022-12-06T13:23:39.159Z"
   },
   {
    "duration": 11,
    "start_time": "2022-12-06T13:23:39.167Z"
   },
   {
    "duration": 55,
    "start_time": "2022-12-06T13:23:39.180Z"
   },
   {
    "duration": 30,
    "start_time": "2022-12-06T13:23:39.237Z"
   },
   {
    "duration": 5,
    "start_time": "2022-12-06T13:23:39.269Z"
   },
   {
    "duration": 60,
    "start_time": "2022-12-06T13:23:39.276Z"
   },
   {
    "duration": 2273,
    "start_time": "2022-12-06T13:23:39.338Z"
   },
   {
    "duration": 15,
    "start_time": "2022-12-06T13:23:41.614Z"
   },
   {
    "duration": 22,
    "start_time": "2022-12-06T13:23:41.632Z"
   },
   {
    "duration": 7,
    "start_time": "2022-12-06T13:23:41.655Z"
   },
   {
    "duration": 59,
    "start_time": "2022-12-06T13:23:41.663Z"
   },
   {
    "duration": 33,
    "start_time": "2022-12-06T13:23:41.724Z"
   },
   {
    "duration": 91,
    "start_time": "2022-12-06T13:23:41.758Z"
   },
   {
    "duration": 17,
    "start_time": "2022-12-06T13:23:41.850Z"
   },
   {
    "duration": 28,
    "start_time": "2022-12-06T13:23:41.868Z"
   },
   {
    "duration": 55,
    "start_time": "2022-12-06T13:23:41.897Z"
   },
   {
    "duration": 8,
    "start_time": "2022-12-06T13:23:41.954Z"
   },
   {
    "duration": 15,
    "start_time": "2022-12-06T13:23:41.963Z"
   },
   {
    "duration": 19,
    "start_time": "2022-12-06T13:23:41.979Z"
   },
   {
    "duration": 32,
    "start_time": "2022-12-06T13:23:42.020Z"
   },
   {
    "duration": 8,
    "start_time": "2022-12-06T13:23:42.054Z"
   },
   {
    "duration": 30,
    "start_time": "2022-12-06T13:23:42.064Z"
   },
   {
    "duration": 823,
    "start_time": "2022-12-06T13:23:42.098Z"
   },
   {
    "duration": 762,
    "start_time": "2022-12-06T13:23:42.923Z"
   },
   {
    "duration": 11,
    "start_time": "2022-12-06T13:23:43.686Z"
   },
   {
    "duration": 22,
    "start_time": "2022-12-06T13:23:43.699Z"
   },
   {
    "duration": 10,
    "start_time": "2022-12-06T13:23:43.723Z"
   },
   {
    "duration": 20,
    "start_time": "2022-12-06T13:23:43.734Z"
   },
   {
    "duration": 41,
    "start_time": "2022-12-06T13:23:43.756Z"
   },
   {
    "duration": 7,
    "start_time": "2022-12-06T13:23:43.799Z"
   },
   {
    "duration": 58,
    "start_time": "2022-12-06T13:23:43.822Z"
   },
   {
    "duration": 116,
    "start_time": "2022-12-06T13:23:43.882Z"
   },
   {
    "duration": 7,
    "start_time": "2022-12-06T13:23:43.999Z"
   },
   {
    "duration": 21,
    "start_time": "2022-12-06T13:23:44.008Z"
   },
   {
    "duration": 22,
    "start_time": "2022-12-06T13:23:44.031Z"
   },
   {
    "duration": 38,
    "start_time": "2022-12-06T13:23:44.055Z"
   },
   {
    "duration": 152,
    "start_time": "2022-12-06T13:23:44.121Z"
   },
   {
    "duration": 17,
    "start_time": "2022-12-06T13:23:44.275Z"
   },
   {
    "duration": 28,
    "start_time": "2022-12-06T13:23:44.294Z"
   },
   {
    "duration": 6,
    "start_time": "2022-12-06T13:23:44.325Z"
   },
   {
    "duration": 175,
    "start_time": "2022-12-06T13:23:44.333Z"
   },
   {
    "duration": 15,
    "start_time": "2022-12-06T13:23:44.510Z"
   },
   {
    "duration": 18,
    "start_time": "2022-12-06T13:23:44.527Z"
   },
   {
    "duration": 6,
    "start_time": "2022-12-06T13:23:44.548Z"
   },
   {
    "duration": 301,
    "start_time": "2022-12-06T13:23:44.556Z"
   },
   {
    "duration": 5,
    "start_time": "2022-12-06T13:23:44.858Z"
   },
   {
    "duration": 13,
    "start_time": "2022-12-06T13:23:44.865Z"
   },
   {
    "duration": 78,
    "start_time": "2022-12-06T13:23:44.879Z"
   },
   {
    "duration": 9,
    "start_time": "2022-12-06T13:23:44.959Z"
   },
   {
    "duration": 13,
    "start_time": "2022-12-06T13:23:44.969Z"
   },
   {
    "duration": 9,
    "start_time": "2022-12-06T13:23:44.983Z"
   },
   {
    "duration": 33,
    "start_time": "2022-12-06T13:23:44.993Z"
   },
   {
    "duration": 130,
    "start_time": "2022-12-06T13:23:45.028Z"
   },
   {
    "duration": 10,
    "start_time": "2022-12-06T13:23:45.160Z"
   },
   {
    "duration": 10,
    "start_time": "2022-12-06T13:23:45.172Z"
   },
   {
    "duration": 52,
    "start_time": "2022-12-06T13:23:45.183Z"
   },
   {
    "duration": 6,
    "start_time": "2022-12-06T13:23:45.237Z"
   },
   {
    "duration": 23,
    "start_time": "2022-12-06T13:23:45.244Z"
   },
   {
    "duration": 18,
    "start_time": "2022-12-06T13:23:45.269Z"
   },
   {
    "duration": 9,
    "start_time": "2022-12-06T13:23:45.288Z"
   },
   {
    "duration": 12,
    "start_time": "2022-12-06T13:23:45.321Z"
   },
   {
    "duration": 23,
    "start_time": "2022-12-06T13:23:45.334Z"
   },
   {
    "duration": 5,
    "start_time": "2022-12-06T13:23:45.359Z"
   },
   {
    "duration": 18,
    "start_time": "2022-12-06T13:23:45.366Z"
   },
   {
    "duration": 57,
    "start_time": "2022-12-06T13:23:45.385Z"
   },
   {
    "duration": 11,
    "start_time": "2022-12-06T13:23:45.444Z"
   },
   {
    "duration": 30,
    "start_time": "2022-12-06T13:23:45.457Z"
   },
   {
    "duration": 0,
    "start_time": "2022-12-06T13:23:45.489Z"
   },
   {
    "duration": 0,
    "start_time": "2022-12-06T13:23:45.490Z"
   },
   {
    "duration": 0,
    "start_time": "2022-12-06T13:23:45.492Z"
   },
   {
    "duration": 0,
    "start_time": "2022-12-06T13:23:45.494Z"
   },
   {
    "duration": 1299,
    "start_time": "2022-12-07T06:19:30.311Z"
   },
   {
    "duration": 272,
    "start_time": "2022-12-07T06:19:31.612Z"
   },
   {
    "duration": 4,
    "start_time": "2022-12-07T06:19:31.886Z"
   },
   {
    "duration": 59,
    "start_time": "2022-12-07T06:19:31.892Z"
   },
   {
    "duration": 168,
    "start_time": "2022-12-07T06:19:31.953Z"
   },
   {
    "duration": 28,
    "start_time": "2022-12-07T06:19:32.123Z"
   },
   {
    "duration": 10,
    "start_time": "2022-12-07T06:19:32.154Z"
   },
   {
    "duration": 57,
    "start_time": "2022-12-07T06:19:32.166Z"
   },
   {
    "duration": 41,
    "start_time": "2022-12-07T06:19:32.224Z"
   },
   {
    "duration": 7,
    "start_time": "2022-12-07T06:19:32.269Z"
   },
   {
    "duration": 43,
    "start_time": "2022-12-07T06:19:32.278Z"
   },
   {
    "duration": 2390,
    "start_time": "2022-12-07T06:19:32.323Z"
   },
   {
    "duration": 4,
    "start_time": "2022-12-07T06:19:34.715Z"
   },
   {
    "duration": 33,
    "start_time": "2022-12-07T06:19:34.721Z"
   },
   {
    "duration": 9,
    "start_time": "2022-12-07T06:19:34.757Z"
   },
   {
    "duration": 16,
    "start_time": "2022-12-07T06:19:34.768Z"
   },
   {
    "duration": 89,
    "start_time": "2022-12-07T06:19:34.786Z"
   },
   {
    "duration": 114,
    "start_time": "2022-12-07T06:19:34.877Z"
   },
   {
    "duration": 21,
    "start_time": "2022-12-07T06:19:34.993Z"
   },
   {
    "duration": 63,
    "start_time": "2022-12-07T06:19:35.016Z"
   },
   {
    "duration": 47,
    "start_time": "2022-12-07T06:19:35.081Z"
   },
   {
    "duration": 28,
    "start_time": "2022-12-07T06:19:35.130Z"
   },
   {
    "duration": 27,
    "start_time": "2022-12-07T06:19:35.160Z"
   },
   {
    "duration": 33,
    "start_time": "2022-12-07T06:19:35.189Z"
   },
   {
    "duration": 38,
    "start_time": "2022-12-07T06:19:35.224Z"
   },
   {
    "duration": 9,
    "start_time": "2022-12-07T06:19:35.264Z"
   },
   {
    "duration": 39,
    "start_time": "2022-12-07T06:19:35.275Z"
   },
   {
    "duration": 811,
    "start_time": "2022-12-07T06:19:35.318Z"
   },
   {
    "duration": 759,
    "start_time": "2022-12-07T06:19:36.130Z"
   },
   {
    "duration": 14,
    "start_time": "2022-12-07T06:19:36.890Z"
   },
   {
    "duration": 17,
    "start_time": "2022-12-07T06:19:36.905Z"
   },
   {
    "duration": 21,
    "start_time": "2022-12-07T06:19:36.925Z"
   },
   {
    "duration": 15,
    "start_time": "2022-12-07T06:19:36.948Z"
   },
   {
    "duration": 63,
    "start_time": "2022-12-07T06:19:36.964Z"
   },
   {
    "duration": 9,
    "start_time": "2022-12-07T06:19:37.028Z"
   },
   {
    "duration": 67,
    "start_time": "2022-12-07T06:19:37.039Z"
   },
   {
    "duration": 128,
    "start_time": "2022-12-07T06:19:37.108Z"
   },
   {
    "duration": 14,
    "start_time": "2022-12-07T06:19:37.237Z"
   },
   {
    "duration": 15,
    "start_time": "2022-12-07T06:19:37.253Z"
   },
   {
    "duration": 22,
    "start_time": "2022-12-07T06:19:37.269Z"
   },
   {
    "duration": 75,
    "start_time": "2022-12-07T06:19:37.292Z"
   },
   {
    "duration": 193,
    "start_time": "2022-12-07T06:19:37.368Z"
   },
   {
    "duration": 22,
    "start_time": "2022-12-07T06:19:37.563Z"
   },
   {
    "duration": 16,
    "start_time": "2022-12-07T06:19:37.587Z"
   },
   {
    "duration": 6,
    "start_time": "2022-12-07T06:19:37.605Z"
   },
   {
    "duration": 215,
    "start_time": "2022-12-07T06:19:37.612Z"
   },
   {
    "duration": 8,
    "start_time": "2022-12-07T06:19:37.829Z"
   },
   {
    "duration": 26,
    "start_time": "2022-12-07T06:19:37.839Z"
   },
   {
    "duration": 6,
    "start_time": "2022-12-07T06:19:37.867Z"
   },
   {
    "duration": 345,
    "start_time": "2022-12-07T06:19:37.875Z"
   },
   {
    "duration": 5,
    "start_time": "2022-12-07T06:19:38.222Z"
   },
   {
    "duration": 35,
    "start_time": "2022-12-07T06:19:38.228Z"
   },
   {
    "duration": 54,
    "start_time": "2022-12-07T06:19:38.265Z"
   },
   {
    "duration": 32,
    "start_time": "2022-12-07T06:19:38.320Z"
   },
   {
    "duration": 11,
    "start_time": "2022-12-07T06:19:38.354Z"
   },
   {
    "duration": 16,
    "start_time": "2022-12-07T06:19:38.367Z"
   },
   {
    "duration": 17,
    "start_time": "2022-12-07T06:19:38.385Z"
   },
   {
    "duration": 130,
    "start_time": "2022-12-07T06:19:38.404Z"
   },
   {
    "duration": 20,
    "start_time": "2022-12-07T06:19:38.536Z"
   },
   {
    "duration": 11,
    "start_time": "2022-12-07T06:19:38.558Z"
   },
   {
    "duration": 18,
    "start_time": "2022-12-07T06:19:38.571Z"
   },
   {
    "duration": 5,
    "start_time": "2022-12-07T06:19:38.591Z"
   },
   {
    "duration": 60,
    "start_time": "2022-12-07T06:19:38.598Z"
   },
   {
    "duration": 23,
    "start_time": "2022-12-07T06:19:38.660Z"
   },
   {
    "duration": 10,
    "start_time": "2022-12-07T06:19:38.684Z"
   },
   {
    "duration": 18,
    "start_time": "2022-12-07T06:19:38.696Z"
   },
   {
    "duration": 48,
    "start_time": "2022-12-07T06:19:38.717Z"
   },
   {
    "duration": 6,
    "start_time": "2022-12-07T06:19:38.767Z"
   },
   {
    "duration": 32,
    "start_time": "2022-12-07T06:19:38.775Z"
   },
   {
    "duration": 46,
    "start_time": "2022-12-07T06:19:38.809Z"
   },
   {
    "duration": 16,
    "start_time": "2022-12-07T06:19:38.857Z"
   },
   {
    "duration": 35,
    "start_time": "2022-12-07T06:19:38.875Z"
   },
   {
    "duration": 0,
    "start_time": "2022-12-07T06:19:38.912Z"
   },
   {
    "duration": 0,
    "start_time": "2022-12-07T06:19:38.914Z"
   },
   {
    "duration": 0,
    "start_time": "2022-12-07T06:19:38.916Z"
   },
   {
    "duration": 0,
    "start_time": "2022-12-07T06:19:38.917Z"
   },
   {
    "duration": 288,
    "start_time": "2022-12-07T06:21:43.415Z"
   },
   {
    "duration": 178,
    "start_time": "2022-12-07T06:21:59.265Z"
   },
   {
    "duration": 24,
    "start_time": "2022-12-07T06:23:36.760Z"
   },
   {
    "duration": 1254,
    "start_time": "2022-12-07T06:23:59.094Z"
   },
   {
    "duration": 218,
    "start_time": "2022-12-07T06:24:00.351Z"
   },
   {
    "duration": 5,
    "start_time": "2022-12-07T06:24:00.570Z"
   },
   {
    "duration": 92,
    "start_time": "2022-12-07T06:24:00.578Z"
   },
   {
    "duration": 181,
    "start_time": "2022-12-07T06:24:00.672Z"
   },
   {
    "duration": 9,
    "start_time": "2022-12-07T06:24:00.855Z"
   },
   {
    "duration": 40,
    "start_time": "2022-12-07T06:24:00.865Z"
   },
   {
    "duration": 51,
    "start_time": "2022-12-07T06:24:00.907Z"
   },
   {
    "duration": 31,
    "start_time": "2022-12-07T06:24:00.960Z"
   },
   {
    "duration": 14,
    "start_time": "2022-12-07T06:24:00.993Z"
   },
   {
    "duration": 63,
    "start_time": "2022-12-07T06:24:01.009Z"
   },
   {
    "duration": 2410,
    "start_time": "2022-12-07T06:24:01.074Z"
   },
   {
    "duration": 4,
    "start_time": "2022-12-07T06:24:03.486Z"
   },
   {
    "duration": 60,
    "start_time": "2022-12-07T06:24:03.492Z"
   },
   {
    "duration": 30,
    "start_time": "2022-12-07T06:24:03.554Z"
   },
   {
    "duration": 27,
    "start_time": "2022-12-07T06:24:03.586Z"
   },
   {
    "duration": 68,
    "start_time": "2022-12-07T06:24:03.615Z"
   },
   {
    "duration": 69,
    "start_time": "2022-12-07T06:24:03.685Z"
   },
   {
    "duration": 18,
    "start_time": "2022-12-07T06:24:03.756Z"
   },
   {
    "duration": 39,
    "start_time": "2022-12-07T06:24:03.776Z"
   },
   {
    "duration": 57,
    "start_time": "2022-12-07T06:24:03.817Z"
   },
   {
    "duration": 23,
    "start_time": "2022-12-07T06:24:03.876Z"
   },
   {
    "duration": 31,
    "start_time": "2022-12-07T06:24:03.901Z"
   },
   {
    "duration": 35,
    "start_time": "2022-12-07T06:24:03.934Z"
   },
   {
    "duration": 44,
    "start_time": "2022-12-07T06:24:03.970Z"
   },
   {
    "duration": 9,
    "start_time": "2022-12-07T06:24:04.016Z"
   },
   {
    "duration": 47,
    "start_time": "2022-12-07T06:24:04.027Z"
   },
   {
    "duration": 822,
    "start_time": "2022-12-07T06:24:04.080Z"
   },
   {
    "duration": 802,
    "start_time": "2022-12-07T06:24:04.904Z"
   },
   {
    "duration": 12,
    "start_time": "2022-12-07T06:24:05.708Z"
   },
   {
    "duration": 40,
    "start_time": "2022-12-07T06:24:05.722Z"
   },
   {
    "duration": 35,
    "start_time": "2022-12-07T06:24:05.764Z"
   },
   {
    "duration": 31,
    "start_time": "2022-12-07T06:24:05.800Z"
   },
   {
    "duration": 63,
    "start_time": "2022-12-07T06:24:05.834Z"
   },
   {
    "duration": 10,
    "start_time": "2022-12-07T06:24:05.899Z"
   },
   {
    "duration": 91,
    "start_time": "2022-12-07T06:24:05.911Z"
   },
   {
    "duration": 141,
    "start_time": "2022-12-07T06:24:06.004Z"
   },
   {
    "duration": 11,
    "start_time": "2022-12-07T06:24:06.147Z"
   },
   {
    "duration": 36,
    "start_time": "2022-12-07T06:24:06.160Z"
   },
   {
    "duration": 24,
    "start_time": "2022-12-07T06:24:06.197Z"
   },
   {
    "duration": 65,
    "start_time": "2022-12-07T06:24:06.223Z"
   },
   {
    "duration": 24,
    "start_time": "2022-12-07T06:24:06.290Z"
   },
   {
    "duration": 209,
    "start_time": "2022-12-07T06:24:06.316Z"
   },
   {
    "duration": 27,
    "start_time": "2022-12-07T06:24:06.527Z"
   },
   {
    "duration": 14,
    "start_time": "2022-12-07T06:24:06.556Z"
   },
   {
    "duration": 6,
    "start_time": "2022-12-07T06:24:06.571Z"
   },
   {
    "duration": 192,
    "start_time": "2022-12-07T06:24:06.579Z"
   },
   {
    "duration": 10,
    "start_time": "2022-12-07T06:24:06.773Z"
   },
   {
    "duration": 28,
    "start_time": "2022-12-07T06:24:06.785Z"
   },
   {
    "duration": 6,
    "start_time": "2022-12-07T06:24:06.815Z"
   },
   {
    "duration": 361,
    "start_time": "2022-12-07T06:24:06.823Z"
   },
   {
    "duration": 6,
    "start_time": "2022-12-07T06:24:07.186Z"
   },
   {
    "duration": 18,
    "start_time": "2022-12-07T06:24:07.194Z"
   },
   {
    "duration": 81,
    "start_time": "2022-12-07T06:24:07.214Z"
   },
   {
    "duration": 13,
    "start_time": "2022-12-07T06:24:07.298Z"
   },
   {
    "duration": 19,
    "start_time": "2022-12-07T06:24:07.313Z"
   },
   {
    "duration": 26,
    "start_time": "2022-12-07T06:24:07.333Z"
   },
   {
    "duration": 11,
    "start_time": "2022-12-07T06:24:07.361Z"
   },
   {
    "duration": 123,
    "start_time": "2022-12-07T06:24:07.374Z"
   },
   {
    "duration": 14,
    "start_time": "2022-12-07T06:24:07.499Z"
   },
   {
    "duration": 47,
    "start_time": "2022-12-07T06:24:07.515Z"
   },
   {
    "duration": 21,
    "start_time": "2022-12-07T06:24:07.564Z"
   },
   {
    "duration": 7,
    "start_time": "2022-12-07T06:24:07.587Z"
   },
   {
    "duration": 64,
    "start_time": "2022-12-07T06:24:07.596Z"
   },
   {
    "duration": 33,
    "start_time": "2022-12-07T06:24:07.662Z"
   },
   {
    "duration": 13,
    "start_time": "2022-12-07T06:24:07.697Z"
   },
   {
    "duration": 39,
    "start_time": "2022-12-07T06:24:07.712Z"
   },
   {
    "duration": 28,
    "start_time": "2022-12-07T06:24:07.753Z"
   },
   {
    "duration": 8,
    "start_time": "2022-12-07T06:24:07.783Z"
   },
   {
    "duration": 30,
    "start_time": "2022-12-07T06:24:07.793Z"
   },
   {
    "duration": 35,
    "start_time": "2022-12-07T06:24:07.824Z"
   },
   {
    "duration": 18,
    "start_time": "2022-12-07T06:24:07.860Z"
   },
   {
    "duration": 24,
    "start_time": "2022-12-07T06:24:07.880Z"
   },
   {
    "duration": 0,
    "start_time": "2022-12-07T06:24:07.906Z"
   },
   {
    "duration": 0,
    "start_time": "2022-12-07T06:24:07.907Z"
   },
   {
    "duration": 0,
    "start_time": "2022-12-07T06:24:07.908Z"
   },
   {
    "duration": 0,
    "start_time": "2022-12-07T06:24:07.910Z"
   },
   {
    "duration": 20,
    "start_time": "2022-12-07T06:26:21.670Z"
   },
   {
    "duration": 70,
    "start_time": "2022-12-07T08:23:50.097Z"
   },
   {
    "duration": 0,
    "start_time": "2022-12-07T08:23:50.169Z"
   },
   {
    "duration": 0,
    "start_time": "2022-12-07T08:23:50.170Z"
   },
   {
    "duration": 0,
    "start_time": "2022-12-07T08:23:50.171Z"
   },
   {
    "duration": 0,
    "start_time": "2022-12-07T08:23:50.173Z"
   },
   {
    "duration": 0,
    "start_time": "2022-12-07T08:23:50.174Z"
   },
   {
    "duration": 0,
    "start_time": "2022-12-07T08:23:50.175Z"
   },
   {
    "duration": 0,
    "start_time": "2022-12-07T08:23:50.176Z"
   },
   {
    "duration": 0,
    "start_time": "2022-12-07T08:23:50.177Z"
   },
   {
    "duration": 0,
    "start_time": "2022-12-07T08:23:50.179Z"
   },
   {
    "duration": 0,
    "start_time": "2022-12-07T08:23:50.181Z"
   },
   {
    "duration": 15,
    "start_time": "2022-12-07T08:23:50.185Z"
   },
   {
    "duration": 0,
    "start_time": "2022-12-07T08:23:50.213Z"
   },
   {
    "duration": 0,
    "start_time": "2022-12-07T08:23:50.214Z"
   },
   {
    "duration": 0,
    "start_time": "2022-12-07T08:23:50.250Z"
   },
   {
    "duration": 0,
    "start_time": "2022-12-07T08:23:50.253Z"
   },
   {
    "duration": 0,
    "start_time": "2022-12-07T08:23:50.254Z"
   },
   {
    "duration": 0,
    "start_time": "2022-12-07T08:23:50.256Z"
   },
   {
    "duration": 0,
    "start_time": "2022-12-07T08:23:50.257Z"
   },
   {
    "duration": 14,
    "start_time": "2022-12-07T08:23:50.261Z"
   },
   {
    "duration": 0,
    "start_time": "2022-12-07T08:23:50.277Z"
   },
   {
    "duration": 0,
    "start_time": "2022-12-07T08:23:50.279Z"
   },
   {
    "duration": 0,
    "start_time": "2022-12-07T08:23:50.281Z"
   },
   {
    "duration": 0,
    "start_time": "2022-12-07T08:23:50.282Z"
   },
   {
    "duration": 0,
    "start_time": "2022-12-07T08:23:50.284Z"
   },
   {
    "duration": 0,
    "start_time": "2022-12-07T08:23:50.286Z"
   },
   {
    "duration": 0,
    "start_time": "2022-12-07T08:23:50.287Z"
   },
   {
    "duration": 0,
    "start_time": "2022-12-07T08:23:50.288Z"
   },
   {
    "duration": 0,
    "start_time": "2022-12-07T08:23:50.290Z"
   },
   {
    "duration": 7,
    "start_time": "2022-12-07T08:23:50.352Z"
   },
   {
    "duration": 0,
    "start_time": "2022-12-07T08:23:50.362Z"
   },
   {
    "duration": 0,
    "start_time": "2022-12-07T08:23:50.363Z"
   },
   {
    "duration": 0,
    "start_time": "2022-12-07T08:23:50.365Z"
   },
   {
    "duration": 0,
    "start_time": "2022-12-07T08:23:50.366Z"
   },
   {
    "duration": 0,
    "start_time": "2022-12-07T08:23:50.368Z"
   },
   {
    "duration": 0,
    "start_time": "2022-12-07T08:23:50.369Z"
   },
   {
    "duration": 0,
    "start_time": "2022-12-07T08:23:50.370Z"
   },
   {
    "duration": 0,
    "start_time": "2022-12-07T08:23:50.371Z"
   },
   {
    "duration": 0,
    "start_time": "2022-12-07T08:23:50.372Z"
   },
   {
    "duration": 0,
    "start_time": "2022-12-07T08:23:50.374Z"
   },
   {
    "duration": 0,
    "start_time": "2022-12-07T08:23:50.375Z"
   },
   {
    "duration": 0,
    "start_time": "2022-12-07T08:23:50.376Z"
   },
   {
    "duration": 0,
    "start_time": "2022-12-07T08:23:50.377Z"
   },
   {
    "duration": 0,
    "start_time": "2022-12-07T08:23:50.379Z"
   },
   {
    "duration": 0,
    "start_time": "2022-12-07T08:23:50.380Z"
   },
   {
    "duration": 0,
    "start_time": "2022-12-07T08:23:50.382Z"
   },
   {
    "duration": 66,
    "start_time": "2022-12-07T08:23:50.386Z"
   },
   {
    "duration": 0,
    "start_time": "2022-12-07T08:23:50.454Z"
   },
   {
    "duration": 0,
    "start_time": "2022-12-07T08:23:50.456Z"
   },
   {
    "duration": 0,
    "start_time": "2022-12-07T08:23:50.458Z"
   },
   {
    "duration": 0,
    "start_time": "2022-12-07T08:23:50.459Z"
   },
   {
    "duration": 0,
    "start_time": "2022-12-07T08:23:50.461Z"
   },
   {
    "duration": 0,
    "start_time": "2022-12-07T08:23:50.462Z"
   },
   {
    "duration": 16,
    "start_time": "2022-12-07T08:23:50.465Z"
   },
   {
    "duration": 0,
    "start_time": "2022-12-07T08:23:50.483Z"
   },
   {
    "duration": 0,
    "start_time": "2022-12-07T08:23:50.485Z"
   },
   {
    "duration": 0,
    "start_time": "2022-12-07T08:23:50.486Z"
   },
   {
    "duration": 0,
    "start_time": "2022-12-07T08:23:50.488Z"
   },
   {
    "duration": 0,
    "start_time": "2022-12-07T08:23:50.489Z"
   },
   {
    "duration": 0,
    "start_time": "2022-12-07T08:23:50.490Z"
   },
   {
    "duration": 0,
    "start_time": "2022-12-07T08:23:50.492Z"
   },
   {
    "duration": 0,
    "start_time": "2022-12-07T08:23:50.493Z"
   },
   {
    "duration": 0,
    "start_time": "2022-12-07T08:23:50.550Z"
   },
   {
    "duration": 0,
    "start_time": "2022-12-07T08:23:50.551Z"
   },
   {
    "duration": 0,
    "start_time": "2022-12-07T08:23:50.553Z"
   },
   {
    "duration": 0,
    "start_time": "2022-12-07T08:23:50.554Z"
   },
   {
    "duration": 0,
    "start_time": "2022-12-07T08:23:50.555Z"
   },
   {
    "duration": 1,
    "start_time": "2022-12-07T08:23:50.555Z"
   },
   {
    "duration": 0,
    "start_time": "2022-12-07T08:23:50.556Z"
   },
   {
    "duration": 15,
    "start_time": "2022-12-07T08:23:50.559Z"
   },
   {
    "duration": 0,
    "start_time": "2022-12-07T08:23:50.576Z"
   },
   {
    "duration": 0,
    "start_time": "2022-12-07T08:23:50.577Z"
   },
   {
    "duration": 0,
    "start_time": "2022-12-07T08:23:50.578Z"
   },
   {
    "duration": 0,
    "start_time": "2022-12-07T08:23:50.579Z"
   },
   {
    "duration": 0,
    "start_time": "2022-12-07T08:23:50.580Z"
   },
   {
    "duration": 0,
    "start_time": "2022-12-07T08:23:50.582Z"
   },
   {
    "duration": 1193,
    "start_time": "2022-12-07T08:29:35.628Z"
   },
   {
    "duration": 257,
    "start_time": "2022-12-07T08:29:36.823Z"
   },
   {
    "duration": 5,
    "start_time": "2022-12-07T08:29:37.082Z"
   },
   {
    "duration": 46,
    "start_time": "2022-12-07T08:29:37.089Z"
   },
   {
    "duration": 152,
    "start_time": "2022-12-07T08:29:37.137Z"
   },
   {
    "duration": 7,
    "start_time": "2022-12-07T08:29:37.291Z"
   },
   {
    "duration": 21,
    "start_time": "2022-12-07T08:29:37.299Z"
   },
   {
    "duration": 44,
    "start_time": "2022-12-07T08:29:37.321Z"
   },
   {
    "duration": 30,
    "start_time": "2022-12-07T08:29:37.367Z"
   },
   {
    "duration": 7,
    "start_time": "2022-12-07T08:29:37.400Z"
   },
   {
    "duration": 58,
    "start_time": "2022-12-07T08:29:37.409Z"
   },
   {
    "duration": 2334,
    "start_time": "2022-12-07T08:29:37.469Z"
   },
   {
    "duration": 5,
    "start_time": "2022-12-07T08:29:39.806Z"
   },
   {
    "duration": 38,
    "start_time": "2022-12-07T08:29:39.813Z"
   },
   {
    "duration": 18,
    "start_time": "2022-12-07T08:29:39.853Z"
   },
   {
    "duration": 23,
    "start_time": "2022-12-07T08:29:39.873Z"
   },
   {
    "duration": 91,
    "start_time": "2022-12-07T08:29:39.898Z"
   },
   {
    "duration": 77,
    "start_time": "2022-12-07T08:29:39.991Z"
   },
   {
    "duration": 19,
    "start_time": "2022-12-07T08:29:40.070Z"
   },
   {
    "duration": 39,
    "start_time": "2022-12-07T08:29:40.091Z"
   },
   {
    "duration": 81,
    "start_time": "2022-12-07T08:29:40.132Z"
   },
   {
    "duration": 9,
    "start_time": "2022-12-07T08:29:40.215Z"
   },
   {
    "duration": 32,
    "start_time": "2022-12-07T08:29:40.226Z"
   },
   {
    "duration": 24,
    "start_time": "2022-12-07T08:29:40.260Z"
   },
   {
    "duration": 52,
    "start_time": "2022-12-07T08:29:40.286Z"
   },
   {
    "duration": 12,
    "start_time": "2022-12-07T08:29:40.340Z"
   },
   {
    "duration": 28,
    "start_time": "2022-12-07T08:29:40.353Z"
   },
   {
    "duration": 777,
    "start_time": "2022-12-07T08:29:40.385Z"
   },
   {
    "duration": 684,
    "start_time": "2022-12-07T08:29:41.163Z"
   },
   {
    "duration": 12,
    "start_time": "2022-12-07T08:29:41.850Z"
   },
   {
    "duration": 9,
    "start_time": "2022-12-07T08:29:41.863Z"
   },
   {
    "duration": 8,
    "start_time": "2022-12-07T08:29:41.874Z"
   },
   {
    "duration": 16,
    "start_time": "2022-12-07T08:29:41.883Z"
   },
   {
    "duration": 71,
    "start_time": "2022-12-07T08:29:41.901Z"
   },
   {
    "duration": 8,
    "start_time": "2022-12-07T08:29:41.974Z"
   },
   {
    "duration": 75,
    "start_time": "2022-12-07T08:29:41.983Z"
   },
   {
    "duration": 121,
    "start_time": "2022-12-07T08:29:42.059Z"
   },
   {
    "duration": 10,
    "start_time": "2022-12-07T08:29:42.182Z"
   },
   {
    "duration": 22,
    "start_time": "2022-12-07T08:29:42.194Z"
   },
   {
    "duration": 42,
    "start_time": "2022-12-07T08:29:42.218Z"
   },
   {
    "duration": 43,
    "start_time": "2022-12-07T08:29:42.262Z"
   },
   {
    "duration": 22,
    "start_time": "2022-12-07T08:29:42.307Z"
   },
   {
    "duration": 194,
    "start_time": "2022-12-07T08:29:42.331Z"
   },
   {
    "duration": 26,
    "start_time": "2022-12-07T08:29:42.526Z"
   },
   {
    "duration": 15,
    "start_time": "2022-12-07T08:29:42.554Z"
   },
   {
    "duration": 6,
    "start_time": "2022-12-07T08:29:42.570Z"
   },
   {
    "duration": 188,
    "start_time": "2022-12-07T08:29:42.578Z"
   },
   {
    "duration": 7,
    "start_time": "2022-12-07T08:29:42.767Z"
   },
   {
    "duration": 14,
    "start_time": "2022-12-07T08:29:42.775Z"
   },
   {
    "duration": 5,
    "start_time": "2022-12-07T08:29:42.790Z"
   },
   {
    "duration": 286,
    "start_time": "2022-12-07T08:29:42.796Z"
   },
   {
    "duration": 6,
    "start_time": "2022-12-07T08:29:43.083Z"
   },
   {
    "duration": 26,
    "start_time": "2022-12-07T08:29:43.090Z"
   },
   {
    "duration": 60,
    "start_time": "2022-12-07T08:29:43.118Z"
   },
   {
    "duration": 8,
    "start_time": "2022-12-07T08:29:43.180Z"
   },
   {
    "duration": 26,
    "start_time": "2022-12-07T08:29:43.189Z"
   },
   {
    "duration": 27,
    "start_time": "2022-12-07T08:29:43.216Z"
   },
   {
    "duration": 17,
    "start_time": "2022-12-07T08:29:43.244Z"
   },
   {
    "duration": 94,
    "start_time": "2022-12-07T08:29:43.263Z"
   },
   {
    "duration": 10,
    "start_time": "2022-12-07T08:29:43.359Z"
   },
   {
    "duration": 28,
    "start_time": "2022-12-07T08:29:43.370Z"
   },
   {
    "duration": 40,
    "start_time": "2022-12-07T08:29:43.400Z"
   },
   {
    "duration": 19,
    "start_time": "2022-12-07T08:29:43.442Z"
   },
   {
    "duration": 27,
    "start_time": "2022-12-07T08:29:43.463Z"
   },
   {
    "duration": 25,
    "start_time": "2022-12-07T08:29:43.492Z"
   },
   {
    "duration": 10,
    "start_time": "2022-12-07T08:29:43.518Z"
   },
   {
    "duration": 25,
    "start_time": "2022-12-07T08:29:43.529Z"
   },
   {
    "duration": 28,
    "start_time": "2022-12-07T08:29:43.555Z"
   },
   {
    "duration": 4,
    "start_time": "2022-12-07T08:29:43.585Z"
   },
   {
    "duration": 32,
    "start_time": "2022-12-07T08:29:43.591Z"
   },
   {
    "duration": 20,
    "start_time": "2022-12-07T08:29:43.624Z"
   },
   {
    "duration": 16,
    "start_time": "2022-12-07T08:29:43.646Z"
   },
   {
    "duration": 32,
    "start_time": "2022-12-07T08:29:43.664Z"
   },
   {
    "duration": 0,
    "start_time": "2022-12-07T08:29:43.698Z"
   },
   {
    "duration": 0,
    "start_time": "2022-12-07T08:29:43.700Z"
   },
   {
    "duration": 0,
    "start_time": "2022-12-07T08:29:43.701Z"
   },
   {
    "duration": 0,
    "start_time": "2022-12-07T08:29:43.702Z"
   },
   {
    "duration": 1037,
    "start_time": "2022-12-07T08:34:40.201Z"
   },
   {
    "duration": 876,
    "start_time": "2022-12-07T08:34:47.022Z"
   },
   {
    "duration": 27,
    "start_time": "2022-12-07T08:34:53.774Z"
   },
   {
    "duration": 7,
    "start_time": "2022-12-07T08:37:01.240Z"
   },
   {
    "duration": 5,
    "start_time": "2022-12-07T08:40:54.419Z"
   },
   {
    "duration": 1850,
    "start_time": "2022-12-07T08:42:13.436Z"
   },
   {
    "duration": 14,
    "start_time": "2022-12-07T08:54:10.872Z"
   },
   {
    "duration": 12,
    "start_time": "2022-12-07T08:54:31.702Z"
   },
   {
    "duration": 24,
    "start_time": "2022-12-07T08:55:14.733Z"
   },
   {
    "duration": 412,
    "start_time": "2022-12-07T08:56:42.133Z"
   },
   {
    "duration": 18,
    "start_time": "2022-12-07T08:58:29.925Z"
   },
   {
    "duration": 24,
    "start_time": "2022-12-07T08:58:47.527Z"
   },
   {
    "duration": 23,
    "start_time": "2022-12-07T08:59:01.881Z"
   },
   {
    "duration": 23,
    "start_time": "2022-12-07T08:59:33.228Z"
   },
   {
    "duration": 369,
    "start_time": "2022-12-07T08:59:39.256Z"
   },
   {
    "duration": 19,
    "start_time": "2022-12-07T09:00:37.223Z"
   },
   {
    "duration": 432,
    "start_time": "2022-12-07T09:00:41.873Z"
   },
   {
    "duration": 31,
    "start_time": "2022-12-07T09:00:48.943Z"
   },
   {
    "duration": 405,
    "start_time": "2022-12-07T09:00:51.468Z"
   },
   {
    "duration": 21,
    "start_time": "2022-12-07T09:03:54.062Z"
   },
   {
    "duration": 67,
    "start_time": "2022-12-07T09:04:59.606Z"
   },
   {
    "duration": 68,
    "start_time": "2022-12-07T09:05:11.982Z"
   },
   {
    "duration": 65,
    "start_time": "2022-12-07T09:05:33.633Z"
   },
   {
    "duration": 17,
    "start_time": "2022-12-07T09:06:04.047Z"
   },
   {
    "duration": 110,
    "start_time": "2022-12-07T09:06:14.543Z"
   },
   {
    "duration": 17,
    "start_time": "2022-12-07T09:06:17.603Z"
   },
   {
    "duration": 342,
    "start_time": "2022-12-07T09:06:31.273Z"
   },
   {
    "duration": 358,
    "start_time": "2022-12-07T11:07:16.605Z"
   },
   {
    "duration": 10,
    "start_time": "2022-12-07T11:12:03.278Z"
   },
   {
    "duration": 11,
    "start_time": "2022-12-07T11:14:00.280Z"
   },
   {
    "duration": 12,
    "start_time": "2022-12-07T11:15:45.358Z"
   },
   {
    "duration": 35,
    "start_time": "2022-12-07T11:16:07.820Z"
   },
   {
    "duration": 47,
    "start_time": "2022-12-07T11:51:45.023Z"
   },
   {
    "duration": 78,
    "start_time": "2022-12-07T11:51:53.563Z"
   },
   {
    "duration": 17,
    "start_time": "2022-12-07T11:56:29.688Z"
   },
   {
    "duration": 12,
    "start_time": "2022-12-07T11:59:18.829Z"
   },
   {
    "duration": 20,
    "start_time": "2022-12-07T12:00:03.885Z"
   },
   {
    "duration": 9,
    "start_time": "2022-12-07T12:00:14.302Z"
   },
   {
    "duration": 18,
    "start_time": "2022-12-07T12:00:26.226Z"
   },
   {
    "duration": 17,
    "start_time": "2022-12-07T12:00:45.807Z"
   },
   {
    "duration": 18,
    "start_time": "2022-12-07T12:00:57.911Z"
   },
   {
    "duration": 51,
    "start_time": "2022-12-07T12:01:21.446Z"
   },
   {
    "duration": 54,
    "start_time": "2022-12-07T12:01:49.300Z"
   },
   {
    "duration": 49,
    "start_time": "2022-12-07T12:02:11.113Z"
   },
   {
    "duration": 50,
    "start_time": "2022-12-07T12:02:41.095Z"
   },
   {
    "duration": 57,
    "start_time": "2022-12-07T12:03:13.366Z"
   },
   {
    "duration": 1265,
    "start_time": "2022-12-07T12:04:06.432Z"
   },
   {
    "duration": 305,
    "start_time": "2022-12-07T12:04:07.699Z"
   },
   {
    "duration": 4,
    "start_time": "2022-12-07T12:04:08.006Z"
   },
   {
    "duration": 54,
    "start_time": "2022-12-07T12:04:08.012Z"
   },
   {
    "duration": 184,
    "start_time": "2022-12-07T12:04:08.067Z"
   },
   {
    "duration": 8,
    "start_time": "2022-12-07T12:04:08.253Z"
   },
   {
    "duration": 24,
    "start_time": "2022-12-07T12:04:08.262Z"
   },
   {
    "duration": 50,
    "start_time": "2022-12-07T12:04:08.288Z"
   },
   {
    "duration": 47,
    "start_time": "2022-12-07T12:04:08.340Z"
   },
   {
    "duration": 66,
    "start_time": "2022-12-07T12:04:08.390Z"
   },
   {
    "duration": 5,
    "start_time": "2022-12-07T12:04:08.457Z"
   },
   {
    "duration": 2408,
    "start_time": "2022-12-07T12:04:08.463Z"
   },
   {
    "duration": 26,
    "start_time": "2022-12-07T12:04:10.874Z"
   },
   {
    "duration": 483,
    "start_time": "2022-12-07T12:04:10.902Z"
   },
   {
    "duration": 8,
    "start_time": "2022-12-07T12:04:11.387Z"
   },
   {
    "duration": 10,
    "start_time": "2022-12-07T12:04:11.396Z"
   },
   {
    "duration": 44,
    "start_time": "2022-12-07T12:04:11.408Z"
   },
   {
    "duration": 35,
    "start_time": "2022-12-07T12:04:11.454Z"
   },
   {
    "duration": 79,
    "start_time": "2022-12-07T12:04:11.490Z"
   },
   {
    "duration": 57,
    "start_time": "2022-12-07T12:04:11.571Z"
   },
   {
    "duration": 39,
    "start_time": "2022-12-07T12:04:11.630Z"
   },
   {
    "duration": 41,
    "start_time": "2022-12-07T12:04:11.671Z"
   },
   {
    "duration": 77,
    "start_time": "2022-12-07T12:04:11.715Z"
   },
   {
    "duration": 77,
    "start_time": "2022-12-07T12:04:11.793Z"
   },
   {
    "duration": 12,
    "start_time": "2022-12-07T12:04:11.873Z"
   },
   {
    "duration": 22,
    "start_time": "2022-12-07T12:04:11.887Z"
   },
   {
    "duration": 40,
    "start_time": "2022-12-07T12:04:11.911Z"
   },
   {
    "duration": 40,
    "start_time": "2022-12-07T12:04:11.956Z"
   },
   {
    "duration": 11,
    "start_time": "2022-12-07T12:04:11.997Z"
   },
   {
    "duration": 54,
    "start_time": "2022-12-07T12:04:12.009Z"
   },
   {
    "duration": 786,
    "start_time": "2022-12-07T12:04:12.064Z"
   },
   {
    "duration": 806,
    "start_time": "2022-12-07T12:04:12.852Z"
   },
   {
    "duration": 20,
    "start_time": "2022-12-07T12:04:13.660Z"
   },
   {
    "duration": 7,
    "start_time": "2022-12-07T12:04:13.681Z"
   },
   {
    "duration": 11,
    "start_time": "2022-12-07T12:04:13.689Z"
   },
   {
    "duration": 12,
    "start_time": "2022-12-07T12:04:13.702Z"
   },
   {
    "duration": 73,
    "start_time": "2022-12-07T12:04:13.716Z"
   },
   {
    "duration": 9,
    "start_time": "2022-12-07T12:04:13.791Z"
   },
   {
    "duration": 76,
    "start_time": "2022-12-07T12:04:13.803Z"
   },
   {
    "duration": 37,
    "start_time": "2022-12-07T12:04:13.881Z"
   },
   {
    "duration": 31,
    "start_time": "2022-12-07T12:04:13.920Z"
   },
   {
    "duration": 15,
    "start_time": "2022-12-07T12:04:13.953Z"
   },
   {
    "duration": 20,
    "start_time": "2022-12-07T12:04:13.970Z"
   },
   {
    "duration": 72,
    "start_time": "2022-12-07T12:04:13.992Z"
   },
   {
    "duration": 27,
    "start_time": "2022-12-07T12:04:14.066Z"
   },
   {
    "duration": 221,
    "start_time": "2022-12-07T12:04:14.095Z"
   },
   {
    "duration": 19,
    "start_time": "2022-12-07T12:04:14.318Z"
   },
   {
    "duration": 24,
    "start_time": "2022-12-07T12:04:14.339Z"
   },
   {
    "duration": 5,
    "start_time": "2022-12-07T12:04:14.365Z"
   },
   {
    "duration": 204,
    "start_time": "2022-12-07T12:04:14.371Z"
   },
   {
    "duration": 7,
    "start_time": "2022-12-07T12:04:14.577Z"
   },
   {
    "duration": 15,
    "start_time": "2022-12-07T12:04:14.586Z"
   },
   {
    "duration": 5,
    "start_time": "2022-12-07T12:04:14.602Z"
   },
   {
    "duration": 352,
    "start_time": "2022-12-07T12:04:14.609Z"
   },
   {
    "duration": 5,
    "start_time": "2022-12-07T12:04:14.963Z"
   },
   {
    "duration": 20,
    "start_time": "2022-12-07T12:04:14.970Z"
   },
   {
    "duration": 73,
    "start_time": "2022-12-07T12:04:14.991Z"
   },
   {
    "duration": 11,
    "start_time": "2022-12-07T12:04:15.066Z"
   },
   {
    "duration": 15,
    "start_time": "2022-12-07T12:04:15.079Z"
   },
   {
    "duration": 11,
    "start_time": "2022-12-07T12:04:15.096Z"
   },
   {
    "duration": 9,
    "start_time": "2022-12-07T12:04:15.109Z"
   },
   {
    "duration": 119,
    "start_time": "2022-12-07T12:04:15.151Z"
   },
   {
    "duration": 13,
    "start_time": "2022-12-07T12:04:15.272Z"
   },
   {
    "duration": 14,
    "start_time": "2022-12-07T12:04:15.287Z"
   },
   {
    "duration": 56,
    "start_time": "2022-12-07T12:04:15.303Z"
   },
   {
    "duration": 8,
    "start_time": "2022-12-07T12:04:15.361Z"
   },
   {
    "duration": 40,
    "start_time": "2022-12-07T12:04:15.371Z"
   },
   {
    "duration": 19,
    "start_time": "2022-12-07T12:04:15.413Z"
   },
   {
    "duration": 25,
    "start_time": "2022-12-07T12:04:15.435Z"
   },
   {
    "duration": 12,
    "start_time": "2022-12-07T12:04:15.461Z"
   },
   {
    "duration": 18,
    "start_time": "2022-12-07T12:04:15.475Z"
   },
   {
    "duration": 6,
    "start_time": "2022-12-07T12:04:15.495Z"
   },
   {
    "duration": 55,
    "start_time": "2022-12-07T12:04:15.502Z"
   },
   {
    "duration": 17,
    "start_time": "2022-12-07T12:04:15.559Z"
   },
   {
    "duration": 10,
    "start_time": "2022-12-07T12:04:15.578Z"
   },
   {
    "duration": 25,
    "start_time": "2022-12-07T12:04:15.590Z"
   },
   {
    "duration": 0,
    "start_time": "2022-12-07T12:04:15.617Z"
   },
   {
    "duration": 0,
    "start_time": "2022-12-07T12:04:15.618Z"
   },
   {
    "duration": 0,
    "start_time": "2022-12-07T12:04:15.619Z"
   },
   {
    "duration": 0,
    "start_time": "2022-12-07T12:04:15.620Z"
   },
   {
    "duration": 6,
    "start_time": "2022-12-07T12:31:38.460Z"
   },
   {
    "duration": 5,
    "start_time": "2022-12-07T12:33:53.136Z"
   },
   {
    "duration": 11,
    "start_time": "2022-12-07T12:40:21.425Z"
   },
   {
    "duration": 50,
    "start_time": "2022-12-07T12:41:20.021Z"
   },
   {
    "duration": 63,
    "start_time": "2022-12-07T12:41:33.774Z"
   },
   {
    "duration": 63,
    "start_time": "2022-12-07T12:41:53.294Z"
   },
   {
    "duration": 61,
    "start_time": "2022-12-07T12:42:04.802Z"
   },
   {
    "duration": 1355,
    "start_time": "2022-12-07T12:43:28.034Z"
   },
   {
    "duration": 364,
    "start_time": "2022-12-07T12:43:29.391Z"
   },
   {
    "duration": 4,
    "start_time": "2022-12-07T12:43:29.757Z"
   },
   {
    "duration": 81,
    "start_time": "2022-12-07T12:43:29.763Z"
   },
   {
    "duration": 216,
    "start_time": "2022-12-07T12:43:29.846Z"
   },
   {
    "duration": 9,
    "start_time": "2022-12-07T12:43:30.064Z"
   },
   {
    "duration": 44,
    "start_time": "2022-12-07T12:43:30.075Z"
   },
   {
    "duration": 65,
    "start_time": "2022-12-07T12:43:30.121Z"
   },
   {
    "duration": 35,
    "start_time": "2022-12-07T12:43:30.189Z"
   },
   {
    "duration": 72,
    "start_time": "2022-12-07T12:43:30.227Z"
   },
   {
    "duration": 6,
    "start_time": "2022-12-07T12:43:30.301Z"
   },
   {
    "duration": 2429,
    "start_time": "2022-12-07T12:43:30.309Z"
   },
   {
    "duration": 29,
    "start_time": "2022-12-07T12:43:32.740Z"
   },
   {
    "duration": 485,
    "start_time": "2022-12-07T12:43:32.771Z"
   },
   {
    "duration": 8,
    "start_time": "2022-12-07T12:43:33.258Z"
   },
   {
    "duration": 12,
    "start_time": "2022-12-07T12:43:33.267Z"
   },
   {
    "duration": 20,
    "start_time": "2022-12-07T12:43:33.281Z"
   },
   {
    "duration": 71,
    "start_time": "2022-12-07T12:43:33.302Z"
   },
   {
    "duration": 53,
    "start_time": "2022-12-07T12:43:33.374Z"
   },
   {
    "duration": 72,
    "start_time": "2022-12-07T12:43:33.429Z"
   },
   {
    "duration": 21,
    "start_time": "2022-12-07T12:43:33.503Z"
   },
   {
    "duration": 60,
    "start_time": "2022-12-07T12:43:33.526Z"
   },
   {
    "duration": 47,
    "start_time": "2022-12-07T12:43:33.587Z"
   },
   {
    "duration": 61,
    "start_time": "2022-12-07T12:43:33.651Z"
   },
   {
    "duration": 4,
    "start_time": "2022-12-07T12:43:33.714Z"
   },
   {
    "duration": 38,
    "start_time": "2022-12-07T12:43:33.720Z"
   },
   {
    "duration": 44,
    "start_time": "2022-12-07T12:43:33.760Z"
   },
   {
    "duration": 97,
    "start_time": "2022-12-07T12:43:33.810Z"
   },
   {
    "duration": 11,
    "start_time": "2022-12-07T12:43:33.909Z"
   },
   {
    "duration": 30,
    "start_time": "2022-12-07T12:43:33.922Z"
   },
   {
    "duration": 19,
    "start_time": "2022-12-07T12:43:33.954Z"
   },
   {
    "duration": 41,
    "start_time": "2022-12-07T12:43:33.975Z"
   },
   {
    "duration": 38,
    "start_time": "2022-12-07T12:43:34.018Z"
   },
   {
    "duration": 31,
    "start_time": "2022-12-07T12:43:34.058Z"
   },
   {
    "duration": 912,
    "start_time": "2022-12-07T12:43:34.091Z"
   },
   {
    "duration": 822,
    "start_time": "2022-12-07T12:43:35.005Z"
   },
   {
    "duration": 32,
    "start_time": "2022-12-07T12:43:35.829Z"
   },
   {
    "duration": 8,
    "start_time": "2022-12-07T12:43:35.863Z"
   },
   {
    "duration": 13,
    "start_time": "2022-12-07T12:43:35.873Z"
   },
   {
    "duration": 14,
    "start_time": "2022-12-07T12:43:35.888Z"
   },
   {
    "duration": 72,
    "start_time": "2022-12-07T12:43:35.904Z"
   },
   {
    "duration": 10,
    "start_time": "2022-12-07T12:43:35.978Z"
   },
   {
    "duration": 83,
    "start_time": "2022-12-07T12:43:35.990Z"
   },
   {
    "duration": 40,
    "start_time": "2022-12-07T12:43:36.075Z"
   },
   {
    "duration": 33,
    "start_time": "2022-12-07T12:43:36.117Z"
   },
   {
    "duration": 22,
    "start_time": "2022-12-07T12:43:36.152Z"
   },
   {
    "duration": 40,
    "start_time": "2022-12-07T12:43:36.177Z"
   },
   {
    "duration": 58,
    "start_time": "2022-12-07T12:43:36.219Z"
   },
   {
    "duration": 34,
    "start_time": "2022-12-07T12:43:36.279Z"
   },
   {
    "duration": 190,
    "start_time": "2022-12-07T12:43:36.315Z"
   },
   {
    "duration": 18,
    "start_time": "2022-12-07T12:43:36.507Z"
   },
   {
    "duration": 31,
    "start_time": "2022-12-07T12:43:36.527Z"
   },
   {
    "duration": 6,
    "start_time": "2022-12-07T12:43:36.559Z"
   },
   {
    "duration": 190,
    "start_time": "2022-12-07T12:43:36.567Z"
   },
   {
    "duration": 8,
    "start_time": "2022-12-07T12:43:36.758Z"
   },
   {
    "duration": 25,
    "start_time": "2022-12-07T12:43:36.768Z"
   },
   {
    "duration": 5,
    "start_time": "2022-12-07T12:43:36.795Z"
   },
   {
    "duration": 355,
    "start_time": "2022-12-07T12:43:36.802Z"
   },
   {
    "duration": 5,
    "start_time": "2022-12-07T12:43:37.159Z"
   },
   {
    "duration": 27,
    "start_time": "2022-12-07T12:43:37.166Z"
   },
   {
    "duration": 67,
    "start_time": "2022-12-07T12:43:37.195Z"
   },
   {
    "duration": 11,
    "start_time": "2022-12-07T12:43:37.263Z"
   },
   {
    "duration": 26,
    "start_time": "2022-12-07T12:43:37.276Z"
   },
   {
    "duration": 12,
    "start_time": "2022-12-07T12:43:37.304Z"
   },
   {
    "duration": 35,
    "start_time": "2022-12-07T12:43:37.319Z"
   },
   {
    "duration": 119,
    "start_time": "2022-12-07T12:43:37.356Z"
   },
   {
    "duration": 11,
    "start_time": "2022-12-07T12:43:37.476Z"
   },
   {
    "duration": 31,
    "start_time": "2022-12-07T12:43:37.489Z"
   },
   {
    "duration": 38,
    "start_time": "2022-12-07T12:43:37.522Z"
   },
   {
    "duration": 18,
    "start_time": "2022-12-07T12:43:37.562Z"
   },
   {
    "duration": 45,
    "start_time": "2022-12-07T12:43:37.582Z"
   },
   {
    "duration": 31,
    "start_time": "2022-12-07T12:43:37.630Z"
   },
   {
    "duration": 11,
    "start_time": "2022-12-07T12:43:37.663Z"
   },
   {
    "duration": 22,
    "start_time": "2022-12-07T12:43:37.676Z"
   },
   {
    "duration": 18,
    "start_time": "2022-12-07T12:43:37.701Z"
   },
   {
    "duration": 7,
    "start_time": "2022-12-07T12:43:37.721Z"
   },
   {
    "duration": 42,
    "start_time": "2022-12-07T12:43:37.729Z"
   },
   {
    "duration": 19,
    "start_time": "2022-12-07T12:43:37.773Z"
   },
   {
    "duration": 11,
    "start_time": "2022-12-07T12:43:37.794Z"
   },
   {
    "duration": 64,
    "start_time": "2022-12-07T12:43:37.807Z"
   },
   {
    "duration": 0,
    "start_time": "2022-12-07T12:43:37.873Z"
   },
   {
    "duration": 0,
    "start_time": "2022-12-07T12:43:37.874Z"
   },
   {
    "duration": 0,
    "start_time": "2022-12-07T12:43:37.876Z"
   },
   {
    "duration": 0,
    "start_time": "2022-12-07T12:43:37.877Z"
   },
   {
    "duration": 41,
    "start_time": "2022-12-07T12:48:31.700Z"
   },
   {
    "duration": 161,
    "start_time": "2022-12-07T12:49:06.108Z"
   },
   {
    "duration": 79,
    "start_time": "2022-12-07T12:49:16.888Z"
   },
   {
    "duration": 1297,
    "start_time": "2022-12-07T12:54:29.813Z"
   },
   {
    "duration": 344,
    "start_time": "2022-12-07T12:54:31.112Z"
   },
   {
    "duration": 4,
    "start_time": "2022-12-07T12:54:31.459Z"
   },
   {
    "duration": 93,
    "start_time": "2022-12-07T12:54:31.465Z"
   },
   {
    "duration": 173,
    "start_time": "2022-12-07T12:54:31.560Z"
   },
   {
    "duration": 22,
    "start_time": "2022-12-07T12:54:31.736Z"
   },
   {
    "duration": 49,
    "start_time": "2022-12-07T12:54:31.760Z"
   },
   {
    "duration": 48,
    "start_time": "2022-12-07T12:54:31.811Z"
   },
   {
    "duration": 33,
    "start_time": "2022-12-07T12:54:31.861Z"
   },
   {
    "duration": 77,
    "start_time": "2022-12-07T12:54:31.897Z"
   },
   {
    "duration": 5,
    "start_time": "2022-12-07T12:54:31.976Z"
   },
   {
    "duration": 2352,
    "start_time": "2022-12-07T12:54:31.983Z"
   },
   {
    "duration": 37,
    "start_time": "2022-12-07T12:54:34.337Z"
   },
   {
    "duration": 432,
    "start_time": "2022-12-07T12:54:34.376Z"
   },
   {
    "duration": 8,
    "start_time": "2022-12-07T12:54:34.810Z"
   },
   {
    "duration": 31,
    "start_time": "2022-12-07T12:54:34.820Z"
   },
   {
    "duration": 15,
    "start_time": "2022-12-07T12:54:34.853Z"
   },
   {
    "duration": 33,
    "start_time": "2022-12-07T12:54:34.870Z"
   },
   {
    "duration": 77,
    "start_time": "2022-12-07T12:54:34.904Z"
   },
   {
    "duration": 53,
    "start_time": "2022-12-07T12:54:34.983Z"
   },
   {
    "duration": 31,
    "start_time": "2022-12-07T12:54:35.037Z"
   },
   {
    "duration": 32,
    "start_time": "2022-12-07T12:54:35.070Z"
   },
   {
    "duration": 65,
    "start_time": "2022-12-07T12:54:35.104Z"
   },
   {
    "duration": 80,
    "start_time": "2022-12-07T12:54:35.171Z"
   },
   {
    "duration": 4,
    "start_time": "2022-12-07T12:54:35.253Z"
   },
   {
    "duration": 44,
    "start_time": "2022-12-07T12:54:35.259Z"
   },
   {
    "duration": 44,
    "start_time": "2022-12-07T12:54:35.305Z"
   },
   {
    "duration": 62,
    "start_time": "2022-12-07T12:54:35.353Z"
   },
   {
    "duration": 53,
    "start_time": "2022-12-07T12:54:35.417Z"
   },
   {
    "duration": 10,
    "start_time": "2022-12-07T12:54:35.471Z"
   },
   {
    "duration": 20,
    "start_time": "2022-12-07T12:54:35.483Z"
   },
   {
    "duration": 19,
    "start_time": "2022-12-07T12:54:35.505Z"
   },
   {
    "duration": 54,
    "start_time": "2022-12-07T12:54:35.526Z"
   },
   {
    "duration": 10,
    "start_time": "2022-12-07T12:54:35.582Z"
   },
   {
    "duration": 32,
    "start_time": "2022-12-07T12:54:35.594Z"
   },
   {
    "duration": 815,
    "start_time": "2022-12-07T12:54:35.628Z"
   },
   {
    "duration": 786,
    "start_time": "2022-12-07T12:54:36.444Z"
   },
   {
    "duration": 32,
    "start_time": "2022-12-07T12:54:37.232Z"
   },
   {
    "duration": 7,
    "start_time": "2022-12-07T12:54:37.266Z"
   },
   {
    "duration": 41,
    "start_time": "2022-12-07T12:54:37.275Z"
   },
   {
    "duration": 7,
    "start_time": "2022-12-07T12:54:37.318Z"
   },
   {
    "duration": 35,
    "start_time": "2022-12-07T12:54:37.327Z"
   },
   {
    "duration": 21,
    "start_time": "2022-12-07T12:54:37.364Z"
   },
   {
    "duration": 65,
    "start_time": "2022-12-07T12:54:37.386Z"
   },
   {
    "duration": 24,
    "start_time": "2022-12-07T12:54:37.453Z"
   },
   {
    "duration": 199,
    "start_time": "2022-12-07T12:54:37.478Z"
   },
   {
    "duration": 18,
    "start_time": "2022-12-07T12:54:37.679Z"
   },
   {
    "duration": 15,
    "start_time": "2022-12-07T12:54:37.698Z"
   },
   {
    "duration": 9,
    "start_time": "2022-12-07T12:54:37.714Z"
   },
   {
    "duration": 200,
    "start_time": "2022-12-07T12:54:37.725Z"
   },
   {
    "duration": 8,
    "start_time": "2022-12-07T12:54:37.926Z"
   },
   {
    "duration": 27,
    "start_time": "2022-12-07T12:54:37.935Z"
   },
   {
    "duration": 29,
    "start_time": "2022-12-07T12:54:37.964Z"
   },
   {
    "duration": 323,
    "start_time": "2022-12-07T12:54:37.995Z"
   },
   {
    "duration": 5,
    "start_time": "2022-12-07T12:54:38.320Z"
   },
   {
    "duration": 36,
    "start_time": "2022-12-07T12:54:38.327Z"
   },
   {
    "duration": 51,
    "start_time": "2022-12-07T12:54:38.365Z"
   },
   {
    "duration": 11,
    "start_time": "2022-12-07T12:54:38.417Z"
   },
   {
    "duration": 78,
    "start_time": "2022-12-07T12:54:38.430Z"
   },
   {
    "duration": 38,
    "start_time": "2022-12-07T12:54:38.509Z"
   },
   {
    "duration": 15,
    "start_time": "2022-12-07T12:54:38.548Z"
   },
   {
    "duration": 110,
    "start_time": "2022-12-07T12:54:38.565Z"
   },
   {
    "duration": 9,
    "start_time": "2022-12-07T12:54:38.677Z"
   },
   {
    "duration": 15,
    "start_time": "2022-12-07T12:54:38.688Z"
   },
   {
    "duration": 55,
    "start_time": "2022-12-07T12:54:38.704Z"
   },
   {
    "duration": 6,
    "start_time": "2022-12-07T12:54:38.760Z"
   },
   {
    "duration": 26,
    "start_time": "2022-12-07T12:54:38.767Z"
   },
   {
    "duration": 19,
    "start_time": "2022-12-07T12:54:38.795Z"
   },
   {
    "duration": 38,
    "start_time": "2022-12-07T12:54:38.816Z"
   },
   {
    "duration": 13,
    "start_time": "2022-12-07T12:54:38.856Z"
   },
   {
    "duration": 32,
    "start_time": "2022-12-07T12:54:38.871Z"
   },
   {
    "duration": 6,
    "start_time": "2022-12-07T12:54:38.904Z"
   },
   {
    "duration": 22,
    "start_time": "2022-12-07T12:54:38.911Z"
   },
   {
    "duration": 30,
    "start_time": "2022-12-07T12:54:38.934Z"
   },
   {
    "duration": 38,
    "start_time": "2022-12-07T12:54:38.965Z"
   },
   {
    "duration": 27,
    "start_time": "2022-12-07T12:54:39.005Z"
   },
   {
    "duration": 0,
    "start_time": "2022-12-07T12:54:39.034Z"
   },
   {
    "duration": 0,
    "start_time": "2022-12-07T12:54:39.035Z"
   },
   {
    "duration": 0,
    "start_time": "2022-12-07T12:54:39.036Z"
   },
   {
    "duration": 0,
    "start_time": "2022-12-07T12:54:39.037Z"
   },
   {
    "duration": 1439,
    "start_time": "2022-12-08T07:13:44.799Z"
   },
   {
    "duration": 308,
    "start_time": "2022-12-08T07:13:46.240Z"
   },
   {
    "duration": 4,
    "start_time": "2022-12-08T07:13:46.549Z"
   },
   {
    "duration": 79,
    "start_time": "2022-12-08T07:13:46.555Z"
   },
   {
    "duration": 171,
    "start_time": "2022-12-08T07:13:46.635Z"
   },
   {
    "duration": 7,
    "start_time": "2022-12-08T07:13:46.808Z"
   },
   {
    "duration": 42,
    "start_time": "2022-12-08T07:13:46.816Z"
   },
   {
    "duration": 88,
    "start_time": "2022-12-08T07:13:46.860Z"
   },
   {
    "duration": 47,
    "start_time": "2022-12-08T07:13:46.950Z"
   },
   {
    "duration": 52,
    "start_time": "2022-12-08T07:13:47.000Z"
   },
   {
    "duration": 30,
    "start_time": "2022-12-08T07:13:47.053Z"
   },
   {
    "duration": 2286,
    "start_time": "2022-12-08T07:13:47.085Z"
   },
   {
    "duration": 23,
    "start_time": "2022-12-08T07:13:49.374Z"
   },
   {
    "duration": 450,
    "start_time": "2022-12-08T07:13:49.399Z"
   },
   {
    "duration": 7,
    "start_time": "2022-12-08T07:13:49.850Z"
   },
   {
    "duration": 60,
    "start_time": "2022-12-08T07:13:49.859Z"
   },
   {
    "duration": 61,
    "start_time": "2022-12-08T07:13:49.920Z"
   },
   {
    "duration": 77,
    "start_time": "2022-12-08T07:13:49.984Z"
   },
   {
    "duration": 48,
    "start_time": "2022-12-08T07:13:50.063Z"
   },
   {
    "duration": 67,
    "start_time": "2022-12-08T07:13:50.113Z"
   },
   {
    "duration": 38,
    "start_time": "2022-12-08T07:13:50.182Z"
   },
   {
    "duration": 64,
    "start_time": "2022-12-08T07:13:50.222Z"
   },
   {
    "duration": 52,
    "start_time": "2022-12-08T07:13:50.288Z"
   },
   {
    "duration": 62,
    "start_time": "2022-12-08T07:13:50.342Z"
   },
   {
    "duration": 37,
    "start_time": "2022-12-08T07:13:50.406Z"
   },
   {
    "duration": 55,
    "start_time": "2022-12-08T07:13:50.445Z"
   },
   {
    "duration": 67,
    "start_time": "2022-12-08T07:13:50.501Z"
   },
   {
    "duration": 65,
    "start_time": "2022-12-08T07:13:50.573Z"
   },
   {
    "duration": 37,
    "start_time": "2022-12-08T07:13:50.639Z"
   },
   {
    "duration": 11,
    "start_time": "2022-12-08T07:13:50.678Z"
   },
   {
    "duration": 37,
    "start_time": "2022-12-08T07:13:50.690Z"
   },
   {
    "duration": 60,
    "start_time": "2022-12-08T07:13:50.729Z"
   },
   {
    "duration": 53,
    "start_time": "2022-12-08T07:13:50.791Z"
   },
   {
    "duration": 18,
    "start_time": "2022-12-08T07:13:50.845Z"
   },
   {
    "duration": 78,
    "start_time": "2022-12-08T07:13:50.864Z"
   },
   {
    "duration": 842,
    "start_time": "2022-12-08T07:13:50.943Z"
   },
   {
    "duration": 918,
    "start_time": "2022-12-08T07:13:51.787Z"
   },
   {
    "duration": 32,
    "start_time": "2022-12-08T07:13:52.707Z"
   },
   {
    "duration": 9,
    "start_time": "2022-12-08T07:13:52.741Z"
   },
   {
    "duration": 44,
    "start_time": "2022-12-08T07:13:52.752Z"
   },
   {
    "duration": 7,
    "start_time": "2022-12-08T07:13:52.798Z"
   },
   {
    "duration": 28,
    "start_time": "2022-12-08T07:13:52.807Z"
   },
   {
    "duration": 19,
    "start_time": "2022-12-08T07:13:52.837Z"
   },
   {
    "duration": 41,
    "start_time": "2022-12-08T07:13:52.858Z"
   },
   {
    "duration": 40,
    "start_time": "2022-12-08T07:13:52.901Z"
   },
   {
    "duration": 162,
    "start_time": "2022-12-08T07:13:52.942Z"
   },
   {
    "duration": 17,
    "start_time": "2022-12-08T07:13:53.106Z"
   },
   {
    "duration": 22,
    "start_time": "2022-12-08T07:13:53.124Z"
   },
   {
    "duration": 5,
    "start_time": "2022-12-08T07:13:53.148Z"
   },
   {
    "duration": 185,
    "start_time": "2022-12-08T07:13:53.155Z"
   },
   {
    "duration": 7,
    "start_time": "2022-12-08T07:13:53.341Z"
   },
   {
    "duration": 31,
    "start_time": "2022-12-08T07:13:53.350Z"
   },
   {
    "duration": 6,
    "start_time": "2022-12-08T07:13:53.383Z"
   },
   {
    "duration": 354,
    "start_time": "2022-12-08T07:13:53.390Z"
   },
   {
    "duration": 4,
    "start_time": "2022-12-08T07:13:53.746Z"
   },
   {
    "duration": 44,
    "start_time": "2022-12-08T07:13:53.751Z"
   },
   {
    "duration": 77,
    "start_time": "2022-12-08T07:13:53.796Z"
   },
   {
    "duration": 10,
    "start_time": "2022-12-08T07:13:53.875Z"
   },
   {
    "duration": 25,
    "start_time": "2022-12-08T07:13:53.886Z"
   },
   {
    "duration": 44,
    "start_time": "2022-12-08T07:13:53.913Z"
   },
   {
    "duration": 20,
    "start_time": "2022-12-08T07:13:53.959Z"
   },
   {
    "duration": 136,
    "start_time": "2022-12-08T07:13:53.981Z"
   },
   {
    "duration": 17,
    "start_time": "2022-12-08T07:13:54.119Z"
   },
   {
    "duration": 21,
    "start_time": "2022-12-08T07:13:54.138Z"
   },
   {
    "duration": 41,
    "start_time": "2022-12-08T07:13:54.161Z"
   },
   {
    "duration": 5,
    "start_time": "2022-12-08T07:13:54.204Z"
   },
   {
    "duration": 34,
    "start_time": "2022-12-08T07:13:54.211Z"
   },
   {
    "duration": 27,
    "start_time": "2022-12-08T07:13:54.248Z"
   },
   {
    "duration": 12,
    "start_time": "2022-12-08T07:13:54.277Z"
   },
   {
    "duration": 29,
    "start_time": "2022-12-08T07:13:54.291Z"
   },
   {
    "duration": 32,
    "start_time": "2022-12-08T07:13:54.322Z"
   },
   {
    "duration": 29,
    "start_time": "2022-12-08T07:13:54.356Z"
   },
   {
    "duration": 31,
    "start_time": "2022-12-08T07:13:54.387Z"
   },
   {
    "duration": 29,
    "start_time": "2022-12-08T07:13:54.419Z"
   },
   {
    "duration": 17,
    "start_time": "2022-12-08T07:13:54.449Z"
   },
   {
    "duration": 44,
    "start_time": "2022-12-08T07:13:54.468Z"
   },
   {
    "duration": 0,
    "start_time": "2022-12-08T07:13:54.514Z"
   },
   {
    "duration": 0,
    "start_time": "2022-12-08T07:13:54.515Z"
   },
   {
    "duration": 0,
    "start_time": "2022-12-08T07:13:54.516Z"
   },
   {
    "duration": 0,
    "start_time": "2022-12-08T07:13:54.517Z"
   },
   {
    "duration": 24,
    "start_time": "2022-12-08T09:13:15.697Z"
   },
   {
    "duration": 15,
    "start_time": "2022-12-08T09:13:55.093Z"
   },
   {
    "duration": 35,
    "start_time": "2022-12-08T09:14:04.419Z"
   },
   {
    "duration": 36,
    "start_time": "2022-12-08T09:14:30.662Z"
   },
   {
    "duration": 32,
    "start_time": "2022-12-08T09:14:43.789Z"
   },
   {
    "duration": 876,
    "start_time": "2022-12-08T09:14:47.275Z"
   },
   {
    "duration": 834,
    "start_time": "2022-12-08T09:14:57.049Z"
   },
   {
    "duration": 33,
    "start_time": "2022-12-08T09:15:16.064Z"
   },
   {
    "duration": 33,
    "start_time": "2022-12-08T09:15:26.912Z"
   },
   {
    "duration": 11,
    "start_time": "2022-12-08T09:21:25.371Z"
   },
   {
    "duration": 35,
    "start_time": "2022-12-08T09:22:12.335Z"
   },
   {
    "duration": 33,
    "start_time": "2022-12-08T09:22:22.248Z"
   },
   {
    "duration": 46,
    "start_time": "2022-12-08T09:22:55.960Z"
   },
   {
    "duration": 51,
    "start_time": "2022-12-08T09:23:12.755Z"
   },
   {
    "duration": 69,
    "start_time": "2022-12-08T09:25:03.810Z"
   },
   {
    "duration": 48,
    "start_time": "2022-12-08T09:25:19.136Z"
   },
   {
    "duration": 44,
    "start_time": "2022-12-08T09:25:35.201Z"
   },
   {
    "duration": 32,
    "start_time": "2022-12-08T09:25:45.887Z"
   },
   {
    "duration": 72,
    "start_time": "2022-12-08T09:26:06.821Z"
   },
   {
    "duration": 1753,
    "start_time": "2022-12-08T09:27:11.293Z"
   },
   {
    "duration": 314,
    "start_time": "2022-12-08T09:27:13.048Z"
   },
   {
    "duration": 4,
    "start_time": "2022-12-08T09:27:13.364Z"
   },
   {
    "duration": 102,
    "start_time": "2022-12-08T09:27:13.369Z"
   },
   {
    "duration": 378,
    "start_time": "2022-12-08T09:27:13.474Z"
   },
   {
    "duration": 8,
    "start_time": "2022-12-08T09:27:13.854Z"
   },
   {
    "duration": 12,
    "start_time": "2022-12-08T09:27:13.864Z"
   },
   {
    "duration": 90,
    "start_time": "2022-12-08T09:27:13.878Z"
   },
   {
    "duration": 89,
    "start_time": "2022-12-08T09:27:13.970Z"
   },
   {
    "duration": 115,
    "start_time": "2022-12-08T09:27:14.061Z"
   },
   {
    "duration": 61,
    "start_time": "2022-12-08T09:27:14.178Z"
   },
   {
    "duration": 2649,
    "start_time": "2022-12-08T09:27:14.241Z"
   },
   {
    "duration": 59,
    "start_time": "2022-12-08T09:27:16.892Z"
   },
   {
    "duration": 474,
    "start_time": "2022-12-08T09:27:16.955Z"
   },
   {
    "duration": 21,
    "start_time": "2022-12-08T09:27:17.430Z"
   },
   {
    "duration": 31,
    "start_time": "2022-12-08T09:27:17.453Z"
   },
   {
    "duration": 22,
    "start_time": "2022-12-08T09:27:17.486Z"
   },
   {
    "duration": 40,
    "start_time": "2022-12-08T09:27:17.510Z"
   },
   {
    "duration": 48,
    "start_time": "2022-12-08T09:27:17.553Z"
   },
   {
    "duration": 78,
    "start_time": "2022-12-08T09:27:17.603Z"
   },
   {
    "duration": 17,
    "start_time": "2022-12-08T09:27:17.683Z"
   },
   {
    "duration": 48,
    "start_time": "2022-12-08T09:27:17.702Z"
   },
   {
    "duration": 41,
    "start_time": "2022-12-08T09:27:17.752Z"
   },
   {
    "duration": 68,
    "start_time": "2022-12-08T09:27:17.795Z"
   },
   {
    "duration": 4,
    "start_time": "2022-12-08T09:27:17.865Z"
   },
   {
    "duration": 20,
    "start_time": "2022-12-08T09:27:17.871Z"
   },
   {
    "duration": 61,
    "start_time": "2022-12-08T09:27:17.893Z"
   },
   {
    "duration": 97,
    "start_time": "2022-12-08T09:27:17.956Z"
   },
   {
    "duration": 41,
    "start_time": "2022-12-08T09:27:18.055Z"
   },
   {
    "duration": 54,
    "start_time": "2022-12-08T09:27:18.097Z"
   },
   {
    "duration": 10,
    "start_time": "2022-12-08T09:27:18.152Z"
   },
   {
    "duration": 89,
    "start_time": "2022-12-08T09:27:18.163Z"
   },
   {
    "duration": 13,
    "start_time": "2022-12-08T09:27:18.254Z"
   },
   {
    "duration": 48,
    "start_time": "2022-12-08T09:27:18.268Z"
   },
   {
    "duration": 776,
    "start_time": "2022-12-08T09:27:18.318Z"
   },
   {
    "duration": 893,
    "start_time": "2022-12-08T09:27:19.095Z"
   },
   {
    "duration": 22,
    "start_time": "2022-12-08T09:27:19.990Z"
   },
   {
    "duration": 31,
    "start_time": "2022-12-08T09:27:20.014Z"
   },
   {
    "duration": 48,
    "start_time": "2022-12-08T09:27:20.051Z"
   },
   {
    "duration": 8,
    "start_time": "2022-12-08T09:27:20.101Z"
   },
   {
    "duration": 32,
    "start_time": "2022-12-08T09:27:20.114Z"
   },
   {
    "duration": 26,
    "start_time": "2022-12-08T09:27:20.148Z"
   },
   {
    "duration": 44,
    "start_time": "2022-12-08T09:27:20.175Z"
   },
   {
    "duration": 41,
    "start_time": "2022-12-08T09:27:20.220Z"
   },
   {
    "duration": 197,
    "start_time": "2022-12-08T09:27:20.263Z"
   },
   {
    "duration": 19,
    "start_time": "2022-12-08T09:27:20.462Z"
   },
   {
    "duration": 19,
    "start_time": "2022-12-08T09:27:20.483Z"
   },
   {
    "duration": 35,
    "start_time": "2022-12-08T09:27:20.504Z"
   },
   {
    "duration": 179,
    "start_time": "2022-12-08T09:27:20.545Z"
   },
   {
    "duration": 25,
    "start_time": "2022-12-08T09:27:20.726Z"
   },
   {
    "duration": 23,
    "start_time": "2022-12-08T09:27:20.753Z"
   },
   {
    "duration": 9,
    "start_time": "2022-12-08T09:27:20.778Z"
   },
   {
    "duration": 321,
    "start_time": "2022-12-08T09:27:20.789Z"
   },
   {
    "duration": 5,
    "start_time": "2022-12-08T09:27:21.111Z"
   },
   {
    "duration": 31,
    "start_time": "2022-12-08T09:27:21.118Z"
   },
   {
    "duration": 72,
    "start_time": "2022-12-08T09:27:21.151Z"
   },
   {
    "duration": 13,
    "start_time": "2022-12-08T09:27:21.225Z"
   },
   {
    "duration": 31,
    "start_time": "2022-12-08T09:27:21.245Z"
   },
   {
    "duration": 12,
    "start_time": "2022-12-08T09:27:21.278Z"
   },
   {
    "duration": 10,
    "start_time": "2022-12-08T09:27:21.292Z"
   },
   {
    "duration": 117,
    "start_time": "2022-12-08T09:27:21.304Z"
   },
   {
    "duration": 28,
    "start_time": "2022-12-08T09:27:21.423Z"
   },
   {
    "duration": 21,
    "start_time": "2022-12-08T09:27:21.453Z"
   },
   {
    "duration": 28,
    "start_time": "2022-12-08T09:27:21.476Z"
   },
   {
    "duration": 7,
    "start_time": "2022-12-08T09:27:21.506Z"
   },
   {
    "duration": 38,
    "start_time": "2022-12-08T09:27:21.515Z"
   },
   {
    "duration": 18,
    "start_time": "2022-12-08T09:27:21.555Z"
   },
   {
    "duration": 27,
    "start_time": "2022-12-08T09:27:21.574Z"
   },
   {
    "duration": 48,
    "start_time": "2022-12-08T09:27:21.602Z"
   },
   {
    "duration": 27,
    "start_time": "2022-12-08T09:27:21.652Z"
   },
   {
    "duration": 26,
    "start_time": "2022-12-08T09:27:21.682Z"
   },
   {
    "duration": 34,
    "start_time": "2022-12-08T09:27:21.710Z"
   },
   {
    "duration": 23,
    "start_time": "2022-12-08T09:27:21.747Z"
   },
   {
    "duration": 17,
    "start_time": "2022-12-08T09:27:21.771Z"
   },
   {
    "duration": 43,
    "start_time": "2022-12-08T09:27:21.790Z"
   },
   {
    "duration": 0,
    "start_time": "2022-12-08T09:27:21.840Z"
   },
   {
    "duration": 0,
    "start_time": "2022-12-08T09:27:21.840Z"
   },
   {
    "duration": 0,
    "start_time": "2022-12-08T09:27:21.847Z"
   },
   {
    "duration": 0,
    "start_time": "2022-12-08T09:27:21.848Z"
   },
   {
    "duration": 169,
    "start_time": "2022-12-08T09:31:06.328Z"
   },
   {
    "duration": 231,
    "start_time": "2022-12-08T09:31:56.760Z"
   },
   {
    "duration": 169,
    "start_time": "2022-12-08T09:32:07.888Z"
   },
   {
    "duration": 156,
    "start_time": "2022-12-08T09:33:26.383Z"
   },
   {
    "duration": 165,
    "start_time": "2022-12-08T09:33:55.054Z"
   },
   {
    "duration": 1221,
    "start_time": "2022-12-08T09:49:10.234Z"
   },
   {
    "duration": 237,
    "start_time": "2022-12-08T09:49:11.457Z"
   },
   {
    "duration": 5,
    "start_time": "2022-12-08T09:49:11.696Z"
   },
   {
    "duration": 69,
    "start_time": "2022-12-08T09:49:11.703Z"
   },
   {
    "duration": 176,
    "start_time": "2022-12-08T09:49:11.774Z"
   },
   {
    "duration": 9,
    "start_time": "2022-12-08T09:49:11.952Z"
   },
   {
    "duration": 18,
    "start_time": "2022-12-08T09:49:11.962Z"
   },
   {
    "duration": 69,
    "start_time": "2022-12-08T09:49:11.982Z"
   },
   {
    "duration": 38,
    "start_time": "2022-12-08T09:49:12.053Z"
   },
   {
    "duration": 66,
    "start_time": "2022-12-08T09:49:12.094Z"
   },
   {
    "duration": 11,
    "start_time": "2022-12-08T09:49:12.162Z"
   },
   {
    "duration": 2307,
    "start_time": "2022-12-08T09:49:12.174Z"
   },
   {
    "duration": 55,
    "start_time": "2022-12-08T09:49:14.484Z"
   },
   {
    "duration": 419,
    "start_time": "2022-12-08T09:49:14.541Z"
   },
   {
    "duration": 8,
    "start_time": "2022-12-08T09:49:14.961Z"
   },
   {
    "duration": 11,
    "start_time": "2022-12-08T09:49:14.970Z"
   },
   {
    "duration": 18,
    "start_time": "2022-12-08T09:49:14.982Z"
   },
   {
    "duration": 62,
    "start_time": "2022-12-08T09:49:15.002Z"
   },
   {
    "duration": 120,
    "start_time": "2022-12-08T09:49:15.066Z"
   },
   {
    "duration": 62,
    "start_time": "2022-12-08T09:49:15.188Z"
   },
   {
    "duration": 19,
    "start_time": "2022-12-08T09:49:15.252Z"
   },
   {
    "duration": 69,
    "start_time": "2022-12-08T09:49:15.273Z"
   },
   {
    "duration": 56,
    "start_time": "2022-12-08T09:49:15.344Z"
   },
   {
    "duration": 69,
    "start_time": "2022-12-08T09:49:15.402Z"
   },
   {
    "duration": 5,
    "start_time": "2022-12-08T09:49:15.473Z"
   },
   {
    "duration": 20,
    "start_time": "2022-12-08T09:49:15.481Z"
   },
   {
    "duration": 61,
    "start_time": "2022-12-08T09:49:15.503Z"
   },
   {
    "duration": 67,
    "start_time": "2022-12-08T09:49:15.568Z"
   },
   {
    "duration": 34,
    "start_time": "2022-12-08T09:49:15.637Z"
   },
   {
    "duration": 33,
    "start_time": "2022-12-08T09:49:15.673Z"
   },
   {
    "duration": 9,
    "start_time": "2022-12-08T09:49:15.735Z"
   },
   {
    "duration": 159,
    "start_time": "2022-12-08T09:49:15.746Z"
   },
   {
    "duration": 8,
    "start_time": "2022-12-08T09:49:15.907Z"
   },
   {
    "duration": 30,
    "start_time": "2022-12-08T09:49:15.917Z"
   },
   {
    "duration": 27,
    "start_time": "2022-12-08T09:49:15.948Z"
   },
   {
    "duration": 58,
    "start_time": "2022-12-08T09:49:15.977Z"
   },
   {
    "duration": 27,
    "start_time": "2022-12-08T09:49:16.037Z"
   },
   {
    "duration": 29,
    "start_time": "2022-12-08T09:49:16.066Z"
   },
   {
    "duration": 283,
    "start_time": "2022-12-08T09:49:16.097Z"
   },
   {
    "duration": 19,
    "start_time": "2022-12-08T09:49:16.382Z"
   },
   {
    "duration": 32,
    "start_time": "2022-12-08T09:49:16.403Z"
   },
   {
    "duration": 5,
    "start_time": "2022-12-08T09:49:16.437Z"
   },
   {
    "duration": 181,
    "start_time": "2022-12-08T09:49:16.444Z"
   },
   {
    "duration": 14,
    "start_time": "2022-12-08T09:49:16.626Z"
   },
   {
    "duration": 35,
    "start_time": "2022-12-08T09:49:16.642Z"
   },
   {
    "duration": 25,
    "start_time": "2022-12-08T09:49:16.679Z"
   },
   {
    "duration": 360,
    "start_time": "2022-12-08T09:49:16.707Z"
   },
   {
    "duration": 5,
    "start_time": "2022-12-08T09:49:17.069Z"
   },
   {
    "duration": 41,
    "start_time": "2022-12-08T09:49:17.076Z"
   },
   {
    "duration": 54,
    "start_time": "2022-12-08T09:49:17.119Z"
   },
   {
    "duration": 30,
    "start_time": "2022-12-08T09:49:17.175Z"
   },
   {
    "duration": 38,
    "start_time": "2022-12-08T09:49:17.207Z"
   },
   {
    "duration": 52,
    "start_time": "2022-12-08T09:49:17.247Z"
   },
   {
    "duration": 46,
    "start_time": "2022-12-08T09:49:17.301Z"
   },
   {
    "duration": 110,
    "start_time": "2022-12-08T09:49:17.349Z"
   },
   {
    "duration": 11,
    "start_time": "2022-12-08T09:49:17.460Z"
   },
   {
    "duration": 19,
    "start_time": "2022-12-08T09:49:17.473Z"
   },
   {
    "duration": 53,
    "start_time": "2022-12-08T09:49:17.494Z"
   },
   {
    "duration": 8,
    "start_time": "2022-12-08T09:49:17.549Z"
   },
   {
    "duration": 32,
    "start_time": "2022-12-08T09:49:17.559Z"
   },
   {
    "duration": 19,
    "start_time": "2022-12-08T09:49:17.593Z"
   },
   {
    "duration": 27,
    "start_time": "2022-12-08T09:49:17.613Z"
   },
   {
    "duration": 25,
    "start_time": "2022-12-08T09:49:17.641Z"
   },
   {
    "duration": 25,
    "start_time": "2022-12-08T09:49:17.668Z"
   },
   {
    "duration": 5,
    "start_time": "2022-12-08T09:49:17.695Z"
   },
   {
    "duration": 44,
    "start_time": "2022-12-08T09:49:17.702Z"
   },
   {
    "duration": 20,
    "start_time": "2022-12-08T09:49:17.749Z"
   },
   {
    "duration": 12,
    "start_time": "2022-12-08T09:49:17.771Z"
   },
   {
    "duration": 35,
    "start_time": "2022-12-08T09:49:17.785Z"
   },
   {
    "duration": 0,
    "start_time": "2022-12-08T09:49:17.821Z"
   },
   {
    "duration": 0,
    "start_time": "2022-12-08T09:49:17.822Z"
   },
   {
    "duration": 0,
    "start_time": "2022-12-08T09:49:17.835Z"
   },
   {
    "duration": 0,
    "start_time": "2022-12-08T09:49:17.836Z"
   },
   {
    "duration": 61,
    "start_time": "2022-12-08T09:53:36.371Z"
   },
   {
    "duration": 12,
    "start_time": "2022-12-08T10:04:11.378Z"
   },
   {
    "duration": 5,
    "start_time": "2022-12-08T10:04:19.929Z"
   },
   {
    "duration": 5,
    "start_time": "2022-12-08T10:04:26.608Z"
   },
   {
    "duration": 5,
    "start_time": "2022-12-08T10:05:05.042Z"
   },
   {
    "duration": 22,
    "start_time": "2022-12-08T10:06:56.269Z"
   },
   {
    "duration": 25,
    "start_time": "2022-12-08T10:07:22.592Z"
   },
   {
    "duration": 30,
    "start_time": "2022-12-08T10:07:30.770Z"
   },
   {
    "duration": 169,
    "start_time": "2022-12-08T10:10:02.309Z"
   },
   {
    "duration": 1228,
    "start_time": "2022-12-08T10:10:56.370Z"
   },
   {
    "duration": 312,
    "start_time": "2022-12-08T10:10:57.600Z"
   },
   {
    "duration": 3,
    "start_time": "2022-12-08T10:10:57.914Z"
   },
   {
    "duration": 51,
    "start_time": "2022-12-08T10:10:57.920Z"
   },
   {
    "duration": 195,
    "start_time": "2022-12-08T10:10:57.972Z"
   },
   {
    "duration": 8,
    "start_time": "2022-12-08T10:10:58.169Z"
   },
   {
    "duration": 12,
    "start_time": "2022-12-08T10:10:58.179Z"
   },
   {
    "duration": 58,
    "start_time": "2022-12-08T10:10:58.193Z"
   },
   {
    "duration": 29,
    "start_time": "2022-12-08T10:10:58.253Z"
   },
   {
    "duration": 62,
    "start_time": "2022-12-08T10:10:58.284Z"
   },
   {
    "duration": 14,
    "start_time": "2022-12-08T10:10:58.347Z"
   },
   {
    "duration": 2331,
    "start_time": "2022-12-08T10:10:58.363Z"
   },
   {
    "duration": 60,
    "start_time": "2022-12-08T10:11:00.697Z"
   },
   {
    "duration": 450,
    "start_time": "2022-12-08T10:11:00.759Z"
   },
   {
    "duration": 7,
    "start_time": "2022-12-08T10:11:01.210Z"
   },
   {
    "duration": 21,
    "start_time": "2022-12-08T10:11:01.219Z"
   },
   {
    "duration": 25,
    "start_time": "2022-12-08T10:11:01.244Z"
   },
   {
    "duration": 42,
    "start_time": "2022-12-08T10:11:01.271Z"
   },
   {
    "duration": 65,
    "start_time": "2022-12-08T10:11:01.315Z"
   },
   {
    "duration": 85,
    "start_time": "2022-12-08T10:11:01.382Z"
   },
   {
    "duration": 26,
    "start_time": "2022-12-08T10:11:01.469Z"
   },
   {
    "duration": 30,
    "start_time": "2022-12-08T10:11:01.499Z"
   },
   {
    "duration": 53,
    "start_time": "2022-12-08T10:11:01.530Z"
   },
   {
    "duration": 69,
    "start_time": "2022-12-08T10:11:01.586Z"
   },
   {
    "duration": 6,
    "start_time": "2022-12-08T10:11:01.657Z"
   },
   {
    "duration": 31,
    "start_time": "2022-12-08T10:11:01.665Z"
   },
   {
    "duration": 111,
    "start_time": "2022-12-08T10:11:01.698Z"
   },
   {
    "duration": 64,
    "start_time": "2022-12-08T10:11:01.815Z"
   },
   {
    "duration": 36,
    "start_time": "2022-12-08T10:11:01.881Z"
   },
   {
    "duration": 57,
    "start_time": "2022-12-08T10:11:01.920Z"
   },
   {
    "duration": 13,
    "start_time": "2022-12-08T10:11:01.979Z"
   },
   {
    "duration": 186,
    "start_time": "2022-12-08T10:11:01.994Z"
   },
   {
    "duration": 9,
    "start_time": "2022-12-08T10:11:02.182Z"
   },
   {
    "duration": 65,
    "start_time": "2022-12-08T10:11:02.193Z"
   },
   {
    "duration": 62,
    "start_time": "2022-12-08T10:11:02.260Z"
   },
   {
    "duration": 72,
    "start_time": "2022-12-08T10:11:02.324Z"
   },
   {
    "duration": 69,
    "start_time": "2022-12-08T10:11:02.398Z"
   },
   {
    "duration": 54,
    "start_time": "2022-12-08T10:11:02.469Z"
   },
   {
    "duration": 178,
    "start_time": "2022-12-08T10:11:02.525Z"
   },
   {
    "duration": 112,
    "start_time": "2022-12-08T10:11:02.705Z"
   },
   {
    "duration": 57,
    "start_time": "2022-12-08T10:11:02.819Z"
   },
   {
    "duration": 261,
    "start_time": "2022-12-08T10:11:02.885Z"
   },
   {
    "duration": 19,
    "start_time": "2022-12-08T10:11:03.147Z"
   },
   {
    "duration": 21,
    "start_time": "2022-12-08T10:11:03.168Z"
   },
   {
    "duration": 24,
    "start_time": "2022-12-08T10:11:03.190Z"
   },
   {
    "duration": 198,
    "start_time": "2022-12-08T10:11:03.215Z"
   },
   {
    "duration": 7,
    "start_time": "2022-12-08T10:11:03.414Z"
   },
   {
    "duration": 23,
    "start_time": "2022-12-08T10:11:03.423Z"
   },
   {
    "duration": 28,
    "start_time": "2022-12-08T10:11:03.453Z"
   },
   {
    "duration": 393,
    "start_time": "2022-12-08T10:11:03.483Z"
   },
   {
    "duration": 5,
    "start_time": "2022-12-08T10:11:03.878Z"
   },
   {
    "duration": 28,
    "start_time": "2022-12-08T10:11:03.884Z"
   },
   {
    "duration": 67,
    "start_time": "2022-12-08T10:11:03.914Z"
   },
   {
    "duration": 26,
    "start_time": "2022-12-08T10:11:03.983Z"
   },
   {
    "duration": 31,
    "start_time": "2022-12-08T10:11:04.012Z"
   },
   {
    "duration": 38,
    "start_time": "2022-12-08T10:11:04.045Z"
   },
   {
    "duration": 21,
    "start_time": "2022-12-08T10:11:04.084Z"
   },
   {
    "duration": 114,
    "start_time": "2022-12-08T10:11:04.107Z"
   },
   {
    "duration": 26,
    "start_time": "2022-12-08T10:11:04.223Z"
   },
   {
    "duration": 39,
    "start_time": "2022-12-08T10:11:04.254Z"
   },
   {
    "duration": 58,
    "start_time": "2022-12-08T10:11:04.294Z"
   },
   {
    "duration": 14,
    "start_time": "2022-12-08T10:11:04.354Z"
   },
   {
    "duration": 26,
    "start_time": "2022-12-08T10:11:04.369Z"
   },
   {
    "duration": 30,
    "start_time": "2022-12-08T10:11:04.396Z"
   },
   {
    "duration": 22,
    "start_time": "2022-12-08T10:11:04.428Z"
   },
   {
    "duration": 25,
    "start_time": "2022-12-08T10:11:04.452Z"
   },
   {
    "duration": 29,
    "start_time": "2022-12-08T10:11:04.478Z"
   },
   {
    "duration": 5,
    "start_time": "2022-12-08T10:11:04.508Z"
   },
   {
    "duration": 20,
    "start_time": "2022-12-08T10:11:04.514Z"
   },
   {
    "duration": 24,
    "start_time": "2022-12-08T10:11:04.535Z"
   },
   {
    "duration": 9,
    "start_time": "2022-12-08T10:11:04.560Z"
   },
   {
    "duration": 24,
    "start_time": "2022-12-08T10:11:04.571Z"
   },
   {
    "duration": 0,
    "start_time": "2022-12-08T10:11:04.597Z"
   },
   {
    "duration": 0,
    "start_time": "2022-12-08T10:11:04.598Z"
   },
   {
    "duration": 0,
    "start_time": "2022-12-08T10:11:04.599Z"
   },
   {
    "duration": 0,
    "start_time": "2022-12-08T10:11:04.600Z"
   },
   {
    "duration": 21,
    "start_time": "2022-12-08T10:20:35.464Z"
   },
   {
    "duration": 206,
    "start_time": "2022-12-08T10:32:33.104Z"
   },
   {
    "duration": 337,
    "start_time": "2022-12-08T10:32:39.878Z"
   },
   {
    "duration": 97,
    "start_time": "2022-12-08T10:39:05.123Z"
   },
   {
    "duration": 5,
    "start_time": "2022-12-08T10:41:08.558Z"
   },
   {
    "duration": 107,
    "start_time": "2022-12-08T10:41:12.706Z"
   },
   {
    "duration": 12,
    "start_time": "2022-12-08T10:41:44.267Z"
   },
   {
    "duration": 49,
    "start_time": "2022-12-08T10:41:59.149Z"
   },
   {
    "duration": 22,
    "start_time": "2022-12-08T10:43:09.125Z"
   },
   {
    "duration": 6,
    "start_time": "2022-12-08T10:43:36.490Z"
   },
   {
    "duration": 12,
    "start_time": "2022-12-08T10:44:06.535Z"
   },
   {
    "duration": 13,
    "start_time": "2022-12-08T10:44:18.110Z"
   },
   {
    "duration": 11,
    "start_time": "2022-12-08T10:44:42.901Z"
   },
   {
    "duration": 13,
    "start_time": "2022-12-08T10:44:57.467Z"
   },
   {
    "duration": 1299,
    "start_time": "2022-12-08T10:45:15.301Z"
   },
   {
    "duration": 316,
    "start_time": "2022-12-08T10:45:16.602Z"
   },
   {
    "duration": 4,
    "start_time": "2022-12-08T10:45:16.920Z"
   },
   {
    "duration": 63,
    "start_time": "2022-12-08T10:45:16.937Z"
   },
   {
    "duration": 199,
    "start_time": "2022-12-08T10:45:17.003Z"
   },
   {
    "duration": 9,
    "start_time": "2022-12-08T10:45:17.203Z"
   },
   {
    "duration": 8,
    "start_time": "2022-12-08T10:45:17.235Z"
   },
   {
    "duration": 42,
    "start_time": "2022-12-08T10:45:17.245Z"
   },
   {
    "duration": 46,
    "start_time": "2022-12-08T10:45:17.289Z"
   },
   {
    "duration": 69,
    "start_time": "2022-12-08T10:45:17.338Z"
   },
   {
    "duration": 10,
    "start_time": "2022-12-08T10:45:17.408Z"
   },
   {
    "duration": 2661,
    "start_time": "2022-12-08T10:45:17.436Z"
   },
   {
    "duration": 45,
    "start_time": "2022-12-08T10:45:20.100Z"
   },
   {
    "duration": 576,
    "start_time": "2022-12-08T10:45:20.147Z"
   },
   {
    "duration": 12,
    "start_time": "2022-12-08T10:45:20.725Z"
   },
   {
    "duration": 73,
    "start_time": "2022-12-08T10:45:20.739Z"
   },
   {
    "duration": 52,
    "start_time": "2022-12-08T10:45:20.814Z"
   },
   {
    "duration": 81,
    "start_time": "2022-12-08T10:45:20.868Z"
   },
   {
    "duration": 119,
    "start_time": "2022-12-08T10:45:20.952Z"
   },
   {
    "duration": 66,
    "start_time": "2022-12-08T10:45:21.073Z"
   },
   {
    "duration": 59,
    "start_time": "2022-12-08T10:45:21.140Z"
   },
   {
    "duration": 75,
    "start_time": "2022-12-08T10:45:21.201Z"
   },
   {
    "duration": 80,
    "start_time": "2022-12-08T10:45:21.278Z"
   },
   {
    "duration": 84,
    "start_time": "2022-12-08T10:45:21.360Z"
   },
   {
    "duration": 24,
    "start_time": "2022-12-08T10:45:21.446Z"
   },
   {
    "duration": 46,
    "start_time": "2022-12-08T10:45:21.472Z"
   },
   {
    "duration": 83,
    "start_time": "2022-12-08T10:45:21.520Z"
   },
   {
    "duration": 63,
    "start_time": "2022-12-08T10:45:21.608Z"
   },
   {
    "duration": 49,
    "start_time": "2022-12-08T10:45:21.673Z"
   },
   {
    "duration": 40,
    "start_time": "2022-12-08T10:45:21.734Z"
   },
   {
    "duration": 9,
    "start_time": "2022-12-08T10:45:21.776Z"
   },
   {
    "duration": 213,
    "start_time": "2022-12-08T10:45:21.787Z"
   },
   {
    "duration": 11,
    "start_time": "2022-12-08T10:45:22.002Z"
   },
   {
    "duration": 85,
    "start_time": "2022-12-08T10:45:22.015Z"
   },
   {
    "duration": 50,
    "start_time": "2022-12-08T10:45:22.102Z"
   },
   {
    "duration": 52,
    "start_time": "2022-12-08T10:45:22.154Z"
   },
   {
    "duration": 115,
    "start_time": "2022-12-08T10:45:22.208Z"
   },
   {
    "duration": 62,
    "start_time": "2022-12-08T10:45:22.326Z"
   },
   {
    "duration": 221,
    "start_time": "2022-12-08T10:45:22.395Z"
   },
   {
    "duration": 40,
    "start_time": "2022-12-08T10:45:22.618Z"
   },
   {
    "duration": 55,
    "start_time": "2022-12-08T10:45:22.661Z"
   },
   {
    "duration": 379,
    "start_time": "2022-12-08T10:45:22.718Z"
   },
   {
    "duration": 36,
    "start_time": "2022-12-08T10:45:23.099Z"
   },
   {
    "duration": 17,
    "start_time": "2022-12-08T10:45:23.137Z"
   },
   {
    "duration": 17,
    "start_time": "2022-12-08T10:45:23.156Z"
   },
   {
    "duration": 213,
    "start_time": "2022-12-08T10:45:23.175Z"
   },
   {
    "duration": 10,
    "start_time": "2022-12-08T10:45:23.390Z"
   },
   {
    "duration": 27,
    "start_time": "2022-12-08T10:45:23.402Z"
   },
   {
    "duration": 18,
    "start_time": "2022-12-08T10:45:23.436Z"
   },
   {
    "duration": 168,
    "start_time": "2022-12-08T10:45:23.456Z"
   },
   {
    "duration": 16,
    "start_time": "2022-12-08T10:45:23.636Z"
   },
   {
    "duration": 44,
    "start_time": "2022-12-08T10:45:23.654Z"
   },
   {
    "duration": 100,
    "start_time": "2022-12-08T10:45:23.701Z"
   },
   {
    "duration": 7,
    "start_time": "2022-12-08T10:45:23.803Z"
   },
   {
    "duration": 49,
    "start_time": "2022-12-08T10:45:23.811Z"
   },
   {
    "duration": 99,
    "start_time": "2022-12-08T10:45:23.862Z"
   },
   {
    "duration": 13,
    "start_time": "2022-12-08T10:45:23.963Z"
   },
   {
    "duration": 41,
    "start_time": "2022-12-08T10:45:23.978Z"
   },
   {
    "duration": 44,
    "start_time": "2022-12-08T10:45:24.021Z"
   },
   {
    "duration": 32,
    "start_time": "2022-12-08T10:45:24.067Z"
   },
   {
    "duration": 134,
    "start_time": "2022-12-08T10:45:24.101Z"
   },
   {
    "duration": 10,
    "start_time": "2022-12-08T10:45:24.237Z"
   },
   {
    "duration": 45,
    "start_time": "2022-12-08T10:45:24.248Z"
   },
   {
    "duration": 42,
    "start_time": "2022-12-08T10:45:24.295Z"
   },
   {
    "duration": 25,
    "start_time": "2022-12-08T10:45:24.338Z"
   },
   {
    "duration": 46,
    "start_time": "2022-12-08T10:45:24.365Z"
   },
   {
    "duration": 35,
    "start_time": "2022-12-08T10:45:24.413Z"
   },
   {
    "duration": 33,
    "start_time": "2022-12-08T10:45:24.451Z"
   },
   {
    "duration": 49,
    "start_time": "2022-12-08T10:45:24.486Z"
   },
   {
    "duration": 34,
    "start_time": "2022-12-08T10:45:24.537Z"
   },
   {
    "duration": 23,
    "start_time": "2022-12-08T10:45:24.573Z"
   },
   {
    "duration": 49,
    "start_time": "2022-12-08T10:45:24.598Z"
   },
   {
    "duration": 31,
    "start_time": "2022-12-08T10:45:24.649Z"
   },
   {
    "duration": 24,
    "start_time": "2022-12-08T10:45:24.682Z"
   },
   {
    "duration": 44,
    "start_time": "2022-12-08T10:45:24.708Z"
   },
   {
    "duration": 0,
    "start_time": "2022-12-08T10:45:24.753Z"
   },
   {
    "duration": 0,
    "start_time": "2022-12-08T10:45:24.755Z"
   },
   {
    "duration": 0,
    "start_time": "2022-12-08T10:45:24.756Z"
   },
   {
    "duration": 0,
    "start_time": "2022-12-08T10:45:24.757Z"
   },
   {
    "duration": 4,
    "start_time": "2022-12-08T10:46:08.692Z"
   },
   {
    "duration": 4,
    "start_time": "2022-12-08T10:47:05.311Z"
   },
   {
    "duration": 5,
    "start_time": "2022-12-08T10:47:24.820Z"
   },
   {
    "duration": 11,
    "start_time": "2022-12-08T10:47:29.964Z"
   },
   {
    "duration": 4,
    "start_time": "2022-12-08T10:47:41.594Z"
   },
   {
    "duration": 73,
    "start_time": "2022-12-08T10:48:01.276Z"
   },
   {
    "duration": 55,
    "start_time": "2022-12-08T10:48:17.070Z"
   },
   {
    "duration": 4,
    "start_time": "2022-12-08T10:48:23.907Z"
   },
   {
    "duration": 54,
    "start_time": "2022-12-08T10:48:26.560Z"
   },
   {
    "duration": 1318,
    "start_time": "2022-12-08T10:48:35.538Z"
   },
   {
    "duration": 250,
    "start_time": "2022-12-08T10:48:36.858Z"
   },
   {
    "duration": 4,
    "start_time": "2022-12-08T10:48:37.110Z"
   },
   {
    "duration": 85,
    "start_time": "2022-12-08T10:48:37.116Z"
   },
   {
    "duration": 175,
    "start_time": "2022-12-08T10:48:37.203Z"
   },
   {
    "duration": 8,
    "start_time": "2022-12-08T10:48:37.380Z"
   },
   {
    "duration": 24,
    "start_time": "2022-12-08T10:48:37.390Z"
   },
   {
    "duration": 50,
    "start_time": "2022-12-08T10:48:37.416Z"
   },
   {
    "duration": 31,
    "start_time": "2022-12-08T10:48:37.468Z"
   },
   {
    "duration": 66,
    "start_time": "2022-12-08T10:48:37.502Z"
   },
   {
    "duration": 11,
    "start_time": "2022-12-08T10:48:37.570Z"
   },
   {
    "duration": 2363,
    "start_time": "2022-12-08T10:48:37.583Z"
   },
   {
    "duration": 25,
    "start_time": "2022-12-08T10:48:39.948Z"
   },
   {
    "duration": 463,
    "start_time": "2022-12-08T10:48:39.974Z"
   },
   {
    "duration": 7,
    "start_time": "2022-12-08T10:48:40.439Z"
   },
   {
    "duration": 25,
    "start_time": "2022-12-08T10:48:40.447Z"
   },
   {
    "duration": 35,
    "start_time": "2022-12-08T10:48:40.474Z"
   },
   {
    "duration": 49,
    "start_time": "2022-12-08T10:48:40.510Z"
   },
   {
    "duration": 53,
    "start_time": "2022-12-08T10:48:40.561Z"
   },
   {
    "duration": 71,
    "start_time": "2022-12-08T10:48:40.615Z"
   },
   {
    "duration": 17,
    "start_time": "2022-12-08T10:48:40.687Z"
   },
   {
    "duration": 49,
    "start_time": "2022-12-08T10:48:40.706Z"
   },
   {
    "duration": 51,
    "start_time": "2022-12-08T10:48:40.757Z"
   },
   {
    "duration": 79,
    "start_time": "2022-12-08T10:48:40.809Z"
   },
   {
    "duration": 5,
    "start_time": "2022-12-08T10:48:40.889Z"
   },
   {
    "duration": 55,
    "start_time": "2022-12-08T10:48:40.895Z"
   },
   {
    "duration": 66,
    "start_time": "2022-12-08T10:48:40.951Z"
   },
   {
    "duration": 55,
    "start_time": "2022-12-08T10:48:41.021Z"
   },
   {
    "duration": 33,
    "start_time": "2022-12-08T10:48:41.078Z"
   },
   {
    "duration": 48,
    "start_time": "2022-12-08T10:48:41.113Z"
   },
   {
    "duration": 9,
    "start_time": "2022-12-08T10:48:41.163Z"
   },
   {
    "duration": 171,
    "start_time": "2022-12-08T10:48:41.173Z"
   },
   {
    "duration": 8,
    "start_time": "2022-12-08T10:48:41.346Z"
   },
   {
    "duration": 19,
    "start_time": "2022-12-08T10:48:41.356Z"
   },
   {
    "duration": 41,
    "start_time": "2022-12-08T10:48:41.377Z"
   },
   {
    "duration": 66,
    "start_time": "2022-12-08T10:48:41.420Z"
   },
   {
    "duration": 72,
    "start_time": "2022-12-08T10:48:41.487Z"
   },
   {
    "duration": 23,
    "start_time": "2022-12-08T10:48:41.561Z"
   },
   {
    "duration": 162,
    "start_time": "2022-12-08T10:48:41.585Z"
   },
   {
    "duration": 22,
    "start_time": "2022-12-08T10:48:41.749Z"
   },
   {
    "duration": 18,
    "start_time": "2022-12-08T10:48:41.773Z"
   },
   {
    "duration": 275,
    "start_time": "2022-12-08T10:48:41.793Z"
   },
   {
    "duration": 17,
    "start_time": "2022-12-08T10:48:42.070Z"
   },
   {
    "duration": 24,
    "start_time": "2022-12-08T10:48:42.089Z"
   },
   {
    "duration": 9,
    "start_time": "2022-12-08T10:48:42.114Z"
   },
   {
    "duration": 178,
    "start_time": "2022-12-08T10:48:42.134Z"
   },
   {
    "duration": 9,
    "start_time": "2022-12-08T10:48:42.314Z"
   },
   {
    "duration": 18,
    "start_time": "2022-12-08T10:48:42.336Z"
   },
   {
    "duration": 5,
    "start_time": "2022-12-08T10:48:42.356Z"
   },
   {
    "duration": 148,
    "start_time": "2022-12-08T10:48:42.363Z"
   },
   {
    "duration": 32,
    "start_time": "2022-12-08T10:48:42.513Z"
   },
   {
    "duration": 14,
    "start_time": "2022-12-08T10:48:42.547Z"
   },
   {
    "duration": 98,
    "start_time": "2022-12-08T10:48:42.564Z"
   },
   {
    "duration": 6,
    "start_time": "2022-12-08T10:48:42.664Z"
   },
   {
    "duration": 27,
    "start_time": "2022-12-08T10:48:42.673Z"
   },
   {
    "duration": 81,
    "start_time": "2022-12-08T10:48:42.701Z"
   },
   {
    "duration": 10,
    "start_time": "2022-12-08T10:48:42.784Z"
   },
   {
    "duration": 14,
    "start_time": "2022-12-08T10:48:42.796Z"
   },
   {
    "duration": 30,
    "start_time": "2022-12-08T10:48:42.811Z"
   },
   {
    "duration": 9,
    "start_time": "2022-12-08T10:48:42.843Z"
   },
   {
    "duration": 124,
    "start_time": "2022-12-08T10:48:42.854Z"
   },
   {
    "duration": 12,
    "start_time": "2022-12-08T10:48:42.980Z"
   },
   {
    "duration": 48,
    "start_time": "2022-12-08T10:48:42.994Z"
   },
   {
    "duration": 22,
    "start_time": "2022-12-08T10:48:43.044Z"
   },
   {
    "duration": 5,
    "start_time": "2022-12-08T10:48:43.067Z"
   },
   {
    "duration": 20,
    "start_time": "2022-12-08T10:48:43.073Z"
   },
   {
    "duration": 16,
    "start_time": "2022-12-08T10:48:43.095Z"
   },
   {
    "duration": 30,
    "start_time": "2022-12-08T10:48:43.113Z"
   },
   {
    "duration": 18,
    "start_time": "2022-12-08T10:48:43.145Z"
   },
   {
    "duration": 16,
    "start_time": "2022-12-08T10:48:43.164Z"
   },
   {
    "duration": 5,
    "start_time": "2022-12-08T10:48:43.182Z"
   },
   {
    "duration": 21,
    "start_time": "2022-12-08T10:48:43.188Z"
   },
   {
    "duration": 40,
    "start_time": "2022-12-08T10:48:43.211Z"
   },
   {
    "duration": 10,
    "start_time": "2022-12-08T10:48:43.252Z"
   },
   {
    "duration": 31,
    "start_time": "2022-12-08T10:48:43.264Z"
   },
   {
    "duration": 0,
    "start_time": "2022-12-08T10:48:43.297Z"
   },
   {
    "duration": 0,
    "start_time": "2022-12-08T10:48:43.298Z"
   },
   {
    "duration": 0,
    "start_time": "2022-12-08T10:48:43.299Z"
   },
   {
    "duration": 0,
    "start_time": "2022-12-08T10:48:43.300Z"
   },
   {
    "duration": 77,
    "start_time": "2022-12-08T10:50:12.594Z"
   },
   {
    "duration": 5,
    "start_time": "2022-12-08T11:04:23.039Z"
   },
   {
    "duration": 7,
    "start_time": "2022-12-08T11:04:41.821Z"
   },
   {
    "duration": 15,
    "start_time": "2022-12-08T11:04:51.496Z"
   },
   {
    "duration": 59,
    "start_time": "2022-12-08T11:05:00.116Z"
   },
   {
    "duration": 68,
    "start_time": "2022-12-08T11:05:49.051Z"
   },
   {
    "duration": 12,
    "start_time": "2022-12-08T11:19:29.568Z"
   },
   {
    "duration": 18,
    "start_time": "2022-12-08T11:27:03.660Z"
   },
   {
    "duration": 9,
    "start_time": "2022-12-08T11:27:21.273Z"
   },
   {
    "duration": 14,
    "start_time": "2022-12-08T11:28:39.569Z"
   },
   {
    "duration": 17,
    "start_time": "2022-12-08T11:31:16.434Z"
   },
   {
    "duration": 7,
    "start_time": "2022-12-08T11:33:31.135Z"
   },
   {
    "duration": 8,
    "start_time": "2022-12-08T11:33:46.598Z"
   },
   {
    "duration": 15,
    "start_time": "2022-12-08T11:36:06.658Z"
   },
   {
    "duration": 11,
    "start_time": "2022-12-08T11:36:27.222Z"
   },
   {
    "duration": 11,
    "start_time": "2022-12-08T11:37:16.734Z"
   },
   {
    "duration": 22,
    "start_time": "2022-12-08T11:37:30.238Z"
   },
   {
    "duration": 9,
    "start_time": "2022-12-08T11:38:41.492Z"
   },
   {
    "duration": 10,
    "start_time": "2022-12-08T11:47:37.204Z"
   },
   {
    "duration": 20,
    "start_time": "2022-12-08T11:47:44.159Z"
   },
   {
    "duration": 208,
    "start_time": "2022-12-08T11:49:01.631Z"
   },
   {
    "duration": 210,
    "start_time": "2022-12-08T11:49:15.043Z"
   },
   {
    "duration": 7,
    "start_time": "2022-12-08T11:50:47.751Z"
   },
   {
    "duration": 9,
    "start_time": "2022-12-08T12:01:13.297Z"
   },
   {
    "duration": 12,
    "start_time": "2022-12-08T12:04:15.540Z"
   },
   {
    "duration": 7,
    "start_time": "2022-12-08T12:04:34.106Z"
   },
   {
    "duration": 9,
    "start_time": "2022-12-08T12:04:52.101Z"
   },
   {
    "duration": 9,
    "start_time": "2022-12-08T12:07:00.535Z"
   },
   {
    "duration": 21,
    "start_time": "2022-12-08T12:07:46.471Z"
   },
   {
    "duration": 5,
    "start_time": "2022-12-08T12:08:36.328Z"
   },
   {
    "duration": 6,
    "start_time": "2022-12-08T12:09:04.196Z"
   },
   {
    "duration": 22,
    "start_time": "2022-12-08T12:11:11.272Z"
   },
   {
    "duration": 6,
    "start_time": "2022-12-08T12:11:49.894Z"
   },
   {
    "duration": 8,
    "start_time": "2022-12-08T12:12:14.083Z"
   },
   {
    "duration": 6,
    "start_time": "2022-12-08T12:12:20.237Z"
   },
   {
    "duration": 11,
    "start_time": "2022-12-08T12:13:35.536Z"
   },
   {
    "duration": 12,
    "start_time": "2022-12-08T12:13:45.367Z"
   },
   {
    "duration": 10,
    "start_time": "2022-12-08T12:15:14.296Z"
   },
   {
    "duration": 8,
    "start_time": "2022-12-08T12:15:34.465Z"
   },
   {
    "duration": 7,
    "start_time": "2022-12-08T12:16:28.238Z"
   },
   {
    "duration": 66,
    "start_time": "2022-12-08T12:16:43.727Z"
   },
   {
    "duration": 6,
    "start_time": "2022-12-08T12:16:48.604Z"
   },
   {
    "duration": 9,
    "start_time": "2022-12-08T12:16:55.415Z"
   },
   {
    "duration": 20,
    "start_time": "2022-12-08T12:17:12.713Z"
   },
   {
    "duration": 1149,
    "start_time": "2022-12-08T12:21:37.432Z"
   },
   {
    "duration": 317,
    "start_time": "2022-12-08T12:21:38.583Z"
   },
   {
    "duration": 4,
    "start_time": "2022-12-08T12:21:38.902Z"
   },
   {
    "duration": 59,
    "start_time": "2022-12-08T12:21:38.908Z"
   },
   {
    "duration": 155,
    "start_time": "2022-12-08T12:21:38.968Z"
   },
   {
    "duration": 7,
    "start_time": "2022-12-08T12:21:39.136Z"
   },
   {
    "duration": 10,
    "start_time": "2022-12-08T12:21:39.145Z"
   },
   {
    "duration": 29,
    "start_time": "2022-12-08T12:21:39.157Z"
   },
   {
    "duration": 48,
    "start_time": "2022-12-08T12:21:39.188Z"
   },
   {
    "duration": 53,
    "start_time": "2022-12-08T12:21:39.238Z"
   },
   {
    "duration": 4,
    "start_time": "2022-12-08T12:21:39.293Z"
   },
   {
    "duration": 2063,
    "start_time": "2022-12-08T12:21:39.299Z"
   },
   {
    "duration": 22,
    "start_time": "2022-12-08T12:21:41.365Z"
   },
   {
    "duration": 417,
    "start_time": "2022-12-08T12:21:41.388Z"
   },
   {
    "duration": 7,
    "start_time": "2022-12-08T12:21:41.806Z"
   },
   {
    "duration": 8,
    "start_time": "2022-12-08T12:21:41.814Z"
   },
   {
    "duration": 9,
    "start_time": "2022-12-08T12:21:41.835Z"
   },
   {
    "duration": 30,
    "start_time": "2022-12-08T12:21:41.845Z"
   },
   {
    "duration": 81,
    "start_time": "2022-12-08T12:21:41.877Z"
   },
   {
    "duration": 50,
    "start_time": "2022-12-08T12:21:41.960Z"
   },
   {
    "duration": 35,
    "start_time": "2022-12-08T12:21:42.012Z"
   },
   {
    "duration": 30,
    "start_time": "2022-12-08T12:21:42.049Z"
   },
   {
    "duration": 58,
    "start_time": "2022-12-08T12:21:42.080Z"
   },
   {
    "duration": 47,
    "start_time": "2022-12-08T12:21:42.140Z"
   },
   {
    "duration": 4,
    "start_time": "2022-12-08T12:21:42.188Z"
   },
   {
    "duration": 14,
    "start_time": "2022-12-08T12:21:42.193Z"
   },
   {
    "duration": 60,
    "start_time": "2022-12-08T12:21:42.209Z"
   },
   {
    "duration": 66,
    "start_time": "2022-12-08T12:21:42.274Z"
   },
   {
    "duration": 43,
    "start_time": "2022-12-08T12:21:42.342Z"
   },
   {
    "duration": 60,
    "start_time": "2022-12-08T12:21:42.387Z"
   },
   {
    "duration": 13,
    "start_time": "2022-12-08T12:21:42.449Z"
   },
   {
    "duration": 209,
    "start_time": "2022-12-08T12:21:42.465Z"
   },
   {
    "duration": 11,
    "start_time": "2022-12-08T12:21:42.676Z"
   },
   {
    "duration": 30,
    "start_time": "2022-12-08T12:21:42.691Z"
   },
   {
    "duration": 32,
    "start_time": "2022-12-08T12:21:42.723Z"
   },
   {
    "duration": 43,
    "start_time": "2022-12-08T12:21:42.756Z"
   },
   {
    "duration": 67,
    "start_time": "2022-12-08T12:21:42.801Z"
   },
   {
    "duration": 32,
    "start_time": "2022-12-08T12:21:42.869Z"
   },
   {
    "duration": 145,
    "start_time": "2022-12-08T12:21:42.903Z"
   },
   {
    "duration": 22,
    "start_time": "2022-12-08T12:21:43.050Z"
   },
   {
    "duration": 18,
    "start_time": "2022-12-08T12:21:43.074Z"
   },
   {
    "duration": 281,
    "start_time": "2022-12-08T12:21:43.094Z"
   },
   {
    "duration": 19,
    "start_time": "2022-12-08T12:21:43.376Z"
   },
   {
    "duration": 14,
    "start_time": "2022-12-08T12:21:43.397Z"
   },
   {
    "duration": 26,
    "start_time": "2022-12-08T12:21:43.413Z"
   },
   {
    "duration": 175,
    "start_time": "2022-12-08T12:21:43.441Z"
   },
   {
    "duration": 8,
    "start_time": "2022-12-08T12:21:43.618Z"
   },
   {
    "duration": 23,
    "start_time": "2022-12-08T12:21:43.634Z"
   },
   {
    "duration": 25,
    "start_time": "2022-12-08T12:21:43.659Z"
   },
   {
    "duration": 123,
    "start_time": "2022-12-08T12:21:43.686Z"
   },
   {
    "duration": 27,
    "start_time": "2022-12-08T12:21:43.813Z"
   },
   {
    "duration": 65,
    "start_time": "2022-12-08T12:21:43.842Z"
   },
   {
    "duration": 120,
    "start_time": "2022-12-08T12:21:43.909Z"
   },
   {
    "duration": 8,
    "start_time": "2022-12-08T12:21:44.031Z"
   },
   {
    "duration": 24,
    "start_time": "2022-12-08T12:21:44.040Z"
   },
   {
    "duration": 55,
    "start_time": "2022-12-08T12:21:44.066Z"
   },
   {
    "duration": 21,
    "start_time": "2022-12-08T12:21:44.122Z"
   },
   {
    "duration": 33,
    "start_time": "2022-12-08T12:21:44.145Z"
   },
   {
    "duration": 14,
    "start_time": "2022-12-08T12:21:44.179Z"
   },
   {
    "duration": 20,
    "start_time": "2022-12-08T12:21:44.195Z"
   },
   {
    "duration": 205,
    "start_time": "2022-12-08T12:21:44.216Z"
   },
   {
    "duration": 23,
    "start_time": "2022-12-08T12:21:44.422Z"
   },
   {
    "duration": 11,
    "start_time": "2022-12-08T12:21:44.447Z"
   },
   {
    "duration": 27,
    "start_time": "2022-12-08T12:21:44.460Z"
   },
   {
    "duration": 14,
    "start_time": "2022-12-08T12:21:44.490Z"
   },
   {
    "duration": 30,
    "start_time": "2022-12-08T12:21:44.506Z"
   },
   {
    "duration": 8,
    "start_time": "2022-12-08T12:21:44.538Z"
   },
   {
    "duration": 27,
    "start_time": "2022-12-08T12:21:44.548Z"
   },
   {
    "duration": 101,
    "start_time": "2022-12-08T12:21:44.576Z"
   },
   {
    "duration": 11,
    "start_time": "2022-12-08T12:21:44.679Z"
   },
   {
    "duration": 54,
    "start_time": "2022-12-08T12:21:44.691Z"
   },
   {
    "duration": 37,
    "start_time": "2022-12-08T12:21:44.747Z"
   },
   {
    "duration": 25,
    "start_time": "2022-12-08T12:21:44.785Z"
   },
   {
    "duration": 26,
    "start_time": "2022-12-08T12:21:44.812Z"
   },
   {
    "duration": 17,
    "start_time": "2022-12-08T12:21:44.840Z"
   },
   {
    "duration": 32,
    "start_time": "2022-12-08T12:21:44.859Z"
   },
   {
    "duration": 22,
    "start_time": "2022-12-08T12:21:44.893Z"
   },
   {
    "duration": 35,
    "start_time": "2022-12-08T12:21:44.917Z"
   },
   {
    "duration": 23,
    "start_time": "2022-12-08T12:21:44.954Z"
   },
   {
    "duration": 64,
    "start_time": "2022-12-08T12:21:44.979Z"
   },
   {
    "duration": 31,
    "start_time": "2022-12-08T12:21:45.045Z"
   },
   {
    "duration": 21,
    "start_time": "2022-12-08T12:21:45.082Z"
   },
   {
    "duration": 36,
    "start_time": "2022-12-08T12:21:45.105Z"
   },
   {
    "duration": 0,
    "start_time": "2022-12-08T12:21:45.144Z"
   },
   {
    "duration": 0,
    "start_time": "2022-12-08T12:21:45.145Z"
   },
   {
    "duration": 0,
    "start_time": "2022-12-08T12:21:45.146Z"
   },
   {
    "duration": 0,
    "start_time": "2022-12-08T12:21:45.148Z"
   },
   {
    "duration": 11,
    "start_time": "2022-12-08T12:32:15.492Z"
   },
   {
    "duration": 6,
    "start_time": "2022-12-08T12:33:55.858Z"
   },
   {
    "duration": 64,
    "start_time": "2022-12-08T12:35:42.113Z"
   },
   {
    "duration": 46,
    "start_time": "2022-12-08T12:35:57.750Z"
   },
   {
    "duration": 19,
    "start_time": "2022-12-08T12:36:11.895Z"
   },
   {
    "duration": 16,
    "start_time": "2022-12-08T12:37:13.035Z"
   },
   {
    "duration": 20,
    "start_time": "2022-12-08T12:37:30.614Z"
   },
   {
    "duration": 10,
    "start_time": "2022-12-08T12:38:22.526Z"
   },
   {
    "duration": 10,
    "start_time": "2022-12-08T12:38:41.777Z"
   },
   {
    "duration": 7,
    "start_time": "2022-12-08T12:40:24.303Z"
   },
   {
    "duration": 13,
    "start_time": "2022-12-08T12:43:01.657Z"
   },
   {
    "duration": 13,
    "start_time": "2022-12-08T12:45:39.714Z"
   },
   {
    "duration": 14,
    "start_time": "2022-12-08T12:47:25.791Z"
   },
   {
    "duration": 12,
    "start_time": "2022-12-08T12:51:39.193Z"
   },
   {
    "duration": 1284,
    "start_time": "2022-12-08T12:52:26.330Z"
   },
   {
    "duration": 312,
    "start_time": "2022-12-08T12:52:27.616Z"
   },
   {
    "duration": 7,
    "start_time": "2022-12-08T12:52:27.929Z"
   },
   {
    "duration": 43,
    "start_time": "2022-12-08T12:52:27.938Z"
   },
   {
    "duration": 183,
    "start_time": "2022-12-08T12:52:27.983Z"
   },
   {
    "duration": 8,
    "start_time": "2022-12-08T12:52:28.168Z"
   },
   {
    "duration": 15,
    "start_time": "2022-12-08T12:52:28.177Z"
   },
   {
    "duration": 50,
    "start_time": "2022-12-08T12:52:28.194Z"
   },
   {
    "duration": 31,
    "start_time": "2022-12-08T12:52:28.246Z"
   },
   {
    "duration": 67,
    "start_time": "2022-12-08T12:52:28.279Z"
   },
   {
    "duration": 5,
    "start_time": "2022-12-08T12:52:28.348Z"
   },
   {
    "duration": 2226,
    "start_time": "2022-12-08T12:52:28.355Z"
   },
   {
    "duration": 61,
    "start_time": "2022-12-08T12:52:30.584Z"
   },
   {
    "duration": 441,
    "start_time": "2022-12-08T12:52:30.647Z"
   },
   {
    "duration": 7,
    "start_time": "2022-12-08T12:52:31.090Z"
   },
   {
    "duration": 38,
    "start_time": "2022-12-08T12:52:31.099Z"
   },
   {
    "duration": 21,
    "start_time": "2022-12-08T12:52:31.138Z"
   },
   {
    "duration": 44,
    "start_time": "2022-12-08T12:52:31.161Z"
   },
   {
    "duration": 57,
    "start_time": "2022-12-08T12:52:31.206Z"
   },
   {
    "duration": 54,
    "start_time": "2022-12-08T12:52:31.265Z"
   },
   {
    "duration": 19,
    "start_time": "2022-12-08T12:52:31.335Z"
   },
   {
    "duration": 32,
    "start_time": "2022-12-08T12:52:31.356Z"
   },
   {
    "duration": 62,
    "start_time": "2022-12-08T12:52:31.390Z"
   },
   {
    "duration": 57,
    "start_time": "2022-12-08T12:52:31.453Z"
   },
   {
    "duration": 5,
    "start_time": "2022-12-08T12:52:31.511Z"
   },
   {
    "duration": 10,
    "start_time": "2022-12-08T12:52:31.536Z"
   },
   {
    "duration": 49,
    "start_time": "2022-12-08T12:52:31.547Z"
   },
   {
    "duration": 78,
    "start_time": "2022-12-08T12:52:31.601Z"
   },
   {
    "duration": 36,
    "start_time": "2022-12-08T12:52:31.680Z"
   },
   {
    "duration": 47,
    "start_time": "2022-12-08T12:52:31.718Z"
   },
   {
    "duration": 10,
    "start_time": "2022-12-08T12:52:31.767Z"
   },
   {
    "duration": 168,
    "start_time": "2022-12-08T12:52:31.779Z"
   },
   {
    "duration": 8,
    "start_time": "2022-12-08T12:52:31.949Z"
   },
   {
    "duration": 22,
    "start_time": "2022-12-08T12:52:31.958Z"
   },
   {
    "duration": 25,
    "start_time": "2022-12-08T12:52:31.981Z"
   },
   {
    "duration": 65,
    "start_time": "2022-12-08T12:52:32.008Z"
   },
   {
    "duration": 63,
    "start_time": "2022-12-08T12:52:32.075Z"
   },
   {
    "duration": 24,
    "start_time": "2022-12-08T12:52:32.140Z"
   },
   {
    "duration": 173,
    "start_time": "2022-12-08T12:52:32.166Z"
   },
   {
    "duration": 25,
    "start_time": "2022-12-08T12:52:32.341Z"
   },
   {
    "duration": 26,
    "start_time": "2022-12-08T12:52:32.368Z"
   },
   {
    "duration": 430,
    "start_time": "2022-12-08T12:52:32.397Z"
   },
   {
    "duration": 21,
    "start_time": "2022-12-08T12:52:32.830Z"
   },
   {
    "duration": 15,
    "start_time": "2022-12-08T12:52:32.853Z"
   },
   {
    "duration": 5,
    "start_time": "2022-12-08T12:52:32.870Z"
   },
   {
    "duration": 184,
    "start_time": "2022-12-08T12:52:32.876Z"
   },
   {
    "duration": 7,
    "start_time": "2022-12-08T12:52:33.062Z"
   },
   {
    "duration": 21,
    "start_time": "2022-12-08T12:52:33.070Z"
   },
   {
    "duration": 5,
    "start_time": "2022-12-08T12:52:33.093Z"
   },
   {
    "duration": 149,
    "start_time": "2022-12-08T12:52:33.099Z"
   },
   {
    "duration": 13,
    "start_time": "2022-12-08T12:52:33.251Z"
   },
   {
    "duration": 15,
    "start_time": "2022-12-08T12:52:33.266Z"
   },
   {
    "duration": 96,
    "start_time": "2022-12-08T12:52:33.283Z"
   },
   {
    "duration": 7,
    "start_time": "2022-12-08T12:52:33.381Z"
   },
   {
    "duration": 24,
    "start_time": "2022-12-08T12:52:33.390Z"
   },
   {
    "duration": 70,
    "start_time": "2022-12-08T12:52:33.416Z"
   },
   {
    "duration": 10,
    "start_time": "2022-12-08T12:52:33.488Z"
   },
   {
    "duration": 35,
    "start_time": "2022-12-08T12:52:33.500Z"
   },
   {
    "duration": 11,
    "start_time": "2022-12-08T12:52:33.537Z"
   },
   {
    "duration": 17,
    "start_time": "2022-12-08T12:52:33.550Z"
   },
   {
    "duration": 231,
    "start_time": "2022-12-08T12:52:33.569Z"
   },
   {
    "duration": 8,
    "start_time": "2022-12-08T12:52:33.802Z"
   },
   {
    "duration": 25,
    "start_time": "2022-12-08T12:52:33.812Z"
   },
   {
    "duration": 42,
    "start_time": "2022-12-08T12:52:33.839Z"
   },
   {
    "duration": 19,
    "start_time": "2022-12-08T12:52:33.883Z"
   },
   {
    "duration": 20,
    "start_time": "2022-12-08T12:52:33.904Z"
   },
   {
    "duration": 37,
    "start_time": "2022-12-08T12:52:33.926Z"
   },
   {
    "duration": 43,
    "start_time": "2022-12-08T12:52:33.965Z"
   },
   {
    "duration": 0,
    "start_time": "2022-12-08T12:52:34.010Z"
   },
   {
    "duration": 0,
    "start_time": "2022-12-08T12:52:34.011Z"
   },
   {
    "duration": 0,
    "start_time": "2022-12-08T12:52:34.012Z"
   },
   {
    "duration": 0,
    "start_time": "2022-12-08T12:52:34.020Z"
   },
   {
    "duration": 0,
    "start_time": "2022-12-08T12:52:34.022Z"
   },
   {
    "duration": 0,
    "start_time": "2022-12-08T12:52:34.024Z"
   },
   {
    "duration": 0,
    "start_time": "2022-12-08T12:52:34.026Z"
   },
   {
    "duration": 0,
    "start_time": "2022-12-08T12:52:34.026Z"
   },
   {
    "duration": 0,
    "start_time": "2022-12-08T12:52:34.027Z"
   },
   {
    "duration": 0,
    "start_time": "2022-12-08T12:52:34.029Z"
   },
   {
    "duration": 0,
    "start_time": "2022-12-08T12:52:34.029Z"
   },
   {
    "duration": 0,
    "start_time": "2022-12-08T12:52:34.030Z"
   },
   {
    "duration": 0,
    "start_time": "2022-12-08T12:52:34.032Z"
   },
   {
    "duration": 0,
    "start_time": "2022-12-08T12:52:34.034Z"
   },
   {
    "duration": 0,
    "start_time": "2022-12-08T12:52:34.034Z"
   },
   {
    "duration": 0,
    "start_time": "2022-12-08T12:52:34.036Z"
   },
   {
    "duration": 0,
    "start_time": "2022-12-08T12:52:34.037Z"
   },
   {
    "duration": 1,
    "start_time": "2022-12-08T12:52:34.038Z"
   },
   {
    "duration": 0,
    "start_time": "2022-12-08T12:52:34.040Z"
   },
   {
    "duration": 0,
    "start_time": "2022-12-08T12:52:34.042Z"
   },
   {
    "duration": 0,
    "start_time": "2022-12-08T12:52:34.043Z"
   },
   {
    "duration": 0,
    "start_time": "2022-12-08T12:52:34.044Z"
   },
   {
    "duration": 0,
    "start_time": "2022-12-08T12:52:34.045Z"
   },
   {
    "duration": 0,
    "start_time": "2022-12-08T12:52:34.046Z"
   },
   {
    "duration": 0,
    "start_time": "2022-12-08T12:52:34.047Z"
   },
   {
    "duration": 13,
    "start_time": "2022-12-08T12:54:45.953Z"
   },
   {
    "duration": 11,
    "start_time": "2022-12-08T12:54:50.250Z"
   },
   {
    "duration": 21,
    "start_time": "2022-12-08T12:54:52.031Z"
   },
   {
    "duration": 11,
    "start_time": "2022-12-08T12:56:17.662Z"
   },
   {
    "duration": 13,
    "start_time": "2022-12-08T12:56:27.677Z"
   },
   {
    "duration": 11,
    "start_time": "2022-12-08T12:57:39.185Z"
   },
   {
    "duration": 10,
    "start_time": "2022-12-08T12:57:51.065Z"
   },
   {
    "duration": 11,
    "start_time": "2022-12-08T13:01:09.389Z"
   },
   {
    "duration": 13,
    "start_time": "2022-12-08T13:02:35.585Z"
   },
   {
    "duration": 16,
    "start_time": "2022-12-08T13:06:05.054Z"
   },
   {
    "duration": 7,
    "start_time": "2022-12-08T13:07:07.267Z"
   },
   {
    "duration": 8,
    "start_time": "2022-12-08T13:07:30.425Z"
   },
   {
    "duration": 8,
    "start_time": "2022-12-08T13:07:56.889Z"
   },
   {
    "duration": 6,
    "start_time": "2022-12-08T13:09:29.440Z"
   },
   {
    "duration": 7,
    "start_time": "2022-12-08T13:09:35.790Z"
   },
   {
    "duration": 1123,
    "start_time": "2022-12-08T13:14:20.394Z"
   },
   {
    "duration": 279,
    "start_time": "2022-12-08T13:14:21.519Z"
   },
   {
    "duration": 4,
    "start_time": "2022-12-08T13:14:21.800Z"
   },
   {
    "duration": 65,
    "start_time": "2022-12-08T13:14:21.806Z"
   },
   {
    "duration": 164,
    "start_time": "2022-12-08T13:14:21.873Z"
   },
   {
    "duration": 8,
    "start_time": "2022-12-08T13:14:22.039Z"
   },
   {
    "duration": 18,
    "start_time": "2022-12-08T13:14:22.048Z"
   },
   {
    "duration": 32,
    "start_time": "2022-12-08T13:14:22.068Z"
   },
   {
    "duration": 40,
    "start_time": "2022-12-08T13:14:22.101Z"
   },
   {
    "duration": 49,
    "start_time": "2022-12-08T13:14:22.144Z"
   },
   {
    "duration": 5,
    "start_time": "2022-12-08T13:14:22.194Z"
   },
   {
    "duration": 2170,
    "start_time": "2022-12-08T13:14:22.200Z"
   },
   {
    "duration": 24,
    "start_time": "2022-12-08T13:14:24.372Z"
   },
   {
    "duration": 429,
    "start_time": "2022-12-08T13:14:24.397Z"
   },
   {
    "duration": 7,
    "start_time": "2022-12-08T13:14:24.835Z"
   },
   {
    "duration": 12,
    "start_time": "2022-12-08T13:14:24.844Z"
   },
   {
    "duration": 14,
    "start_time": "2022-12-08T13:14:24.858Z"
   },
   {
    "duration": 64,
    "start_time": "2022-12-08T13:14:24.873Z"
   },
   {
    "duration": 55,
    "start_time": "2022-12-08T13:14:24.939Z"
   },
   {
    "duration": 60,
    "start_time": "2022-12-08T13:14:24.996Z"
   },
   {
    "duration": 19,
    "start_time": "2022-12-08T13:14:25.057Z"
   },
   {
    "duration": 30,
    "start_time": "2022-12-08T13:14:25.077Z"
   },
   {
    "duration": 64,
    "start_time": "2022-12-08T13:14:25.109Z"
   },
   {
    "duration": 60,
    "start_time": "2022-12-08T13:14:25.175Z"
   },
   {
    "duration": 4,
    "start_time": "2022-12-08T13:14:25.237Z"
   },
   {
    "duration": 19,
    "start_time": "2022-12-08T13:14:25.243Z"
   },
   {
    "duration": 43,
    "start_time": "2022-12-08T13:14:25.264Z"
   },
   {
    "duration": 63,
    "start_time": "2022-12-08T13:14:25.311Z"
   },
   {
    "duration": 39,
    "start_time": "2022-12-08T13:14:25.375Z"
   },
   {
    "duration": 44,
    "start_time": "2022-12-08T13:14:25.415Z"
   },
   {
    "duration": 9,
    "start_time": "2022-12-08T13:14:25.460Z"
   },
   {
    "duration": 157,
    "start_time": "2022-12-08T13:14:25.470Z"
   },
   {
    "duration": 14,
    "start_time": "2022-12-08T13:14:25.628Z"
   },
   {
    "duration": 34,
    "start_time": "2022-12-08T13:14:25.644Z"
   },
   {
    "duration": 29,
    "start_time": "2022-12-08T13:14:25.680Z"
   },
   {
    "duration": 48,
    "start_time": "2022-12-08T13:14:25.711Z"
   },
   {
    "duration": 91,
    "start_time": "2022-12-08T13:14:25.760Z"
   },
   {
    "duration": 22,
    "start_time": "2022-12-08T13:14:25.852Z"
   },
   {
    "duration": 184,
    "start_time": "2022-12-08T13:14:25.876Z"
   },
   {
    "duration": 23,
    "start_time": "2022-12-08T13:14:26.062Z"
   },
   {
    "duration": 19,
    "start_time": "2022-12-08T13:14:26.086Z"
   },
   {
    "duration": 253,
    "start_time": "2022-12-08T13:14:26.106Z"
   },
   {
    "duration": 17,
    "start_time": "2022-12-08T13:14:26.361Z"
   },
   {
    "duration": 13,
    "start_time": "2022-12-08T13:14:26.380Z"
   },
   {
    "duration": 25,
    "start_time": "2022-12-08T13:14:26.394Z"
   },
   {
    "duration": 176,
    "start_time": "2022-12-08T13:14:26.421Z"
   },
   {
    "duration": 8,
    "start_time": "2022-12-08T13:14:26.598Z"
   },
   {
    "duration": 11,
    "start_time": "2022-12-08T13:14:26.607Z"
   },
   {
    "duration": 18,
    "start_time": "2022-12-08T13:14:26.620Z"
   },
   {
    "duration": 134,
    "start_time": "2022-12-08T13:14:26.640Z"
   },
   {
    "duration": 10,
    "start_time": "2022-12-08T13:14:26.776Z"
   },
   {
    "duration": 6,
    "start_time": "2022-12-08T13:14:26.788Z"
   },
   {
    "duration": 76,
    "start_time": "2022-12-08T13:14:26.796Z"
   },
   {
    "duration": 6,
    "start_time": "2022-12-08T13:14:26.873Z"
   },
   {
    "duration": 25,
    "start_time": "2022-12-08T13:14:26.880Z"
   },
   {
    "duration": 65,
    "start_time": "2022-12-08T13:14:26.906Z"
   },
   {
    "duration": 10,
    "start_time": "2022-12-08T13:14:26.973Z"
   },
   {
    "duration": 24,
    "start_time": "2022-12-08T13:14:26.984Z"
   },
   {
    "duration": 8,
    "start_time": "2022-12-08T13:14:27.009Z"
   },
   {
    "duration": 11,
    "start_time": "2022-12-08T13:14:27.036Z"
   },
   {
    "duration": 204,
    "start_time": "2022-12-08T13:14:27.049Z"
   },
   {
    "duration": 8,
    "start_time": "2022-12-08T13:14:27.255Z"
   },
   {
    "duration": 6,
    "start_time": "2022-12-08T13:14:27.265Z"
   },
   {
    "duration": 21,
    "start_time": "2022-12-08T13:14:27.273Z"
   },
   {
    "duration": 8,
    "start_time": "2022-12-08T13:14:27.296Z"
   },
   {
    "duration": 32,
    "start_time": "2022-12-08T13:14:27.305Z"
   },
   {
    "duration": 13,
    "start_time": "2022-12-08T13:14:27.339Z"
   },
   {
    "duration": 11,
    "start_time": "2022-12-08T13:14:27.353Z"
   },
   {
    "duration": 20,
    "start_time": "2022-12-08T13:14:27.366Z"
   },
   {
    "duration": 29,
    "start_time": "2022-12-08T13:14:27.388Z"
   },
   {
    "duration": 9,
    "start_time": "2022-12-08T13:14:27.418Z"
   },
   {
    "duration": 12,
    "start_time": "2022-12-08T13:14:27.435Z"
   },
   {
    "duration": 15,
    "start_time": "2022-12-08T13:14:27.449Z"
   },
   {
    "duration": 738,
    "start_time": "2022-12-08T13:14:27.466Z"
   },
   {
    "duration": 0,
    "start_time": "2022-12-08T13:14:28.207Z"
   },
   {
    "duration": 0,
    "start_time": "2022-12-08T13:14:28.208Z"
   },
   {
    "duration": 0,
    "start_time": "2022-12-08T13:14:28.209Z"
   },
   {
    "duration": 0,
    "start_time": "2022-12-08T13:14:28.210Z"
   },
   {
    "duration": 0,
    "start_time": "2022-12-08T13:14:28.211Z"
   },
   {
    "duration": 0,
    "start_time": "2022-12-08T13:14:28.212Z"
   },
   {
    "duration": 0,
    "start_time": "2022-12-08T13:14:28.213Z"
   },
   {
    "duration": 0,
    "start_time": "2022-12-08T13:14:28.214Z"
   },
   {
    "duration": 0,
    "start_time": "2022-12-08T13:14:28.215Z"
   },
   {
    "duration": 0,
    "start_time": "2022-12-08T13:14:28.216Z"
   },
   {
    "duration": 0,
    "start_time": "2022-12-08T13:14:28.217Z"
   },
   {
    "duration": 0,
    "start_time": "2022-12-08T13:14:28.218Z"
   },
   {
    "duration": 1,
    "start_time": "2022-12-08T13:14:28.219Z"
   },
   {
    "duration": 0,
    "start_time": "2022-12-08T13:14:28.220Z"
   },
   {
    "duration": 0,
    "start_time": "2022-12-08T13:14:28.221Z"
   },
   {
    "duration": 0,
    "start_time": "2022-12-08T13:14:28.222Z"
   },
   {
    "duration": 0,
    "start_time": "2022-12-08T13:14:28.223Z"
   },
   {
    "duration": 0,
    "start_time": "2022-12-08T13:14:28.224Z"
   },
   {
    "duration": 0,
    "start_time": "2022-12-08T13:14:28.225Z"
   },
   {
    "duration": 0,
    "start_time": "2022-12-08T13:14:28.226Z"
   },
   {
    "duration": 0,
    "start_time": "2022-12-08T13:14:28.227Z"
   },
   {
    "duration": 0,
    "start_time": "2022-12-08T13:14:28.228Z"
   },
   {
    "duration": 0,
    "start_time": "2022-12-08T13:14:28.229Z"
   },
   {
    "duration": 11,
    "start_time": "2022-12-08T13:18:23.455Z"
   },
   {
    "duration": 8,
    "start_time": "2022-12-08T13:18:40.846Z"
   },
   {
    "duration": 3,
    "start_time": "2022-12-08T13:19:34.897Z"
   },
   {
    "duration": 12,
    "start_time": "2022-12-08T13:21:07.758Z"
   },
   {
    "duration": 17,
    "start_time": "2022-12-08T13:21:30.250Z"
   },
   {
    "duration": 10,
    "start_time": "2022-12-08T13:21:38.893Z"
   },
   {
    "duration": 24,
    "start_time": "2022-12-08T13:27:40.734Z"
   },
   {
    "duration": 10,
    "start_time": "2022-12-08T13:28:08.824Z"
   },
   {
    "duration": 10,
    "start_time": "2022-12-08T13:28:17.127Z"
   },
   {
    "duration": 10,
    "start_time": "2022-12-08T13:33:33.902Z"
   },
   {
    "duration": 13,
    "start_time": "2022-12-08T13:34:32.060Z"
   },
   {
    "duration": 65,
    "start_time": "2022-12-08T13:35:15.886Z"
   },
   {
    "duration": 15,
    "start_time": "2022-12-08T13:35:22.608Z"
   },
   {
    "duration": 23,
    "start_time": "2022-12-08T13:35:46.756Z"
   },
   {
    "duration": 15,
    "start_time": "2022-12-08T13:36:16.467Z"
   },
   {
    "duration": 24,
    "start_time": "2022-12-08T13:41:06.297Z"
   },
   {
    "duration": 19,
    "start_time": "2022-12-08T13:42:57.493Z"
   },
   {
    "duration": 19,
    "start_time": "2022-12-08T13:43:28.187Z"
   },
   {
    "duration": 43,
    "start_time": "2022-12-08T13:43:51.428Z"
   },
   {
    "duration": 30,
    "start_time": "2022-12-08T13:44:09.638Z"
   },
   {
    "duration": 30,
    "start_time": "2022-12-08T13:46:55.733Z"
   },
   {
    "duration": 12,
    "start_time": "2022-12-08T13:47:34.401Z"
   },
   {
    "duration": 30,
    "start_time": "2022-12-08T13:48:44.533Z"
   },
   {
    "duration": 19,
    "start_time": "2022-12-08T13:49:17.721Z"
   },
   {
    "duration": 1283,
    "start_time": "2022-12-08T14:18:34.207Z"
   },
   {
    "duration": 280,
    "start_time": "2022-12-08T14:18:35.491Z"
   },
   {
    "duration": 5,
    "start_time": "2022-12-08T14:18:35.773Z"
   },
   {
    "duration": 61,
    "start_time": "2022-12-08T14:18:35.780Z"
   },
   {
    "duration": 162,
    "start_time": "2022-12-08T14:18:35.843Z"
   },
   {
    "duration": 8,
    "start_time": "2022-12-08T14:18:36.007Z"
   },
   {
    "duration": 13,
    "start_time": "2022-12-08T14:18:36.037Z"
   },
   {
    "duration": 72,
    "start_time": "2022-12-08T14:18:36.052Z"
   },
   {
    "duration": 28,
    "start_time": "2022-12-08T14:18:36.125Z"
   },
   {
    "duration": 57,
    "start_time": "2022-12-08T14:18:36.156Z"
   },
   {
    "duration": 5,
    "start_time": "2022-12-08T14:18:36.215Z"
   },
   {
    "duration": 2191,
    "start_time": "2022-12-08T14:18:36.236Z"
   },
   {
    "duration": 38,
    "start_time": "2022-12-08T14:18:38.429Z"
   },
   {
    "duration": 482,
    "start_time": "2022-12-08T14:18:38.469Z"
   },
   {
    "duration": 7,
    "start_time": "2022-12-08T14:18:38.952Z"
   },
   {
    "duration": 18,
    "start_time": "2022-12-08T14:18:38.961Z"
   },
   {
    "duration": 20,
    "start_time": "2022-12-08T14:18:38.980Z"
   },
   {
    "duration": 71,
    "start_time": "2022-12-08T14:18:39.002Z"
   },
   {
    "duration": 89,
    "start_time": "2022-12-08T14:18:39.075Z"
   },
   {
    "duration": 72,
    "start_time": "2022-12-08T14:18:39.166Z"
   },
   {
    "duration": 21,
    "start_time": "2022-12-08T14:18:39.240Z"
   },
   {
    "duration": 36,
    "start_time": "2022-12-08T14:18:39.263Z"
   },
   {
    "duration": 90,
    "start_time": "2022-12-08T14:18:39.302Z"
   },
   {
    "duration": 87,
    "start_time": "2022-12-08T14:18:39.394Z"
   },
   {
    "duration": 5,
    "start_time": "2022-12-08T14:18:39.483Z"
   },
   {
    "duration": 15,
    "start_time": "2022-12-08T14:18:39.489Z"
   },
   {
    "duration": 63,
    "start_time": "2022-12-08T14:18:39.506Z"
   },
   {
    "duration": 66,
    "start_time": "2022-12-08T14:18:39.573Z"
   },
   {
    "duration": 35,
    "start_time": "2022-12-08T14:18:39.641Z"
   },
   {
    "duration": 31,
    "start_time": "2022-12-08T14:18:39.678Z"
   },
   {
    "duration": 32,
    "start_time": "2022-12-08T14:18:39.711Z"
   },
   {
    "duration": 206,
    "start_time": "2022-12-08T14:18:39.745Z"
   },
   {
    "duration": 8,
    "start_time": "2022-12-08T14:18:39.953Z"
   },
   {
    "duration": 18,
    "start_time": "2022-12-08T14:18:39.963Z"
   },
   {
    "duration": 20,
    "start_time": "2022-12-08T14:18:39.983Z"
   },
   {
    "duration": 86,
    "start_time": "2022-12-08T14:18:40.005Z"
   },
   {
    "duration": 62,
    "start_time": "2022-12-08T14:18:40.094Z"
   },
   {
    "duration": 35,
    "start_time": "2022-12-08T14:18:40.159Z"
   },
   {
    "duration": 158,
    "start_time": "2022-12-08T14:18:40.196Z"
   },
   {
    "duration": 23,
    "start_time": "2022-12-08T14:18:40.356Z"
   },
   {
    "duration": 18,
    "start_time": "2022-12-08T14:18:40.381Z"
   },
   {
    "duration": 280,
    "start_time": "2022-12-08T14:18:40.401Z"
   },
   {
    "duration": 18,
    "start_time": "2022-12-08T14:18:40.683Z"
   },
   {
    "duration": 15,
    "start_time": "2022-12-08T14:18:40.703Z"
   },
   {
    "duration": 6,
    "start_time": "2022-12-08T14:18:40.736Z"
   },
   {
    "duration": 186,
    "start_time": "2022-12-08T14:18:40.744Z"
   },
   {
    "duration": 10,
    "start_time": "2022-12-08T14:18:40.931Z"
   },
   {
    "duration": 20,
    "start_time": "2022-12-08T14:18:40.944Z"
   },
   {
    "duration": 5,
    "start_time": "2022-12-08T14:18:40.966Z"
   },
   {
    "duration": 185,
    "start_time": "2022-12-08T14:18:40.973Z"
   },
   {
    "duration": 13,
    "start_time": "2022-12-08T14:18:41.160Z"
   },
   {
    "duration": 4,
    "start_time": "2022-12-08T14:18:41.174Z"
   },
   {
    "duration": 84,
    "start_time": "2022-12-08T14:18:41.179Z"
   },
   {
    "duration": 8,
    "start_time": "2022-12-08T14:18:41.265Z"
   },
   {
    "duration": 22,
    "start_time": "2022-12-08T14:18:41.275Z"
   },
   {
    "duration": 95,
    "start_time": "2022-12-08T14:18:41.298Z"
   },
   {
    "duration": 15,
    "start_time": "2022-12-08T14:18:41.395Z"
   },
   {
    "duration": 42,
    "start_time": "2022-12-08T14:18:41.412Z"
   },
   {
    "duration": 10,
    "start_time": "2022-12-08T14:18:41.457Z"
   },
   {
    "duration": 14,
    "start_time": "2022-12-08T14:18:41.470Z"
   },
   {
    "duration": 205,
    "start_time": "2022-12-08T14:18:41.485Z"
   },
   {
    "duration": 8,
    "start_time": "2022-12-08T14:18:41.691Z"
   },
   {
    "duration": 8,
    "start_time": "2022-12-08T14:18:41.701Z"
   },
   {
    "duration": 36,
    "start_time": "2022-12-08T14:18:41.710Z"
   },
   {
    "duration": 11,
    "start_time": "2022-12-08T14:18:41.748Z"
   },
   {
    "duration": 13,
    "start_time": "2022-12-08T14:18:41.761Z"
   },
   {
    "duration": 18,
    "start_time": "2022-12-08T14:18:41.776Z"
   },
   {
    "duration": 39,
    "start_time": "2022-12-08T14:18:41.796Z"
   },
   {
    "duration": 12,
    "start_time": "2022-12-08T14:18:41.838Z"
   },
   {
    "duration": 9,
    "start_time": "2022-12-08T14:18:41.852Z"
   },
   {
    "duration": 13,
    "start_time": "2022-12-08T14:18:41.863Z"
   },
   {
    "duration": 13,
    "start_time": "2022-12-08T14:18:41.878Z"
   },
   {
    "duration": 44,
    "start_time": "2022-12-08T14:18:41.893Z"
   },
   {
    "duration": 13,
    "start_time": "2022-12-08T14:18:41.939Z"
   },
   {
    "duration": 18,
    "start_time": "2022-12-08T14:18:41.954Z"
   },
   {
    "duration": 31,
    "start_time": "2022-12-08T14:18:41.974Z"
   },
   {
    "duration": 45,
    "start_time": "2022-12-08T14:18:42.007Z"
   },
   {
    "duration": 24,
    "start_time": "2022-12-08T14:18:42.053Z"
   },
   {
    "duration": 11,
    "start_time": "2022-12-08T14:18:42.078Z"
   },
   {
    "duration": 11,
    "start_time": "2022-12-08T14:18:42.091Z"
   },
   {
    "duration": 43,
    "start_time": "2022-12-08T14:18:42.103Z"
   },
   {
    "duration": 9,
    "start_time": "2022-12-08T14:18:42.151Z"
   },
   {
    "duration": 13,
    "start_time": "2022-12-08T14:18:42.162Z"
   },
   {
    "duration": 123,
    "start_time": "2022-12-08T14:18:42.177Z"
   },
   {
    "duration": 12,
    "start_time": "2022-12-08T14:18:42.303Z"
   },
   {
    "duration": 16,
    "start_time": "2022-12-08T14:18:42.336Z"
   },
   {
    "duration": 19,
    "start_time": "2022-12-08T14:18:42.354Z"
   },
   {
    "duration": 6,
    "start_time": "2022-12-08T14:18:42.375Z"
   },
   {
    "duration": 58,
    "start_time": "2022-12-08T14:18:42.383Z"
   },
   {
    "duration": 27,
    "start_time": "2022-12-08T14:18:42.443Z"
   },
   {
    "duration": 11,
    "start_time": "2022-12-08T14:18:42.472Z"
   },
   {
    "duration": 27,
    "start_time": "2022-12-08T14:18:42.486Z"
   },
   {
    "duration": 25,
    "start_time": "2022-12-08T14:18:42.536Z"
   },
   {
    "duration": 6,
    "start_time": "2022-12-08T14:18:42.563Z"
   },
   {
    "duration": 59,
    "start_time": "2022-12-08T14:18:42.570Z"
   },
   {
    "duration": 27,
    "start_time": "2022-12-08T14:18:42.632Z"
   },
   {
    "duration": 14,
    "start_time": "2022-12-08T14:18:42.661Z"
   },
   {
    "duration": 30,
    "start_time": "2022-12-08T14:18:42.678Z"
   },
   {
    "duration": 0,
    "start_time": "2022-12-08T14:18:42.710Z"
   },
   {
    "duration": 0,
    "start_time": "2022-12-08T14:18:42.712Z"
   },
   {
    "duration": 0,
    "start_time": "2022-12-08T14:18:42.713Z"
   },
   {
    "duration": 0,
    "start_time": "2022-12-08T14:18:42.715Z"
   },
   {
    "duration": 15,
    "start_time": "2022-12-08T14:34:22.766Z"
   },
   {
    "duration": 20,
    "start_time": "2022-12-08T14:34:25.030Z"
   },
   {
    "duration": 8,
    "start_time": "2022-12-08T14:34:28.799Z"
   },
   {
    "duration": 17,
    "start_time": "2022-12-08T14:34:30.988Z"
   },
   {
    "duration": 1593,
    "start_time": "2022-12-09T05:25:23.252Z"
   },
   {
    "duration": 337,
    "start_time": "2022-12-09T05:25:24.847Z"
   },
   {
    "duration": 4,
    "start_time": "2022-12-09T05:25:25.186Z"
   },
   {
    "duration": 45,
    "start_time": "2022-12-09T05:25:25.192Z"
   },
   {
    "duration": 159,
    "start_time": "2022-12-09T05:25:25.238Z"
   },
   {
    "duration": 9,
    "start_time": "2022-12-09T05:25:25.399Z"
   },
   {
    "duration": 16,
    "start_time": "2022-12-09T05:25:25.409Z"
   },
   {
    "duration": 40,
    "start_time": "2022-12-09T05:25:25.426Z"
   },
   {
    "duration": 35,
    "start_time": "2022-12-09T05:25:25.468Z"
   },
   {
    "duration": 47,
    "start_time": "2022-12-09T05:25:25.507Z"
   },
   {
    "duration": 25,
    "start_time": "2022-12-09T05:25:25.556Z"
   },
   {
    "duration": 2119,
    "start_time": "2022-12-09T05:25:25.583Z"
   },
   {
    "duration": 24,
    "start_time": "2022-12-09T05:25:27.704Z"
   },
   {
    "duration": 407,
    "start_time": "2022-12-09T05:25:27.730Z"
   },
   {
    "duration": 7,
    "start_time": "2022-12-09T05:25:28.138Z"
   },
   {
    "duration": 31,
    "start_time": "2022-12-09T05:25:28.147Z"
   },
   {
    "duration": 9,
    "start_time": "2022-12-09T05:25:28.180Z"
   },
   {
    "duration": 28,
    "start_time": "2022-12-09T05:25:28.191Z"
   },
   {
    "duration": 74,
    "start_time": "2022-12-09T05:25:28.221Z"
   },
   {
    "duration": 52,
    "start_time": "2022-12-09T05:25:28.296Z"
   },
   {
    "duration": 40,
    "start_time": "2022-12-09T05:25:28.349Z"
   },
   {
    "duration": 29,
    "start_time": "2022-12-09T05:25:28.391Z"
   },
   {
    "duration": 42,
    "start_time": "2022-12-09T05:25:28.421Z"
   },
   {
    "duration": 58,
    "start_time": "2022-12-09T05:25:28.465Z"
   },
   {
    "duration": 33,
    "start_time": "2022-12-09T05:25:28.525Z"
   },
   {
    "duration": 30,
    "start_time": "2022-12-09T05:25:28.560Z"
   },
   {
    "duration": 50,
    "start_time": "2022-12-09T05:25:28.592Z"
   },
   {
    "duration": 64,
    "start_time": "2022-12-09T05:25:28.646Z"
   },
   {
    "duration": 34,
    "start_time": "2022-12-09T05:25:28.711Z"
   },
   {
    "duration": 45,
    "start_time": "2022-12-09T05:25:28.746Z"
   },
   {
    "duration": 8,
    "start_time": "2022-12-09T05:25:28.792Z"
   },
   {
    "duration": 168,
    "start_time": "2022-12-09T05:25:28.802Z"
   },
   {
    "duration": 10,
    "start_time": "2022-12-09T05:25:28.971Z"
   },
   {
    "duration": 39,
    "start_time": "2022-12-09T05:25:28.983Z"
   },
   {
    "duration": 27,
    "start_time": "2022-12-09T05:25:29.023Z"
   },
   {
    "duration": 40,
    "start_time": "2022-12-09T05:25:29.052Z"
   },
   {
    "duration": 56,
    "start_time": "2022-12-09T05:25:29.093Z"
   },
   {
    "duration": 34,
    "start_time": "2022-12-09T05:25:29.150Z"
   },
   {
    "duration": 156,
    "start_time": "2022-12-09T05:25:29.185Z"
   },
   {
    "duration": 36,
    "start_time": "2022-12-09T05:25:29.343Z"
   },
   {
    "duration": 20,
    "start_time": "2022-12-09T05:25:29.380Z"
   },
   {
    "duration": 249,
    "start_time": "2022-12-09T05:25:29.402Z"
   },
   {
    "duration": 18,
    "start_time": "2022-12-09T05:25:29.652Z"
   },
   {
    "duration": 19,
    "start_time": "2022-12-09T05:25:29.671Z"
   },
   {
    "duration": 5,
    "start_time": "2022-12-09T05:25:29.691Z"
   },
   {
    "duration": 172,
    "start_time": "2022-12-09T05:25:29.697Z"
   },
   {
    "duration": 12,
    "start_time": "2022-12-09T05:25:29.871Z"
   },
   {
    "duration": 13,
    "start_time": "2022-12-09T05:25:29.885Z"
   },
   {
    "duration": 5,
    "start_time": "2022-12-09T05:25:29.900Z"
   },
   {
    "duration": 126,
    "start_time": "2022-12-09T05:25:29.907Z"
   },
   {
    "duration": 11,
    "start_time": "2022-12-09T05:25:30.035Z"
   },
   {
    "duration": 7,
    "start_time": "2022-12-09T05:25:30.048Z"
   },
   {
    "duration": 84,
    "start_time": "2022-12-09T05:25:30.057Z"
   },
   {
    "duration": 6,
    "start_time": "2022-12-09T05:25:30.142Z"
   },
   {
    "duration": 29,
    "start_time": "2022-12-09T05:25:30.150Z"
   },
   {
    "duration": 53,
    "start_time": "2022-12-09T05:25:30.181Z"
   },
   {
    "duration": 10,
    "start_time": "2022-12-09T05:25:30.236Z"
   },
   {
    "duration": 45,
    "start_time": "2022-12-09T05:25:30.248Z"
   },
   {
    "duration": 33,
    "start_time": "2022-12-09T05:25:30.294Z"
   },
   {
    "duration": 25,
    "start_time": "2022-12-09T05:25:30.328Z"
   },
   {
    "duration": 186,
    "start_time": "2022-12-09T05:25:30.354Z"
   },
   {
    "duration": 7,
    "start_time": "2022-12-09T05:25:30.542Z"
   },
   {
    "duration": 12,
    "start_time": "2022-12-09T05:25:30.552Z"
   },
   {
    "duration": 40,
    "start_time": "2022-12-09T05:25:30.566Z"
   },
   {
    "duration": 34,
    "start_time": "2022-12-09T05:25:30.607Z"
   },
   {
    "duration": 35,
    "start_time": "2022-12-09T05:25:30.643Z"
   },
   {
    "duration": 17,
    "start_time": "2022-12-09T05:25:30.680Z"
   },
   {
    "duration": 17,
    "start_time": "2022-12-09T05:25:30.698Z"
   },
   {
    "duration": 23,
    "start_time": "2022-12-09T05:25:30.717Z"
   },
   {
    "duration": 27,
    "start_time": "2022-12-09T05:25:30.742Z"
   },
   {
    "duration": 18,
    "start_time": "2022-12-09T05:25:30.771Z"
   },
   {
    "duration": 24,
    "start_time": "2022-12-09T05:25:30.791Z"
   },
   {
    "duration": 24,
    "start_time": "2022-12-09T05:25:30.817Z"
   },
   {
    "duration": 19,
    "start_time": "2022-12-09T05:25:30.843Z"
   },
   {
    "duration": 39,
    "start_time": "2022-12-09T05:25:30.864Z"
   },
   {
    "duration": 39,
    "start_time": "2022-12-09T05:25:30.905Z"
   },
   {
    "duration": 36,
    "start_time": "2022-12-09T05:25:30.946Z"
   },
   {
    "duration": 85,
    "start_time": "2022-12-09T05:25:30.984Z"
   },
   {
    "duration": 10,
    "start_time": "2022-12-09T05:25:31.070Z"
   },
   {
    "duration": 21,
    "start_time": "2022-12-09T05:25:31.082Z"
   },
   {
    "duration": 15,
    "start_time": "2022-12-09T05:25:31.105Z"
   },
   {
    "duration": 39,
    "start_time": "2022-12-09T05:25:31.128Z"
   },
   {
    "duration": 16,
    "start_time": "2022-12-09T05:25:31.169Z"
   },
   {
    "duration": 129,
    "start_time": "2022-12-09T05:25:31.187Z"
   },
   {
    "duration": 12,
    "start_time": "2022-12-09T05:25:31.319Z"
   },
   {
    "duration": 45,
    "start_time": "2022-12-09T05:25:31.333Z"
   },
   {
    "duration": 8,
    "start_time": "2022-12-09T05:25:31.381Z"
   },
   {
    "duration": 23,
    "start_time": "2022-12-09T05:25:31.391Z"
   },
   {
    "duration": 4,
    "start_time": "2022-12-09T05:25:31.416Z"
   },
   {
    "duration": 23,
    "start_time": "2022-12-09T05:25:31.421Z"
   },
   {
    "duration": 41,
    "start_time": "2022-12-09T05:25:31.445Z"
   },
   {
    "duration": 9,
    "start_time": "2022-12-09T05:25:31.488Z"
   },
   {
    "duration": 11,
    "start_time": "2022-12-09T05:25:31.499Z"
   },
   {
    "duration": 16,
    "start_time": "2022-12-09T05:25:31.512Z"
   },
   {
    "duration": 5,
    "start_time": "2022-12-09T05:25:31.529Z"
   },
   {
    "duration": 48,
    "start_time": "2022-12-09T05:25:31.536Z"
   },
   {
    "duration": 15,
    "start_time": "2022-12-09T05:25:31.586Z"
   },
   {
    "duration": 10,
    "start_time": "2022-12-09T05:25:31.603Z"
   },
   {
    "duration": 24,
    "start_time": "2022-12-09T05:25:31.614Z"
   },
   {
    "duration": 0,
    "start_time": "2022-12-09T05:25:31.639Z"
   },
   {
    "duration": 0,
    "start_time": "2022-12-09T05:25:31.640Z"
   },
   {
    "duration": 0,
    "start_time": "2022-12-09T05:25:31.641Z"
   },
   {
    "duration": 0,
    "start_time": "2022-12-09T05:25:31.643Z"
   },
   {
    "duration": 28,
    "start_time": "2022-12-09T07:19:52.983Z"
   },
   {
    "duration": 11,
    "start_time": "2022-12-09T07:20:28.185Z"
   },
   {
    "duration": 21,
    "start_time": "2022-12-09T07:30:37.048Z"
   },
   {
    "duration": 11,
    "start_time": "2022-12-09T07:30:47.868Z"
   },
   {
    "duration": 14,
    "start_time": "2022-12-09T07:31:51.917Z"
   },
   {
    "duration": 1277,
    "start_time": "2022-12-09T07:43:30.263Z"
   },
   {
    "duration": 1181,
    "start_time": "2022-12-09T07:43:49.415Z"
   },
   {
    "duration": 1189,
    "start_time": "2022-12-09T07:44:17.551Z"
   },
   {
    "duration": 27,
    "start_time": "2022-12-09T07:45:21.262Z"
   },
   {
    "duration": 29,
    "start_time": "2022-12-09T07:45:46.632Z"
   },
   {
    "duration": 74,
    "start_time": "2022-12-09T07:46:37.909Z"
   },
   {
    "duration": 23,
    "start_time": "2022-12-09T07:46:44.441Z"
   },
   {
    "duration": 116,
    "start_time": "2022-12-09T07:50:21.791Z"
   },
   {
    "duration": 25,
    "start_time": "2022-12-09T07:50:34.479Z"
   },
   {
    "duration": 34,
    "start_time": "2022-12-09T07:51:02.039Z"
   },
   {
    "duration": 26,
    "start_time": "2022-12-09T07:52:18.594Z"
   },
   {
    "duration": 33,
    "start_time": "2022-12-09T07:53:18.291Z"
   },
   {
    "duration": 9,
    "start_time": "2022-12-09T07:54:44.826Z"
   },
   {
    "duration": 10,
    "start_time": "2022-12-09T07:54:45.960Z"
   },
   {
    "duration": 100,
    "start_time": "2022-12-09T07:54:47.968Z"
   },
   {
    "duration": 1145,
    "start_time": "2022-12-09T07:56:39.687Z"
   },
   {
    "duration": 453,
    "start_time": "2022-12-09T07:56:40.834Z"
   },
   {
    "duration": 4,
    "start_time": "2022-12-09T07:56:41.289Z"
   },
   {
    "duration": 45,
    "start_time": "2022-12-09T07:56:41.296Z"
   },
   {
    "duration": 166,
    "start_time": "2022-12-09T07:56:41.343Z"
   },
   {
    "duration": 8,
    "start_time": "2022-12-09T07:56:41.511Z"
   },
   {
    "duration": 11,
    "start_time": "2022-12-09T07:56:41.521Z"
   },
   {
    "duration": 52,
    "start_time": "2022-12-09T07:56:41.533Z"
   },
   {
    "duration": 32,
    "start_time": "2022-12-09T07:56:41.587Z"
   },
   {
    "duration": 73,
    "start_time": "2022-12-09T07:56:41.622Z"
   },
   {
    "duration": 6,
    "start_time": "2022-12-09T07:56:41.696Z"
   },
   {
    "duration": 2327,
    "start_time": "2022-12-09T07:56:41.703Z"
   },
   {
    "duration": 55,
    "start_time": "2022-12-09T07:56:44.033Z"
   },
   {
    "duration": 434,
    "start_time": "2022-12-09T07:56:44.090Z"
   },
   {
    "duration": 8,
    "start_time": "2022-12-09T07:56:44.526Z"
   },
   {
    "duration": 45,
    "start_time": "2022-12-09T07:56:44.536Z"
   },
   {
    "duration": 12,
    "start_time": "2022-12-09T07:56:44.583Z"
   },
   {
    "duration": 31,
    "start_time": "2022-12-09T07:56:44.597Z"
   },
   {
    "duration": 72,
    "start_time": "2022-12-09T07:56:44.630Z"
   },
   {
    "duration": 48,
    "start_time": "2022-12-09T07:56:44.704Z"
   },
   {
    "duration": 31,
    "start_time": "2022-12-09T07:56:44.753Z"
   },
   {
    "duration": 30,
    "start_time": "2022-12-09T07:56:44.786Z"
   },
   {
    "duration": 61,
    "start_time": "2022-12-09T07:56:44.818Z"
   },
   {
    "duration": 50,
    "start_time": "2022-12-09T07:56:44.881Z"
   },
   {
    "duration": 5,
    "start_time": "2022-12-09T07:56:44.933Z"
   },
   {
    "duration": 23,
    "start_time": "2022-12-09T07:56:44.940Z"
   },
   {
    "duration": 42,
    "start_time": "2022-12-09T07:56:44.979Z"
   },
   {
    "duration": 74,
    "start_time": "2022-12-09T07:56:45.024Z"
   },
   {
    "duration": 33,
    "start_time": "2022-12-09T07:56:45.099Z"
   },
   {
    "duration": 45,
    "start_time": "2022-12-09T07:56:45.134Z"
   },
   {
    "duration": 8,
    "start_time": "2022-12-09T07:56:45.181Z"
   },
   {
    "duration": 157,
    "start_time": "2022-12-09T07:56:45.191Z"
   },
   {
    "duration": 7,
    "start_time": "2022-12-09T07:56:45.350Z"
   },
   {
    "duration": 33,
    "start_time": "2022-12-09T07:56:45.359Z"
   },
   {
    "duration": 43,
    "start_time": "2022-12-09T07:56:45.394Z"
   },
   {
    "duration": 49,
    "start_time": "2022-12-09T07:56:45.439Z"
   },
   {
    "duration": 46,
    "start_time": "2022-12-09T07:56:45.489Z"
   },
   {
    "duration": 23,
    "start_time": "2022-12-09T07:56:45.536Z"
   },
   {
    "duration": 164,
    "start_time": "2022-12-09T07:56:45.560Z"
   },
   {
    "duration": 27,
    "start_time": "2022-12-09T07:56:45.726Z"
   },
   {
    "duration": 35,
    "start_time": "2022-12-09T07:56:45.755Z"
   },
   {
    "duration": 255,
    "start_time": "2022-12-09T07:56:45.792Z"
   },
   {
    "duration": 18,
    "start_time": "2022-12-09T07:56:46.048Z"
   },
   {
    "duration": 22,
    "start_time": "2022-12-09T07:56:46.068Z"
   },
   {
    "duration": 4,
    "start_time": "2022-12-09T07:56:46.092Z"
   },
   {
    "duration": 169,
    "start_time": "2022-12-09T07:56:46.099Z"
   },
   {
    "duration": 9,
    "start_time": "2022-12-09T07:56:46.270Z"
   },
   {
    "duration": 11,
    "start_time": "2022-12-09T07:56:46.281Z"
   },
   {
    "duration": 4,
    "start_time": "2022-12-09T07:56:46.294Z"
   },
   {
    "duration": 121,
    "start_time": "2022-12-09T07:56:46.300Z"
   },
   {
    "duration": 11,
    "start_time": "2022-12-09T07:56:46.423Z"
   },
   {
    "duration": 8,
    "start_time": "2022-12-09T07:56:46.436Z"
   },
   {
    "duration": 79,
    "start_time": "2022-12-09T07:56:46.445Z"
   },
   {
    "duration": 5,
    "start_time": "2022-12-09T07:56:46.526Z"
   },
   {
    "duration": 24,
    "start_time": "2022-12-09T07:56:46.533Z"
   },
   {
    "duration": 73,
    "start_time": "2022-12-09T07:56:46.558Z"
   },
   {
    "duration": 10,
    "start_time": "2022-12-09T07:56:46.633Z"
   },
   {
    "duration": 34,
    "start_time": "2022-12-09T07:56:46.645Z"
   },
   {
    "duration": 9,
    "start_time": "2022-12-09T07:56:46.680Z"
   },
   {
    "duration": 10,
    "start_time": "2022-12-09T07:56:46.691Z"
   },
   {
    "duration": 206,
    "start_time": "2022-12-09T07:56:46.703Z"
   },
   {
    "duration": 7,
    "start_time": "2022-12-09T07:56:46.911Z"
   },
   {
    "duration": 10,
    "start_time": "2022-12-09T07:56:46.920Z"
   },
   {
    "duration": 19,
    "start_time": "2022-12-09T07:56:46.932Z"
   },
   {
    "duration": 29,
    "start_time": "2022-12-09T07:56:46.953Z"
   },
   {
    "duration": 11,
    "start_time": "2022-12-09T07:56:46.983Z"
   },
   {
    "duration": 11,
    "start_time": "2022-12-09T07:56:46.995Z"
   },
   {
    "duration": 11,
    "start_time": "2022-12-09T07:56:47.007Z"
   },
   {
    "duration": 9,
    "start_time": "2022-12-09T07:56:47.020Z"
   },
   {
    "duration": 13,
    "start_time": "2022-12-09T07:56:47.031Z"
   },
   {
    "duration": 38,
    "start_time": "2022-12-09T07:56:47.046Z"
   },
   {
    "duration": 12,
    "start_time": "2022-12-09T07:56:47.086Z"
   },
   {
    "duration": 17,
    "start_time": "2022-12-09T07:56:47.100Z"
   },
   {
    "duration": 9,
    "start_time": "2022-12-09T07:56:47.118Z"
   },
   {
    "duration": 50,
    "start_time": "2022-12-09T07:56:47.129Z"
   },
   {
    "duration": 25,
    "start_time": "2022-12-09T07:56:47.181Z"
   },
   {
    "duration": 11,
    "start_time": "2022-12-09T07:56:47.208Z"
   },
   {
    "duration": 25,
    "start_time": "2022-12-09T07:56:47.221Z"
   },
   {
    "duration": 37,
    "start_time": "2022-12-09T07:56:47.247Z"
   },
   {
    "duration": 37,
    "start_time": "2022-12-09T07:56:47.285Z"
   },
   {
    "duration": 10,
    "start_time": "2022-12-09T07:56:47.323Z"
   },
   {
    "duration": 9,
    "start_time": "2022-12-09T07:56:47.337Z"
   },
   {
    "duration": 10,
    "start_time": "2022-12-09T07:56:47.347Z"
   },
   {
    "duration": 92,
    "start_time": "2022-12-09T07:56:47.378Z"
   },
   {
    "duration": 9,
    "start_time": "2022-12-09T07:56:47.478Z"
   },
   {
    "duration": 18,
    "start_time": "2022-12-09T07:56:47.488Z"
   },
   {
    "duration": 7,
    "start_time": "2022-12-09T07:56:47.508Z"
   },
   {
    "duration": 17,
    "start_time": "2022-12-09T07:56:47.516Z"
   },
   {
    "duration": 5,
    "start_time": "2022-12-09T07:56:47.534Z"
   },
   {
    "duration": 52,
    "start_time": "2022-12-09T07:56:47.540Z"
   },
   {
    "duration": 16,
    "start_time": "2022-12-09T07:56:47.593Z"
   },
   {
    "duration": 12,
    "start_time": "2022-12-09T07:56:47.611Z"
   },
   {
    "duration": 12,
    "start_time": "2022-12-09T07:56:47.625Z"
   },
   {
    "duration": 39,
    "start_time": "2022-12-09T07:56:47.639Z"
   },
   {
    "duration": 6,
    "start_time": "2022-12-09T07:56:47.680Z"
   },
   {
    "duration": 25,
    "start_time": "2022-12-09T07:56:47.688Z"
   },
   {
    "duration": 16,
    "start_time": "2022-12-09T07:56:47.714Z"
   },
   {
    "duration": 10,
    "start_time": "2022-12-09T07:56:47.732Z"
   },
   {
    "duration": 46,
    "start_time": "2022-12-09T07:56:47.744Z"
   },
   {
    "duration": 0,
    "start_time": "2022-12-09T07:56:47.791Z"
   },
   {
    "duration": 0,
    "start_time": "2022-12-09T07:56:47.794Z"
   },
   {
    "duration": 0,
    "start_time": "2022-12-09T07:56:47.795Z"
   },
   {
    "duration": 0,
    "start_time": "2022-12-09T07:56:47.796Z"
   },
   {
    "duration": 1557,
    "start_time": "2022-12-10T11:40:14.704Z"
   },
   {
    "duration": 534,
    "start_time": "2022-12-10T11:40:16.263Z"
   },
   {
    "duration": 4,
    "start_time": "2022-12-10T11:40:16.799Z"
   },
   {
    "duration": 81,
    "start_time": "2022-12-10T11:40:16.806Z"
   },
   {
    "duration": 202,
    "start_time": "2022-12-10T11:40:16.891Z"
   },
   {
    "duration": 9,
    "start_time": "2022-12-10T11:40:17.095Z"
   },
   {
    "duration": 17,
    "start_time": "2022-12-10T11:40:17.106Z"
   },
   {
    "duration": 74,
    "start_time": "2022-12-10T11:40:17.125Z"
   },
   {
    "duration": 40,
    "start_time": "2022-12-10T11:40:17.201Z"
   },
   {
    "duration": 106,
    "start_time": "2022-12-10T11:40:17.245Z"
   },
   {
    "duration": 24,
    "start_time": "2022-12-10T11:40:17.353Z"
   },
   {
    "duration": 2754,
    "start_time": "2022-12-10T11:40:17.381Z"
   },
   {
    "duration": 50,
    "start_time": "2022-12-10T11:40:20.137Z"
   },
   {
    "duration": 498,
    "start_time": "2022-12-10T11:40:20.189Z"
   },
   {
    "duration": 11,
    "start_time": "2022-12-10T11:40:20.690Z"
   },
   {
    "duration": 10,
    "start_time": "2022-12-10T11:40:20.703Z"
   },
   {
    "duration": 64,
    "start_time": "2022-12-10T11:40:20.715Z"
   },
   {
    "duration": 45,
    "start_time": "2022-12-10T11:40:20.782Z"
   },
   {
    "duration": 80,
    "start_time": "2022-12-10T11:40:20.829Z"
   },
   {
    "duration": 97,
    "start_time": "2022-12-10T11:40:20.912Z"
   },
   {
    "duration": 25,
    "start_time": "2022-12-10T11:40:21.012Z"
   },
   {
    "duration": 56,
    "start_time": "2022-12-10T11:40:21.040Z"
   },
   {
    "duration": 50,
    "start_time": "2022-12-10T11:40:21.098Z"
   },
   {
    "duration": 105,
    "start_time": "2022-12-10T11:40:21.150Z"
   },
   {
    "duration": 6,
    "start_time": "2022-12-10T11:40:21.258Z"
   },
   {
    "duration": 14,
    "start_time": "2022-12-10T11:40:21.279Z"
   },
   {
    "duration": 49,
    "start_time": "2022-12-10T11:40:21.296Z"
   },
   {
    "duration": 92,
    "start_time": "2022-12-10T11:40:21.350Z"
   },
   {
    "duration": 63,
    "start_time": "2022-12-10T11:40:21.444Z"
   },
   {
    "duration": 37,
    "start_time": "2022-12-10T11:40:21.509Z"
   },
   {
    "duration": 31,
    "start_time": "2022-12-10T11:40:21.548Z"
   },
   {
    "duration": 188,
    "start_time": "2022-12-10T11:40:21.582Z"
   },
   {
    "duration": 12,
    "start_time": "2022-12-10T11:40:21.778Z"
   },
   {
    "duration": 22,
    "start_time": "2022-12-10T11:40:21.803Z"
   },
   {
    "duration": 22,
    "start_time": "2022-12-10T11:40:21.827Z"
   },
   {
    "duration": 72,
    "start_time": "2022-12-10T11:40:21.852Z"
   },
   {
    "duration": 74,
    "start_time": "2022-12-10T11:40:21.926Z"
   },
   {
    "duration": 28,
    "start_time": "2022-12-10T11:40:22.003Z"
   },
   {
    "duration": 207,
    "start_time": "2022-12-10T11:40:22.033Z"
   },
   {
    "duration": 46,
    "start_time": "2022-12-10T11:40:22.242Z"
   },
   {
    "duration": 28,
    "start_time": "2022-12-10T11:40:22.291Z"
   },
   {
    "duration": 287,
    "start_time": "2022-12-10T11:40:22.321Z"
   },
   {
    "duration": 21,
    "start_time": "2022-12-10T11:40:22.610Z"
   },
   {
    "duration": 17,
    "start_time": "2022-12-10T11:40:22.633Z"
   },
   {
    "duration": 7,
    "start_time": "2022-12-10T11:40:22.677Z"
   },
   {
    "duration": 196,
    "start_time": "2022-12-10T11:40:22.686Z"
   },
   {
    "duration": 8,
    "start_time": "2022-12-10T11:40:22.884Z"
   },
   {
    "duration": 19,
    "start_time": "2022-12-10T11:40:22.894Z"
   },
   {
    "duration": 6,
    "start_time": "2022-12-10T11:40:22.915Z"
   },
   {
    "duration": 173,
    "start_time": "2022-12-10T11:40:22.923Z"
   },
   {
    "duration": 14,
    "start_time": "2022-12-10T11:40:23.099Z"
   },
   {
    "duration": 6,
    "start_time": "2022-12-10T11:40:23.115Z"
   },
   {
    "duration": 105,
    "start_time": "2022-12-10T11:40:23.123Z"
   },
   {
    "duration": 8,
    "start_time": "2022-12-10T11:40:23.231Z"
   },
   {
    "duration": 44,
    "start_time": "2022-12-10T11:40:23.241Z"
   },
   {
    "duration": 63,
    "start_time": "2022-12-10T11:40:23.287Z"
   },
   {
    "duration": 29,
    "start_time": "2022-12-10T11:40:23.352Z"
   },
   {
    "duration": 26,
    "start_time": "2022-12-10T11:40:23.384Z"
   },
   {
    "duration": 13,
    "start_time": "2022-12-10T11:40:23.412Z"
   },
   {
    "duration": 13,
    "start_time": "2022-12-10T11:40:23.427Z"
   },
   {
    "duration": 280,
    "start_time": "2022-12-10T11:40:23.442Z"
   },
   {
    "duration": 12,
    "start_time": "2022-12-10T11:40:23.725Z"
   },
   {
    "duration": 10,
    "start_time": "2022-12-10T11:40:23.740Z"
   },
   {
    "duration": 53,
    "start_time": "2022-12-10T11:40:23.753Z"
   },
   {
    "duration": 14,
    "start_time": "2022-12-10T11:40:23.809Z"
   },
   {
    "duration": 16,
    "start_time": "2022-12-10T11:40:23.826Z"
   },
   {
    "duration": 43,
    "start_time": "2022-12-10T11:40:23.845Z"
   },
   {
    "duration": 16,
    "start_time": "2022-12-10T11:40:23.891Z"
   },
   {
    "duration": 11,
    "start_time": "2022-12-10T11:40:23.909Z"
   },
   {
    "duration": 13,
    "start_time": "2022-12-10T11:40:23.922Z"
   },
   {
    "duration": 44,
    "start_time": "2022-12-10T11:40:23.937Z"
   },
   {
    "duration": 24,
    "start_time": "2022-12-10T11:40:23.983Z"
   },
   {
    "duration": 25,
    "start_time": "2022-12-10T11:40:24.009Z"
   },
   {
    "duration": 14,
    "start_time": "2022-12-10T11:40:24.036Z"
   },
   {
    "duration": 20,
    "start_time": "2022-12-10T11:40:24.079Z"
   },
   {
    "duration": 31,
    "start_time": "2022-12-10T11:40:24.102Z"
   },
   {
    "duration": 47,
    "start_time": "2022-12-10T11:40:24.135Z"
   },
   {
    "duration": 42,
    "start_time": "2022-12-10T11:40:24.184Z"
   },
   {
    "duration": 15,
    "start_time": "2022-12-10T11:40:24.229Z"
   },
   {
    "duration": 66,
    "start_time": "2022-12-10T11:40:24.246Z"
   },
   {
    "duration": 12,
    "start_time": "2022-12-10T11:40:24.314Z"
   },
   {
    "duration": 12,
    "start_time": "2022-12-10T11:40:24.333Z"
   },
   {
    "duration": 37,
    "start_time": "2022-12-10T11:40:24.348Z"
   },
   {
    "duration": 130,
    "start_time": "2022-12-10T11:40:24.387Z"
   },
   {
    "duration": 10,
    "start_time": "2022-12-10T11:40:24.519Z"
   },
   {
    "duration": 50,
    "start_time": "2022-12-10T11:40:24.532Z"
   },
   {
    "duration": 11,
    "start_time": "2022-12-10T11:40:24.584Z"
   },
   {
    "duration": 19,
    "start_time": "2022-12-10T11:40:24.597Z"
   },
   {
    "duration": 6,
    "start_time": "2022-12-10T11:40:24.618Z"
   },
   {
    "duration": 60,
    "start_time": "2022-12-10T11:40:24.625Z"
   },
   {
    "duration": 21,
    "start_time": "2022-12-10T11:40:24.686Z"
   },
   {
    "duration": 11,
    "start_time": "2022-12-10T11:40:24.710Z"
   },
   {
    "duration": 14,
    "start_time": "2022-12-10T11:40:24.723Z"
   },
   {
    "duration": 51,
    "start_time": "2022-12-10T11:40:24.743Z"
   },
   {
    "duration": 6,
    "start_time": "2022-12-10T11:40:24.796Z"
   },
   {
    "duration": 24,
    "start_time": "2022-12-10T11:40:24.804Z"
   },
   {
    "duration": 49,
    "start_time": "2022-12-10T11:40:24.830Z"
   },
   {
    "duration": 15,
    "start_time": "2022-12-10T11:40:24.882Z"
   },
   {
    "duration": 27,
    "start_time": "2022-12-10T11:40:24.899Z"
   },
   {
    "duration": 0,
    "start_time": "2022-12-10T11:40:24.929Z"
   },
   {
    "duration": 0,
    "start_time": "2022-12-10T11:40:24.930Z"
   },
   {
    "duration": 0,
    "start_time": "2022-12-10T11:40:24.932Z"
   },
   {
    "duration": 0,
    "start_time": "2022-12-10T11:40:24.934Z"
   },
   {
    "duration": 19,
    "start_time": "2022-12-10T11:53:58.459Z"
   },
   {
    "duration": 17,
    "start_time": "2022-12-10T11:54:09.241Z"
   },
   {
    "duration": 19,
    "start_time": "2022-12-10T11:54:24.481Z"
   },
   {
    "duration": 27,
    "start_time": "2022-12-10T11:54:42.623Z"
   },
   {
    "duration": 20,
    "start_time": "2022-12-10T11:55:10.454Z"
   },
   {
    "duration": 1372,
    "start_time": "2022-12-10T11:55:26.746Z"
   },
   {
    "duration": 431,
    "start_time": "2022-12-10T11:55:28.120Z"
   },
   {
    "duration": 4,
    "start_time": "2022-12-10T11:55:28.553Z"
   },
   {
    "duration": 64,
    "start_time": "2022-12-10T11:55:28.559Z"
   },
   {
    "duration": 150,
    "start_time": "2022-12-10T11:55:28.625Z"
   },
   {
    "duration": 9,
    "start_time": "2022-12-10T11:55:28.778Z"
   },
   {
    "duration": 32,
    "start_time": "2022-12-10T11:55:28.788Z"
   },
   {
    "duration": 33,
    "start_time": "2022-12-10T11:55:28.822Z"
   },
   {
    "duration": 33,
    "start_time": "2022-12-10T11:55:28.857Z"
   },
   {
    "duration": 55,
    "start_time": "2022-12-10T11:55:28.894Z"
   },
   {
    "duration": 66,
    "start_time": "2022-12-10T11:55:28.950Z"
   },
   {
    "duration": 2600,
    "start_time": "2022-12-10T11:55:29.018Z"
   },
   {
    "duration": 59,
    "start_time": "2022-12-10T11:55:31.620Z"
   },
   {
    "duration": 434,
    "start_time": "2022-12-10T11:55:31.680Z"
   },
   {
    "duration": 7,
    "start_time": "2022-12-10T11:55:32.116Z"
   },
   {
    "duration": 9,
    "start_time": "2022-12-10T11:55:32.125Z"
   },
   {
    "duration": 43,
    "start_time": "2022-12-10T11:55:32.136Z"
   },
   {
    "duration": 34,
    "start_time": "2022-12-10T11:55:32.181Z"
   },
   {
    "duration": 74,
    "start_time": "2022-12-10T11:55:32.216Z"
   },
   {
    "duration": 56,
    "start_time": "2022-12-10T11:55:32.292Z"
   },
   {
    "duration": 37,
    "start_time": "2022-12-10T11:55:32.350Z"
   },
   {
    "duration": 32,
    "start_time": "2022-12-10T11:55:32.389Z"
   },
   {
    "duration": 68,
    "start_time": "2022-12-10T11:55:32.423Z"
   },
   {
    "duration": 53,
    "start_time": "2022-12-10T11:55:32.493Z"
   },
   {
    "duration": 5,
    "start_time": "2022-12-10T11:55:32.547Z"
   },
   {
    "duration": 37,
    "start_time": "2022-12-10T11:55:32.554Z"
   },
   {
    "duration": 41,
    "start_time": "2022-12-10T11:55:32.593Z"
   },
   {
    "duration": 78,
    "start_time": "2022-12-10T11:55:32.639Z"
   },
   {
    "duration": 37,
    "start_time": "2022-12-10T11:55:32.719Z"
   },
   {
    "duration": 53,
    "start_time": "2022-12-10T11:55:32.758Z"
   },
   {
    "duration": 10,
    "start_time": "2022-12-10T11:55:32.813Z"
   },
   {
    "duration": 186,
    "start_time": "2022-12-10T11:55:32.825Z"
   },
   {
    "duration": 11,
    "start_time": "2022-12-10T11:55:33.013Z"
   },
   {
    "duration": 24,
    "start_time": "2022-12-10T11:55:33.026Z"
   },
   {
    "duration": 41,
    "start_time": "2022-12-10T11:55:33.052Z"
   },
   {
    "duration": 46,
    "start_time": "2022-12-10T11:55:33.095Z"
   },
   {
    "duration": 71,
    "start_time": "2022-12-10T11:55:33.143Z"
   },
   {
    "duration": 26,
    "start_time": "2022-12-10T11:55:33.215Z"
   },
   {
    "duration": 169,
    "start_time": "2022-12-10T11:55:33.243Z"
   },
   {
    "duration": 26,
    "start_time": "2022-12-10T11:55:33.414Z"
   },
   {
    "duration": 44,
    "start_time": "2022-12-10T11:55:33.442Z"
   },
   {
    "duration": 295,
    "start_time": "2022-12-10T11:55:33.488Z"
   },
   {
    "duration": 19,
    "start_time": "2022-12-10T11:55:33.785Z"
   },
   {
    "duration": 16,
    "start_time": "2022-12-10T11:55:33.805Z"
   },
   {
    "duration": 13,
    "start_time": "2022-12-10T11:55:33.823Z"
   },
   {
    "duration": 215,
    "start_time": "2022-12-10T11:55:33.838Z"
   },
   {
    "duration": 9,
    "start_time": "2022-12-10T11:55:34.055Z"
   },
   {
    "duration": 26,
    "start_time": "2022-12-10T11:55:34.066Z"
   },
   {
    "duration": 5,
    "start_time": "2022-12-10T11:55:34.094Z"
   },
   {
    "duration": 120,
    "start_time": "2022-12-10T11:55:34.101Z"
   },
   {
    "duration": 12,
    "start_time": "2022-12-10T11:55:34.223Z"
   },
   {
    "duration": 7,
    "start_time": "2022-12-10T11:55:34.237Z"
   },
   {
    "duration": 93,
    "start_time": "2022-12-10T11:55:34.246Z"
   },
   {
    "duration": 6,
    "start_time": "2022-12-10T11:55:34.341Z"
   },
   {
    "duration": 31,
    "start_time": "2022-12-10T11:55:34.348Z"
   },
   {
    "duration": 57,
    "start_time": "2022-12-10T11:55:34.381Z"
   },
   {
    "duration": 11,
    "start_time": "2022-12-10T11:55:34.440Z"
   },
   {
    "duration": 46,
    "start_time": "2022-12-10T11:55:34.453Z"
   },
   {
    "duration": 12,
    "start_time": "2022-12-10T11:55:34.501Z"
   },
   {
    "duration": 16,
    "start_time": "2022-12-10T11:55:34.515Z"
   },
   {
    "duration": 243,
    "start_time": "2022-12-10T11:55:34.533Z"
   },
   {
    "duration": 8,
    "start_time": "2022-12-10T11:55:34.778Z"
   },
   {
    "duration": 10,
    "start_time": "2022-12-10T11:55:34.788Z"
   },
   {
    "duration": 21,
    "start_time": "2022-12-10T11:55:34.800Z"
   },
   {
    "duration": 10,
    "start_time": "2022-12-10T11:55:34.823Z"
   },
   {
    "duration": 17,
    "start_time": "2022-12-10T11:55:34.835Z"
   },
   {
    "duration": 16,
    "start_time": "2022-12-10T11:55:34.877Z"
   },
   {
    "duration": 20,
    "start_time": "2022-12-10T11:55:34.895Z"
   },
   {
    "duration": 15,
    "start_time": "2022-12-10T11:55:34.917Z"
   },
   {
    "duration": 11,
    "start_time": "2022-12-10T11:55:34.935Z"
   },
   {
    "duration": 11,
    "start_time": "2022-12-10T11:55:34.978Z"
   },
   {
    "duration": 15,
    "start_time": "2022-12-10T11:55:34.991Z"
   },
   {
    "duration": 19,
    "start_time": "2022-12-10T11:55:35.008Z"
   },
   {
    "duration": 10,
    "start_time": "2022-12-10T11:55:35.029Z"
   },
   {
    "duration": 16,
    "start_time": "2022-12-10T11:55:35.078Z"
   },
   {
    "duration": 30,
    "start_time": "2022-12-10T11:55:35.096Z"
   },
   {
    "duration": 20,
    "start_time": "2022-12-10T11:55:35.129Z"
   },
   {
    "duration": 56,
    "start_time": "2022-12-10T11:55:35.151Z"
   },
   {
    "duration": 11,
    "start_time": "2022-12-10T11:55:35.209Z"
   },
   {
    "duration": 71,
    "start_time": "2022-12-10T11:55:35.222Z"
   },
   {
    "duration": 12,
    "start_time": "2022-12-10T11:55:35.295Z"
   },
   {
    "duration": 11,
    "start_time": "2022-12-10T11:55:35.313Z"
   },
   {
    "duration": 10,
    "start_time": "2022-12-10T11:55:35.325Z"
   },
   {
    "duration": 148,
    "start_time": "2022-12-10T11:55:35.337Z"
   },
   {
    "duration": 11,
    "start_time": "2022-12-10T11:55:35.486Z"
   },
   {
    "duration": 14,
    "start_time": "2022-12-10T11:55:35.499Z"
   },
   {
    "duration": 12,
    "start_time": "2022-12-10T11:55:35.515Z"
   },
   {
    "duration": 53,
    "start_time": "2022-12-10T11:55:35.529Z"
   },
   {
    "duration": 5,
    "start_time": "2022-12-10T11:55:35.584Z"
   },
   {
    "duration": 21,
    "start_time": "2022-12-10T11:55:35.591Z"
   },
   {
    "duration": 19,
    "start_time": "2022-12-10T11:55:35.615Z"
   },
   {
    "duration": 41,
    "start_time": "2022-12-10T11:55:35.636Z"
   },
   {
    "duration": 14,
    "start_time": "2022-12-10T11:55:35.679Z"
   },
   {
    "duration": 19,
    "start_time": "2022-12-10T11:55:35.695Z"
   },
   {
    "duration": 5,
    "start_time": "2022-12-10T11:55:35.716Z"
   },
   {
    "duration": 21,
    "start_time": "2022-12-10T11:55:35.723Z"
   },
   {
    "duration": 49,
    "start_time": "2022-12-10T11:55:35.746Z"
   },
   {
    "duration": 17,
    "start_time": "2022-12-10T11:55:35.797Z"
   },
   {
    "duration": 43,
    "start_time": "2022-12-10T11:55:35.816Z"
   },
   {
    "duration": 0,
    "start_time": "2022-12-10T11:55:35.862Z"
   },
   {
    "duration": 0,
    "start_time": "2022-12-10T11:55:35.863Z"
   },
   {
    "duration": 0,
    "start_time": "2022-12-10T11:55:35.865Z"
   },
   {
    "duration": 0,
    "start_time": "2022-12-10T11:55:35.877Z"
   },
   {
    "duration": 12,
    "start_time": "2022-12-10T11:56:27.860Z"
   },
   {
    "duration": 15,
    "start_time": "2022-12-10T11:56:53.735Z"
   },
   {
    "duration": 12,
    "start_time": "2022-12-10T11:57:12.465Z"
   },
   {
    "duration": 11,
    "start_time": "2022-12-10T11:57:44.454Z"
   },
   {
    "duration": 8,
    "start_time": "2022-12-10T11:58:09.934Z"
   },
   {
    "duration": 1283,
    "start_time": "2022-12-10T11:58:21.715Z"
   },
   {
    "duration": 320,
    "start_time": "2022-12-10T11:58:23.000Z"
   },
   {
    "duration": 4,
    "start_time": "2022-12-10T11:58:23.322Z"
   },
   {
    "duration": 59,
    "start_time": "2022-12-10T11:58:23.329Z"
   },
   {
    "duration": 152,
    "start_time": "2022-12-10T11:58:23.390Z"
   },
   {
    "duration": 8,
    "start_time": "2022-12-10T11:58:23.544Z"
   },
   {
    "duration": 31,
    "start_time": "2022-12-10T11:58:23.554Z"
   },
   {
    "duration": 34,
    "start_time": "2022-12-10T11:58:23.586Z"
   },
   {
    "duration": 31,
    "start_time": "2022-12-10T11:58:23.622Z"
   },
   {
    "duration": 72,
    "start_time": "2022-12-10T11:58:23.656Z"
   },
   {
    "duration": 5,
    "start_time": "2022-12-10T11:58:23.730Z"
   },
   {
    "duration": 2383,
    "start_time": "2022-12-10T11:58:23.737Z"
   },
   {
    "duration": 57,
    "start_time": "2022-12-10T11:58:26.122Z"
   },
   {
    "duration": 483,
    "start_time": "2022-12-10T11:58:26.180Z"
   },
   {
    "duration": 13,
    "start_time": "2022-12-10T11:58:26.665Z"
   },
   {
    "duration": 6,
    "start_time": "2022-12-10T11:58:26.680Z"
   },
   {
    "duration": 12,
    "start_time": "2022-12-10T11:58:26.687Z"
   },
   {
    "duration": 87,
    "start_time": "2022-12-10T11:58:26.701Z"
   },
   {
    "duration": 55,
    "start_time": "2022-12-10T11:58:26.790Z"
   },
   {
    "duration": 77,
    "start_time": "2022-12-10T11:58:26.847Z"
   },
   {
    "duration": 20,
    "start_time": "2022-12-10T11:58:26.926Z"
   },
   {
    "duration": 53,
    "start_time": "2022-12-10T11:58:26.948Z"
   },
   {
    "duration": 45,
    "start_time": "2022-12-10T11:58:27.003Z"
   },
   {
    "duration": 73,
    "start_time": "2022-12-10T11:58:27.050Z"
   },
   {
    "duration": 4,
    "start_time": "2022-12-10T11:58:27.125Z"
   },
   {
    "duration": 12,
    "start_time": "2022-12-10T11:58:27.131Z"
   },
   {
    "duration": 70,
    "start_time": "2022-12-10T11:58:27.144Z"
   },
   {
    "duration": 74,
    "start_time": "2022-12-10T11:58:27.219Z"
   },
   {
    "duration": 36,
    "start_time": "2022-12-10T11:58:27.295Z"
   },
   {
    "duration": 56,
    "start_time": "2022-12-10T11:58:27.333Z"
   },
   {
    "duration": 10,
    "start_time": "2022-12-10T11:58:27.390Z"
   },
   {
    "duration": 182,
    "start_time": "2022-12-10T11:58:27.402Z"
   },
   {
    "duration": 9,
    "start_time": "2022-12-10T11:58:27.586Z"
   },
   {
    "duration": 18,
    "start_time": "2022-12-10T11:58:27.596Z"
   },
   {
    "duration": 21,
    "start_time": "2022-12-10T11:58:27.616Z"
   },
   {
    "duration": 78,
    "start_time": "2022-12-10T11:58:27.639Z"
   },
   {
    "duration": 66,
    "start_time": "2022-12-10T11:58:27.719Z"
   },
   {
    "duration": 23,
    "start_time": "2022-12-10T11:58:27.786Z"
   },
   {
    "duration": 188,
    "start_time": "2022-12-10T11:58:27.811Z"
   },
   {
    "duration": 24,
    "start_time": "2022-12-10T11:58:28.001Z"
   },
   {
    "duration": 20,
    "start_time": "2022-12-10T11:58:28.027Z"
   },
   {
    "duration": 342,
    "start_time": "2022-12-10T11:58:28.049Z"
   },
   {
    "duration": 27,
    "start_time": "2022-12-10T11:58:28.393Z"
   },
   {
    "duration": 29,
    "start_time": "2022-12-10T11:58:28.422Z"
   },
   {
    "duration": 6,
    "start_time": "2022-12-10T11:58:28.453Z"
   },
   {
    "duration": 183,
    "start_time": "2022-12-10T11:58:28.478Z"
   },
   {
    "duration": 16,
    "start_time": "2022-12-10T11:58:28.662Z"
   },
   {
    "duration": 13,
    "start_time": "2022-12-10T11:58:28.680Z"
   },
   {
    "duration": 5,
    "start_time": "2022-12-10T11:58:28.695Z"
   },
   {
    "duration": 109,
    "start_time": "2022-12-10T11:58:28.701Z"
   },
   {
    "duration": 16,
    "start_time": "2022-12-10T11:58:28.811Z"
   },
   {
    "duration": 8,
    "start_time": "2022-12-10T11:58:28.828Z"
   },
   {
    "duration": 91,
    "start_time": "2022-12-10T11:58:28.838Z"
   },
   {
    "duration": 7,
    "start_time": "2022-12-10T11:58:28.931Z"
   },
   {
    "duration": 15,
    "start_time": "2022-12-10T11:58:28.940Z"
   },
   {
    "duration": 75,
    "start_time": "2022-12-10T11:58:28.979Z"
   },
   {
    "duration": 25,
    "start_time": "2022-12-10T11:58:29.056Z"
   },
   {
    "duration": 17,
    "start_time": "2022-12-10T11:58:29.082Z"
   },
   {
    "duration": 8,
    "start_time": "2022-12-10T11:58:29.101Z"
   },
   {
    "duration": 12,
    "start_time": "2022-12-10T11:58:29.111Z"
   },
   {
    "duration": 236,
    "start_time": "2022-12-10T11:58:29.125Z"
   },
   {
    "duration": 15,
    "start_time": "2022-12-10T11:58:29.364Z"
   },
   {
    "duration": 7,
    "start_time": "2022-12-10T11:58:29.381Z"
   },
   {
    "duration": 22,
    "start_time": "2022-12-10T11:58:29.389Z"
   },
   {
    "duration": 10,
    "start_time": "2022-12-10T11:58:29.413Z"
   },
   {
    "duration": 14,
    "start_time": "2022-12-10T11:58:29.424Z"
   },
   {
    "duration": 39,
    "start_time": "2022-12-10T11:58:29.439Z"
   },
   {
    "duration": 12,
    "start_time": "2022-12-10T11:58:29.480Z"
   },
   {
    "duration": 10,
    "start_time": "2022-12-10T11:58:29.494Z"
   },
   {
    "duration": 10,
    "start_time": "2022-12-10T11:58:29.505Z"
   },
   {
    "duration": 11,
    "start_time": "2022-12-10T11:58:29.517Z"
   },
   {
    "duration": 51,
    "start_time": "2022-12-10T11:58:29.529Z"
   },
   {
    "duration": 18,
    "start_time": "2022-12-10T11:58:29.582Z"
   },
   {
    "duration": 11,
    "start_time": "2022-12-10T11:58:29.601Z"
   },
   {
    "duration": 15,
    "start_time": "2022-12-10T11:58:29.614Z"
   },
   {
    "duration": 64,
    "start_time": "2022-12-10T11:58:29.631Z"
   },
   {
    "duration": 13,
    "start_time": "2022-12-10T11:58:29.697Z"
   },
   {
    "duration": 31,
    "start_time": "2022-12-10T11:58:29.712Z"
   },
   {
    "duration": 34,
    "start_time": "2022-12-10T11:58:29.744Z"
   },
   {
    "duration": 38,
    "start_time": "2022-12-10T11:58:29.780Z"
   },
   {
    "duration": 11,
    "start_time": "2022-12-10T11:58:29.820Z"
   },
   {
    "duration": 10,
    "start_time": "2022-12-10T11:58:29.837Z"
   },
   {
    "duration": 11,
    "start_time": "2022-12-10T11:58:29.877Z"
   },
   {
    "duration": 131,
    "start_time": "2022-12-10T11:58:29.890Z"
   },
   {
    "duration": 12,
    "start_time": "2022-12-10T11:58:30.024Z"
   },
   {
    "duration": 48,
    "start_time": "2022-12-10T11:58:30.038Z"
   },
   {
    "duration": 13,
    "start_time": "2022-12-10T11:58:30.088Z"
   },
   {
    "duration": 25,
    "start_time": "2022-12-10T11:58:30.103Z"
   },
   {
    "duration": 5,
    "start_time": "2022-12-10T11:58:30.129Z"
   },
   {
    "duration": 56,
    "start_time": "2022-12-10T11:58:30.136Z"
   },
   {
    "duration": 19,
    "start_time": "2022-12-10T11:58:30.194Z"
   },
   {
    "duration": 25,
    "start_time": "2022-12-10T11:58:30.215Z"
   },
   {
    "duration": 19,
    "start_time": "2022-12-10T11:58:30.242Z"
   },
   {
    "duration": 40,
    "start_time": "2022-12-10T11:58:30.263Z"
   },
   {
    "duration": 24,
    "start_time": "2022-12-10T11:58:30.305Z"
   },
   {
    "duration": 64,
    "start_time": "2022-12-10T11:58:30.330Z"
   },
   {
    "duration": 39,
    "start_time": "2022-12-10T11:58:30.396Z"
   },
   {
    "duration": 20,
    "start_time": "2022-12-10T11:58:30.437Z"
   },
   {
    "duration": 53,
    "start_time": "2022-12-10T11:58:30.459Z"
   },
   {
    "duration": 0,
    "start_time": "2022-12-10T11:58:30.513Z"
   },
   {
    "duration": 0,
    "start_time": "2022-12-10T11:58:30.515Z"
   },
   {
    "duration": 0,
    "start_time": "2022-12-10T11:58:30.516Z"
   },
   {
    "duration": 0,
    "start_time": "2022-12-10T11:58:30.517Z"
   },
   {
    "duration": 32,
    "start_time": "2022-12-10T12:05:33.149Z"
   },
   {
    "duration": 86,
    "start_time": "2022-12-10T12:08:31.323Z"
   },
   {
    "duration": 7,
    "start_time": "2022-12-10T12:13:15.917Z"
   },
   {
    "duration": 23,
    "start_time": "2022-12-10T12:13:59.424Z"
   },
   {
    "duration": 1319,
    "start_time": "2022-12-10T12:15:19.529Z"
   },
   {
    "duration": 678,
    "start_time": "2022-12-10T12:15:20.851Z"
   },
   {
    "duration": 6,
    "start_time": "2022-12-10T12:15:21.531Z"
   },
   {
    "duration": 68,
    "start_time": "2022-12-10T12:15:21.539Z"
   },
   {
    "duration": 202,
    "start_time": "2022-12-10T12:15:21.610Z"
   },
   {
    "duration": 12,
    "start_time": "2022-12-10T12:15:21.815Z"
   },
   {
    "duration": 23,
    "start_time": "2022-12-10T12:15:21.829Z"
   },
   {
    "duration": 70,
    "start_time": "2022-12-10T12:15:21.854Z"
   },
   {
    "duration": 60,
    "start_time": "2022-12-10T12:15:21.927Z"
   },
   {
    "duration": 101,
    "start_time": "2022-12-10T12:15:21.992Z"
   },
   {
    "duration": 7,
    "start_time": "2022-12-10T12:15:22.096Z"
   },
   {
    "duration": 2498,
    "start_time": "2022-12-10T12:15:22.105Z"
   },
   {
    "duration": 75,
    "start_time": "2022-12-10T12:15:24.605Z"
   },
   {
    "duration": 517,
    "start_time": "2022-12-10T12:15:24.683Z"
   },
   {
    "duration": 8,
    "start_time": "2022-12-10T12:15:25.202Z"
   },
   {
    "duration": 14,
    "start_time": "2022-12-10T12:15:25.212Z"
   },
   {
    "duration": 34,
    "start_time": "2022-12-10T12:15:25.228Z"
   },
   {
    "duration": 56,
    "start_time": "2022-12-10T12:15:25.278Z"
   },
   {
    "duration": 52,
    "start_time": "2022-12-10T12:15:25.337Z"
   },
   {
    "duration": 96,
    "start_time": "2022-12-10T12:15:25.391Z"
   },
   {
    "duration": 36,
    "start_time": "2022-12-10T12:15:25.489Z"
   },
   {
    "duration": 46,
    "start_time": "2022-12-10T12:15:25.526Z"
   },
   {
    "duration": 76,
    "start_time": "2022-12-10T12:15:25.574Z"
   },
   {
    "duration": 62,
    "start_time": "2022-12-10T12:15:25.652Z"
   },
   {
    "duration": 21,
    "start_time": "2022-12-10T12:15:25.717Z"
   },
   {
    "duration": 35,
    "start_time": "2022-12-10T12:15:25.740Z"
   },
   {
    "duration": 81,
    "start_time": "2022-12-10T12:15:25.777Z"
   },
   {
    "duration": 79,
    "start_time": "2022-12-10T12:15:25.865Z"
   },
   {
    "duration": 45,
    "start_time": "2022-12-10T12:15:25.946Z"
   },
   {
    "duration": 36,
    "start_time": "2022-12-10T12:15:25.992Z"
   },
   {
    "duration": 10,
    "start_time": "2022-12-10T12:15:26.030Z"
   },
   {
    "duration": 189,
    "start_time": "2022-12-10T12:15:26.042Z"
   },
   {
    "duration": 13,
    "start_time": "2022-12-10T12:15:26.233Z"
   },
   {
    "duration": 46,
    "start_time": "2022-12-10T12:15:26.248Z"
   },
   {
    "duration": 33,
    "start_time": "2022-12-10T12:15:26.297Z"
   },
   {
    "duration": 87,
    "start_time": "2022-12-10T12:15:26.332Z"
   },
   {
    "duration": 102,
    "start_time": "2022-12-10T12:15:26.422Z"
   },
   {
    "duration": 29,
    "start_time": "2022-12-10T12:15:26.527Z"
   },
   {
    "duration": 188,
    "start_time": "2022-12-10T12:15:26.558Z"
   },
   {
    "duration": 39,
    "start_time": "2022-12-10T12:15:26.748Z"
   },
   {
    "duration": 30,
    "start_time": "2022-12-10T12:15:26.790Z"
   },
   {
    "duration": 341,
    "start_time": "2022-12-10T12:15:26.823Z"
   },
   {
    "duration": 33,
    "start_time": "2022-12-10T12:15:27.165Z"
   },
   {
    "duration": 22,
    "start_time": "2022-12-10T12:15:27.200Z"
   },
   {
    "duration": 7,
    "start_time": "2022-12-10T12:15:27.225Z"
   },
   {
    "duration": 237,
    "start_time": "2022-12-10T12:15:27.234Z"
   },
   {
    "duration": 14,
    "start_time": "2022-12-10T12:15:27.477Z"
   },
   {
    "duration": 25,
    "start_time": "2022-12-10T12:15:27.493Z"
   },
   {
    "duration": 6,
    "start_time": "2022-12-10T12:15:27.520Z"
   },
   {
    "duration": 196,
    "start_time": "2022-12-10T12:15:27.528Z"
   },
   {
    "duration": 14,
    "start_time": "2022-12-10T12:15:27.727Z"
   },
   {
    "duration": 10,
    "start_time": "2022-12-10T12:15:27.743Z"
   },
   {
    "duration": 100,
    "start_time": "2022-12-10T12:15:27.755Z"
   },
   {
    "duration": 28,
    "start_time": "2022-12-10T12:15:27.859Z"
   },
   {
    "duration": 20,
    "start_time": "2022-12-10T12:15:27.889Z"
   },
   {
    "duration": 117,
    "start_time": "2022-12-10T12:15:27.912Z"
   },
   {
    "duration": 15,
    "start_time": "2022-12-10T12:15:28.031Z"
   },
   {
    "duration": 42,
    "start_time": "2022-12-10T12:15:28.049Z"
   },
   {
    "duration": 12,
    "start_time": "2022-12-10T12:15:28.094Z"
   },
   {
    "duration": 16,
    "start_time": "2022-12-10T12:15:28.109Z"
   },
   {
    "duration": 345,
    "start_time": "2022-12-10T12:15:28.127Z"
   },
   {
    "duration": 14,
    "start_time": "2022-12-10T12:15:28.477Z"
   },
   {
    "duration": 55,
    "start_time": "2022-12-10T12:15:28.493Z"
   },
   {
    "duration": 46,
    "start_time": "2022-12-10T12:15:28.550Z"
   },
   {
    "duration": 22,
    "start_time": "2022-12-10T12:15:28.599Z"
   },
   {
    "duration": 31,
    "start_time": "2022-12-10T12:15:28.624Z"
   },
   {
    "duration": 29,
    "start_time": "2022-12-10T12:15:28.657Z"
   },
   {
    "duration": 66,
    "start_time": "2022-12-10T12:15:28.688Z"
   },
   {
    "duration": 61,
    "start_time": "2022-12-10T12:15:28.756Z"
   },
   {
    "duration": 74,
    "start_time": "2022-12-10T12:15:28.821Z"
   },
   {
    "duration": 23,
    "start_time": "2022-12-10T12:15:28.897Z"
   },
   {
    "duration": 29,
    "start_time": "2022-12-10T12:15:28.922Z"
   },
   {
    "duration": 33,
    "start_time": "2022-12-10T12:15:28.953Z"
   },
   {
    "duration": 13,
    "start_time": "2022-12-10T12:15:28.989Z"
   },
   {
    "duration": 17,
    "start_time": "2022-12-10T12:15:29.004Z"
   },
   {
    "duration": 60,
    "start_time": "2022-12-10T12:15:29.024Z"
   },
   {
    "duration": 22,
    "start_time": "2022-12-10T12:15:29.086Z"
   },
   {
    "duration": 35,
    "start_time": "2022-12-10T12:15:29.111Z"
   },
   {
    "duration": 39,
    "start_time": "2022-12-10T12:15:29.148Z"
   },
   {
    "duration": 45,
    "start_time": "2022-12-10T12:15:29.190Z"
   },
   {
    "duration": 13,
    "start_time": "2022-12-10T12:15:29.238Z"
   },
   {
    "duration": 15,
    "start_time": "2022-12-10T12:15:29.283Z"
   },
   {
    "duration": 14,
    "start_time": "2022-12-10T12:15:29.300Z"
   },
   {
    "duration": 136,
    "start_time": "2022-12-10T12:15:29.316Z"
   },
   {
    "duration": 26,
    "start_time": "2022-12-10T12:15:29.454Z"
   },
   {
    "duration": 18,
    "start_time": "2022-12-10T12:15:29.483Z"
   },
   {
    "duration": 11,
    "start_time": "2022-12-10T12:15:29.503Z"
   },
   {
    "duration": 63,
    "start_time": "2022-12-10T12:15:29.516Z"
   },
   {
    "duration": 6,
    "start_time": "2022-12-10T12:15:29.582Z"
   },
   {
    "duration": 34,
    "start_time": "2022-12-10T12:15:29.591Z"
   },
   {
    "duration": 111,
    "start_time": "2022-12-10T12:15:29.628Z"
   },
   {
    "duration": 7,
    "start_time": "2022-12-10T12:15:29.741Z"
   },
   {
    "duration": 35,
    "start_time": "2022-12-10T12:15:29.750Z"
   },
   {
    "duration": 12,
    "start_time": "2022-12-10T12:15:29.787Z"
   },
   {
    "duration": 17,
    "start_time": "2022-12-10T12:15:29.801Z"
   },
   {
    "duration": 23,
    "start_time": "2022-12-10T12:15:29.821Z"
   },
   {
    "duration": 6,
    "start_time": "2022-12-10T12:15:29.878Z"
   },
   {
    "duration": 34,
    "start_time": "2022-12-10T12:15:29.886Z"
   },
   {
    "duration": 50,
    "start_time": "2022-12-10T12:15:29.922Z"
   },
   {
    "duration": 21,
    "start_time": "2022-12-10T12:15:29.974Z"
   },
   {
    "duration": 33,
    "start_time": "2022-12-10T12:15:29.997Z"
   },
   {
    "duration": 0,
    "start_time": "2022-12-10T12:15:30.032Z"
   },
   {
    "duration": 0,
    "start_time": "2022-12-10T12:15:30.034Z"
   },
   {
    "duration": 0,
    "start_time": "2022-12-10T12:15:30.036Z"
   },
   {
    "duration": 0,
    "start_time": "2022-12-10T12:15:30.038Z"
   },
   {
    "duration": 20,
    "start_time": "2022-12-10T12:18:14.875Z"
   },
   {
    "duration": 27,
    "start_time": "2022-12-10T12:18:26.139Z"
   },
   {
    "duration": 4,
    "start_time": "2022-12-10T12:19:49.020Z"
   },
   {
    "duration": 3,
    "start_time": "2022-12-10T12:19:54.540Z"
   },
   {
    "duration": 6,
    "start_time": "2022-12-10T12:19:58.097Z"
   },
   {
    "duration": 9,
    "start_time": "2022-12-10T12:21:03.793Z"
   },
   {
    "duration": 7,
    "start_time": "2022-12-10T12:21:38.537Z"
   },
   {
    "duration": 7,
    "start_time": "2022-12-10T12:21:56.771Z"
   },
   {
    "duration": 22,
    "start_time": "2022-12-10T12:22:01.329Z"
   },
   {
    "duration": 10,
    "start_time": "2022-12-10T12:22:13.312Z"
   },
   {
    "duration": 26,
    "start_time": "2022-12-10T12:22:14.310Z"
   },
   {
    "duration": 111,
    "start_time": "2022-12-10T12:22:28.217Z"
   },
   {
    "duration": 72,
    "start_time": "2022-12-10T12:27:18.234Z"
   },
   {
    "duration": 55,
    "start_time": "2022-12-10T12:27:28.566Z"
   },
   {
    "duration": 27,
    "start_time": "2022-12-10T12:27:40.630Z"
   },
   {
    "duration": 21,
    "start_time": "2022-12-10T12:27:57.341Z"
   },
   {
    "duration": 9,
    "start_time": "2022-12-10T12:30:17.142Z"
   },
   {
    "duration": 11,
    "start_time": "2022-12-10T12:30:25.288Z"
   },
   {
    "duration": 14,
    "start_time": "2022-12-10T12:30:33.778Z"
   },
   {
    "duration": 13,
    "start_time": "2022-12-10T12:31:32.658Z"
   },
   {
    "duration": 17,
    "start_time": "2022-12-10T12:31:41.250Z"
   },
   {
    "duration": 19,
    "start_time": "2022-12-10T12:41:14.879Z"
   },
   {
    "duration": 1435,
    "start_time": "2022-12-10T12:41:48.456Z"
   },
   {
    "duration": 375,
    "start_time": "2022-12-10T12:41:49.894Z"
   },
   {
    "duration": 8,
    "start_time": "2022-12-10T12:41:50.273Z"
   },
   {
    "duration": 82,
    "start_time": "2022-12-10T12:41:50.284Z"
   },
   {
    "duration": 196,
    "start_time": "2022-12-10T12:41:50.368Z"
   },
   {
    "duration": 10,
    "start_time": "2022-12-10T12:41:50.578Z"
   },
   {
    "duration": 16,
    "start_time": "2022-12-10T12:41:50.590Z"
   },
   {
    "duration": 50,
    "start_time": "2022-12-10T12:41:50.608Z"
   },
   {
    "duration": 43,
    "start_time": "2022-12-10T12:41:50.660Z"
   },
   {
    "duration": 80,
    "start_time": "2022-12-10T12:41:50.706Z"
   },
   {
    "duration": 7,
    "start_time": "2022-12-10T12:41:50.788Z"
   },
   {
    "duration": 2604,
    "start_time": "2022-12-10T12:41:50.797Z"
   },
   {
    "duration": 27,
    "start_time": "2022-12-10T12:41:53.404Z"
   },
   {
    "duration": 579,
    "start_time": "2022-12-10T12:41:53.433Z"
   },
   {
    "duration": 9,
    "start_time": "2022-12-10T12:41:54.014Z"
   },
   {
    "duration": 11,
    "start_time": "2022-12-10T12:41:54.025Z"
   },
   {
    "duration": 51,
    "start_time": "2022-12-10T12:41:54.039Z"
   },
   {
    "duration": 37,
    "start_time": "2022-12-10T12:41:54.092Z"
   },
   {
    "duration": 95,
    "start_time": "2022-12-10T12:41:54.131Z"
   },
   {
    "duration": 77,
    "start_time": "2022-12-10T12:41:54.229Z"
   },
   {
    "duration": 29,
    "start_time": "2022-12-10T12:41:54.308Z"
   },
   {
    "duration": 68,
    "start_time": "2022-12-10T12:41:54.340Z"
   },
   {
    "duration": 68,
    "start_time": "2022-12-10T12:41:54.410Z"
   },
   {
    "duration": 58,
    "start_time": "2022-12-10T12:41:54.480Z"
   },
   {
    "duration": 5,
    "start_time": "2022-12-10T12:41:54.539Z"
   },
   {
    "duration": 47,
    "start_time": "2022-12-10T12:41:54.546Z"
   },
   {
    "duration": 98,
    "start_time": "2022-12-10T12:41:54.596Z"
   },
   {
    "duration": 79,
    "start_time": "2022-12-10T12:41:54.702Z"
   },
   {
    "duration": 39,
    "start_time": "2022-12-10T12:41:54.783Z"
   },
   {
    "duration": 63,
    "start_time": "2022-12-10T12:41:54.824Z"
   },
   {
    "duration": 10,
    "start_time": "2022-12-10T12:41:54.889Z"
   },
   {
    "duration": 245,
    "start_time": "2022-12-10T12:41:54.901Z"
   },
   {
    "duration": 11,
    "start_time": "2022-12-10T12:41:55.148Z"
   },
   {
    "duration": 29,
    "start_time": "2022-12-10T12:41:55.161Z"
   },
   {
    "duration": 23,
    "start_time": "2022-12-10T12:41:55.192Z"
   },
   {
    "duration": 82,
    "start_time": "2022-12-10T12:41:55.217Z"
   },
   {
    "duration": 61,
    "start_time": "2022-12-10T12:41:55.301Z"
   },
   {
    "duration": 37,
    "start_time": "2022-12-10T12:41:55.364Z"
   },
   {
    "duration": 187,
    "start_time": "2022-12-10T12:41:55.403Z"
   },
   {
    "duration": 27,
    "start_time": "2022-12-10T12:41:55.592Z"
   },
   {
    "duration": 22,
    "start_time": "2022-12-10T12:41:55.620Z"
   },
   {
    "duration": 355,
    "start_time": "2022-12-10T12:41:55.644Z"
   },
   {
    "duration": 21,
    "start_time": "2022-12-10T12:41:56.001Z"
   },
   {
    "duration": 16,
    "start_time": "2022-12-10T12:41:56.024Z"
   },
   {
    "duration": 6,
    "start_time": "2022-12-10T12:41:56.042Z"
   },
   {
    "duration": 220,
    "start_time": "2022-12-10T12:41:56.050Z"
   },
   {
    "duration": 11,
    "start_time": "2022-12-10T12:41:56.278Z"
   },
   {
    "duration": 14,
    "start_time": "2022-12-10T12:41:56.292Z"
   },
   {
    "duration": 6,
    "start_time": "2022-12-10T12:41:56.308Z"
   },
   {
    "duration": 184,
    "start_time": "2022-12-10T12:41:56.316Z"
   },
   {
    "duration": 13,
    "start_time": "2022-12-10T12:41:56.502Z"
   },
   {
    "duration": 7,
    "start_time": "2022-12-10T12:41:56.518Z"
   },
   {
    "duration": 119,
    "start_time": "2022-12-10T12:41:56.527Z"
   },
   {
    "duration": 7,
    "start_time": "2022-12-10T12:41:56.648Z"
   },
   {
    "duration": 32,
    "start_time": "2022-12-10T12:41:56.659Z"
   },
   {
    "duration": 86,
    "start_time": "2022-12-10T12:41:56.694Z"
   },
   {
    "duration": 11,
    "start_time": "2022-12-10T12:41:56.782Z"
   },
   {
    "duration": 18,
    "start_time": "2022-12-10T12:41:56.795Z"
   },
   {
    "duration": 10,
    "start_time": "2022-12-10T12:41:56.815Z"
   },
   {
    "duration": 15,
    "start_time": "2022-12-10T12:41:56.827Z"
   },
   {
    "duration": 233,
    "start_time": "2022-12-10T12:41:56.878Z"
   },
   {
    "duration": 13,
    "start_time": "2022-12-10T12:41:57.113Z"
   },
   {
    "duration": 8,
    "start_time": "2022-12-10T12:41:57.128Z"
   },
   {
    "duration": 40,
    "start_time": "2022-12-10T12:41:57.138Z"
   },
   {
    "duration": 11,
    "start_time": "2022-12-10T12:41:57.180Z"
   },
   {
    "duration": 13,
    "start_time": "2022-12-10T12:41:57.193Z"
   },
   {
    "duration": 16,
    "start_time": "2022-12-10T12:41:57.208Z"
   },
   {
    "duration": 17,
    "start_time": "2022-12-10T12:41:57.226Z"
   },
   {
    "duration": 15,
    "start_time": "2022-12-10T12:41:57.277Z"
   },
   {
    "duration": 16,
    "start_time": "2022-12-10T12:41:57.294Z"
   },
   {
    "duration": 14,
    "start_time": "2022-12-10T12:41:57.312Z"
   },
   {
    "duration": 15,
    "start_time": "2022-12-10T12:41:57.329Z"
   },
   {
    "duration": 46,
    "start_time": "2022-12-10T12:41:57.347Z"
   },
   {
    "duration": 13,
    "start_time": "2022-12-10T12:41:57.395Z"
   },
   {
    "duration": 15,
    "start_time": "2022-12-10T12:41:57.410Z"
   },
   {
    "duration": 62,
    "start_time": "2022-12-10T12:41:57.427Z"
   },
   {
    "duration": 14,
    "start_time": "2022-12-10T12:41:57.491Z"
   },
   {
    "duration": 39,
    "start_time": "2022-12-10T12:41:57.507Z"
   },
   {
    "duration": 16,
    "start_time": "2022-12-10T12:41:57.577Z"
   },
   {
    "duration": 48,
    "start_time": "2022-12-10T12:41:57.595Z"
   },
   {
    "duration": 36,
    "start_time": "2022-12-10T12:41:57.645Z"
   },
   {
    "duration": 11,
    "start_time": "2022-12-10T12:41:57.687Z"
   },
   {
    "duration": 10,
    "start_time": "2022-12-10T12:41:57.700Z"
   },
   {
    "duration": 156,
    "start_time": "2022-12-10T12:41:57.712Z"
   },
   {
    "duration": 17,
    "start_time": "2022-12-10T12:41:57.870Z"
   },
   {
    "duration": 8,
    "start_time": "2022-12-10T12:41:57.889Z"
   },
   {
    "duration": 22,
    "start_time": "2022-12-10T12:41:57.899Z"
   },
   {
    "duration": 59,
    "start_time": "2022-12-10T12:41:57.923Z"
   },
   {
    "duration": 31,
    "start_time": "2022-12-10T12:41:57.984Z"
   },
   {
    "duration": 93,
    "start_time": "2022-12-10T12:41:58.017Z"
   },
   {
    "duration": 6,
    "start_time": "2022-12-10T12:41:58.112Z"
   },
   {
    "duration": 43,
    "start_time": "2022-12-10T12:41:58.120Z"
   },
   {
    "duration": 26,
    "start_time": "2022-12-10T12:41:58.165Z"
   },
   {
    "duration": 18,
    "start_time": "2022-12-10T12:41:58.193Z"
   },
   {
    "duration": 44,
    "start_time": "2022-12-10T12:41:58.213Z"
   },
   {
    "duration": 22,
    "start_time": "2022-12-10T12:41:58.259Z"
   },
   {
    "duration": 43,
    "start_time": "2022-12-10T12:41:58.284Z"
   },
   {
    "duration": 29,
    "start_time": "2022-12-10T12:41:58.330Z"
   },
   {
    "duration": 20,
    "start_time": "2022-12-10T12:41:58.377Z"
   },
   {
    "duration": 46,
    "start_time": "2022-12-10T12:41:58.400Z"
   },
   {
    "duration": 0,
    "start_time": "2022-12-10T12:41:58.448Z"
   },
   {
    "duration": 0,
    "start_time": "2022-12-10T12:41:58.450Z"
   },
   {
    "duration": 0,
    "start_time": "2022-12-10T12:41:58.452Z"
   },
   {
    "duration": 0,
    "start_time": "2022-12-10T12:41:58.453Z"
   },
   {
    "duration": 1363,
    "start_time": "2022-12-10T13:13:03.142Z"
   },
   {
    "duration": 396,
    "start_time": "2022-12-10T13:13:04.508Z"
   },
   {
    "duration": 5,
    "start_time": "2022-12-10T13:13:04.907Z"
   },
   {
    "duration": 75,
    "start_time": "2022-12-10T13:13:04.915Z"
   },
   {
    "duration": 213,
    "start_time": "2022-12-10T13:13:04.992Z"
   },
   {
    "duration": 10,
    "start_time": "2022-12-10T13:13:05.207Z"
   },
   {
    "duration": 14,
    "start_time": "2022-12-10T13:13:05.219Z"
   },
   {
    "duration": 68,
    "start_time": "2022-12-10T13:13:05.235Z"
   },
   {
    "duration": 38,
    "start_time": "2022-12-10T13:13:05.305Z"
   },
   {
    "duration": 84,
    "start_time": "2022-12-10T13:13:05.347Z"
   },
   {
    "duration": 6,
    "start_time": "2022-12-10T13:13:05.433Z"
   },
   {
    "duration": 2664,
    "start_time": "2022-12-10T13:13:05.441Z"
   },
   {
    "duration": 77,
    "start_time": "2022-12-10T13:13:08.108Z"
   },
   {
    "duration": 586,
    "start_time": "2022-12-10T13:13:08.188Z"
   },
   {
    "duration": 10,
    "start_time": "2022-12-10T13:13:08.778Z"
   },
   {
    "duration": 9,
    "start_time": "2022-12-10T13:13:08.791Z"
   },
   {
    "duration": 13,
    "start_time": "2022-12-10T13:13:08.802Z"
   },
   {
    "duration": 86,
    "start_time": "2022-12-10T13:13:08.817Z"
   },
   {
    "duration": 55,
    "start_time": "2022-12-10T13:13:08.905Z"
   },
   {
    "duration": 76,
    "start_time": "2022-12-10T13:13:08.962Z"
   },
   {
    "duration": 51,
    "start_time": "2022-12-10T13:13:09.040Z"
   },
   {
    "duration": 45,
    "start_time": "2022-12-10T13:13:09.093Z"
   },
   {
    "duration": 67,
    "start_time": "2022-12-10T13:13:09.140Z"
   },
   {
    "duration": 72,
    "start_time": "2022-12-10T13:13:09.209Z"
   },
   {
    "duration": 6,
    "start_time": "2022-12-10T13:13:09.282Z"
   },
   {
    "duration": 13,
    "start_time": "2022-12-10T13:13:09.290Z"
   },
   {
    "duration": 73,
    "start_time": "2022-12-10T13:13:09.305Z"
   },
   {
    "duration": 66,
    "start_time": "2022-12-10T13:13:09.382Z"
   },
   {
    "duration": 58,
    "start_time": "2022-12-10T13:13:09.450Z"
   },
   {
    "duration": 68,
    "start_time": "2022-12-10T13:13:09.511Z"
   },
   {
    "duration": 14,
    "start_time": "2022-12-10T13:13:09.581Z"
   },
   {
    "duration": 189,
    "start_time": "2022-12-10T13:13:09.597Z"
   },
   {
    "duration": 10,
    "start_time": "2022-12-10T13:13:09.789Z"
   },
   {
    "duration": 20,
    "start_time": "2022-12-10T13:13:09.801Z"
   },
   {
    "duration": 24,
    "start_time": "2022-12-10T13:13:09.823Z"
   },
   {
    "duration": 60,
    "start_time": "2022-12-10T13:13:09.879Z"
   },
   {
    "duration": 66,
    "start_time": "2022-12-10T13:13:09.940Z"
   },
   {
    "duration": 27,
    "start_time": "2022-12-10T13:13:10.008Z"
   },
   {
    "duration": 217,
    "start_time": "2022-12-10T13:13:10.038Z"
   },
   {
    "duration": 42,
    "start_time": "2022-12-10T13:13:10.258Z"
   },
   {
    "duration": 32,
    "start_time": "2022-12-10T13:13:10.302Z"
   },
   {
    "duration": 414,
    "start_time": "2022-12-10T13:13:10.337Z"
   },
   {
    "duration": 38,
    "start_time": "2022-12-10T13:13:10.753Z"
   },
   {
    "duration": 19,
    "start_time": "2022-12-10T13:13:10.793Z"
   },
   {
    "duration": 7,
    "start_time": "2022-12-10T13:13:10.814Z"
   },
   {
    "duration": 305,
    "start_time": "2022-12-10T13:13:10.824Z"
   },
   {
    "duration": 12,
    "start_time": "2022-12-10T13:13:11.132Z"
   },
   {
    "duration": 35,
    "start_time": "2022-12-10T13:13:11.146Z"
   },
   {
    "duration": 7,
    "start_time": "2022-12-10T13:13:11.184Z"
   },
   {
    "duration": 188,
    "start_time": "2022-12-10T13:13:11.193Z"
   },
   {
    "duration": 19,
    "start_time": "2022-12-10T13:13:11.383Z"
   },
   {
    "duration": 5,
    "start_time": "2022-12-10T13:13:11.405Z"
   },
   {
    "duration": 128,
    "start_time": "2022-12-10T13:13:11.412Z"
   },
   {
    "duration": 8,
    "start_time": "2022-12-10T13:13:11.542Z"
   },
   {
    "duration": 37,
    "start_time": "2022-12-10T13:13:11.552Z"
   },
   {
    "duration": 65,
    "start_time": "2022-12-10T13:13:11.591Z"
   },
   {
    "duration": 30,
    "start_time": "2022-12-10T13:13:11.658Z"
   },
   {
    "duration": 24,
    "start_time": "2022-12-10T13:13:11.690Z"
   },
   {
    "duration": 10,
    "start_time": "2022-12-10T13:13:11.716Z"
   },
   {
    "duration": 13,
    "start_time": "2022-12-10T13:13:11.728Z"
   },
   {
    "duration": 243,
    "start_time": "2022-12-10T13:13:11.778Z"
   },
   {
    "duration": 10,
    "start_time": "2022-12-10T13:13:12.023Z"
   },
   {
    "duration": 13,
    "start_time": "2022-12-10T13:13:12.036Z"
   },
   {
    "duration": 40,
    "start_time": "2022-12-10T13:13:12.052Z"
   },
   {
    "duration": 13,
    "start_time": "2022-12-10T13:13:12.094Z"
   },
   {
    "duration": 14,
    "start_time": "2022-12-10T13:13:12.109Z"
   },
   {
    "duration": 15,
    "start_time": "2022-12-10T13:13:12.125Z"
   },
   {
    "duration": 44,
    "start_time": "2022-12-10T13:13:12.143Z"
   },
   {
    "duration": 11,
    "start_time": "2022-12-10T13:13:12.189Z"
   },
   {
    "duration": 16,
    "start_time": "2022-12-10T13:13:12.203Z"
   },
   {
    "duration": 15,
    "start_time": "2022-12-10T13:13:12.222Z"
   },
   {
    "duration": 48,
    "start_time": "2022-12-10T13:13:12.240Z"
   },
   {
    "duration": 22,
    "start_time": "2022-12-10T13:13:12.290Z"
   },
   {
    "duration": 15,
    "start_time": "2022-12-10T13:13:12.314Z"
   },
   {
    "duration": 29,
    "start_time": "2022-12-10T13:13:12.331Z"
   },
   {
    "duration": 54,
    "start_time": "2022-12-10T13:13:12.361Z"
   },
   {
    "duration": 17,
    "start_time": "2022-12-10T13:13:12.417Z"
   },
   {
    "duration": 61,
    "start_time": "2022-12-10T13:13:12.436Z"
   },
   {
    "duration": 11,
    "start_time": "2022-12-10T13:13:12.499Z"
   },
   {
    "duration": 38,
    "start_time": "2022-12-10T13:13:12.512Z"
   },
   {
    "duration": 34,
    "start_time": "2022-12-10T13:13:12.552Z"
   },
   {
    "duration": 11,
    "start_time": "2022-12-10T13:13:12.592Z"
   },
   {
    "duration": 10,
    "start_time": "2022-12-10T13:13:12.605Z"
   },
   {
    "duration": 150,
    "start_time": "2022-12-10T13:13:12.617Z"
   },
   {
    "duration": 36,
    "start_time": "2022-12-10T13:13:12.768Z"
   },
   {
    "duration": 21,
    "start_time": "2022-12-10T13:13:12.806Z"
   },
   {
    "duration": 17,
    "start_time": "2022-12-10T13:13:12.829Z"
   },
   {
    "duration": 36,
    "start_time": "2022-12-10T13:13:12.848Z"
   },
   {
    "duration": 51,
    "start_time": "2022-12-10T13:13:12.886Z"
   },
   {
    "duration": 166,
    "start_time": "2022-12-10T13:13:12.938Z"
   },
   {
    "duration": 6,
    "start_time": "2022-12-10T13:13:13.106Z"
   },
   {
    "duration": 48,
    "start_time": "2022-12-10T13:13:13.115Z"
   },
   {
    "duration": 30,
    "start_time": "2022-12-10T13:13:13.165Z"
   },
   {
    "duration": 16,
    "start_time": "2022-12-10T13:13:13.197Z"
   },
   {
    "duration": 32,
    "start_time": "2022-12-10T13:13:13.215Z"
   },
   {
    "duration": 52,
    "start_time": "2022-12-10T13:13:13.249Z"
   },
   {
    "duration": 44,
    "start_time": "2022-12-10T13:13:13.303Z"
   },
   {
    "duration": 32,
    "start_time": "2022-12-10T13:13:13.349Z"
   },
   {
    "duration": 18,
    "start_time": "2022-12-10T13:13:13.384Z"
   },
   {
    "duration": 36,
    "start_time": "2022-12-10T13:13:13.404Z"
   },
   {
    "duration": 0,
    "start_time": "2022-12-10T13:13:13.442Z"
   },
   {
    "duration": 0,
    "start_time": "2022-12-10T13:13:13.444Z"
   },
   {
    "duration": 0,
    "start_time": "2022-12-10T13:13:13.446Z"
   },
   {
    "duration": 0,
    "start_time": "2022-12-10T13:13:13.447Z"
   },
   {
    "duration": 6,
    "start_time": "2022-12-10T13:14:44.672Z"
   },
   {
    "duration": 24,
    "start_time": "2022-12-10T13:14:47.848Z"
   },
   {
    "duration": 18,
    "start_time": "2022-12-10T13:25:04.443Z"
   },
   {
    "duration": 19,
    "start_time": "2022-12-10T13:25:16.865Z"
   },
   {
    "duration": 368,
    "start_time": "2022-12-10T13:25:43.500Z"
   },
   {
    "duration": 260,
    "start_time": "2022-12-10T13:25:52.740Z"
   },
   {
    "duration": 9,
    "start_time": "2022-12-10T13:38:10.442Z"
   },
   {
    "duration": 12,
    "start_time": "2022-12-10T13:39:02.355Z"
   },
   {
    "duration": 8,
    "start_time": "2022-12-10T13:39:03.002Z"
   },
   {
    "duration": 13,
    "start_time": "2022-12-10T13:39:03.693Z"
   },
   {
    "duration": 13,
    "start_time": "2022-12-10T13:39:27.274Z"
   },
   {
    "duration": 1408,
    "start_time": "2022-12-10T13:40:27.584Z"
   },
   {
    "duration": 387,
    "start_time": "2022-12-10T13:40:29.003Z"
   },
   {
    "duration": 5,
    "start_time": "2022-12-10T13:40:29.392Z"
   },
   {
    "duration": 79,
    "start_time": "2022-12-10T13:40:29.402Z"
   },
   {
    "duration": 227,
    "start_time": "2022-12-10T13:40:29.484Z"
   },
   {
    "duration": 10,
    "start_time": "2022-12-10T13:40:29.713Z"
   },
   {
    "duration": 11,
    "start_time": "2022-12-10T13:40:29.726Z"
   },
   {
    "duration": 65,
    "start_time": "2022-12-10T13:40:29.740Z"
   },
   {
    "duration": 31,
    "start_time": "2022-12-10T13:40:29.807Z"
   },
   {
    "duration": 92,
    "start_time": "2022-12-10T13:40:29.842Z"
   },
   {
    "duration": 6,
    "start_time": "2022-12-10T13:40:29.936Z"
   },
   {
    "duration": 2711,
    "start_time": "2022-12-10T13:40:29.944Z"
   },
   {
    "duration": 47,
    "start_time": "2022-12-10T13:40:32.658Z"
   },
   {
    "duration": 520,
    "start_time": "2022-12-10T13:40:32.707Z"
   },
   {
    "duration": 7,
    "start_time": "2022-12-10T13:40:33.229Z"
   },
   {
    "duration": 8,
    "start_time": "2022-12-10T13:40:33.238Z"
   },
   {
    "duration": 44,
    "start_time": "2022-12-10T13:40:33.248Z"
   },
   {
    "duration": 46,
    "start_time": "2022-12-10T13:40:33.296Z"
   },
   {
    "duration": 92,
    "start_time": "2022-12-10T13:40:33.344Z"
   },
   {
    "duration": 84,
    "start_time": "2022-12-10T13:40:33.438Z"
   },
   {
    "duration": 24,
    "start_time": "2022-12-10T13:40:33.524Z"
   },
   {
    "duration": 61,
    "start_time": "2022-12-10T13:40:33.551Z"
   },
   {
    "duration": 48,
    "start_time": "2022-12-10T13:40:33.614Z"
   },
   {
    "duration": 59,
    "start_time": "2022-12-10T13:40:33.678Z"
   },
   {
    "duration": 7,
    "start_time": "2022-12-10T13:40:33.738Z"
   },
   {
    "duration": 49,
    "start_time": "2022-12-10T13:40:33.747Z"
   },
   {
    "duration": 56,
    "start_time": "2022-12-10T13:40:33.799Z"
   },
   {
    "duration": 87,
    "start_time": "2022-12-10T13:40:33.861Z"
   },
   {
    "duration": 51,
    "start_time": "2022-12-10T13:40:33.950Z"
   },
   {
    "duration": 48,
    "start_time": "2022-12-10T13:40:34.003Z"
   },
   {
    "duration": 33,
    "start_time": "2022-12-10T13:40:34.053Z"
   },
   {
    "duration": 185,
    "start_time": "2022-12-10T13:40:34.088Z"
   },
   {
    "duration": 23,
    "start_time": "2022-12-10T13:40:34.275Z"
   },
   {
    "duration": 22,
    "start_time": "2022-12-10T13:40:34.300Z"
   },
   {
    "duration": 23,
    "start_time": "2022-12-10T13:40:34.324Z"
   },
   {
    "duration": 87,
    "start_time": "2022-12-10T13:40:34.349Z"
   },
   {
    "duration": 77,
    "start_time": "2022-12-10T13:40:34.438Z"
   },
   {
    "duration": 28,
    "start_time": "2022-12-10T13:40:34.517Z"
   },
   {
    "duration": 191,
    "start_time": "2022-12-10T13:40:34.547Z"
   },
   {
    "duration": 51,
    "start_time": "2022-12-10T13:40:34.740Z"
   },
   {
    "duration": 30,
    "start_time": "2022-12-10T13:40:34.796Z"
   },
   {
    "duration": 328,
    "start_time": "2022-12-10T13:40:34.829Z"
   },
   {
    "duration": 35,
    "start_time": "2022-12-10T13:40:35.159Z"
   },
   {
    "duration": 22,
    "start_time": "2022-12-10T13:40:35.197Z"
   },
   {
    "duration": 6,
    "start_time": "2022-12-10T13:40:35.221Z"
   },
   {
    "duration": 225,
    "start_time": "2022-12-10T13:40:35.229Z"
   },
   {
    "duration": 8,
    "start_time": "2022-12-10T13:40:35.456Z"
   },
   {
    "duration": 32,
    "start_time": "2022-12-10T13:40:35.466Z"
   },
   {
    "duration": 15,
    "start_time": "2022-12-10T13:40:35.501Z"
   },
   {
    "duration": 128,
    "start_time": "2022-12-10T13:40:35.518Z"
   },
   {
    "duration": 30,
    "start_time": "2022-12-10T13:40:35.649Z"
   },
   {
    "duration": 25,
    "start_time": "2022-12-10T13:40:35.681Z"
   },
   {
    "duration": 92,
    "start_time": "2022-12-10T13:40:35.708Z"
   },
   {
    "duration": 8,
    "start_time": "2022-12-10T13:40:35.802Z"
   },
   {
    "duration": 28,
    "start_time": "2022-12-10T13:40:35.812Z"
   },
   {
    "duration": 106,
    "start_time": "2022-12-10T13:40:35.842Z"
   },
   {
    "duration": 12,
    "start_time": "2022-12-10T13:40:35.950Z"
   },
   {
    "duration": 25,
    "start_time": "2022-12-10T13:40:35.980Z"
   },
   {
    "duration": 12,
    "start_time": "2022-12-10T13:40:36.007Z"
   },
   {
    "duration": 15,
    "start_time": "2022-12-10T13:40:36.021Z"
   },
   {
    "duration": 263,
    "start_time": "2022-12-10T13:40:36.038Z"
   },
   {
    "duration": 10,
    "start_time": "2022-12-10T13:40:36.303Z"
   },
   {
    "duration": 9,
    "start_time": "2022-12-10T13:40:36.316Z"
   },
   {
    "duration": 24,
    "start_time": "2022-12-10T13:40:36.327Z"
   },
   {
    "duration": 30,
    "start_time": "2022-12-10T13:40:36.353Z"
   },
   {
    "duration": 15,
    "start_time": "2022-12-10T13:40:36.394Z"
   },
   {
    "duration": 13,
    "start_time": "2022-12-10T13:40:36.411Z"
   },
   {
    "duration": 12,
    "start_time": "2022-12-10T13:40:36.426Z"
   },
   {
    "duration": 11,
    "start_time": "2022-12-10T13:40:36.439Z"
   },
   {
    "duration": 19,
    "start_time": "2022-12-10T13:40:36.478Z"
   },
   {
    "duration": 18,
    "start_time": "2022-12-10T13:40:36.499Z"
   },
   {
    "duration": 16,
    "start_time": "2022-12-10T13:40:36.519Z"
   },
   {
    "duration": 50,
    "start_time": "2022-12-10T13:40:36.537Z"
   },
   {
    "duration": 13,
    "start_time": "2022-12-10T13:40:36.589Z"
   },
   {
    "duration": 21,
    "start_time": "2022-12-10T13:40:36.605Z"
   },
   {
    "duration": 57,
    "start_time": "2022-12-10T13:40:36.628Z"
   },
   {
    "duration": 20,
    "start_time": "2022-12-10T13:40:36.692Z"
   },
   {
    "duration": 32,
    "start_time": "2022-12-10T13:40:36.714Z"
   },
   {
    "duration": 12,
    "start_time": "2022-12-10T13:40:36.748Z"
   },
   {
    "duration": 58,
    "start_time": "2022-12-10T13:40:36.781Z"
   },
   {
    "duration": 12,
    "start_time": "2022-12-10T13:40:36.841Z"
   },
   {
    "duration": 20,
    "start_time": "2022-12-10T13:40:36.885Z"
   },
   {
    "duration": 19,
    "start_time": "2022-12-10T13:40:36.908Z"
   },
   {
    "duration": 425,
    "start_time": "2022-12-10T13:40:36.929Z"
   },
   {
    "duration": 30,
    "start_time": "2022-12-10T13:40:37.357Z"
   },
   {
    "duration": 14,
    "start_time": "2022-12-10T13:40:37.388Z"
   },
   {
    "duration": 22,
    "start_time": "2022-12-10T13:40:37.405Z"
   },
   {
    "duration": 64,
    "start_time": "2022-12-10T13:40:37.429Z"
   },
   {
    "duration": 57,
    "start_time": "2022-12-10T13:40:37.494Z"
   },
   {
    "duration": 172,
    "start_time": "2022-12-10T13:40:37.553Z"
   },
   {
    "duration": 9,
    "start_time": "2022-12-10T13:40:37.727Z"
   },
   {
    "duration": 43,
    "start_time": "2022-12-10T13:40:37.738Z"
   },
   {
    "duration": 24,
    "start_time": "2022-12-10T13:40:37.783Z"
   },
   {
    "duration": 10,
    "start_time": "2022-12-10T13:40:37.810Z"
   },
   {
    "duration": 14,
    "start_time": "2022-12-10T13:40:37.822Z"
   },
   {
    "duration": 9,
    "start_time": "2022-12-10T13:40:37.838Z"
   },
   {
    "duration": 83,
    "start_time": "2022-12-10T13:40:37.849Z"
   },
   {
    "duration": 165,
    "start_time": "2022-12-10T13:40:37.934Z"
   },
   {
    "duration": 23,
    "start_time": "2022-12-10T13:40:38.101Z"
   },
   {
    "duration": 45,
    "start_time": "2022-12-10T13:40:38.127Z"
   },
   {
    "duration": 36,
    "start_time": "2022-12-10T13:40:38.175Z"
   },
   {
    "duration": 144,
    "start_time": "2022-12-10T13:40:38.213Z"
   },
   {
    "duration": 24,
    "start_time": "2022-12-10T13:40:38.360Z"
   },
   {
    "duration": 58,
    "start_time": "2022-12-10T13:40:38.389Z"
   },
   {
    "duration": 44,
    "start_time": "2022-12-10T13:40:38.449Z"
   },
   {
    "duration": 60,
    "start_time": "2022-12-10T13:40:38.496Z"
   },
   {
    "duration": 76,
    "start_time": "2022-12-10T13:40:38.558Z"
   },
   {
    "duration": 0,
    "start_time": "2022-12-10T13:40:38.636Z"
   },
   {
    "duration": 0,
    "start_time": "2022-12-10T13:40:38.638Z"
   },
   {
    "duration": 0,
    "start_time": "2022-12-10T13:40:38.639Z"
   },
   {
    "duration": 0,
    "start_time": "2022-12-10T13:40:38.641Z"
   },
   {
    "duration": 1344,
    "start_time": "2022-12-10T13:53:18.996Z"
   },
   {
    "duration": 311,
    "start_time": "2022-12-10T13:53:20.342Z"
   },
   {
    "duration": 5,
    "start_time": "2022-12-10T13:53:20.655Z"
   },
   {
    "duration": 63,
    "start_time": "2022-12-10T13:53:20.662Z"
   },
   {
    "duration": 210,
    "start_time": "2022-12-10T13:53:20.727Z"
   },
   {
    "duration": 11,
    "start_time": "2022-12-10T13:53:20.939Z"
   },
   {
    "duration": 55,
    "start_time": "2022-12-10T13:53:20.952Z"
   },
   {
    "duration": 48,
    "start_time": "2022-12-10T13:53:21.009Z"
   },
   {
    "duration": 40,
    "start_time": "2022-12-10T13:53:21.059Z"
   },
   {
    "duration": 57,
    "start_time": "2022-12-10T13:53:21.101Z"
   },
   {
    "duration": 6,
    "start_time": "2022-12-10T13:53:21.159Z"
   },
   {
    "duration": 2576,
    "start_time": "2022-12-10T13:53:21.166Z"
   },
   {
    "duration": 50,
    "start_time": "2022-12-10T13:53:23.744Z"
   },
   {
    "duration": 495,
    "start_time": "2022-12-10T13:53:23.798Z"
   },
   {
    "duration": 7,
    "start_time": "2022-12-10T13:53:24.296Z"
   },
   {
    "duration": 6,
    "start_time": "2022-12-10T13:53:24.305Z"
   },
   {
    "duration": 15,
    "start_time": "2022-12-10T13:53:24.313Z"
   },
   {
    "duration": 84,
    "start_time": "2022-12-10T13:53:24.330Z"
   },
   {
    "duration": 79,
    "start_time": "2022-12-10T13:53:24.416Z"
   },
   {
    "duration": 57,
    "start_time": "2022-12-10T13:53:24.497Z"
   },
   {
    "duration": 24,
    "start_time": "2022-12-10T13:53:24.578Z"
   },
   {
    "duration": 36,
    "start_time": "2022-12-10T13:53:24.604Z"
   },
   {
    "duration": 72,
    "start_time": "2022-12-10T13:53:24.643Z"
   },
   {
    "duration": 77,
    "start_time": "2022-12-10T13:53:24.717Z"
   },
   {
    "duration": 7,
    "start_time": "2022-12-10T13:53:24.796Z"
   },
   {
    "duration": 14,
    "start_time": "2022-12-10T13:53:24.806Z"
   },
   {
    "duration": 72,
    "start_time": "2022-12-10T13:53:24.822Z"
   },
   {
    "duration": 102,
    "start_time": "2022-12-10T13:53:24.896Z"
   },
   {
    "duration": 40,
    "start_time": "2022-12-10T13:53:25.000Z"
   },
   {
    "duration": 66,
    "start_time": "2022-12-10T13:53:25.042Z"
   },
   {
    "duration": 11,
    "start_time": "2022-12-10T13:53:25.110Z"
   },
   {
    "duration": 177,
    "start_time": "2022-12-10T13:53:25.123Z"
   },
   {
    "duration": 11,
    "start_time": "2022-12-10T13:53:25.302Z"
   },
   {
    "duration": 17,
    "start_time": "2022-12-10T13:53:25.315Z"
   },
   {
    "duration": 58,
    "start_time": "2022-12-10T13:53:25.334Z"
   },
   {
    "duration": 45,
    "start_time": "2022-12-10T13:53:25.395Z"
   },
   {
    "duration": 79,
    "start_time": "2022-12-10T13:53:25.442Z"
   },
   {
    "duration": 25,
    "start_time": "2022-12-10T13:53:25.523Z"
   },
   {
    "duration": 187,
    "start_time": "2022-12-10T13:53:25.550Z"
   },
   {
    "duration": 24,
    "start_time": "2022-12-10T13:53:25.739Z"
   },
   {
    "duration": 25,
    "start_time": "2022-12-10T13:53:25.778Z"
   },
   {
    "duration": 311,
    "start_time": "2022-12-10T13:53:25.805Z"
   },
   {
    "duration": 22,
    "start_time": "2022-12-10T13:53:26.118Z"
   },
   {
    "duration": 37,
    "start_time": "2022-12-10T13:53:26.142Z"
   },
   {
    "duration": 13,
    "start_time": "2022-12-10T13:53:26.182Z"
   },
   {
    "duration": 194,
    "start_time": "2022-12-10T13:53:26.197Z"
   },
   {
    "duration": 8,
    "start_time": "2022-12-10T13:53:26.395Z"
   },
   {
    "duration": 17,
    "start_time": "2022-12-10T13:53:26.405Z"
   },
   {
    "duration": 6,
    "start_time": "2022-12-10T13:53:26.423Z"
   },
   {
    "duration": 129,
    "start_time": "2022-12-10T13:53:26.431Z"
   },
   {
    "duration": 32,
    "start_time": "2022-12-10T13:53:26.562Z"
   },
   {
    "duration": 5,
    "start_time": "2022-12-10T13:53:26.597Z"
   },
   {
    "duration": 93,
    "start_time": "2022-12-10T13:53:26.604Z"
   },
   {
    "duration": 7,
    "start_time": "2022-12-10T13:53:26.699Z"
   },
   {
    "duration": 33,
    "start_time": "2022-12-10T13:53:26.708Z"
   },
   {
    "duration": 77,
    "start_time": "2022-12-10T13:53:26.743Z"
   },
   {
    "duration": 11,
    "start_time": "2022-12-10T13:53:26.822Z"
   },
   {
    "duration": 20,
    "start_time": "2022-12-10T13:53:26.835Z"
   },
   {
    "duration": 26,
    "start_time": "2022-12-10T13:53:26.856Z"
   },
   {
    "duration": 23,
    "start_time": "2022-12-10T13:53:26.884Z"
   },
   {
    "duration": 228,
    "start_time": "2022-12-10T13:53:26.908Z"
   },
   {
    "duration": 10,
    "start_time": "2022-12-10T13:53:27.138Z"
   },
   {
    "duration": 8,
    "start_time": "2022-12-10T13:53:27.150Z"
   },
   {
    "duration": 48,
    "start_time": "2022-12-10T13:53:27.160Z"
   },
   {
    "duration": 9,
    "start_time": "2022-12-10T13:53:27.210Z"
   },
   {
    "duration": 12,
    "start_time": "2022-12-10T13:53:27.221Z"
   },
   {
    "duration": 14,
    "start_time": "2022-12-10T13:53:27.235Z"
   },
   {
    "duration": 34,
    "start_time": "2022-12-10T13:53:27.251Z"
   },
   {
    "duration": 14,
    "start_time": "2022-12-10T13:53:27.291Z"
   },
   {
    "duration": 11,
    "start_time": "2022-12-10T13:53:27.306Z"
   },
   {
    "duration": 13,
    "start_time": "2022-12-10T13:53:27.319Z"
   },
   {
    "duration": 20,
    "start_time": "2022-12-10T13:53:27.334Z"
   },
   {
    "duration": 40,
    "start_time": "2022-12-10T13:53:27.356Z"
   },
   {
    "duration": 13,
    "start_time": "2022-12-10T13:53:27.398Z"
   },
   {
    "duration": 15,
    "start_time": "2022-12-10T13:53:27.413Z"
   },
   {
    "duration": 60,
    "start_time": "2022-12-10T13:53:27.431Z"
   },
   {
    "duration": 16,
    "start_time": "2022-12-10T13:53:27.492Z"
   },
   {
    "duration": 30,
    "start_time": "2022-12-10T13:53:27.509Z"
   },
   {
    "duration": 40,
    "start_time": "2022-12-10T13:53:27.542Z"
   },
   {
    "duration": 41,
    "start_time": "2022-12-10T13:53:27.585Z"
   },
   {
    "duration": 11,
    "start_time": "2022-12-10T13:53:27.627Z"
   },
   {
    "duration": 45,
    "start_time": "2022-12-10T13:53:27.640Z"
   },
   {
    "duration": 24,
    "start_time": "2022-12-10T13:53:27.687Z"
   },
   {
    "duration": 295,
    "start_time": "2022-12-10T13:53:27.713Z"
   },
   {
    "duration": 17,
    "start_time": "2022-12-10T13:53:28.010Z"
   },
   {
    "duration": 9,
    "start_time": "2022-12-10T13:53:28.029Z"
   },
   {
    "duration": 19,
    "start_time": "2022-12-10T13:53:28.081Z"
   },
   {
    "duration": 12,
    "start_time": "2022-12-10T13:53:28.102Z"
   },
   {
    "duration": 75,
    "start_time": "2022-12-10T13:53:28.116Z"
   },
   {
    "duration": 199,
    "start_time": "2022-12-10T13:53:28.192Z"
   },
   {
    "duration": 12,
    "start_time": "2022-12-10T13:53:28.396Z"
   },
   {
    "duration": 30,
    "start_time": "2022-12-10T13:53:28.410Z"
   },
   {
    "duration": 19,
    "start_time": "2022-12-10T13:53:28.442Z"
   },
   {
    "duration": 16,
    "start_time": "2022-12-10T13:53:28.463Z"
   },
   {
    "duration": 33,
    "start_time": "2022-12-10T13:53:28.483Z"
   },
   {
    "duration": 17,
    "start_time": "2022-12-10T13:53:28.518Z"
   },
   {
    "duration": 51,
    "start_time": "2022-12-10T13:53:28.538Z"
   },
   {
    "duration": 158,
    "start_time": "2022-12-10T13:53:28.592Z"
   },
   {
    "duration": 35,
    "start_time": "2022-12-10T13:53:28.753Z"
   },
   {
    "duration": 36,
    "start_time": "2022-12-10T14:45:33.265Z"
   },
   {
    "duration": 1378,
    "start_time": "2022-12-10T14:46:02.258Z"
   },
   {
    "duration": 297,
    "start_time": "2022-12-10T14:46:03.638Z"
   },
   {
    "duration": 5,
    "start_time": "2022-12-10T14:46:03.937Z"
   },
   {
    "duration": 67,
    "start_time": "2022-12-10T14:46:03.943Z"
   },
   {
    "duration": 205,
    "start_time": "2022-12-10T14:46:04.013Z"
   },
   {
    "duration": 11,
    "start_time": "2022-12-10T14:46:04.220Z"
   },
   {
    "duration": 16,
    "start_time": "2022-12-10T14:46:04.233Z"
   },
   {
    "duration": 52,
    "start_time": "2022-12-10T14:46:04.251Z"
   },
   {
    "duration": 48,
    "start_time": "2022-12-10T14:46:04.306Z"
   },
   {
    "duration": 87,
    "start_time": "2022-12-10T14:46:04.357Z"
   },
   {
    "duration": 6,
    "start_time": "2022-12-10T14:46:04.446Z"
   },
   {
    "duration": 2541,
    "start_time": "2022-12-10T14:46:04.454Z"
   },
   {
    "duration": 33,
    "start_time": "2022-12-10T14:46:07.000Z"
   },
   {
    "duration": 505,
    "start_time": "2022-12-10T14:46:07.036Z"
   },
   {
    "duration": 8,
    "start_time": "2022-12-10T14:46:07.543Z"
   },
   {
    "duration": 27,
    "start_time": "2022-12-10T14:46:07.552Z"
   },
   {
    "duration": 32,
    "start_time": "2022-12-10T14:46:07.581Z"
   },
   {
    "duration": 72,
    "start_time": "2022-12-10T14:46:07.616Z"
   },
   {
    "duration": 53,
    "start_time": "2022-12-10T14:46:07.692Z"
   },
   {
    "duration": 76,
    "start_time": "2022-12-10T14:46:07.747Z"
   },
   {
    "duration": 28,
    "start_time": "2022-12-10T14:46:07.826Z"
   },
   {
    "duration": 78,
    "start_time": "2022-12-10T14:46:07.856Z"
   },
   {
    "duration": 72,
    "start_time": "2022-12-10T14:46:07.936Z"
   },
   {
    "duration": 78,
    "start_time": "2022-12-10T14:46:08.010Z"
   },
   {
    "duration": 7,
    "start_time": "2022-12-10T14:46:08.096Z"
   },
   {
    "duration": 14,
    "start_time": "2022-12-10T14:46:08.105Z"
   },
   {
    "duration": 83,
    "start_time": "2022-12-10T14:46:08.121Z"
   },
   {
    "duration": 97,
    "start_time": "2022-12-10T14:46:08.206Z"
   },
   {
    "duration": 46,
    "start_time": "2022-12-10T14:46:08.307Z"
   },
   {
    "duration": 60,
    "start_time": "2022-12-10T14:46:08.356Z"
   },
   {
    "duration": 11,
    "start_time": "2022-12-10T14:46:08.418Z"
   },
   {
    "duration": 212,
    "start_time": "2022-12-10T14:46:08.431Z"
   },
   {
    "duration": 13,
    "start_time": "2022-12-10T14:46:08.645Z"
   },
   {
    "duration": 39,
    "start_time": "2022-12-10T14:46:08.661Z"
   },
   {
    "duration": 31,
    "start_time": "2022-12-10T14:46:08.702Z"
   },
   {
    "duration": 77,
    "start_time": "2022-12-10T14:46:08.735Z"
   },
   {
    "duration": 93,
    "start_time": "2022-12-10T14:46:08.814Z"
   },
   {
    "duration": 28,
    "start_time": "2022-12-10T14:46:08.909Z"
   },
   {
    "duration": 173,
    "start_time": "2022-12-10T14:46:08.939Z"
   },
   {
    "duration": 25,
    "start_time": "2022-12-10T14:46:09.114Z"
   },
   {
    "duration": 53,
    "start_time": "2022-12-10T14:46:09.144Z"
   },
   {
    "duration": 299,
    "start_time": "2022-12-10T14:46:09.199Z"
   },
   {
    "duration": 21,
    "start_time": "2022-12-10T14:46:09.499Z"
   },
   {
    "duration": 17,
    "start_time": "2022-12-10T14:46:09.521Z"
   },
   {
    "duration": 6,
    "start_time": "2022-12-10T14:46:09.540Z"
   },
   {
    "duration": 242,
    "start_time": "2022-12-10T14:46:09.548Z"
   },
   {
    "duration": 13,
    "start_time": "2022-12-10T14:46:09.792Z"
   },
   {
    "duration": 19,
    "start_time": "2022-12-10T14:46:09.807Z"
   },
   {
    "duration": 6,
    "start_time": "2022-12-10T14:46:09.828Z"
   },
   {
    "duration": 158,
    "start_time": "2022-12-10T14:46:09.836Z"
   },
   {
    "duration": 13,
    "start_time": "2022-12-10T14:46:09.996Z"
   },
   {
    "duration": 7,
    "start_time": "2022-12-10T14:46:10.011Z"
   },
   {
    "duration": 128,
    "start_time": "2022-12-10T14:46:10.020Z"
   },
   {
    "duration": 8,
    "start_time": "2022-12-10T14:46:10.150Z"
   },
   {
    "duration": 40,
    "start_time": "2022-12-10T14:46:10.160Z"
   },
   {
    "duration": 64,
    "start_time": "2022-12-10T14:46:10.202Z"
   },
   {
    "duration": 18,
    "start_time": "2022-12-10T14:46:10.278Z"
   },
   {
    "duration": 19,
    "start_time": "2022-12-10T14:46:10.299Z"
   },
   {
    "duration": 12,
    "start_time": "2022-12-10T14:46:10.320Z"
   },
   {
    "duration": 13,
    "start_time": "2022-12-10T14:46:10.335Z"
   },
   {
    "duration": 265,
    "start_time": "2022-12-10T14:46:10.349Z"
   },
   {
    "duration": 10,
    "start_time": "2022-12-10T14:46:10.616Z"
   },
   {
    "duration": 9,
    "start_time": "2022-12-10T14:46:10.629Z"
   },
   {
    "duration": 8,
    "start_time": "2022-12-10T14:46:10.640Z"
   },
   {
    "duration": 46,
    "start_time": "2022-12-10T14:46:10.651Z"
   },
   {
    "duration": 18,
    "start_time": "2022-12-10T14:46:10.699Z"
   },
   {
    "duration": 14,
    "start_time": "2022-12-10T14:46:10.720Z"
   },
   {
    "duration": 15,
    "start_time": "2022-12-10T14:46:10.736Z"
   },
   {
    "duration": 17,
    "start_time": "2022-12-10T14:46:10.780Z"
   },
   {
    "duration": 21,
    "start_time": "2022-12-10T14:46:10.800Z"
   },
   {
    "duration": 32,
    "start_time": "2022-12-10T14:46:10.824Z"
   },
   {
    "duration": 18,
    "start_time": "2022-12-10T14:46:10.881Z"
   },
   {
    "duration": 35,
    "start_time": "2022-12-10T14:46:10.901Z"
   },
   {
    "duration": 44,
    "start_time": "2022-12-10T14:46:10.938Z"
   },
   {
    "duration": 62,
    "start_time": "2022-12-10T14:46:10.984Z"
   },
   {
    "duration": 13,
    "start_time": "2022-12-10T14:46:11.048Z"
   },
   {
    "duration": 42,
    "start_time": "2022-12-10T14:46:11.063Z"
   },
   {
    "duration": 29,
    "start_time": "2022-12-10T14:46:11.107Z"
   },
   {
    "duration": 438,
    "start_time": "2022-12-10T14:46:11.139Z"
   },
   {
    "duration": 23,
    "start_time": "2022-12-10T14:46:11.582Z"
   },
   {
    "duration": 12,
    "start_time": "2022-12-10T14:46:11.607Z"
   },
   {
    "duration": 70,
    "start_time": "2022-12-10T14:46:11.621Z"
   },
   {
    "duration": 18,
    "start_time": "2022-12-10T14:46:11.695Z"
   },
   {
    "duration": 49,
    "start_time": "2022-12-10T14:46:11.715Z"
   },
   {
    "duration": 189,
    "start_time": "2022-12-10T14:46:11.766Z"
   },
   {
    "duration": 22,
    "start_time": "2022-12-10T14:46:11.958Z"
   },
   {
    "duration": 35,
    "start_time": "2022-12-10T14:46:11.987Z"
   },
   {
    "duration": 13,
    "start_time": "2022-12-10T14:46:12.024Z"
   },
   {
    "duration": 9,
    "start_time": "2022-12-10T14:46:12.039Z"
   },
   {
    "duration": 31,
    "start_time": "2022-12-10T14:46:12.052Z"
   },
   {
    "duration": 15,
    "start_time": "2022-12-10T14:46:12.084Z"
   },
   {
    "duration": 42,
    "start_time": "2022-12-10T14:46:12.101Z"
   },
   {
    "duration": 174,
    "start_time": "2022-12-10T14:46:12.145Z"
   },
   {
    "duration": 23,
    "start_time": "2022-12-10T14:46:12.322Z"
   },
   {
    "duration": 20,
    "start_time": "2022-12-10T15:02:52.291Z"
   },
   {
    "duration": 16,
    "start_time": "2022-12-10T15:03:33.071Z"
   },
   {
    "duration": 15,
    "start_time": "2022-12-10T15:03:45.996Z"
   },
   {
    "duration": 1318,
    "start_time": "2022-12-10T15:41:19.795Z"
   },
   {
    "duration": 702,
    "start_time": "2022-12-10T15:41:21.115Z"
   },
   {
    "duration": 6,
    "start_time": "2022-12-10T15:41:21.819Z"
   },
   {
    "duration": 74,
    "start_time": "2022-12-10T15:41:21.828Z"
   },
   {
    "duration": 197,
    "start_time": "2022-12-10T15:41:21.904Z"
   },
   {
    "duration": 9,
    "start_time": "2022-12-10T15:41:22.103Z"
   },
   {
    "duration": 11,
    "start_time": "2022-12-10T15:41:22.113Z"
   },
   {
    "duration": 55,
    "start_time": "2022-12-10T15:41:22.126Z"
   },
   {
    "duration": 36,
    "start_time": "2022-12-10T15:41:22.183Z"
   },
   {
    "duration": 75,
    "start_time": "2022-12-10T15:41:22.222Z"
   },
   {
    "duration": 19,
    "start_time": "2022-12-10T15:41:22.299Z"
   },
   {
    "duration": 2626,
    "start_time": "2022-12-10T15:41:22.320Z"
   },
   {
    "duration": 53,
    "start_time": "2022-12-10T15:41:24.948Z"
   },
   {
    "duration": 534,
    "start_time": "2022-12-10T15:41:25.003Z"
   },
   {
    "duration": 8,
    "start_time": "2022-12-10T15:41:25.538Z"
   },
   {
    "duration": 35,
    "start_time": "2022-12-10T15:41:25.548Z"
   },
   {
    "duration": 25,
    "start_time": "2022-12-10T15:41:25.589Z"
   },
   {
    "duration": 55,
    "start_time": "2022-12-10T15:41:25.616Z"
   },
   {
    "duration": 59,
    "start_time": "2022-12-10T15:41:25.673Z"
   },
   {
    "duration": 72,
    "start_time": "2022-12-10T15:41:25.733Z"
   },
   {
    "duration": 18,
    "start_time": "2022-12-10T15:41:25.806Z"
   },
   {
    "duration": 68,
    "start_time": "2022-12-10T15:41:25.826Z"
   },
   {
    "duration": 54,
    "start_time": "2022-12-10T15:41:25.898Z"
   },
   {
    "duration": 68,
    "start_time": "2022-12-10T15:41:25.954Z"
   },
   {
    "duration": 5,
    "start_time": "2022-12-10T15:41:26.024Z"
   },
   {
    "duration": 24,
    "start_time": "2022-12-10T15:41:26.030Z"
   },
   {
    "duration": 60,
    "start_time": "2022-12-10T15:41:26.056Z"
   },
   {
    "duration": 80,
    "start_time": "2022-12-10T15:41:26.121Z"
   },
   {
    "duration": 36,
    "start_time": "2022-12-10T15:41:26.203Z"
   },
   {
    "duration": 54,
    "start_time": "2022-12-10T15:41:26.240Z"
   },
   {
    "duration": 10,
    "start_time": "2022-12-10T15:41:26.296Z"
   },
   {
    "duration": 170,
    "start_time": "2022-12-10T15:41:26.307Z"
   },
   {
    "duration": 14,
    "start_time": "2022-12-10T15:41:26.479Z"
   },
   {
    "duration": 29,
    "start_time": "2022-12-10T15:41:26.494Z"
   },
   {
    "duration": 32,
    "start_time": "2022-12-10T15:41:26.526Z"
   },
   {
    "duration": 56,
    "start_time": "2022-12-10T15:41:26.559Z"
   },
   {
    "duration": 66,
    "start_time": "2022-12-10T15:41:26.617Z"
   },
   {
    "duration": 34,
    "start_time": "2022-12-10T15:41:26.684Z"
   },
   {
    "duration": 171,
    "start_time": "2022-12-10T15:41:26.720Z"
   },
   {
    "duration": 24,
    "start_time": "2022-12-10T15:41:26.893Z"
   },
   {
    "duration": 22,
    "start_time": "2022-12-10T15:41:26.918Z"
   },
   {
    "duration": 315,
    "start_time": "2022-12-10T15:41:26.941Z"
   },
   {
    "duration": 32,
    "start_time": "2022-12-10T15:41:27.257Z"
   },
   {
    "duration": 17,
    "start_time": "2022-12-10T15:41:27.294Z"
   },
   {
    "duration": 14,
    "start_time": "2022-12-10T15:41:27.313Z"
   },
   {
    "duration": 207,
    "start_time": "2022-12-10T15:41:27.329Z"
   },
   {
    "duration": 10,
    "start_time": "2022-12-10T15:41:27.538Z"
   },
   {
    "duration": 29,
    "start_time": "2022-12-10T15:41:27.550Z"
   },
   {
    "duration": 7,
    "start_time": "2022-12-10T15:41:27.588Z"
   },
   {
    "duration": 117,
    "start_time": "2022-12-10T15:41:27.597Z"
   },
   {
    "duration": 12,
    "start_time": "2022-12-10T15:41:27.716Z"
   },
   {
    "duration": 15,
    "start_time": "2022-12-10T15:41:27.730Z"
   },
   {
    "duration": 89,
    "start_time": "2022-12-10T15:41:27.747Z"
   },
   {
    "duration": 7,
    "start_time": "2022-12-10T15:41:27.838Z"
   },
   {
    "duration": 32,
    "start_time": "2022-12-10T15:41:27.847Z"
   },
   {
    "duration": 63,
    "start_time": "2022-12-10T15:41:27.885Z"
   },
   {
    "duration": 28,
    "start_time": "2022-12-10T15:41:27.949Z"
   },
   {
    "duration": 29,
    "start_time": "2022-12-10T15:41:27.979Z"
   },
   {
    "duration": 26,
    "start_time": "2022-12-10T15:41:28.010Z"
   },
   {
    "duration": 48,
    "start_time": "2022-12-10T15:41:28.039Z"
   },
   {
    "duration": 304,
    "start_time": "2022-12-10T15:41:28.089Z"
   },
   {
    "duration": 15,
    "start_time": "2022-12-10T15:41:28.398Z"
   },
   {
    "duration": 27,
    "start_time": "2022-12-10T15:41:28.416Z"
   },
   {
    "duration": 28,
    "start_time": "2022-12-10T15:41:28.445Z"
   },
   {
    "duration": 37,
    "start_time": "2022-12-10T15:41:28.475Z"
   },
   {
    "duration": 22,
    "start_time": "2022-12-10T15:41:28.515Z"
   },
   {
    "duration": 22,
    "start_time": "2022-12-10T15:41:28.539Z"
   },
   {
    "duration": 12,
    "start_time": "2022-12-10T15:41:28.563Z"
   },
   {
    "duration": 37,
    "start_time": "2022-12-10T15:41:28.577Z"
   },
   {
    "duration": 15,
    "start_time": "2022-12-10T15:41:28.616Z"
   },
   {
    "duration": 34,
    "start_time": "2022-12-10T15:41:28.632Z"
   },
   {
    "duration": 27,
    "start_time": "2022-12-10T15:41:28.668Z"
   },
   {
    "duration": 27,
    "start_time": "2022-12-10T15:41:28.697Z"
   },
   {
    "duration": 10,
    "start_time": "2022-12-10T15:41:28.726Z"
   },
   {
    "duration": 46,
    "start_time": "2022-12-10T15:41:28.738Z"
   },
   {
    "duration": 14,
    "start_time": "2022-12-10T15:41:28.785Z"
   },
   {
    "duration": 17,
    "start_time": "2022-12-10T15:41:28.801Z"
   },
   {
    "duration": 17,
    "start_time": "2022-12-10T15:41:28.820Z"
   },
   {
    "duration": 375,
    "start_time": "2022-12-10T15:41:28.839Z"
   },
   {
    "duration": 19,
    "start_time": "2022-12-10T15:41:29.216Z"
   },
   {
    "duration": 52,
    "start_time": "2022-12-10T15:41:29.238Z"
   },
   {
    "duration": 15,
    "start_time": "2022-12-10T15:41:29.298Z"
   },
   {
    "duration": 9,
    "start_time": "2022-12-10T15:41:29.315Z"
   },
   {
    "duration": 71,
    "start_time": "2022-12-10T15:41:29.326Z"
   },
   {
    "duration": 153,
    "start_time": "2022-12-10T15:41:29.399Z"
   },
   {
    "duration": 6,
    "start_time": "2022-12-10T15:41:29.554Z"
   },
   {
    "duration": 38,
    "start_time": "2022-12-10T15:41:29.562Z"
   },
   {
    "duration": 15,
    "start_time": "2022-12-10T15:41:29.601Z"
   },
   {
    "duration": 7,
    "start_time": "2022-12-10T15:41:29.618Z"
   },
   {
    "duration": 11,
    "start_time": "2022-12-10T15:41:29.627Z"
   },
   {
    "duration": 8,
    "start_time": "2022-12-10T15:41:29.640Z"
   },
   {
    "duration": 79,
    "start_time": "2022-12-10T15:41:29.650Z"
   },
   {
    "duration": 151,
    "start_time": "2022-12-10T15:41:29.730Z"
   },
   {
    "duration": 29,
    "start_time": "2022-12-10T15:41:29.889Z"
   },
   {
    "duration": 1313,
    "start_time": "2022-12-10T17:29:43.416Z"
   },
   {
    "duration": 461,
    "start_time": "2022-12-10T17:29:44.731Z"
   },
   {
    "duration": 5,
    "start_time": "2022-12-10T17:29:45.194Z"
   },
   {
    "duration": 47,
    "start_time": "2022-12-10T17:29:45.201Z"
   },
   {
    "duration": 177,
    "start_time": "2022-12-10T17:29:45.250Z"
   },
   {
    "duration": 9,
    "start_time": "2022-12-10T17:29:45.429Z"
   },
   {
    "duration": 13,
    "start_time": "2022-12-10T17:29:45.439Z"
   },
   {
    "duration": 58,
    "start_time": "2022-12-10T17:29:45.454Z"
   },
   {
    "duration": 33,
    "start_time": "2022-12-10T17:29:45.513Z"
   },
   {
    "duration": 80,
    "start_time": "2022-12-10T17:29:45.549Z"
   },
   {
    "duration": 5,
    "start_time": "2022-12-10T17:29:45.631Z"
   },
   {
    "duration": 2626,
    "start_time": "2022-12-10T17:29:45.639Z"
   },
   {
    "duration": 37,
    "start_time": "2022-12-10T17:29:48.277Z"
   },
   {
    "duration": 563,
    "start_time": "2022-12-10T17:29:48.318Z"
   },
   {
    "duration": 10,
    "start_time": "2022-12-10T17:29:48.887Z"
   },
   {
    "duration": 7,
    "start_time": "2022-12-10T17:29:48.899Z"
   },
   {
    "duration": 12,
    "start_time": "2022-12-10T17:29:48.907Z"
   },
   {
    "duration": 84,
    "start_time": "2022-12-10T17:29:48.921Z"
   },
   {
    "duration": 89,
    "start_time": "2022-12-10T17:29:49.007Z"
   },
   {
    "duration": 64,
    "start_time": "2022-12-10T17:29:49.097Z"
   },
   {
    "duration": 45,
    "start_time": "2022-12-10T17:29:49.162Z"
   },
   {
    "duration": 51,
    "start_time": "2022-12-10T17:29:49.211Z"
   },
   {
    "duration": 61,
    "start_time": "2022-12-10T17:29:49.280Z"
   },
   {
    "duration": 102,
    "start_time": "2022-12-10T17:29:49.343Z"
   },
   {
    "duration": 6,
    "start_time": "2022-12-10T17:29:49.448Z"
   },
   {
    "duration": 42,
    "start_time": "2022-12-10T17:29:49.457Z"
   },
   {
    "duration": 58,
    "start_time": "2022-12-10T17:29:49.502Z"
   },
   {
    "duration": 78,
    "start_time": "2022-12-10T17:29:49.566Z"
   },
   {
    "duration": 51,
    "start_time": "2022-12-10T17:29:49.647Z"
   },
   {
    "duration": 33,
    "start_time": "2022-12-10T17:29:49.700Z"
   },
   {
    "duration": 9,
    "start_time": "2022-12-10T17:29:49.735Z"
   },
   {
    "duration": 202,
    "start_time": "2022-12-10T17:29:49.746Z"
   },
   {
    "duration": 9,
    "start_time": "2022-12-10T17:29:49.949Z"
   },
   {
    "duration": 33,
    "start_time": "2022-12-10T17:29:49.960Z"
   },
   {
    "duration": 44,
    "start_time": "2022-12-10T17:29:49.995Z"
   },
   {
    "duration": 82,
    "start_time": "2022-12-10T17:29:50.042Z"
   },
   {
    "duration": 82,
    "start_time": "2022-12-10T17:29:50.126Z"
   },
   {
    "duration": 32,
    "start_time": "2022-12-10T17:29:50.210Z"
   },
   {
    "duration": 225,
    "start_time": "2022-12-10T17:29:50.245Z"
   },
   {
    "duration": 40,
    "start_time": "2022-12-10T17:29:50.473Z"
   },
   {
    "duration": 34,
    "start_time": "2022-12-10T17:29:50.515Z"
   },
   {
    "duration": 347,
    "start_time": "2022-12-10T17:29:50.552Z"
   },
   {
    "duration": 21,
    "start_time": "2022-12-10T17:29:50.901Z"
   },
   {
    "duration": 19,
    "start_time": "2022-12-10T17:29:50.924Z"
   },
   {
    "duration": 7,
    "start_time": "2022-12-10T17:29:50.945Z"
   },
   {
    "duration": 242,
    "start_time": "2022-12-10T17:29:50.954Z"
   },
   {
    "duration": 11,
    "start_time": "2022-12-10T17:29:51.198Z"
   },
   {
    "duration": 20,
    "start_time": "2022-12-10T17:29:51.211Z"
   },
   {
    "duration": 5,
    "start_time": "2022-12-10T17:29:51.233Z"
   },
   {
    "duration": 160,
    "start_time": "2022-12-10T17:29:51.239Z"
   },
   {
    "duration": 16,
    "start_time": "2022-12-10T17:29:51.401Z"
   },
   {
    "duration": 6,
    "start_time": "2022-12-10T17:29:51.419Z"
   },
   {
    "duration": 117,
    "start_time": "2022-12-10T17:29:51.427Z"
   },
   {
    "duration": 8,
    "start_time": "2022-12-10T17:29:51.546Z"
   },
   {
    "duration": 44,
    "start_time": "2022-12-10T17:29:51.556Z"
   },
   {
    "duration": 66,
    "start_time": "2022-12-10T17:29:51.602Z"
   },
   {
    "duration": 28,
    "start_time": "2022-12-10T17:29:51.671Z"
   },
   {
    "duration": 24,
    "start_time": "2022-12-10T17:29:51.701Z"
   },
   {
    "duration": 9,
    "start_time": "2022-12-10T17:29:51.727Z"
   },
   {
    "duration": 18,
    "start_time": "2022-12-10T17:29:51.738Z"
   },
   {
    "duration": 272,
    "start_time": "2022-12-10T17:29:51.759Z"
   },
   {
    "duration": 13,
    "start_time": "2022-12-10T17:29:52.034Z"
   },
   {
    "duration": 36,
    "start_time": "2022-12-10T17:29:52.050Z"
   },
   {
    "duration": 14,
    "start_time": "2022-12-10T17:29:52.096Z"
   },
   {
    "duration": 20,
    "start_time": "2022-12-10T17:29:52.116Z"
   },
   {
    "duration": 14,
    "start_time": "2022-12-10T17:29:52.138Z"
   },
   {
    "duration": 15,
    "start_time": "2022-12-10T17:29:52.154Z"
   },
   {
    "duration": 20,
    "start_time": "2022-12-10T17:29:52.172Z"
   },
   {
    "duration": 18,
    "start_time": "2022-12-10T17:29:52.201Z"
   },
   {
    "duration": 15,
    "start_time": "2022-12-10T17:29:52.221Z"
   },
   {
    "duration": 59,
    "start_time": "2022-12-10T17:29:52.238Z"
   },
   {
    "duration": 17,
    "start_time": "2022-12-10T17:29:52.299Z"
   },
   {
    "duration": 32,
    "start_time": "2022-12-10T17:29:52.317Z"
   },
   {
    "duration": 44,
    "start_time": "2022-12-10T17:29:52.351Z"
   },
   {
    "duration": 45,
    "start_time": "2022-12-10T17:29:52.398Z"
   },
   {
    "duration": 12,
    "start_time": "2022-12-10T17:29:52.445Z"
   },
   {
    "duration": 37,
    "start_time": "2022-12-10T17:29:52.458Z"
   },
   {
    "duration": 21,
    "start_time": "2022-12-10T17:29:52.497Z"
   },
   {
    "duration": 377,
    "start_time": "2022-12-10T17:29:52.520Z"
   },
   {
    "duration": 15,
    "start_time": "2022-12-10T17:29:52.899Z"
   },
   {
    "duration": 8,
    "start_time": "2022-12-10T17:29:52.916Z"
   },
   {
    "duration": 57,
    "start_time": "2022-12-10T17:29:52.929Z"
   },
   {
    "duration": 16,
    "start_time": "2022-12-10T17:29:52.992Z"
   },
   {
    "duration": 80,
    "start_time": "2022-12-10T17:29:53.010Z"
   },
   {
    "duration": 169,
    "start_time": "2022-12-10T17:29:53.095Z"
   },
   {
    "duration": 14,
    "start_time": "2022-12-10T17:29:53.266Z"
   },
   {
    "duration": 44,
    "start_time": "2022-12-10T17:29:53.282Z"
   },
   {
    "duration": 25,
    "start_time": "2022-12-10T17:29:53.329Z"
   },
   {
    "duration": 13,
    "start_time": "2022-12-10T17:29:53.357Z"
   },
   {
    "duration": 23,
    "start_time": "2022-12-10T17:29:53.373Z"
   },
   {
    "duration": 20,
    "start_time": "2022-12-10T17:29:53.398Z"
   },
   {
    "duration": 71,
    "start_time": "2022-12-10T17:29:53.420Z"
   },
   {
    "duration": 162,
    "start_time": "2022-12-10T17:29:53.497Z"
   },
   {
    "duration": 53,
    "start_time": "2022-12-10T17:29:53.662Z"
   },
   {
    "duration": 38,
    "start_time": "2022-12-10T17:30:47.800Z"
   },
   {
    "duration": 1355,
    "start_time": "2022-12-10T17:32:48.038Z"
   },
   {
    "duration": 264,
    "start_time": "2022-12-10T17:32:49.396Z"
   },
   {
    "duration": 4,
    "start_time": "2022-12-10T17:32:49.662Z"
   },
   {
    "duration": 71,
    "start_time": "2022-12-10T17:32:49.669Z"
   },
   {
    "duration": 191,
    "start_time": "2022-12-10T17:32:49.742Z"
   },
   {
    "duration": 10,
    "start_time": "2022-12-10T17:32:49.936Z"
   },
   {
    "duration": 13,
    "start_time": "2022-12-10T17:32:49.948Z"
   },
   {
    "duration": 47,
    "start_time": "2022-12-10T17:32:49.977Z"
   },
   {
    "duration": 32,
    "start_time": "2022-12-10T17:32:50.026Z"
   },
   {
    "duration": 59,
    "start_time": "2022-12-10T17:32:50.089Z"
   },
   {
    "duration": 7,
    "start_time": "2022-12-10T17:32:50.150Z"
   },
   {
    "duration": 2710,
    "start_time": "2022-12-10T17:32:50.158Z"
   },
   {
    "duration": 44,
    "start_time": "2022-12-10T17:32:52.871Z"
   },
   {
    "duration": 543,
    "start_time": "2022-12-10T17:32:52.917Z"
   },
   {
    "duration": 37,
    "start_time": "2022-12-10T17:32:53.462Z"
   },
   {
    "duration": 12,
    "start_time": "2022-12-10T17:32:53.502Z"
   },
   {
    "duration": 17,
    "start_time": "2022-12-10T17:32:53.517Z"
   },
   {
    "duration": 63,
    "start_time": "2022-12-10T17:32:53.537Z"
   },
   {
    "duration": 89,
    "start_time": "2022-12-10T17:32:53.602Z"
   },
   {
    "duration": 59,
    "start_time": "2022-12-10T17:32:53.695Z"
   },
   {
    "duration": 42,
    "start_time": "2022-12-10T17:32:53.756Z"
   },
   {
    "duration": 40,
    "start_time": "2022-12-10T17:32:53.800Z"
   },
   {
    "duration": 72,
    "start_time": "2022-12-10T17:32:53.842Z"
   },
   {
    "duration": 69,
    "start_time": "2022-12-10T17:32:53.916Z"
   },
   {
    "duration": 17,
    "start_time": "2022-12-10T17:32:53.987Z"
   },
   {
    "duration": 20,
    "start_time": "2022-12-10T17:32:54.005Z"
   },
   {
    "duration": 59,
    "start_time": "2022-12-10T17:32:54.027Z"
   },
   {
    "duration": 62,
    "start_time": "2022-12-10T17:32:54.091Z"
   },
   {
    "duration": 60,
    "start_time": "2022-12-10T17:32:54.155Z"
   },
   {
    "duration": 34,
    "start_time": "2022-12-10T17:32:54.216Z"
   },
   {
    "duration": 39,
    "start_time": "2022-12-10T17:32:54.252Z"
   },
   {
    "duration": 184,
    "start_time": "2022-12-10T17:32:54.296Z"
   },
   {
    "duration": 14,
    "start_time": "2022-12-10T17:32:54.481Z"
   },
   {
    "duration": 27,
    "start_time": "2022-12-10T17:32:54.496Z"
   },
   {
    "duration": 32,
    "start_time": "2022-12-10T17:32:54.526Z"
   },
   {
    "duration": 69,
    "start_time": "2022-12-10T17:32:54.560Z"
   },
   {
    "duration": 86,
    "start_time": "2022-12-10T17:32:54.631Z"
   },
   {
    "duration": 27,
    "start_time": "2022-12-10T17:32:54.718Z"
   },
   {
    "duration": 185,
    "start_time": "2022-12-10T17:32:54.747Z"
   },
   {
    "duration": 33,
    "start_time": "2022-12-10T17:32:54.934Z"
   },
   {
    "duration": 37,
    "start_time": "2022-12-10T17:32:54.980Z"
   },
   {
    "duration": 315,
    "start_time": "2022-12-10T17:32:55.019Z"
   },
   {
    "duration": 18,
    "start_time": "2022-12-10T17:32:55.336Z"
   },
   {
    "duration": 38,
    "start_time": "2022-12-10T17:32:55.356Z"
   },
   {
    "duration": 14,
    "start_time": "2022-12-10T17:32:55.396Z"
   },
   {
    "duration": 195,
    "start_time": "2022-12-10T17:32:55.412Z"
   },
   {
    "duration": 8,
    "start_time": "2022-12-10T17:32:55.609Z"
   },
   {
    "duration": 13,
    "start_time": "2022-12-10T17:32:55.619Z"
   },
   {
    "duration": 6,
    "start_time": "2022-12-10T17:32:55.635Z"
   },
   {
    "duration": 161,
    "start_time": "2022-12-10T17:32:55.643Z"
   },
   {
    "duration": 14,
    "start_time": "2022-12-10T17:32:55.812Z"
   },
   {
    "duration": 8,
    "start_time": "2022-12-10T17:32:55.829Z"
   },
   {
    "duration": 105,
    "start_time": "2022-12-10T17:32:55.839Z"
   },
   {
    "duration": 8,
    "start_time": "2022-12-10T17:32:55.946Z"
   },
   {
    "duration": 39,
    "start_time": "2022-12-10T17:32:55.956Z"
   },
   {
    "duration": 101,
    "start_time": "2022-12-10T17:32:55.997Z"
   },
   {
    "duration": 10,
    "start_time": "2022-12-10T17:32:56.100Z"
   },
   {
    "duration": 17,
    "start_time": "2022-12-10T17:32:56.112Z"
   },
   {
    "duration": 10,
    "start_time": "2022-12-10T17:32:56.130Z"
   },
   {
    "duration": 41,
    "start_time": "2022-12-10T17:32:56.142Z"
   },
   {
    "duration": 243,
    "start_time": "2022-12-10T17:32:56.186Z"
   },
   {
    "duration": 12,
    "start_time": "2022-12-10T17:32:56.432Z"
   },
   {
    "duration": 16,
    "start_time": "2022-12-10T17:32:56.446Z"
   },
   {
    "duration": 18,
    "start_time": "2022-12-10T17:32:56.465Z"
   },
   {
    "duration": 19,
    "start_time": "2022-12-10T17:32:56.491Z"
   },
   {
    "duration": 15,
    "start_time": "2022-12-10T17:32:56.512Z"
   },
   {
    "duration": 20,
    "start_time": "2022-12-10T17:32:56.529Z"
   },
   {
    "duration": 10,
    "start_time": "2022-12-10T17:32:56.552Z"
   },
   {
    "duration": 22,
    "start_time": "2022-12-10T17:32:56.563Z"
   },
   {
    "duration": 25,
    "start_time": "2022-12-10T17:32:56.589Z"
   },
   {
    "duration": 32,
    "start_time": "2022-12-10T17:32:56.616Z"
   },
   {
    "duration": 12,
    "start_time": "2022-12-10T17:32:56.650Z"
   },
   {
    "duration": 34,
    "start_time": "2022-12-10T17:32:56.679Z"
   },
   {
    "duration": 15,
    "start_time": "2022-12-10T17:32:56.716Z"
   },
   {
    "duration": 75,
    "start_time": "2022-12-10T17:32:56.733Z"
   },
   {
    "duration": 13,
    "start_time": "2022-12-10T17:32:56.810Z"
   },
   {
    "duration": 22,
    "start_time": "2022-12-10T17:32:56.825Z"
   },
   {
    "duration": 47,
    "start_time": "2022-12-10T17:32:56.848Z"
   },
   {
    "duration": 371,
    "start_time": "2022-12-10T17:32:56.896Z"
   },
   {
    "duration": 28,
    "start_time": "2022-12-10T17:32:57.276Z"
   },
   {
    "duration": 12,
    "start_time": "2022-12-10T17:32:57.307Z"
   },
   {
    "duration": 70,
    "start_time": "2022-12-10T17:32:57.328Z"
   },
   {
    "duration": 17,
    "start_time": "2022-12-10T17:32:57.400Z"
   },
   {
    "duration": 74,
    "start_time": "2022-12-10T17:32:57.419Z"
   },
   {
    "duration": 173,
    "start_time": "2022-12-10T17:32:57.494Z"
   },
   {
    "duration": 19,
    "start_time": "2022-12-10T17:32:57.669Z"
   },
   {
    "duration": 29,
    "start_time": "2022-12-10T17:32:57.689Z"
   },
   {
    "duration": 17,
    "start_time": "2022-12-10T17:32:57.721Z"
   },
   {
    "duration": 12,
    "start_time": "2022-12-10T17:32:57.740Z"
   },
   {
    "duration": 39,
    "start_time": "2022-12-10T17:32:57.754Z"
   },
   {
    "duration": 10,
    "start_time": "2022-12-10T17:32:57.794Z"
   },
   {
    "duration": 37,
    "start_time": "2022-12-10T17:32:57.806Z"
   },
   {
    "duration": 166,
    "start_time": "2022-12-10T17:32:57.846Z"
   },
   {
    "duration": 27,
    "start_time": "2022-12-10T17:32:58.014Z"
   },
   {
    "duration": 1149,
    "start_time": "2022-12-11T07:12:56.440Z"
   },
   {
    "duration": 314,
    "start_time": "2022-12-11T07:12:57.591Z"
   },
   {
    "duration": 3,
    "start_time": "2022-12-11T07:12:57.907Z"
   },
   {
    "duration": 46,
    "start_time": "2022-12-11T07:12:57.912Z"
   },
   {
    "duration": 165,
    "start_time": "2022-12-11T07:12:57.960Z"
   },
   {
    "duration": 15,
    "start_time": "2022-12-11T07:12:58.127Z"
   },
   {
    "duration": 11,
    "start_time": "2022-12-11T07:12:58.144Z"
   },
   {
    "duration": 47,
    "start_time": "2022-12-11T07:12:58.157Z"
   },
   {
    "duration": 30,
    "start_time": "2022-12-11T07:12:58.206Z"
   },
   {
    "duration": 48,
    "start_time": "2022-12-11T07:12:58.239Z"
   },
   {
    "duration": 6,
    "start_time": "2022-12-11T07:12:58.288Z"
   },
   {
    "duration": 2080,
    "start_time": "2022-12-11T07:12:58.295Z"
   },
   {
    "duration": 64,
    "start_time": "2022-12-11T07:13:00.378Z"
   },
   {
    "duration": 222,
    "start_time": "2022-12-11T07:13:00.443Z"
   },
   {
    "duration": 8,
    "start_time": "2022-12-11T07:13:00.667Z"
   },
   {
    "duration": 42,
    "start_time": "2022-12-11T07:13:00.677Z"
   },
   {
    "duration": 90,
    "start_time": "2022-12-11T07:13:00.721Z"
   },
   {
    "duration": 75,
    "start_time": "2022-12-11T07:13:00.813Z"
   },
   {
    "duration": 150,
    "start_time": "2022-12-11T07:13:00.891Z"
   },
   {
    "duration": 51,
    "start_time": "2022-12-11T07:13:01.043Z"
   },
   {
    "duration": 39,
    "start_time": "2022-12-11T07:13:01.096Z"
   },
   {
    "duration": 32,
    "start_time": "2022-12-11T07:13:01.137Z"
   },
   {
    "duration": 47,
    "start_time": "2022-12-11T07:13:01.170Z"
   },
   {
    "duration": 46,
    "start_time": "2022-12-11T07:13:01.235Z"
   },
   {
    "duration": 6,
    "start_time": "2022-12-11T07:13:01.283Z"
   },
   {
    "duration": 17,
    "start_time": "2022-12-11T07:13:01.291Z"
   },
   {
    "duration": 65,
    "start_time": "2022-12-11T07:13:01.334Z"
   },
   {
    "duration": 59,
    "start_time": "2022-12-11T07:13:01.403Z"
   },
   {
    "duration": 39,
    "start_time": "2022-12-11T07:13:01.464Z"
   },
   {
    "duration": 53,
    "start_time": "2022-12-11T07:13:01.505Z"
   },
   {
    "duration": 9,
    "start_time": "2022-12-11T07:13:01.560Z"
   },
   {
    "duration": 159,
    "start_time": "2022-12-11T07:13:01.571Z"
   },
   {
    "duration": 8,
    "start_time": "2022-12-11T07:13:01.736Z"
   },
   {
    "duration": 35,
    "start_time": "2022-12-11T07:13:01.746Z"
   },
   {
    "duration": 28,
    "start_time": "2022-12-11T07:13:01.783Z"
   },
   {
    "duration": 45,
    "start_time": "2022-12-11T07:13:01.813Z"
   },
   {
    "duration": 98,
    "start_time": "2022-12-11T07:13:01.859Z"
   },
   {
    "duration": 53,
    "start_time": "2022-12-11T07:13:01.958Z"
   },
   {
    "duration": 206,
    "start_time": "2022-12-11T07:13:02.014Z"
   },
   {
    "duration": 34,
    "start_time": "2022-12-11T07:13:02.221Z"
   },
   {
    "duration": 20,
    "start_time": "2022-12-11T07:13:02.257Z"
   },
   {
    "duration": 306,
    "start_time": "2022-12-11T07:13:02.280Z"
   },
   {
    "duration": 23,
    "start_time": "2022-12-11T07:13:02.589Z"
   },
   {
    "duration": 32,
    "start_time": "2022-12-11T07:13:02.616Z"
   },
   {
    "duration": 15,
    "start_time": "2022-12-11T07:13:02.650Z"
   },
   {
    "duration": 214,
    "start_time": "2022-12-11T07:13:02.667Z"
   },
   {
    "duration": 8,
    "start_time": "2022-12-11T07:13:02.883Z"
   },
   {
    "duration": 22,
    "start_time": "2022-12-11T07:13:02.893Z"
   },
   {
    "duration": 17,
    "start_time": "2022-12-11T07:13:02.917Z"
   },
   {
    "duration": 109,
    "start_time": "2022-12-11T07:13:02.936Z"
   },
   {
    "duration": 11,
    "start_time": "2022-12-11T07:13:03.046Z"
   },
   {
    "duration": 13,
    "start_time": "2022-12-11T07:13:03.058Z"
   },
   {
    "duration": 84,
    "start_time": "2022-12-11T07:13:03.073Z"
   },
   {
    "duration": 7,
    "start_time": "2022-12-11T07:13:03.159Z"
   },
   {
    "duration": 17,
    "start_time": "2022-12-11T07:13:03.168Z"
   },
   {
    "duration": 73,
    "start_time": "2022-12-11T07:13:03.186Z"
   },
   {
    "duration": 13,
    "start_time": "2022-12-11T07:13:03.262Z"
   },
   {
    "duration": 19,
    "start_time": "2022-12-11T07:13:03.277Z"
   },
   {
    "duration": 8,
    "start_time": "2022-12-11T07:13:03.297Z"
   },
   {
    "duration": 42,
    "start_time": "2022-12-11T07:13:03.307Z"
   },
   {
    "duration": 213,
    "start_time": "2022-12-11T07:13:03.351Z"
   },
   {
    "duration": 10,
    "start_time": "2022-12-11T07:13:03.566Z"
   },
   {
    "duration": 17,
    "start_time": "2022-12-11T07:13:03.578Z"
   },
   {
    "duration": 25,
    "start_time": "2022-12-11T07:13:03.597Z"
   },
   {
    "duration": 32,
    "start_time": "2022-12-11T07:13:03.624Z"
   },
   {
    "duration": 19,
    "start_time": "2022-12-11T07:13:03.658Z"
   },
   {
    "duration": 12,
    "start_time": "2022-12-11T07:13:03.678Z"
   },
   {
    "duration": 24,
    "start_time": "2022-12-11T07:13:03.692Z"
   },
   {
    "duration": 32,
    "start_time": "2022-12-11T07:13:03.717Z"
   },
   {
    "duration": 16,
    "start_time": "2022-12-11T07:13:03.753Z"
   },
   {
    "duration": 27,
    "start_time": "2022-12-11T07:13:03.770Z"
   },
   {
    "duration": 11,
    "start_time": "2022-12-11T07:13:03.799Z"
   },
   {
    "duration": 37,
    "start_time": "2022-12-11T07:13:03.835Z"
   },
   {
    "duration": 14,
    "start_time": "2022-12-11T07:13:03.874Z"
   },
   {
    "duration": 54,
    "start_time": "2022-12-11T07:13:03.889Z"
   },
   {
    "duration": 14,
    "start_time": "2022-12-11T07:13:03.945Z"
   },
   {
    "duration": 30,
    "start_time": "2022-12-11T07:13:03.961Z"
   },
   {
    "duration": 46,
    "start_time": "2022-12-11T07:13:03.994Z"
   },
   {
    "duration": 349,
    "start_time": "2022-12-11T07:13:04.042Z"
   },
   {
    "duration": 43,
    "start_time": "2022-12-11T07:13:04.394Z"
   },
   {
    "duration": 8,
    "start_time": "2022-12-11T07:13:04.440Z"
   },
   {
    "duration": 19,
    "start_time": "2022-12-11T07:13:04.454Z"
   },
   {
    "duration": 10,
    "start_time": "2022-12-11T07:13:04.475Z"
   },
   {
    "duration": 78,
    "start_time": "2022-12-11T07:13:04.487Z"
   },
   {
    "duration": 146,
    "start_time": "2022-12-11T07:13:04.567Z"
   },
   {
    "duration": 8,
    "start_time": "2022-12-11T07:13:04.716Z"
   },
   {
    "duration": 31,
    "start_time": "2022-12-11T07:13:04.736Z"
   },
   {
    "duration": 16,
    "start_time": "2022-12-11T07:13:04.769Z"
   },
   {
    "duration": 10,
    "start_time": "2022-12-11T07:13:04.788Z"
   },
   {
    "duration": 39,
    "start_time": "2022-12-11T07:13:04.800Z"
   },
   {
    "duration": 12,
    "start_time": "2022-12-11T07:13:04.842Z"
   },
   {
    "duration": 50,
    "start_time": "2022-12-11T07:13:04.856Z"
   },
   {
    "duration": 139,
    "start_time": "2022-12-11T07:13:04.908Z"
   },
   {
    "duration": 19,
    "start_time": "2022-12-11T07:13:05.049Z"
   },
   {
    "duration": 6,
    "start_time": "2022-12-11T07:33:29.680Z"
   },
   {
    "duration": 19,
    "start_time": "2022-12-11T07:33:30.602Z"
   },
   {
    "duration": 7,
    "start_time": "2022-12-11T07:33:51.731Z"
   },
   {
    "duration": 19,
    "start_time": "2022-12-11T07:33:52.136Z"
   },
   {
    "duration": 1289,
    "start_time": "2022-12-11T08:37:08.950Z"
   },
   {
    "duration": 1116,
    "start_time": "2022-12-11T08:38:16.391Z"
   },
   {
    "duration": 217,
    "start_time": "2022-12-11T08:38:17.508Z"
   },
   {
    "duration": 3,
    "start_time": "2022-12-11T08:38:17.727Z"
   },
   {
    "duration": 35,
    "start_time": "2022-12-11T08:38:17.732Z"
   },
   {
    "duration": 140,
    "start_time": "2022-12-11T08:38:17.769Z"
   },
   {
    "duration": 8,
    "start_time": "2022-12-11T08:38:17.910Z"
   },
   {
    "duration": 10,
    "start_time": "2022-12-11T08:38:17.919Z"
   },
   {
    "duration": 26,
    "start_time": "2022-12-11T08:38:17.930Z"
   },
   {
    "duration": 55,
    "start_time": "2022-12-11T08:38:17.964Z"
   },
   {
    "duration": 47,
    "start_time": "2022-12-11T08:38:18.022Z"
   },
   {
    "duration": 4,
    "start_time": "2022-12-11T08:38:18.071Z"
   },
   {
    "duration": 2156,
    "start_time": "2022-12-11T08:38:18.076Z"
   },
   {
    "duration": 22,
    "start_time": "2022-12-11T08:38:20.234Z"
   },
   {
    "duration": 422,
    "start_time": "2022-12-11T08:38:20.257Z"
   },
   {
    "duration": 18,
    "start_time": "2022-12-11T08:38:20.681Z"
   },
   {
    "duration": 10,
    "start_time": "2022-12-11T08:38:20.700Z"
   },
   {
    "duration": 17,
    "start_time": "2022-12-11T08:38:20.713Z"
   },
   {
    "duration": 29,
    "start_time": "2022-12-11T08:38:20.731Z"
   },
   {
    "duration": 77,
    "start_time": "2022-12-11T08:38:20.762Z"
   },
   {
    "duration": 46,
    "start_time": "2022-12-11T08:38:20.841Z"
   },
   {
    "duration": 25,
    "start_time": "2022-12-11T08:38:20.900Z"
   },
   {
    "duration": 27,
    "start_time": "2022-12-11T08:38:20.926Z"
   },
   {
    "duration": 55,
    "start_time": "2022-12-11T08:38:20.955Z"
   },
   {
    "duration": 47,
    "start_time": "2022-12-11T08:38:21.011Z"
   },
   {
    "duration": 4,
    "start_time": "2022-12-11T08:38:21.059Z"
   },
   {
    "duration": 12,
    "start_time": "2022-12-11T08:38:21.065Z"
   },
   {
    "duration": 56,
    "start_time": "2022-12-11T08:38:21.078Z"
   },
   {
    "duration": 52,
    "start_time": "2022-12-11T08:38:21.137Z"
   },
   {
    "duration": 36,
    "start_time": "2022-12-11T08:38:21.201Z"
   },
   {
    "duration": 28,
    "start_time": "2022-12-11T08:38:21.239Z"
   },
   {
    "duration": 8,
    "start_time": "2022-12-11T08:38:21.269Z"
   },
   {
    "duration": 162,
    "start_time": "2022-12-11T08:38:21.278Z"
   },
   {
    "duration": 8,
    "start_time": "2022-12-11T08:38:21.442Z"
   },
   {
    "duration": 14,
    "start_time": "2022-12-11T08:38:21.451Z"
   },
   {
    "duration": 40,
    "start_time": "2022-12-11T08:38:21.466Z"
   },
   {
    "duration": 40,
    "start_time": "2022-12-11T08:38:21.509Z"
   },
   {
    "duration": 62,
    "start_time": "2022-12-11T08:38:21.551Z"
   },
   {
    "duration": 23,
    "start_time": "2022-12-11T08:38:21.615Z"
   },
   {
    "duration": 145,
    "start_time": "2022-12-11T08:38:21.641Z"
   },
   {
    "duration": 30,
    "start_time": "2022-12-11T08:38:21.788Z"
   },
   {
    "duration": 17,
    "start_time": "2022-12-11T08:38:21.820Z"
   },
   {
    "duration": 248,
    "start_time": "2022-12-11T08:38:21.838Z"
   },
   {
    "duration": 25,
    "start_time": "2022-12-11T08:38:22.087Z"
   },
   {
    "duration": 12,
    "start_time": "2022-12-11T08:38:22.113Z"
   },
   {
    "duration": 4,
    "start_time": "2022-12-11T08:38:22.126Z"
   },
   {
    "duration": 179,
    "start_time": "2022-12-11T08:38:22.132Z"
   },
   {
    "duration": 9,
    "start_time": "2022-12-11T08:38:22.312Z"
   },
   {
    "duration": 11,
    "start_time": "2022-12-11T08:38:22.322Z"
   },
   {
    "duration": 3,
    "start_time": "2022-12-11T08:38:22.335Z"
   },
   {
    "duration": 101,
    "start_time": "2022-12-11T08:38:22.339Z"
   },
   {
    "duration": 11,
    "start_time": "2022-12-11T08:38:22.442Z"
   },
   {
    "duration": 6,
    "start_time": "2022-12-11T08:38:22.454Z"
   },
   {
    "duration": 91,
    "start_time": "2022-12-11T08:38:22.462Z"
   },
   {
    "duration": 7,
    "start_time": "2022-12-11T08:38:22.554Z"
   },
   {
    "duration": 14,
    "start_time": "2022-12-11T08:38:22.562Z"
   },
   {
    "duration": 71,
    "start_time": "2022-12-11T08:38:22.577Z"
   },
   {
    "duration": 8,
    "start_time": "2022-12-11T08:38:22.650Z"
   },
   {
    "duration": 15,
    "start_time": "2022-12-11T08:38:22.659Z"
   },
   {
    "duration": 24,
    "start_time": "2022-12-11T08:38:22.676Z"
   },
   {
    "duration": 13,
    "start_time": "2022-12-11T08:38:22.701Z"
   },
   {
    "duration": 198,
    "start_time": "2022-12-11T08:38:22.715Z"
   },
   {
    "duration": 8,
    "start_time": "2022-12-11T08:38:22.914Z"
   },
   {
    "duration": 8,
    "start_time": "2022-12-11T08:38:22.923Z"
   },
   {
    "duration": 7,
    "start_time": "2022-12-11T08:38:22.932Z"
   },
   {
    "duration": 10,
    "start_time": "2022-12-11T08:38:22.940Z"
   },
   {
    "duration": 11,
    "start_time": "2022-12-11T08:38:22.951Z"
   },
   {
    "duration": 42,
    "start_time": "2022-12-11T08:38:22.963Z"
   },
   {
    "duration": 11,
    "start_time": "2022-12-11T08:38:23.007Z"
   },
   {
    "duration": 10,
    "start_time": "2022-12-11T08:38:23.020Z"
   },
   {
    "duration": 11,
    "start_time": "2022-12-11T08:38:23.031Z"
   },
   {
    "duration": 23,
    "start_time": "2022-12-11T08:38:23.043Z"
   },
   {
    "duration": 10,
    "start_time": "2022-12-11T08:38:23.068Z"
   },
   {
    "duration": 30,
    "start_time": "2022-12-11T08:38:23.097Z"
   },
   {
    "duration": 10,
    "start_time": "2022-12-11T08:38:23.128Z"
   },
   {
    "duration": 33,
    "start_time": "2022-12-11T08:38:23.139Z"
   },
   {
    "duration": 38,
    "start_time": "2022-12-11T08:38:23.173Z"
   },
   {
    "duration": 18,
    "start_time": "2022-12-11T08:38:23.213Z"
   },
   {
    "duration": 15,
    "start_time": "2022-12-11T08:38:23.232Z"
   },
   {
    "duration": 286,
    "start_time": "2022-12-11T08:38:23.249Z"
   },
   {
    "duration": 12,
    "start_time": "2022-12-11T08:38:23.537Z"
   },
   {
    "duration": 9,
    "start_time": "2022-12-11T08:38:23.551Z"
   },
   {
    "duration": 20,
    "start_time": "2022-12-11T08:38:23.597Z"
   },
   {
    "duration": 9,
    "start_time": "2022-12-11T08:38:23.618Z"
   },
   {
    "duration": 39,
    "start_time": "2022-12-11T08:38:23.628Z"
   },
   {
    "duration": 151,
    "start_time": "2022-12-11T08:38:23.668Z"
   },
   {
    "duration": 6,
    "start_time": "2022-12-11T08:38:23.821Z"
   },
   {
    "duration": 20,
    "start_time": "2022-12-11T08:38:23.828Z"
   },
   {
    "duration": 11,
    "start_time": "2022-12-11T08:38:23.849Z"
   },
   {
    "duration": 9,
    "start_time": "2022-12-11T08:38:23.862Z"
   },
   {
    "duration": 40,
    "start_time": "2022-12-11T08:38:23.872Z"
   },
   {
    "duration": 8,
    "start_time": "2022-12-11T08:38:23.914Z"
   },
   {
    "duration": 38,
    "start_time": "2022-12-11T08:38:23.924Z"
   },
   {
    "duration": 129,
    "start_time": "2022-12-11T08:38:23.964Z"
   },
   {
    "duration": 22,
    "start_time": "2022-12-11T08:38:24.103Z"
   },
   {
    "duration": 10,
    "start_time": "2022-12-11T08:39:52.072Z"
   },
   {
    "duration": 11,
    "start_time": "2022-12-11T08:40:25.280Z"
   },
   {
    "duration": 11,
    "start_time": "2022-12-11T08:40:42.425Z"
   },
   {
    "duration": 12,
    "start_time": "2022-12-11T08:41:21.611Z"
   },
   {
    "duration": 1398,
    "start_time": "2022-12-11T12:29:08.794Z"
   },
   {
    "duration": 298,
    "start_time": "2022-12-11T12:29:10.194Z"
   },
   {
    "duration": 4,
    "start_time": "2022-12-11T12:29:10.494Z"
   },
   {
    "duration": 50,
    "start_time": "2022-12-11T12:29:10.501Z"
   },
   {
    "duration": 171,
    "start_time": "2022-12-11T12:29:10.553Z"
   },
   {
    "duration": 8,
    "start_time": "2022-12-11T12:29:10.725Z"
   },
   {
    "duration": 14,
    "start_time": "2022-12-11T12:29:10.735Z"
   },
   {
    "duration": 64,
    "start_time": "2022-12-11T12:29:10.751Z"
   },
   {
    "duration": 28,
    "start_time": "2022-12-11T12:29:10.817Z"
   },
   {
    "duration": 67,
    "start_time": "2022-12-11T12:29:10.848Z"
   },
   {
    "duration": 12,
    "start_time": "2022-12-11T12:29:10.916Z"
   },
   {
    "duration": 2260,
    "start_time": "2022-12-11T12:29:10.930Z"
   },
   {
    "duration": 38,
    "start_time": "2022-12-11T12:29:13.193Z"
   },
   {
    "duration": 405,
    "start_time": "2022-12-11T12:29:13.233Z"
   },
   {
    "duration": 7,
    "start_time": "2022-12-11T12:29:13.640Z"
   },
   {
    "duration": 9,
    "start_time": "2022-12-11T12:29:13.649Z"
   },
   {
    "duration": 14,
    "start_time": "2022-12-11T12:29:13.660Z"
   },
   {
    "duration": 64,
    "start_time": "2022-12-11T12:29:13.676Z"
   },
   {
    "duration": 50,
    "start_time": "2022-12-11T12:29:13.742Z"
   },
   {
    "duration": 69,
    "start_time": "2022-12-11T12:29:13.793Z"
   },
   {
    "duration": 18,
    "start_time": "2022-12-11T12:29:13.863Z"
   },
   {
    "duration": 65,
    "start_time": "2022-12-11T12:29:13.883Z"
   },
   {
    "duration": 49,
    "start_time": "2022-12-11T12:29:13.950Z"
   },
   {
    "duration": 65,
    "start_time": "2022-12-11T12:29:14.001Z"
   },
   {
    "duration": 4,
    "start_time": "2022-12-11T12:29:14.069Z"
   },
   {
    "duration": 13,
    "start_time": "2022-12-11T12:29:14.075Z"
   },
   {
    "duration": 42,
    "start_time": "2022-12-11T12:29:14.112Z"
   },
   {
    "duration": 80,
    "start_time": "2022-12-11T12:29:14.160Z"
   },
   {
    "duration": 35,
    "start_time": "2022-12-11T12:29:14.242Z"
   },
   {
    "duration": 52,
    "start_time": "2022-12-11T12:29:14.279Z"
   },
   {
    "duration": 10,
    "start_time": "2022-12-11T12:29:14.333Z"
   },
   {
    "duration": 156,
    "start_time": "2022-12-11T12:29:14.345Z"
   },
   {
    "duration": 16,
    "start_time": "2022-12-11T12:29:14.503Z"
   },
   {
    "duration": 17,
    "start_time": "2022-12-11T12:29:14.520Z"
   },
   {
    "duration": 19,
    "start_time": "2022-12-11T12:29:14.539Z"
   },
   {
    "duration": 66,
    "start_time": "2022-12-11T12:29:14.560Z"
   },
   {
    "duration": 67,
    "start_time": "2022-12-11T12:29:14.628Z"
   },
   {
    "duration": 40,
    "start_time": "2022-12-11T12:29:14.697Z"
   },
   {
    "duration": 165,
    "start_time": "2022-12-11T12:29:14.739Z"
   },
   {
    "duration": 29,
    "start_time": "2022-12-11T12:29:14.905Z"
   },
   {
    "duration": 27,
    "start_time": "2022-12-11T12:29:14.936Z"
   },
   {
    "duration": 340,
    "start_time": "2022-12-11T12:29:14.966Z"
   },
   {
    "duration": 20,
    "start_time": "2022-12-11T12:29:15.308Z"
   },
   {
    "duration": 14,
    "start_time": "2022-12-11T12:29:15.330Z"
   },
   {
    "duration": 5,
    "start_time": "2022-12-11T12:29:15.346Z"
   },
   {
    "duration": 190,
    "start_time": "2022-12-11T12:29:15.353Z"
   },
   {
    "duration": 8,
    "start_time": "2022-12-11T12:29:15.545Z"
   },
   {
    "duration": 18,
    "start_time": "2022-12-11T12:29:15.555Z"
   },
   {
    "duration": 6,
    "start_time": "2022-12-11T12:29:15.574Z"
   },
   {
    "duration": 140,
    "start_time": "2022-12-11T12:29:15.582Z"
   },
   {
    "duration": 12,
    "start_time": "2022-12-11T12:29:15.724Z"
   },
   {
    "duration": 12,
    "start_time": "2022-12-11T12:29:15.738Z"
   },
   {
    "duration": 86,
    "start_time": "2022-12-11T12:29:15.752Z"
   },
   {
    "duration": 6,
    "start_time": "2022-12-11T12:29:15.840Z"
   },
   {
    "duration": 17,
    "start_time": "2022-12-11T12:29:15.848Z"
   },
   {
    "duration": 78,
    "start_time": "2022-12-11T12:29:15.867Z"
   },
   {
    "duration": 10,
    "start_time": "2022-12-11T12:29:15.947Z"
   },
   {
    "duration": 17,
    "start_time": "2022-12-11T12:29:15.959Z"
   },
   {
    "duration": 35,
    "start_time": "2022-12-11T12:29:15.978Z"
   },
   {
    "duration": 18,
    "start_time": "2022-12-11T12:29:16.015Z"
   },
   {
    "duration": 238,
    "start_time": "2022-12-11T12:29:16.035Z"
   },
   {
    "duration": 25,
    "start_time": "2022-12-11T12:29:16.275Z"
   },
   {
    "duration": 9,
    "start_time": "2022-12-11T12:29:16.303Z"
   },
   {
    "duration": 11,
    "start_time": "2022-12-11T12:29:16.313Z"
   },
   {
    "duration": 12,
    "start_time": "2022-12-11T12:29:16.326Z"
   },
   {
    "duration": 17,
    "start_time": "2022-12-11T12:29:16.340Z"
   },
   {
    "duration": 12,
    "start_time": "2022-12-11T12:29:16.359Z"
   },
   {
    "duration": 12,
    "start_time": "2022-12-11T12:29:16.374Z"
   },
   {
    "duration": 14,
    "start_time": "2022-12-11T12:29:16.414Z"
   },
   {
    "duration": 14,
    "start_time": "2022-12-11T12:29:16.430Z"
   },
   {
    "duration": 36,
    "start_time": "2022-12-11T12:29:16.446Z"
   },
   {
    "duration": 38,
    "start_time": "2022-12-11T12:29:16.484Z"
   },
   {
    "duration": 30,
    "start_time": "2022-12-11T12:29:16.524Z"
   },
   {
    "duration": 11,
    "start_time": "2022-12-11T12:29:16.555Z"
   },
   {
    "duration": 57,
    "start_time": "2022-12-11T12:29:16.567Z"
   },
   {
    "duration": 14,
    "start_time": "2022-12-11T12:29:16.626Z"
   },
   {
    "duration": 26,
    "start_time": "2022-12-11T12:29:16.642Z"
   },
   {
    "duration": 17,
    "start_time": "2022-12-11T12:29:16.670Z"
   },
   {
    "duration": 330,
    "start_time": "2022-12-11T12:29:16.712Z"
   },
   {
    "duration": 15,
    "start_time": "2022-12-11T12:29:17.044Z"
   },
   {
    "duration": 9,
    "start_time": "2022-12-11T12:29:17.061Z"
   },
   {
    "duration": 51,
    "start_time": "2022-12-11T12:29:17.075Z"
   },
   {
    "duration": 15,
    "start_time": "2022-12-11T12:29:17.127Z"
   },
   {
    "duration": 71,
    "start_time": "2022-12-11T12:29:17.145Z"
   },
   {
    "duration": 146,
    "start_time": "2022-12-11T12:29:17.218Z"
   },
   {
    "duration": 6,
    "start_time": "2022-12-11T12:29:17.366Z"
   },
   {
    "duration": 22,
    "start_time": "2022-12-11T12:29:17.374Z"
   },
   {
    "duration": 11,
    "start_time": "2022-12-11T12:29:17.413Z"
   },
   {
    "duration": 8,
    "start_time": "2022-12-11T12:29:17.426Z"
   },
   {
    "duration": 10,
    "start_time": "2022-12-11T12:29:17.435Z"
   },
   {
    "duration": 7,
    "start_time": "2022-12-11T12:29:17.447Z"
   },
   {
    "duration": 61,
    "start_time": "2022-12-11T12:29:17.455Z"
   },
   {
    "duration": 133,
    "start_time": "2022-12-11T12:29:17.517Z"
   },
   {
    "duration": 18,
    "start_time": "2022-12-11T12:29:17.652Z"
   },
   {
    "duration": 1288,
    "start_time": "2022-12-11T12:37:28.317Z"
   },
   {
    "duration": 266,
    "start_time": "2022-12-11T12:37:29.607Z"
   },
   {
    "duration": 5,
    "start_time": "2022-12-11T12:37:29.875Z"
   },
   {
    "duration": 85,
    "start_time": "2022-12-11T12:37:29.883Z"
   },
   {
    "duration": 253,
    "start_time": "2022-12-11T12:37:29.969Z"
   },
   {
    "duration": 12,
    "start_time": "2022-12-11T12:37:30.228Z"
   },
   {
    "duration": 42,
    "start_time": "2022-12-11T12:37:30.242Z"
   },
   {
    "duration": 100,
    "start_time": "2022-12-11T12:37:30.289Z"
   },
   {
    "duration": 59,
    "start_time": "2022-12-11T12:37:30.390Z"
   },
   {
    "duration": 107,
    "start_time": "2022-12-11T12:37:30.453Z"
   },
   {
    "duration": 18,
    "start_time": "2022-12-11T12:37:30.563Z"
   },
   {
    "duration": 1062,
    "start_time": "2022-12-11T12:37:30.586Z"
   },
   {
    "duration": 64,
    "start_time": "2022-12-11T12:37:31.652Z"
   },
   {
    "duration": 602,
    "start_time": "2022-12-11T12:37:31.718Z"
   },
   {
    "duration": 11,
    "start_time": "2022-12-11T12:37:32.322Z"
   },
   {
    "duration": 22,
    "start_time": "2022-12-11T12:37:32.335Z"
   },
   {
    "duration": 90,
    "start_time": "2022-12-11T12:37:32.360Z"
   },
   {
    "duration": 10,
    "start_time": "2022-12-11T12:37:32.452Z"
   },
   {
    "duration": 79,
    "start_time": "2022-12-11T12:37:32.463Z"
   },
   {
    "duration": 64,
    "start_time": "2022-12-11T12:37:32.544Z"
   },
   {
    "duration": 71,
    "start_time": "2022-12-11T12:37:32.610Z"
   },
   {
    "duration": 17,
    "start_time": "2022-12-11T12:37:32.683Z"
   },
   {
    "duration": 36,
    "start_time": "2022-12-11T12:37:32.702Z"
   },
   {
    "duration": 77,
    "start_time": "2022-12-11T12:37:32.740Z"
   },
   {
    "duration": 76,
    "start_time": "2022-12-11T12:37:32.819Z"
   },
   {
    "duration": 19,
    "start_time": "2022-12-11T12:37:32.897Z"
   },
   {
    "duration": 18,
    "start_time": "2022-12-11T12:37:32.918Z"
   },
   {
    "duration": 41,
    "start_time": "2022-12-11T12:37:32.942Z"
   },
   {
    "duration": 86,
    "start_time": "2022-12-11T12:37:32.985Z"
   },
   {
    "duration": 55,
    "start_time": "2022-12-11T12:37:33.073Z"
   },
   {
    "duration": 33,
    "start_time": "2022-12-11T12:37:33.129Z"
   },
   {
    "duration": 9,
    "start_time": "2022-12-11T12:37:33.164Z"
   },
   {
    "duration": 185,
    "start_time": "2022-12-11T12:37:33.175Z"
   },
   {
    "duration": 13,
    "start_time": "2022-12-11T12:37:33.362Z"
   },
   {
    "duration": 37,
    "start_time": "2022-12-11T12:37:33.377Z"
   },
   {
    "duration": 22,
    "start_time": "2022-12-11T12:37:33.416Z"
   },
   {
    "duration": 84,
    "start_time": "2022-12-11T12:37:33.440Z"
   },
   {
    "duration": 93,
    "start_time": "2022-12-11T12:37:33.526Z"
   },
   {
    "duration": 25,
    "start_time": "2022-12-11T12:37:33.621Z"
   },
   {
    "duration": 178,
    "start_time": "2022-12-11T12:37:33.648Z"
   },
   {
    "duration": 40,
    "start_time": "2022-12-11T12:37:33.828Z"
   },
   {
    "duration": 44,
    "start_time": "2022-12-11T12:37:33.870Z"
   },
   {
    "duration": 166,
    "start_time": "2022-12-11T12:37:33.916Z"
   },
   {
    "duration": 0,
    "start_time": "2022-12-11T12:37:34.084Z"
   },
   {
    "duration": 0,
    "start_time": "2022-12-11T12:37:34.086Z"
   },
   {
    "duration": 0,
    "start_time": "2022-12-11T12:37:34.087Z"
   },
   {
    "duration": 0,
    "start_time": "2022-12-11T12:37:34.088Z"
   },
   {
    "duration": 0,
    "start_time": "2022-12-11T12:37:34.089Z"
   },
   {
    "duration": 0,
    "start_time": "2022-12-11T12:37:34.090Z"
   },
   {
    "duration": 0,
    "start_time": "2022-12-11T12:37:34.091Z"
   },
   {
    "duration": 0,
    "start_time": "2022-12-11T12:37:34.112Z"
   },
   {
    "duration": 0,
    "start_time": "2022-12-11T12:37:34.114Z"
   },
   {
    "duration": 0,
    "start_time": "2022-12-11T12:37:34.115Z"
   },
   {
    "duration": 0,
    "start_time": "2022-12-11T12:37:34.117Z"
   },
   {
    "duration": 0,
    "start_time": "2022-12-11T12:37:34.118Z"
   },
   {
    "duration": 0,
    "start_time": "2022-12-11T12:37:34.119Z"
   },
   {
    "duration": 0,
    "start_time": "2022-12-11T12:37:34.121Z"
   },
   {
    "duration": 0,
    "start_time": "2022-12-11T12:37:34.122Z"
   },
   {
    "duration": 0,
    "start_time": "2022-12-11T12:37:34.124Z"
   },
   {
    "duration": 0,
    "start_time": "2022-12-11T12:37:34.125Z"
   },
   {
    "duration": 0,
    "start_time": "2022-12-11T12:37:34.126Z"
   },
   {
    "duration": 0,
    "start_time": "2022-12-11T12:37:34.126Z"
   },
   {
    "duration": 0,
    "start_time": "2022-12-11T12:37:34.128Z"
   },
   {
    "duration": 0,
    "start_time": "2022-12-11T12:37:34.129Z"
   },
   {
    "duration": 0,
    "start_time": "2022-12-11T12:37:34.130Z"
   },
   {
    "duration": 0,
    "start_time": "2022-12-11T12:37:34.131Z"
   },
   {
    "duration": 0,
    "start_time": "2022-12-11T12:37:34.132Z"
   },
   {
    "duration": 1,
    "start_time": "2022-12-11T12:37:34.132Z"
   },
   {
    "duration": 0,
    "start_time": "2022-12-11T12:37:34.133Z"
   },
   {
    "duration": 0,
    "start_time": "2022-12-11T12:37:34.135Z"
   },
   {
    "duration": 0,
    "start_time": "2022-12-11T12:37:34.136Z"
   },
   {
    "duration": 0,
    "start_time": "2022-12-11T12:37:34.137Z"
   },
   {
    "duration": 0,
    "start_time": "2022-12-11T12:37:34.138Z"
   },
   {
    "duration": 0,
    "start_time": "2022-12-11T12:37:34.139Z"
   },
   {
    "duration": 0,
    "start_time": "2022-12-11T12:37:34.140Z"
   },
   {
    "duration": 0,
    "start_time": "2022-12-11T12:37:34.141Z"
   },
   {
    "duration": 0,
    "start_time": "2022-12-11T12:37:34.142Z"
   },
   {
    "duration": 0,
    "start_time": "2022-12-11T12:37:34.143Z"
   },
   {
    "duration": 0,
    "start_time": "2022-12-11T12:37:34.144Z"
   },
   {
    "duration": 0,
    "start_time": "2022-12-11T12:37:34.145Z"
   },
   {
    "duration": 0,
    "start_time": "2022-12-11T12:37:34.146Z"
   },
   {
    "duration": 0,
    "start_time": "2022-12-11T12:37:34.147Z"
   },
   {
    "duration": 0,
    "start_time": "2022-12-11T12:37:34.148Z"
   },
   {
    "duration": 0,
    "start_time": "2022-12-11T12:37:34.149Z"
   },
   {
    "duration": 0,
    "start_time": "2022-12-11T12:37:34.213Z"
   },
   {
    "duration": 0,
    "start_time": "2022-12-11T12:37:34.215Z"
   },
   {
    "duration": 0,
    "start_time": "2022-12-11T12:37:34.216Z"
   },
   {
    "duration": 0,
    "start_time": "2022-12-11T12:37:34.218Z"
   },
   {
    "duration": 0,
    "start_time": "2022-12-11T12:37:34.219Z"
   },
   {
    "duration": 0,
    "start_time": "2022-12-11T12:37:34.221Z"
   },
   {
    "duration": 0,
    "start_time": "2022-12-11T12:37:34.222Z"
   },
   {
    "duration": 0,
    "start_time": "2022-12-11T12:37:34.223Z"
   },
   {
    "duration": 0,
    "start_time": "2022-12-11T12:37:34.224Z"
   },
   {
    "duration": 0,
    "start_time": "2022-12-11T12:37:34.226Z"
   },
   {
    "duration": 0,
    "start_time": "2022-12-11T12:37:34.227Z"
   },
   {
    "duration": 1215,
    "start_time": "2022-12-11T12:39:11.590Z"
   },
   {
    "duration": 572,
    "start_time": "2022-12-11T12:39:12.812Z"
   },
   {
    "duration": 5,
    "start_time": "2022-12-11T12:39:13.386Z"
   },
   {
    "duration": 49,
    "start_time": "2022-12-11T12:39:13.393Z"
   },
   {
    "duration": 179,
    "start_time": "2022-12-11T12:39:13.445Z"
   },
   {
    "duration": 9,
    "start_time": "2022-12-11T12:39:13.626Z"
   },
   {
    "duration": 24,
    "start_time": "2022-12-11T12:39:13.639Z"
   },
   {
    "duration": 55,
    "start_time": "2022-12-11T12:39:13.666Z"
   },
   {
    "duration": 29,
    "start_time": "2022-12-11T12:39:13.722Z"
   },
   {
    "duration": 71,
    "start_time": "2022-12-11T12:39:13.753Z"
   },
   {
    "duration": 4,
    "start_time": "2022-12-11T12:39:13.826Z"
   },
   {
    "duration": 2544,
    "start_time": "2022-12-11T12:39:13.832Z"
   },
   {
    "duration": 51,
    "start_time": "2022-12-11T12:39:16.379Z"
   },
   {
    "duration": 494,
    "start_time": "2022-12-11T12:39:16.434Z"
   },
   {
    "duration": 9,
    "start_time": "2022-12-11T12:39:16.930Z"
   },
   {
    "duration": 33,
    "start_time": "2022-12-11T12:39:16.941Z"
   },
   {
    "duration": 36,
    "start_time": "2022-12-11T12:39:16.977Z"
   },
   {
    "duration": 52,
    "start_time": "2022-12-11T12:39:17.015Z"
   },
   {
    "duration": 54,
    "start_time": "2022-12-11T12:39:17.069Z"
   },
   {
    "duration": 57,
    "start_time": "2022-12-11T12:39:17.125Z"
   },
   {
    "duration": 40,
    "start_time": "2022-12-11T12:39:17.183Z"
   },
   {
    "duration": 31,
    "start_time": "2022-12-11T12:39:17.224Z"
   },
   {
    "duration": 64,
    "start_time": "2022-12-11T12:39:17.257Z"
   },
   {
    "duration": 51,
    "start_time": "2022-12-11T12:39:17.323Z"
   },
   {
    "duration": 23,
    "start_time": "2022-12-11T12:39:17.376Z"
   },
   {
    "duration": 42,
    "start_time": "2022-12-11T12:39:17.401Z"
   },
   {
    "duration": 81,
    "start_time": "2022-12-11T12:39:17.444Z"
   },
   {
    "duration": 61,
    "start_time": "2022-12-11T12:39:17.528Z"
   },
   {
    "duration": 55,
    "start_time": "2022-12-11T12:39:17.590Z"
   },
   {
    "duration": 32,
    "start_time": "2022-12-11T12:39:17.647Z"
   },
   {
    "duration": 9,
    "start_time": "2022-12-11T12:39:17.681Z"
   },
   {
    "duration": 167,
    "start_time": "2022-12-11T12:39:17.693Z"
   },
   {
    "duration": 10,
    "start_time": "2022-12-11T12:39:17.862Z"
   },
   {
    "duration": 19,
    "start_time": "2022-12-11T12:39:17.874Z"
   },
   {
    "duration": 32,
    "start_time": "2022-12-11T12:39:17.895Z"
   },
   {
    "duration": 42,
    "start_time": "2022-12-11T12:39:17.929Z"
   },
   {
    "duration": 75,
    "start_time": "2022-12-11T12:39:17.973Z"
   },
   {
    "duration": 22,
    "start_time": "2022-12-11T12:39:18.050Z"
   },
   {
    "duration": 163,
    "start_time": "2022-12-11T12:39:18.074Z"
   },
   {
    "duration": 24,
    "start_time": "2022-12-11T12:39:18.240Z"
   },
   {
    "duration": 20,
    "start_time": "2022-12-11T12:39:18.269Z"
   },
   {
    "duration": 282,
    "start_time": "2022-12-11T12:39:18.291Z"
   },
   {
    "duration": 19,
    "start_time": "2022-12-11T12:39:18.575Z"
   },
   {
    "duration": 30,
    "start_time": "2022-12-11T12:39:18.596Z"
   },
   {
    "duration": 5,
    "start_time": "2022-12-11T12:39:18.628Z"
   },
   {
    "duration": 173,
    "start_time": "2022-12-11T12:39:18.634Z"
   },
   {
    "duration": 7,
    "start_time": "2022-12-11T12:39:18.812Z"
   },
   {
    "duration": 21,
    "start_time": "2022-12-11T12:39:18.821Z"
   },
   {
    "duration": 8,
    "start_time": "2022-12-11T12:39:18.844Z"
   },
   {
    "duration": 118,
    "start_time": "2022-12-11T12:39:18.854Z"
   },
   {
    "duration": 19,
    "start_time": "2022-12-11T12:39:18.974Z"
   },
   {
    "duration": 5,
    "start_time": "2022-12-11T12:39:19.012Z"
   },
   {
    "duration": 100,
    "start_time": "2022-12-11T12:39:19.020Z"
   },
   {
    "duration": 8,
    "start_time": "2022-12-11T12:39:19.122Z"
   },
   {
    "duration": 22,
    "start_time": "2022-12-11T12:39:19.132Z"
   },
   {
    "duration": 93,
    "start_time": "2022-12-11T12:39:19.156Z"
   },
   {
    "duration": 11,
    "start_time": "2022-12-11T12:39:19.250Z"
   },
   {
    "duration": 20,
    "start_time": "2022-12-11T12:39:19.263Z"
   },
   {
    "duration": 38,
    "start_time": "2022-12-11T12:39:19.285Z"
   },
   {
    "duration": 15,
    "start_time": "2022-12-11T12:39:19.325Z"
   },
   {
    "duration": 221,
    "start_time": "2022-12-11T12:39:19.342Z"
   },
   {
    "duration": 15,
    "start_time": "2022-12-11T12:39:19.565Z"
   },
   {
    "duration": 9,
    "start_time": "2022-12-11T12:39:19.582Z"
   },
   {
    "duration": 25,
    "start_time": "2022-12-11T12:39:19.593Z"
   },
   {
    "duration": 14,
    "start_time": "2022-12-11T12:39:19.620Z"
   },
   {
    "duration": 18,
    "start_time": "2022-12-11T12:39:19.636Z"
   },
   {
    "duration": 10,
    "start_time": "2022-12-11T12:39:19.656Z"
   },
   {
    "duration": 14,
    "start_time": "2022-12-11T12:39:19.668Z"
   },
   {
    "duration": 19,
    "start_time": "2022-12-11T12:39:19.712Z"
   },
   {
    "duration": 13,
    "start_time": "2022-12-11T12:39:19.734Z"
   },
   {
    "duration": 27,
    "start_time": "2022-12-11T12:39:19.750Z"
   },
   {
    "duration": 38,
    "start_time": "2022-12-11T12:39:19.779Z"
   },
   {
    "duration": 29,
    "start_time": "2022-12-11T12:39:19.818Z"
   },
   {
    "duration": 16,
    "start_time": "2022-12-11T12:39:19.850Z"
   },
   {
    "duration": 70,
    "start_time": "2022-12-11T12:39:19.868Z"
   },
   {
    "duration": 12,
    "start_time": "2022-12-11T12:39:19.939Z"
   },
   {
    "duration": 16,
    "start_time": "2022-12-11T12:39:19.953Z"
   },
   {
    "duration": 16,
    "start_time": "2022-12-11T12:39:19.971Z"
   },
   {
    "duration": 373,
    "start_time": "2022-12-11T12:39:20.014Z"
   },
   {
    "duration": 49,
    "start_time": "2022-12-11T12:39:20.389Z"
   },
   {
    "duration": 10,
    "start_time": "2022-12-11T12:39:20.441Z"
   },
   {
    "duration": 36,
    "start_time": "2022-12-11T12:39:20.454Z"
   },
   {
    "duration": 25,
    "start_time": "2022-12-11T12:39:20.493Z"
   },
   {
    "duration": 44,
    "start_time": "2022-12-11T12:39:20.520Z"
   },
   {
    "duration": 170,
    "start_time": "2022-12-11T12:39:20.566Z"
   },
   {
    "duration": 6,
    "start_time": "2022-12-11T12:39:20.737Z"
   },
   {
    "duration": 26,
    "start_time": "2022-12-11T12:39:20.744Z"
   },
   {
    "duration": 41,
    "start_time": "2022-12-11T12:39:20.772Z"
   },
   {
    "duration": 8,
    "start_time": "2022-12-11T12:39:20.815Z"
   },
   {
    "duration": 13,
    "start_time": "2022-12-11T12:39:20.825Z"
   },
   {
    "duration": 8,
    "start_time": "2022-12-11T12:39:20.840Z"
   },
   {
    "duration": 76,
    "start_time": "2022-12-11T12:39:20.849Z"
   },
   {
    "duration": 138,
    "start_time": "2022-12-11T12:39:20.926Z"
   },
   {
    "duration": 21,
    "start_time": "2022-12-11T12:39:21.066Z"
   },
   {
    "duration": 19,
    "start_time": "2022-12-11T12:59:25.585Z"
   },
   {
    "duration": 8,
    "start_time": "2022-12-11T13:01:44.475Z"
   },
   {
    "duration": 6,
    "start_time": "2022-12-11T13:02:56.763Z"
   },
   {
    "duration": 10,
    "start_time": "2022-12-11T13:04:13.099Z"
   },
   {
    "duration": 69,
    "start_time": "2022-12-11T13:13:03.629Z"
   },
   {
    "duration": 7,
    "start_time": "2022-12-11T13:13:10.116Z"
   },
   {
    "duration": 16,
    "start_time": "2022-12-11T13:13:19.755Z"
   },
   {
    "duration": 12,
    "start_time": "2022-12-11T13:13:46.036Z"
   },
   {
    "duration": 8,
    "start_time": "2022-12-11T13:15:06.674Z"
   },
   {
    "duration": 14,
    "start_time": "2022-12-11T13:16:01.258Z"
   },
   {
    "duration": 14,
    "start_time": "2022-12-11T13:16:51.650Z"
   },
   {
    "duration": 25,
    "start_time": "2022-12-11T13:16:58.996Z"
   },
   {
    "duration": 13,
    "start_time": "2022-12-11T13:17:06.001Z"
   },
   {
    "duration": 30,
    "start_time": "2022-12-11T13:19:19.861Z"
   },
   {
    "duration": 1173,
    "start_time": "2022-12-11T13:24:12.573Z"
   },
   {
    "duration": 311,
    "start_time": "2022-12-11T13:24:13.748Z"
   },
   {
    "duration": 4,
    "start_time": "2022-12-11T13:24:14.061Z"
   },
   {
    "duration": 55,
    "start_time": "2022-12-11T13:24:14.068Z"
   },
   {
    "duration": 161,
    "start_time": "2022-12-11T13:24:14.125Z"
   },
   {
    "duration": 24,
    "start_time": "2022-12-11T13:24:14.288Z"
   },
   {
    "duration": 11,
    "start_time": "2022-12-11T13:24:14.315Z"
   },
   {
    "duration": 46,
    "start_time": "2022-12-11T13:24:14.327Z"
   },
   {
    "duration": 39,
    "start_time": "2022-12-11T13:24:14.375Z"
   },
   {
    "duration": 54,
    "start_time": "2022-12-11T13:24:14.417Z"
   },
   {
    "duration": 5,
    "start_time": "2022-12-11T13:24:14.473Z"
   },
   {
    "duration": 2133,
    "start_time": "2022-12-11T13:24:14.480Z"
   },
   {
    "duration": 30,
    "start_time": "2022-12-11T13:24:16.616Z"
   },
   {
    "duration": 445,
    "start_time": "2022-12-11T13:24:16.648Z"
   },
   {
    "duration": 18,
    "start_time": "2022-12-11T13:24:17.095Z"
   },
   {
    "duration": 6,
    "start_time": "2022-12-11T13:24:17.115Z"
   },
   {
    "duration": 15,
    "start_time": "2022-12-11T13:24:17.123Z"
   },
   {
    "duration": 33,
    "start_time": "2022-12-11T13:24:17.139Z"
   },
   {
    "duration": 80,
    "start_time": "2022-12-11T13:24:17.174Z"
   },
   {
    "duration": 61,
    "start_time": "2022-12-11T13:24:17.255Z"
   },
   {
    "duration": 17,
    "start_time": "2022-12-11T13:24:17.317Z"
   },
   {
    "duration": 28,
    "start_time": "2022-12-11T13:24:17.335Z"
   },
   {
    "duration": 63,
    "start_time": "2022-12-11T13:24:17.364Z"
   },
   {
    "duration": 55,
    "start_time": "2022-12-11T13:24:17.430Z"
   },
   {
    "duration": 5,
    "start_time": "2022-12-11T13:24:17.486Z"
   },
   {
    "duration": 30,
    "start_time": "2022-12-11T13:24:17.493Z"
   },
   {
    "duration": 44,
    "start_time": "2022-12-11T13:24:17.525Z"
   },
   {
    "duration": 78,
    "start_time": "2022-12-11T13:24:17.573Z"
   },
   {
    "duration": 46,
    "start_time": "2022-12-11T13:24:17.652Z"
   },
   {
    "duration": 31,
    "start_time": "2022-12-11T13:24:17.712Z"
   },
   {
    "duration": 9,
    "start_time": "2022-12-11T13:24:17.744Z"
   },
   {
    "duration": 166,
    "start_time": "2022-12-11T13:24:17.755Z"
   },
   {
    "duration": 9,
    "start_time": "2022-12-11T13:24:17.922Z"
   },
   {
    "duration": 32,
    "start_time": "2022-12-11T13:24:17.933Z"
   },
   {
    "duration": 19,
    "start_time": "2022-12-11T13:24:17.967Z"
   },
   {
    "duration": 54,
    "start_time": "2022-12-11T13:24:17.988Z"
   },
   {
    "duration": 85,
    "start_time": "2022-12-11T13:24:18.044Z"
   },
   {
    "duration": 39,
    "start_time": "2022-12-11T13:24:18.131Z"
   },
   {
    "duration": 146,
    "start_time": "2022-12-11T13:24:18.172Z"
   },
   {
    "duration": 40,
    "start_time": "2022-12-11T13:24:18.320Z"
   },
   {
    "duration": 26,
    "start_time": "2022-12-11T13:24:18.362Z"
   },
   {
    "duration": 796,
    "start_time": "2022-12-11T13:24:18.390Z"
   },
   {
    "duration": 29,
    "start_time": "2022-12-11T13:24:19.188Z"
   },
   {
    "duration": 24,
    "start_time": "2022-12-11T13:24:19.219Z"
   },
   {
    "duration": 167,
    "start_time": "2022-12-11T13:24:19.245Z"
   },
   {
    "duration": 0,
    "start_time": "2022-12-11T13:24:19.414Z"
   },
   {
    "duration": 0,
    "start_time": "2022-12-11T13:24:19.416Z"
   },
   {
    "duration": 0,
    "start_time": "2022-12-11T13:24:19.418Z"
   },
   {
    "duration": 0,
    "start_time": "2022-12-11T13:24:19.419Z"
   },
   {
    "duration": 0,
    "start_time": "2022-12-11T13:24:19.420Z"
   },
   {
    "duration": 0,
    "start_time": "2022-12-11T13:24:19.421Z"
   },
   {
    "duration": 0,
    "start_time": "2022-12-11T13:24:19.422Z"
   },
   {
    "duration": 0,
    "start_time": "2022-12-11T13:24:19.423Z"
   },
   {
    "duration": 0,
    "start_time": "2022-12-11T13:24:19.424Z"
   },
   {
    "duration": 0,
    "start_time": "2022-12-11T13:24:19.425Z"
   },
   {
    "duration": 0,
    "start_time": "2022-12-11T13:24:19.426Z"
   },
   {
    "duration": 0,
    "start_time": "2022-12-11T13:24:19.427Z"
   },
   {
    "duration": 0,
    "start_time": "2022-12-11T13:24:19.428Z"
   },
   {
    "duration": 0,
    "start_time": "2022-12-11T13:24:19.429Z"
   },
   {
    "duration": 0,
    "start_time": "2022-12-11T13:24:19.430Z"
   },
   {
    "duration": 0,
    "start_time": "2022-12-11T13:24:19.431Z"
   },
   {
    "duration": 0,
    "start_time": "2022-12-11T13:24:19.432Z"
   },
   {
    "duration": 0,
    "start_time": "2022-12-11T13:24:19.433Z"
   },
   {
    "duration": 0,
    "start_time": "2022-12-11T13:24:19.434Z"
   },
   {
    "duration": 0,
    "start_time": "2022-12-11T13:24:19.435Z"
   },
   {
    "duration": 0,
    "start_time": "2022-12-11T13:24:19.435Z"
   },
   {
    "duration": 0,
    "start_time": "2022-12-11T13:24:19.436Z"
   },
   {
    "duration": 0,
    "start_time": "2022-12-11T13:24:19.438Z"
   },
   {
    "duration": 0,
    "start_time": "2022-12-11T13:24:19.439Z"
   },
   {
    "duration": 0,
    "start_time": "2022-12-11T13:24:19.440Z"
   },
   {
    "duration": 0,
    "start_time": "2022-12-11T13:24:19.441Z"
   },
   {
    "duration": 0,
    "start_time": "2022-12-11T13:24:19.442Z"
   },
   {
    "duration": 0,
    "start_time": "2022-12-11T13:24:19.443Z"
   },
   {
    "duration": 0,
    "start_time": "2022-12-11T13:24:19.444Z"
   },
   {
    "duration": 0,
    "start_time": "2022-12-11T13:24:19.445Z"
   },
   {
    "duration": 0,
    "start_time": "2022-12-11T13:24:19.446Z"
   },
   {
    "duration": 0,
    "start_time": "2022-12-11T13:24:19.447Z"
   },
   {
    "duration": 0,
    "start_time": "2022-12-11T13:24:19.448Z"
   },
   {
    "duration": 0,
    "start_time": "2022-12-11T13:24:19.449Z"
   },
   {
    "duration": 0,
    "start_time": "2022-12-11T13:24:19.450Z"
   },
   {
    "duration": 0,
    "start_time": "2022-12-11T13:24:19.451Z"
   },
   {
    "duration": 0,
    "start_time": "2022-12-11T13:24:19.452Z"
   },
   {
    "duration": 0,
    "start_time": "2022-12-11T13:24:19.453Z"
   },
   {
    "duration": 0,
    "start_time": "2022-12-11T13:24:19.454Z"
   },
   {
    "duration": 0,
    "start_time": "2022-12-11T13:24:19.512Z"
   },
   {
    "duration": 1,
    "start_time": "2022-12-11T13:24:19.513Z"
   },
   {
    "duration": 0,
    "start_time": "2022-12-11T13:24:19.514Z"
   },
   {
    "duration": 0,
    "start_time": "2022-12-11T13:24:19.515Z"
   },
   {
    "duration": 0,
    "start_time": "2022-12-11T13:24:19.516Z"
   },
   {
    "duration": 0,
    "start_time": "2022-12-11T13:24:19.517Z"
   },
   {
    "duration": 0,
    "start_time": "2022-12-11T13:24:19.518Z"
   },
   {
    "duration": 0,
    "start_time": "2022-12-11T13:24:19.520Z"
   },
   {
    "duration": 0,
    "start_time": "2022-12-11T13:24:19.521Z"
   },
   {
    "duration": 0,
    "start_time": "2022-12-11T13:24:19.522Z"
   },
   {
    "duration": 0,
    "start_time": "2022-12-11T13:24:19.523Z"
   },
   {
    "duration": 0,
    "start_time": "2022-12-11T13:24:19.524Z"
   },
   {
    "duration": 1217,
    "start_time": "2022-12-11T13:27:54.234Z"
   },
   {
    "duration": 237,
    "start_time": "2022-12-11T13:27:55.453Z"
   },
   {
    "duration": 4,
    "start_time": "2022-12-11T13:27:55.692Z"
   },
   {
    "duration": 43,
    "start_time": "2022-12-11T13:27:55.698Z"
   },
   {
    "duration": 149,
    "start_time": "2022-12-11T13:27:55.743Z"
   },
   {
    "duration": 26,
    "start_time": "2022-12-11T13:27:55.894Z"
   },
   {
    "duration": 14,
    "start_time": "2022-12-11T13:27:55.922Z"
   },
   {
    "duration": 31,
    "start_time": "2022-12-11T13:27:55.938Z"
   },
   {
    "duration": 47,
    "start_time": "2022-12-11T13:27:55.971Z"
   },
   {
    "duration": 74,
    "start_time": "2022-12-11T13:27:56.020Z"
   },
   {
    "duration": 19,
    "start_time": "2022-12-11T13:27:56.097Z"
   },
   {
    "duration": 2134,
    "start_time": "2022-12-11T13:27:56.118Z"
   },
   {
    "duration": 24,
    "start_time": "2022-12-11T13:27:58.253Z"
   },
   {
    "duration": 412,
    "start_time": "2022-12-11T13:27:58.280Z"
   },
   {
    "duration": 20,
    "start_time": "2022-12-11T13:27:58.694Z"
   },
   {
    "duration": 20,
    "start_time": "2022-12-11T13:27:58.716Z"
   },
   {
    "duration": 17,
    "start_time": "2022-12-11T13:27:58.738Z"
   },
   {
    "duration": 38,
    "start_time": "2022-12-11T13:27:58.757Z"
   },
   {
    "duration": 65,
    "start_time": "2022-12-11T13:27:58.797Z"
   },
   {
    "duration": 69,
    "start_time": "2022-12-11T13:27:58.863Z"
   },
   {
    "duration": 19,
    "start_time": "2022-12-11T13:27:58.934Z"
   },
   {
    "duration": 29,
    "start_time": "2022-12-11T13:27:58.955Z"
   },
   {
    "duration": 74,
    "start_time": "2022-12-11T13:27:58.987Z"
   },
   {
    "duration": 68,
    "start_time": "2022-12-11T13:27:59.063Z"
   },
   {
    "duration": 7,
    "start_time": "2022-12-11T13:27:59.133Z"
   },
   {
    "duration": 32,
    "start_time": "2022-12-11T13:27:59.142Z"
   },
   {
    "duration": 48,
    "start_time": "2022-12-11T13:27:59.176Z"
   },
   {
    "duration": 56,
    "start_time": "2022-12-11T13:27:59.226Z"
   },
   {
    "duration": 46,
    "start_time": "2022-12-11T13:27:59.283Z"
   },
   {
    "duration": 29,
    "start_time": "2022-12-11T13:27:59.330Z"
   },
   {
    "duration": 9,
    "start_time": "2022-12-11T13:27:59.361Z"
   },
   {
    "duration": 175,
    "start_time": "2022-12-11T13:27:59.372Z"
   },
   {
    "duration": 9,
    "start_time": "2022-12-11T13:27:59.549Z"
   },
   {
    "duration": 27,
    "start_time": "2022-12-11T13:27:59.560Z"
   },
   {
    "duration": 33,
    "start_time": "2022-12-11T13:27:59.589Z"
   },
   {
    "duration": 42,
    "start_time": "2022-12-11T13:27:59.623Z"
   },
   {
    "duration": 76,
    "start_time": "2022-12-11T13:27:59.666Z"
   },
   {
    "duration": 22,
    "start_time": "2022-12-11T13:27:59.744Z"
   },
   {
    "duration": 163,
    "start_time": "2022-12-11T13:27:59.768Z"
   },
   {
    "duration": 23,
    "start_time": "2022-12-11T13:27:59.933Z"
   },
   {
    "duration": 18,
    "start_time": "2022-12-11T13:27:59.960Z"
   },
   {
    "duration": 286,
    "start_time": "2022-12-11T13:27:59.980Z"
   },
   {
    "duration": 25,
    "start_time": "2022-12-11T13:28:00.268Z"
   },
   {
    "duration": 47,
    "start_time": "2022-12-11T13:28:00.295Z"
   },
   {
    "duration": 34,
    "start_time": "2022-12-11T13:28:00.344Z"
   },
   {
    "duration": 218,
    "start_time": "2022-12-11T13:28:00.380Z"
   },
   {
    "duration": 14,
    "start_time": "2022-12-11T13:28:00.600Z"
   },
   {
    "duration": 26,
    "start_time": "2022-12-11T13:28:00.616Z"
   },
   {
    "duration": 13,
    "start_time": "2022-12-11T13:28:00.645Z"
   },
   {
    "duration": 130,
    "start_time": "2022-12-11T13:28:00.660Z"
   },
   {
    "duration": 22,
    "start_time": "2022-12-11T13:28:00.792Z"
   },
   {
    "duration": 17,
    "start_time": "2022-12-11T13:28:00.816Z"
   },
   {
    "duration": 100,
    "start_time": "2022-12-11T13:28:00.835Z"
   },
   {
    "duration": 8,
    "start_time": "2022-12-11T13:28:00.937Z"
   },
   {
    "duration": 52,
    "start_time": "2022-12-11T13:28:00.947Z"
   },
   {
    "duration": 63,
    "start_time": "2022-12-11T13:28:01.000Z"
   },
   {
    "duration": 13,
    "start_time": "2022-12-11T13:28:01.065Z"
   },
   {
    "duration": 50,
    "start_time": "2022-12-11T13:28:01.080Z"
   },
   {
    "duration": 14,
    "start_time": "2022-12-11T13:28:01.133Z"
   },
   {
    "duration": 29,
    "start_time": "2022-12-11T13:28:01.150Z"
   },
   {
    "duration": 271,
    "start_time": "2022-12-11T13:28:01.188Z"
   },
   {
    "duration": 11,
    "start_time": "2022-12-11T13:28:01.461Z"
   },
   {
    "duration": 18,
    "start_time": "2022-12-11T13:28:01.474Z"
   },
   {
    "duration": 28,
    "start_time": "2022-12-11T13:28:01.493Z"
   },
   {
    "duration": 54,
    "start_time": "2022-12-11T13:28:01.523Z"
   },
   {
    "duration": 27,
    "start_time": "2022-12-11T13:28:01.579Z"
   },
   {
    "duration": 36,
    "start_time": "2022-12-11T13:28:01.607Z"
   },
   {
    "duration": 19,
    "start_time": "2022-12-11T13:28:01.645Z"
   },
   {
    "duration": 32,
    "start_time": "2022-12-11T13:28:01.665Z"
   },
   {
    "duration": 26,
    "start_time": "2022-12-11T13:28:01.699Z"
   },
   {
    "duration": 40,
    "start_time": "2022-12-11T13:28:01.726Z"
   },
   {
    "duration": 56,
    "start_time": "2022-12-11T13:28:01.768Z"
   },
   {
    "duration": 28,
    "start_time": "2022-12-11T13:28:01.826Z"
   },
   {
    "duration": 58,
    "start_time": "2022-12-11T13:28:01.856Z"
   },
   {
    "duration": 15,
    "start_time": "2022-12-11T13:28:01.916Z"
   },
   {
    "duration": 47,
    "start_time": "2022-12-11T13:28:01.933Z"
   },
   {
    "duration": 10,
    "start_time": "2022-12-11T13:28:01.981Z"
   },
   {
    "duration": 54,
    "start_time": "2022-12-11T13:28:01.993Z"
   },
   {
    "duration": 1,
    "start_time": "2022-12-11T13:28:02.048Z"
   },
   {
    "duration": 0,
    "start_time": "2022-12-11T13:28:02.050Z"
   },
   {
    "duration": 0,
    "start_time": "2022-12-11T13:28:02.052Z"
   },
   {
    "duration": 0,
    "start_time": "2022-12-11T13:28:02.054Z"
   },
   {
    "duration": 1,
    "start_time": "2022-12-11T13:28:02.055Z"
   },
   {
    "duration": 0,
    "start_time": "2022-12-11T13:28:02.057Z"
   },
   {
    "duration": 0,
    "start_time": "2022-12-11T13:28:02.058Z"
   },
   {
    "duration": 1,
    "start_time": "2022-12-11T13:28:02.059Z"
   },
   {
    "duration": 0,
    "start_time": "2022-12-11T13:28:02.061Z"
   },
   {
    "duration": 0,
    "start_time": "2022-12-11T13:28:02.063Z"
   },
   {
    "duration": 0,
    "start_time": "2022-12-11T13:28:02.064Z"
   },
   {
    "duration": 0,
    "start_time": "2022-12-11T13:28:02.065Z"
   },
   {
    "duration": 0,
    "start_time": "2022-12-11T13:28:02.067Z"
   },
   {
    "duration": 0,
    "start_time": "2022-12-11T13:28:02.068Z"
   },
   {
    "duration": 0,
    "start_time": "2022-12-11T13:28:02.069Z"
   },
   {
    "duration": 0,
    "start_time": "2022-12-11T13:28:02.071Z"
   },
   {
    "duration": 0,
    "start_time": "2022-12-11T13:28:02.072Z"
   },
   {
    "duration": 0,
    "start_time": "2022-12-11T13:28:02.074Z"
   },
   {
    "duration": 961,
    "start_time": "2022-12-11T13:30:46.180Z"
   },
   {
    "duration": 16,
    "start_time": "2022-12-11T13:30:56.594Z"
   },
   {
    "duration": 1245,
    "start_time": "2022-12-11T13:31:18.358Z"
   },
   {
    "duration": 330,
    "start_time": "2022-12-11T13:31:19.606Z"
   },
   {
    "duration": 3,
    "start_time": "2022-12-11T13:31:19.938Z"
   },
   {
    "duration": 43,
    "start_time": "2022-12-11T13:31:19.944Z"
   },
   {
    "duration": 156,
    "start_time": "2022-12-11T13:31:19.989Z"
   },
   {
    "duration": 8,
    "start_time": "2022-12-11T13:31:20.147Z"
   },
   {
    "duration": 11,
    "start_time": "2022-12-11T13:31:20.157Z"
   },
   {
    "duration": 61,
    "start_time": "2022-12-11T13:31:20.170Z"
   },
   {
    "duration": 41,
    "start_time": "2022-12-11T13:31:20.233Z"
   },
   {
    "duration": 77,
    "start_time": "2022-12-11T13:31:20.279Z"
   },
   {
    "duration": 22,
    "start_time": "2022-12-11T13:31:20.358Z"
   },
   {
    "duration": 2120,
    "start_time": "2022-12-11T13:31:20.383Z"
   },
   {
    "duration": 27,
    "start_time": "2022-12-11T13:31:22.513Z"
   },
   {
    "duration": 427,
    "start_time": "2022-12-11T13:31:22.542Z"
   },
   {
    "duration": 9,
    "start_time": "2022-12-11T13:31:22.972Z"
   },
   {
    "duration": 30,
    "start_time": "2022-12-11T13:31:22.983Z"
   },
   {
    "duration": 14,
    "start_time": "2022-12-11T13:31:23.015Z"
   },
   {
    "duration": 32,
    "start_time": "2022-12-11T13:31:23.031Z"
   },
   {
    "duration": 83,
    "start_time": "2022-12-11T13:31:23.065Z"
   },
   {
    "duration": 65,
    "start_time": "2022-12-11T13:31:23.150Z"
   },
   {
    "duration": 24,
    "start_time": "2022-12-11T13:31:23.218Z"
   },
   {
    "duration": 28,
    "start_time": "2022-12-11T13:31:23.244Z"
   },
   {
    "duration": 61,
    "start_time": "2022-12-11T13:31:23.274Z"
   },
   {
    "duration": 48,
    "start_time": "2022-12-11T13:31:23.336Z"
   },
   {
    "duration": 4,
    "start_time": "2022-12-11T13:31:23.386Z"
   },
   {
    "duration": 11,
    "start_time": "2022-12-11T13:31:23.413Z"
   },
   {
    "duration": 38,
    "start_time": "2022-12-11T13:31:23.425Z"
   },
   {
    "duration": 77,
    "start_time": "2022-12-11T13:31:23.467Z"
   },
   {
    "duration": 32,
    "start_time": "2022-12-11T13:31:23.546Z"
   },
   {
    "duration": 52,
    "start_time": "2022-12-11T13:31:23.580Z"
   },
   {
    "duration": 9,
    "start_time": "2022-12-11T13:31:23.633Z"
   },
   {
    "duration": 161,
    "start_time": "2022-12-11T13:31:23.643Z"
   },
   {
    "duration": 9,
    "start_time": "2022-12-11T13:31:23.806Z"
   },
   {
    "duration": 18,
    "start_time": "2022-12-11T13:31:23.817Z"
   },
   {
    "duration": 20,
    "start_time": "2022-12-11T13:31:23.837Z"
   },
   {
    "duration": 67,
    "start_time": "2022-12-11T13:31:23.859Z"
   },
   {
    "duration": 50,
    "start_time": "2022-12-11T13:31:23.928Z"
   },
   {
    "duration": 44,
    "start_time": "2022-12-11T13:31:23.980Z"
   },
   {
    "duration": 155,
    "start_time": "2022-12-11T13:31:24.026Z"
   },
   {
    "duration": 35,
    "start_time": "2022-12-11T13:31:24.183Z"
   },
   {
    "duration": 18,
    "start_time": "2022-12-11T13:31:24.220Z"
   },
   {
    "duration": 263,
    "start_time": "2022-12-11T13:31:24.240Z"
   },
   {
    "duration": 22,
    "start_time": "2022-12-11T13:31:24.504Z"
   },
   {
    "duration": 14,
    "start_time": "2022-12-11T13:31:24.527Z"
   },
   {
    "duration": 6,
    "start_time": "2022-12-11T13:31:24.542Z"
   },
   {
    "duration": 197,
    "start_time": "2022-12-11T13:31:24.550Z"
   },
   {
    "duration": 7,
    "start_time": "2022-12-11T13:31:24.749Z"
   },
   {
    "duration": 15,
    "start_time": "2022-12-11T13:31:24.757Z"
   },
   {
    "duration": 5,
    "start_time": "2022-12-11T13:31:24.773Z"
   },
   {
    "duration": 116,
    "start_time": "2022-12-11T13:31:24.779Z"
   },
   {
    "duration": 26,
    "start_time": "2022-12-11T13:31:24.896Z"
   },
   {
    "duration": 4,
    "start_time": "2022-12-11T13:31:24.924Z"
   },
   {
    "duration": 85,
    "start_time": "2022-12-11T13:31:24.930Z"
   },
   {
    "duration": 6,
    "start_time": "2022-12-11T13:31:25.017Z"
   },
   {
    "duration": 19,
    "start_time": "2022-12-11T13:31:25.024Z"
   },
   {
    "duration": 97,
    "start_time": "2022-12-11T13:31:25.045Z"
   },
   {
    "duration": 13,
    "start_time": "2022-12-11T13:31:25.144Z"
   },
   {
    "duration": 20,
    "start_time": "2022-12-11T13:31:25.159Z"
   },
   {
    "duration": 32,
    "start_time": "2022-12-11T13:31:25.181Z"
   },
   {
    "duration": 13,
    "start_time": "2022-12-11T13:31:25.215Z"
   },
   {
    "duration": 203,
    "start_time": "2022-12-11T13:31:25.229Z"
   },
   {
    "duration": 10,
    "start_time": "2022-12-11T13:31:25.434Z"
   },
   {
    "duration": 6,
    "start_time": "2022-12-11T13:31:25.446Z"
   },
   {
    "duration": 8,
    "start_time": "2022-12-11T13:31:25.454Z"
   },
   {
    "duration": 13,
    "start_time": "2022-12-11T13:31:25.463Z"
   },
   {
    "duration": 36,
    "start_time": "2022-12-11T13:31:25.478Z"
   },
   {
    "duration": 11,
    "start_time": "2022-12-11T13:31:25.516Z"
   },
   {
    "duration": 11,
    "start_time": "2022-12-11T13:31:25.529Z"
   },
   {
    "duration": 14,
    "start_time": "2022-12-11T13:31:25.541Z"
   },
   {
    "duration": 13,
    "start_time": "2022-12-11T13:31:25.557Z"
   },
   {
    "duration": 16,
    "start_time": "2022-12-11T13:31:25.572Z"
   },
   {
    "duration": 862,
    "start_time": "2022-12-11T13:31:25.590Z"
   },
   {
    "duration": 26,
    "start_time": "2022-12-11T13:31:26.454Z"
   },
   {
    "duration": 12,
    "start_time": "2022-12-11T13:31:26.482Z"
   },
   {
    "duration": 27,
    "start_time": "2022-12-11T13:31:26.514Z"
   },
   {
    "duration": 10,
    "start_time": "2022-12-11T13:31:26.542Z"
   },
   {
    "duration": 33,
    "start_time": "2022-12-11T13:31:26.553Z"
   },
   {
    "duration": 33,
    "start_time": "2022-12-11T13:31:26.588Z"
   },
   {
    "duration": 19,
    "start_time": "2022-12-11T13:31:26.623Z"
   },
   {
    "duration": 17,
    "start_time": "2022-12-11T13:31:26.644Z"
   },
   {
    "duration": 17,
    "start_time": "2022-12-11T13:31:26.663Z"
   },
   {
    "duration": 239,
    "start_time": "2022-12-11T13:31:26.712Z"
   },
   {
    "duration": 16,
    "start_time": "2022-12-11T13:31:26.953Z"
   },
   {
    "duration": 42,
    "start_time": "2022-12-11T13:31:26.971Z"
   },
   {
    "duration": 15,
    "start_time": "2022-12-11T13:31:27.015Z"
   },
   {
    "duration": 9,
    "start_time": "2022-12-11T13:31:27.032Z"
   },
   {
    "duration": 43,
    "start_time": "2022-12-11T13:31:27.043Z"
   },
   {
    "duration": 156,
    "start_time": "2022-12-11T13:31:27.087Z"
   },
   {
    "duration": 5,
    "start_time": "2022-12-11T13:31:27.244Z"
   },
   {
    "duration": 23,
    "start_time": "2022-12-11T13:31:27.251Z"
   },
   {
    "duration": 10,
    "start_time": "2022-12-11T13:31:27.276Z"
   },
   {
    "duration": 26,
    "start_time": "2022-12-11T13:31:27.288Z"
   },
   {
    "duration": 11,
    "start_time": "2022-12-11T13:31:27.316Z"
   },
   {
    "duration": 8,
    "start_time": "2022-12-11T13:31:27.328Z"
   },
   {
    "duration": 32,
    "start_time": "2022-12-11T13:31:27.338Z"
   },
   {
    "duration": 146,
    "start_time": "2022-12-11T13:31:27.372Z"
   },
   {
    "duration": 19,
    "start_time": "2022-12-11T13:31:27.520Z"
   },
   {
    "duration": 10,
    "start_time": "2022-12-11T13:32:42.081Z"
   },
   {
    "duration": 16,
    "start_time": "2022-12-11T13:33:32.368Z"
   },
   {
    "duration": 18,
    "start_time": "2022-12-11T13:34:00.863Z"
   },
   {
    "duration": 14,
    "start_time": "2022-12-11T13:36:14.458Z"
   },
   {
    "duration": 11,
    "start_time": "2022-12-11T13:37:50.989Z"
   },
   {
    "duration": 11,
    "start_time": "2022-12-11T13:38:04.091Z"
   },
   {
    "duration": 5,
    "start_time": "2022-12-11T13:39:12.041Z"
   },
   {
    "duration": 22,
    "start_time": "2022-12-11T13:39:38.985Z"
   },
   {
    "duration": 4,
    "start_time": "2022-12-11T13:39:49.391Z"
   },
   {
    "duration": 7,
    "start_time": "2022-12-11T13:39:56.509Z"
   },
   {
    "duration": 108,
    "start_time": "2022-12-11T13:43:18.475Z"
   },
   {
    "duration": 67,
    "start_time": "2022-12-11T13:44:07.196Z"
   },
   {
    "duration": 69,
    "start_time": "2022-12-11T13:44:21.421Z"
   },
   {
    "duration": 3,
    "start_time": "2022-12-11T13:46:40.841Z"
   },
   {
    "duration": 4,
    "start_time": "2022-12-11T13:47:02.808Z"
   },
   {
    "duration": 4,
    "start_time": "2022-12-11T13:49:04.198Z"
   },
   {
    "duration": 81,
    "start_time": "2022-12-11T13:49:06.008Z"
   },
   {
    "duration": 10,
    "start_time": "2022-12-11T13:49:24.311Z"
   },
   {
    "duration": 12,
    "start_time": "2022-12-11T13:49:28.255Z"
   },
   {
    "duration": 73,
    "start_time": "2022-12-11T13:49:34.840Z"
   },
   {
    "duration": 3,
    "start_time": "2022-12-11T13:49:55.185Z"
   },
   {
    "duration": 11,
    "start_time": "2022-12-11T13:49:57.073Z"
   },
   {
    "duration": 14,
    "start_time": "2022-12-11T13:50:35.294Z"
   },
   {
    "duration": 3,
    "start_time": "2022-12-11T13:50:37.199Z"
   },
   {
    "duration": 16,
    "start_time": "2022-12-11T13:50:38.094Z"
   },
   {
    "duration": 4,
    "start_time": "2022-12-11T13:51:33.918Z"
   },
   {
    "duration": 44,
    "start_time": "2022-12-11T13:51:35.394Z"
   },
   {
    "duration": 4,
    "start_time": "2022-12-11T13:51:48.949Z"
   },
   {
    "duration": 12,
    "start_time": "2022-12-11T13:51:49.704Z"
   },
   {
    "duration": 1306,
    "start_time": "2022-12-11T13:51:59.487Z"
   },
   {
    "duration": 299,
    "start_time": "2022-12-11T13:52:00.795Z"
   },
   {
    "duration": 7,
    "start_time": "2022-12-11T13:52:01.096Z"
   },
   {
    "duration": 79,
    "start_time": "2022-12-11T13:52:01.105Z"
   },
   {
    "duration": 178,
    "start_time": "2022-12-11T13:52:01.186Z"
   },
   {
    "duration": 9,
    "start_time": "2022-12-11T13:52:01.365Z"
   },
   {
    "duration": 41,
    "start_time": "2022-12-11T13:52:01.376Z"
   },
   {
    "duration": 61,
    "start_time": "2022-12-11T13:52:01.419Z"
   },
   {
    "duration": 30,
    "start_time": "2022-12-11T13:52:01.482Z"
   },
   {
    "duration": 64,
    "start_time": "2022-12-11T13:52:01.514Z"
   },
   {
    "duration": 6,
    "start_time": "2022-12-11T13:52:01.579Z"
   },
   {
    "duration": 2270,
    "start_time": "2022-12-11T13:52:01.586Z"
   },
   {
    "duration": 56,
    "start_time": "2022-12-11T13:52:03.858Z"
   },
   {
    "duration": 429,
    "start_time": "2022-12-11T13:52:03.917Z"
   },
   {
    "duration": 9,
    "start_time": "2022-12-11T13:52:04.349Z"
   },
   {
    "duration": 18,
    "start_time": "2022-12-11T13:52:04.360Z"
   },
   {
    "duration": 45,
    "start_time": "2022-12-11T13:52:04.381Z"
   },
   {
    "duration": 39,
    "start_time": "2022-12-11T13:52:04.428Z"
   },
   {
    "duration": 84,
    "start_time": "2022-12-11T13:52:04.469Z"
   },
   {
    "duration": 66,
    "start_time": "2022-12-11T13:52:04.555Z"
   },
   {
    "duration": 21,
    "start_time": "2022-12-11T13:52:04.625Z"
   },
   {
    "duration": 42,
    "start_time": "2022-12-11T13:52:04.648Z"
   },
   {
    "duration": 69,
    "start_time": "2022-12-11T13:52:04.692Z"
   },
   {
    "duration": 69,
    "start_time": "2022-12-11T13:52:04.763Z"
   },
   {
    "duration": 4,
    "start_time": "2022-12-11T13:52:04.834Z"
   },
   {
    "duration": 15,
    "start_time": "2022-12-11T13:52:04.841Z"
   },
   {
    "duration": 58,
    "start_time": "2022-12-11T13:52:04.857Z"
   },
   {
    "duration": 59,
    "start_time": "2022-12-11T13:52:04.918Z"
   },
   {
    "duration": 67,
    "start_time": "2022-12-11T13:52:04.979Z"
   },
   {
    "duration": 40,
    "start_time": "2022-12-11T13:52:05.049Z"
   },
   {
    "duration": 23,
    "start_time": "2022-12-11T13:52:05.091Z"
   },
   {
    "duration": 165,
    "start_time": "2022-12-11T13:52:05.116Z"
   },
   {
    "duration": 9,
    "start_time": "2022-12-11T13:52:05.283Z"
   },
   {
    "duration": 33,
    "start_time": "2022-12-11T13:52:05.294Z"
   },
   {
    "duration": 20,
    "start_time": "2022-12-11T13:52:05.329Z"
   },
   {
    "duration": 65,
    "start_time": "2022-12-11T13:52:05.351Z"
   },
   {
    "duration": 54,
    "start_time": "2022-12-11T13:52:05.418Z"
   },
   {
    "duration": 40,
    "start_time": "2022-12-11T13:52:05.474Z"
   },
   {
    "duration": 153,
    "start_time": "2022-12-11T13:52:05.516Z"
   },
   {
    "duration": 23,
    "start_time": "2022-12-11T13:52:05.671Z"
   },
   {
    "duration": 20,
    "start_time": "2022-12-11T13:52:05.712Z"
   },
   {
    "duration": 308,
    "start_time": "2022-12-11T13:52:05.734Z"
   },
   {
    "duration": 19,
    "start_time": "2022-12-11T13:52:06.044Z"
   },
   {
    "duration": 16,
    "start_time": "2022-12-11T13:52:06.065Z"
   },
   {
    "duration": 5,
    "start_time": "2022-12-11T13:52:06.083Z"
   },
   {
    "duration": 200,
    "start_time": "2022-12-11T13:52:06.089Z"
   },
   {
    "duration": 10,
    "start_time": "2022-12-11T13:52:06.290Z"
   },
   {
    "duration": 16,
    "start_time": "2022-12-11T13:52:06.313Z"
   },
   {
    "duration": 6,
    "start_time": "2022-12-11T13:52:06.331Z"
   },
   {
    "duration": 141,
    "start_time": "2022-12-11T13:52:06.339Z"
   },
   {
    "duration": 32,
    "start_time": "2022-12-11T13:52:06.481Z"
   },
   {
    "duration": 4,
    "start_time": "2022-12-11T13:52:06.514Z"
   },
   {
    "duration": 125,
    "start_time": "2022-12-11T13:52:06.521Z"
   },
   {
    "duration": 8,
    "start_time": "2022-12-11T13:52:06.648Z"
   },
   {
    "duration": 16,
    "start_time": "2022-12-11T13:52:06.658Z"
   },
   {
    "duration": 83,
    "start_time": "2022-12-11T13:52:06.676Z"
   },
   {
    "duration": 18,
    "start_time": "2022-12-11T13:52:06.761Z"
   },
   {
    "duration": 27,
    "start_time": "2022-12-11T13:52:06.781Z"
   },
   {
    "duration": 12,
    "start_time": "2022-12-11T13:52:06.813Z"
   },
   {
    "duration": 13,
    "start_time": "2022-12-11T13:52:06.827Z"
   },
   {
    "duration": 275,
    "start_time": "2022-12-11T13:52:06.842Z"
   },
   {
    "duration": 14,
    "start_time": "2022-12-11T13:52:07.120Z"
   },
   {
    "duration": 16,
    "start_time": "2022-12-11T13:52:07.136Z"
   },
   {
    "duration": 30,
    "start_time": "2022-12-11T13:52:07.154Z"
   },
   {
    "duration": 49,
    "start_time": "2022-12-11T13:52:07.186Z"
   },
   {
    "duration": 33,
    "start_time": "2022-12-11T13:52:07.237Z"
   },
   {
    "duration": 44,
    "start_time": "2022-12-11T13:52:07.272Z"
   },
   {
    "duration": 44,
    "start_time": "2022-12-11T13:52:07.318Z"
   },
   {
    "duration": 13,
    "start_time": "2022-12-11T13:52:07.365Z"
   },
   {
    "duration": 39,
    "start_time": "2022-12-11T13:52:07.380Z"
   },
   {
    "duration": 30,
    "start_time": "2022-12-11T13:52:07.421Z"
   },
   {
    "duration": 861,
    "start_time": "2022-12-11T13:52:07.453Z"
   },
   {
    "duration": 27,
    "start_time": "2022-12-11T13:52:08.315Z"
   },
   {
    "duration": 17,
    "start_time": "2022-12-11T13:52:08.344Z"
   },
   {
    "duration": 54,
    "start_time": "2022-12-11T13:52:08.363Z"
   },
   {
    "duration": 11,
    "start_time": "2022-12-11T13:52:08.419Z"
   },
   {
    "duration": 35,
    "start_time": "2022-12-11T13:52:08.432Z"
   },
   {
    "duration": 10,
    "start_time": "2022-12-11T13:52:08.469Z"
   },
   {
    "duration": 42,
    "start_time": "2022-12-11T13:52:08.481Z"
   },
   {
    "duration": 3,
    "start_time": "2022-12-11T13:52:08.525Z"
   },
   {
    "duration": 17,
    "start_time": "2022-12-11T13:52:08.530Z"
   },
   {
    "duration": 20,
    "start_time": "2022-12-11T13:52:08.549Z"
   },
   {
    "duration": 44,
    "start_time": "2022-12-11T13:52:08.571Z"
   },
   {
    "duration": 13,
    "start_time": "2022-12-11T13:52:08.617Z"
   },
   {
    "duration": 6,
    "start_time": "2022-12-11T13:52:08.631Z"
   },
   {
    "duration": 13,
    "start_time": "2022-12-11T13:52:08.639Z"
   },
   {
    "duration": 11,
    "start_time": "2022-12-11T13:52:08.653Z"
   },
   {
    "duration": 48,
    "start_time": "2022-12-11T13:52:08.666Z"
   },
   {
    "duration": 18,
    "start_time": "2022-12-11T13:52:08.716Z"
   },
   {
    "duration": 249,
    "start_time": "2022-12-11T13:52:08.736Z"
   },
   {
    "duration": 36,
    "start_time": "2022-12-11T13:52:08.987Z"
   },
   {
    "duration": 10,
    "start_time": "2022-12-11T13:52:09.025Z"
   },
   {
    "duration": 22,
    "start_time": "2022-12-11T13:52:09.037Z"
   },
   {
    "duration": 54,
    "start_time": "2022-12-11T13:52:09.061Z"
   },
   {
    "duration": 43,
    "start_time": "2022-12-11T13:52:09.117Z"
   },
   {
    "duration": 139,
    "start_time": "2022-12-11T13:52:09.162Z"
   },
   {
    "duration": 11,
    "start_time": "2022-12-11T13:52:09.302Z"
   },
   {
    "duration": 26,
    "start_time": "2022-12-11T13:52:09.315Z"
   },
   {
    "duration": 12,
    "start_time": "2022-12-11T13:52:09.343Z"
   },
   {
    "duration": 9,
    "start_time": "2022-12-11T13:52:09.356Z"
   },
   {
    "duration": 17,
    "start_time": "2022-12-11T13:52:09.367Z"
   },
   {
    "duration": 9,
    "start_time": "2022-12-11T13:52:09.413Z"
   },
   {
    "duration": 33,
    "start_time": "2022-12-11T13:52:09.424Z"
   },
   {
    "duration": 134,
    "start_time": "2022-12-11T13:52:09.459Z"
   },
   {
    "duration": 27,
    "start_time": "2022-12-11T13:52:09.594Z"
   },
   {
    "duration": 5,
    "start_time": "2022-12-11T13:54:24.382Z"
   },
   {
    "duration": 12,
    "start_time": "2022-12-11T13:54:25.196Z"
   },
   {
    "duration": 11,
    "start_time": "2022-12-11T13:54:39.229Z"
   },
   {
    "duration": 4,
    "start_time": "2022-12-11T13:54:51.156Z"
   },
   {
    "duration": 15,
    "start_time": "2022-12-11T13:54:51.922Z"
   },
   {
    "duration": 4,
    "start_time": "2022-12-11T13:55:39.310Z"
   },
   {
    "duration": 13,
    "start_time": "2022-12-11T13:55:39.963Z"
   },
   {
    "duration": 12,
    "start_time": "2022-12-11T13:56:11.687Z"
   },
   {
    "duration": 14,
    "start_time": "2022-12-11T13:56:18.610Z"
   },
   {
    "duration": 45,
    "start_time": "2022-12-11T13:57:27.013Z"
   },
   {
    "duration": 10,
    "start_time": "2022-12-11T13:57:40.803Z"
   },
   {
    "duration": 13,
    "start_time": "2022-12-11T13:57:52.237Z"
   },
   {
    "duration": 14,
    "start_time": "2022-12-11T13:58:14.340Z"
   },
   {
    "duration": 18,
    "start_time": "2022-12-11T13:58:54.073Z"
   },
   {
    "duration": 37,
    "start_time": "2022-12-11T13:59:07.544Z"
   },
   {
    "duration": 19,
    "start_time": "2022-12-11T13:59:23.304Z"
   },
   {
    "duration": 18,
    "start_time": "2022-12-11T13:59:56.953Z"
   },
   {
    "duration": 20,
    "start_time": "2022-12-11T14:00:03.077Z"
   },
   {
    "duration": 18,
    "start_time": "2022-12-11T14:01:23.383Z"
   },
   {
    "duration": 12,
    "start_time": "2022-12-11T14:02:29.025Z"
   },
   {
    "duration": 19,
    "start_time": "2022-12-11T14:04:11.855Z"
   },
   {
    "duration": 4,
    "start_time": "2022-12-11T14:04:18.535Z"
   },
   {
    "duration": 49,
    "start_time": "2022-12-11T14:04:19.206Z"
   },
   {
    "duration": 23,
    "start_time": "2022-12-11T14:04:47.396Z"
   },
   {
    "duration": 54,
    "start_time": "2022-12-11T14:05:08.275Z"
   },
   {
    "duration": 29,
    "start_time": "2022-12-11T14:05:16.139Z"
   },
   {
    "duration": 35,
    "start_time": "2022-12-11T14:05:29.906Z"
   },
   {
    "duration": 1239,
    "start_time": "2022-12-11T14:06:16.345Z"
   },
   {
    "duration": 258,
    "start_time": "2022-12-11T14:06:17.586Z"
   },
   {
    "duration": 4,
    "start_time": "2022-12-11T14:06:17.845Z"
   },
   {
    "duration": 50,
    "start_time": "2022-12-11T14:06:17.851Z"
   },
   {
    "duration": 219,
    "start_time": "2022-12-11T14:06:17.903Z"
   },
   {
    "duration": 8,
    "start_time": "2022-12-11T14:06:18.124Z"
   },
   {
    "duration": 46,
    "start_time": "2022-12-11T14:06:18.134Z"
   },
   {
    "duration": 43,
    "start_time": "2022-12-11T14:06:18.181Z"
   },
   {
    "duration": 32,
    "start_time": "2022-12-11T14:06:18.226Z"
   },
   {
    "duration": 55,
    "start_time": "2022-12-11T14:06:18.261Z"
   },
   {
    "duration": 5,
    "start_time": "2022-12-11T14:06:18.318Z"
   },
   {
    "duration": 2390,
    "start_time": "2022-12-11T14:06:18.325Z"
   },
   {
    "duration": 34,
    "start_time": "2022-12-11T14:06:20.718Z"
   },
   {
    "duration": 436,
    "start_time": "2022-12-11T14:06:20.754Z"
   },
   {
    "duration": 20,
    "start_time": "2022-12-11T14:06:21.193Z"
   },
   {
    "duration": 5,
    "start_time": "2022-12-11T14:06:21.216Z"
   },
   {
    "duration": 15,
    "start_time": "2022-12-11T14:06:21.223Z"
   },
   {
    "duration": 29,
    "start_time": "2022-12-11T14:06:21.240Z"
   },
   {
    "duration": 85,
    "start_time": "2022-12-11T14:06:21.271Z"
   },
   {
    "duration": 68,
    "start_time": "2022-12-11T14:06:21.358Z"
   },
   {
    "duration": 25,
    "start_time": "2022-12-11T14:06:21.429Z"
   },
   {
    "duration": 62,
    "start_time": "2022-12-11T14:06:21.456Z"
   },
   {
    "duration": 45,
    "start_time": "2022-12-11T14:06:21.520Z"
   },
   {
    "duration": 99,
    "start_time": "2022-12-11T14:06:21.568Z"
   },
   {
    "duration": 6,
    "start_time": "2022-12-11T14:06:21.670Z"
   },
   {
    "duration": 13,
    "start_time": "2022-12-11T14:06:21.678Z"
   },
   {
    "duration": 42,
    "start_time": "2022-12-11T14:06:21.714Z"
   },
   {
    "duration": 74,
    "start_time": "2022-12-11T14:06:21.762Z"
   },
   {
    "duration": 35,
    "start_time": "2022-12-11T14:06:21.838Z"
   },
   {
    "duration": 52,
    "start_time": "2022-12-11T14:06:21.875Z"
   },
   {
    "duration": 9,
    "start_time": "2022-12-11T14:06:21.929Z"
   },
   {
    "duration": 177,
    "start_time": "2022-12-11T14:06:21.940Z"
   },
   {
    "duration": 10,
    "start_time": "2022-12-11T14:06:22.119Z"
   },
   {
    "duration": 35,
    "start_time": "2022-12-11T14:06:22.131Z"
   },
   {
    "duration": 25,
    "start_time": "2022-12-11T14:06:22.168Z"
   },
   {
    "duration": 52,
    "start_time": "2022-12-11T14:06:22.194Z"
   },
   {
    "duration": 65,
    "start_time": "2022-12-11T14:06:22.248Z"
   },
   {
    "duration": 23,
    "start_time": "2022-12-11T14:06:22.315Z"
   },
   {
    "duration": 159,
    "start_time": "2022-12-11T14:06:22.340Z"
   },
   {
    "duration": 32,
    "start_time": "2022-12-11T14:06:22.501Z"
   },
   {
    "duration": 19,
    "start_time": "2022-12-11T14:06:22.535Z"
   },
   {
    "duration": 303,
    "start_time": "2022-12-11T14:06:22.556Z"
   },
   {
    "duration": 23,
    "start_time": "2022-12-11T14:06:22.862Z"
   },
   {
    "duration": 31,
    "start_time": "2022-12-11T14:06:22.886Z"
   },
   {
    "duration": 6,
    "start_time": "2022-12-11T14:06:22.919Z"
   },
   {
    "duration": 186,
    "start_time": "2022-12-11T14:06:22.928Z"
   },
   {
    "duration": 9,
    "start_time": "2022-12-11T14:06:23.116Z"
   },
   {
    "duration": 20,
    "start_time": "2022-12-11T14:06:23.127Z"
   },
   {
    "duration": 4,
    "start_time": "2022-12-11T14:06:23.149Z"
   },
   {
    "duration": 120,
    "start_time": "2022-12-11T14:06:23.155Z"
   },
   {
    "duration": 12,
    "start_time": "2022-12-11T14:06:23.277Z"
   },
   {
    "duration": 13,
    "start_time": "2022-12-11T14:06:23.291Z"
   },
   {
    "duration": 100,
    "start_time": "2022-12-11T14:06:23.313Z"
   },
   {
    "duration": 7,
    "start_time": "2022-12-11T14:06:23.415Z"
   },
   {
    "duration": 16,
    "start_time": "2022-12-11T14:06:23.424Z"
   },
   {
    "duration": 107,
    "start_time": "2022-12-11T14:06:23.442Z"
   },
   {
    "duration": 14,
    "start_time": "2022-12-11T14:06:23.551Z"
   },
   {
    "duration": 23,
    "start_time": "2022-12-11T14:06:23.567Z"
   },
   {
    "duration": 33,
    "start_time": "2022-12-11T14:06:23.593Z"
   },
   {
    "duration": 15,
    "start_time": "2022-12-11T14:06:23.629Z"
   },
   {
    "duration": 245,
    "start_time": "2022-12-11T14:06:23.646Z"
   },
   {
    "duration": 21,
    "start_time": "2022-12-11T14:06:23.893Z"
   },
   {
    "duration": 9,
    "start_time": "2022-12-11T14:06:23.917Z"
   },
   {
    "duration": 9,
    "start_time": "2022-12-11T14:06:23.929Z"
   },
   {
    "duration": 11,
    "start_time": "2022-12-11T14:06:23.941Z"
   },
   {
    "duration": 16,
    "start_time": "2022-12-11T14:06:23.954Z"
   },
   {
    "duration": 11,
    "start_time": "2022-12-11T14:06:23.971Z"
   },
   {
    "duration": 10,
    "start_time": "2022-12-11T14:06:24.013Z"
   },
   {
    "duration": 9,
    "start_time": "2022-12-11T14:06:24.025Z"
   },
   {
    "duration": 13,
    "start_time": "2022-12-11T14:06:24.036Z"
   },
   {
    "duration": 16,
    "start_time": "2022-12-11T14:06:24.051Z"
   },
   {
    "duration": 954,
    "start_time": "2022-12-11T14:06:24.069Z"
   },
   {
    "duration": 27,
    "start_time": "2022-12-11T14:06:25.025Z"
   },
   {
    "duration": 12,
    "start_time": "2022-12-11T14:06:25.053Z"
   },
   {
    "duration": 47,
    "start_time": "2022-12-11T14:06:25.067Z"
   },
   {
    "duration": 11,
    "start_time": "2022-12-11T14:06:25.115Z"
   },
   {
    "duration": 32,
    "start_time": "2022-12-11T14:06:25.128Z"
   },
   {
    "duration": 11,
    "start_time": "2022-12-11T14:06:25.162Z"
   },
   {
    "duration": 40,
    "start_time": "2022-12-11T14:06:25.175Z"
   },
   {
    "duration": 4,
    "start_time": "2022-12-11T14:06:25.217Z"
   },
   {
    "duration": 30,
    "start_time": "2022-12-11T14:06:25.223Z"
   },
   {
    "duration": 17,
    "start_time": "2022-12-11T14:06:25.258Z"
   },
   {
    "duration": 37,
    "start_time": "2022-12-11T14:06:25.277Z"
   },
   {
    "duration": 0,
    "start_time": "2022-12-11T14:06:25.316Z"
   },
   {
    "duration": 0,
    "start_time": "2022-12-11T14:06:25.317Z"
   },
   {
    "duration": 0,
    "start_time": "2022-12-11T14:06:25.319Z"
   },
   {
    "duration": 0,
    "start_time": "2022-12-11T14:06:25.320Z"
   },
   {
    "duration": 0,
    "start_time": "2022-12-11T14:06:25.321Z"
   },
   {
    "duration": 0,
    "start_time": "2022-12-11T14:06:25.322Z"
   },
   {
    "duration": 0,
    "start_time": "2022-12-11T14:06:25.324Z"
   },
   {
    "duration": 0,
    "start_time": "2022-12-11T14:06:25.325Z"
   },
   {
    "duration": 0,
    "start_time": "2022-12-11T14:06:25.326Z"
   },
   {
    "duration": 0,
    "start_time": "2022-12-11T14:06:25.328Z"
   },
   {
    "duration": 0,
    "start_time": "2022-12-11T14:06:25.329Z"
   },
   {
    "duration": 0,
    "start_time": "2022-12-11T14:06:25.330Z"
   },
   {
    "duration": 0,
    "start_time": "2022-12-11T14:06:25.331Z"
   },
   {
    "duration": 0,
    "start_time": "2022-12-11T14:06:25.332Z"
   },
   {
    "duration": 0,
    "start_time": "2022-12-11T14:06:25.334Z"
   },
   {
    "duration": 0,
    "start_time": "2022-12-11T14:06:25.335Z"
   },
   {
    "duration": 0,
    "start_time": "2022-12-11T14:06:25.336Z"
   },
   {
    "duration": 0,
    "start_time": "2022-12-11T14:06:25.337Z"
   },
   {
    "duration": 0,
    "start_time": "2022-12-11T14:06:25.338Z"
   },
   {
    "duration": 0,
    "start_time": "2022-12-11T14:06:25.339Z"
   },
   {
    "duration": 18,
    "start_time": "2022-12-11T14:09:12.964Z"
   },
   {
    "duration": 6,
    "start_time": "2022-12-11T14:09:19.496Z"
   },
   {
    "duration": 10,
    "start_time": "2022-12-11T14:09:23.944Z"
   },
   {
    "duration": 1303,
    "start_time": "2022-12-11T14:09:43.003Z"
   },
   {
    "duration": 275,
    "start_time": "2022-12-11T14:09:44.308Z"
   },
   {
    "duration": 4,
    "start_time": "2022-12-11T14:09:44.585Z"
   },
   {
    "duration": 64,
    "start_time": "2022-12-11T14:09:44.591Z"
   },
   {
    "duration": 184,
    "start_time": "2022-12-11T14:09:44.657Z"
   },
   {
    "duration": 9,
    "start_time": "2022-12-11T14:09:44.843Z"
   },
   {
    "duration": 10,
    "start_time": "2022-12-11T14:09:44.853Z"
   },
   {
    "duration": 53,
    "start_time": "2022-12-11T14:09:44.865Z"
   },
   {
    "duration": 33,
    "start_time": "2022-12-11T14:09:44.920Z"
   },
   {
    "duration": 71,
    "start_time": "2022-12-11T14:09:44.956Z"
   },
   {
    "duration": 5,
    "start_time": "2022-12-11T14:09:45.029Z"
   },
   {
    "duration": 2204,
    "start_time": "2022-12-11T14:09:45.035Z"
   },
   {
    "duration": 29,
    "start_time": "2022-12-11T14:09:47.241Z"
   },
   {
    "duration": 435,
    "start_time": "2022-12-11T14:09:47.272Z"
   },
   {
    "duration": 9,
    "start_time": "2022-12-11T14:09:47.712Z"
   },
   {
    "duration": 29,
    "start_time": "2022-12-11T14:09:47.723Z"
   },
   {
    "duration": 55,
    "start_time": "2022-12-11T14:09:47.754Z"
   },
   {
    "duration": 56,
    "start_time": "2022-12-11T14:09:47.811Z"
   },
   {
    "duration": 70,
    "start_time": "2022-12-11T14:09:47.870Z"
   },
   {
    "duration": 52,
    "start_time": "2022-12-11T14:09:47.942Z"
   },
   {
    "duration": 32,
    "start_time": "2022-12-11T14:09:47.996Z"
   },
   {
    "duration": 55,
    "start_time": "2022-12-11T14:09:48.030Z"
   },
   {
    "duration": 55,
    "start_time": "2022-12-11T14:09:48.087Z"
   },
   {
    "duration": 68,
    "start_time": "2022-12-11T14:09:48.143Z"
   },
   {
    "duration": 23,
    "start_time": "2022-12-11T14:09:48.213Z"
   },
   {
    "duration": 45,
    "start_time": "2022-12-11T14:09:48.237Z"
   },
   {
    "duration": 66,
    "start_time": "2022-12-11T14:09:48.284Z"
   },
   {
    "duration": 62,
    "start_time": "2022-12-11T14:09:48.354Z"
   },
   {
    "duration": 47,
    "start_time": "2022-12-11T14:09:48.418Z"
   },
   {
    "duration": 56,
    "start_time": "2022-12-11T14:09:48.467Z"
   },
   {
    "duration": 10,
    "start_time": "2022-12-11T14:09:48.525Z"
   },
   {
    "duration": 173,
    "start_time": "2022-12-11T14:09:48.537Z"
   },
   {
    "duration": 9,
    "start_time": "2022-12-11T14:09:48.713Z"
   },
   {
    "duration": 59,
    "start_time": "2022-12-11T14:09:48.723Z"
   },
   {
    "duration": 37,
    "start_time": "2022-12-11T14:09:48.784Z"
   },
   {
    "duration": 81,
    "start_time": "2022-12-11T14:09:48.822Z"
   },
   {
    "duration": 63,
    "start_time": "2022-12-11T14:09:48.904Z"
   },
   {
    "duration": 59,
    "start_time": "2022-12-11T14:09:48.970Z"
   },
   {
    "duration": 202,
    "start_time": "2022-12-11T14:09:49.030Z"
   },
   {
    "duration": 30,
    "start_time": "2022-12-11T14:09:49.234Z"
   },
   {
    "duration": 47,
    "start_time": "2022-12-11T14:09:49.266Z"
   },
   {
    "duration": 257,
    "start_time": "2022-12-11T14:09:49.315Z"
   },
   {
    "duration": 17,
    "start_time": "2022-12-11T14:09:49.574Z"
   },
   {
    "duration": 29,
    "start_time": "2022-12-11T14:09:49.593Z"
   },
   {
    "duration": 15,
    "start_time": "2022-12-11T14:09:49.624Z"
   },
   {
    "duration": 178,
    "start_time": "2022-12-11T14:09:49.640Z"
   },
   {
    "duration": 8,
    "start_time": "2022-12-11T14:09:49.820Z"
   },
   {
    "duration": 49,
    "start_time": "2022-12-11T14:09:49.830Z"
   },
   {
    "duration": 13,
    "start_time": "2022-12-11T14:09:49.881Z"
   },
   {
    "duration": 122,
    "start_time": "2022-12-11T14:09:49.896Z"
   },
   {
    "duration": 12,
    "start_time": "2022-12-11T14:09:50.020Z"
   },
   {
    "duration": 34,
    "start_time": "2022-12-11T14:09:50.035Z"
   },
   {
    "duration": 87,
    "start_time": "2022-12-11T14:09:50.070Z"
   },
   {
    "duration": 12,
    "start_time": "2022-12-11T14:09:50.159Z"
   },
   {
    "duration": 44,
    "start_time": "2022-12-11T14:09:50.173Z"
   },
   {
    "duration": 87,
    "start_time": "2022-12-11T14:09:50.219Z"
   },
   {
    "duration": 13,
    "start_time": "2022-12-11T14:09:50.312Z"
   },
   {
    "duration": 49,
    "start_time": "2022-12-11T14:09:50.328Z"
   },
   {
    "duration": 25,
    "start_time": "2022-12-11T14:09:50.379Z"
   },
   {
    "duration": 40,
    "start_time": "2022-12-11T14:09:50.406Z"
   },
   {
    "duration": 280,
    "start_time": "2022-12-11T14:09:50.448Z"
   },
   {
    "duration": 12,
    "start_time": "2022-12-11T14:09:50.729Z"
   },
   {
    "duration": 15,
    "start_time": "2022-12-11T14:09:50.743Z"
   },
   {
    "duration": 19,
    "start_time": "2022-12-11T14:09:50.760Z"
   },
   {
    "duration": 16,
    "start_time": "2022-12-11T14:09:50.781Z"
   },
   {
    "duration": 23,
    "start_time": "2022-12-11T14:09:50.799Z"
   },
   {
    "duration": 18,
    "start_time": "2022-12-11T14:09:50.824Z"
   },
   {
    "duration": 16,
    "start_time": "2022-12-11T14:09:50.844Z"
   },
   {
    "duration": 13,
    "start_time": "2022-12-11T14:09:50.862Z"
   },
   {
    "duration": 17,
    "start_time": "2022-12-11T14:09:50.876Z"
   },
   {
    "duration": 30,
    "start_time": "2022-12-11T14:09:50.894Z"
   },
   {
    "duration": 874,
    "start_time": "2022-12-11T14:09:50.926Z"
   },
   {
    "duration": 30,
    "start_time": "2022-12-11T14:09:51.802Z"
   },
   {
    "duration": 12,
    "start_time": "2022-12-11T14:09:51.834Z"
   },
   {
    "duration": 26,
    "start_time": "2022-12-11T14:09:51.848Z"
   },
   {
    "duration": 40,
    "start_time": "2022-12-11T14:09:51.876Z"
   },
   {
    "duration": 41,
    "start_time": "2022-12-11T14:09:51.918Z"
   },
   {
    "duration": 12,
    "start_time": "2022-12-11T14:09:51.961Z"
   },
   {
    "duration": 29,
    "start_time": "2022-12-11T14:09:51.974Z"
   },
   {
    "duration": 4,
    "start_time": "2022-12-11T14:09:52.014Z"
   },
   {
    "duration": 36,
    "start_time": "2022-12-11T14:09:52.020Z"
   },
   {
    "duration": 21,
    "start_time": "2022-12-11T14:09:52.063Z"
   },
   {
    "duration": 27,
    "start_time": "2022-12-11T14:09:52.086Z"
   },
   {
    "duration": 12,
    "start_time": "2022-12-11T14:09:52.115Z"
   },
   {
    "duration": 19,
    "start_time": "2022-12-11T14:09:52.129Z"
   },
   {
    "duration": 22,
    "start_time": "2022-12-11T14:09:52.150Z"
   },
   {
    "duration": 19,
    "start_time": "2022-12-11T14:09:52.174Z"
   },
   {
    "duration": 248,
    "start_time": "2022-12-11T14:09:52.194Z"
   },
   {
    "duration": 13,
    "start_time": "2022-12-11T14:09:52.444Z"
   },
   {
    "duration": 8,
    "start_time": "2022-12-11T14:09:52.459Z"
   },
   {
    "duration": 65,
    "start_time": "2022-12-11T14:09:52.469Z"
   },
   {
    "duration": 9,
    "start_time": "2022-12-11T14:09:52.535Z"
   },
   {
    "duration": 55,
    "start_time": "2022-12-11T14:09:52.546Z"
   },
   {
    "duration": 130,
    "start_time": "2022-12-11T14:09:52.603Z"
   },
   {
    "duration": 8,
    "start_time": "2022-12-11T14:09:52.735Z"
   },
   {
    "duration": 34,
    "start_time": "2022-12-11T14:09:52.745Z"
   },
   {
    "duration": 22,
    "start_time": "2022-12-11T14:09:52.781Z"
   },
   {
    "duration": 7,
    "start_time": "2022-12-11T14:09:52.805Z"
   },
   {
    "duration": 17,
    "start_time": "2022-12-11T14:09:52.814Z"
   },
   {
    "duration": 8,
    "start_time": "2022-12-11T14:09:52.833Z"
   },
   {
    "duration": 32,
    "start_time": "2022-12-11T14:09:52.843Z"
   },
   {
    "duration": 145,
    "start_time": "2022-12-11T14:09:52.877Z"
   },
   {
    "duration": 19,
    "start_time": "2022-12-11T14:09:53.023Z"
   },
   {
    "duration": 19,
    "start_time": "2022-12-11T14:12:24.288Z"
   },
   {
    "duration": 12,
    "start_time": "2022-12-11T14:12:41.017Z"
   },
   {
    "duration": 15,
    "start_time": "2022-12-11T14:17:27.916Z"
   },
   {
    "duration": 17,
    "start_time": "2022-12-11T14:18:07.011Z"
   },
   {
    "duration": 5,
    "start_time": "2022-12-11T14:19:08.419Z"
   },
   {
    "duration": 6,
    "start_time": "2022-12-11T14:19:16.259Z"
   },
   {
    "duration": 12,
    "start_time": "2022-12-11T14:19:42.450Z"
   },
   {
    "duration": 4,
    "start_time": "2022-12-11T14:51:59.145Z"
   },
   {
    "duration": 5,
    "start_time": "2022-12-11T14:56:20.836Z"
   },
   {
    "duration": 35,
    "start_time": "2022-12-11T14:57:16.270Z"
   },
   {
    "duration": 9,
    "start_time": "2022-12-11T14:58:12.840Z"
   },
   {
    "duration": 11,
    "start_time": "2022-12-11T14:58:21.435Z"
   },
   {
    "duration": 240,
    "start_time": "2022-12-11T14:58:38.640Z"
   },
   {
    "duration": 230,
    "start_time": "2022-12-11T14:58:47.957Z"
   },
   {
    "duration": 266,
    "start_time": "2022-12-11T14:59:07.990Z"
   },
   {
    "duration": 5,
    "start_time": "2022-12-11T15:01:35.660Z"
   },
   {
    "duration": 278,
    "start_time": "2022-12-11T15:01:38.762Z"
   },
   {
    "duration": 6,
    "start_time": "2022-12-11T15:02:00.067Z"
   },
   {
    "duration": 263,
    "start_time": "2022-12-11T15:02:02.084Z"
   },
   {
    "duration": 30,
    "start_time": "2022-12-11T15:07:56.439Z"
   },
   {
    "duration": 32,
    "start_time": "2022-12-11T15:08:15.903Z"
   },
   {
    "duration": 4,
    "start_time": "2022-12-11T15:08:44.591Z"
   },
   {
    "duration": 171,
    "start_time": "2022-12-11T15:08:47.273Z"
   },
   {
    "duration": 5,
    "start_time": "2022-12-11T15:08:54.617Z"
   },
   {
    "duration": 202,
    "start_time": "2022-12-11T15:08:55.212Z"
   },
   {
    "duration": 22,
    "start_time": "2022-12-11T15:09:28.813Z"
   },
   {
    "duration": 38,
    "start_time": "2022-12-11T15:10:38.646Z"
   },
   {
    "duration": 14,
    "start_time": "2022-12-11T15:10:52.446Z"
   },
   {
    "duration": 153,
    "start_time": "2022-12-11T15:11:03.385Z"
   },
   {
    "duration": 177,
    "start_time": "2022-12-11T15:11:13.087Z"
   },
   {
    "duration": 4,
    "start_time": "2022-12-11T15:12:25.991Z"
   },
   {
    "duration": 1145,
    "start_time": "2022-12-11T15:12:28.673Z"
   },
   {
    "duration": 1330,
    "start_time": "2022-12-11T15:12:59.859Z"
   },
   {
    "duration": 4,
    "start_time": "2022-12-11T15:13:22.257Z"
   },
   {
    "duration": 193,
    "start_time": "2022-12-11T15:13:23.771Z"
   },
   {
    "duration": 23,
    "start_time": "2022-12-11T15:13:37.210Z"
   },
   {
    "duration": 181,
    "start_time": "2022-12-11T15:13:51.114Z"
   },
   {
    "duration": 205,
    "start_time": "2022-12-11T15:14:16.831Z"
   },
   {
    "duration": 149,
    "start_time": "2022-12-11T15:14:37.746Z"
   },
   {
    "duration": 36,
    "start_time": "2022-12-11T15:20:09.377Z"
   },
   {
    "duration": 22,
    "start_time": "2022-12-11T15:20:17.111Z"
   },
   {
    "duration": 25,
    "start_time": "2022-12-11T15:20:28.568Z"
   },
   {
    "duration": 22,
    "start_time": "2022-12-11T15:20:44.624Z"
   },
   {
    "duration": 298,
    "start_time": "2022-12-11T15:21:16.104Z"
   },
   {
    "duration": 39,
    "start_time": "2022-12-11T15:22:23.917Z"
   },
   {
    "duration": 29,
    "start_time": "2022-12-11T15:23:47.190Z"
   },
   {
    "duration": 39,
    "start_time": "2022-12-11T15:23:57.917Z"
   },
   {
    "duration": 282,
    "start_time": "2022-12-11T15:25:03.839Z"
   },
   {
    "duration": 147,
    "start_time": "2022-12-11T15:26:35.275Z"
   },
   {
    "duration": 287,
    "start_time": "2022-12-11T15:26:55.020Z"
   },
   {
    "duration": 72,
    "start_time": "2022-12-11T15:27:10.938Z"
   },
   {
    "duration": 76,
    "start_time": "2022-12-11T15:28:42.220Z"
   },
   {
    "duration": 67,
    "start_time": "2022-12-11T15:29:48.075Z"
   },
   {
    "duration": 66,
    "start_time": "2022-12-11T15:31:05.667Z"
   },
   {
    "duration": 69,
    "start_time": "2022-12-11T15:32:01.697Z"
   },
   {
    "duration": 57,
    "start_time": "2022-12-11T15:33:12.276Z"
   },
   {
    "duration": 302,
    "start_time": "2022-12-11T15:34:40.514Z"
   },
   {
    "duration": 48,
    "start_time": "2022-12-11T15:34:42.533Z"
   },
   {
    "duration": 100,
    "start_time": "2022-12-11T15:36:00.090Z"
   },
   {
    "duration": 82,
    "start_time": "2022-12-11T15:36:08.231Z"
   },
   {
    "duration": 542,
    "start_time": "2022-12-11T15:36:46.575Z"
   },
   {
    "duration": 648,
    "start_time": "2022-12-11T15:36:50.973Z"
   },
   {
    "duration": 573,
    "start_time": "2022-12-11T15:37:04.532Z"
   },
   {
    "duration": 44,
    "start_time": "2022-12-11T15:37:15.893Z"
   },
   {
    "duration": 50,
    "start_time": "2022-12-11T15:37:30.135Z"
   },
   {
    "duration": 1213,
    "start_time": "2022-12-11T15:37:53.486Z"
   },
   {
    "duration": 259,
    "start_time": "2022-12-11T15:37:54.702Z"
   },
   {
    "duration": 5,
    "start_time": "2022-12-11T15:37:54.963Z"
   },
   {
    "duration": 53,
    "start_time": "2022-12-11T15:37:54.969Z"
   },
   {
    "duration": 153,
    "start_time": "2022-12-11T15:37:55.024Z"
   },
   {
    "duration": 8,
    "start_time": "2022-12-11T15:37:55.178Z"
   },
   {
    "duration": 26,
    "start_time": "2022-12-11T15:37:55.188Z"
   },
   {
    "duration": 32,
    "start_time": "2022-12-11T15:37:55.216Z"
   },
   {
    "duration": 28,
    "start_time": "2022-12-11T15:37:55.250Z"
   },
   {
    "duration": 66,
    "start_time": "2022-12-11T15:37:55.279Z"
   },
   {
    "duration": 5,
    "start_time": "2022-12-11T15:37:55.347Z"
   },
   {
    "duration": 2176,
    "start_time": "2022-12-11T15:37:55.353Z"
   },
   {
    "duration": 24,
    "start_time": "2022-12-11T15:37:57.531Z"
   },
   {
    "duration": 428,
    "start_time": "2022-12-11T15:37:57.558Z"
   },
   {
    "duration": 7,
    "start_time": "2022-12-11T15:37:57.987Z"
   },
   {
    "duration": 8,
    "start_time": "2022-12-11T15:37:58.012Z"
   },
   {
    "duration": 17,
    "start_time": "2022-12-11T15:37:58.023Z"
   },
   {
    "duration": 35,
    "start_time": "2022-12-11T15:37:58.042Z"
   },
   {
    "duration": 74,
    "start_time": "2022-12-11T15:37:58.079Z"
   },
   {
    "duration": 66,
    "start_time": "2022-12-11T15:37:58.155Z"
   },
   {
    "duration": 19,
    "start_time": "2022-12-11T15:37:58.223Z"
   },
   {
    "duration": 31,
    "start_time": "2022-12-11T15:37:58.243Z"
   },
   {
    "duration": 63,
    "start_time": "2022-12-11T15:37:58.275Z"
   },
   {
    "duration": 51,
    "start_time": "2022-12-11T15:37:58.340Z"
   },
   {
    "duration": 5,
    "start_time": "2022-12-11T15:37:58.412Z"
   },
   {
    "duration": 11,
    "start_time": "2022-12-11T15:37:58.419Z"
   },
   {
    "duration": 40,
    "start_time": "2022-12-11T15:37:58.432Z"
   },
   {
    "duration": 85,
    "start_time": "2022-12-11T15:37:58.473Z"
   },
   {
    "duration": 35,
    "start_time": "2022-12-11T15:37:58.560Z"
   },
   {
    "duration": 31,
    "start_time": "2022-12-11T15:37:58.613Z"
   },
   {
    "duration": 9,
    "start_time": "2022-12-11T15:37:58.645Z"
   },
   {
    "duration": 161,
    "start_time": "2022-12-11T15:37:58.656Z"
   },
   {
    "duration": 8,
    "start_time": "2022-12-11T15:37:58.818Z"
   },
   {
    "duration": 17,
    "start_time": "2022-12-11T15:37:58.828Z"
   },
   {
    "duration": 28,
    "start_time": "2022-12-11T15:37:58.847Z"
   },
   {
    "duration": 80,
    "start_time": "2022-12-11T15:37:58.877Z"
   },
   {
    "duration": 60,
    "start_time": "2022-12-11T15:37:58.959Z"
   },
   {
    "duration": 23,
    "start_time": "2022-12-11T15:37:59.020Z"
   },
   {
    "duration": 155,
    "start_time": "2022-12-11T15:37:59.045Z"
   },
   {
    "duration": 30,
    "start_time": "2022-12-11T15:37:59.202Z"
   },
   {
    "duration": 18,
    "start_time": "2022-12-11T15:37:59.238Z"
   },
   {
    "duration": 260,
    "start_time": "2022-12-11T15:37:59.257Z"
   },
   {
    "duration": 23,
    "start_time": "2022-12-11T15:37:59.519Z"
   },
   {
    "duration": 15,
    "start_time": "2022-12-11T15:37:59.543Z"
   },
   {
    "duration": 5,
    "start_time": "2022-12-11T15:37:59.560Z"
   },
   {
    "duration": 180,
    "start_time": "2022-12-11T15:37:59.566Z"
   },
   {
    "duration": 8,
    "start_time": "2022-12-11T15:37:59.748Z"
   },
   {
    "duration": 13,
    "start_time": "2022-12-11T15:37:59.757Z"
   },
   {
    "duration": 5,
    "start_time": "2022-12-11T15:37:59.773Z"
   },
   {
    "duration": 153,
    "start_time": "2022-12-11T15:37:59.780Z"
   },
   {
    "duration": 12,
    "start_time": "2022-12-11T15:37:59.935Z"
   },
   {
    "duration": 23,
    "start_time": "2022-12-11T15:37:59.949Z"
   },
   {
    "duration": 78,
    "start_time": "2022-12-11T15:37:59.974Z"
   },
   {
    "duration": 6,
    "start_time": "2022-12-11T15:38:00.053Z"
   },
   {
    "duration": 20,
    "start_time": "2022-12-11T15:38:00.061Z"
   },
   {
    "duration": 75,
    "start_time": "2022-12-11T15:38:00.082Z"
   },
   {
    "duration": 10,
    "start_time": "2022-12-11T15:38:00.160Z"
   },
   {
    "duration": 44,
    "start_time": "2022-12-11T15:38:00.172Z"
   },
   {
    "duration": 41,
    "start_time": "2022-12-11T15:38:00.218Z"
   },
   {
    "duration": 49,
    "start_time": "2022-12-11T15:38:00.261Z"
   },
   {
    "duration": 278,
    "start_time": "2022-12-11T15:38:00.312Z"
   },
   {
    "duration": 20,
    "start_time": "2022-12-11T15:38:00.592Z"
   },
   {
    "duration": 20,
    "start_time": "2022-12-11T15:38:00.615Z"
   },
   {
    "duration": 30,
    "start_time": "2022-12-11T15:38:00.636Z"
   },
   {
    "duration": 38,
    "start_time": "2022-12-11T15:38:00.668Z"
   },
   {
    "duration": 34,
    "start_time": "2022-12-11T15:38:00.708Z"
   },
   {
    "duration": 14,
    "start_time": "2022-12-11T15:38:00.744Z"
   },
   {
    "duration": 13,
    "start_time": "2022-12-11T15:38:00.760Z"
   },
   {
    "duration": 25,
    "start_time": "2022-12-11T15:38:00.775Z"
   },
   {
    "duration": 24,
    "start_time": "2022-12-11T15:38:00.802Z"
   },
   {
    "duration": 33,
    "start_time": "2022-12-11T15:38:00.828Z"
   },
   {
    "duration": 847,
    "start_time": "2022-12-11T15:38:00.863Z"
   },
   {
    "duration": 28,
    "start_time": "2022-12-11T15:38:01.713Z"
   },
   {
    "duration": 11,
    "start_time": "2022-12-11T15:38:01.743Z"
   },
   {
    "duration": 27,
    "start_time": "2022-12-11T15:38:01.756Z"
   },
   {
    "duration": 38,
    "start_time": "2022-12-11T15:38:01.784Z"
   },
   {
    "duration": 42,
    "start_time": "2022-12-11T15:38:01.824Z"
   },
   {
    "duration": 10,
    "start_time": "2022-12-11T15:38:01.868Z"
   },
   {
    "duration": 18,
    "start_time": "2022-12-11T15:38:01.880Z"
   },
   {
    "duration": 13,
    "start_time": "2022-12-11T15:38:01.900Z"
   },
   {
    "duration": 35,
    "start_time": "2022-12-11T15:38:01.914Z"
   },
   {
    "duration": 17,
    "start_time": "2022-12-11T15:38:01.950Z"
   },
   {
    "duration": 5,
    "start_time": "2022-12-11T15:38:01.969Z"
   },
   {
    "duration": 19,
    "start_time": "2022-12-11T15:38:01.975Z"
   },
   {
    "duration": 24,
    "start_time": "2022-12-11T15:38:01.995Z"
   },
   {
    "duration": 10,
    "start_time": "2022-12-11T15:38:02.021Z"
   },
   {
    "duration": 21,
    "start_time": "2022-12-11T15:38:02.032Z"
   },
   {
    "duration": 15,
    "start_time": "2022-12-11T15:38:02.054Z"
   },
   {
    "duration": 5,
    "start_time": "2022-12-11T15:38:02.070Z"
   },
   {
    "duration": 39,
    "start_time": "2022-12-11T15:38:02.077Z"
   },
   {
    "duration": 29,
    "start_time": "2022-12-11T15:38:02.118Z"
   },
   {
    "duration": 19,
    "start_time": "2022-12-11T15:38:02.149Z"
   },
   {
    "duration": 193,
    "start_time": "2022-12-11T15:38:02.170Z"
   },
   {
    "duration": 23,
    "start_time": "2022-12-11T15:38:02.365Z"
   },
   {
    "duration": 299,
    "start_time": "2022-12-11T15:38:02.390Z"
   },
   {
    "duration": 48,
    "start_time": "2022-12-11T15:38:02.691Z"
   },
   {
    "duration": 15,
    "start_time": "2022-12-11T15:38:02.740Z"
   },
   {
    "duration": 31,
    "start_time": "2022-12-11T15:38:02.757Z"
   },
   {
    "duration": 245,
    "start_time": "2022-12-11T15:38:02.789Z"
   },
   {
    "duration": 17,
    "start_time": "2022-12-11T15:38:03.036Z"
   },
   {
    "duration": 14,
    "start_time": "2022-12-11T15:38:03.055Z"
   },
   {
    "duration": 60,
    "start_time": "2022-12-11T15:38:03.071Z"
   },
   {
    "duration": 14,
    "start_time": "2022-12-11T15:38:03.133Z"
   },
   {
    "duration": 69,
    "start_time": "2022-12-11T15:38:03.149Z"
   },
   {
    "duration": 123,
    "start_time": "2022-12-11T15:38:03.220Z"
   },
   {
    "duration": 5,
    "start_time": "2022-12-11T15:38:03.345Z"
   },
   {
    "duration": 53,
    "start_time": "2022-12-11T15:38:03.351Z"
   },
   {
    "duration": 26,
    "start_time": "2022-12-11T15:38:03.405Z"
   },
   {
    "duration": 20,
    "start_time": "2022-12-11T15:38:03.432Z"
   },
   {
    "duration": 16,
    "start_time": "2022-12-11T15:38:03.454Z"
   },
   {
    "duration": 18,
    "start_time": "2022-12-11T15:38:03.472Z"
   },
   {
    "duration": 40,
    "start_time": "2022-12-11T15:38:03.492Z"
   },
   {
    "duration": 126,
    "start_time": "2022-12-11T15:38:03.533Z"
   },
   {
    "duration": 20,
    "start_time": "2022-12-11T15:38:03.661Z"
   },
   {
    "duration": 438,
    "start_time": "2022-12-11T15:46:22.936Z"
   },
   {
    "duration": 36,
    "start_time": "2022-12-11T15:46:28.565Z"
   },
   {
    "duration": 53,
    "start_time": "2022-12-11T15:46:55.398Z"
   },
   {
    "duration": 460,
    "start_time": "2022-12-11T15:47:24.134Z"
   },
   {
    "duration": 33,
    "start_time": "2022-12-11T15:47:27.568Z"
   },
   {
    "duration": 453,
    "start_time": "2022-12-11T15:47:46.656Z"
   },
   {
    "duration": 34,
    "start_time": "2022-12-11T15:47:49.922Z"
   },
   {
    "duration": 38,
    "start_time": "2022-12-11T15:48:14.153Z"
   },
   {
    "duration": 35,
    "start_time": "2022-12-11T15:49:26.054Z"
   },
   {
    "duration": 13,
    "start_time": "2022-12-11T15:57:04.967Z"
   },
   {
    "duration": 4,
    "start_time": "2022-12-11T15:57:05.688Z"
   },
   {
    "duration": 171,
    "start_time": "2022-12-11T15:57:06.459Z"
   },
   {
    "duration": 393,
    "start_time": "2022-12-11T15:57:15.710Z"
   },
   {
    "duration": 40,
    "start_time": "2022-12-11T15:57:16.885Z"
   },
   {
    "duration": 1461,
    "start_time": "2022-12-11T16:36:49.323Z"
   },
   {
    "duration": 367,
    "start_time": "2022-12-11T16:36:50.786Z"
   },
   {
    "duration": 5,
    "start_time": "2022-12-11T16:36:51.155Z"
   },
   {
    "duration": 66,
    "start_time": "2022-12-11T16:36:51.163Z"
   },
   {
    "duration": 214,
    "start_time": "2022-12-11T16:36:51.231Z"
   },
   {
    "duration": 8,
    "start_time": "2022-12-11T16:36:51.447Z"
   },
   {
    "duration": 27,
    "start_time": "2022-12-11T16:36:51.457Z"
   },
   {
    "duration": 48,
    "start_time": "2022-12-11T16:36:51.486Z"
   },
   {
    "duration": 32,
    "start_time": "2022-12-11T16:36:51.537Z"
   },
   {
    "duration": 69,
    "start_time": "2022-12-11T16:36:51.573Z"
   },
   {
    "duration": 18,
    "start_time": "2022-12-11T16:36:51.644Z"
   },
   {
    "duration": 2360,
    "start_time": "2022-12-11T16:36:51.664Z"
   },
   {
    "duration": 26,
    "start_time": "2022-12-11T16:36:54.026Z"
   },
   {
    "duration": 459,
    "start_time": "2022-12-11T16:36:54.053Z"
   },
   {
    "duration": 11,
    "start_time": "2022-12-11T16:36:54.515Z"
   },
   {
    "duration": 10,
    "start_time": "2022-12-11T16:36:54.528Z"
   },
   {
    "duration": 20,
    "start_time": "2022-12-11T16:36:54.540Z"
   },
   {
    "duration": 85,
    "start_time": "2022-12-11T16:36:54.563Z"
   },
   {
    "duration": 69,
    "start_time": "2022-12-11T16:36:54.650Z"
   },
   {
    "duration": 64,
    "start_time": "2022-12-11T16:36:54.721Z"
   },
   {
    "duration": 38,
    "start_time": "2022-12-11T16:36:54.786Z"
   },
   {
    "duration": 30,
    "start_time": "2022-12-11T16:36:54.826Z"
   },
   {
    "duration": 65,
    "start_time": "2022-12-11T16:36:54.858Z"
   },
   {
    "duration": 91,
    "start_time": "2022-12-11T16:36:54.925Z"
   },
   {
    "duration": 6,
    "start_time": "2022-12-11T16:36:55.017Z"
   },
   {
    "duration": 12,
    "start_time": "2022-12-11T16:36:55.025Z"
   },
   {
    "duration": 40,
    "start_time": "2022-12-11T16:36:55.040Z"
   },
   {
    "duration": 82,
    "start_time": "2022-12-11T16:36:55.085Z"
   },
   {
    "duration": 54,
    "start_time": "2022-12-11T16:36:55.169Z"
   },
   {
    "duration": 32,
    "start_time": "2022-12-11T16:36:55.225Z"
   },
   {
    "duration": 11,
    "start_time": "2022-12-11T16:36:55.259Z"
   },
   {
    "duration": 174,
    "start_time": "2022-12-11T16:36:55.272Z"
   },
   {
    "duration": 11,
    "start_time": "2022-12-11T16:36:55.448Z"
   },
   {
    "duration": 20,
    "start_time": "2022-12-11T16:36:55.461Z"
   },
   {
    "duration": 55,
    "start_time": "2022-12-11T16:36:55.483Z"
   },
   {
    "duration": 53,
    "start_time": "2022-12-11T16:36:55.540Z"
   },
   {
    "duration": 66,
    "start_time": "2022-12-11T16:36:55.596Z"
   },
   {
    "duration": 50,
    "start_time": "2022-12-11T16:36:55.664Z"
   },
   {
    "duration": 168,
    "start_time": "2022-12-11T16:36:55.715Z"
   },
   {
    "duration": 53,
    "start_time": "2022-12-11T16:36:55.885Z"
   },
   {
    "duration": 28,
    "start_time": "2022-12-11T16:36:55.940Z"
   },
   {
    "duration": 309,
    "start_time": "2022-12-11T16:36:55.970Z"
   },
   {
    "duration": 19,
    "start_time": "2022-12-11T16:36:56.281Z"
   },
   {
    "duration": 21,
    "start_time": "2022-12-11T16:36:56.312Z"
   },
   {
    "duration": 6,
    "start_time": "2022-12-11T16:36:56.336Z"
   },
   {
    "duration": 206,
    "start_time": "2022-12-11T16:36:56.344Z"
   },
   {
    "duration": 8,
    "start_time": "2022-12-11T16:36:56.552Z"
   },
   {
    "duration": 17,
    "start_time": "2022-12-11T16:36:56.563Z"
   },
   {
    "duration": 13,
    "start_time": "2022-12-11T16:36:56.581Z"
   },
   {
    "duration": 137,
    "start_time": "2022-12-11T16:36:56.595Z"
   },
   {
    "duration": 13,
    "start_time": "2022-12-11T16:36:56.734Z"
   },
   {
    "duration": 9,
    "start_time": "2022-12-11T16:36:56.748Z"
   },
   {
    "duration": 112,
    "start_time": "2022-12-11T16:36:56.759Z"
   },
   {
    "duration": 8,
    "start_time": "2022-12-11T16:36:56.873Z"
   },
   {
    "duration": 36,
    "start_time": "2022-12-11T16:36:56.883Z"
   },
   {
    "duration": 81,
    "start_time": "2022-12-11T16:36:56.921Z"
   },
   {
    "duration": 11,
    "start_time": "2022-12-11T16:36:57.013Z"
   },
   {
    "duration": 21,
    "start_time": "2022-12-11T16:36:57.026Z"
   },
   {
    "duration": 16,
    "start_time": "2022-12-11T16:36:57.050Z"
   },
   {
    "duration": 47,
    "start_time": "2022-12-11T16:36:57.068Z"
   },
   {
    "duration": 217,
    "start_time": "2022-12-11T16:36:57.117Z"
   },
   {
    "duration": 11,
    "start_time": "2022-12-11T16:36:57.336Z"
   },
   {
    "duration": 8,
    "start_time": "2022-12-11T16:36:57.349Z"
   },
   {
    "duration": 9,
    "start_time": "2022-12-11T16:36:57.359Z"
   },
   {
    "duration": 14,
    "start_time": "2022-12-11T16:36:57.371Z"
   },
   {
    "duration": 33,
    "start_time": "2022-12-11T16:36:57.387Z"
   },
   {
    "duration": 13,
    "start_time": "2022-12-11T16:36:57.422Z"
   },
   {
    "duration": 11,
    "start_time": "2022-12-11T16:36:57.437Z"
   },
   {
    "duration": 11,
    "start_time": "2022-12-11T16:36:57.450Z"
   },
   {
    "duration": 10,
    "start_time": "2022-12-11T16:36:57.463Z"
   },
   {
    "duration": 45,
    "start_time": "2022-12-11T16:36:57.474Z"
   },
   {
    "duration": 898,
    "start_time": "2022-12-11T16:36:57.521Z"
   },
   {
    "duration": 29,
    "start_time": "2022-12-11T16:36:58.421Z"
   },
   {
    "duration": 13,
    "start_time": "2022-12-11T16:36:58.451Z"
   },
   {
    "duration": 58,
    "start_time": "2022-12-11T16:36:58.466Z"
   },
   {
    "duration": 13,
    "start_time": "2022-12-11T16:36:58.526Z"
   },
   {
    "duration": 72,
    "start_time": "2022-12-11T16:36:58.542Z"
   },
   {
    "duration": 14,
    "start_time": "2022-12-11T16:36:58.617Z"
   },
   {
    "duration": 20,
    "start_time": "2022-12-11T16:36:58.633Z"
   },
   {
    "duration": 5,
    "start_time": "2022-12-11T16:36:58.655Z"
   },
   {
    "duration": 52,
    "start_time": "2022-12-11T16:36:58.662Z"
   },
   {
    "duration": 23,
    "start_time": "2022-12-11T16:36:58.722Z"
   },
   {
    "duration": 6,
    "start_time": "2022-12-11T16:36:58.747Z"
   },
   {
    "duration": 13,
    "start_time": "2022-12-11T16:36:58.755Z"
   },
   {
    "duration": 50,
    "start_time": "2022-12-11T16:36:58.770Z"
   },
   {
    "duration": 10,
    "start_time": "2022-12-11T16:36:58.822Z"
   },
   {
    "duration": 20,
    "start_time": "2022-12-11T16:36:58.834Z"
   },
   {
    "duration": 15,
    "start_time": "2022-12-11T16:36:58.856Z"
   },
   {
    "duration": 6,
    "start_time": "2022-12-11T16:36:58.873Z"
   },
   {
    "duration": 48,
    "start_time": "2022-12-11T16:36:58.880Z"
   },
   {
    "duration": 16,
    "start_time": "2022-12-11T16:36:58.931Z"
   },
   {
    "duration": 5,
    "start_time": "2022-12-11T16:36:58.949Z"
   },
   {
    "duration": 212,
    "start_time": "2022-12-11T16:36:58.957Z"
   },
   {
    "duration": 410,
    "start_time": "2022-12-11T16:36:59.171Z"
   },
   {
    "duration": 40,
    "start_time": "2022-12-11T16:36:59.582Z"
   },
   {
    "duration": 27,
    "start_time": "2022-12-11T16:36:59.624Z"
   },
   {
    "duration": 19,
    "start_time": "2022-12-11T16:36:59.657Z"
   },
   {
    "duration": 272,
    "start_time": "2022-12-11T16:36:59.678Z"
   },
   {
    "duration": 19,
    "start_time": "2022-12-11T16:36:59.952Z"
   },
   {
    "duration": 42,
    "start_time": "2022-12-11T16:36:59.973Z"
   },
   {
    "duration": 29,
    "start_time": "2022-12-11T16:37:00.018Z"
   },
   {
    "duration": 9,
    "start_time": "2022-12-11T16:37:00.050Z"
   },
   {
    "duration": 60,
    "start_time": "2022-12-11T16:37:00.061Z"
   },
   {
    "duration": 149,
    "start_time": "2022-12-11T16:37:00.123Z"
   },
   {
    "duration": 10,
    "start_time": "2022-12-11T16:37:00.274Z"
   },
   {
    "duration": 68,
    "start_time": "2022-12-11T16:37:00.287Z"
   },
   {
    "duration": 65,
    "start_time": "2022-12-11T16:37:00.358Z"
   },
   {
    "duration": 29,
    "start_time": "2022-12-11T16:37:00.425Z"
   },
   {
    "duration": 45,
    "start_time": "2022-12-11T16:37:00.457Z"
   },
   {
    "duration": 53,
    "start_time": "2022-12-11T16:37:00.504Z"
   },
   {
    "duration": 77,
    "start_time": "2022-12-11T16:37:00.560Z"
   },
   {
    "duration": 144,
    "start_time": "2022-12-11T16:37:00.639Z"
   },
   {
    "duration": 31,
    "start_time": "2022-12-11T16:37:00.785Z"
   },
   {
    "duration": 29,
    "start_time": "2022-12-11T16:42:23.666Z"
   },
   {
    "duration": 16,
    "start_time": "2022-12-11T16:45:01.261Z"
   },
   {
    "duration": 34,
    "start_time": "2022-12-11T16:46:13.587Z"
   },
   {
    "duration": 34,
    "start_time": "2022-12-11T16:46:33.528Z"
   },
   {
    "duration": 23,
    "start_time": "2022-12-11T16:47:13.185Z"
   },
   {
    "duration": 12,
    "start_time": "2022-12-11T16:48:32.080Z"
   },
   {
    "duration": 16,
    "start_time": "2022-12-11T16:51:09.271Z"
   },
   {
    "duration": 31,
    "start_time": "2022-12-11T16:51:16.319Z"
   },
   {
    "duration": 20,
    "start_time": "2022-12-11T16:51:23.354Z"
   },
   {
    "duration": 18,
    "start_time": "2022-12-11T16:51:42.999Z"
   },
   {
    "duration": 125,
    "start_time": "2022-12-11T16:52:03.183Z"
   },
   {
    "duration": 34,
    "start_time": "2022-12-11T16:52:33.452Z"
   },
   {
    "duration": 1172,
    "start_time": "2022-12-11T16:53:56.753Z"
   },
   {
    "duration": 26,
    "start_time": "2022-12-11T16:54:10.576Z"
   },
   {
    "duration": 22,
    "start_time": "2022-12-11T16:54:28.973Z"
   },
   {
    "duration": 1144,
    "start_time": "2022-12-11T16:54:40.549Z"
   },
   {
    "duration": 32,
    "start_time": "2022-12-11T16:54:56.774Z"
   },
   {
    "duration": 18,
    "start_time": "2022-12-11T16:55:04.991Z"
   },
   {
    "duration": 23,
    "start_time": "2022-12-11T16:55:32.653Z"
   },
   {
    "duration": 19,
    "start_time": "2022-12-11T16:56:01.633Z"
   },
   {
    "duration": 28,
    "start_time": "2022-12-11T16:56:15.676Z"
   },
   {
    "duration": 19,
    "start_time": "2022-12-11T16:56:20.109Z"
   },
   {
    "duration": 25,
    "start_time": "2022-12-11T16:56:41.476Z"
   },
   {
    "duration": 23,
    "start_time": "2022-12-11T16:57:06.760Z"
   },
   {
    "duration": 141,
    "start_time": "2022-12-11T16:58:06.891Z"
   },
   {
    "duration": 83,
    "start_time": "2022-12-11T16:58:13.179Z"
   },
   {
    "duration": 70,
    "start_time": "2022-12-11T16:58:26.661Z"
   },
   {
    "duration": 336,
    "start_time": "2022-12-11T16:59:48.681Z"
   },
   {
    "duration": 24,
    "start_time": "2022-12-11T17:01:36.276Z"
   },
   {
    "duration": 23,
    "start_time": "2022-12-11T17:03:38.776Z"
   },
   {
    "duration": 17,
    "start_time": "2022-12-11T17:03:57.968Z"
   },
   {
    "duration": 37,
    "start_time": "2022-12-11T17:10:01.141Z"
   },
   {
    "duration": 14,
    "start_time": "2022-12-11T17:10:42.252Z"
   },
   {
    "duration": 17512,
    "start_time": "2022-12-11T17:11:21.110Z"
   },
   {
    "duration": 15952,
    "start_time": "2022-12-11T17:12:04.954Z"
   },
   {
    "duration": 10018,
    "start_time": "2022-12-11T17:13:31.660Z"
   },
   {
    "duration": 10230,
    "start_time": "2022-12-11T17:14:07.537Z"
   },
   {
    "duration": 10271,
    "start_time": "2022-12-11T17:14:30.409Z"
   },
   {
    "duration": 10284,
    "start_time": "2022-12-11T17:14:50.613Z"
   },
   {
    "duration": 9272,
    "start_time": "2022-12-11T17:16:58.455Z"
   },
   {
    "duration": 1281,
    "start_time": "2022-12-11T17:23:50.991Z"
   },
   {
    "duration": 3398,
    "start_time": "2022-12-11T17:24:09.028Z"
   },
   {
    "duration": 3069,
    "start_time": "2022-12-11T17:24:27.045Z"
   },
   {
    "duration": 841,
    "start_time": "2022-12-11T17:28:32.088Z"
   },
   {
    "duration": 90,
    "start_time": "2022-12-11T17:31:14.872Z"
   },
   {
    "duration": 5876,
    "start_time": "2022-12-11T17:31:22.868Z"
   },
   {
    "duration": 5926,
    "start_time": "2022-12-11T17:31:32.687Z"
   },
   {
    "duration": 6172,
    "start_time": "2022-12-11T17:32:16.813Z"
   },
   {
    "duration": 6029,
    "start_time": "2022-12-11T17:32:41.764Z"
   },
   {
    "duration": 5869,
    "start_time": "2022-12-11T17:35:20.049Z"
   },
   {
    "duration": 16,
    "start_time": "2022-12-11T18:21:36.624Z"
   },
   {
    "duration": 12494,
    "start_time": "2022-12-11T18:23:00.788Z"
   },
   {
    "duration": 13317,
    "start_time": "2022-12-11T18:23:15.630Z"
   },
   {
    "duration": 18,
    "start_time": "2022-12-11T18:23:46.887Z"
   },
   {
    "duration": 12249,
    "start_time": "2022-12-11T18:33:14.571Z"
   },
   {
    "duration": 19,
    "start_time": "2022-12-11T18:33:42.769Z"
   },
   {
    "duration": 234,
    "start_time": "2022-12-11T18:35:04.915Z"
   },
   {
    "duration": 14,
    "start_time": "2022-12-11T18:35:35.904Z"
   },
   {
    "duration": 19,
    "start_time": "2022-12-11T18:36:54.431Z"
   },
   {
    "duration": 19,
    "start_time": "2022-12-11T18:37:34.629Z"
   },
   {
    "duration": 21,
    "start_time": "2022-12-11T18:37:39.997Z"
   },
   {
    "duration": 36,
    "start_time": "2022-12-11T18:37:48.461Z"
   },
   {
    "duration": 33,
    "start_time": "2022-12-11T18:37:58.208Z"
   },
   {
    "duration": 29,
    "start_time": "2022-12-11T18:38:32.711Z"
   },
   {
    "duration": 25,
    "start_time": "2022-12-11T18:38:49.902Z"
   },
   {
    "duration": 30,
    "start_time": "2022-12-11T18:39:52.996Z"
   },
   {
    "duration": 20,
    "start_time": "2022-12-11T18:40:04.476Z"
   },
   {
    "duration": 18,
    "start_time": "2022-12-11T18:40:31.422Z"
   },
   {
    "duration": 22,
    "start_time": "2022-12-11T18:40:40.208Z"
   },
   {
    "duration": 11,
    "start_time": "2022-12-11T18:40:50.856Z"
   },
   {
    "duration": 972,
    "start_time": "2022-12-11T18:50:11.700Z"
   },
   {
    "duration": 8,
    "start_time": "2022-12-11T18:54:08.267Z"
   },
   {
    "duration": 971,
    "start_time": "2022-12-11T18:54:56.345Z"
   },
   {
    "duration": 622,
    "start_time": "2022-12-11T18:55:02.469Z"
   },
   {
    "duration": 1308,
    "start_time": "2022-12-12T04:27:36.749Z"
   },
   {
    "duration": 674,
    "start_time": "2022-12-12T04:27:38.059Z"
   },
   {
    "duration": 5,
    "start_time": "2022-12-12T04:27:38.735Z"
   },
   {
    "duration": 47,
    "start_time": "2022-12-12T04:27:38.741Z"
   },
   {
    "duration": 148,
    "start_time": "2022-12-12T04:27:38.790Z"
   },
   {
    "duration": 8,
    "start_time": "2022-12-12T04:27:38.940Z"
   },
   {
    "duration": 8,
    "start_time": "2022-12-12T04:27:38.949Z"
   },
   {
    "duration": 29,
    "start_time": "2022-12-12T04:27:38.959Z"
   },
   {
    "duration": 50,
    "start_time": "2022-12-12T04:27:38.990Z"
   },
   {
    "duration": 53,
    "start_time": "2022-12-12T04:27:39.042Z"
   },
   {
    "duration": 11,
    "start_time": "2022-12-12T04:27:39.097Z"
   },
   {
    "duration": 2116,
    "start_time": "2022-12-12T04:27:39.122Z"
   },
   {
    "duration": 32,
    "start_time": "2022-12-12T04:27:41.240Z"
   },
   {
    "duration": 476,
    "start_time": "2022-12-12T04:27:41.276Z"
   },
   {
    "duration": 7,
    "start_time": "2022-12-12T04:27:41.753Z"
   },
   {
    "duration": 9,
    "start_time": "2022-12-12T04:27:41.761Z"
   },
   {
    "duration": 13,
    "start_time": "2022-12-12T04:27:41.772Z"
   },
   {
    "duration": 57,
    "start_time": "2022-12-12T04:27:41.787Z"
   },
   {
    "duration": 44,
    "start_time": "2022-12-12T04:27:41.846Z"
   },
   {
    "duration": 64,
    "start_time": "2022-12-12T04:27:41.892Z"
   },
   {
    "duration": 19,
    "start_time": "2022-12-12T04:27:41.957Z"
   },
   {
    "duration": 28,
    "start_time": "2022-12-12T04:27:41.977Z"
   },
   {
    "duration": 40,
    "start_time": "2022-12-12T04:27:42.021Z"
   },
   {
    "duration": 59,
    "start_time": "2022-12-12T04:27:42.062Z"
   },
   {
    "duration": 5,
    "start_time": "2022-12-12T04:27:42.122Z"
   },
   {
    "duration": 41,
    "start_time": "2022-12-12T04:27:42.129Z"
   },
   {
    "duration": 37,
    "start_time": "2022-12-12T04:27:42.171Z"
   },
   {
    "duration": 59,
    "start_time": "2022-12-12T04:27:42.209Z"
   },
   {
    "duration": 32,
    "start_time": "2022-12-12T04:27:42.269Z"
   },
   {
    "duration": 39,
    "start_time": "2022-12-12T04:27:42.303Z"
   },
   {
    "duration": 9,
    "start_time": "2022-12-12T04:27:42.343Z"
   },
   {
    "duration": 148,
    "start_time": "2022-12-12T04:27:42.353Z"
   },
   {
    "duration": 18,
    "start_time": "2022-12-12T04:27:42.503Z"
   },
   {
    "duration": 15,
    "start_time": "2022-12-12T04:27:42.523Z"
   },
   {
    "duration": 19,
    "start_time": "2022-12-12T04:27:42.540Z"
   },
   {
    "duration": 72,
    "start_time": "2022-12-12T04:27:42.561Z"
   },
   {
    "duration": 46,
    "start_time": "2022-12-12T04:27:42.635Z"
   },
   {
    "duration": 53,
    "start_time": "2022-12-12T04:27:42.683Z"
   },
   {
    "duration": 143,
    "start_time": "2022-12-12T04:27:42.738Z"
   },
   {
    "duration": 20,
    "start_time": "2022-12-12T04:27:42.883Z"
   },
   {
    "duration": 19,
    "start_time": "2022-12-12T04:27:42.926Z"
   },
   {
    "duration": 238,
    "start_time": "2022-12-12T04:27:42.947Z"
   },
   {
    "duration": 16,
    "start_time": "2022-12-12T04:27:43.187Z"
   },
   {
    "duration": 25,
    "start_time": "2022-12-12T04:27:43.204Z"
   },
   {
    "duration": 6,
    "start_time": "2022-12-12T04:27:43.230Z"
   },
   {
    "duration": 170,
    "start_time": "2022-12-12T04:27:43.238Z"
   },
   {
    "duration": 12,
    "start_time": "2022-12-12T04:27:43.410Z"
   },
   {
    "duration": 11,
    "start_time": "2022-12-12T04:27:43.423Z"
   },
   {
    "duration": 4,
    "start_time": "2022-12-12T04:27:43.435Z"
   },
   {
    "duration": 101,
    "start_time": "2022-12-12T04:27:43.440Z"
   },
   {
    "duration": 11,
    "start_time": "2022-12-12T04:27:43.542Z"
   },
   {
    "duration": 6,
    "start_time": "2022-12-12T04:27:43.554Z"
   },
   {
    "duration": 83,
    "start_time": "2022-12-12T04:27:43.562Z"
   },
   {
    "duration": 6,
    "start_time": "2022-12-12T04:27:43.647Z"
   },
   {
    "duration": 15,
    "start_time": "2022-12-12T04:27:43.655Z"
   },
   {
    "duration": 69,
    "start_time": "2022-12-12T04:27:43.671Z"
   },
   {
    "duration": 11,
    "start_time": "2022-12-12T04:27:43.742Z"
   },
   {
    "duration": 16,
    "start_time": "2022-12-12T04:27:43.755Z"
   },
   {
    "duration": 10,
    "start_time": "2022-12-12T04:27:43.772Z"
   },
   {
    "duration": 18,
    "start_time": "2022-12-12T04:27:43.783Z"
   },
   {
    "duration": 192,
    "start_time": "2022-12-12T04:27:43.821Z"
   },
   {
    "duration": 13,
    "start_time": "2022-12-12T04:27:44.015Z"
   },
   {
    "duration": 11,
    "start_time": "2022-12-12T04:27:44.029Z"
   },
   {
    "duration": 7,
    "start_time": "2022-12-12T04:27:44.041Z"
   },
   {
    "duration": 10,
    "start_time": "2022-12-12T04:27:44.049Z"
   },
   {
    "duration": 12,
    "start_time": "2022-12-12T04:27:44.061Z"
   },
   {
    "duration": 36,
    "start_time": "2022-12-12T04:27:44.075Z"
   },
   {
    "duration": 9,
    "start_time": "2022-12-12T04:27:44.113Z"
   },
   {
    "duration": 21,
    "start_time": "2022-12-12T04:27:44.124Z"
   },
   {
    "duration": 9,
    "start_time": "2022-12-12T04:27:44.147Z"
   },
   {
    "duration": 12,
    "start_time": "2022-12-12T04:27:44.158Z"
   },
   {
    "duration": 797,
    "start_time": "2022-12-12T04:27:44.171Z"
   },
   {
    "duration": 39,
    "start_time": "2022-12-12T04:27:44.970Z"
   },
   {
    "duration": 12,
    "start_time": "2022-12-12T04:27:45.021Z"
   },
   {
    "duration": 39,
    "start_time": "2022-12-12T04:27:45.035Z"
   },
   {
    "duration": 10,
    "start_time": "2022-12-12T04:27:45.076Z"
   },
   {
    "duration": 43,
    "start_time": "2022-12-12T04:27:45.088Z"
   },
   {
    "duration": 9,
    "start_time": "2022-12-12T04:27:45.132Z"
   },
   {
    "duration": 20,
    "start_time": "2022-12-12T04:27:45.143Z"
   },
   {
    "duration": 29,
    "start_time": "2022-12-12T04:27:45.165Z"
   },
   {
    "duration": 32,
    "start_time": "2022-12-12T04:27:45.195Z"
   },
   {
    "duration": 27,
    "start_time": "2022-12-12T04:27:45.229Z"
   },
   {
    "duration": 4,
    "start_time": "2022-12-12T04:27:45.257Z"
   },
   {
    "duration": 21,
    "start_time": "2022-12-12T04:27:45.262Z"
   },
   {
    "duration": 613,
    "start_time": "2022-12-12T04:27:45.285Z"
   },
   {
    "duration": 43,
    "start_time": "2022-12-12T04:27:45.899Z"
   },
   {
    "duration": 0,
    "start_time": "2022-12-12T04:27:45.944Z"
   },
   {
    "duration": 0,
    "start_time": "2022-12-12T04:27:45.945Z"
   },
   {
    "duration": 0,
    "start_time": "2022-12-12T04:27:45.947Z"
   },
   {
    "duration": 0,
    "start_time": "2022-12-12T04:27:45.948Z"
   },
   {
    "duration": 0,
    "start_time": "2022-12-12T04:27:45.949Z"
   },
   {
    "duration": 0,
    "start_time": "2022-12-12T04:27:45.950Z"
   },
   {
    "duration": 0,
    "start_time": "2022-12-12T04:27:45.951Z"
   },
   {
    "duration": 1,
    "start_time": "2022-12-12T04:27:45.952Z"
   },
   {
    "duration": 1,
    "start_time": "2022-12-12T04:27:45.953Z"
   },
   {
    "duration": 0,
    "start_time": "2022-12-12T04:27:45.955Z"
   },
   {
    "duration": 0,
    "start_time": "2022-12-12T04:27:45.956Z"
   },
   {
    "duration": 0,
    "start_time": "2022-12-12T04:27:45.957Z"
   },
   {
    "duration": 0,
    "start_time": "2022-12-12T04:27:45.958Z"
   },
   {
    "duration": 0,
    "start_time": "2022-12-12T04:27:45.959Z"
   },
   {
    "duration": 0,
    "start_time": "2022-12-12T04:27:45.960Z"
   },
   {
    "duration": 0,
    "start_time": "2022-12-12T04:27:45.961Z"
   },
   {
    "duration": 0,
    "start_time": "2022-12-12T04:27:45.962Z"
   },
   {
    "duration": 0,
    "start_time": "2022-12-12T04:27:45.963Z"
   },
   {
    "duration": 0,
    "start_time": "2022-12-12T04:27:45.964Z"
   },
   {
    "duration": 0,
    "start_time": "2022-12-12T04:27:45.966Z"
   },
   {
    "duration": 0,
    "start_time": "2022-12-12T04:27:45.967Z"
   },
   {
    "duration": 0,
    "start_time": "2022-12-12T04:27:45.968Z"
   },
   {
    "duration": 0,
    "start_time": "2022-12-12T04:27:45.969Z"
   },
   {
    "duration": 0,
    "start_time": "2022-12-12T04:27:46.020Z"
   },
   {
    "duration": 0,
    "start_time": "2022-12-12T04:27:46.022Z"
   },
   {
    "duration": 0,
    "start_time": "2022-12-12T04:27:46.024Z"
   },
   {
    "duration": 0,
    "start_time": "2022-12-12T04:27:46.025Z"
   },
   {
    "duration": 0,
    "start_time": "2022-12-12T04:27:46.027Z"
   },
   {
    "duration": 0,
    "start_time": "2022-12-12T04:27:46.029Z"
   },
   {
    "duration": 0,
    "start_time": "2022-12-12T04:27:46.031Z"
   },
   {
    "duration": 0,
    "start_time": "2022-12-12T04:27:46.032Z"
   },
   {
    "duration": 0,
    "start_time": "2022-12-12T04:27:46.034Z"
   },
   {
    "duration": 0,
    "start_time": "2022-12-12T04:27:46.036Z"
   },
   {
    "duration": 0,
    "start_time": "2022-12-12T04:27:46.038Z"
   },
   {
    "duration": 37,
    "start_time": "2022-12-12T04:29:44.993Z"
   },
   {
    "duration": 25,
    "start_time": "2022-12-12T04:30:01.117Z"
   },
   {
    "duration": 18,
    "start_time": "2022-12-12T04:31:32.955Z"
   },
   {
    "duration": 21,
    "start_time": "2022-12-12T04:31:40.495Z"
   },
   {
    "duration": 26,
    "start_time": "2022-12-12T04:31:56.858Z"
   },
   {
    "duration": 37,
    "start_time": "2022-12-12T04:32:12.389Z"
   },
   {
    "duration": 18,
    "start_time": "2022-12-12T04:32:22.705Z"
   },
   {
    "duration": 751,
    "start_time": "2022-12-12T04:39:54.194Z"
   },
   {
    "duration": 23,
    "start_time": "2022-12-12T04:40:17.710Z"
   },
   {
    "duration": 18,
    "start_time": "2022-12-12T04:40:28.929Z"
   },
   {
    "duration": 17,
    "start_time": "2022-12-12T04:41:29.217Z"
   },
   {
    "duration": 21,
    "start_time": "2022-12-12T04:42:03.072Z"
   },
   {
    "duration": 22,
    "start_time": "2022-12-12T04:42:12.872Z"
   },
   {
    "duration": 23,
    "start_time": "2022-12-12T04:43:18.813Z"
   },
   {
    "duration": 15,
    "start_time": "2022-12-12T04:44:51.037Z"
   },
   {
    "duration": 15,
    "start_time": "2022-12-12T04:47:13.105Z"
   },
   {
    "duration": 19,
    "start_time": "2022-12-12T05:00:03.925Z"
   },
   {
    "duration": 3,
    "start_time": "2022-12-12T05:01:30.072Z"
   },
   {
    "duration": 24,
    "start_time": "2022-12-12T05:02:09.676Z"
   },
   {
    "duration": 25,
    "start_time": "2022-12-12T05:06:23.087Z"
   },
   {
    "duration": 24,
    "start_time": "2022-12-12T05:06:52.477Z"
   },
   {
    "duration": 5,
    "start_time": "2022-12-12T05:11:30.069Z"
   },
   {
    "duration": 50,
    "start_time": "2022-12-12T05:11:32.538Z"
   },
   {
    "duration": 70,
    "start_time": "2022-12-12T05:12:24.179Z"
   },
   {
    "duration": 24,
    "start_time": "2022-12-12T05:12:35.593Z"
   },
   {
    "duration": 22,
    "start_time": "2022-12-12T05:15:09.290Z"
   },
   {
    "duration": 5,
    "start_time": "2022-12-12T05:16:25.458Z"
   },
   {
    "duration": 44,
    "start_time": "2022-12-12T05:16:28.608Z"
   },
   {
    "duration": 42,
    "start_time": "2022-12-12T05:19:25.502Z"
   },
   {
    "duration": 1120,
    "start_time": "2022-12-12T05:19:48.823Z"
   },
   {
    "duration": 272,
    "start_time": "2022-12-12T05:19:49.945Z"
   },
   {
    "duration": 3,
    "start_time": "2022-12-12T05:19:50.219Z"
   },
   {
    "duration": 39,
    "start_time": "2022-12-12T05:19:50.224Z"
   },
   {
    "duration": 137,
    "start_time": "2022-12-12T05:19:50.265Z"
   },
   {
    "duration": 18,
    "start_time": "2022-12-12T05:19:50.404Z"
   },
   {
    "duration": 23,
    "start_time": "2022-12-12T05:19:50.423Z"
   },
   {
    "duration": 44,
    "start_time": "2022-12-12T05:19:50.447Z"
   },
   {
    "duration": 27,
    "start_time": "2022-12-12T05:19:50.492Z"
   },
   {
    "duration": 65,
    "start_time": "2022-12-12T05:19:50.521Z"
   },
   {
    "duration": 5,
    "start_time": "2022-12-12T05:19:50.588Z"
   },
   {
    "duration": 2074,
    "start_time": "2022-12-12T05:19:50.595Z"
   },
   {
    "duration": 53,
    "start_time": "2022-12-12T05:19:52.670Z"
   },
   {
    "duration": 375,
    "start_time": "2022-12-12T05:19:52.724Z"
   },
   {
    "duration": 7,
    "start_time": "2022-12-12T05:19:53.101Z"
   },
   {
    "duration": 14,
    "start_time": "2022-12-12T05:19:53.121Z"
   },
   {
    "duration": 22,
    "start_time": "2022-12-12T05:19:53.136Z"
   },
   {
    "duration": 54,
    "start_time": "2022-12-12T05:19:53.160Z"
   },
   {
    "duration": 104,
    "start_time": "2022-12-12T05:19:53.215Z"
   },
   {
    "duration": 45,
    "start_time": "2022-12-12T05:19:53.320Z"
   },
   {
    "duration": 17,
    "start_time": "2022-12-12T05:19:53.367Z"
   },
   {
    "duration": 55,
    "start_time": "2022-12-12T05:19:53.386Z"
   },
   {
    "duration": 43,
    "start_time": "2022-12-12T05:19:53.443Z"
   },
   {
    "duration": 91,
    "start_time": "2022-12-12T05:19:53.488Z"
   },
   {
    "duration": 4,
    "start_time": "2022-12-12T05:19:53.581Z"
   },
   {
    "duration": 25,
    "start_time": "2022-12-12T05:19:53.587Z"
   },
   {
    "duration": 53,
    "start_time": "2022-12-12T05:19:53.613Z"
   },
   {
    "duration": 50,
    "start_time": "2022-12-12T05:19:53.670Z"
   },
   {
    "duration": 35,
    "start_time": "2022-12-12T05:19:53.721Z"
   },
   {
    "duration": 28,
    "start_time": "2022-12-12T05:19:53.758Z"
   },
   {
    "duration": 8,
    "start_time": "2022-12-12T05:19:53.787Z"
   },
   {
    "duration": 166,
    "start_time": "2022-12-12T05:19:53.796Z"
   },
   {
    "duration": 8,
    "start_time": "2022-12-12T05:19:53.964Z"
   },
   {
    "duration": 29,
    "start_time": "2022-12-12T05:19:53.973Z"
   },
   {
    "duration": 25,
    "start_time": "2022-12-12T05:19:54.003Z"
   },
   {
    "duration": 37,
    "start_time": "2022-12-12T05:19:54.029Z"
   },
   {
    "duration": 61,
    "start_time": "2022-12-12T05:19:54.067Z"
   },
   {
    "duration": 23,
    "start_time": "2022-12-12T05:19:54.131Z"
   },
   {
    "duration": 139,
    "start_time": "2022-12-12T05:19:54.156Z"
   },
   {
    "duration": 27,
    "start_time": "2022-12-12T05:19:54.297Z"
   },
   {
    "duration": 19,
    "start_time": "2022-12-12T05:19:54.326Z"
   },
   {
    "duration": 236,
    "start_time": "2022-12-12T05:19:54.347Z"
   },
   {
    "duration": 16,
    "start_time": "2022-12-12T05:19:54.585Z"
   },
   {
    "duration": 21,
    "start_time": "2022-12-12T05:19:54.602Z"
   },
   {
    "duration": 5,
    "start_time": "2022-12-12T05:19:54.625Z"
   },
   {
    "duration": 180,
    "start_time": "2022-12-12T05:19:54.631Z"
   },
   {
    "duration": 9,
    "start_time": "2022-12-12T05:19:54.813Z"
   },
   {
    "duration": 19,
    "start_time": "2022-12-12T05:19:54.823Z"
   },
   {
    "duration": 5,
    "start_time": "2022-12-12T05:19:54.843Z"
   },
   {
    "duration": 90,
    "start_time": "2022-12-12T05:19:54.849Z"
   },
   {
    "duration": 9,
    "start_time": "2022-12-12T05:19:54.941Z"
   },
   {
    "duration": 2,
    "start_time": "2022-12-12T05:19:54.952Z"
   },
   {
    "duration": 77,
    "start_time": "2022-12-12T05:19:54.956Z"
   },
   {
    "duration": 5,
    "start_time": "2022-12-12T05:19:55.034Z"
   },
   {
    "duration": 32,
    "start_time": "2022-12-12T05:19:55.041Z"
   },
   {
    "duration": 63,
    "start_time": "2022-12-12T05:19:55.075Z"
   },
   {
    "duration": 10,
    "start_time": "2022-12-12T05:19:55.139Z"
   },
   {
    "duration": 30,
    "start_time": "2022-12-12T05:19:55.156Z"
   },
   {
    "duration": 24,
    "start_time": "2022-12-12T05:19:55.189Z"
   },
   {
    "duration": 25,
    "start_time": "2022-12-12T05:19:55.215Z"
   },
   {
    "duration": 237,
    "start_time": "2022-12-12T05:19:55.243Z"
   },
   {
    "duration": 10,
    "start_time": "2022-12-12T05:19:55.482Z"
   },
   {
    "duration": 16,
    "start_time": "2022-12-12T05:19:55.494Z"
   },
   {
    "duration": 7,
    "start_time": "2022-12-12T05:19:55.520Z"
   },
   {
    "duration": 32,
    "start_time": "2022-12-12T05:19:55.529Z"
   },
   {
    "duration": 15,
    "start_time": "2022-12-12T05:19:55.563Z"
   },
   {
    "duration": 14,
    "start_time": "2022-12-12T05:19:55.580Z"
   },
   {
    "duration": 12,
    "start_time": "2022-12-12T05:19:55.596Z"
   },
   {
    "duration": 18,
    "start_time": "2022-12-12T05:19:55.610Z"
   },
   {
    "duration": 20,
    "start_time": "2022-12-12T05:19:55.629Z"
   },
   {
    "duration": 20,
    "start_time": "2022-12-12T05:19:55.651Z"
   },
   {
    "duration": 761,
    "start_time": "2022-12-12T05:19:55.673Z"
   },
   {
    "duration": 25,
    "start_time": "2022-12-12T05:19:56.435Z"
   },
   {
    "duration": 11,
    "start_time": "2022-12-12T05:19:56.462Z"
   },
   {
    "duration": 38,
    "start_time": "2022-12-12T05:19:56.474Z"
   },
   {
    "duration": 9,
    "start_time": "2022-12-12T05:19:56.520Z"
   },
   {
    "duration": 48,
    "start_time": "2022-12-12T05:19:56.531Z"
   },
   {
    "duration": 10,
    "start_time": "2022-12-12T05:19:56.581Z"
   },
   {
    "duration": 28,
    "start_time": "2022-12-12T05:19:56.593Z"
   },
   {
    "duration": 38,
    "start_time": "2022-12-12T05:19:56.623Z"
   },
   {
    "duration": 20,
    "start_time": "2022-12-12T05:19:56.663Z"
   },
   {
    "duration": 22,
    "start_time": "2022-12-12T05:19:56.689Z"
   },
   {
    "duration": 6,
    "start_time": "2022-12-12T05:19:56.720Z"
   },
   {
    "duration": 60,
    "start_time": "2022-12-12T05:19:56.727Z"
   },
   {
    "duration": 41,
    "start_time": "2022-12-12T05:19:56.789Z"
   },
   {
    "duration": 6,
    "start_time": "2022-12-12T05:19:56.832Z"
   },
   {
    "duration": 11,
    "start_time": "2022-12-12T05:19:56.840Z"
   },
   {
    "duration": 33,
    "start_time": "2022-12-12T05:19:56.852Z"
   },
   {
    "duration": 0,
    "start_time": "2022-12-12T05:19:56.887Z"
   },
   {
    "duration": 0,
    "start_time": "2022-12-12T05:19:56.889Z"
   },
   {
    "duration": 0,
    "start_time": "2022-12-12T05:19:56.890Z"
   },
   {
    "duration": 0,
    "start_time": "2022-12-12T05:19:56.892Z"
   },
   {
    "duration": 0,
    "start_time": "2022-12-12T05:19:56.893Z"
   },
   {
    "duration": 0,
    "start_time": "2022-12-12T05:19:56.894Z"
   },
   {
    "duration": 0,
    "start_time": "2022-12-12T05:19:56.894Z"
   },
   {
    "duration": 0,
    "start_time": "2022-12-12T05:19:56.895Z"
   },
   {
    "duration": 0,
    "start_time": "2022-12-12T05:19:56.896Z"
   },
   {
    "duration": 0,
    "start_time": "2022-12-12T05:19:56.897Z"
   },
   {
    "duration": 0,
    "start_time": "2022-12-12T05:19:56.898Z"
   },
   {
    "duration": 0,
    "start_time": "2022-12-12T05:19:56.899Z"
   },
   {
    "duration": 0,
    "start_time": "2022-12-12T05:19:56.900Z"
   },
   {
    "duration": 0,
    "start_time": "2022-12-12T05:19:56.901Z"
   },
   {
    "duration": 0,
    "start_time": "2022-12-12T05:19:56.902Z"
   },
   {
    "duration": 0,
    "start_time": "2022-12-12T05:19:56.903Z"
   },
   {
    "duration": 0,
    "start_time": "2022-12-12T05:19:56.904Z"
   },
   {
    "duration": 0,
    "start_time": "2022-12-12T05:19:56.905Z"
   },
   {
    "duration": 0,
    "start_time": "2022-12-12T05:19:56.921Z"
   },
   {
    "duration": 0,
    "start_time": "2022-12-12T05:19:56.922Z"
   },
   {
    "duration": 0,
    "start_time": "2022-12-12T05:19:56.923Z"
   },
   {
    "duration": 0,
    "start_time": "2022-12-12T05:19:56.924Z"
   },
   {
    "duration": 0,
    "start_time": "2022-12-12T05:19:56.925Z"
   },
   {
    "duration": 0,
    "start_time": "2022-12-12T05:19:56.926Z"
   },
   {
    "duration": 0,
    "start_time": "2022-12-12T05:19:56.927Z"
   },
   {
    "duration": 0,
    "start_time": "2022-12-12T05:19:56.928Z"
   },
   {
    "duration": 0,
    "start_time": "2022-12-12T05:19:56.929Z"
   },
   {
    "duration": 0,
    "start_time": "2022-12-12T05:19:56.930Z"
   },
   {
    "duration": 0,
    "start_time": "2022-12-12T05:19:56.931Z"
   },
   {
    "duration": 0,
    "start_time": "2022-12-12T05:19:56.932Z"
   },
   {
    "duration": 0,
    "start_time": "2022-12-12T05:19:56.933Z"
   },
   {
    "duration": 0,
    "start_time": "2022-12-12T05:19:56.934Z"
   },
   {
    "duration": 0,
    "start_time": "2022-12-12T05:19:56.934Z"
   },
   {
    "duration": 13,
    "start_time": "2022-12-12T05:23:18.272Z"
   },
   {
    "duration": 14,
    "start_time": "2022-12-12T05:23:25.990Z"
   },
   {
    "duration": 13,
    "start_time": "2022-12-12T05:23:58.002Z"
   },
   {
    "duration": 13,
    "start_time": "2022-12-12T05:24:07.973Z"
   },
   {
    "duration": 1209,
    "start_time": "2022-12-12T05:25:02.887Z"
   },
   {
    "duration": 299,
    "start_time": "2022-12-12T05:25:04.098Z"
   },
   {
    "duration": 4,
    "start_time": "2022-12-12T05:25:04.399Z"
   },
   {
    "duration": 48,
    "start_time": "2022-12-12T05:25:04.405Z"
   },
   {
    "duration": 180,
    "start_time": "2022-12-12T05:25:04.454Z"
   },
   {
    "duration": 7,
    "start_time": "2022-12-12T05:25:04.636Z"
   },
   {
    "duration": 12,
    "start_time": "2022-12-12T05:25:04.645Z"
   },
   {
    "duration": 35,
    "start_time": "2022-12-12T05:25:04.658Z"
   },
   {
    "duration": 52,
    "start_time": "2022-12-12T05:25:04.695Z"
   },
   {
    "duration": 55,
    "start_time": "2022-12-12T05:25:04.750Z"
   },
   {
    "duration": 17,
    "start_time": "2022-12-12T05:25:04.807Z"
   },
   {
    "duration": 2567,
    "start_time": "2022-12-12T05:25:04.826Z"
   },
   {
    "duration": 46,
    "start_time": "2022-12-12T05:25:07.395Z"
   },
   {
    "duration": 434,
    "start_time": "2022-12-12T05:25:07.443Z"
   },
   {
    "duration": 10,
    "start_time": "2022-12-12T05:25:07.879Z"
   },
   {
    "duration": 30,
    "start_time": "2022-12-12T05:25:07.891Z"
   },
   {
    "duration": 31,
    "start_time": "2022-12-12T05:25:07.923Z"
   },
   {
    "duration": 47,
    "start_time": "2022-12-12T05:25:07.956Z"
   },
   {
    "duration": 43,
    "start_time": "2022-12-12T05:25:08.005Z"
   },
   {
    "duration": 46,
    "start_time": "2022-12-12T05:25:08.050Z"
   },
   {
    "duration": 30,
    "start_time": "2022-12-12T05:25:08.097Z"
   },
   {
    "duration": 30,
    "start_time": "2022-12-12T05:25:08.129Z"
   },
   {
    "duration": 40,
    "start_time": "2022-12-12T05:25:08.161Z"
   },
   {
    "duration": 76,
    "start_time": "2022-12-12T05:25:08.202Z"
   },
   {
    "duration": 4,
    "start_time": "2022-12-12T05:25:08.280Z"
   },
   {
    "duration": 26,
    "start_time": "2022-12-12T05:25:08.285Z"
   },
   {
    "duration": 36,
    "start_time": "2022-12-12T05:25:08.313Z"
   },
   {
    "duration": 53,
    "start_time": "2022-12-12T05:25:08.353Z"
   },
   {
    "duration": 43,
    "start_time": "2022-12-12T05:25:08.407Z"
   },
   {
    "duration": 29,
    "start_time": "2022-12-12T05:25:08.451Z"
   },
   {
    "duration": 12,
    "start_time": "2022-12-12T05:25:08.482Z"
   },
   {
    "duration": 157,
    "start_time": "2022-12-12T05:25:08.496Z"
   },
   {
    "duration": 7,
    "start_time": "2022-12-12T05:25:08.654Z"
   },
   {
    "duration": 28,
    "start_time": "2022-12-12T05:25:08.663Z"
   },
   {
    "duration": 24,
    "start_time": "2022-12-12T05:25:08.692Z"
   },
   {
    "duration": 37,
    "start_time": "2022-12-12T05:25:08.720Z"
   },
   {
    "duration": 55,
    "start_time": "2022-12-12T05:25:08.759Z"
   },
   {
    "duration": 22,
    "start_time": "2022-12-12T05:25:08.816Z"
   },
   {
    "duration": 147,
    "start_time": "2022-12-12T05:25:08.839Z"
   },
   {
    "duration": 21,
    "start_time": "2022-12-12T05:25:08.987Z"
   },
   {
    "duration": 25,
    "start_time": "2022-12-12T05:25:09.010Z"
   },
   {
    "duration": 232,
    "start_time": "2022-12-12T05:25:09.037Z"
   },
   {
    "duration": 16,
    "start_time": "2022-12-12T05:25:09.270Z"
   },
   {
    "duration": 24,
    "start_time": "2022-12-12T05:25:09.288Z"
   },
   {
    "duration": 7,
    "start_time": "2022-12-12T05:25:09.314Z"
   },
   {
    "duration": 166,
    "start_time": "2022-12-12T05:25:09.322Z"
   },
   {
    "duration": 7,
    "start_time": "2022-12-12T05:25:09.490Z"
   },
   {
    "duration": 24,
    "start_time": "2022-12-12T05:25:09.498Z"
   },
   {
    "duration": 20,
    "start_time": "2022-12-12T05:25:09.524Z"
   },
   {
    "duration": 101,
    "start_time": "2022-12-12T05:25:09.545Z"
   },
   {
    "duration": 10,
    "start_time": "2022-12-12T05:25:09.647Z"
   },
   {
    "duration": 16,
    "start_time": "2022-12-12T05:25:09.658Z"
   },
   {
    "duration": 71,
    "start_time": "2022-12-12T05:25:09.676Z"
   },
   {
    "duration": 5,
    "start_time": "2022-12-12T05:25:09.749Z"
   },
   {
    "duration": 16,
    "start_time": "2022-12-12T05:25:09.755Z"
   },
   {
    "duration": 59,
    "start_time": "2022-12-12T05:25:09.773Z"
   },
   {
    "duration": 10,
    "start_time": "2022-12-12T05:25:09.834Z"
   },
   {
    "duration": 15,
    "start_time": "2022-12-12T05:25:09.845Z"
   },
   {
    "duration": 11,
    "start_time": "2022-12-12T05:25:09.861Z"
   },
   {
    "duration": 13,
    "start_time": "2022-12-12T05:25:09.874Z"
   },
   {
    "duration": 184,
    "start_time": "2022-12-12T05:25:09.921Z"
   },
   {
    "duration": 21,
    "start_time": "2022-12-12T05:25:10.107Z"
   },
   {
    "duration": 7,
    "start_time": "2022-12-12T05:25:10.130Z"
   },
   {
    "duration": 8,
    "start_time": "2022-12-12T05:25:10.139Z"
   },
   {
    "duration": 13,
    "start_time": "2022-12-12T05:25:10.149Z"
   },
   {
    "duration": 12,
    "start_time": "2022-12-12T05:25:10.163Z"
   },
   {
    "duration": 11,
    "start_time": "2022-12-12T05:25:10.176Z"
   },
   {
    "duration": 40,
    "start_time": "2022-12-12T05:25:10.188Z"
   },
   {
    "duration": 8,
    "start_time": "2022-12-12T05:25:10.230Z"
   },
   {
    "duration": 11,
    "start_time": "2022-12-12T05:25:10.240Z"
   },
   {
    "duration": 18,
    "start_time": "2022-12-12T05:25:10.252Z"
   },
   {
    "duration": 785,
    "start_time": "2022-12-12T05:25:10.272Z"
   },
   {
    "duration": 25,
    "start_time": "2022-12-12T05:25:11.059Z"
   },
   {
    "duration": 12,
    "start_time": "2022-12-12T05:25:11.085Z"
   },
   {
    "duration": 38,
    "start_time": "2022-12-12T05:25:11.098Z"
   },
   {
    "duration": 9,
    "start_time": "2022-12-12T05:25:11.138Z"
   },
   {
    "duration": 44,
    "start_time": "2022-12-12T05:25:11.148Z"
   },
   {
    "duration": 9,
    "start_time": "2022-12-12T05:25:11.194Z"
   },
   {
    "duration": 23,
    "start_time": "2022-12-12T05:25:11.205Z"
   },
   {
    "duration": 24,
    "start_time": "2022-12-12T05:25:11.229Z"
   },
   {
    "duration": 19,
    "start_time": "2022-12-12T05:25:11.255Z"
   },
   {
    "duration": 44,
    "start_time": "2022-12-12T05:25:11.279Z"
   },
   {
    "duration": 6,
    "start_time": "2022-12-12T05:25:11.325Z"
   },
   {
    "duration": 55,
    "start_time": "2022-12-12T05:25:11.332Z"
   },
   {
    "duration": 53,
    "start_time": "2022-12-12T05:25:11.389Z"
   },
   {
    "duration": 9,
    "start_time": "2022-12-12T05:25:11.444Z"
   },
   {
    "duration": 12,
    "start_time": "2022-12-12T05:25:11.454Z"
   },
   {
    "duration": 0,
    "start_time": "2022-12-12T05:25:11.467Z"
   },
   {
    "duration": 0,
    "start_time": "2022-12-12T05:25:11.468Z"
   },
   {
    "duration": 0,
    "start_time": "2022-12-12T05:25:11.469Z"
   },
   {
    "duration": 0,
    "start_time": "2022-12-12T05:25:11.470Z"
   },
   {
    "duration": 0,
    "start_time": "2022-12-12T05:25:11.471Z"
   },
   {
    "duration": 0,
    "start_time": "2022-12-12T05:25:11.472Z"
   },
   {
    "duration": 0,
    "start_time": "2022-12-12T05:25:11.473Z"
   },
   {
    "duration": 0,
    "start_time": "2022-12-12T05:25:11.474Z"
   },
   {
    "duration": 0,
    "start_time": "2022-12-12T05:25:11.475Z"
   },
   {
    "duration": 0,
    "start_time": "2022-12-12T05:25:11.476Z"
   },
   {
    "duration": 0,
    "start_time": "2022-12-12T05:25:11.478Z"
   },
   {
    "duration": 0,
    "start_time": "2022-12-12T05:25:11.479Z"
   },
   {
    "duration": 0,
    "start_time": "2022-12-12T05:25:11.480Z"
   },
   {
    "duration": 0,
    "start_time": "2022-12-12T05:25:11.482Z"
   },
   {
    "duration": 0,
    "start_time": "2022-12-12T05:25:11.483Z"
   },
   {
    "duration": 0,
    "start_time": "2022-12-12T05:25:11.484Z"
   },
   {
    "duration": 0,
    "start_time": "2022-12-12T05:25:11.521Z"
   },
   {
    "duration": 0,
    "start_time": "2022-12-12T05:25:11.522Z"
   },
   {
    "duration": 0,
    "start_time": "2022-12-12T05:25:11.523Z"
   },
   {
    "duration": 0,
    "start_time": "2022-12-12T05:25:11.525Z"
   },
   {
    "duration": 0,
    "start_time": "2022-12-12T05:25:11.525Z"
   },
   {
    "duration": 0,
    "start_time": "2022-12-12T05:25:11.526Z"
   },
   {
    "duration": 0,
    "start_time": "2022-12-12T05:25:11.528Z"
   },
   {
    "duration": 0,
    "start_time": "2022-12-12T05:25:11.529Z"
   },
   {
    "duration": 0,
    "start_time": "2022-12-12T05:25:11.530Z"
   },
   {
    "duration": 0,
    "start_time": "2022-12-12T05:25:11.531Z"
   },
   {
    "duration": 0,
    "start_time": "2022-12-12T05:25:11.532Z"
   },
   {
    "duration": 6,
    "start_time": "2022-12-12T05:26:07.872Z"
   },
   {
    "duration": 45,
    "start_time": "2022-12-12T05:26:16.417Z"
   },
   {
    "duration": 45,
    "start_time": "2022-12-12T05:26:20.429Z"
   },
   {
    "duration": 10,
    "start_time": "2022-12-12T05:26:43.433Z"
   },
   {
    "duration": 13,
    "start_time": "2022-12-12T05:27:14.723Z"
   },
   {
    "duration": 10,
    "start_time": "2022-12-12T05:27:19.016Z"
   },
   {
    "duration": 44,
    "start_time": "2022-12-12T05:29:59.445Z"
   },
   {
    "duration": 10,
    "start_time": "2022-12-12T05:30:31.238Z"
   },
   {
    "duration": 12,
    "start_time": "2022-12-12T05:31:29.788Z"
   },
   {
    "duration": 4,
    "start_time": "2022-12-12T05:31:32.652Z"
   },
   {
    "duration": 242,
    "start_time": "2022-12-12T05:31:46.826Z"
   },
   {
    "duration": 4,
    "start_time": "2022-12-12T05:32:29.135Z"
   },
   {
    "duration": 699,
    "start_time": "2022-12-12T05:32:31.118Z"
   },
   {
    "duration": 4,
    "start_time": "2022-12-12T05:33:01.759Z"
   },
   {
    "duration": 237,
    "start_time": "2022-12-12T05:33:02.885Z"
   },
   {
    "duration": 174,
    "start_time": "2022-12-12T05:34:57.591Z"
   },
   {
    "duration": 27,
    "start_time": "2022-12-12T05:35:05.071Z"
   },
   {
    "duration": 4,
    "start_time": "2022-12-12T05:37:09.470Z"
   },
   {
    "duration": 36,
    "start_time": "2022-12-12T05:37:09.476Z"
   },
   {
    "duration": 5,
    "start_time": "2022-12-12T05:37:22.593Z"
   },
   {
    "duration": 28,
    "start_time": "2022-12-12T05:37:23.234Z"
   },
   {
    "duration": 4,
    "start_time": "2022-12-12T05:37:48.905Z"
   },
   {
    "duration": 28,
    "start_time": "2022-12-12T05:37:49.544Z"
   },
   {
    "duration": 29,
    "start_time": "2022-12-12T05:38:10.057Z"
   },
   {
    "duration": 26,
    "start_time": "2022-12-12T05:38:26.346Z"
   },
   {
    "duration": 26,
    "start_time": "2022-12-12T05:38:38.411Z"
   },
   {
    "duration": 4,
    "start_time": "2022-12-12T05:38:51.640Z"
   },
   {
    "duration": 29,
    "start_time": "2022-12-12T05:38:52.217Z"
   },
   {
    "duration": 5,
    "start_time": "2022-12-12T05:40:21.577Z"
   },
   {
    "duration": 29,
    "start_time": "2022-12-12T05:40:22.186Z"
   },
   {
    "duration": 181,
    "start_time": "2022-12-12T05:40:34.921Z"
   },
   {
    "duration": 1207,
    "start_time": "2022-12-12T05:43:42.868Z"
   },
   {
    "duration": 312,
    "start_time": "2022-12-12T05:43:44.077Z"
   },
   {
    "duration": 5,
    "start_time": "2022-12-12T05:43:44.391Z"
   },
   {
    "duration": 54,
    "start_time": "2022-12-12T05:43:44.398Z"
   },
   {
    "duration": 152,
    "start_time": "2022-12-12T05:43:44.454Z"
   },
   {
    "duration": 18,
    "start_time": "2022-12-12T05:43:44.608Z"
   },
   {
    "duration": 27,
    "start_time": "2022-12-12T05:43:44.627Z"
   },
   {
    "duration": 31,
    "start_time": "2022-12-12T05:43:44.656Z"
   },
   {
    "duration": 34,
    "start_time": "2022-12-12T05:43:44.688Z"
   },
   {
    "duration": 49,
    "start_time": "2022-12-12T05:43:44.724Z"
   },
   {
    "duration": 38,
    "start_time": "2022-12-12T05:43:44.774Z"
   },
   {
    "duration": 2190,
    "start_time": "2022-12-12T05:43:44.813Z"
   },
   {
    "duration": 35,
    "start_time": "2022-12-12T05:43:47.005Z"
   },
   {
    "duration": 395,
    "start_time": "2022-12-12T05:43:47.041Z"
   },
   {
    "duration": 6,
    "start_time": "2022-12-12T05:43:47.438Z"
   },
   {
    "duration": 5,
    "start_time": "2022-12-12T05:43:47.446Z"
   },
   {
    "duration": 15,
    "start_time": "2022-12-12T05:43:47.453Z"
   },
   {
    "duration": 61,
    "start_time": "2022-12-12T05:43:47.470Z"
   },
   {
    "duration": 44,
    "start_time": "2022-12-12T05:43:47.533Z"
   },
   {
    "duration": 65,
    "start_time": "2022-12-12T05:43:47.579Z"
   },
   {
    "duration": 16,
    "start_time": "2022-12-12T05:43:47.645Z"
   },
   {
    "duration": 27,
    "start_time": "2022-12-12T05:43:47.662Z"
   },
   {
    "duration": 53,
    "start_time": "2022-12-12T05:43:47.690Z"
   },
   {
    "duration": 44,
    "start_time": "2022-12-12T05:43:47.744Z"
   },
   {
    "duration": 4,
    "start_time": "2022-12-12T05:43:47.789Z"
   },
   {
    "duration": 34,
    "start_time": "2022-12-12T05:43:47.794Z"
   },
   {
    "duration": 36,
    "start_time": "2022-12-12T05:43:47.829Z"
   },
   {
    "duration": 66,
    "start_time": "2022-12-12T05:43:47.869Z"
   },
   {
    "duration": 31,
    "start_time": "2022-12-12T05:43:47.936Z"
   },
   {
    "duration": 29,
    "start_time": "2022-12-12T05:43:47.969Z"
   },
   {
    "duration": 27,
    "start_time": "2022-12-12T05:43:48.000Z"
   },
   {
    "duration": 139,
    "start_time": "2022-12-12T05:43:48.029Z"
   },
   {
    "duration": 7,
    "start_time": "2022-12-12T05:43:48.170Z"
   },
   {
    "duration": 13,
    "start_time": "2022-12-12T05:43:48.178Z"
   },
   {
    "duration": 31,
    "start_time": "2022-12-12T05:43:48.193Z"
   },
   {
    "duration": 39,
    "start_time": "2022-12-12T05:43:48.226Z"
   },
   {
    "duration": 61,
    "start_time": "2022-12-12T05:43:48.267Z"
   },
   {
    "duration": 21,
    "start_time": "2022-12-12T05:43:48.330Z"
   },
   {
    "duration": 145,
    "start_time": "2022-12-12T05:43:48.352Z"
   },
   {
    "duration": 26,
    "start_time": "2022-12-12T05:43:48.499Z"
   },
   {
    "duration": 17,
    "start_time": "2022-12-12T05:43:48.527Z"
   },
   {
    "duration": 251,
    "start_time": "2022-12-12T05:43:48.546Z"
   },
   {
    "duration": 23,
    "start_time": "2022-12-12T05:43:48.799Z"
   },
   {
    "duration": 13,
    "start_time": "2022-12-12T05:43:48.823Z"
   },
   {
    "duration": 7,
    "start_time": "2022-12-12T05:43:48.837Z"
   },
   {
    "duration": 177,
    "start_time": "2022-12-12T05:43:48.845Z"
   },
   {
    "duration": 9,
    "start_time": "2022-12-12T05:43:49.024Z"
   },
   {
    "duration": 13,
    "start_time": "2022-12-12T05:43:49.035Z"
   },
   {
    "duration": 5,
    "start_time": "2022-12-12T05:43:49.049Z"
   },
   {
    "duration": 121,
    "start_time": "2022-12-12T05:43:49.056Z"
   },
   {
    "duration": 11,
    "start_time": "2022-12-12T05:43:49.179Z"
   },
   {
    "duration": 30,
    "start_time": "2022-12-12T05:43:49.191Z"
   },
   {
    "duration": 67,
    "start_time": "2022-12-12T05:43:49.223Z"
   },
   {
    "duration": 5,
    "start_time": "2022-12-12T05:43:49.292Z"
   },
   {
    "duration": 24,
    "start_time": "2022-12-12T05:43:49.298Z"
   },
   {
    "duration": 48,
    "start_time": "2022-12-12T05:43:49.324Z"
   },
   {
    "duration": 9,
    "start_time": "2022-12-12T05:43:49.373Z"
   },
   {
    "duration": 14,
    "start_time": "2022-12-12T05:43:49.383Z"
   },
   {
    "duration": 30,
    "start_time": "2022-12-12T05:43:49.398Z"
   },
   {
    "duration": 11,
    "start_time": "2022-12-12T05:43:49.430Z"
   },
   {
    "duration": 193,
    "start_time": "2022-12-12T05:43:49.443Z"
   },
   {
    "duration": 10,
    "start_time": "2022-12-12T05:43:49.637Z"
   },
   {
    "duration": 6,
    "start_time": "2022-12-12T05:43:49.648Z"
   },
   {
    "duration": 11,
    "start_time": "2022-12-12T05:43:49.655Z"
   },
   {
    "duration": 8,
    "start_time": "2022-12-12T05:43:49.668Z"
   },
   {
    "duration": 9,
    "start_time": "2022-12-12T05:43:49.678Z"
   },
   {
    "duration": 33,
    "start_time": "2022-12-12T05:43:49.689Z"
   },
   {
    "duration": 9,
    "start_time": "2022-12-12T05:43:49.723Z"
   },
   {
    "duration": 8,
    "start_time": "2022-12-12T05:43:49.734Z"
   },
   {
    "duration": 10,
    "start_time": "2022-12-12T05:43:49.743Z"
   },
   {
    "duration": 11,
    "start_time": "2022-12-12T05:43:49.755Z"
   },
   {
    "duration": 777,
    "start_time": "2022-12-12T05:43:49.767Z"
   },
   {
    "duration": 25,
    "start_time": "2022-12-12T05:43:50.545Z"
   },
   {
    "duration": 12,
    "start_time": "2022-12-12T05:43:50.572Z"
   },
   {
    "duration": 45,
    "start_time": "2022-12-12T05:43:50.586Z"
   },
   {
    "duration": 10,
    "start_time": "2022-12-12T05:43:50.632Z"
   },
   {
    "duration": 31,
    "start_time": "2022-12-12T05:43:50.644Z"
   },
   {
    "duration": 11,
    "start_time": "2022-12-12T05:43:50.677Z"
   },
   {
    "duration": 37,
    "start_time": "2022-12-12T05:43:50.689Z"
   },
   {
    "duration": 6,
    "start_time": "2022-12-12T05:43:50.728Z"
   },
   {
    "duration": 46,
    "start_time": "2022-12-12T05:43:50.735Z"
   },
   {
    "duration": 57,
    "start_time": "2022-12-12T05:43:50.786Z"
   },
   {
    "duration": 41,
    "start_time": "2022-12-12T05:43:50.845Z"
   },
   {
    "duration": 9,
    "start_time": "2022-12-12T05:43:50.888Z"
   },
   {
    "duration": 31,
    "start_time": "2022-12-12T05:43:50.898Z"
   },
   {
    "duration": 11,
    "start_time": "2022-12-12T05:43:50.930Z"
   },
   {
    "duration": 14,
    "start_time": "2022-12-12T05:43:50.942Z"
   },
   {
    "duration": 4,
    "start_time": "2022-12-12T05:43:50.957Z"
   },
   {
    "duration": 7,
    "start_time": "2022-12-12T05:43:50.962Z"
   },
   {
    "duration": 203,
    "start_time": "2022-12-12T05:43:50.971Z"
   },
   {
    "duration": 346,
    "start_time": "2022-12-12T05:43:51.176Z"
   },
   {
    "duration": 34,
    "start_time": "2022-12-12T05:43:51.524Z"
   },
   {
    "duration": 16,
    "start_time": "2022-12-12T05:43:51.560Z"
   },
   {
    "duration": 14,
    "start_time": "2022-12-12T05:43:51.578Z"
   },
   {
    "duration": 217,
    "start_time": "2022-12-12T05:43:51.594Z"
   },
   {
    "duration": 14,
    "start_time": "2022-12-12T05:43:51.813Z"
   },
   {
    "duration": 6,
    "start_time": "2022-12-12T05:43:51.828Z"
   },
   {
    "duration": 20,
    "start_time": "2022-12-12T05:43:51.835Z"
   },
   {
    "duration": 9,
    "start_time": "2022-12-12T05:43:51.856Z"
   },
   {
    "duration": 83,
    "start_time": "2022-12-12T05:43:51.866Z"
   },
   {
    "duration": 113,
    "start_time": "2022-12-12T05:43:51.951Z"
   },
   {
    "duration": 5,
    "start_time": "2022-12-12T05:43:52.065Z"
   },
   {
    "duration": 21,
    "start_time": "2022-12-12T05:43:52.072Z"
   },
   {
    "duration": 14,
    "start_time": "2022-12-12T05:43:52.094Z"
   },
   {
    "duration": 7,
    "start_time": "2022-12-12T05:43:52.121Z"
   },
   {
    "duration": 12,
    "start_time": "2022-12-12T05:43:52.129Z"
   },
   {
    "duration": 7,
    "start_time": "2022-12-12T05:43:52.142Z"
   },
   {
    "duration": 30,
    "start_time": "2022-12-12T05:43:52.150Z"
   },
   {
    "duration": 130,
    "start_time": "2022-12-12T05:43:52.182Z"
   },
   {
    "duration": 22,
    "start_time": "2022-12-12T05:43:52.313Z"
   },
   {
    "duration": 300,
    "start_time": "2022-12-12T05:48:27.053Z"
   },
   {
    "duration": 1150,
    "start_time": "2022-12-12T05:48:55.507Z"
   },
   {
    "duration": 260,
    "start_time": "2022-12-12T05:48:56.659Z"
   },
   {
    "duration": 4,
    "start_time": "2022-12-12T05:48:56.920Z"
   },
   {
    "duration": 36,
    "start_time": "2022-12-12T05:48:56.926Z"
   },
   {
    "duration": 140,
    "start_time": "2022-12-12T05:48:56.964Z"
   },
   {
    "duration": 18,
    "start_time": "2022-12-12T05:48:57.106Z"
   },
   {
    "duration": 9,
    "start_time": "2022-12-12T05:48:57.125Z"
   },
   {
    "duration": 29,
    "start_time": "2022-12-12T05:48:57.136Z"
   },
   {
    "duration": 28,
    "start_time": "2022-12-12T05:48:57.166Z"
   },
   {
    "duration": 66,
    "start_time": "2022-12-12T05:48:57.196Z"
   },
   {
    "duration": 5,
    "start_time": "2022-12-12T05:48:57.263Z"
   },
   {
    "duration": 2069,
    "start_time": "2022-12-12T05:48:57.269Z"
   },
   {
    "duration": 21,
    "start_time": "2022-12-12T05:48:59.340Z"
   },
   {
    "duration": 409,
    "start_time": "2022-12-12T05:48:59.363Z"
   },
   {
    "duration": 7,
    "start_time": "2022-12-12T05:48:59.774Z"
   },
   {
    "duration": 9,
    "start_time": "2022-12-12T05:48:59.782Z"
   },
   {
    "duration": 37,
    "start_time": "2022-12-12T05:48:59.792Z"
   },
   {
    "duration": 29,
    "start_time": "2022-12-12T05:48:59.831Z"
   },
   {
    "duration": 63,
    "start_time": "2022-12-12T05:48:59.861Z"
   },
   {
    "duration": 46,
    "start_time": "2022-12-12T05:48:59.926Z"
   },
   {
    "duration": 18,
    "start_time": "2022-12-12T05:48:59.974Z"
   },
   {
    "duration": 48,
    "start_time": "2022-12-12T05:48:59.994Z"
   },
   {
    "duration": 38,
    "start_time": "2022-12-12T05:49:00.044Z"
   },
   {
    "duration": 67,
    "start_time": "2022-12-12T05:49:00.084Z"
   },
   {
    "duration": 16,
    "start_time": "2022-12-12T05:49:00.153Z"
   },
   {
    "duration": 36,
    "start_time": "2022-12-12T05:49:00.170Z"
   },
   {
    "duration": 49,
    "start_time": "2022-12-12T05:49:00.207Z"
   },
   {
    "duration": 61,
    "start_time": "2022-12-12T05:49:00.260Z"
   },
   {
    "duration": 33,
    "start_time": "2022-12-12T05:49:00.323Z"
   },
   {
    "duration": 31,
    "start_time": "2022-12-12T05:49:00.357Z"
   },
   {
    "duration": 9,
    "start_time": "2022-12-12T05:49:00.389Z"
   },
   {
    "duration": 144,
    "start_time": "2022-12-12T05:49:00.421Z"
   },
   {
    "duration": 8,
    "start_time": "2022-12-12T05:49:00.567Z"
   },
   {
    "duration": 51,
    "start_time": "2022-12-12T05:49:00.576Z"
   },
   {
    "duration": 32,
    "start_time": "2022-12-12T05:49:00.628Z"
   },
   {
    "duration": 41,
    "start_time": "2022-12-12T05:49:00.662Z"
   },
   {
    "duration": 77,
    "start_time": "2022-12-12T05:49:00.705Z"
   },
   {
    "duration": 31,
    "start_time": "2022-12-12T05:49:00.783Z"
   },
   {
    "duration": 131,
    "start_time": "2022-12-12T05:49:00.816Z"
   },
   {
    "duration": 21,
    "start_time": "2022-12-12T05:49:00.948Z"
   },
   {
    "duration": 24,
    "start_time": "2022-12-12T05:49:00.970Z"
   },
   {
    "duration": 258,
    "start_time": "2022-12-12T05:49:00.995Z"
   },
   {
    "duration": 18,
    "start_time": "2022-12-12T05:49:01.254Z"
   },
   {
    "duration": 44,
    "start_time": "2022-12-12T05:49:01.274Z"
   },
   {
    "duration": 22,
    "start_time": "2022-12-12T05:49:01.320Z"
   },
   {
    "duration": 204,
    "start_time": "2022-12-12T05:49:01.343Z"
   },
   {
    "duration": 9,
    "start_time": "2022-12-12T05:49:01.549Z"
   },
   {
    "duration": 28,
    "start_time": "2022-12-12T05:49:01.559Z"
   },
   {
    "duration": 7,
    "start_time": "2022-12-12T05:49:01.588Z"
   },
   {
    "duration": 139,
    "start_time": "2022-12-12T05:49:01.597Z"
   },
   {
    "duration": 12,
    "start_time": "2022-12-12T05:49:01.738Z"
   },
   {
    "duration": 26,
    "start_time": "2022-12-12T05:49:01.752Z"
   },
   {
    "duration": 92,
    "start_time": "2022-12-12T05:49:01.780Z"
   },
   {
    "duration": 7,
    "start_time": "2022-12-12T05:49:01.873Z"
   },
   {
    "duration": 20,
    "start_time": "2022-12-12T05:49:01.881Z"
   },
   {
    "duration": 55,
    "start_time": "2022-12-12T05:49:01.920Z"
   },
   {
    "duration": 9,
    "start_time": "2022-12-12T05:49:01.977Z"
   },
   {
    "duration": 34,
    "start_time": "2022-12-12T05:49:01.988Z"
   },
   {
    "duration": 14,
    "start_time": "2022-12-12T05:49:02.024Z"
   },
   {
    "duration": 16,
    "start_time": "2022-12-12T05:49:02.039Z"
   },
   {
    "duration": 231,
    "start_time": "2022-12-12T05:49:02.057Z"
   },
   {
    "duration": 11,
    "start_time": "2022-12-12T05:49:02.290Z"
   },
   {
    "duration": 24,
    "start_time": "2022-12-12T05:49:02.303Z"
   },
   {
    "duration": 16,
    "start_time": "2022-12-12T05:49:02.328Z"
   },
   {
    "duration": 29,
    "start_time": "2022-12-12T05:49:02.346Z"
   },
   {
    "duration": 20,
    "start_time": "2022-12-12T05:49:02.377Z"
   },
   {
    "duration": 24,
    "start_time": "2022-12-12T05:49:02.400Z"
   },
   {
    "duration": 19,
    "start_time": "2022-12-12T05:49:02.425Z"
   },
   {
    "duration": 16,
    "start_time": "2022-12-12T05:49:02.446Z"
   },
   {
    "duration": 13,
    "start_time": "2022-12-12T05:49:02.463Z"
   },
   {
    "duration": 18,
    "start_time": "2022-12-12T05:49:02.477Z"
   },
   {
    "duration": 788,
    "start_time": "2022-12-12T05:49:02.497Z"
   },
   {
    "duration": 25,
    "start_time": "2022-12-12T05:49:03.287Z"
   },
   {
    "duration": 18,
    "start_time": "2022-12-12T05:49:03.313Z"
   },
   {
    "duration": 26,
    "start_time": "2022-12-12T05:49:03.332Z"
   },
   {
    "duration": 10,
    "start_time": "2022-12-12T05:49:03.360Z"
   },
   {
    "duration": 63,
    "start_time": "2022-12-12T05:49:03.371Z"
   },
   {
    "duration": 10,
    "start_time": "2022-12-12T05:49:03.436Z"
   },
   {
    "duration": 14,
    "start_time": "2022-12-12T05:49:03.448Z"
   },
   {
    "duration": 6,
    "start_time": "2022-12-12T05:49:03.463Z"
   },
   {
    "duration": 68,
    "start_time": "2022-12-12T05:49:03.471Z"
   },
   {
    "duration": 42,
    "start_time": "2022-12-12T05:49:03.545Z"
   },
   {
    "duration": 59,
    "start_time": "2022-12-12T05:49:03.589Z"
   },
   {
    "duration": 10,
    "start_time": "2022-12-12T05:49:03.650Z"
   },
   {
    "duration": 11,
    "start_time": "2022-12-12T05:49:03.662Z"
   },
   {
    "duration": 11,
    "start_time": "2022-12-12T05:49:03.675Z"
   },
   {
    "duration": 40,
    "start_time": "2022-12-12T05:49:03.687Z"
   },
   {
    "duration": 4,
    "start_time": "2022-12-12T05:49:03.729Z"
   },
   {
    "duration": 201,
    "start_time": "2022-12-12T05:49:03.734Z"
   },
   {
    "duration": 330,
    "start_time": "2022-12-12T05:49:03.937Z"
   },
   {
    "duration": 1,
    "start_time": "2022-12-12T05:49:04.268Z"
   },
   {
    "duration": 1,
    "start_time": "2022-12-12T05:49:04.269Z"
   },
   {
    "duration": 0,
    "start_time": "2022-12-12T05:49:04.271Z"
   },
   {
    "duration": 0,
    "start_time": "2022-12-12T05:49:04.272Z"
   },
   {
    "duration": 0,
    "start_time": "2022-12-12T05:49:04.273Z"
   },
   {
    "duration": 0,
    "start_time": "2022-12-12T05:49:04.273Z"
   },
   {
    "duration": 0,
    "start_time": "2022-12-12T05:49:04.274Z"
   },
   {
    "duration": 0,
    "start_time": "2022-12-12T05:49:04.275Z"
   },
   {
    "duration": 0,
    "start_time": "2022-12-12T05:49:04.276Z"
   },
   {
    "duration": 0,
    "start_time": "2022-12-12T05:49:04.277Z"
   },
   {
    "duration": 0,
    "start_time": "2022-12-12T05:49:04.278Z"
   },
   {
    "duration": 0,
    "start_time": "2022-12-12T05:49:04.279Z"
   },
   {
    "duration": 0,
    "start_time": "2022-12-12T05:49:04.280Z"
   },
   {
    "duration": 0,
    "start_time": "2022-12-12T05:49:04.280Z"
   },
   {
    "duration": 0,
    "start_time": "2022-12-12T05:49:04.281Z"
   },
   {
    "duration": 0,
    "start_time": "2022-12-12T05:49:04.282Z"
   },
   {
    "duration": 0,
    "start_time": "2022-12-12T05:49:04.283Z"
   },
   {
    "duration": 0,
    "start_time": "2022-12-12T05:49:04.284Z"
   },
   {
    "duration": 0,
    "start_time": "2022-12-12T05:49:04.285Z"
   },
   {
    "duration": 24,
    "start_time": "2022-12-12T05:50:58.890Z"
   },
   {
    "duration": 21,
    "start_time": "2022-12-12T05:51:10.592Z"
   },
   {
    "duration": 22,
    "start_time": "2022-12-12T05:51:23.062Z"
   },
   {
    "duration": 70,
    "start_time": "2022-12-12T05:52:37.090Z"
   },
   {
    "duration": 310,
    "start_time": "2022-12-12T05:52:48.873Z"
   },
   {
    "duration": 14,
    "start_time": "2022-12-12T05:53:59.318Z"
   },
   {
    "duration": 402,
    "start_time": "2022-12-12T05:54:01.841Z"
   },
   {
    "duration": 36,
    "start_time": "2022-12-12T05:54:05.341Z"
   },
   {
    "duration": 1086,
    "start_time": "2022-12-12T05:57:36.783Z"
   },
   {
    "duration": 230,
    "start_time": "2022-12-12T05:57:37.871Z"
   },
   {
    "duration": 4,
    "start_time": "2022-12-12T05:57:38.103Z"
   },
   {
    "duration": 44,
    "start_time": "2022-12-12T05:57:38.109Z"
   },
   {
    "duration": 139,
    "start_time": "2022-12-12T05:57:38.155Z"
   },
   {
    "duration": 7,
    "start_time": "2022-12-12T05:57:38.296Z"
   },
   {
    "duration": 7,
    "start_time": "2022-12-12T05:57:38.320Z"
   },
   {
    "duration": 29,
    "start_time": "2022-12-12T05:57:38.329Z"
   },
   {
    "duration": 32,
    "start_time": "2022-12-12T05:57:38.360Z"
   },
   {
    "duration": 66,
    "start_time": "2022-12-12T05:57:38.395Z"
   },
   {
    "duration": 6,
    "start_time": "2022-12-12T05:57:38.462Z"
   },
   {
    "duration": 2074,
    "start_time": "2022-12-12T05:57:38.470Z"
   },
   {
    "duration": 22,
    "start_time": "2022-12-12T05:57:40.546Z"
   },
   {
    "duration": 409,
    "start_time": "2022-12-12T05:57:40.569Z"
   },
   {
    "duration": 7,
    "start_time": "2022-12-12T05:57:40.979Z"
   },
   {
    "duration": 9,
    "start_time": "2022-12-12T05:57:40.987Z"
   },
   {
    "duration": 31,
    "start_time": "2022-12-12T05:57:40.998Z"
   },
   {
    "duration": 27,
    "start_time": "2022-12-12T05:57:41.031Z"
   },
   {
    "duration": 61,
    "start_time": "2022-12-12T05:57:41.060Z"
   },
   {
    "duration": 46,
    "start_time": "2022-12-12T05:57:41.122Z"
   },
   {
    "duration": 17,
    "start_time": "2022-12-12T05:57:41.170Z"
   },
   {
    "duration": 49,
    "start_time": "2022-12-12T05:57:41.189Z"
   },
   {
    "duration": 40,
    "start_time": "2022-12-12T05:57:41.239Z"
   },
   {
    "duration": 59,
    "start_time": "2022-12-12T05:57:41.280Z"
   },
   {
    "duration": 5,
    "start_time": "2022-12-12T05:57:41.340Z"
   },
   {
    "duration": 12,
    "start_time": "2022-12-12T05:57:41.346Z"
   },
   {
    "duration": 36,
    "start_time": "2022-12-12T05:57:41.359Z"
   },
   {
    "duration": 53,
    "start_time": "2022-12-12T05:57:41.421Z"
   },
   {
    "duration": 51,
    "start_time": "2022-12-12T05:57:41.475Z"
   },
   {
    "duration": 32,
    "start_time": "2022-12-12T05:57:41.527Z"
   },
   {
    "duration": 8,
    "start_time": "2022-12-12T05:57:41.561Z"
   },
   {
    "duration": 150,
    "start_time": "2022-12-12T05:57:41.570Z"
   },
   {
    "duration": 7,
    "start_time": "2022-12-12T05:57:41.721Z"
   },
   {
    "duration": 15,
    "start_time": "2022-12-12T05:57:41.729Z"
   },
   {
    "duration": 18,
    "start_time": "2022-12-12T05:57:41.745Z"
   },
   {
    "duration": 61,
    "start_time": "2022-12-12T05:57:41.765Z"
   },
   {
    "duration": 43,
    "start_time": "2022-12-12T05:57:41.828Z"
   },
   {
    "duration": 21,
    "start_time": "2022-12-12T05:57:41.873Z"
   },
   {
    "duration": 150,
    "start_time": "2022-12-12T05:57:41.895Z"
   },
   {
    "duration": 22,
    "start_time": "2022-12-12T05:57:42.046Z"
   },
   {
    "duration": 16,
    "start_time": "2022-12-12T05:57:42.069Z"
   },
   {
    "duration": 231,
    "start_time": "2022-12-12T05:57:42.086Z"
   },
   {
    "duration": 16,
    "start_time": "2022-12-12T05:57:42.319Z"
   },
   {
    "duration": 12,
    "start_time": "2022-12-12T05:57:42.337Z"
   },
   {
    "duration": 4,
    "start_time": "2022-12-12T05:57:42.350Z"
   },
   {
    "duration": 177,
    "start_time": "2022-12-12T05:57:42.356Z"
   },
   {
    "duration": 8,
    "start_time": "2022-12-12T05:57:42.534Z"
   },
   {
    "duration": 12,
    "start_time": "2022-12-12T05:57:42.543Z"
   },
   {
    "duration": 12,
    "start_time": "2022-12-12T05:57:42.556Z"
   },
   {
    "duration": 105,
    "start_time": "2022-12-12T05:57:42.569Z"
   },
   {
    "duration": 11,
    "start_time": "2022-12-12T05:57:42.676Z"
   },
   {
    "duration": 8,
    "start_time": "2022-12-12T05:57:42.689Z"
   },
   {
    "duration": 85,
    "start_time": "2022-12-12T05:57:42.699Z"
   },
   {
    "duration": 15,
    "start_time": "2022-12-12T05:57:42.786Z"
   },
   {
    "duration": 34,
    "start_time": "2022-12-12T05:57:42.802Z"
   },
   {
    "duration": 60,
    "start_time": "2022-12-12T05:57:42.837Z"
   },
   {
    "duration": 23,
    "start_time": "2022-12-12T05:57:42.899Z"
   },
   {
    "duration": 16,
    "start_time": "2022-12-12T05:57:42.924Z"
   },
   {
    "duration": 10,
    "start_time": "2022-12-12T05:57:42.942Z"
   },
   {
    "duration": 11,
    "start_time": "2022-12-12T05:57:42.954Z"
   },
   {
    "duration": 202,
    "start_time": "2022-12-12T05:57:42.967Z"
   },
   {
    "duration": 11,
    "start_time": "2022-12-12T05:57:43.171Z"
   },
   {
    "duration": 8,
    "start_time": "2022-12-12T05:57:43.183Z"
   },
   {
    "duration": 29,
    "start_time": "2022-12-12T05:57:43.193Z"
   },
   {
    "duration": 11,
    "start_time": "2022-12-12T05:57:43.223Z"
   },
   {
    "duration": 11,
    "start_time": "2022-12-12T05:57:43.235Z"
   },
   {
    "duration": 11,
    "start_time": "2022-12-12T05:57:43.247Z"
   },
   {
    "duration": 9,
    "start_time": "2022-12-12T05:57:43.260Z"
   },
   {
    "duration": 8,
    "start_time": "2022-12-12T05:57:43.270Z"
   },
   {
    "duration": 9,
    "start_time": "2022-12-12T05:57:43.279Z"
   },
   {
    "duration": 35,
    "start_time": "2022-12-12T05:57:43.290Z"
   },
   {
    "duration": 816,
    "start_time": "2022-12-12T05:57:43.327Z"
   },
   {
    "duration": 25,
    "start_time": "2022-12-12T05:57:44.144Z"
   },
   {
    "duration": 10,
    "start_time": "2022-12-12T05:57:44.172Z"
   },
   {
    "duration": 47,
    "start_time": "2022-12-12T05:57:44.184Z"
   },
   {
    "duration": 10,
    "start_time": "2022-12-12T05:57:44.233Z"
   },
   {
    "duration": 37,
    "start_time": "2022-12-12T05:57:44.244Z"
   },
   {
    "duration": 14,
    "start_time": "2022-12-12T05:57:44.283Z"
   },
   {
    "duration": 41,
    "start_time": "2022-12-12T05:57:44.299Z"
   },
   {
    "duration": 7,
    "start_time": "2022-12-12T05:57:44.342Z"
   },
   {
    "duration": 47,
    "start_time": "2022-12-12T05:57:44.351Z"
   },
   {
    "duration": 70,
    "start_time": "2022-12-12T05:57:44.404Z"
   },
   {
    "duration": 63,
    "start_time": "2022-12-12T05:57:44.476Z"
   },
   {
    "duration": 16,
    "start_time": "2022-12-12T05:57:44.541Z"
   },
   {
    "duration": 43,
    "start_time": "2022-12-12T05:57:44.559Z"
   },
   {
    "duration": 14,
    "start_time": "2022-12-12T05:57:44.604Z"
   },
   {
    "duration": 32,
    "start_time": "2022-12-12T05:57:44.621Z"
   },
   {
    "duration": 11,
    "start_time": "2022-12-12T05:57:44.655Z"
   },
   {
    "duration": 221,
    "start_time": "2022-12-12T05:57:44.668Z"
   },
   {
    "duration": 14,
    "start_time": "2022-12-12T05:57:44.891Z"
   },
   {
    "duration": 431,
    "start_time": "2022-12-12T05:57:44.907Z"
   },
   {
    "duration": 39,
    "start_time": "2022-12-12T05:57:45.340Z"
   },
   {
    "duration": 34,
    "start_time": "2022-12-12T05:57:45.381Z"
   },
   {
    "duration": 31,
    "start_time": "2022-12-12T05:57:45.417Z"
   },
   {
    "duration": 201,
    "start_time": "2022-12-12T05:57:45.450Z"
   },
   {
    "duration": 14,
    "start_time": "2022-12-12T05:57:45.653Z"
   },
   {
    "duration": 12,
    "start_time": "2022-12-12T05:57:45.669Z"
   },
   {
    "duration": 45,
    "start_time": "2022-12-12T05:57:45.683Z"
   },
   {
    "duration": 13,
    "start_time": "2022-12-12T05:57:45.730Z"
   },
   {
    "duration": 47,
    "start_time": "2022-12-12T05:57:45.745Z"
   },
   {
    "duration": 142,
    "start_time": "2022-12-12T05:57:45.794Z"
   },
   {
    "duration": 7,
    "start_time": "2022-12-12T05:57:45.937Z"
   },
   {
    "duration": 24,
    "start_time": "2022-12-12T05:57:45.945Z"
   },
   {
    "duration": 11,
    "start_time": "2022-12-12T05:57:45.970Z"
   },
   {
    "duration": 40,
    "start_time": "2022-12-12T05:57:45.983Z"
   },
   {
    "duration": 13,
    "start_time": "2022-12-12T05:57:46.024Z"
   },
   {
    "duration": 18,
    "start_time": "2022-12-12T05:57:46.038Z"
   },
   {
    "duration": 35,
    "start_time": "2022-12-12T05:57:46.058Z"
   },
   {
    "duration": 161,
    "start_time": "2022-12-12T05:57:46.094Z"
   },
   {
    "duration": 15,
    "start_time": "2022-12-12T05:57:46.257Z"
   },
   {
    "duration": 64,
    "start_time": "2022-12-12T06:15:41.209Z"
   },
   {
    "duration": 28,
    "start_time": "2022-12-12T06:16:26.850Z"
   },
   {
    "duration": 11,
    "start_time": "2022-12-12T06:16:44.746Z"
   },
   {
    "duration": 11,
    "start_time": "2022-12-12T06:16:51.393Z"
   },
   {
    "duration": 72,
    "start_time": "2022-12-12T06:17:02.594Z"
   },
   {
    "duration": 5,
    "start_time": "2022-12-12T06:18:06.612Z"
   },
   {
    "duration": 62,
    "start_time": "2022-12-12T06:18:13.769Z"
   },
   {
    "duration": 41,
    "start_time": "2022-12-12T06:19:35.672Z"
   },
   {
    "duration": 49,
    "start_time": "2022-12-12T06:20:08.062Z"
   },
   {
    "duration": 47,
    "start_time": "2022-12-12T06:20:36.575Z"
   },
   {
    "duration": 1093,
    "start_time": "2022-12-12T06:26:35.461Z"
   },
   {
    "duration": 214,
    "start_time": "2022-12-12T06:26:36.557Z"
   },
   {
    "duration": 4,
    "start_time": "2022-12-12T06:26:36.772Z"
   },
   {
    "duration": 46,
    "start_time": "2022-12-12T06:26:36.778Z"
   },
   {
    "duration": 127,
    "start_time": "2022-12-12T06:26:36.825Z"
   },
   {
    "duration": 7,
    "start_time": "2022-12-12T06:26:36.954Z"
   },
   {
    "duration": 9,
    "start_time": "2022-12-12T06:26:36.963Z"
   },
   {
    "duration": 48,
    "start_time": "2022-12-12T06:26:36.974Z"
   },
   {
    "duration": 27,
    "start_time": "2022-12-12T06:26:37.024Z"
   },
   {
    "duration": 47,
    "start_time": "2022-12-12T06:26:37.054Z"
   },
   {
    "duration": 5,
    "start_time": "2022-12-12T06:26:37.121Z"
   },
   {
    "duration": 2058,
    "start_time": "2022-12-12T06:26:37.127Z"
   },
   {
    "duration": 37,
    "start_time": "2022-12-12T06:26:39.186Z"
   },
   {
    "duration": 391,
    "start_time": "2022-12-12T06:26:39.225Z"
   },
   {
    "duration": 6,
    "start_time": "2022-12-12T06:26:39.618Z"
   },
   {
    "duration": 13,
    "start_time": "2022-12-12T06:26:39.625Z"
   },
   {
    "duration": 15,
    "start_time": "2022-12-12T06:26:39.639Z"
   },
   {
    "duration": 29,
    "start_time": "2022-12-12T06:26:39.655Z"
   },
   {
    "duration": 74,
    "start_time": "2022-12-12T06:26:39.686Z"
   },
   {
    "duration": 62,
    "start_time": "2022-12-12T06:26:39.762Z"
   },
   {
    "duration": 17,
    "start_time": "2022-12-12T06:26:39.825Z"
   },
   {
    "duration": 27,
    "start_time": "2022-12-12T06:26:39.843Z"
   },
   {
    "duration": 52,
    "start_time": "2022-12-12T06:26:39.872Z"
   },
   {
    "duration": 45,
    "start_time": "2022-12-12T06:26:39.925Z"
   },
   {
    "duration": 3,
    "start_time": "2022-12-12T06:26:39.972Z"
   },
   {
    "duration": 10,
    "start_time": "2022-12-12T06:26:39.977Z"
   },
   {
    "duration": 62,
    "start_time": "2022-12-12T06:26:39.989Z"
   },
   {
    "duration": 66,
    "start_time": "2022-12-12T06:26:40.055Z"
   },
   {
    "duration": 32,
    "start_time": "2022-12-12T06:26:40.122Z"
   },
   {
    "duration": 28,
    "start_time": "2022-12-12T06:26:40.156Z"
   },
   {
    "duration": 8,
    "start_time": "2022-12-12T06:26:40.186Z"
   },
   {
    "duration": 134,
    "start_time": "2022-12-12T06:26:40.221Z"
   },
   {
    "duration": 9,
    "start_time": "2022-12-12T06:26:40.357Z"
   },
   {
    "duration": 14,
    "start_time": "2022-12-12T06:26:40.367Z"
   },
   {
    "duration": 45,
    "start_time": "2022-12-12T06:26:40.383Z"
   },
   {
    "duration": 39,
    "start_time": "2022-12-12T06:26:40.430Z"
   },
   {
    "duration": 59,
    "start_time": "2022-12-12T06:26:40.471Z"
   },
   {
    "duration": 22,
    "start_time": "2022-12-12T06:26:40.532Z"
   },
   {
    "duration": 153,
    "start_time": "2022-12-12T06:26:40.555Z"
   },
   {
    "duration": 27,
    "start_time": "2022-12-12T06:26:40.710Z"
   },
   {
    "duration": 17,
    "start_time": "2022-12-12T06:26:40.739Z"
   },
   {
    "duration": 257,
    "start_time": "2022-12-12T06:26:40.758Z"
   },
   {
    "duration": 24,
    "start_time": "2022-12-12T06:26:41.021Z"
   },
   {
    "duration": 14,
    "start_time": "2022-12-12T06:26:41.046Z"
   },
   {
    "duration": 4,
    "start_time": "2022-12-12T06:26:41.061Z"
   },
   {
    "duration": 195,
    "start_time": "2022-12-12T06:26:41.067Z"
   },
   {
    "duration": 6,
    "start_time": "2022-12-12T06:26:41.264Z"
   },
   {
    "duration": 15,
    "start_time": "2022-12-12T06:26:41.272Z"
   },
   {
    "duration": 4,
    "start_time": "2022-12-12T06:26:41.289Z"
   },
   {
    "duration": 106,
    "start_time": "2022-12-12T06:26:41.294Z"
   },
   {
    "duration": 22,
    "start_time": "2022-12-12T06:26:41.401Z"
   },
   {
    "duration": 4,
    "start_time": "2022-12-12T06:26:41.425Z"
   },
   {
    "duration": 75,
    "start_time": "2022-12-12T06:26:41.431Z"
   },
   {
    "duration": 20,
    "start_time": "2022-12-12T06:26:41.521Z"
   },
   {
    "duration": 22,
    "start_time": "2022-12-12T06:26:41.544Z"
   },
   {
    "duration": 56,
    "start_time": "2022-12-12T06:26:41.567Z"
   },
   {
    "duration": 13,
    "start_time": "2022-12-12T06:26:41.628Z"
   },
   {
    "duration": 16,
    "start_time": "2022-12-12T06:26:41.643Z"
   },
   {
    "duration": 10,
    "start_time": "2022-12-12T06:26:41.661Z"
   },
   {
    "duration": 13,
    "start_time": "2022-12-12T06:26:41.672Z"
   },
   {
    "duration": 224,
    "start_time": "2022-12-12T06:26:41.687Z"
   },
   {
    "duration": 20,
    "start_time": "2022-12-12T06:26:41.912Z"
   },
   {
    "duration": 13,
    "start_time": "2022-12-12T06:26:41.934Z"
   },
   {
    "duration": 11,
    "start_time": "2022-12-12T06:26:41.948Z"
   },
   {
    "duration": 13,
    "start_time": "2022-12-12T06:26:41.961Z"
   },
   {
    "duration": 11,
    "start_time": "2022-12-12T06:26:41.976Z"
   },
   {
    "duration": 10,
    "start_time": "2022-12-12T06:26:41.988Z"
   },
   {
    "duration": 23,
    "start_time": "2022-12-12T06:26:41.999Z"
   },
   {
    "duration": 12,
    "start_time": "2022-12-12T06:26:42.024Z"
   },
   {
    "duration": 13,
    "start_time": "2022-12-12T06:26:42.038Z"
   },
   {
    "duration": 11,
    "start_time": "2022-12-12T06:26:42.052Z"
   },
   {
    "duration": 833,
    "start_time": "2022-12-12T06:26:42.064Z"
   },
   {
    "duration": 37,
    "start_time": "2022-12-12T06:26:42.899Z"
   },
   {
    "duration": 11,
    "start_time": "2022-12-12T06:26:42.937Z"
   },
   {
    "duration": 32,
    "start_time": "2022-12-12T06:26:42.949Z"
   },
   {
    "duration": 9,
    "start_time": "2022-12-12T06:26:42.983Z"
   },
   {
    "duration": 54,
    "start_time": "2022-12-12T06:26:42.993Z"
   },
   {
    "duration": 9,
    "start_time": "2022-12-12T06:26:43.049Z"
   },
   {
    "duration": 15,
    "start_time": "2022-12-12T06:26:43.059Z"
   },
   {
    "duration": 5,
    "start_time": "2022-12-12T06:26:43.075Z"
   },
   {
    "duration": 64,
    "start_time": "2022-12-12T06:26:43.082Z"
   },
   {
    "duration": 44,
    "start_time": "2022-12-12T06:26:43.151Z"
   },
   {
    "duration": 58,
    "start_time": "2022-12-12T06:26:43.197Z"
   },
   {
    "duration": 10,
    "start_time": "2022-12-12T06:26:43.256Z"
   },
   {
    "duration": 11,
    "start_time": "2022-12-12T06:26:43.268Z"
   },
   {
    "duration": 10,
    "start_time": "2022-12-12T06:26:43.280Z"
   },
   {
    "duration": 39,
    "start_time": "2022-12-12T06:26:43.291Z"
   },
   {
    "duration": 4,
    "start_time": "2022-12-12T06:26:43.332Z"
   },
   {
    "duration": 194,
    "start_time": "2022-12-12T06:26:43.337Z"
   },
   {
    "duration": 13,
    "start_time": "2022-12-12T06:26:43.532Z"
   },
   {
    "duration": 403,
    "start_time": "2022-12-12T06:26:43.546Z"
   },
   {
    "duration": 32,
    "start_time": "2022-12-12T06:26:43.951Z"
   },
   {
    "duration": 17,
    "start_time": "2022-12-12T06:26:43.984Z"
   },
   {
    "duration": 30,
    "start_time": "2022-12-12T06:26:44.003Z"
   },
   {
    "duration": 207,
    "start_time": "2022-12-12T06:26:44.034Z"
   },
   {
    "duration": 8,
    "start_time": "2022-12-12T06:26:44.243Z"
   },
   {
    "duration": 5,
    "start_time": "2022-12-12T06:26:44.252Z"
   },
   {
    "duration": 13,
    "start_time": "2022-12-12T06:26:44.259Z"
   },
   {
    "duration": 5,
    "start_time": "2022-12-12T06:26:44.273Z"
   },
   {
    "duration": 21,
    "start_time": "2022-12-12T06:26:44.322Z"
   },
   {
    "duration": 53,
    "start_time": "2022-12-12T06:26:44.344Z"
   },
   {
    "duration": 45,
    "start_time": "2022-12-12T06:26:44.420Z"
   },
   {
    "duration": 27,
    "start_time": "2022-12-12T06:26:44.467Z"
   },
   {
    "duration": 6,
    "start_time": "2022-12-12T06:26:44.496Z"
   },
   {
    "duration": 17,
    "start_time": "2022-12-12T06:26:44.521Z"
   },
   {
    "duration": 10,
    "start_time": "2022-12-12T06:26:44.540Z"
   },
   {
    "duration": 9,
    "start_time": "2022-12-12T06:26:44.551Z"
   },
   {
    "duration": 12,
    "start_time": "2022-12-12T06:26:44.562Z"
   },
   {
    "duration": 8,
    "start_time": "2022-12-12T06:26:44.576Z"
   },
   {
    "duration": 71,
    "start_time": "2022-12-12T06:26:44.585Z"
   },
   {
    "duration": 114,
    "start_time": "2022-12-12T06:26:44.657Z"
   },
   {
    "duration": 15,
    "start_time": "2022-12-12T06:26:44.773Z"
   },
   {
    "duration": 10,
    "start_time": "2022-12-12T06:27:55.666Z"
   },
   {
    "duration": 21,
    "start_time": "2022-12-12T06:28:54.913Z"
   },
   {
    "duration": 10,
    "start_time": "2022-12-12T06:29:13.023Z"
   },
   {
    "duration": 44,
    "start_time": "2022-12-12T06:29:19.288Z"
   },
   {
    "duration": 1168,
    "start_time": "2022-12-12T06:29:37.290Z"
   },
   {
    "duration": 222,
    "start_time": "2022-12-12T06:29:38.460Z"
   },
   {
    "duration": 3,
    "start_time": "2022-12-12T06:29:38.684Z"
   },
   {
    "duration": 50,
    "start_time": "2022-12-12T06:29:38.689Z"
   },
   {
    "duration": 137,
    "start_time": "2022-12-12T06:29:38.741Z"
   },
   {
    "duration": 7,
    "start_time": "2022-12-12T06:29:38.880Z"
   },
   {
    "duration": 15,
    "start_time": "2022-12-12T06:29:38.888Z"
   },
   {
    "duration": 42,
    "start_time": "2022-12-12T06:29:38.904Z"
   },
   {
    "duration": 28,
    "start_time": "2022-12-12T06:29:38.948Z"
   },
   {
    "duration": 66,
    "start_time": "2022-12-12T06:29:38.979Z"
   },
   {
    "duration": 7,
    "start_time": "2022-12-12T06:29:39.046Z"
   },
   {
    "duration": 2061,
    "start_time": "2022-12-12T06:29:39.054Z"
   },
   {
    "duration": 23,
    "start_time": "2022-12-12T06:29:41.120Z"
   },
   {
    "duration": 416,
    "start_time": "2022-12-12T06:29:41.145Z"
   },
   {
    "duration": 7,
    "start_time": "2022-12-12T06:29:41.563Z"
   },
   {
    "duration": 24,
    "start_time": "2022-12-12T06:29:41.571Z"
   },
   {
    "duration": 30,
    "start_time": "2022-12-12T06:29:41.597Z"
   },
   {
    "duration": 34,
    "start_time": "2022-12-12T06:29:41.628Z"
   },
   {
    "duration": 43,
    "start_time": "2022-12-12T06:29:41.664Z"
   },
   {
    "duration": 55,
    "start_time": "2022-12-12T06:29:41.709Z"
   },
   {
    "duration": 16,
    "start_time": "2022-12-12T06:29:41.765Z"
   },
   {
    "duration": 46,
    "start_time": "2022-12-12T06:29:41.783Z"
   },
   {
    "duration": 52,
    "start_time": "2022-12-12T06:29:41.830Z"
   },
   {
    "duration": 66,
    "start_time": "2022-12-12T06:29:41.884Z"
   },
   {
    "duration": 6,
    "start_time": "2022-12-12T06:29:41.951Z"
   },
   {
    "duration": 52,
    "start_time": "2022-12-12T06:29:41.958Z"
   },
   {
    "duration": 75,
    "start_time": "2022-12-12T06:29:42.012Z"
   },
   {
    "duration": 54,
    "start_time": "2022-12-12T06:29:42.092Z"
   },
   {
    "duration": 31,
    "start_time": "2022-12-12T06:29:42.148Z"
   },
   {
    "duration": 45,
    "start_time": "2022-12-12T06:29:42.181Z"
   },
   {
    "duration": 9,
    "start_time": "2022-12-12T06:29:42.228Z"
   },
   {
    "duration": 156,
    "start_time": "2022-12-12T06:29:42.239Z"
   },
   {
    "duration": 8,
    "start_time": "2022-12-12T06:29:42.397Z"
   },
   {
    "duration": 25,
    "start_time": "2022-12-12T06:29:42.407Z"
   },
   {
    "duration": 63,
    "start_time": "2022-12-12T06:29:42.434Z"
   },
   {
    "duration": 55,
    "start_time": "2022-12-12T06:29:42.499Z"
   },
   {
    "duration": 57,
    "start_time": "2022-12-12T06:29:42.556Z"
   },
   {
    "duration": 21,
    "start_time": "2022-12-12T06:29:42.621Z"
   },
   {
    "duration": 148,
    "start_time": "2022-12-12T06:29:42.644Z"
   },
   {
    "duration": 33,
    "start_time": "2022-12-12T06:29:42.794Z"
   },
   {
    "duration": 20,
    "start_time": "2022-12-12T06:29:42.828Z"
   },
   {
    "duration": 248,
    "start_time": "2022-12-12T06:29:42.849Z"
   },
   {
    "duration": 24,
    "start_time": "2022-12-12T06:29:43.099Z"
   },
   {
    "duration": 13,
    "start_time": "2022-12-12T06:29:43.124Z"
   },
   {
    "duration": 8,
    "start_time": "2022-12-12T06:29:43.138Z"
   },
   {
    "duration": 166,
    "start_time": "2022-12-12T06:29:43.147Z"
   },
   {
    "duration": 9,
    "start_time": "2022-12-12T06:29:43.315Z"
   },
   {
    "duration": 19,
    "start_time": "2022-12-12T06:29:43.326Z"
   },
   {
    "duration": 13,
    "start_time": "2022-12-12T06:29:43.347Z"
   },
   {
    "duration": 100,
    "start_time": "2022-12-12T06:29:43.361Z"
   },
   {
    "duration": 9,
    "start_time": "2022-12-12T06:29:43.463Z"
   },
   {
    "duration": 5,
    "start_time": "2022-12-12T06:29:43.474Z"
   },
   {
    "duration": 80,
    "start_time": "2022-12-12T06:29:43.480Z"
   },
   {
    "duration": 7,
    "start_time": "2022-12-12T06:29:43.562Z"
   },
   {
    "duration": 19,
    "start_time": "2022-12-12T06:29:43.571Z"
   },
   {
    "duration": 63,
    "start_time": "2022-12-12T06:29:43.592Z"
   },
   {
    "duration": 9,
    "start_time": "2022-12-12T06:29:43.656Z"
   },
   {
    "duration": 29,
    "start_time": "2022-12-12T06:29:43.666Z"
   },
   {
    "duration": 9,
    "start_time": "2022-12-12T06:29:43.697Z"
   },
   {
    "duration": 19,
    "start_time": "2022-12-12T06:29:43.708Z"
   },
   {
    "duration": 201,
    "start_time": "2022-12-12T06:29:43.729Z"
   },
   {
    "duration": 11,
    "start_time": "2022-12-12T06:29:43.932Z"
   },
   {
    "duration": 8,
    "start_time": "2022-12-12T06:29:43.945Z"
   },
   {
    "duration": 9,
    "start_time": "2022-12-12T06:29:43.954Z"
   },
   {
    "duration": 19,
    "start_time": "2022-12-12T06:29:43.965Z"
   },
   {
    "duration": 11,
    "start_time": "2022-12-12T06:29:43.985Z"
   },
   {
    "duration": 33,
    "start_time": "2022-12-12T06:29:43.998Z"
   },
   {
    "duration": 8,
    "start_time": "2022-12-12T06:29:44.033Z"
   },
   {
    "duration": 12,
    "start_time": "2022-12-12T06:29:44.043Z"
   },
   {
    "duration": 9,
    "start_time": "2022-12-12T06:29:44.057Z"
   },
   {
    "duration": 17,
    "start_time": "2022-12-12T06:29:44.067Z"
   },
   {
    "duration": 791,
    "start_time": "2022-12-12T06:29:44.086Z"
   },
   {
    "duration": 24,
    "start_time": "2022-12-12T06:29:44.878Z"
   },
   {
    "duration": 21,
    "start_time": "2022-12-12T06:29:44.904Z"
   },
   {
    "duration": 25,
    "start_time": "2022-12-12T06:29:44.926Z"
   },
   {
    "duration": 10,
    "start_time": "2022-12-12T06:29:44.953Z"
   },
   {
    "duration": 36,
    "start_time": "2022-12-12T06:29:44.964Z"
   },
   {
    "duration": 28,
    "start_time": "2022-12-12T06:29:45.002Z"
   },
   {
    "duration": 16,
    "start_time": "2022-12-12T06:29:45.032Z"
   },
   {
    "duration": 12,
    "start_time": "2022-12-12T06:29:45.049Z"
   },
   {
    "duration": 52,
    "start_time": "2022-12-12T06:29:45.062Z"
   },
   {
    "duration": 46,
    "start_time": "2022-12-12T06:29:45.121Z"
   },
   {
    "duration": 67,
    "start_time": "2022-12-12T06:29:45.168Z"
   },
   {
    "duration": 14,
    "start_time": "2022-12-12T06:29:45.237Z"
   },
   {
    "duration": 20,
    "start_time": "2022-12-12T06:29:45.253Z"
   },
   {
    "duration": 18,
    "start_time": "2022-12-12T06:29:45.275Z"
   },
   {
    "duration": 51,
    "start_time": "2022-12-12T06:29:45.295Z"
   },
   {
    "duration": 16,
    "start_time": "2022-12-12T06:29:45.348Z"
   },
   {
    "duration": 217,
    "start_time": "2022-12-12T06:29:45.366Z"
   },
   {
    "duration": 15,
    "start_time": "2022-12-12T06:29:45.585Z"
   },
   {
    "duration": 398,
    "start_time": "2022-12-12T06:29:45.601Z"
   },
   {
    "duration": 41,
    "start_time": "2022-12-12T06:29:46.000Z"
   },
   {
    "duration": 18,
    "start_time": "2022-12-12T06:29:46.042Z"
   },
   {
    "duration": 17,
    "start_time": "2022-12-12T06:29:46.061Z"
   },
   {
    "duration": 226,
    "start_time": "2022-12-12T06:29:46.080Z"
   },
   {
    "duration": 17,
    "start_time": "2022-12-12T06:29:46.308Z"
   },
   {
    "duration": 7,
    "start_time": "2022-12-12T06:29:46.326Z"
   },
   {
    "duration": 15,
    "start_time": "2022-12-12T06:29:46.335Z"
   },
   {
    "duration": 5,
    "start_time": "2022-12-12T06:29:46.351Z"
   },
   {
    "duration": 23,
    "start_time": "2022-12-12T06:29:46.357Z"
   },
   {
    "duration": 88,
    "start_time": "2022-12-12T06:29:46.382Z"
   },
   {
    "duration": 9,
    "start_time": "2022-12-12T06:29:46.471Z"
   },
   {
    "duration": 81,
    "start_time": "2022-12-12T06:29:46.482Z"
   },
   {
    "duration": 38,
    "start_time": "2022-12-12T06:29:46.565Z"
   },
   {
    "duration": 7,
    "start_time": "2022-12-12T06:29:46.620Z"
   },
   {
    "duration": 23,
    "start_time": "2022-12-12T06:29:46.628Z"
   },
   {
    "duration": 12,
    "start_time": "2022-12-12T06:29:46.653Z"
   },
   {
    "duration": 7,
    "start_time": "2022-12-12T06:29:46.667Z"
   },
   {
    "duration": 16,
    "start_time": "2022-12-12T06:29:46.675Z"
   },
   {
    "duration": 30,
    "start_time": "2022-12-12T06:29:46.693Z"
   },
   {
    "duration": 47,
    "start_time": "2022-12-12T06:29:46.725Z"
   },
   {
    "duration": 116,
    "start_time": "2022-12-12T06:29:46.774Z"
   },
   {
    "duration": 30,
    "start_time": "2022-12-12T06:29:46.892Z"
   },
   {
    "duration": 66,
    "start_time": "2022-12-12T06:37:57.967Z"
   },
   {
    "duration": 40,
    "start_time": "2022-12-12T06:38:07.900Z"
   },
   {
    "duration": 40,
    "start_time": "2022-12-12T06:41:50.762Z"
   },
   {
    "duration": 41,
    "start_time": "2022-12-12T06:41:59.178Z"
   },
   {
    "duration": 39,
    "start_time": "2022-12-12T06:42:39.016Z"
   },
   {
    "duration": 40,
    "start_time": "2022-12-12T06:50:42.605Z"
   },
   {
    "duration": 56,
    "start_time": "2022-12-12T06:56:23.873Z"
   },
   {
    "duration": 4,
    "start_time": "2022-12-12T06:56:38.541Z"
   },
   {
    "duration": 19,
    "start_time": "2022-12-12T06:56:58.843Z"
   },
   {
    "duration": 15,
    "start_time": "2022-12-12T06:58:00.277Z"
   },
   {
    "duration": 14,
    "start_time": "2022-12-12T06:58:24.928Z"
   },
   {
    "duration": 8,
    "start_time": "2022-12-12T06:58:44.537Z"
   },
   {
    "duration": 1152,
    "start_time": "2022-12-12T06:59:33.723Z"
   },
   {
    "duration": 381,
    "start_time": "2022-12-12T06:59:34.876Z"
   },
   {
    "duration": 7,
    "start_time": "2022-12-12T06:59:35.262Z"
   },
   {
    "duration": 53,
    "start_time": "2022-12-12T06:59:35.272Z"
   },
   {
    "duration": 147,
    "start_time": "2022-12-12T06:59:35.327Z"
   },
   {
    "duration": 7,
    "start_time": "2022-12-12T06:59:35.476Z"
   },
   {
    "duration": 9,
    "start_time": "2022-12-12T06:59:35.485Z"
   },
   {
    "duration": 46,
    "start_time": "2022-12-12T06:59:35.496Z"
   },
   {
    "duration": 28,
    "start_time": "2022-12-12T06:59:35.544Z"
   },
   {
    "duration": 62,
    "start_time": "2022-12-12T06:59:35.575Z"
   },
   {
    "duration": 4,
    "start_time": "2022-12-12T06:59:35.639Z"
   },
   {
    "duration": 2018,
    "start_time": "2022-12-12T06:59:35.644Z"
   },
   {
    "duration": 22,
    "start_time": "2022-12-12T06:59:37.664Z"
   },
   {
    "duration": 399,
    "start_time": "2022-12-12T06:59:37.688Z"
   },
   {
    "duration": 6,
    "start_time": "2022-12-12T06:59:38.089Z"
   },
   {
    "duration": 24,
    "start_time": "2022-12-12T06:59:38.097Z"
   },
   {
    "duration": 10,
    "start_time": "2022-12-12T06:59:38.122Z"
   },
   {
    "duration": 30,
    "start_time": "2022-12-12T06:59:38.133Z"
   },
   {
    "duration": 72,
    "start_time": "2022-12-12T06:59:38.164Z"
   },
   {
    "duration": 44,
    "start_time": "2022-12-12T06:59:38.238Z"
   },
   {
    "duration": 18,
    "start_time": "2022-12-12T06:59:38.284Z"
   },
   {
    "duration": 42,
    "start_time": "2022-12-12T06:59:38.303Z"
   },
   {
    "duration": 38,
    "start_time": "2022-12-12T06:59:38.346Z"
   },
   {
    "duration": 67,
    "start_time": "2022-12-12T06:59:38.385Z"
   },
   {
    "duration": 5,
    "start_time": "2022-12-12T06:59:38.454Z"
   },
   {
    "duration": 22,
    "start_time": "2022-12-12T06:59:38.460Z"
   },
   {
    "duration": 45,
    "start_time": "2022-12-12T06:59:38.483Z"
   },
   {
    "duration": 55,
    "start_time": "2022-12-12T06:59:38.533Z"
   },
   {
    "duration": 50,
    "start_time": "2022-12-12T06:59:38.590Z"
   },
   {
    "duration": 27,
    "start_time": "2022-12-12T06:59:38.642Z"
   },
   {
    "duration": 7,
    "start_time": "2022-12-12T06:59:38.671Z"
   },
   {
    "duration": 145,
    "start_time": "2022-12-12T06:59:38.679Z"
   },
   {
    "duration": 7,
    "start_time": "2022-12-12T06:59:38.826Z"
   },
   {
    "duration": 15,
    "start_time": "2022-12-12T06:59:38.834Z"
   },
   {
    "duration": 1085,
    "start_time": "2022-12-12T07:03:06.575Z"
   },
   {
    "duration": 239,
    "start_time": "2022-12-12T07:03:07.662Z"
   },
   {
    "duration": 5,
    "start_time": "2022-12-12T07:03:07.903Z"
   },
   {
    "duration": 47,
    "start_time": "2022-12-12T07:03:07.910Z"
   },
   {
    "duration": 134,
    "start_time": "2022-12-12T07:03:07.958Z"
   },
   {
    "duration": 7,
    "start_time": "2022-12-12T07:03:08.094Z"
   },
   {
    "duration": 23,
    "start_time": "2022-12-12T07:03:08.102Z"
   },
   {
    "duration": 30,
    "start_time": "2022-12-12T07:03:08.127Z"
   },
   {
    "duration": 28,
    "start_time": "2022-12-12T07:03:08.158Z"
   },
   {
    "duration": 61,
    "start_time": "2022-12-12T07:03:08.188Z"
   },
   {
    "duration": 8,
    "start_time": "2022-12-12T07:03:08.251Z"
   },
   {
    "duration": 2028,
    "start_time": "2022-12-12T07:03:08.260Z"
   },
   {
    "duration": 41,
    "start_time": "2022-12-12T07:03:10.289Z"
   },
   {
    "duration": 394,
    "start_time": "2022-12-12T07:03:10.332Z"
   },
   {
    "duration": 9,
    "start_time": "2022-12-12T07:03:10.728Z"
   },
   {
    "duration": 11,
    "start_time": "2022-12-12T07:03:10.739Z"
   },
   {
    "duration": 11,
    "start_time": "2022-12-12T07:03:10.751Z"
   },
   {
    "duration": 67,
    "start_time": "2022-12-12T07:03:10.764Z"
   },
   {
    "duration": 45,
    "start_time": "2022-12-12T07:03:10.832Z"
   },
   {
    "duration": 63,
    "start_time": "2022-12-12T07:03:10.879Z"
   },
   {
    "duration": 17,
    "start_time": "2022-12-12T07:03:10.943Z"
   },
   {
    "duration": 28,
    "start_time": "2022-12-12T07:03:10.961Z"
   },
   {
    "duration": 58,
    "start_time": "2022-12-12T07:03:10.990Z"
   },
   {
    "duration": 46,
    "start_time": "2022-12-12T07:03:11.049Z"
   },
   {
    "duration": 5,
    "start_time": "2022-12-12T07:03:11.096Z"
   },
   {
    "duration": 26,
    "start_time": "2022-12-12T07:03:11.102Z"
   },
   {
    "duration": 36,
    "start_time": "2022-12-12T07:03:11.130Z"
   },
   {
    "duration": 71,
    "start_time": "2022-12-12T07:03:11.169Z"
   },
   {
    "duration": 32,
    "start_time": "2022-12-12T07:03:11.241Z"
   },
   {
    "duration": 48,
    "start_time": "2022-12-12T07:03:11.274Z"
   },
   {
    "duration": 8,
    "start_time": "2022-12-12T07:03:11.323Z"
   },
   {
    "duration": 148,
    "start_time": "2022-12-12T07:03:11.333Z"
   },
   {
    "duration": 9,
    "start_time": "2022-12-12T07:03:11.483Z"
   },
   {
    "duration": 29,
    "start_time": "2022-12-12T07:03:11.494Z"
   },
   {
    "duration": 20,
    "start_time": "2022-12-12T07:03:11.525Z"
   },
   {
    "duration": 43,
    "start_time": "2022-12-12T07:03:11.547Z"
   },
   {
    "duration": 70,
    "start_time": "2022-12-12T07:03:11.592Z"
   },
   {
    "duration": 22,
    "start_time": "2022-12-12T07:03:11.664Z"
   },
   {
    "duration": 149,
    "start_time": "2022-12-12T07:03:11.688Z"
   },
   {
    "duration": 21,
    "start_time": "2022-12-12T07:03:11.839Z"
   },
   {
    "duration": 17,
    "start_time": "2022-12-12T07:03:11.862Z"
   },
   {
    "duration": 231,
    "start_time": "2022-12-12T07:03:11.881Z"
   },
   {
    "duration": 21,
    "start_time": "2022-12-12T07:03:12.114Z"
   },
   {
    "duration": 13,
    "start_time": "2022-12-12T07:03:12.137Z"
   },
   {
    "duration": 5,
    "start_time": "2022-12-12T07:03:12.151Z"
   },
   {
    "duration": 175,
    "start_time": "2022-12-12T07:03:12.157Z"
   },
   {
    "duration": 8,
    "start_time": "2022-12-12T07:03:12.334Z"
   },
   {
    "duration": 12,
    "start_time": "2022-12-12T07:03:12.343Z"
   },
   {
    "duration": 5,
    "start_time": "2022-12-12T07:03:12.356Z"
   },
   {
    "duration": 110,
    "start_time": "2022-12-12T07:03:12.362Z"
   },
   {
    "duration": 10,
    "start_time": "2022-12-12T07:03:12.473Z"
   },
   {
    "duration": 6,
    "start_time": "2022-12-12T07:03:12.484Z"
   },
   {
    "duration": 78,
    "start_time": "2022-12-12T07:03:12.492Z"
   },
   {
    "duration": 7,
    "start_time": "2022-12-12T07:03:12.572Z"
   },
   {
    "duration": 14,
    "start_time": "2022-12-12T07:03:12.581Z"
   },
   {
    "duration": 72,
    "start_time": "2022-12-12T07:03:12.597Z"
   },
   {
    "duration": 9,
    "start_time": "2022-12-12T07:03:12.671Z"
   },
   {
    "duration": 14,
    "start_time": "2022-12-12T07:03:12.682Z"
   },
   {
    "duration": 28,
    "start_time": "2022-12-12T07:03:12.697Z"
   },
   {
    "duration": 10,
    "start_time": "2022-12-12T07:03:12.726Z"
   },
   {
    "duration": 200,
    "start_time": "2022-12-12T07:03:12.738Z"
   },
   {
    "duration": 9,
    "start_time": "2022-12-12T07:03:12.940Z"
   },
   {
    "duration": 6,
    "start_time": "2022-12-12T07:03:12.951Z"
   },
   {
    "duration": 7,
    "start_time": "2022-12-12T07:03:12.959Z"
   },
   {
    "duration": 10,
    "start_time": "2022-12-12T07:03:12.968Z"
   },
   {
    "duration": 14,
    "start_time": "2022-12-12T07:03:12.980Z"
   },
   {
    "duration": 32,
    "start_time": "2022-12-12T07:03:12.996Z"
   },
   {
    "duration": 8,
    "start_time": "2022-12-12T07:03:13.029Z"
   },
   {
    "duration": 7,
    "start_time": "2022-12-12T07:03:13.039Z"
   },
   {
    "duration": 12,
    "start_time": "2022-12-12T07:03:13.048Z"
   },
   {
    "duration": 10,
    "start_time": "2022-12-12T07:03:13.061Z"
   },
   {
    "duration": 739,
    "start_time": "2022-12-12T07:03:13.073Z"
   },
   {
    "duration": 30,
    "start_time": "2022-12-12T07:03:13.814Z"
   },
   {
    "duration": 12,
    "start_time": "2022-12-12T07:03:13.846Z"
   },
   {
    "duration": 33,
    "start_time": "2022-12-12T07:03:13.860Z"
   },
   {
    "duration": 29,
    "start_time": "2022-12-12T07:03:13.895Z"
   },
   {
    "duration": 33,
    "start_time": "2022-12-12T07:03:13.925Z"
   },
   {
    "duration": 10,
    "start_time": "2022-12-12T07:03:13.960Z"
   },
   {
    "duration": 13,
    "start_time": "2022-12-12T07:03:13.972Z"
   },
   {
    "duration": 37,
    "start_time": "2022-12-12T07:03:13.987Z"
   },
   {
    "duration": 61,
    "start_time": "2022-12-12T07:03:14.026Z"
   },
   {
    "duration": 55,
    "start_time": "2022-12-12T07:03:14.094Z"
   },
   {
    "duration": 52,
    "start_time": "2022-12-12T07:03:14.150Z"
   },
   {
    "duration": 24,
    "start_time": "2022-12-12T07:03:14.204Z"
   },
   {
    "duration": 12,
    "start_time": "2022-12-12T07:03:14.229Z"
   },
   {
    "duration": 10,
    "start_time": "2022-12-12T07:03:14.243Z"
   },
   {
    "duration": 14,
    "start_time": "2022-12-12T07:03:14.255Z"
   },
   {
    "duration": 4,
    "start_time": "2022-12-12T07:03:14.270Z"
   },
   {
    "duration": 216,
    "start_time": "2022-12-12T07:03:14.276Z"
   },
   {
    "duration": 28,
    "start_time": "2022-12-12T07:03:14.493Z"
   },
   {
    "duration": 399,
    "start_time": "2022-12-12T07:03:14.523Z"
   },
   {
    "duration": 35,
    "start_time": "2022-12-12T07:03:14.924Z"
   },
   {
    "duration": 15,
    "start_time": "2022-12-12T07:03:14.961Z"
   },
   {
    "duration": 15,
    "start_time": "2022-12-12T07:03:14.978Z"
   },
   {
    "duration": 283,
    "start_time": "2022-12-12T07:03:14.995Z"
   },
   {
    "duration": 10,
    "start_time": "2022-12-12T07:03:15.281Z"
   },
   {
    "duration": 30,
    "start_time": "2022-12-12T07:03:15.293Z"
   },
   {
    "duration": 27,
    "start_time": "2022-12-12T07:03:15.325Z"
   },
   {
    "duration": 10,
    "start_time": "2022-12-12T07:03:15.354Z"
   },
   {
    "duration": 43,
    "start_time": "2022-12-12T07:03:15.367Z"
   },
   {
    "duration": 68,
    "start_time": "2022-12-12T07:03:15.412Z"
   },
   {
    "duration": 10,
    "start_time": "2022-12-12T07:03:15.481Z"
   },
   {
    "duration": 72,
    "start_time": "2022-12-12T07:03:15.492Z"
   },
   {
    "duration": 31,
    "start_time": "2022-12-12T07:03:15.566Z"
   },
   {
    "duration": 8,
    "start_time": "2022-12-12T07:03:15.598Z"
   },
   {
    "duration": 9,
    "start_time": "2022-12-12T07:03:15.622Z"
   },
   {
    "duration": 34,
    "start_time": "2022-12-12T07:03:15.632Z"
   },
   {
    "duration": 11,
    "start_time": "2022-12-12T07:03:15.667Z"
   },
   {
    "duration": 11,
    "start_time": "2022-12-12T07:03:15.679Z"
   },
   {
    "duration": 11,
    "start_time": "2022-12-12T07:03:15.691Z"
   },
   {
    "duration": 23,
    "start_time": "2022-12-12T07:03:15.703Z"
   },
   {
    "duration": 40,
    "start_time": "2022-12-12T07:03:15.728Z"
   },
   {
    "duration": 132,
    "start_time": "2022-12-12T07:03:15.770Z"
   },
   {
    "duration": 25,
    "start_time": "2022-12-12T07:03:15.904Z"
   },
   {
    "duration": 8,
    "start_time": "2022-12-12T07:11:38.805Z"
   },
   {
    "duration": 13,
    "start_time": "2022-12-12T07:11:43.518Z"
   },
   {
    "duration": 7,
    "start_time": "2022-12-12T07:21:12.448Z"
   },
   {
    "duration": 1179,
    "start_time": "2022-12-12T07:23:16.811Z"
   },
   {
    "duration": 274,
    "start_time": "2022-12-12T07:23:17.992Z"
   },
   {
    "duration": 3,
    "start_time": "2022-12-12T07:23:18.268Z"
   },
   {
    "duration": 41,
    "start_time": "2022-12-12T07:23:18.273Z"
   },
   {
    "duration": 136,
    "start_time": "2022-12-12T07:23:18.321Z"
   },
   {
    "duration": 7,
    "start_time": "2022-12-12T07:23:18.459Z"
   },
   {
    "duration": 15,
    "start_time": "2022-12-12T07:23:18.468Z"
   },
   {
    "duration": 42,
    "start_time": "2022-12-12T07:23:18.484Z"
   },
   {
    "duration": 31,
    "start_time": "2022-12-12T07:23:18.527Z"
   },
   {
    "duration": 70,
    "start_time": "2022-12-12T07:23:18.562Z"
   },
   {
    "duration": 4,
    "start_time": "2022-12-12T07:23:18.634Z"
   },
   {
    "duration": 2074,
    "start_time": "2022-12-12T07:23:18.640Z"
   },
   {
    "duration": 23,
    "start_time": "2022-12-12T07:23:20.722Z"
   },
   {
    "duration": 423,
    "start_time": "2022-12-12T07:23:20.747Z"
   },
   {
    "duration": 6,
    "start_time": "2022-12-12T07:23:21.172Z"
   },
   {
    "duration": 13,
    "start_time": "2022-12-12T07:23:21.180Z"
   },
   {
    "duration": 34,
    "start_time": "2022-12-12T07:23:21.195Z"
   },
   {
    "duration": 33,
    "start_time": "2022-12-12T07:23:21.230Z"
   },
   {
    "duration": 57,
    "start_time": "2022-12-12T07:23:21.265Z"
   },
   {
    "duration": 47,
    "start_time": "2022-12-12T07:23:21.324Z"
   },
   {
    "duration": 18,
    "start_time": "2022-12-12T07:23:21.373Z"
   },
   {
    "duration": 54,
    "start_time": "2022-12-12T07:23:21.392Z"
   },
   {
    "duration": 45,
    "start_time": "2022-12-12T07:23:21.448Z"
   },
   {
    "duration": 69,
    "start_time": "2022-12-12T07:23:21.495Z"
   },
   {
    "duration": 4,
    "start_time": "2022-12-12T07:23:21.566Z"
   },
   {
    "duration": 12,
    "start_time": "2022-12-12T07:23:21.571Z"
   },
   {
    "duration": 66,
    "start_time": "2022-12-12T07:23:21.585Z"
   },
   {
    "duration": 53,
    "start_time": "2022-12-12T07:23:21.654Z"
   },
   {
    "duration": 39,
    "start_time": "2022-12-12T07:23:21.709Z"
   },
   {
    "duration": 44,
    "start_time": "2022-12-12T07:23:21.750Z"
   },
   {
    "duration": 27,
    "start_time": "2022-12-12T07:23:21.795Z"
   },
   {
    "duration": 149,
    "start_time": "2022-12-12T07:23:21.823Z"
   },
   {
    "duration": 7,
    "start_time": "2022-12-12T07:23:21.974Z"
   },
   {
    "duration": 27,
    "start_time": "2022-12-12T07:23:21.983Z"
   },
   {
    "duration": 21,
    "start_time": "2022-12-12T07:23:22.011Z"
   },
   {
    "duration": 38,
    "start_time": "2022-12-12T07:23:22.033Z"
   },
   {
    "duration": 61,
    "start_time": "2022-12-12T07:23:22.073Z"
   },
   {
    "duration": 26,
    "start_time": "2022-12-12T07:23:22.135Z"
   },
   {
    "duration": 139,
    "start_time": "2022-12-12T07:23:22.163Z"
   },
   {
    "duration": 29,
    "start_time": "2022-12-12T07:23:22.304Z"
   },
   {
    "duration": 16,
    "start_time": "2022-12-12T07:23:22.335Z"
   },
   {
    "duration": 256,
    "start_time": "2022-12-12T07:23:22.352Z"
   },
   {
    "duration": 18,
    "start_time": "2022-12-12T07:23:22.609Z"
   },
   {
    "duration": 12,
    "start_time": "2022-12-12T07:23:22.628Z"
   },
   {
    "duration": 9,
    "start_time": "2022-12-12T07:23:22.641Z"
   },
   {
    "duration": 179,
    "start_time": "2022-12-12T07:23:22.652Z"
   },
   {
    "duration": 7,
    "start_time": "2022-12-12T07:23:22.832Z"
   },
   {
    "duration": 24,
    "start_time": "2022-12-12T07:23:22.841Z"
   },
   {
    "duration": 4,
    "start_time": "2022-12-12T07:23:22.867Z"
   },
   {
    "duration": 94,
    "start_time": "2022-12-12T07:23:22.872Z"
   },
   {
    "duration": 9,
    "start_time": "2022-12-12T07:23:22.968Z"
   },
   {
    "duration": 13,
    "start_time": "2022-12-12T07:23:22.979Z"
   },
   {
    "duration": 78,
    "start_time": "2022-12-12T07:23:22.994Z"
   },
   {
    "duration": 4,
    "start_time": "2022-12-12T07:23:23.074Z"
   },
   {
    "duration": 23,
    "start_time": "2022-12-12T07:23:23.080Z"
   },
   {
    "duration": 60,
    "start_time": "2022-12-12T07:23:23.104Z"
   },
   {
    "duration": 10,
    "start_time": "2022-12-12T07:23:23.165Z"
   },
   {
    "duration": 29,
    "start_time": "2022-12-12T07:23:23.177Z"
   },
   {
    "duration": 20,
    "start_time": "2022-12-12T07:23:23.208Z"
   },
   {
    "duration": 15,
    "start_time": "2022-12-12T07:23:23.229Z"
   },
   {
    "duration": 212,
    "start_time": "2022-12-12T07:23:23.246Z"
   },
   {
    "duration": 10,
    "start_time": "2022-12-12T07:23:23.460Z"
   },
   {
    "duration": 10,
    "start_time": "2022-12-12T07:23:23.472Z"
   },
   {
    "duration": 7,
    "start_time": "2022-12-12T07:23:23.484Z"
   },
   {
    "duration": 12,
    "start_time": "2022-12-12T07:23:23.493Z"
   },
   {
    "duration": 24,
    "start_time": "2022-12-12T07:23:23.506Z"
   },
   {
    "duration": 9,
    "start_time": "2022-12-12T07:23:23.531Z"
   },
   {
    "duration": 8,
    "start_time": "2022-12-12T07:23:23.542Z"
   },
   {
    "duration": 9,
    "start_time": "2022-12-12T07:23:23.551Z"
   },
   {
    "duration": 12,
    "start_time": "2022-12-12T07:23:23.561Z"
   },
   {
    "duration": 19,
    "start_time": "2022-12-12T07:23:23.574Z"
   },
   {
    "duration": 763,
    "start_time": "2022-12-12T07:23:23.621Z"
   },
   {
    "duration": 24,
    "start_time": "2022-12-12T07:23:24.385Z"
   },
   {
    "duration": 21,
    "start_time": "2022-12-12T07:23:24.410Z"
   },
   {
    "duration": 27,
    "start_time": "2022-12-12T07:23:24.433Z"
   },
   {
    "duration": 10,
    "start_time": "2022-12-12T07:23:24.462Z"
   },
   {
    "duration": 63,
    "start_time": "2022-12-12T07:23:24.474Z"
   },
   {
    "duration": 9,
    "start_time": "2022-12-12T07:23:24.539Z"
   },
   {
    "duration": 38,
    "start_time": "2022-12-12T07:23:24.550Z"
   },
   {
    "duration": 7,
    "start_time": "2022-12-12T07:23:24.589Z"
   },
   {
    "duration": 51,
    "start_time": "2022-12-12T07:23:24.597Z"
   },
   {
    "duration": 43,
    "start_time": "2022-12-12T07:23:24.654Z"
   },
   {
    "duration": 62,
    "start_time": "2022-12-12T07:23:24.699Z"
   },
   {
    "duration": 10,
    "start_time": "2022-12-12T07:23:24.763Z"
   },
   {
    "duration": 20,
    "start_time": "2022-12-12T07:23:24.774Z"
   },
   {
    "duration": 18,
    "start_time": "2022-12-12T07:23:24.796Z"
   },
   {
    "duration": 17,
    "start_time": "2022-12-12T07:23:24.821Z"
   },
   {
    "duration": 6,
    "start_time": "2022-12-12T07:23:24.840Z"
   },
   {
    "duration": 201,
    "start_time": "2022-12-12T07:23:24.847Z"
   },
   {
    "duration": 13,
    "start_time": "2022-12-12T07:23:25.050Z"
   },
   {
    "duration": 461,
    "start_time": "2022-12-12T07:23:25.065Z"
   },
   {
    "duration": 29,
    "start_time": "2022-12-12T07:23:25.528Z"
   },
   {
    "duration": 18,
    "start_time": "2022-12-12T07:23:25.558Z"
   },
   {
    "duration": 16,
    "start_time": "2022-12-12T07:23:25.577Z"
   },
   {
    "duration": 231,
    "start_time": "2022-12-12T07:23:25.594Z"
   },
   {
    "duration": 10,
    "start_time": "2022-12-12T07:23:25.827Z"
   },
   {
    "duration": 11,
    "start_time": "2022-12-12T07:23:25.839Z"
   },
   {
    "duration": 18,
    "start_time": "2022-12-12T07:23:25.852Z"
   },
   {
    "duration": 9,
    "start_time": "2022-12-12T07:23:25.872Z"
   },
   {
    "duration": 64,
    "start_time": "2022-12-12T07:23:25.882Z"
   },
   {
    "duration": 79,
    "start_time": "2022-12-12T07:23:25.948Z"
   },
   {
    "duration": 10,
    "start_time": "2022-12-12T07:23:26.029Z"
   },
   {
    "duration": 51,
    "start_time": "2022-12-12T07:23:26.040Z"
   },
   {
    "duration": 41,
    "start_time": "2022-12-12T07:23:26.093Z"
   },
   {
    "duration": 7,
    "start_time": "2022-12-12T07:23:26.136Z"
   },
   {
    "duration": 21,
    "start_time": "2022-12-12T07:23:26.145Z"
   },
   {
    "duration": 26,
    "start_time": "2022-12-12T07:23:26.168Z"
   },
   {
    "duration": 11,
    "start_time": "2022-12-12T07:23:26.196Z"
   },
   {
    "duration": 15,
    "start_time": "2022-12-12T07:23:26.208Z"
   },
   {
    "duration": 20,
    "start_time": "2022-12-12T07:23:26.225Z"
   },
   {
    "duration": 9,
    "start_time": "2022-12-12T07:23:26.246Z"
   },
   {
    "duration": 39,
    "start_time": "2022-12-12T07:23:26.256Z"
   },
   {
    "duration": 156,
    "start_time": "2022-12-12T07:23:26.297Z"
   },
   {
    "duration": 6,
    "start_time": "2022-12-12T07:23:26.455Z"
   },
   {
    "duration": 12,
    "start_time": "2022-12-12T07:23:26.462Z"
   },
   {
    "duration": 7,
    "start_time": "2022-12-12T07:23:26.475Z"
   },
   {
    "duration": 41,
    "start_time": "2022-12-12T07:23:26.483Z"
   },
   {
    "duration": 1142,
    "start_time": "2022-12-12T08:18:35.466Z"
   },
   {
    "duration": 275,
    "start_time": "2022-12-12T08:18:36.610Z"
   },
   {
    "duration": 5,
    "start_time": "2022-12-12T08:18:36.887Z"
   },
   {
    "duration": 43,
    "start_time": "2022-12-12T08:18:36.894Z"
   },
   {
    "duration": 131,
    "start_time": "2022-12-12T08:18:36.939Z"
   },
   {
    "duration": 7,
    "start_time": "2022-12-12T08:18:37.072Z"
   },
   {
    "duration": 10,
    "start_time": "2022-12-12T08:18:37.081Z"
   },
   {
    "duration": 50,
    "start_time": "2022-12-12T08:18:37.092Z"
   },
   {
    "duration": 28,
    "start_time": "2022-12-12T08:18:37.144Z"
   },
   {
    "duration": 63,
    "start_time": "2022-12-12T08:18:37.174Z"
   },
   {
    "duration": 4,
    "start_time": "2022-12-12T08:18:37.239Z"
   },
   {
    "duration": 2161,
    "start_time": "2022-12-12T08:18:37.244Z"
   },
   {
    "duration": 32,
    "start_time": "2022-12-12T08:18:39.408Z"
   },
   {
    "duration": 461,
    "start_time": "2022-12-12T08:18:39.441Z"
   },
   {
    "duration": 18,
    "start_time": "2022-12-12T08:18:39.904Z"
   },
   {
    "duration": 29,
    "start_time": "2022-12-12T08:18:39.924Z"
   },
   {
    "duration": 15,
    "start_time": "2022-12-12T08:18:39.955Z"
   },
   {
    "duration": 28,
    "start_time": "2022-12-12T08:18:39.972Z"
   },
   {
    "duration": 58,
    "start_time": "2022-12-12T08:18:40.001Z"
   },
   {
    "duration": 62,
    "start_time": "2022-12-12T08:18:40.060Z"
   },
   {
    "duration": 18,
    "start_time": "2022-12-12T08:18:40.123Z"
   },
   {
    "duration": 28,
    "start_time": "2022-12-12T08:18:40.143Z"
   },
   {
    "duration": 61,
    "start_time": "2022-12-12T08:18:40.173Z"
   },
   {
    "duration": 49,
    "start_time": "2022-12-12T08:18:40.236Z"
   },
   {
    "duration": 4,
    "start_time": "2022-12-12T08:18:40.287Z"
   },
   {
    "duration": 16,
    "start_time": "2022-12-12T08:18:40.293Z"
   },
   {
    "duration": 37,
    "start_time": "2022-12-12T08:18:40.321Z"
   },
   {
    "duration": 73,
    "start_time": "2022-12-12T08:18:40.362Z"
   },
   {
    "duration": 34,
    "start_time": "2022-12-12T08:18:40.437Z"
   },
   {
    "duration": 49,
    "start_time": "2022-12-12T08:18:40.473Z"
   },
   {
    "duration": 9,
    "start_time": "2022-12-12T08:18:40.523Z"
   },
   {
    "duration": 147,
    "start_time": "2022-12-12T08:18:40.533Z"
   },
   {
    "duration": 7,
    "start_time": "2022-12-12T08:18:40.682Z"
   },
   {
    "duration": 31,
    "start_time": "2022-12-12T08:18:40.690Z"
   },
   {
    "duration": 19,
    "start_time": "2022-12-12T08:18:40.723Z"
   },
   {
    "duration": 39,
    "start_time": "2022-12-12T08:18:40.744Z"
   },
   {
    "duration": 67,
    "start_time": "2022-12-12T08:18:40.784Z"
   },
   {
    "duration": 21,
    "start_time": "2022-12-12T08:18:40.853Z"
   },
   {
    "duration": 168,
    "start_time": "2022-12-12T08:18:40.875Z"
   },
   {
    "duration": 19,
    "start_time": "2022-12-12T08:18:41.045Z"
   },
   {
    "duration": 18,
    "start_time": "2022-12-12T08:18:41.066Z"
   },
   {
    "duration": 255,
    "start_time": "2022-12-12T08:18:41.085Z"
   },
   {
    "duration": 17,
    "start_time": "2022-12-12T08:18:41.341Z"
   },
   {
    "duration": 13,
    "start_time": "2022-12-12T08:18:41.360Z"
   },
   {
    "duration": 9,
    "start_time": "2022-12-12T08:18:41.374Z"
   },
   {
    "duration": 186,
    "start_time": "2022-12-12T08:18:41.384Z"
   },
   {
    "duration": 7,
    "start_time": "2022-12-12T08:18:41.572Z"
   },
   {
    "duration": 20,
    "start_time": "2022-12-12T08:18:41.581Z"
   },
   {
    "duration": 5,
    "start_time": "2022-12-12T08:18:41.602Z"
   },
   {
    "duration": 86,
    "start_time": "2022-12-12T08:18:41.608Z"
   },
   {
    "duration": 27,
    "start_time": "2022-12-12T08:18:41.695Z"
   },
   {
    "duration": 6,
    "start_time": "2022-12-12T08:18:41.723Z"
   },
   {
    "duration": 72,
    "start_time": "2022-12-12T08:18:41.730Z"
   },
   {
    "duration": 18,
    "start_time": "2022-12-12T08:18:41.804Z"
   },
   {
    "duration": 14,
    "start_time": "2022-12-12T08:18:41.824Z"
   },
   {
    "duration": 51,
    "start_time": "2022-12-12T08:18:41.840Z"
   },
   {
    "duration": 9,
    "start_time": "2022-12-12T08:18:41.893Z"
   },
   {
    "duration": 15,
    "start_time": "2022-12-12T08:18:41.921Z"
   },
   {
    "duration": 20,
    "start_time": "2022-12-12T08:18:41.938Z"
   },
   {
    "duration": 25,
    "start_time": "2022-12-12T08:18:41.960Z"
   },
   {
    "duration": 194,
    "start_time": "2022-12-12T08:18:41.987Z"
   },
   {
    "duration": 10,
    "start_time": "2022-12-12T08:18:42.183Z"
   },
   {
    "duration": 18,
    "start_time": "2022-12-12T08:18:42.194Z"
   },
   {
    "duration": 13,
    "start_time": "2022-12-12T08:18:42.214Z"
   },
   {
    "duration": 27,
    "start_time": "2022-12-12T08:18:42.229Z"
   },
   {
    "duration": 23,
    "start_time": "2022-12-12T08:18:42.258Z"
   },
   {
    "duration": 23,
    "start_time": "2022-12-12T08:18:42.283Z"
   },
   {
    "duration": 21,
    "start_time": "2022-12-12T08:18:42.308Z"
   },
   {
    "duration": 17,
    "start_time": "2022-12-12T08:18:42.331Z"
   },
   {
    "duration": 21,
    "start_time": "2022-12-12T08:18:42.350Z"
   },
   {
    "duration": 26,
    "start_time": "2022-12-12T08:18:42.373Z"
   },
   {
    "duration": 776,
    "start_time": "2022-12-12T08:18:42.401Z"
   },
   {
    "duration": 24,
    "start_time": "2022-12-12T08:18:43.178Z"
   },
   {
    "duration": 21,
    "start_time": "2022-12-12T08:18:43.203Z"
   },
   {
    "duration": 25,
    "start_time": "2022-12-12T08:18:43.225Z"
   },
   {
    "duration": 10,
    "start_time": "2022-12-12T08:18:43.251Z"
   },
   {
    "duration": 37,
    "start_time": "2022-12-12T08:18:43.263Z"
   },
   {
    "duration": 23,
    "start_time": "2022-12-12T08:18:43.301Z"
   },
   {
    "duration": 38,
    "start_time": "2022-12-12T08:18:43.326Z"
   },
   {
    "duration": 5,
    "start_time": "2022-12-12T08:18:43.365Z"
   },
   {
    "duration": 58,
    "start_time": "2022-12-12T08:18:43.372Z"
   },
   {
    "duration": 45,
    "start_time": "2022-12-12T08:18:43.436Z"
   },
   {
    "duration": 52,
    "start_time": "2022-12-12T08:18:43.483Z"
   },
   {
    "duration": 10,
    "start_time": "2022-12-12T08:18:43.537Z"
   },
   {
    "duration": 27,
    "start_time": "2022-12-12T08:18:43.549Z"
   },
   {
    "duration": 27,
    "start_time": "2022-12-12T08:18:43.578Z"
   },
   {
    "duration": 29,
    "start_time": "2022-12-12T08:18:43.606Z"
   },
   {
    "duration": 6,
    "start_time": "2022-12-12T08:18:43.637Z"
   },
   {
    "duration": 187,
    "start_time": "2022-12-12T08:18:43.644Z"
   },
   {
    "duration": 12,
    "start_time": "2022-12-12T08:18:43.833Z"
   },
   {
    "duration": 392,
    "start_time": "2022-12-12T08:18:43.847Z"
   },
   {
    "duration": 30,
    "start_time": "2022-12-12T08:18:44.240Z"
   },
   {
    "duration": 28,
    "start_time": "2022-12-12T08:18:44.272Z"
   },
   {
    "duration": 22,
    "start_time": "2022-12-12T08:18:44.302Z"
   },
   {
    "duration": 212,
    "start_time": "2022-12-12T08:18:44.325Z"
   },
   {
    "duration": 8,
    "start_time": "2022-12-12T08:18:44.538Z"
   },
   {
    "duration": 5,
    "start_time": "2022-12-12T08:18:44.548Z"
   },
   {
    "duration": 22,
    "start_time": "2022-12-12T08:18:44.555Z"
   },
   {
    "duration": 42,
    "start_time": "2022-12-12T08:18:44.579Z"
   },
   {
    "duration": 24,
    "start_time": "2022-12-12T08:18:44.623Z"
   },
   {
    "duration": 52,
    "start_time": "2022-12-12T08:18:44.648Z"
   },
   {
    "duration": 26,
    "start_time": "2022-12-12T08:18:44.701Z"
   },
   {
    "duration": 67,
    "start_time": "2022-12-12T08:18:44.729Z"
   },
   {
    "duration": 26,
    "start_time": "2022-12-12T08:18:44.798Z"
   },
   {
    "duration": 7,
    "start_time": "2022-12-12T08:18:44.826Z"
   },
   {
    "duration": 10,
    "start_time": "2022-12-12T08:18:44.834Z"
   },
   {
    "duration": 25,
    "start_time": "2022-12-12T08:18:44.845Z"
   },
   {
    "duration": 10,
    "start_time": "2022-12-12T08:18:44.871Z"
   },
   {
    "duration": 8,
    "start_time": "2022-12-12T08:18:44.882Z"
   },
   {
    "duration": 33,
    "start_time": "2022-12-12T08:18:44.891Z"
   },
   {
    "duration": 10,
    "start_time": "2022-12-12T08:18:44.926Z"
   },
   {
    "duration": 43,
    "start_time": "2022-12-12T08:18:44.937Z"
   },
   {
    "duration": 124,
    "start_time": "2022-12-12T08:18:44.981Z"
   },
   {
    "duration": 6,
    "start_time": "2022-12-12T08:18:45.106Z"
   },
   {
    "duration": 12,
    "start_time": "2022-12-12T08:18:45.113Z"
   },
   {
    "duration": 12,
    "start_time": "2022-12-12T08:18:45.126Z"
   },
   {
    "duration": 32,
    "start_time": "2022-12-12T08:18:45.140Z"
   },
   {
    "duration": 1274,
    "start_time": "2022-12-13T06:21:48.524Z"
   },
   {
    "duration": 365,
    "start_time": "2022-12-13T06:21:49.801Z"
   },
   {
    "duration": 4,
    "start_time": "2022-12-13T06:21:50.167Z"
   },
   {
    "duration": 44,
    "start_time": "2022-12-13T06:21:50.173Z"
   },
   {
    "duration": 141,
    "start_time": "2022-12-13T06:21:50.219Z"
   },
   {
    "duration": 7,
    "start_time": "2022-12-13T06:21:50.361Z"
   },
   {
    "duration": 21,
    "start_time": "2022-12-13T06:21:50.370Z"
   },
   {
    "duration": 23,
    "start_time": "2022-12-13T06:21:50.398Z"
   },
   {
    "duration": 27,
    "start_time": "2022-12-13T06:21:50.423Z"
   },
   {
    "duration": 60,
    "start_time": "2022-12-13T06:21:50.453Z"
   },
   {
    "duration": 4,
    "start_time": "2022-12-13T06:21:50.515Z"
   },
   {
    "duration": 2298,
    "start_time": "2022-12-13T06:21:50.520Z"
   },
   {
    "duration": 22,
    "start_time": "2022-12-13T06:21:52.820Z"
   },
   {
    "duration": 412,
    "start_time": "2022-12-13T06:21:52.843Z"
   },
   {
    "duration": 7,
    "start_time": "2022-12-13T06:21:53.256Z"
   },
   {
    "duration": 8,
    "start_time": "2022-12-13T06:21:53.264Z"
   },
   {
    "duration": 15,
    "start_time": "2022-12-13T06:21:53.298Z"
   },
   {
    "duration": 36,
    "start_time": "2022-12-13T06:21:53.315Z"
   },
   {
    "duration": 49,
    "start_time": "2022-12-13T06:21:53.353Z"
   },
   {
    "duration": 47,
    "start_time": "2022-12-13T06:21:53.403Z"
   },
   {
    "duration": 16,
    "start_time": "2022-12-13T06:21:53.452Z"
   },
   {
    "duration": 49,
    "start_time": "2022-12-13T06:21:53.470Z"
   },
   {
    "duration": 39,
    "start_time": "2022-12-13T06:21:53.521Z"
   },
   {
    "duration": 64,
    "start_time": "2022-12-13T06:21:53.561Z"
   },
   {
    "duration": 4,
    "start_time": "2022-12-13T06:21:53.627Z"
   },
   {
    "duration": 15,
    "start_time": "2022-12-13T06:21:53.632Z"
   },
   {
    "duration": 60,
    "start_time": "2022-12-13T06:21:53.649Z"
   },
   {
    "duration": 60,
    "start_time": "2022-12-13T06:21:53.713Z"
   },
   {
    "duration": 47,
    "start_time": "2022-12-13T06:21:53.775Z"
   },
   {
    "duration": 30,
    "start_time": "2022-12-13T06:21:53.823Z"
   },
   {
    "duration": 8,
    "start_time": "2022-12-13T06:21:53.854Z"
   },
   {
    "duration": 162,
    "start_time": "2022-12-13T06:21:53.864Z"
   },
   {
    "duration": 6,
    "start_time": "2022-12-13T06:21:54.028Z"
   },
   {
    "duration": 16,
    "start_time": "2022-12-13T06:21:54.036Z"
   },
   {
    "duration": 18,
    "start_time": "2022-12-13T06:21:54.053Z"
   },
   {
    "duration": 56,
    "start_time": "2022-12-13T06:21:54.072Z"
   },
   {
    "duration": 70,
    "start_time": "2022-12-13T06:21:54.130Z"
   },
   {
    "duration": 22,
    "start_time": "2022-12-13T06:21:54.202Z"
   },
   {
    "duration": 150,
    "start_time": "2022-12-13T06:21:54.225Z"
   },
   {
    "duration": 37,
    "start_time": "2022-12-13T06:21:54.376Z"
   },
   {
    "duration": 18,
    "start_time": "2022-12-13T06:21:54.415Z"
   },
   {
    "duration": 282,
    "start_time": "2022-12-13T06:21:54.435Z"
   },
   {
    "duration": 18,
    "start_time": "2022-12-13T06:21:54.718Z"
   },
   {
    "duration": 13,
    "start_time": "2022-12-13T06:21:54.738Z"
   },
   {
    "duration": 5,
    "start_time": "2022-12-13T06:21:54.753Z"
   },
   {
    "duration": 181,
    "start_time": "2022-12-13T06:21:54.760Z"
   },
   {
    "duration": 8,
    "start_time": "2022-12-13T06:21:54.942Z"
   },
   {
    "duration": 13,
    "start_time": "2022-12-13T06:21:54.952Z"
   },
   {
    "duration": 5,
    "start_time": "2022-12-13T06:21:54.967Z"
   },
   {
    "duration": 107,
    "start_time": "2022-12-13T06:21:54.973Z"
   },
   {
    "duration": 10,
    "start_time": "2022-12-13T06:21:55.097Z"
   },
   {
    "duration": 9,
    "start_time": "2022-12-13T06:21:55.109Z"
   },
   {
    "duration": 61,
    "start_time": "2022-12-13T06:21:55.120Z"
   },
   {
    "duration": 15,
    "start_time": "2022-12-13T06:21:55.183Z"
   },
   {
    "duration": 14,
    "start_time": "2022-12-13T06:21:55.200Z"
   },
   {
    "duration": 56,
    "start_time": "2022-12-13T06:21:55.216Z"
   },
   {
    "duration": 9,
    "start_time": "2022-12-13T06:21:55.297Z"
   },
   {
    "duration": 15,
    "start_time": "2022-12-13T06:21:55.308Z"
   },
   {
    "duration": 11,
    "start_time": "2022-12-13T06:21:55.325Z"
   },
   {
    "duration": 12,
    "start_time": "2022-12-13T06:21:55.337Z"
   },
   {
    "duration": 224,
    "start_time": "2022-12-13T06:21:55.351Z"
   },
   {
    "duration": 9,
    "start_time": "2022-12-13T06:21:55.576Z"
   },
   {
    "duration": 6,
    "start_time": "2022-12-13T06:21:55.597Z"
   },
   {
    "duration": 7,
    "start_time": "2022-12-13T06:21:55.604Z"
   },
   {
    "duration": 12,
    "start_time": "2022-12-13T06:21:55.613Z"
   },
   {
    "duration": 16,
    "start_time": "2022-12-13T06:21:55.626Z"
   },
   {
    "duration": 9,
    "start_time": "2022-12-13T06:21:55.644Z"
   },
   {
    "duration": 15,
    "start_time": "2022-12-13T06:21:55.655Z"
   },
   {
    "duration": 30,
    "start_time": "2022-12-13T06:21:55.672Z"
   },
   {
    "duration": 9,
    "start_time": "2022-12-13T06:21:55.704Z"
   },
   {
    "duration": 12,
    "start_time": "2022-12-13T06:21:55.714Z"
   },
   {
    "duration": 766,
    "start_time": "2022-12-13T06:21:55.728Z"
   },
   {
    "duration": 24,
    "start_time": "2022-12-13T06:21:56.496Z"
   },
   {
    "duration": 33,
    "start_time": "2022-12-13T06:21:56.522Z"
   },
   {
    "duration": 51,
    "start_time": "2022-12-13T06:21:56.556Z"
   },
   {
    "duration": 30,
    "start_time": "2022-12-13T06:21:56.609Z"
   },
   {
    "duration": 59,
    "start_time": "2022-12-13T06:21:56.641Z"
   },
   {
    "duration": 15,
    "start_time": "2022-12-13T06:21:56.702Z"
   },
   {
    "duration": 54,
    "start_time": "2022-12-13T06:21:56.719Z"
   },
   {
    "duration": 16,
    "start_time": "2022-12-13T06:21:56.775Z"
   },
   {
    "duration": 81,
    "start_time": "2022-12-13T06:21:56.793Z"
   },
   {
    "duration": 44,
    "start_time": "2022-12-13T06:21:56.880Z"
   },
   {
    "duration": 41,
    "start_time": "2022-12-13T06:21:56.925Z"
   },
   {
    "duration": 26,
    "start_time": "2022-12-13T06:21:56.968Z"
   },
   {
    "duration": 34,
    "start_time": "2022-12-13T06:21:56.996Z"
   },
   {
    "duration": 34,
    "start_time": "2022-12-13T06:21:57.032Z"
   },
   {
    "duration": 53,
    "start_time": "2022-12-13T06:21:57.067Z"
   },
   {
    "duration": 31,
    "start_time": "2022-12-13T06:21:57.121Z"
   },
   {
    "duration": 225,
    "start_time": "2022-12-13T06:21:57.154Z"
   },
   {
    "duration": 26,
    "start_time": "2022-12-13T06:21:57.381Z"
   },
   {
    "duration": 393,
    "start_time": "2022-12-13T06:21:57.408Z"
   },
   {
    "duration": 28,
    "start_time": "2022-12-13T06:21:57.802Z"
   },
   {
    "duration": 40,
    "start_time": "2022-12-13T06:21:57.832Z"
   },
   {
    "duration": 48,
    "start_time": "2022-12-13T06:21:57.874Z"
   },
   {
    "duration": 263,
    "start_time": "2022-12-13T06:21:57.924Z"
   },
   {
    "duration": 16,
    "start_time": "2022-12-13T06:21:58.188Z"
   },
   {
    "duration": 37,
    "start_time": "2022-12-13T06:21:58.205Z"
   },
   {
    "duration": 47,
    "start_time": "2022-12-13T06:21:58.244Z"
   },
   {
    "duration": 23,
    "start_time": "2022-12-13T06:21:58.293Z"
   },
   {
    "duration": 88,
    "start_time": "2022-12-13T06:21:58.318Z"
   },
   {
    "duration": 53,
    "start_time": "2022-12-13T06:21:58.407Z"
   },
   {
    "duration": 28,
    "start_time": "2022-12-13T06:21:58.462Z"
   },
   {
    "duration": 93,
    "start_time": "2022-12-13T06:21:58.492Z"
   },
   {
    "duration": 28,
    "start_time": "2022-12-13T06:21:58.586Z"
   },
   {
    "duration": 46,
    "start_time": "2022-12-13T06:21:58.615Z"
   },
   {
    "duration": 96,
    "start_time": "2022-12-13T06:21:58.663Z"
   },
   {
    "duration": 89,
    "start_time": "2022-12-13T06:21:58.761Z"
   },
   {
    "duration": 48,
    "start_time": "2022-12-13T06:21:58.852Z"
   },
   {
    "duration": 57,
    "start_time": "2022-12-13T06:21:58.902Z"
   },
   {
    "duration": 51,
    "start_time": "2022-12-13T06:21:58.961Z"
   },
   {
    "duration": 46,
    "start_time": "2022-12-13T06:21:59.014Z"
   },
   {
    "duration": 131,
    "start_time": "2022-12-13T06:21:59.062Z"
   },
   {
    "duration": 124,
    "start_time": "2022-12-13T06:21:59.196Z"
   },
   {
    "duration": 6,
    "start_time": "2022-12-13T06:21:59.321Z"
   },
   {
    "duration": 57,
    "start_time": "2022-12-13T06:21:59.329Z"
   },
   {
    "duration": 74,
    "start_time": "2022-12-13T06:21:59.388Z"
   },
   {
    "duration": 39,
    "start_time": "2022-12-13T06:21:59.463Z"
   },
   {
    "duration": 8,
    "start_time": "2022-12-13T06:30:37.161Z"
   },
   {
    "duration": 9,
    "start_time": "2022-12-13T06:31:38.627Z"
   },
   {
    "duration": 9,
    "start_time": "2022-12-13T06:32:24.599Z"
   },
   {
    "duration": 1561,
    "start_time": "2023-02-28T08:49:43.469Z"
   },
   {
    "duration": 514,
    "start_time": "2023-02-28T08:49:45.032Z"
   },
   {
    "duration": 7,
    "start_time": "2023-02-28T08:49:45.548Z"
   },
   {
    "duration": 108,
    "start_time": "2023-02-28T08:49:45.557Z"
   },
   {
    "duration": 204,
    "start_time": "2023-02-28T08:49:45.668Z"
   },
   {
    "duration": 17,
    "start_time": "2023-02-28T08:49:45.873Z"
   },
   {
    "duration": 34,
    "start_time": "2023-02-28T08:49:45.893Z"
   },
   {
    "duration": 78,
    "start_time": "2023-02-28T08:49:45.929Z"
   },
   {
    "duration": 32,
    "start_time": "2023-02-28T08:49:46.012Z"
   },
   {
    "duration": 95,
    "start_time": "2023-02-28T08:49:46.046Z"
   },
   {
    "duration": 18,
    "start_time": "2023-02-28T08:49:46.143Z"
   },
   {
    "duration": 3505,
    "start_time": "2023-02-28T08:49:46.169Z"
   },
   {
    "duration": 44,
    "start_time": "2023-02-28T08:49:49.688Z"
   },
   {
    "duration": 635,
    "start_time": "2023-02-28T08:49:49.733Z"
   },
   {
    "duration": 26,
    "start_time": "2023-02-28T08:49:50.380Z"
   },
   {
    "duration": 14,
    "start_time": "2023-02-28T08:49:50.408Z"
   },
   {
    "duration": 22,
    "start_time": "2023-02-28T08:49:50.424Z"
   },
   {
    "duration": 129,
    "start_time": "2023-02-28T08:49:50.451Z"
   },
   {
    "duration": 159,
    "start_time": "2023-02-28T08:49:50.585Z"
   },
   {
    "duration": 99,
    "start_time": "2023-02-28T08:49:50.746Z"
   },
   {
    "duration": 48,
    "start_time": "2023-02-28T08:49:50.847Z"
   },
   {
    "duration": 76,
    "start_time": "2023-02-28T08:49:50.896Z"
   },
   {
    "duration": 69,
    "start_time": "2023-02-28T08:49:50.974Z"
   },
   {
    "duration": 80,
    "start_time": "2023-02-28T08:49:51.045Z"
   },
   {
    "duration": 6,
    "start_time": "2023-02-28T08:49:51.127Z"
   },
   {
    "duration": 18,
    "start_time": "2023-02-28T08:49:51.135Z"
   },
   {
    "duration": 94,
    "start_time": "2023-02-28T08:49:51.155Z"
   },
   {
    "duration": 88,
    "start_time": "2023-02-28T08:49:51.257Z"
   },
   {
    "duration": 59,
    "start_time": "2023-02-28T08:49:51.346Z"
   },
   {
    "duration": 71,
    "start_time": "2023-02-28T08:49:51.407Z"
   },
   {
    "duration": 21,
    "start_time": "2023-02-28T08:49:51.480Z"
   },
   {
    "duration": 211,
    "start_time": "2023-02-28T08:49:51.503Z"
   },
   {
    "duration": 10,
    "start_time": "2023-02-28T08:49:51.716Z"
   },
   {
    "duration": 34,
    "start_time": "2023-02-28T08:49:51.728Z"
   },
   {
    "duration": 32,
    "start_time": "2023-02-28T08:49:51.772Z"
   },
   {
    "duration": 63,
    "start_time": "2023-02-28T08:49:51.811Z"
   },
   {
    "duration": 116,
    "start_time": "2023-02-28T08:49:51.877Z"
   },
   {
    "duration": 42,
    "start_time": "2023-02-28T08:49:52.001Z"
   },
   {
    "duration": 194,
    "start_time": "2023-02-28T08:49:52.044Z"
   },
   {
    "duration": 48,
    "start_time": "2023-02-28T08:49:52.240Z"
   },
   {
    "duration": 46,
    "start_time": "2023-02-28T08:49:52.290Z"
   },
   {
    "duration": 386,
    "start_time": "2023-02-28T08:49:52.338Z"
   },
   {
    "duration": 31,
    "start_time": "2023-02-28T08:49:52.727Z"
   },
   {
    "duration": 56,
    "start_time": "2023-02-28T08:49:52.760Z"
   },
   {
    "duration": 6,
    "start_time": "2023-02-28T08:49:52.818Z"
   },
   {
    "duration": 391,
    "start_time": "2023-02-28T08:49:52.826Z"
   },
   {
    "duration": 8,
    "start_time": "2023-02-28T08:49:53.219Z"
   },
   {
    "duration": 37,
    "start_time": "2023-02-28T08:49:53.229Z"
   },
   {
    "duration": 26,
    "start_time": "2023-02-28T08:49:53.278Z"
   },
   {
    "duration": 179,
    "start_time": "2023-02-28T08:49:53.306Z"
   },
   {
    "duration": 14,
    "start_time": "2023-02-28T08:49:53.486Z"
   },
   {
    "duration": 39,
    "start_time": "2023-02-28T08:49:53.502Z"
   },
   {
    "duration": 192,
    "start_time": "2023-02-28T08:49:53.543Z"
   },
   {
    "duration": 8,
    "start_time": "2023-02-28T08:49:53.737Z"
   },
   {
    "duration": 87,
    "start_time": "2023-02-28T08:49:53.747Z"
   },
   {
    "duration": 91,
    "start_time": "2023-02-28T08:49:53.836Z"
   },
   {
    "duration": 13,
    "start_time": "2023-02-28T08:49:53.930Z"
   },
   {
    "duration": 52,
    "start_time": "2023-02-28T08:49:53.945Z"
   },
   {
    "duration": 33,
    "start_time": "2023-02-28T08:49:53.999Z"
   },
   {
    "duration": 13,
    "start_time": "2023-02-28T08:49:54.034Z"
   },
   {
    "duration": 303,
    "start_time": "2023-02-28T08:49:54.056Z"
   },
   {
    "duration": 13,
    "start_time": "2023-02-28T08:49:54.361Z"
   },
   {
    "duration": 50,
    "start_time": "2023-02-28T08:49:54.375Z"
   },
   {
    "duration": 12,
    "start_time": "2023-02-28T08:49:54.426Z"
   },
   {
    "duration": 26,
    "start_time": "2023-02-28T08:49:54.440Z"
   },
   {
    "duration": 53,
    "start_time": "2023-02-28T08:49:54.468Z"
   },
   {
    "duration": 12,
    "start_time": "2023-02-28T08:49:54.522Z"
   },
   {
    "duration": 28,
    "start_time": "2023-02-28T08:49:54.535Z"
   },
   {
    "duration": 58,
    "start_time": "2023-02-28T08:49:54.564Z"
   },
   {
    "duration": 16,
    "start_time": "2023-02-28T08:49:54.624Z"
   },
   {
    "duration": 49,
    "start_time": "2023-02-28T08:49:54.642Z"
   },
   {
    "duration": 1052,
    "start_time": "2023-02-28T08:49:54.693Z"
   },
   {
    "duration": 68,
    "start_time": "2023-02-28T08:49:55.747Z"
   },
   {
    "duration": 14,
    "start_time": "2023-02-28T08:49:55.817Z"
   },
   {
    "duration": 47,
    "start_time": "2023-02-28T08:49:55.833Z"
   },
   {
    "duration": 40,
    "start_time": "2023-02-28T08:49:55.882Z"
   },
   {
    "duration": 49,
    "start_time": "2023-02-28T08:49:55.923Z"
   },
   {
    "duration": 38,
    "start_time": "2023-02-28T08:49:55.974Z"
   },
   {
    "duration": 16,
    "start_time": "2023-02-28T08:49:56.014Z"
   },
   {
    "duration": 5,
    "start_time": "2023-02-28T08:49:56.032Z"
   },
   {
    "duration": 76,
    "start_time": "2023-02-28T08:49:56.039Z"
   },
   {
    "duration": 76,
    "start_time": "2023-02-28T08:49:56.122Z"
   },
   {
    "duration": 72,
    "start_time": "2023-02-28T08:49:56.207Z"
   },
   {
    "duration": 25,
    "start_time": "2023-02-28T08:49:56.292Z"
   },
   {
    "duration": 13,
    "start_time": "2023-02-28T08:49:56.319Z"
   },
   {
    "duration": 26,
    "start_time": "2023-02-28T08:49:56.333Z"
   },
   {
    "duration": 70,
    "start_time": "2023-02-28T08:49:56.368Z"
   },
   {
    "duration": 6,
    "start_time": "2023-02-28T08:49:56.440Z"
   },
   {
    "duration": 389,
    "start_time": "2023-02-28T08:49:56.448Z"
   },
   {
    "duration": 21,
    "start_time": "2023-02-28T08:49:56.839Z"
   },
   {
    "duration": 676,
    "start_time": "2023-02-28T08:49:56.864Z"
   },
   {
    "duration": 72,
    "start_time": "2023-02-28T08:49:57.542Z"
   },
   {
    "duration": 18,
    "start_time": "2023-02-28T08:49:57.618Z"
   },
   {
    "duration": 27,
    "start_time": "2023-02-28T08:49:57.642Z"
   },
   {
    "duration": 371,
    "start_time": "2023-02-28T08:49:57.673Z"
   },
   {
    "duration": 31,
    "start_time": "2023-02-28T08:49:58.046Z"
   },
   {
    "duration": 41,
    "start_time": "2023-02-28T08:49:58.089Z"
   },
   {
    "duration": 23,
    "start_time": "2023-02-28T08:49:58.132Z"
   },
   {
    "duration": 65,
    "start_time": "2023-02-28T08:49:58.157Z"
   },
   {
    "duration": 51,
    "start_time": "2023-02-28T08:49:58.224Z"
   },
   {
    "duration": 111,
    "start_time": "2023-02-28T08:49:58.277Z"
   },
   {
    "duration": 13,
    "start_time": "2023-02-28T08:49:58.390Z"
   },
   {
    "duration": 89,
    "start_time": "2023-02-28T08:49:58.409Z"
   },
   {
    "duration": 37,
    "start_time": "2023-02-28T08:49:58.500Z"
   },
   {
    "duration": 8,
    "start_time": "2023-02-28T08:49:58.539Z"
   },
   {
    "duration": 74,
    "start_time": "2023-02-28T08:49:58.551Z"
   },
   {
    "duration": 79,
    "start_time": "2023-02-28T08:49:58.627Z"
   },
   {
    "duration": 27,
    "start_time": "2023-02-28T08:49:58.708Z"
   },
   {
    "duration": 9,
    "start_time": "2023-02-28T08:49:58.736Z"
   },
   {
    "duration": 54,
    "start_time": "2023-02-28T08:49:58.746Z"
   },
   {
    "duration": 14,
    "start_time": "2023-02-28T08:49:58.807Z"
   },
   {
    "duration": 53,
    "start_time": "2023-02-28T08:49:58.823Z"
   },
   {
    "duration": 165,
    "start_time": "2023-02-28T08:49:58.878Z"
   },
   {
    "duration": 22,
    "start_time": "2023-02-28T08:49:59.056Z"
   },
   {
    "duration": 35,
    "start_time": "2023-02-28T08:49:59.083Z"
   },
   {
    "duration": 12,
    "start_time": "2023-02-28T08:49:59.121Z"
   },
   {
    "duration": 24,
    "start_time": "2023-02-28T08:49:59.135Z"
   }
  ],
  "kernelspec": {
   "display_name": "Python 3 (ipykernel)",
   "language": "python",
   "name": "python3"
  },
  "language_info": {
   "codemirror_mode": {
    "name": "ipython",
    "version": 3
   },
   "file_extension": ".py",
   "mimetype": "text/x-python",
   "name": "python",
   "nbconvert_exporter": "python",
   "pygments_lexer": "ipython3",
   "version": "3.9.13"
  },
  "toc": {
   "base_numbering": 1,
   "nav_menu": {},
   "number_sections": false,
   "sideBar": false,
   "skip_h1_title": false,
   "title_cell": "Table of Contents",
   "title_sidebar": "Contents",
   "toc_cell": false,
   "toc_position": {
    "height": "773px",
    "left": "68px",
    "top": "111.125px",
    "width": "279px"
   },
   "toc_section_display": false,
   "toc_window_display": true
  },
  "vscode": {
   "interpreter": {
    "hash": "4147809c994a734601c7c1e54c7ace358e0979b97a9137c67979df7b76cf16c0"
   }
  }
 },
 "nbformat": 4,
 "nbformat_minor": 2
}
