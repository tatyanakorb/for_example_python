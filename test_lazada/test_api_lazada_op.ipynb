{
 "cells": [
  {
   "cell_type": "markdown",
   "id": "a980ffef",
   "metadata": {},
   "source": [
    "# Тестовое задание младший аналитик "
   ]
  },
  {
   "cell_type": "markdown",
   "id": "fa0e07fb",
   "metadata": {},
   "source": [
    "# Задание:\n",
    "\n",
    "1. Выполнить подключение к любому API из раздела Shopping https://github.com/public-apis/public-apis#shopping\n",
    "\n",
    "2. Получить данные\n",
    "\n",
    "3. Выполнить базовый анализ данных и сделать общие выводы \n"
   ]
  },
  {
   "cell_type": "markdown",
   "id": "6bde6541",
   "metadata": {},
   "source": [
    "# План работы\n",
    "\n",
    "## Выполнить подключение к любому API из раздела Shopping https://github.com/public-apis/public-apis#shopping\n",
    "\n",
    " Мной была выбрана API Lazada, подключение выполнялось с помощью Lazada Open SDK. Были получены данные из GetCategoryTree (для получения списка всех категорий в системе) и GetCategoryAttributes (чтобы получить список атрибутов для категорий из списка GetCategoryTree). Анализ проводился по ДФ, полученной из данных атрибутов. \n",
    "\n",
    "## Загрузить данные и изучить общую информацию\n",
    "\n",
    "df_categ - датасет, который хранит данные о категориях, которые есть в системе (GetCategoryTree).\n",
    "\n",
    "df - датасет, который содержит атрибуты (GetCategoryAttributes).\n",
    "\n",
    "## Выполнить базовый анализ данных и сделать общие выводы \n",
    "\n",
    "3.1. Изучить общую информацию о датасетах.\n",
    "\n",
    "Провести предобработку - кол-во дубликатов, типы данных, пропуски, размерности.\n",
    "\n",
    "3.2. Анализ данных. \n",
    "\n",
    "Узнать является ли категория конечной и возможно ли ее использовать для создания продуктов.\n",
    "\n",
    "Посмотреть сколько приходится category_id на наименование категорий.\n",
    "\n",
    "Посмотреть кол-во изменяемых атрибутов и соотношение изменяемые / неизменяемые, стандартные / нестандартные.\n",
    "\n",
    "Вычислить соотношение типов атрибутов - normal / sku. \n",
    "\n",
    "Вычислить и визулизировать общее кол-во и кол-во уникальных id по типам значений, которые для него можно ввести (input_type).\n",
    "\n",
    "Посмотреть сколько приходится имен атрибутов на лейбл, на id атрибутов; id атрибутов и label.\n",
    "\n",
    "Посмотреть сколько приходится id атрибутов на id категорий, посмотреть стат. данные, бостроить боксплот.\n",
    "\n",
    "\n",
    "## Вывод\n",
    "\n",
    "\n",
    "\n"
   ]
  },
  {
   "cell_type": "markdown",
   "id": "fdb7a928",
   "metadata": {},
   "source": [
    "# Описание данных\n",
    "\n",
    "df_categ - GetCategoryTree\n",
    "\n",
    "| Field Name  | Field Description| \n",
    "| :---    | :----    | \n",
    "| children    | List of subcategories of the current category ID |\n",
    "| name    | Category Name |\n",
    "| leaf    | Determine if the category is a leaf category, only leaf categories can be used to create products |\n",
    "| category_id    | The ID of the current category, used when creating products or getting category attributes |\n",
    "\n",
    "\n",
    "df - GetCategoryAttributes\n",
    "\n",
    "| Field Name  | Field Description| \n",
    "| :---    | :----    | \n",
    "| is_sale_prop    | If it is 1, it indicates that this attribute is a standard sales/variant attribute |\n",
    "| name    | Attribute name. As an attribute name, it must be in English. As an option name, it may respond to the local language depending on the \"language_code\" of the request. |\n",
    "| input_type    | The type of value that can be entered for this attribute 1: singleselect: single selection does not support customization 2: multiselect: multiselect does not support customization 3: enuminput: single choice supports customization 4: multienuminput: multi selection supports customization 5: text: text can be customized 6: numeric: the value can be customized 7: date: date can be customized 8: richText: rich text can be customized 9: img: pictures can be customized |\n",
    "| options    | Available options for enumerating attributes of type |\n",
    "| is_mandatory    | If it is 1, it means that this attribute is required |\n",
    "| attribute_type    | If the value is \"normal\", this attribute should be filled in the \"Attribute\" field when creating or updating the product. If the value is \"sku\", this attribute should be filled in the \"Sku\" field when creating or updating the product.|\n",
    "| label    | Name of the field displayed in the seller center (this field cannot be used when creating or updating) |\n",
    "| id    | attribute id |"
   ]
  },
  {
   "cell_type": "markdown",
   "id": "35df89a2",
   "metadata": {},
   "source": [
    "# Использованные библиотеки\n",
    "\n",
    " pandas \n",
    " \n",
    " numpy \n",
    " \n",
    " lazop_sdk \n",
    " \n",
    " numpy \n",
    " \n",
    " matplotlib.pyplot \n",
    " \n",
    " seaborn "
   ]
  },
  {
   "cell_type": "code",
   "execution_count": null,
   "id": "ca7451c1",
   "metadata": {},
   "outputs": [],
   "source": []
  }
 ],
 "metadata": {
  "kernelspec": {
   "display_name": "Python 3 (ipykernel)",
   "language": "python",
   "name": "python3"
  },
  "language_info": {
   "codemirror_mode": {
    "name": "ipython",
    "version": 3
   },
   "file_extension": ".py",
   "mimetype": "text/x-python",
   "name": "python",
   "nbconvert_exporter": "python",
   "pygments_lexer": "ipython3",
   "version": "3.9.5"
  },
  "toc": {
   "base_numbering": 1,
   "nav_menu": {},
   "number_sections": true,
   "sideBar": true,
   "skip_h1_title": true,
   "title_cell": "Table of Contents",
   "title_sidebar": "Contents",
   "toc_cell": false,
   "toc_position": {},
   "toc_section_display": true,
   "toc_window_display": false
  }
 },
 "nbformat": 4,
 "nbformat_minor": 5
}
