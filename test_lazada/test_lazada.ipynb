{
 "cells": [
  {
   "cell_type": "code",
   "execution_count": 1,
   "metadata": {},
   "outputs": [],
   "source": [
    "#import requests\n",
    "import pandas as pd \n",
    "import numpy as np\n",
    "import lazop_sdk as lazop\n",
    "import numpy as np\n",
    "import matplotlib.pyplot as plt\n",
    "import seaborn as sns"
   ]
  },
  {
   "cell_type": "markdown",
   "metadata": {},
   "source": [
    "!pip install lazop-sdk"
   ]
  },
  {
   "cell_type": "markdown",
   "metadata": {},
   "source": [
    "## Подключение к API Lazada"
   ]
  },
  {
   "cell_type": "code",
   "execution_count": 2,
   "metadata": {},
   "outputs": [],
   "source": [
    "appSecret = ''\n",
    "appkey = ''\n",
    "url = 'https://api.lazada.sg/rest'\n",
    "# access_token = '50000200a15NOd9iBOXQThf6iYD179edf45ppETweAfbSAsrXcGHJm2jvVeu7fUs'"
   ]
  },
  {
   "cell_type": "code",
   "execution_count": 3,
   "metadata": {},
   "outputs": [
    {
     "name": "stdout",
     "output_type": "stream",
     "text": [
      "None\n"
     ]
    }
   ],
   "source": [
    "client = lazop.LazopClient(url, appkey ,appSecret)\n",
    "request = lazop.LazopRequest('/category/tree/get','GET')\n",
    "request.add_api_param('language_code', 'en_US')\n",
    "response = client.execute(request)\n",
    "print(response.type)\n",
    "dict_laz = response.body"
   ]
  },
  {
   "cell_type": "code",
   "execution_count": 4,
   "metadata": {},
   "outputs": [],
   "source": [
    "dict_1 = dict_laz.pop('data') \n"
   ]
  },
  {
   "cell_type": "markdown",
   "metadata": {},
   "source": [
    "## Загрузить данные и изучить общую информацию"
   ]
  },
  {
   "cell_type": "markdown",
   "metadata": {},
   "source": [
    "| Field Name  | Field Description| \n",
    "| :---    | :----    | \n",
    "| children    | List of subcategories of the current category ID |\n",
    "| name    | Category Name |\n",
    "| leaf    | Determine if the category is a leaf category, only leaf categories can be used to create products |\n",
    "| category_id    | The ID of the current category, used when creating products or getting category attributes |\n",
    "\n"
   ]
  },
  {
   "cell_type": "markdown",
   "metadata": {},
   "source": [
    "Данные имеют вид вложенных словарей и списков словарей, поэтому для начала стоит извлечь из них данные и загрузить все в ДФ. Всего уровней подкатегорий 6."
   ]
  },
  {
   "cell_type": "code",
   "execution_count": 5,
   "metadata": {},
   "outputs": [],
   "source": [
    "def dict_open(new_dict, ff, dict_1, dict_key):\n",
    "    \n",
    "    for i in range(len(dict_1)):\n",
    "        for j in list(dict_1[i].keys()):\n",
    "            \n",
    "            if j == dict_key:\n",
    "                \n",
    "                ff.append(dict_1[i][j])\n",
    "                \n",
    "        new_dict.append({key:dict_1[i][key] for key in dict_1[i] if key != dict_key})\n",
    "        \n",
    "    return [ff, new_dict] "
   ]
  },
  {
   "cell_type": "code",
   "execution_count": 6,
   "metadata": {},
   "outputs": [],
   "source": [
    "def dict_open_1(new_dict, ff, dict_1, dict_key):\n",
    "    \n",
    "    for i in range(len(dict_1)):\n",
    "        for k in range(len(dict_1[i])):\n",
    "            for j in list(dict_1[i][k].keys()):\n",
    "                \n",
    "                if j == dict_key:\n",
    "                    \n",
    "                    ff.append(dict_1[i][k][j])\n",
    "                    \n",
    "            new_dict.append({key:dict_1[i][k][key] for key in dict_1[i][k] if key != dict_key})\n",
    "            \n",
    "    return [ff, new_dict]"
   ]
  },
  {
   "cell_type": "code",
   "execution_count": 7,
   "metadata": {},
   "outputs": [],
   "source": [
    "ff_1, new_dict_1 = dict_open([], [], dict_1, 'children')"
   ]
  },
  {
   "cell_type": "code",
   "execution_count": 8,
   "metadata": {},
   "outputs": [],
   "source": [
    "while ff_1 != []:\n",
    "    ff_1, new_dict_1 = dict_open_1(new_dict_1, [], ff_1, 'children')"
   ]
  },
  {
   "cell_type": "code",
   "execution_count": 9,
   "metadata": {},
   "outputs": [
    {
     "data": {
      "text/plain": [
       "5212"
      ]
     },
     "execution_count": 9,
     "metadata": {},
     "output_type": "execute_result"
    }
   ],
   "source": [
    "len(new_dict_1)"
   ]
  },
  {
   "cell_type": "code",
   "execution_count": 10,
   "metadata": {},
   "outputs": [
    {
     "data": {
      "text/plain": [
       "0"
      ]
     },
     "execution_count": 10,
     "metadata": {},
     "output_type": "execute_result"
    }
   ],
   "source": [
    "len(ff_1)"
   ]
  },
  {
   "cell_type": "code",
   "execution_count": 11,
   "metadata": {},
   "outputs": [],
   "source": [
    "df_categ = pd.DataFrame(columns=['var', 'name', 'leaf', 'category_id'])\n",
    "\n",
    "for i in range(len(new_dict_1)):\n",
    "    df_categ = df_categ.append(new_dict_1[i], ignore_index=True)"
   ]
  },
  {
   "cell_type": "code",
   "execution_count": 12,
   "metadata": {},
   "outputs": [],
   "source": [
    "df_categ = df_categ.sort_values(by='category_id').reset_index(drop=True)"
   ]
  },
  {
   "cell_type": "code",
   "execution_count": 13,
   "metadata": {},
   "outputs": [
    {
     "data": {
      "text/html": [
       "<div>\n",
       "<style scoped>\n",
       "    .dataframe tbody tr th:only-of-type {\n",
       "        vertical-align: middle;\n",
       "    }\n",
       "\n",
       "    .dataframe tbody tr th {\n",
       "        vertical-align: top;\n",
       "    }\n",
       "\n",
       "    .dataframe thead th {\n",
       "        text-align: right;\n",
       "    }\n",
       "</style>\n",
       "<table border=\"1\" class=\"dataframe\">\n",
       "  <thead>\n",
       "    <tr style=\"text-align: right;\">\n",
       "      <th></th>\n",
       "      <th>var</th>\n",
       "      <th>name</th>\n",
       "      <th>leaf</th>\n",
       "      <th>category_id</th>\n",
       "    </tr>\n",
       "  </thead>\n",
       "  <tbody>\n",
       "    <tr>\n",
       "      <th>0</th>\n",
       "      <td>False</td>\n",
       "      <td>Mobiles &amp; Tablets</td>\n",
       "      <td>False</td>\n",
       "      <td>2</td>\n",
       "    </tr>\n",
       "    <tr>\n",
       "      <th>1</th>\n",
       "      <td>False</td>\n",
       "      <td>Smartphones</td>\n",
       "      <td>True</td>\n",
       "      <td>3</td>\n",
       "    </tr>\n",
       "    <tr>\n",
       "      <th>2</th>\n",
       "      <td>False</td>\n",
       "      <td>Tablets</td>\n",
       "      <td>True</td>\n",
       "      <td>7</td>\n",
       "    </tr>\n",
       "    <tr>\n",
       "      <th>3</th>\n",
       "      <td>False</td>\n",
       "      <td>Landline Phones</td>\n",
       "      <td>True</td>\n",
       "      <td>49</td>\n",
       "    </tr>\n",
       "    <tr>\n",
       "      <th>4</th>\n",
       "      <td>False</td>\n",
       "      <td>Computers &amp; Laptops</td>\n",
       "      <td>False</td>\n",
       "      <td>54</td>\n",
       "    </tr>\n",
       "  </tbody>\n",
       "</table>\n",
       "</div>"
      ],
      "text/plain": [
       "     var                 name   leaf category_id\n",
       "0  False    Mobiles & Tablets  False           2\n",
       "1  False          Smartphones   True           3\n",
       "2  False              Tablets   True           7\n",
       "3  False      Landline Phones   True          49\n",
       "4  False  Computers & Laptops  False          54"
      ]
     },
     "execution_count": 13,
     "metadata": {},
     "output_type": "execute_result"
    }
   ],
   "source": [
    "df_categ.head()"
   ]
  },
  {
   "cell_type": "code",
   "execution_count": 14,
   "metadata": {},
   "outputs": [],
   "source": [
    "df_categ['name'] = df_categ['name'].str.lower()"
   ]
  },
  {
   "cell_type": "markdown",
   "metadata": {},
   "source": [
    "Дальнейший анализ для атрибутов буду проводить не для всех категорий, а для тех, которые имеют в своем составе несколько category_id. Но чтобы передать для дальнейшей работы чистые данные, то для начала проведу крвткиц анализ для df_categ - посмотрю дубликаты, пропуски, проверю типы данных."
   ]
  },
  {
   "cell_type": "code",
   "execution_count": 15,
   "metadata": {},
   "outputs": [],
   "source": [
    "def data_fr(df):\n",
    "    display(df.head(10))\n",
    "    print(2 * \"\\n\")\n",
    "    display(df.info())\n",
    "    print(2 * \"\\n\")\n",
    "    display(df.describe().T)\n",
    "    print(2 * \"\\n\")\n",
    "    print('Кол-во нулей:')\n",
    "    display(df.isnull().sum())\n",
    "    print(2 * \"\\n\")\n",
    "    print(f'Кол-во дубликатов: {df.duplicated().sum()}')"
   ]
  },
  {
   "cell_type": "code",
   "execution_count": 16,
   "metadata": {},
   "outputs": [
    {
     "data": {
      "text/html": [
       "<div>\n",
       "<style scoped>\n",
       "    .dataframe tbody tr th:only-of-type {\n",
       "        vertical-align: middle;\n",
       "    }\n",
       "\n",
       "    .dataframe tbody tr th {\n",
       "        vertical-align: top;\n",
       "    }\n",
       "\n",
       "    .dataframe thead th {\n",
       "        text-align: right;\n",
       "    }\n",
       "</style>\n",
       "<table border=\"1\" class=\"dataframe\">\n",
       "  <thead>\n",
       "    <tr style=\"text-align: right;\">\n",
       "      <th></th>\n",
       "      <th>var</th>\n",
       "      <th>name</th>\n",
       "      <th>leaf</th>\n",
       "      <th>category_id</th>\n",
       "    </tr>\n",
       "  </thead>\n",
       "  <tbody>\n",
       "    <tr>\n",
       "      <th>0</th>\n",
       "      <td>False</td>\n",
       "      <td>mobiles &amp; tablets</td>\n",
       "      <td>False</td>\n",
       "      <td>2</td>\n",
       "    </tr>\n",
       "    <tr>\n",
       "      <th>1</th>\n",
       "      <td>False</td>\n",
       "      <td>smartphones</td>\n",
       "      <td>True</td>\n",
       "      <td>3</td>\n",
       "    </tr>\n",
       "    <tr>\n",
       "      <th>2</th>\n",
       "      <td>False</td>\n",
       "      <td>tablets</td>\n",
       "      <td>True</td>\n",
       "      <td>7</td>\n",
       "    </tr>\n",
       "    <tr>\n",
       "      <th>3</th>\n",
       "      <td>False</td>\n",
       "      <td>landline phones</td>\n",
       "      <td>True</td>\n",
       "      <td>49</td>\n",
       "    </tr>\n",
       "    <tr>\n",
       "      <th>4</th>\n",
       "      <td>False</td>\n",
       "      <td>computers &amp; laptops</td>\n",
       "      <td>False</td>\n",
       "      <td>54</td>\n",
       "    </tr>\n",
       "    <tr>\n",
       "      <th>5</th>\n",
       "      <td>False</td>\n",
       "      <td>laptops</td>\n",
       "      <td>False</td>\n",
       "      <td>55</td>\n",
       "    </tr>\n",
       "    <tr>\n",
       "      <th>6</th>\n",
       "      <td>False</td>\n",
       "      <td>traditional laptops</td>\n",
       "      <td>True</td>\n",
       "      <td>57</td>\n",
       "    </tr>\n",
       "    <tr>\n",
       "      <th>7</th>\n",
       "      <td>False</td>\n",
       "      <td>gaming laptops</td>\n",
       "      <td>True</td>\n",
       "      <td>58</td>\n",
       "    </tr>\n",
       "    <tr>\n",
       "      <th>8</th>\n",
       "      <td>False</td>\n",
       "      <td>desktops computers</td>\n",
       "      <td>False</td>\n",
       "      <td>61</td>\n",
       "    </tr>\n",
       "    <tr>\n",
       "      <th>9</th>\n",
       "      <td>False</td>\n",
       "      <td>computer accessories</td>\n",
       "      <td>False</td>\n",
       "      <td>78</td>\n",
       "    </tr>\n",
       "  </tbody>\n",
       "</table>\n",
       "</div>"
      ],
      "text/plain": [
       "     var                  name   leaf category_id\n",
       "0  False     mobiles & tablets  False           2\n",
       "1  False           smartphones   True           3\n",
       "2  False               tablets   True           7\n",
       "3  False       landline phones   True          49\n",
       "4  False   computers & laptops  False          54\n",
       "5  False               laptops  False          55\n",
       "6  False   traditional laptops   True          57\n",
       "7  False        gaming laptops   True          58\n",
       "8  False    desktops computers  False          61\n",
       "9  False  computer accessories  False          78"
      ]
     },
     "metadata": {},
     "output_type": "display_data"
    },
    {
     "name": "stdout",
     "output_type": "stream",
     "text": [
      "\n",
      "\n",
      "\n",
      "<class 'pandas.core.frame.DataFrame'>\n",
      "RangeIndex: 5212 entries, 0 to 5211\n",
      "Data columns (total 4 columns):\n",
      " #   Column       Non-Null Count  Dtype \n",
      "---  ------       --------------  ----- \n",
      " 0   var          5212 non-null   object\n",
      " 1   name         5212 non-null   object\n",
      " 2   leaf         5212 non-null   object\n",
      " 3   category_id  5212 non-null   object\n",
      "dtypes: object(4)\n",
      "memory usage: 163.0+ KB\n"
     ]
    },
    {
     "data": {
      "text/plain": [
       "None"
      ]
     },
     "metadata": {},
     "output_type": "display_data"
    },
    {
     "name": "stdout",
     "output_type": "stream",
     "text": [
      "\n",
      "\n",
      "\n"
     ]
    },
    {
     "data": {
      "text/html": [
       "<div>\n",
       "<style scoped>\n",
       "    .dataframe tbody tr th:only-of-type {\n",
       "        vertical-align: middle;\n",
       "    }\n",
       "\n",
       "    .dataframe tbody tr th {\n",
       "        vertical-align: top;\n",
       "    }\n",
       "\n",
       "    .dataframe thead th {\n",
       "        text-align: right;\n",
       "    }\n",
       "</style>\n",
       "<table border=\"1\" class=\"dataframe\">\n",
       "  <thead>\n",
       "    <tr style=\"text-align: right;\">\n",
       "      <th></th>\n",
       "      <th>count</th>\n",
       "      <th>unique</th>\n",
       "      <th>top</th>\n",
       "      <th>freq</th>\n",
       "    </tr>\n",
       "  </thead>\n",
       "  <tbody>\n",
       "    <tr>\n",
       "      <th>var</th>\n",
       "      <td>5212</td>\n",
       "      <td>2</td>\n",
       "      <td>False</td>\n",
       "      <td>4995</td>\n",
       "    </tr>\n",
       "    <tr>\n",
       "      <th>name</th>\n",
       "      <td>5212</td>\n",
       "      <td>4361</td>\n",
       "      <td>accessories</td>\n",
       "      <td>31</td>\n",
       "    </tr>\n",
       "    <tr>\n",
       "      <th>leaf</th>\n",
       "      <td>5212</td>\n",
       "      <td>2</td>\n",
       "      <td>True</td>\n",
       "      <td>4458</td>\n",
       "    </tr>\n",
       "    <tr>\n",
       "      <th>category_id</th>\n",
       "      <td>5212</td>\n",
       "      <td>5212</td>\n",
       "      <td>10100736</td>\n",
       "      <td>1</td>\n",
       "    </tr>\n",
       "  </tbody>\n",
       "</table>\n",
       "</div>"
      ],
      "text/plain": [
       "            count unique          top  freq\n",
       "var          5212      2        False  4995\n",
       "name         5212   4361  accessories    31\n",
       "leaf         5212      2         True  4458\n",
       "category_id  5212   5212     10100736     1"
      ]
     },
     "metadata": {},
     "output_type": "display_data"
    },
    {
     "name": "stdout",
     "output_type": "stream",
     "text": [
      "\n",
      "\n",
      "\n",
      "Кол-во нулей:\n"
     ]
    },
    {
     "data": {
      "text/plain": [
       "var            0\n",
       "name           0\n",
       "leaf           0\n",
       "category_id    0\n",
       "dtype: int64"
      ]
     },
     "metadata": {},
     "output_type": "display_data"
    },
    {
     "name": "stdout",
     "output_type": "stream",
     "text": [
      "\n",
      "\n",
      "\n",
      "Кол-во дубликатов: 0\n"
     ]
    }
   ],
   "source": [
    "data_fr(df_categ)"
   ]
  },
  {
   "cell_type": "markdown",
   "metadata": {},
   "source": [
    "Всего получено 5212 категорий, из них самые многочисленные - accessories (31 category_id). Чаще всего категории являются конечными категориями и пригодны для добавления продуктов. Все category_id уникальны.\n",
    "\n",
    "Данные чистые, пропусков и дубликатов нет, тип данных подходит для обработки."
   ]
  },
  {
   "cell_type": "code",
   "execution_count": 17,
   "metadata": {},
   "outputs": [],
   "source": [
    "categories_name = list(df_categ.groupby('name')['category_id'].nunique().sort_values(ascending=False)[lambda x: x>1].index)"
   ]
  },
  {
   "cell_type": "code",
   "execution_count": 18,
   "metadata": {},
   "outputs": [
    {
     "data": {
      "text/plain": [
       "1301"
      ]
     },
     "execution_count": 18,
     "metadata": {},
     "output_type": "execute_result"
    }
   ],
   "source": [
    "categories = list(df_categ.query('name == @categories_name')['category_id'])\n",
    "len(categories)"
   ]
  },
  {
   "cell_type": "markdown",
   "metadata": {},
   "source": [
    "Далее сделаю запрос GetCategoryAttributes для выбранных category_id из categories, сохраню все в df и в файл 'top_categ_2023.csv', чтобы каждый раз не выполнять запросы. "
   ]
  },
  {
   "cell_type": "code",
   "execution_count": 19,
   "metadata": {},
   "outputs": [],
   "source": [
    "appSecret = 'xxx'\n",
    "appkey = 'xxx'\n",
    "url = 'https://api.lazada.sg/rest'\n",
    "access_token = '50000200335beFqacuQDuhimSZnrZddFvciybsPjYiFUePV13ae35cdVEI8brSJu'"
   ]
  },
  {
   "cell_type": "code",
   "execution_count": 20,
   "metadata": {},
   "outputs": [],
   "source": [
    "df = pd.DataFrame()\n",
    "\n",
    "\n",
    "#for j in accessories:\n",
    "for j in categories:    \n",
    "\n",
    "    client = lazop.LazopClient(url, appkey ,appSecret)\n",
    "    request = lazop.LazopRequest('/category/attributes/get','GET')\n",
    "    request.add_api_param('primary_category_id', j)\n",
    "    request.add_api_param('language_code', 'en_US')\n",
    "    response = client.execute(request)\n",
    "    response.type\n",
    "    laz = response.body\n",
    "\n",
    "    if response.type == None:\n",
    "        \n",
    "        dict_item = laz.pop('data')\n",
    "        ff_2, dict_items = dict_open([], [], dict_item, 'advanced')\n",
    "\n",
    "        \n",
    "        for i in range(len(dict_items)):\n",
    "            \n",
    "            dict_items[i]['category_id'] = j\n",
    "            df = df.append(dict_items[i], ignore_index=True)\n"
   ]
  },
  {
   "cell_type": "markdown",
   "metadata": {},
   "source": [
    "df.to_csv('top_categ_2023.csv', index=False) "
   ]
  },
  {
   "cell_type": "markdown",
   "metadata": {},
   "source": [
    "## Выполнить базовый анализ данных и сделать общие выводы \n",
    "\n",
    "<b> 3.1. Изучить общую информацию о датасетах.\n",
    "\n",
    "Провести предобработку - кол-во дубликатов, типы данных, пропуски, размерности.</b> "
   ]
  },
  {
   "cell_type": "code",
   "execution_count": 21,
   "metadata": {},
   "outputs": [],
   "source": [
    "df = pd.read_csv('top_categ_2023.csv')"
   ]
  },
  {
   "cell_type": "markdown",
   "metadata": {},
   "source": [
    "Для дальнейшего удобства, добавлю к df еще имена категорий из df_categ."
   ]
  },
  {
   "cell_type": "code",
   "execution_count": 22,
   "metadata": {},
   "outputs": [
    {
     "data": {
      "text/html": [
       "<div>\n",
       "<style scoped>\n",
       "    .dataframe tbody tr th:only-of-type {\n",
       "        vertical-align: middle;\n",
       "    }\n",
       "\n",
       "    .dataframe tbody tr th {\n",
       "        vertical-align: top;\n",
       "    }\n",
       "\n",
       "    .dataframe thead th {\n",
       "        text-align: right;\n",
       "    }\n",
       "</style>\n",
       "<table border=\"1\" class=\"dataframe\">\n",
       "  <thead>\n",
       "    <tr style=\"text-align: right;\">\n",
       "      <th></th>\n",
       "      <th>attribute_type</th>\n",
       "      <th>category_id</th>\n",
       "      <th>id</th>\n",
       "      <th>input_type</th>\n",
       "      <th>is_mandatory</th>\n",
       "      <th>is_sale_prop</th>\n",
       "      <th>label</th>\n",
       "      <th>name</th>\n",
       "      <th>options</th>\n",
       "    </tr>\n",
       "  </thead>\n",
       "  <tbody>\n",
       "    <tr>\n",
       "      <th>0</th>\n",
       "      <td>normal</td>\n",
       "      <td>7.0</td>\n",
       "      <td>1.0</td>\n",
       "      <td>text</td>\n",
       "      <td>1.0</td>\n",
       "      <td>0.0</td>\n",
       "      <td>Name</td>\n",
       "      <td>name</td>\n",
       "      <td>NaN</td>\n",
       "    </tr>\n",
       "    <tr>\n",
       "      <th>1</th>\n",
       "      <td>normal</td>\n",
       "      <td>7.0</td>\n",
       "      <td>4.0</td>\n",
       "      <td>richText</td>\n",
       "      <td>0.0</td>\n",
       "      <td>0.0</td>\n",
       "      <td>Long Description (Lorikeet)</td>\n",
       "      <td>description</td>\n",
       "      <td>NaN</td>\n",
       "    </tr>\n",
       "    <tr>\n",
       "      <th>2</th>\n",
       "      <td>normal</td>\n",
       "      <td>7.0</td>\n",
       "      <td>5.0</td>\n",
       "      <td>text</td>\n",
       "      <td>0.0</td>\n",
       "      <td>0.0</td>\n",
       "      <td>Video URL</td>\n",
       "      <td>video</td>\n",
       "      <td>NaN</td>\n",
       "    </tr>\n",
       "    <tr>\n",
       "      <th>3</th>\n",
       "      <td>normal</td>\n",
       "      <td>7.0</td>\n",
       "      <td>30849.0</td>\n",
       "      <td>singleSelect</td>\n",
       "      <td>0.0</td>\n",
       "      <td>0.0</td>\n",
       "      <td>Expandable Memory</td>\n",
       "      <td>expandable_memory</td>\n",
       "      <td>[{'name': 'Yes', 'en_name': 'Yes', 'id': 2110}...</td>\n",
       "    </tr>\n",
       "    <tr>\n",
       "      <th>4</th>\n",
       "      <td>normal</td>\n",
       "      <td>7.0</td>\n",
       "      <td>30850.0</td>\n",
       "      <td>singleSelect</td>\n",
       "      <td>0.0</td>\n",
       "      <td>0.0</td>\n",
       "      <td>Cellular</td>\n",
       "      <td>tablet_cellular</td>\n",
       "      <td>[{'name': 'Yes', 'en_name': 'Yes', 'id': 2110}...</td>\n",
       "    </tr>\n",
       "  </tbody>\n",
       "</table>\n",
       "</div>"
      ],
      "text/plain": [
       "  attribute_type  category_id       id    input_type  is_mandatory  \\\n",
       "0         normal          7.0      1.0          text           1.0   \n",
       "1         normal          7.0      4.0      richText           0.0   \n",
       "2         normal          7.0      5.0          text           0.0   \n",
       "3         normal          7.0  30849.0  singleSelect           0.0   \n",
       "4         normal          7.0  30850.0  singleSelect           0.0   \n",
       "\n",
       "   is_sale_prop                        label               name  \\\n",
       "0           0.0                         Name               name   \n",
       "1           0.0  Long Description (Lorikeet)        description   \n",
       "2           0.0                    Video URL              video   \n",
       "3           0.0            Expandable Memory  expandable_memory   \n",
       "4           0.0                     Cellular    tablet_cellular   \n",
       "\n",
       "                                             options  \n",
       "0                                                NaN  \n",
       "1                                                NaN  \n",
       "2                                                NaN  \n",
       "3  [{'name': 'Yes', 'en_name': 'Yes', 'id': 2110}...  \n",
       "4  [{'name': 'Yes', 'en_name': 'Yes', 'id': 2110}...  "
      ]
     },
     "execution_count": 22,
     "metadata": {},
     "output_type": "execute_result"
    }
   ],
   "source": [
    "df.head()"
   ]
  },
  {
   "cell_type": "code",
   "execution_count": 23,
   "metadata": {},
   "outputs": [],
   "source": [
    "df = df.merge(df_categ[['name','category_id']], on='category_id', suffixes=('_attribute', '_category'))"
   ]
  },
  {
   "cell_type": "markdown",
   "metadata": {},
   "source": [
    "Переведу некоторые столбцы к нижнему регистру, чтобы не пропустить дубли."
   ]
  },
  {
   "cell_type": "code",
   "execution_count": 24,
   "metadata": {},
   "outputs": [
    {
     "data": {
      "text/html": [
       "<div>\n",
       "<style scoped>\n",
       "    .dataframe tbody tr th:only-of-type {\n",
       "        vertical-align: middle;\n",
       "    }\n",
       "\n",
       "    .dataframe tbody tr th {\n",
       "        vertical-align: top;\n",
       "    }\n",
       "\n",
       "    .dataframe thead th {\n",
       "        text-align: right;\n",
       "    }\n",
       "</style>\n",
       "<table border=\"1\" class=\"dataframe\">\n",
       "  <thead>\n",
       "    <tr style=\"text-align: right;\">\n",
       "      <th></th>\n",
       "      <th>attribute_type</th>\n",
       "      <th>category_id</th>\n",
       "      <th>id</th>\n",
       "      <th>input_type</th>\n",
       "      <th>is_mandatory</th>\n",
       "      <th>is_sale_prop</th>\n",
       "      <th>label</th>\n",
       "      <th>name_attribute</th>\n",
       "      <th>options</th>\n",
       "      <th>name_category</th>\n",
       "    </tr>\n",
       "  </thead>\n",
       "  <tbody>\n",
       "    <tr>\n",
       "      <th>0</th>\n",
       "      <td>normal</td>\n",
       "      <td>7.0</td>\n",
       "      <td>1.0</td>\n",
       "      <td>text</td>\n",
       "      <td>1.0</td>\n",
       "      <td>0.0</td>\n",
       "      <td>Name</td>\n",
       "      <td>name</td>\n",
       "      <td>NaN</td>\n",
       "      <td>tablets</td>\n",
       "    </tr>\n",
       "    <tr>\n",
       "      <th>1</th>\n",
       "      <td>normal</td>\n",
       "      <td>7.0</td>\n",
       "      <td>4.0</td>\n",
       "      <td>richText</td>\n",
       "      <td>0.0</td>\n",
       "      <td>0.0</td>\n",
       "      <td>Long Description (Lorikeet)</td>\n",
       "      <td>description</td>\n",
       "      <td>NaN</td>\n",
       "      <td>tablets</td>\n",
       "    </tr>\n",
       "    <tr>\n",
       "      <th>2</th>\n",
       "      <td>normal</td>\n",
       "      <td>7.0</td>\n",
       "      <td>5.0</td>\n",
       "      <td>text</td>\n",
       "      <td>0.0</td>\n",
       "      <td>0.0</td>\n",
       "      <td>Video URL</td>\n",
       "      <td>video</td>\n",
       "      <td>NaN</td>\n",
       "      <td>tablets</td>\n",
       "    </tr>\n",
       "    <tr>\n",
       "      <th>3</th>\n",
       "      <td>normal</td>\n",
       "      <td>7.0</td>\n",
       "      <td>30849.0</td>\n",
       "      <td>singleSelect</td>\n",
       "      <td>0.0</td>\n",
       "      <td>0.0</td>\n",
       "      <td>Expandable Memory</td>\n",
       "      <td>expandable_memory</td>\n",
       "      <td>[{'name': 'Yes', 'en_name': 'Yes', 'id': 2110}...</td>\n",
       "      <td>tablets</td>\n",
       "    </tr>\n",
       "    <tr>\n",
       "      <th>4</th>\n",
       "      <td>normal</td>\n",
       "      <td>7.0</td>\n",
       "      <td>30850.0</td>\n",
       "      <td>singleSelect</td>\n",
       "      <td>0.0</td>\n",
       "      <td>0.0</td>\n",
       "      <td>Cellular</td>\n",
       "      <td>tablet_cellular</td>\n",
       "      <td>[{'name': 'Yes', 'en_name': 'Yes', 'id': 2110}...</td>\n",
       "      <td>tablets</td>\n",
       "    </tr>\n",
       "    <tr>\n",
       "      <th>5</th>\n",
       "      <td>normal</td>\n",
       "      <td>7.0</td>\n",
       "      <td>30851.0</td>\n",
       "      <td>enumInput</td>\n",
       "      <td>0.0</td>\n",
       "      <td>0.0</td>\n",
       "      <td>Screen Size (inches)</td>\n",
       "      <td>display_size_tablet</td>\n",
       "      <td>NaN</td>\n",
       "      <td>tablets</td>\n",
       "    </tr>\n",
       "    <tr>\n",
       "      <th>6</th>\n",
       "      <td>normal</td>\n",
       "      <td>7.0</td>\n",
       "      <td>120013475.0</td>\n",
       "      <td>enumInput</td>\n",
       "      <td>0.0</td>\n",
       "      <td>0.0</td>\n",
       "      <td>Plug Type</td>\n",
       "      <td>Plug_Type</td>\n",
       "      <td>[{'name': 'Universal', 'en_name': 'Universal',...</td>\n",
       "      <td>tablets</td>\n",
       "    </tr>\n",
       "    <tr>\n",
       "      <th>7</th>\n",
       "      <td>normal</td>\n",
       "      <td>7.0</td>\n",
       "      <td>7.0</td>\n",
       "      <td>singleSelect</td>\n",
       "      <td>1.0</td>\n",
       "      <td>0.0</td>\n",
       "      <td>Warranty Type</td>\n",
       "      <td>warranty_type</td>\n",
       "      <td>[{'name': 'International Manufacturer Warranty...</td>\n",
       "      <td>tablets</td>\n",
       "    </tr>\n",
       "    <tr>\n",
       "      <th>8</th>\n",
       "      <td>normal</td>\n",
       "      <td>7.0</td>\n",
       "      <td>8.0</td>\n",
       "      <td>enumInput</td>\n",
       "      <td>0.0</td>\n",
       "      <td>0.0</td>\n",
       "      <td>Warranty</td>\n",
       "      <td>warranty</td>\n",
       "      <td>[{'name': '10 Years', 'en_name': '10 Years', '...</td>\n",
       "      <td>tablets</td>\n",
       "    </tr>\n",
       "    <tr>\n",
       "      <th>9</th>\n",
       "      <td>normal</td>\n",
       "      <td>7.0</td>\n",
       "      <td>30990.0</td>\n",
       "      <td>enumInput</td>\n",
       "      <td>0.0</td>\n",
       "      <td>0.0</td>\n",
       "      <td>Camera Front (Megapixels)</td>\n",
       "      <td>camera_front</td>\n",
       "      <td>[{'name': '5 to 7.9 MP', 'en_name': '5 to 7.9 ...</td>\n",
       "      <td>tablets</td>\n",
       "    </tr>\n",
       "  </tbody>\n",
       "</table>\n",
       "</div>"
      ],
      "text/plain": [
       "  attribute_type category_id           id    input_type  is_mandatory  \\\n",
       "0         normal         7.0          1.0          text           1.0   \n",
       "1         normal         7.0          4.0      richText           0.0   \n",
       "2         normal         7.0          5.0          text           0.0   \n",
       "3         normal         7.0      30849.0  singleSelect           0.0   \n",
       "4         normal         7.0      30850.0  singleSelect           0.0   \n",
       "5         normal         7.0      30851.0     enumInput           0.0   \n",
       "6         normal         7.0  120013475.0     enumInput           0.0   \n",
       "7         normal         7.0          7.0  singleSelect           1.0   \n",
       "8         normal         7.0          8.0     enumInput           0.0   \n",
       "9         normal         7.0      30990.0     enumInput           0.0   \n",
       "\n",
       "   is_sale_prop                        label       name_attribute  \\\n",
       "0           0.0                         Name                 name   \n",
       "1           0.0  Long Description (Lorikeet)          description   \n",
       "2           0.0                    Video URL                video   \n",
       "3           0.0            Expandable Memory    expandable_memory   \n",
       "4           0.0                     Cellular      tablet_cellular   \n",
       "5           0.0         Screen Size (inches)  display_size_tablet   \n",
       "6           0.0                    Plug Type            Plug_Type   \n",
       "7           0.0                Warranty Type        warranty_type   \n",
       "8           0.0                     Warranty             warranty   \n",
       "9           0.0    Camera Front (Megapixels)         camera_front   \n",
       "\n",
       "                                             options name_category  \n",
       "0                                                NaN       tablets  \n",
       "1                                                NaN       tablets  \n",
       "2                                                NaN       tablets  \n",
       "3  [{'name': 'Yes', 'en_name': 'Yes', 'id': 2110}...       tablets  \n",
       "4  [{'name': 'Yes', 'en_name': 'Yes', 'id': 2110}...       tablets  \n",
       "5                                                NaN       tablets  \n",
       "6  [{'name': 'Universal', 'en_name': 'Universal',...       tablets  \n",
       "7  [{'name': 'International Manufacturer Warranty...       tablets  \n",
       "8  [{'name': '10 Years', 'en_name': '10 Years', '...       tablets  \n",
       "9  [{'name': '5 to 7.9 MP', 'en_name': '5 to 7.9 ...       tablets  "
      ]
     },
     "metadata": {},
     "output_type": "display_data"
    },
    {
     "name": "stdout",
     "output_type": "stream",
     "text": [
      "\n",
      "\n",
      "\n",
      "<class 'pandas.core.frame.DataFrame'>\n",
      "Int64Index: 40491 entries, 0 to 40490\n",
      "Data columns (total 10 columns):\n",
      " #   Column          Non-Null Count  Dtype  \n",
      "---  ------          --------------  -----  \n",
      " 0   attribute_type  40491 non-null  object \n",
      " 1   category_id     40491 non-null  object \n",
      " 2   id              40491 non-null  float64\n",
      " 3   input_type      40446 non-null  object \n",
      " 4   is_mandatory    40491 non-null  float64\n",
      " 5   is_sale_prop    40491 non-null  float64\n",
      " 6   label           40491 non-null  object \n",
      " 7   name_attribute  40491 non-null  object \n",
      " 8   options         14609 non-null  object \n",
      " 9   name_category   40491 non-null  object \n",
      "dtypes: float64(3), object(7)\n",
      "memory usage: 3.4+ MB\n"
     ]
    },
    {
     "data": {
      "text/plain": [
       "None"
      ]
     },
     "metadata": {},
     "output_type": "display_data"
    },
    {
     "name": "stdout",
     "output_type": "stream",
     "text": [
      "\n",
      "\n",
      "\n"
     ]
    },
    {
     "data": {
      "text/html": [
       "<div>\n",
       "<style scoped>\n",
       "    .dataframe tbody tr th:only-of-type {\n",
       "        vertical-align: middle;\n",
       "    }\n",
       "\n",
       "    .dataframe tbody tr th {\n",
       "        vertical-align: top;\n",
       "    }\n",
       "\n",
       "    .dataframe thead th {\n",
       "        text-align: right;\n",
       "    }\n",
       "</style>\n",
       "<table border=\"1\" class=\"dataframe\">\n",
       "  <thead>\n",
       "    <tr style=\"text-align: right;\">\n",
       "      <th></th>\n",
       "      <th>count</th>\n",
       "      <th>mean</th>\n",
       "      <th>std</th>\n",
       "      <th>min</th>\n",
       "      <th>25%</th>\n",
       "      <th>50%</th>\n",
       "      <th>75%</th>\n",
       "      <th>max</th>\n",
       "    </tr>\n",
       "  </thead>\n",
       "  <tbody>\n",
       "    <tr>\n",
       "      <th>id</th>\n",
       "      <td>40491.0</td>\n",
       "      <td>7.198213e+06</td>\n",
       "      <td>2.830542e+07</td>\n",
       "      <td>1.0</td>\n",
       "      <td>12.0</td>\n",
       "      <td>23.0</td>\n",
       "      <td>30129.0</td>\n",
       "      <td>120190201.0</td>\n",
       "    </tr>\n",
       "    <tr>\n",
       "      <th>is_mandatory</th>\n",
       "      <td>40491.0</td>\n",
       "      <td>2.608234e-01</td>\n",
       "      <td>4.390892e-01</td>\n",
       "      <td>0.0</td>\n",
       "      <td>0.0</td>\n",
       "      <td>0.0</td>\n",
       "      <td>1.0</td>\n",
       "      <td>1.0</td>\n",
       "    </tr>\n",
       "    <tr>\n",
       "      <th>is_sale_prop</th>\n",
       "      <td>40491.0</td>\n",
       "      <td>3.590921e-02</td>\n",
       "      <td>1.860661e-01</td>\n",
       "      <td>0.0</td>\n",
       "      <td>0.0</td>\n",
       "      <td>0.0</td>\n",
       "      <td>0.0</td>\n",
       "      <td>1.0</td>\n",
       "    </tr>\n",
       "  </tbody>\n",
       "</table>\n",
       "</div>"
      ],
      "text/plain": [
       "                count          mean           std  min   25%   50%      75%  \\\n",
       "id            40491.0  7.198213e+06  2.830542e+07  1.0  12.0  23.0  30129.0   \n",
       "is_mandatory  40491.0  2.608234e-01  4.390892e-01  0.0   0.0   0.0      1.0   \n",
       "is_sale_prop  40491.0  3.590921e-02  1.860661e-01  0.0   0.0   0.0      0.0   \n",
       "\n",
       "                      max  \n",
       "id            120190201.0  \n",
       "is_mandatory          1.0  \n",
       "is_sale_prop          1.0  "
      ]
     },
     "metadata": {},
     "output_type": "display_data"
    },
    {
     "name": "stdout",
     "output_type": "stream",
     "text": [
      "\n",
      "\n",
      "\n",
      "Кол-во нулей:\n"
     ]
    },
    {
     "data": {
      "text/plain": [
       "attribute_type        0\n",
       "category_id           0\n",
       "id                    0\n",
       "input_type           45\n",
       "is_mandatory          0\n",
       "is_sale_prop          0\n",
       "label                 0\n",
       "name_attribute        0\n",
       "options           25882\n",
       "name_category         0\n",
       "dtype: int64"
      ]
     },
     "metadata": {},
     "output_type": "display_data"
    },
    {
     "name": "stdout",
     "output_type": "stream",
     "text": [
      "\n",
      "\n",
      "\n",
      "Кол-во дубликатов: 0\n"
     ]
    }
   ],
   "source": [
    "data_fr(df)"
   ]
  },
  {
   "cell_type": "markdown",
   "metadata": {},
   "source": [
    "Нули есть только в двух столбцах - input_type и options. Второем можно объяснить тем, что это необязательный параметр и для дальнейшей обработки его можно отбросить. А вот неизвестный тип значения, который можно ввести для атрибута - только для одного лейбла атрибута - car_cascade. В целом, таких нан - это тысячная процента от всего ДФ, поэтому можно его неучитывать, либо перевести в str и рассматривать, как один из типов."
   ]
  },
  {
   "cell_type": "code",
   "execution_count": 25,
   "metadata": {},
   "outputs": [],
   "source": [
    "df = df.drop(columns='options')"
   ]
  },
  {
   "cell_type": "code",
   "execution_count": 26,
   "metadata": {},
   "outputs": [
    {
     "data": {
      "text/plain": [
       "array(['car_cascade'], dtype=object)"
      ]
     },
     "execution_count": 26,
     "metadata": {},
     "output_type": "execute_result"
    }
   ],
   "source": [
    "df.query('input_type.isnull()').label.unique()"
   ]
  },
  {
   "cell_type": "code",
   "execution_count": 27,
   "metadata": {},
   "outputs": [],
   "source": [
    "df['input_type'] = df['input_type'].astype('str')"
   ]
  },
  {
   "cell_type": "markdown",
   "metadata": {},
   "source": [
    "Переведу некоторые столбцы к нижнему регистру, чтобы не пропустить дубли."
   ]
  },
  {
   "cell_type": "code",
   "execution_count": 28,
   "metadata": {},
   "outputs": [
    {
     "data": {
      "text/plain": [
       "0"
      ]
     },
     "execution_count": 28,
     "metadata": {},
     "output_type": "execute_result"
    }
   ],
   "source": [
    "for i in ['label', 'input_type', 'name_attribute']:\n",
    "    df[i] = df[i].str.lower()\n",
    "df.duplicated().sum()"
   ]
  },
  {
   "cell_type": "code",
   "execution_count": 29,
   "metadata": {},
   "outputs": [
    {
     "data": {
      "text/html": [
       "<div>\n",
       "<style scoped>\n",
       "    .dataframe tbody tr th:only-of-type {\n",
       "        vertical-align: middle;\n",
       "    }\n",
       "\n",
       "    .dataframe tbody tr th {\n",
       "        vertical-align: top;\n",
       "    }\n",
       "\n",
       "    .dataframe thead th {\n",
       "        text-align: right;\n",
       "    }\n",
       "</style>\n",
       "<table border=\"1\" class=\"dataframe\">\n",
       "  <thead>\n",
       "    <tr style=\"text-align: right;\">\n",
       "      <th></th>\n",
       "      <th>attribute_type</th>\n",
       "      <th>category_id</th>\n",
       "      <th>id</th>\n",
       "      <th>input_type</th>\n",
       "      <th>is_mandatory</th>\n",
       "      <th>is_sale_prop</th>\n",
       "      <th>label</th>\n",
       "      <th>name_attribute</th>\n",
       "      <th>name_category</th>\n",
       "    </tr>\n",
       "  </thead>\n",
       "  <tbody>\n",
       "    <tr>\n",
       "      <th>0</th>\n",
       "      <td>normal</td>\n",
       "      <td>7.0</td>\n",
       "      <td>1.0</td>\n",
       "      <td>text</td>\n",
       "      <td>1.0</td>\n",
       "      <td>0.0</td>\n",
       "      <td>name</td>\n",
       "      <td>name</td>\n",
       "      <td>tablets</td>\n",
       "    </tr>\n",
       "    <tr>\n",
       "      <th>1</th>\n",
       "      <td>normal</td>\n",
       "      <td>7.0</td>\n",
       "      <td>4.0</td>\n",
       "      <td>richtext</td>\n",
       "      <td>0.0</td>\n",
       "      <td>0.0</td>\n",
       "      <td>long description (lorikeet)</td>\n",
       "      <td>description</td>\n",
       "      <td>tablets</td>\n",
       "    </tr>\n",
       "    <tr>\n",
       "      <th>2</th>\n",
       "      <td>normal</td>\n",
       "      <td>7.0</td>\n",
       "      <td>5.0</td>\n",
       "      <td>text</td>\n",
       "      <td>0.0</td>\n",
       "      <td>0.0</td>\n",
       "      <td>video url</td>\n",
       "      <td>video</td>\n",
       "      <td>tablets</td>\n",
       "    </tr>\n",
       "    <tr>\n",
       "      <th>3</th>\n",
       "      <td>normal</td>\n",
       "      <td>7.0</td>\n",
       "      <td>30849.0</td>\n",
       "      <td>singleselect</td>\n",
       "      <td>0.0</td>\n",
       "      <td>0.0</td>\n",
       "      <td>expandable memory</td>\n",
       "      <td>expandable_memory</td>\n",
       "      <td>tablets</td>\n",
       "    </tr>\n",
       "    <tr>\n",
       "      <th>4</th>\n",
       "      <td>normal</td>\n",
       "      <td>7.0</td>\n",
       "      <td>30850.0</td>\n",
       "      <td>singleselect</td>\n",
       "      <td>0.0</td>\n",
       "      <td>0.0</td>\n",
       "      <td>cellular</td>\n",
       "      <td>tablet_cellular</td>\n",
       "      <td>tablets</td>\n",
       "    </tr>\n",
       "  </tbody>\n",
       "</table>\n",
       "</div>"
      ],
      "text/plain": [
       "  attribute_type category_id       id    input_type  is_mandatory  \\\n",
       "0         normal         7.0      1.0          text           1.0   \n",
       "1         normal         7.0      4.0      richtext           0.0   \n",
       "2         normal         7.0      5.0          text           0.0   \n",
       "3         normal         7.0  30849.0  singleselect           0.0   \n",
       "4         normal         7.0  30850.0  singleselect           0.0   \n",
       "\n",
       "   is_sale_prop                        label     name_attribute name_category  \n",
       "0           0.0                         name               name       tablets  \n",
       "1           0.0  long description (lorikeet)        description       tablets  \n",
       "2           0.0                    video url              video       tablets  \n",
       "3           0.0            expandable memory  expandable_memory       tablets  \n",
       "4           0.0                     cellular    tablet_cellular       tablets  "
      ]
     },
     "execution_count": 29,
     "metadata": {},
     "output_type": "execute_result"
    }
   ],
   "source": [
    "df.head()"
   ]
  },
  {
   "cell_type": "markdown",
   "metadata": {},
   "source": [
    "Переведу типы данных для 'is_mandatory', 'is_sale_prop', 'id', 'category_id' в оптимальные."
   ]
  },
  {
   "cell_type": "code",
   "execution_count": 30,
   "metadata": {},
   "outputs": [],
   "source": [
    "df[['is_mandatory', 'is_sale_prop']] = df[['is_mandatory', 'is_sale_prop']].astype('int8')    "
   ]
  },
  {
   "cell_type": "code",
   "execution_count": 31,
   "metadata": {},
   "outputs": [
    {
     "name": "stdout",
     "output_type": "stream",
     "text": [
      "120190201.0\n"
     ]
    },
    {
     "data": {
      "text/plain": [
       "1.0"
      ]
     },
     "execution_count": 31,
     "metadata": {},
     "output_type": "execute_result"
    }
   ],
   "source": [
    "print(df.id.max())\n",
    "df.id.min()"
   ]
  },
  {
   "cell_type": "code",
   "execution_count": 32,
   "metadata": {},
   "outputs": [],
   "source": [
    "df[['id', 'category_id']] = df[['id', 'category_id']].astype('int32')"
   ]
  },
  {
   "cell_type": "markdown",
   "metadata": {},
   "source": [
    "<b>3.2. Анализ данных.\n",
    "\n",
    "Узнать является ли категория конечной и возможно ли ее использовать для создания продуктов.</b> "
   ]
  },
  {
   "cell_type": "code",
   "execution_count": 33,
   "metadata": {},
   "outputs": [
    {
     "data": {
      "text/html": [
       "<div>\n",
       "<style scoped>\n",
       "    .dataframe tbody tr th:only-of-type {\n",
       "        vertical-align: middle;\n",
       "    }\n",
       "\n",
       "    .dataframe tbody tr th {\n",
       "        vertical-align: top;\n",
       "    }\n",
       "\n",
       "    .dataframe thead th {\n",
       "        text-align: right;\n",
       "    }\n",
       "</style>\n",
       "<table border=\"1\" class=\"dataframe\">\n",
       "  <thead>\n",
       "    <tr style=\"text-align: right;\">\n",
       "      <th></th>\n",
       "      <th>var</th>\n",
       "      <th>name</th>\n",
       "      <th>leaf</th>\n",
       "      <th>category_id</th>\n",
       "    </tr>\n",
       "  </thead>\n",
       "  <tbody>\n",
       "    <tr>\n",
       "      <th>0</th>\n",
       "      <td>False</td>\n",
       "      <td>mobiles &amp; tablets</td>\n",
       "      <td>False</td>\n",
       "      <td>2</td>\n",
       "    </tr>\n",
       "    <tr>\n",
       "      <th>1</th>\n",
       "      <td>False</td>\n",
       "      <td>smartphones</td>\n",
       "      <td>True</td>\n",
       "      <td>3</td>\n",
       "    </tr>\n",
       "    <tr>\n",
       "      <th>2</th>\n",
       "      <td>False</td>\n",
       "      <td>tablets</td>\n",
       "      <td>True</td>\n",
       "      <td>7</td>\n",
       "    </tr>\n",
       "    <tr>\n",
       "      <th>3</th>\n",
       "      <td>False</td>\n",
       "      <td>landline phones</td>\n",
       "      <td>True</td>\n",
       "      <td>49</td>\n",
       "    </tr>\n",
       "    <tr>\n",
       "      <th>4</th>\n",
       "      <td>False</td>\n",
       "      <td>computers &amp; laptops</td>\n",
       "      <td>False</td>\n",
       "      <td>54</td>\n",
       "    </tr>\n",
       "  </tbody>\n",
       "</table>\n",
       "</div>"
      ],
      "text/plain": [
       "     var                 name   leaf category_id\n",
       "0  False    mobiles & tablets  False           2\n",
       "1  False          smartphones   True           3\n",
       "2  False              tablets   True           7\n",
       "3  False      landline phones   True          49\n",
       "4  False  computers & laptops  False          54"
      ]
     },
     "execution_count": 33,
     "metadata": {},
     "output_type": "execute_result"
    }
   ],
   "source": [
    "df_categ.head()"
   ]
  },
  {
   "cell_type": "code",
   "execution_count": 34,
   "metadata": {},
   "outputs": [
    {
     "name": "stdout",
     "output_type": "stream",
     "text": [
      "Является ли категория конечной:\n",
      "        count   perc\n",
      "leaf               \n",
      "False    754  14.47\n",
      "True    4458  85.53\n"
     ]
    },
    {
     "data": {
      "image/png": "[encoded data removed]",
      "text/plain": [
       "<Figure size 432x288 with 1 Axes>"
      ]
     },
     "metadata": {
      "needs_background": "light"
     },
     "output_type": "display_data"
    }
   ],
   "source": [
    "leaf_categ = df_categ.groupby('leaf')['category_id'].agg(['count'])\n",
    "leaf_categ['perc'] = leaf_categ.values * 100 / len(df_categ.leaf)\n",
    "\n",
    "print('Является ли категория конечной:\\n', round(leaf_categ, 2))\n",
    "\n",
    "ax = sns.histplot(data = df_categ, \n",
    "             x = 'leaf', \n",
    "             bins = 2, \n",
    "             shrink = .9,\n",
    "             discrete = True)\n",
    "\n",
    "plt.title('Leaf category: yes or no')\n",
    "ax.set(xlabel = None)\n",
    "ax.set_xticks([0,1])\n",
    "ax.set_xticklabels(['No','Yes'])\n",
    "\n",
    "plt.show()"
   ]
  },
  {
   "cell_type": "markdown",
   "metadata": {},
   "source": [
    "Большинство категорий являются конечными и их можно использовать для создания продукта - около 86% приходится на конечные категории и 14% на конечные. "
   ]
  },
  {
   "cell_type": "markdown",
   "metadata": {},
   "source": [
    "<b> Посмотреть сколько приходится category_id на наименование категорий.</b> "
   ]
  },
  {
   "cell_type": "code",
   "execution_count": 35,
   "metadata": {},
   "outputs": [
    {
     "data": {
      "text/plain": [
       "count    4361.000000\n",
       "mean        1.195139\n",
       "std         0.899406\n",
       "min         1.000000\n",
       "25%         1.000000\n",
       "50%         1.000000\n",
       "75%         1.000000\n",
       "max        31.000000\n",
       "Name: category_id, dtype: float64"
      ]
     },
     "execution_count": 35,
     "metadata": {},
     "output_type": "execute_result"
    }
   ],
   "source": [
    "cat_id_name = df_categ.groupby('name')['category_id'].count()\n",
    "cat_id_name.describe()"
   ]
  },
  {
   "cell_type": "markdown",
   "metadata": {},
   "source": [
    "В среднем на одно наименование приходится по 1,2 category_id. Видно, что имеются выбросы в сторону максимума. Зато минимум и вплоть до 3 квартиля все равно единице."
   ]
  },
  {
   "cell_type": "markdown",
   "metadata": {},
   "source": [
    "<b>Посмотреть кол-во обязательных атрибутов и соотношение обязательный / необязательный, стандартные / нестандартные.</b>"
   ]
  },
  {
   "cell_type": "code",
   "execution_count": 36,
   "metadata": {},
   "outputs": [
    {
     "data": {
      "text/plain": [
       "is_mandatory\n",
       "0    29930\n",
       "1    10561\n",
       "Name: id, dtype: int64"
      ]
     },
     "execution_count": 36,
     "metadata": {},
     "output_type": "execute_result"
    }
   ],
   "source": [
    "df.groupby('is_mandatory')['id'].count()"
   ]
  },
  {
   "cell_type": "code",
   "execution_count": 37,
   "metadata": {},
   "outputs": [
    {
     "name": "stdout",
     "output_type": "stream",
     "text": [
      "Является ли атрибут обязательным:\n",
      "               count   perc\n",
      "is_mandatory              \n",
      "0             29930  73.92\n",
      "1             10561  26.08\n"
     ]
    },
    {
     "data": {
      "image/png": "[encoded data removed]",
      "text/plain": [
       "<Figure size 432x288 with 1 Axes>"
      ]
     },
     "metadata": {
      "needs_background": "light"
     },
     "output_type": "display_data"
    }
   ],
   "source": [
    "mandatory = df.groupby('is_mandatory')['id'].agg(['count'])\n",
    "mandatory['perc'] = mandatory.values * 100 / len(df.is_mandatory)\n",
    "\n",
    "print('Является ли атрибут обязательным:\\n', round(mandatory, 2))\n",
    "\n",
    "ax = sns.histplot(data = df, \n",
    "             x = 'is_mandatory', \n",
    "             bins = 2, \n",
    "             shrink = .9,\n",
    "             discrete = True)\n",
    "\n",
    "plt.title('Mandatory: yes or no')\n",
    "#plt.xlabel('mandatory')\n",
    "ax.set(xlabel = None)\n",
    "ax.set_xticks([0,1])\n",
    "ax.set_xticklabels(['No','Yes'])\n",
    "\n",
    "#plt.xticks(rotation = 45)\n",
    "\n",
    "plt.show()"
   ]
  },
  {
   "cell_type": "markdown",
   "metadata": {},
   "source": [
    "Большинство атрибутов (около 74%) являются необязательными. Обязательными являются только 10к id - 26%."
   ]
  },
  {
   "cell_type": "code",
   "execution_count": 38,
   "metadata": {},
   "outputs": [
    {
     "name": "stdout",
     "output_type": "stream",
     "text": [
      "Является ли атрибут стандартным атрибутом продажи:\n",
      "               count   perc\n",
      "is_sale_prop              \n",
      "0             39037  96.41\n",
      "1              1454   3.59\n"
     ]
    },
    {
     "data": {
      "image/png": "[encoded data removed]",
      "text/plain": [
       "<Figure size 432x288 with 1 Axes>"
      ]
     },
     "metadata": {
      "needs_background": "light"
     },
     "output_type": "display_data"
    }
   ],
   "source": [
    "prop = df.groupby('is_sale_prop')['id'].agg(['count'])\n",
    "prop['perc'] = prop.values * 100 / len(df.is_sale_prop)\n",
    "\n",
    "print('Является ли атрибут стандартным атрибутом продажи:\\n', round(prop, 2))\n",
    "\n",
    "ax = sns.histplot(data = df, \n",
    "             x = 'is_sale_prop', \n",
    "             bins = 2, \n",
    "             shrink = .9,\n",
    "             discrete = True)\n",
    "\n",
    "plt.title('Standard sales/variant attribute: yes or no')\n",
    "#plt.xlabel('mandatory')\n",
    "ax.set(xlabel = None)\n",
    "ax.set_xticks([0,1])\n",
    "ax.set_xticklabels(['No','Yes'])\n",
    "\n",
    "#plt.xticks(rotation = 45)\n",
    "\n",
    "plt.show()"
   ]
  },
  {
   "cell_type": "markdown",
   "metadata": {},
   "source": [
    "Стандартными атрибутами продажи являются только почти 4% от всех атрибутов."
   ]
  },
  {
   "cell_type": "markdown",
   "metadata": {},
   "source": [
    "<b>Вычислить соотношение типов атрибутов - normal / sku.</b>"
   ]
  },
  {
   "cell_type": "code",
   "execution_count": 39,
   "metadata": {},
   "outputs": [
    {
     "data": {
      "text/plain": [
       "array(['normal', 'sku'], dtype=object)"
      ]
     },
     "execution_count": 39,
     "metadata": {},
     "output_type": "execute_result"
    }
   ],
   "source": [
    "df.attribute_type.unique()"
   ]
  },
  {
   "cell_type": "code",
   "execution_count": 40,
   "metadata": {},
   "outputs": [
    {
     "name": "stdout",
     "output_type": "stream",
     "text": [
      "Типы атрибутов:\n",
      "                 count   perc\n",
      "attribute_type              \n",
      "normal          21591  53.32\n",
      "sku             18900  46.68\n"
     ]
    },
    {
     "data": {
      "image/png": "[encoded data removed]",
      "text/plain": [
       "<Figure size 432x288 with 1 Axes>"
      ]
     },
     "metadata": {
      "needs_background": "light"
     },
     "output_type": "display_data"
    }
   ],
   "source": [
    "att_type = df.groupby('attribute_type')['id'].agg(['count'])\n",
    "att_type['perc'] = att_type.values * 100 / len(df.attribute_type)\n",
    "\n",
    "print('Типы атрибутов:\\n', round(att_type, 2))\n",
    "\n",
    "ax = sns.histplot(data = df, \n",
    "             x = 'attribute_type', \n",
    "             bins = 2, \n",
    "             shrink = .9)\n",
    "\n",
    "plt.title('Counts of attribute type')\n",
    "#plt.xlabel('mandatory')\n",
    "ax.set(xlabel = 'attribute type')\n",
    "\n",
    "\n",
    "#plt.xticks(rotation = 45)\n",
    "\n",
    "plt.show()"
   ]
  },
  {
   "cell_type": "raw",
   "metadata": {},
   "source": [
    "Большинство атрибутов - normal (53%), т.е. при создании или обновлении продукта надо заполнять поле \"Attribute\".\n",
    "А поле \"Sku\" заполняется у 47% атрибутов, т.е. почти равны."
   ]
  },
  {
   "cell_type": "markdown",
   "metadata": {},
   "source": [
    "<b>Вычислить и визулизировать общее кол-во и кол-во уникальных id по типам значений, которые для него можно ввести (input_type).</b>"
   ]
  },
  {
   "cell_type": "code",
   "execution_count": 41,
   "metadata": {},
   "outputs": [
    {
     "name": "stdout",
     "output_type": "stream",
     "text": [
      "Типы входных данных:\n",
      "                 count  nunique   perc\n",
      "input_type                           \n",
      "singleselect     9800       90  24.20\n",
      "numeric          9324       56  23.03\n",
      "text             7594       39  18.75\n",
      "enuminput        2823      406   6.97\n",
      "richtext         2764       73   6.83\n",
      "date             2575        4   6.36\n",
      "multienuminput   2067      115   5.10\n",
      "img              1997        3   4.93\n",
      "multiselect      1502       12   3.71\n",
      "nan                45        1   0.11\n"
     ]
    },
    {
     "data": {
      "image/png": "[encoded data removed]",
      "text/plain": [
       "<Figure size 1080x360 with 2 Axes>"
      ]
     },
     "metadata": {
      "needs_background": "light"
     },
     "output_type": "display_data"
    }
   ],
   "source": [
    "input_type = df.groupby('input_type')['id'].agg(['count', 'nunique'])\n",
    "input_type['perc'] = input_type['count'] * 100 / len(df.input_type)\n",
    "\n",
    "print('Типы входных данных:\\n', round(input_type.sort_values(by='perc', ascending=False), 2))\n",
    "\n",
    "fig, axes = plt.subplots(1, 2, figsize=(15, 5))\n",
    "fig.suptitle('Count / Exp.')\n",
    "\n",
    "sns.barplot(ax=axes[0],\n",
    "                 data = df,\n",
    "                 x = df.groupby('input_type')['id'].count().sort_values(ascending=False).index, \n",
    "                 y = df.groupby('input_type')['id'].count().sort_values(ascending=False).values,\n",
    "                 palette='mako')\n",
    "\n",
    "axes[0].set_title('Counts of attribute type')\n",
    "axes[0].set(xlabel = 'Attribute type',\n",
    "        ylabel = 'Count')\n",
    "axes[0].tick_params(axis='x', rotation=90)\n",
    "\n",
    "sns.barplot(ax=axes[1],\n",
    "                 data = df,\n",
    "                 x = df.groupby('input_type')['id'].nunique().sort_values(ascending=False).index, \n",
    "                 y = df.groupby('input_type')['id'].nunique().sort_values(ascending=False).values,\n",
    "                 palette='mako')\n",
    "\n",
    "axes[1].set_title('Unique id in attribute type')\n",
    "axes[1].set(xlabel = 'Attribute type',\n",
    "        ylabel = 'Count of unique id')\n",
    "axes[1].tick_params(axis='x', rotation=90)\n",
    "\n",
    "plt.show()"
   ]
  },
  {
   "cell_type": "markdown",
   "metadata": {},
   "source": [
    "Больше всего id приходится на входные типы - singleselect - одиночный выбор, который не поддерживает настройку - 24%.\n",
    "\n",
    "Потом идет - numeric (23%) и text (19%) - числовое и тесктовое значения, которые поддерживают настройку. Всех остальных менее 10%. \n",
    "\n",
    "Но если посмотреть значения для уникальных id, которые приходятся на каждый тип, то видно, что: \n",
    "\n",
    "максимум у enuminput - одиночный выбор, который поддерживает настройку - 406 id, multienuminput - множественный выбор, который тоже поддерживает настройку - 115 id. Для всех остальных типов входгых данных кол-во уникальных id меньше 100."
   ]
  },
  {
   "cell_type": "markdown",
   "metadata": {},
   "source": [
    "<b>Посмотреть сколько приходится имен атрибутов на лейбл, на id атрибута.</b>"
   ]
  },
  {
   "cell_type": "code",
   "execution_count": 42,
   "metadata": {},
   "outputs": [
    {
     "name": "stdout",
     "output_type": "stream",
     "text": [
      "Кол-во уникальных id: 677\n",
      "Кол-во уникальных name: 673\n",
      "Кол-во уникальных label: 641\n"
     ]
    }
   ],
   "source": [
    "print('Кол-во уникальных id:', df.id.nunique())\n",
    "print('Кол-во уникальных name:', df.name_attribute.nunique())\n",
    "print('Кол-во уникальных label:', df.label.nunique())"
   ]
  },
  {
   "cell_type": "markdown",
   "metadata": {},
   "source": [
    "Уникальных имен на 4 меньше, чем айди, посмотрю какому имени соответствует два айди.\n",
    "\n",
    "Лейблов меньше, чем имен, значит одному лейблу может соответствовать несколько имен. Посмотрю так ли это и что это за имена."
   ]
  },
  {
   "cell_type": "code",
   "execution_count": 43,
   "metadata": {},
   "outputs": [
    {
     "data": {
      "text/plain": [
       "name_attribute\n",
       "volume                2\n",
       "connectivity          2\n",
       "cable_length          2\n",
       "scent                 2\n",
       "occasion              2\n",
       "__images__            1\n",
       "ring_size             1\n",
       "reinforced_toe_cap    1\n",
       "replacement_type      1\n",
       "resolution            1\n",
       "Name: id, dtype: int64"
      ]
     },
     "execution_count": 43,
     "metadata": {},
     "output_type": "execute_result"
    }
   ],
   "source": [
    "df.groupby('name_attribute')['id'].nunique().sort_values(ascending=False).head(10)"
   ]
  },
  {
   "cell_type": "markdown",
   "metadata": {},
   "source": [
    "Получается 5 именам атрибутов соответствует 2 id - volume, connectivity, cable_length, scent, occasion. Все остальное по одному."
   ]
  },
  {
   "cell_type": "code",
   "execution_count": 44,
   "metadata": {},
   "outputs": [
    {
     "data": {
      "text/html": [
       "<div>\n",
       "<style scoped>\n",
       "    .dataframe tbody tr th:only-of-type {\n",
       "        vertical-align: middle;\n",
       "    }\n",
       "\n",
       "    .dataframe tbody tr th {\n",
       "        vertical-align: top;\n",
       "    }\n",
       "\n",
       "    .dataframe thead th {\n",
       "        text-align: right;\n",
       "    }\n",
       "</style>\n",
       "<table border=\"1\" class=\"dataframe\">\n",
       "  <thead>\n",
       "    <tr style=\"text-align: right;\">\n",
       "      <th></th>\n",
       "      <th>attribute_type</th>\n",
       "      <th>category_id</th>\n",
       "      <th>id</th>\n",
       "      <th>input_type</th>\n",
       "      <th>is_mandatory</th>\n",
       "      <th>is_sale_prop</th>\n",
       "      <th>label</th>\n",
       "      <th>name_attribute</th>\n",
       "      <th>name_category</th>\n",
       "    </tr>\n",
       "  </thead>\n",
       "  <tbody>\n",
       "    <tr>\n",
       "      <th>669</th>\n",
       "      <td>normal</td>\n",
       "      <td>1468</td>\n",
       "      <td>30637</td>\n",
       "      <td>numeric</td>\n",
       "      <td>0</td>\n",
       "      <td>0</td>\n",
       "      <td>volume (ml)</td>\n",
       "      <td>volume</td>\n",
       "      <td>aromatherapy</td>\n",
       "    </tr>\n",
       "    <tr>\n",
       "      <th>724</th>\n",
       "      <td>sku</td>\n",
       "      <td>1478</td>\n",
       "      <td>30637</td>\n",
       "      <td>numeric</td>\n",
       "      <td>0</td>\n",
       "      <td>1</td>\n",
       "      <td>volume (ml)</td>\n",
       "      <td>volume</td>\n",
       "      <td>body moisturizers</td>\n",
       "    </tr>\n",
       "    <tr>\n",
       "      <th>791</th>\n",
       "      <td>normal</td>\n",
       "      <td>1494</td>\n",
       "      <td>30637</td>\n",
       "      <td>numeric</td>\n",
       "      <td>0</td>\n",
       "      <td>0</td>\n",
       "      <td>volume (ml)</td>\n",
       "      <td>volume</td>\n",
       "      <td>bronzers</td>\n",
       "    </tr>\n",
       "    <tr>\n",
       "      <th>877</th>\n",
       "      <td>normal</td>\n",
       "      <td>1507</td>\n",
       "      <td>30637</td>\n",
       "      <td>richtext</td>\n",
       "      <td>0</td>\n",
       "      <td>0</td>\n",
       "      <td>volume (ml)</td>\n",
       "      <td>volume</td>\n",
       "      <td>bronzers</td>\n",
       "    </tr>\n",
       "    <tr>\n",
       "      <th>1050</th>\n",
       "      <td>sku</td>\n",
       "      <td>1605</td>\n",
       "      <td>30637</td>\n",
       "      <td>numeric</td>\n",
       "      <td>0</td>\n",
       "      <td>1</td>\n",
       "      <td>volume (ml)</td>\n",
       "      <td>volume</td>\n",
       "      <td>shampoo</td>\n",
       "    </tr>\n",
       "  </tbody>\n",
       "</table>\n",
       "</div>"
      ],
      "text/plain": [
       "     attribute_type  category_id     id input_type  is_mandatory  \\\n",
       "669          normal         1468  30637    numeric             0   \n",
       "724             sku         1478  30637    numeric             0   \n",
       "791          normal         1494  30637    numeric             0   \n",
       "877          normal         1507  30637   richtext             0   \n",
       "1050            sku         1605  30637    numeric             0   \n",
       "\n",
       "      is_sale_prop        label name_attribute      name_category  \n",
       "669              0  volume (ml)         volume       aromatherapy  \n",
       "724              1  volume (ml)         volume  body moisturizers  \n",
       "791              0  volume (ml)         volume           bronzers  \n",
       "877              0  volume (ml)         volume           bronzers  \n",
       "1050             1  volume (ml)         volume            shampoo  "
      ]
     },
     "execution_count": 44,
     "metadata": {},
     "output_type": "execute_result"
    }
   ],
   "source": [
    "df.query('name_attribute == \"volume\"').head()"
   ]
  },
  {
   "cell_type": "code",
   "execution_count": 45,
   "metadata": {},
   "outputs": [
    {
     "data": {
      "text/plain": [
       "array([    30637, 110003048], dtype=int32)"
      ]
     },
     "execution_count": 45,
     "metadata": {},
     "output_type": "execute_result"
    }
   ],
   "source": [
    "df.query('name_attribute == \"volume\"').id.unique()"
   ]
  },
  {
   "cell_type": "code",
   "execution_count": 46,
   "metadata": {},
   "outputs": [
    {
     "data": {
      "text/html": [
       "<div>\n",
       "<style scoped>\n",
       "    .dataframe tbody tr th:only-of-type {\n",
       "        vertical-align: middle;\n",
       "    }\n",
       "\n",
       "    .dataframe tbody tr th {\n",
       "        vertical-align: top;\n",
       "    }\n",
       "\n",
       "    .dataframe thead th {\n",
       "        text-align: right;\n",
       "    }\n",
       "</style>\n",
       "<table border=\"1\" class=\"dataframe\">\n",
       "  <thead>\n",
       "    <tr style=\"text-align: right;\">\n",
       "      <th></th>\n",
       "      <th>attribute_type</th>\n",
       "      <th>category_id</th>\n",
       "      <th>id</th>\n",
       "      <th>input_type</th>\n",
       "      <th>is_mandatory</th>\n",
       "      <th>is_sale_prop</th>\n",
       "      <th>label</th>\n",
       "      <th>name_attribute</th>\n",
       "      <th>name_category</th>\n",
       "    </tr>\n",
       "  </thead>\n",
       "  <tbody>\n",
       "    <tr>\n",
       "      <th>12775</th>\n",
       "      <td>sku</td>\n",
       "      <td>8784</td>\n",
       "      <td>110003048</td>\n",
       "      <td>numeric</td>\n",
       "      <td>0</td>\n",
       "      <td>1</td>\n",
       "      <td>volume</td>\n",
       "      <td>volume</td>\n",
       "      <td>powders</td>\n",
       "    </tr>\n",
       "    <tr>\n",
       "      <th>32180</th>\n",
       "      <td>sku</td>\n",
       "      <td>10002756</td>\n",
       "      <td>110003048</td>\n",
       "      <td>numeric</td>\n",
       "      <td>0</td>\n",
       "      <td>1</td>\n",
       "      <td>volume</td>\n",
       "      <td>volume</td>\n",
       "      <td>oils</td>\n",
       "    </tr>\n",
       "    <tr>\n",
       "      <th>32213</th>\n",
       "      <td>sku</td>\n",
       "      <td>10002757</td>\n",
       "      <td>110003048</td>\n",
       "      <td>numeric</td>\n",
       "      <td>0</td>\n",
       "      <td>1</td>\n",
       "      <td>volume</td>\n",
       "      <td>volume</td>\n",
       "      <td>powders</td>\n",
       "    </tr>\n",
       "    <tr>\n",
       "      <th>32245</th>\n",
       "      <td>sku</td>\n",
       "      <td>10002759</td>\n",
       "      <td>110003048</td>\n",
       "      <td>numeric</td>\n",
       "      <td>0</td>\n",
       "      <td>1</td>\n",
       "      <td>volume</td>\n",
       "      <td>volume</td>\n",
       "      <td>body wash</td>\n",
       "    </tr>\n",
       "  </tbody>\n",
       "</table>\n",
       "</div>"
      ],
      "text/plain": [
       "      attribute_type  category_id         id input_type  is_mandatory  \\\n",
       "12775            sku         8784  110003048    numeric             0   \n",
       "32180            sku     10002756  110003048    numeric             0   \n",
       "32213            sku     10002757  110003048    numeric             0   \n",
       "32245            sku     10002759  110003048    numeric             0   \n",
       "\n",
       "       is_sale_prop   label name_attribute name_category  \n",
       "12775             1  volume         volume       powders  \n",
       "32180             1  volume         volume          oils  \n",
       "32213             1  volume         volume       powders  \n",
       "32245             1  volume         volume     body wash  "
      ]
     },
     "execution_count": 46,
     "metadata": {},
     "output_type": "execute_result"
    }
   ],
   "source": [
    "df.query('id == 110003048').head()"
   ]
  },
  {
   "cell_type": "code",
   "execution_count": 47,
   "metadata": {},
   "outputs": [
    {
     "data": {
      "text/plain": [
       "array(['volume'], dtype=object)"
      ]
     },
     "execution_count": 47,
     "metadata": {},
     "output_type": "execute_result"
    }
   ],
   "source": [
    "df.query('id == 110003048').label.unique()"
   ]
  },
  {
   "cell_type": "code",
   "execution_count": 48,
   "metadata": {},
   "outputs": [
    {
     "data": {
      "text/plain": [
       "array(['volume (ml)'], dtype=object)"
      ]
     },
     "execution_count": 48,
     "metadata": {},
     "output_type": "execute_result"
    }
   ],
   "source": [
    "df.query('id == 30637').label.unique()"
   ]
  },
  {
   "cell_type": "markdown",
   "metadata": {},
   "source": [
    "Например, volume - если более детально рассмотреть данное имя атрибута, то видно, что для разных id, соответствуют разные label, т.е. данные значения нельзя считать повторами в полной мере и, например, заменить одно на другое. \n",
    "\n",
    "Далее проверю как соотносятся label и name_attribute."
   ]
  },
  {
   "cell_type": "code",
   "execution_count": 49,
   "metadata": {},
   "outputs": [
    {
     "name": "stdout",
     "output_type": "stream",
     "text": [
      "Кол-во label, которым соотверствует более одного name_attribute: 22\n"
     ]
    },
    {
     "data": {
      "text/plain": [
       "label\n",
       "product form               5\n",
       "material                   5\n",
       "size                       4\n",
       "flavor                     3\n",
       "sleeve length              3\n",
       "cable type                 3\n",
       "accessory type             3\n",
       "ingredient                 2\n",
       "features                   2\n",
       "pattern                    2\n",
       "scent                      2\n",
       "neckline                   2\n",
       "recommended age            2\n",
       "warranty                   2\n",
       "volume                     2\n",
       "types of dim sum           2\n",
       "swimwear style             2\n",
       "waterproof                 2\n",
       "occasion                   2\n",
       "pack type                  2\n",
       "air humidifier features    2\n",
       "color                      2\n",
       "Name: name_attribute, dtype: int64"
      ]
     },
     "execution_count": 49,
     "metadata": {},
     "output_type": "execute_result"
    }
   ],
   "source": [
    "print('Кол-во label, которым соотверствует более одного name_attribute:', \n",
    "      len(df.groupby('label')['name_attribute'].nunique().sort_values(ascending=False)[lambda x: x>1]))\n",
    "\n",
    "df.groupby('label')['name_attribute'].nunique().sort_values(ascending=False)[lambda x: x>1]"
   ]
  },
  {
   "cell_type": "markdown",
   "metadata": {},
   "source": [
    "Далее проверю их более подробно. Ну можно сказать, что это одно и тоже, только со своими параметрами."
   ]
  },
  {
   "cell_type": "code",
   "execution_count": 50,
   "metadata": {},
   "outputs": [
    {
     "data": {
      "text/plain": [
       "array(['fmlt_face_makeup', 'formulation_hair_color', 'fmlt_skin_care',\n",
       "       'formulation_supplement', 'product_form'], dtype=object)"
      ]
     },
     "execution_count": 50,
     "metadata": {},
     "output_type": "execute_result"
    }
   ],
   "source": [
    "df.query('label == \"product form\"').name_attribute.unique()"
   ]
  },
  {
   "cell_type": "code",
   "execution_count": 51,
   "metadata": {},
   "outputs": [
    {
     "data": {
      "text/plain": [
       "array(['material_type', 'material', 'fabrics', 'kid_material_filter',\n",
       "       'curtain_material'], dtype=object)"
      ]
     },
     "execution_count": 51,
     "metadata": {},
     "output_type": "execute_result"
    }
   ],
   "source": [
    "df.query('label == \"material\"').name_attribute.unique()"
   ]
  },
  {
   "cell_type": "code",
   "execution_count": 52,
   "metadata": {},
   "outputs": [
    {
     "data": {
      "text/plain": [
       "array(['size_class', 'size', 'size_baby_clothing', 'size_baby_shoes'],\n",
       "      dtype=object)"
      ]
     },
     "execution_count": 52,
     "metadata": {},
     "output_type": "execute_result"
    }
   ],
   "source": [
    "df.query('label == \"size\"').name_attribute.unique()"
   ]
  },
  {
   "cell_type": "markdown",
   "metadata": {},
   "source": [
    "Так как id и label тоже близкое кол-во, то посмотрю как они между собой соотносятся и мб там есть скрытые дубли."
   ]
  },
  {
   "cell_type": "code",
   "execution_count": 53,
   "metadata": {},
   "outputs": [
    {
     "data": {
      "text/plain": [
       "id\n",
       "26       2\n",
       "1        1\n",
       "90121    1\n",
       "90123    1\n",
       "90127    1\n",
       "90129    1\n",
       "90130    1\n",
       "90140    1\n",
       "90142    1\n",
       "90143    1\n",
       "Name: label, dtype: int64"
      ]
     },
     "execution_count": 53,
     "metadata": {},
     "output_type": "execute_result"
    }
   ],
   "source": [
    "df.groupby('id')['label'].nunique().sort_values(ascending=False).head(10)"
   ]
  },
  {
   "cell_type": "code",
   "execution_count": 54,
   "metadata": {},
   "outputs": [
    {
     "data": {
      "text/plain": [
       "array(['package width (cm)', 'car_cascade'], dtype=object)"
      ]
     },
     "execution_count": 54,
     "metadata": {},
     "output_type": "execute_result"
    }
   ],
   "source": [
    "df.query('id == 26').label.unique()"
   ]
  },
  {
   "cell_type": "markdown",
   "metadata": {},
   "source": [
    "Нет, говорить, что это дубли нельзя, значит стоит оставить это так.\n",
    "\n",
    "В целом, можно сказать, что для однозначного определения значений атрибута достаточно трех значений - category_id, id и либо name_attribute, либо label."
   ]
  },
  {
   "cell_type": "code",
   "execution_count": 55,
   "metadata": {},
   "outputs": [
    {
     "data": {
      "text/plain": [
       "45"
      ]
     },
     "execution_count": 55,
     "metadata": {},
     "output_type": "execute_result"
    }
   ],
   "source": [
    "df[['category_id', 'id']].duplicated().sum()"
   ]
  },
  {
   "cell_type": "code",
   "execution_count": 56,
   "metadata": {},
   "outputs": [
    {
     "data": {
      "text/plain": [
       "0"
      ]
     },
     "execution_count": 56,
     "metadata": {},
     "output_type": "execute_result"
    }
   ],
   "source": [
    "df[['category_id', 'id', 'name_attribute']].duplicated().sum()"
   ]
  },
  {
   "cell_type": "code",
   "execution_count": 57,
   "metadata": {},
   "outputs": [
    {
     "data": {
      "text/plain": [
       "0"
      ]
     },
     "execution_count": 57,
     "metadata": {},
     "output_type": "execute_result"
    }
   ],
   "source": [
    "df[['category_id', 'id', 'label']].duplicated().sum()"
   ]
  },
  {
   "cell_type": "markdown",
   "metadata": {},
   "source": [
    "<b>Посмотреть сколько приходится id атрибутов на id категорий, посмотреть стат. данные, бостроить боксплот.</b>"
   ]
  },
  {
   "cell_type": "code",
   "execution_count": 58,
   "metadata": {},
   "outputs": [
    {
     "data": {
      "text/plain": [
       "1286"
      ]
     },
     "execution_count": 58,
     "metadata": {},
     "output_type": "execute_result"
    }
   ],
   "source": [
    "df.category_id.nunique()"
   ]
  },
  {
   "cell_type": "markdown",
   "metadata": {},
   "source": [
    "Посмотрю сколько в среднем приходится на одну категорию id"
   ]
  },
  {
   "cell_type": "code",
   "execution_count": 59,
   "metadata": {},
   "outputs": [
    {
     "data": {
      "text/plain": [
       "count    1286.000000\n",
       "mean       31.486003\n",
       "std         4.163698\n",
       "min        25.000000\n",
       "25%        29.000000\n",
       "50%        31.000000\n",
       "75%        34.000000\n",
       "max        72.000000\n",
       "Name: id, dtype: float64"
      ]
     },
     "execution_count": 59,
     "metadata": {},
     "output_type": "execute_result"
    }
   ],
   "source": [
    "cat_id_id = df.groupby('category_id')['id'].count()\n",
    "cat_id_id.describe()"
   ]
  },
  {
   "cell_type": "markdown",
   "metadata": {},
   "source": [
    "Медианное значение и среднее почти совпадают, значит аномальных выбросов не так много."
   ]
  },
  {
   "cell_type": "code",
   "execution_count": 60,
   "metadata": {},
   "outputs": [
    {
     "data": {
      "image/png": "[encoded data removed]",
      "text/plain": [
       "<Figure size 432x288 with 1 Axes>"
      ]
     },
     "metadata": {
      "needs_background": "light"
     },
     "output_type": "display_data"
    }
   ],
   "source": [
    "ax = sns.boxplot(y=cat_id_id.values)\n",
    "\n",
    "plt.title('Counts of attribute type')\n",
    "ax.set(xlabel = 'Category id',\n",
    "      ylabel = 'Count')\n",
    "\n",
    "plt.show()"
   ]
  },
  {
   "cell_type": "markdown",
   "metadata": {},
   "source": [
    "## Вывод\n",
    "\n",
    "Для выполнения работы было загружены из API Lazada два дф с данными из GetCategoryTree, который в дальнейшем был использован для данных из GetCategoryAttributes, по которому и делался основной анализ.\n",
    "\n",
    "В ходе исследования установлено, что всего на Lazada представлено 5212 категорий, для удобства анализ производился для 1301 категории, которые подпадают под условие: в одно имя категории входит несколько category_id. В среднем на одно имя приходится 1,2 category_id, а значения с 1 по 3 квартиль равны единице. Максимальное кол-во category_id на одно имя - 31. \n",
    "\n",
    "После получения category_id, были выполнены запросы для них и получен  дф с данными из GetCategoryAttributes. Размерность полученного дф - 40490.\n",
    "\n",
    "<b> Анализ показал, что:</b>\n",
    "\n",
    "1. Большинство категорий являются конечными и их можно использовать для создания продукта - около 86% приходится на конечные категории и 14% на неконечные. \n",
    "\n",
    "2. Большинство атрибутов (около 74%) являются необязательными. Обязательными являются только 10к id - 26%.\n",
    "\n",
    "3. Стандартными атрибутами продажи являются только почти 4% от всех атрибутов, все остальные под этот критерий не подпадают.\n",
    "\n",
    "4. Большинство атрибутов - normal (53%), т.е. при создании или обновлении продукта надо заполнять поле \"Attribute\". А поле \"Sku\" заполняется у 47% атрибутов.\n",
    "\n",
    "5. Больше всего id приходится на входные типы - singleselect - одиночный выбор, который не поддерживает настройку - 24%. Потом идет - numeric (23%) и text (19%) - числовое и текстовое значения, которые поддерживают настройку. На все остальные приходится менее 10% на каждый. Однако, если посмотреть значения для уникальных id, которые приходятся на каждый тип, то видно, что: максимум у enuminput - одиночный выбор, который поддерживает настройку - 406 id, multienuminput - множественный выбор, который тоже поддерживает настройку - 115 id. Для всех остальных типов входных данных кол-во уникальных id меньше 100.\n",
    "\n",
    "6. После анализа можно сказать, что для однозначного определения значений атрибута достаточно трех значений их дф- category_id, id и либо name_attribute, либо label. Любых двух из них будет не хватать для однозначности.\n",
    "\n",
    "7. В среднем на одну категорию приходится 31.5 id атрибута. Медианное значение (31) и среднее почти совпадают, значит аномальных выбросов не так много. Максимум - 74, минимум - 25.\n"
   ]
  },
  {
   "cell_type": "code",
   "execution_count": null,
   "metadata": {},
   "outputs": [],
   "source": []
  }
 ],
 "metadata": {
  "ExecuteTimeLog": [
   {
    "duration": 525,
    "start_time": "2023-01-15T16:50:24.656Z"
   },
   {
    "duration": 0,
    "start_time": "2023-01-15T16:50:25.182Z"
   },
   {
    "duration": 0,
    "start_time": "2023-01-15T16:50:25.183Z"
   },
   {
    "duration": 0,
    "start_time": "2023-01-15T16:50:25.185Z"
   },
   {
    "duration": 0,
    "start_time": "2023-01-15T16:50:25.186Z"
   },
   {
    "duration": 0,
    "start_time": "2023-01-15T16:50:25.187Z"
   },
   {
    "duration": 0,
    "start_time": "2023-01-15T16:50:25.188Z"
   },
   {
    "duration": 0,
    "start_time": "2023-01-15T16:50:25.190Z"
   },
   {
    "duration": 0,
    "start_time": "2023-01-15T16:50:25.191Z"
   },
   {
    "duration": 3001,
    "start_time": "2023-01-15T16:51:15.571Z"
   },
   {
    "duration": 8,
    "start_time": "2023-01-15T16:51:20.588Z"
   },
   {
    "duration": 429,
    "start_time": "2023-01-15T16:51:38.786Z"
   },
   {
    "duration": 3,
    "start_time": "2023-01-15T16:51:39.217Z"
   },
   {
    "duration": 2645,
    "start_time": "2023-01-15T16:51:39.223Z"
   },
   {
    "duration": 3,
    "start_time": "2023-01-15T16:51:41.870Z"
   },
   {
    "duration": 31,
    "start_time": "2023-01-15T16:51:41.874Z"
   },
   {
    "duration": 19,
    "start_time": "2023-01-15T16:51:41.907Z"
   },
   {
    "duration": 4,
    "start_time": "2023-01-15T16:51:41.928Z"
   },
   {
    "duration": 54914,
    "start_time": "2023-01-15T16:51:41.934Z"
   },
   {
    "duration": 12,
    "start_time": "2023-01-15T16:52:36.850Z"
   },
   {
    "duration": 469,
    "start_time": "2023-01-16T05:57:41.399Z"
   },
   {
    "duration": 2875,
    "start_time": "2023-01-16T05:58:04.426Z"
   },
   {
    "duration": 6,
    "start_time": "2023-01-16T05:58:11.708Z"
   },
   {
    "duration": 3,
    "start_time": "2023-01-16T05:58:26.573Z"
   },
   {
    "duration": 2829,
    "start_time": "2023-01-16T05:58:27.680Z"
   },
   {
    "duration": 2,
    "start_time": "2023-01-16T05:58:33.099Z"
   },
   {
    "duration": 8,
    "start_time": "2023-01-16T05:59:15.846Z"
   },
   {
    "duration": 481,
    "start_time": "2023-01-16T05:59:32.427Z"
   },
   {
    "duration": 3,
    "start_time": "2023-01-16T06:00:18.498Z"
   },
   {
    "duration": 10,
    "start_time": "2023-01-16T06:00:22.320Z"
   },
   {
    "duration": 8,
    "start_time": "2023-01-16T06:00:37.821Z"
   },
   {
    "duration": 8,
    "start_time": "2023-01-16T06:00:44.590Z"
   },
   {
    "duration": 15,
    "start_time": "2023-01-16T06:00:46.217Z"
   },
   {
    "duration": 398,
    "start_time": "2023-01-16T06:01:04.519Z"
   },
   {
    "duration": 3,
    "start_time": "2023-01-16T06:01:04.919Z"
   },
   {
    "duration": 2368,
    "start_time": "2023-01-16T06:01:04.923Z"
   },
   {
    "duration": 5,
    "start_time": "2023-01-16T06:01:07.293Z"
   },
   {
    "duration": 440,
    "start_time": "2023-01-16T06:01:07.299Z"
   },
   {
    "duration": 11,
    "start_time": "2023-01-16T06:01:07.741Z"
   },
   {
    "duration": 19,
    "start_time": "2023-01-16T06:01:07.754Z"
   },
   {
    "duration": 3,
    "start_time": "2023-01-16T06:01:07.775Z"
   },
   {
    "duration": 53823,
    "start_time": "2023-01-16T06:01:07.779Z"
   },
   {
    "duration": 13,
    "start_time": "2023-01-16T06:02:01.605Z"
   },
   {
    "duration": 4,
    "start_time": "2023-01-16T07:23:37.460Z"
   },
   {
    "duration": 5,
    "start_time": "2023-01-16T07:23:51.985Z"
   },
   {
    "duration": 69,
    "start_time": "2023-01-16T07:24:08.948Z"
   },
   {
    "duration": 5,
    "start_time": "2023-01-16T07:24:16.972Z"
   },
   {
    "duration": 4,
    "start_time": "2023-01-16T07:24:29.451Z"
   },
   {
    "duration": 4,
    "start_time": "2023-01-16T07:24:43.808Z"
   },
   {
    "duration": 4,
    "start_time": "2023-01-16T07:24:51.907Z"
   },
   {
    "duration": 7,
    "start_time": "2023-01-16T07:24:57.297Z"
   },
   {
    "duration": 4,
    "start_time": "2023-01-16T07:25:02.653Z"
   },
   {
    "duration": 5,
    "start_time": "2023-01-16T07:25:26.611Z"
   },
   {
    "duration": 4,
    "start_time": "2023-01-16T07:27:38.495Z"
   },
   {
    "duration": 3,
    "start_time": "2023-01-16T07:27:44.039Z"
   },
   {
    "duration": 6,
    "start_time": "2023-01-16T07:28:00.802Z"
   },
   {
    "duration": 6,
    "start_time": "2023-01-16T07:28:37.767Z"
   },
   {
    "duration": 5,
    "start_time": "2023-01-16T07:28:42.544Z"
   },
   {
    "duration": 4,
    "start_time": "2023-01-16T07:28:46.086Z"
   },
   {
    "duration": 6,
    "start_time": "2023-01-16T07:28:50.566Z"
   },
   {
    "duration": 8,
    "start_time": "2023-01-16T07:29:41.872Z"
   },
   {
    "duration": 9,
    "start_time": "2023-01-16T07:30:06.879Z"
   },
   {
    "duration": 6,
    "start_time": "2023-01-16T07:30:57.203Z"
   },
   {
    "duration": 8,
    "start_time": "2023-01-16T07:31:06.202Z"
   },
   {
    "duration": 4,
    "start_time": "2023-01-16T07:31:12.187Z"
   },
   {
    "duration": 3,
    "start_time": "2023-01-16T07:31:53.263Z"
   },
   {
    "duration": 84,
    "start_time": "2023-01-16T07:32:00.734Z"
   },
   {
    "duration": 3,
    "start_time": "2023-01-16T07:32:37.346Z"
   },
   {
    "duration": 88,
    "start_time": "2023-01-16T07:32:39.271Z"
   },
   {
    "duration": 3,
    "start_time": "2023-01-16T07:33:09.261Z"
   },
   {
    "duration": 4,
    "start_time": "2023-01-16T07:33:31.444Z"
   },
   {
    "duration": 2850,
    "start_time": "2023-01-16T07:33:48.480Z"
   },
   {
    "duration": 2,
    "start_time": "2023-01-16T07:33:52.208Z"
   },
   {
    "duration": 5,
    "start_time": "2023-01-16T07:33:54.077Z"
   },
   {
    "duration": 5,
    "start_time": "2023-01-16T07:33:59.463Z"
   },
   {
    "duration": 5,
    "start_time": "2023-01-16T07:34:13.685Z"
   },
   {
    "duration": 4,
    "start_time": "2023-01-16T07:35:14.656Z"
   },
   {
    "duration": 3,
    "start_time": "2023-01-16T07:35:25.559Z"
   },
   {
    "duration": 4,
    "start_time": "2023-01-16T07:36:21.764Z"
   },
   {
    "duration": 4,
    "start_time": "2023-01-16T07:36:35.476Z"
   },
   {
    "duration": 4,
    "start_time": "2023-01-16T07:36:46.716Z"
   },
   {
    "duration": 7,
    "start_time": "2023-01-16T07:37:05.118Z"
   },
   {
    "duration": 8,
    "start_time": "2023-01-16T07:41:14.222Z"
   },
   {
    "duration": 4,
    "start_time": "2023-01-16T07:41:32.268Z"
   },
   {
    "duration": 4,
    "start_time": "2023-01-16T07:41:40.396Z"
   },
   {
    "duration": 5,
    "start_time": "2023-01-16T07:42:45.457Z"
   },
   {
    "duration": 4,
    "start_time": "2023-01-16T07:43:17.261Z"
   },
   {
    "duration": 10,
    "start_time": "2023-01-16T07:43:34.026Z"
   },
   {
    "duration": 2370,
    "start_time": "2023-01-16T07:43:41.273Z"
   },
   {
    "duration": 3,
    "start_time": "2023-01-16T07:43:44.273Z"
   },
   {
    "duration": 6,
    "start_time": "2023-01-16T07:43:45.299Z"
   },
   {
    "duration": 3,
    "start_time": "2023-01-16T07:43:50.242Z"
   },
   {
    "duration": 3,
    "start_time": "2023-01-16T07:44:01.283Z"
   },
   {
    "duration": 6,
    "start_time": "2023-01-16T07:44:10.309Z"
   },
   {
    "duration": 5,
    "start_time": "2023-01-16T07:45:45.310Z"
   },
   {
    "duration": 5,
    "start_time": "2023-01-16T07:47:17.029Z"
   },
   {
    "duration": 3,
    "start_time": "2023-01-16T07:47:26.402Z"
   },
   {
    "duration": 7,
    "start_time": "2023-01-16T07:47:35.446Z"
   },
   {
    "duration": 5,
    "start_time": "2023-01-16T07:47:55.983Z"
   },
   {
    "duration": 7,
    "start_time": "2023-01-16T07:50:32.765Z"
   },
   {
    "duration": 5,
    "start_time": "2023-01-16T07:50:46.537Z"
   },
   {
    "duration": 6,
    "start_time": "2023-01-16T07:51:29.828Z"
   },
   {
    "duration": 7,
    "start_time": "2023-01-16T07:52:12.693Z"
   },
   {
    "duration": 12,
    "start_time": "2023-01-16T07:52:21.129Z"
   },
   {
    "duration": 7,
    "start_time": "2023-01-16T07:52:36.468Z"
   },
   {
    "duration": 4,
    "start_time": "2023-01-16T07:53:21.315Z"
   },
   {
    "duration": 7,
    "start_time": "2023-01-16T07:53:47.979Z"
   },
   {
    "duration": 3,
    "start_time": "2023-01-16T07:54:02.876Z"
   },
   {
    "duration": 3,
    "start_time": "2023-01-16T07:54:14.738Z"
   },
   {
    "duration": 5,
    "start_time": "2023-01-16T07:54:20.934Z"
   },
   {
    "duration": 3,
    "start_time": "2023-01-16T07:55:41.901Z"
   },
   {
    "duration": 3,
    "start_time": "2023-01-16T07:56:22.787Z"
   },
   {
    "duration": 8,
    "start_time": "2023-01-16T07:56:34.915Z"
   },
   {
    "duration": 3,
    "start_time": "2023-01-16T07:58:37.673Z"
   },
   {
    "duration": 5,
    "start_time": "2023-01-16T07:59:12.561Z"
   },
   {
    "duration": 8,
    "start_time": "2023-01-16T07:59:32.100Z"
   },
   {
    "duration": 5,
    "start_time": "2023-01-16T07:59:53.202Z"
   },
   {
    "duration": 6,
    "start_time": "2023-01-16T08:00:02.860Z"
   },
   {
    "duration": 4,
    "start_time": "2023-01-16T08:00:17.637Z"
   },
   {
    "duration": 8,
    "start_time": "2023-01-16T08:00:54.797Z"
   },
   {
    "duration": 17,
    "start_time": "2023-01-16T08:01:07.255Z"
   },
   {
    "duration": 8,
    "start_time": "2023-01-16T08:01:51.889Z"
   },
   {
    "duration": 5,
    "start_time": "2023-01-16T08:02:32.259Z"
   },
   {
    "duration": 8,
    "start_time": "2023-01-16T08:04:23.344Z"
   },
   {
    "duration": 6,
    "start_time": "2023-01-16T08:04:59.559Z"
   },
   {
    "duration": 54,
    "start_time": "2023-01-16T08:06:38.544Z"
   },
   {
    "duration": 33,
    "start_time": "2023-01-16T08:06:51.228Z"
   },
   {
    "duration": 11,
    "start_time": "2023-01-16T08:07:22.892Z"
   },
   {
    "duration": 31,
    "start_time": "2023-01-16T08:08:29.482Z"
   },
   {
    "duration": 5,
    "start_time": "2023-01-16T08:09:12.423Z"
   },
   {
    "duration": 307,
    "start_time": "2023-01-16T08:09:17.797Z"
   },
   {
    "duration": 4,
    "start_time": "2023-01-16T08:12:54.382Z"
   },
   {
    "duration": 3219,
    "start_time": "2023-01-16T08:13:00.925Z"
   },
   {
    "duration": 5,
    "start_time": "2023-01-16T08:14:15.259Z"
   },
   {
    "duration": 5,
    "start_time": "2023-01-16T08:14:22.646Z"
   },
   {
    "duration": 6,
    "start_time": "2023-01-16T08:14:30.022Z"
   },
   {
    "duration": 4,
    "start_time": "2023-01-16T08:15:21.164Z"
   },
   {
    "duration": 4,
    "start_time": "2023-01-16T08:15:34.766Z"
   },
   {
    "duration": 4,
    "start_time": "2023-01-16T08:15:56.277Z"
   },
   {
    "duration": 4,
    "start_time": "2023-01-16T08:17:20.723Z"
   },
   {
    "duration": 3,
    "start_time": "2023-01-16T08:21:44.461Z"
   },
   {
    "duration": 3,
    "start_time": "2023-01-16T08:24:07.625Z"
   },
   {
    "duration": 5,
    "start_time": "2023-01-16T08:24:16.075Z"
   },
   {
    "duration": 6,
    "start_time": "2023-01-16T08:26:02.480Z"
   },
   {
    "duration": 5,
    "start_time": "2023-01-16T08:26:21.888Z"
   },
   {
    "duration": 5,
    "start_time": "2023-01-16T08:27:25.147Z"
   },
   {
    "duration": 411,
    "start_time": "2023-01-16T08:27:37.765Z"
   },
   {
    "duration": 11,
    "start_time": "2023-01-16T08:34:36.133Z"
   },
   {
    "duration": 266,
    "start_time": "2023-01-16T08:34:40.144Z"
   },
   {
    "duration": 195,
    "start_time": "2023-01-16T08:35:44.169Z"
   },
   {
    "duration": 246,
    "start_time": "2023-01-16T08:36:11.666Z"
   },
   {
    "duration": 3,
    "start_time": "2023-01-16T08:36:58.130Z"
   },
   {
    "duration": 11,
    "start_time": "2023-01-16T08:37:43.293Z"
   },
   {
    "duration": 3,
    "start_time": "2023-01-16T08:38:00.420Z"
   },
   {
    "duration": 4,
    "start_time": "2023-01-16T08:38:21.610Z"
   },
   {
    "duration": 10,
    "start_time": "2023-01-16T08:38:42.226Z"
   },
   {
    "duration": 14,
    "start_time": "2023-01-16T08:39:50.212Z"
   },
   {
    "duration": 6,
    "start_time": "2023-01-16T08:40:47.232Z"
   },
   {
    "duration": 14,
    "start_time": "2023-01-16T08:40:55.512Z"
   },
   {
    "duration": 11,
    "start_time": "2023-01-16T08:41:42.829Z"
   },
   {
    "duration": 8,
    "start_time": "2023-01-16T08:42:08.769Z"
   },
   {
    "duration": 6,
    "start_time": "2023-01-16T08:42:18.640Z"
   },
   {
    "duration": 8,
    "start_time": "2023-01-16T08:44:20.639Z"
   },
   {
    "duration": 10,
    "start_time": "2023-01-16T08:45:39.321Z"
   },
   {
    "duration": 12,
    "start_time": "2023-01-16T08:45:55.622Z"
   },
   {
    "duration": 8,
    "start_time": "2023-01-16T08:46:04.481Z"
   },
   {
    "duration": 9,
    "start_time": "2023-01-16T08:46:41.104Z"
   },
   {
    "duration": 9,
    "start_time": "2023-01-16T08:47:45.256Z"
   },
   {
    "duration": 7,
    "start_time": "2023-01-16T08:47:50.543Z"
   },
   {
    "duration": 3,
    "start_time": "2023-01-16T08:48:02.508Z"
   },
   {
    "duration": 8,
    "start_time": "2023-01-16T08:48:28.151Z"
   },
   {
    "duration": 6,
    "start_time": "2023-01-16T08:48:33.498Z"
   },
   {
    "duration": 6,
    "start_time": "2023-01-16T08:49:03.843Z"
   },
   {
    "duration": 10,
    "start_time": "2023-01-16T08:49:09.873Z"
   },
   {
    "duration": 6,
    "start_time": "2023-01-16T08:49:19.724Z"
   },
   {
    "duration": 9,
    "start_time": "2023-01-16T08:50:49.448Z"
   },
   {
    "duration": 8,
    "start_time": "2023-01-16T08:50:58.845Z"
   },
   {
    "duration": 8,
    "start_time": "2023-01-16T08:54:27.412Z"
   },
   {
    "duration": 4184,
    "start_time": "2023-01-16T08:54:40.005Z"
   },
   {
    "duration": 6,
    "start_time": "2023-01-16T08:54:51.343Z"
   },
   {
    "duration": 2922,
    "start_time": "2023-01-16T08:55:01.865Z"
   },
   {
    "duration": 6,
    "start_time": "2023-01-16T08:55:06.400Z"
   },
   {
    "duration": 8,
    "start_time": "2023-01-16T08:55:23.865Z"
   },
   {
    "duration": 8,
    "start_time": "2023-01-16T08:55:29.250Z"
   },
   {
    "duration": 8,
    "start_time": "2023-01-16T08:55:37.631Z"
   },
   {
    "duration": 8,
    "start_time": "2023-01-16T08:55:42.530Z"
   },
   {
    "duration": 7,
    "start_time": "2023-01-16T08:55:47.690Z"
   },
   {
    "duration": 242,
    "start_time": "2023-01-16T08:56:11.415Z"
   },
   {
    "duration": 47,
    "start_time": "2023-01-16T08:56:20.132Z"
   },
   {
    "duration": 4,
    "start_time": "2023-01-16T08:56:57.039Z"
   },
   {
    "duration": 3,
    "start_time": "2023-01-16T08:57:10.057Z"
   },
   {
    "duration": 10,
    "start_time": "2023-01-16T08:57:44.325Z"
   },
   {
    "duration": 7,
    "start_time": "2023-01-16T08:57:46.490Z"
   },
   {
    "duration": 12,
    "start_time": "2023-01-16T08:57:55.799Z"
   },
   {
    "duration": 7,
    "start_time": "2023-01-16T08:57:57.863Z"
   },
   {
    "duration": 11,
    "start_time": "2023-01-16T08:59:42.323Z"
   },
   {
    "duration": 8,
    "start_time": "2023-01-16T08:59:57.715Z"
   },
   {
    "duration": 6048,
    "start_time": "2023-01-16T09:01:03.543Z"
   },
   {
    "duration": 21,
    "start_time": "2023-01-16T09:01:11.115Z"
   },
   {
    "duration": 9,
    "start_time": "2023-01-16T09:02:21.656Z"
   },
   {
    "duration": 6790,
    "start_time": "2023-01-16T09:02:35.488Z"
   },
   {
    "duration": 11,
    "start_time": "2023-01-16T09:02:43.978Z"
   },
   {
    "duration": 414,
    "start_time": "2023-01-16T09:03:19.946Z"
   },
   {
    "duration": 339,
    "start_time": "2023-01-16T09:03:45.770Z"
   },
   {
    "duration": 9,
    "start_time": "2023-01-16T09:04:04.314Z"
   },
   {
    "duration": 10,
    "start_time": "2023-01-16T09:04:35.888Z"
   },
   {
    "duration": 6895,
    "start_time": "2023-01-16T09:04:39.378Z"
   },
   {
    "duration": 17,
    "start_time": "2023-01-16T09:04:47.819Z"
   },
   {
    "duration": 5,
    "start_time": "2023-01-16T09:05:13.033Z"
   },
   {
    "duration": 9,
    "start_time": "2023-01-16T09:05:25.184Z"
   },
   {
    "duration": 357,
    "start_time": "2023-01-16T09:08:21.492Z"
   },
   {
    "duration": 11,
    "start_time": "2023-01-16T09:08:39.428Z"
   },
   {
    "duration": 9,
    "start_time": "2023-01-16T09:09:47.222Z"
   },
   {
    "duration": 397,
    "start_time": "2023-01-16T09:10:11.080Z"
   },
   {
    "duration": 14,
    "start_time": "2023-01-16T09:13:47.911Z"
   },
   {
    "duration": 54,
    "start_time": "2023-01-16T09:13:47.934Z"
   },
   {
    "duration": 16,
    "start_time": "2023-01-16T09:14:24.395Z"
   },
   {
    "duration": 14439,
    "start_time": "2023-01-16T09:14:32.937Z"
   },
   {
    "duration": 18,
    "start_time": "2023-01-16T09:16:01.244Z"
   },
   {
    "duration": 11,
    "start_time": "2023-01-16T09:16:09.710Z"
   },
   {
    "duration": 5,
    "start_time": "2023-01-16T09:17:59.278Z"
   },
   {
    "duration": 12,
    "start_time": "2023-01-16T09:18:14.865Z"
   },
   {
    "duration": 8,
    "start_time": "2023-01-16T09:18:33.174Z"
   },
   {
    "duration": 7,
    "start_time": "2023-01-16T09:19:15.163Z"
   },
   {
    "duration": 7,
    "start_time": "2023-01-16T09:19:23.501Z"
   },
   {
    "duration": 2,
    "start_time": "2023-01-16T09:20:18.209Z"
   },
   {
    "duration": 41227,
    "start_time": "2023-01-16T09:21:21.352Z"
   },
   {
    "duration": 21,
    "start_time": "2023-01-16T09:48:35.278Z"
   },
   {
    "duration": 13570,
    "start_time": "2023-01-16T09:48:44.705Z"
   },
   {
    "duration": 11,
    "start_time": "2023-01-16T09:49:00.433Z"
   },
   {
    "duration": 11,
    "start_time": "2023-01-16T09:49:09.344Z"
   },
   {
    "duration": 46,
    "start_time": "2023-01-16T11:04:46.216Z"
   },
   {
    "duration": 4,
    "start_time": "2023-01-16T11:05:09.930Z"
   },
   {
    "duration": 2,
    "start_time": "2023-01-16T11:05:34.946Z"
   },
   {
    "duration": 4,
    "start_time": "2023-01-16T11:05:51.769Z"
   },
   {
    "duration": 8,
    "start_time": "2023-01-16T11:05:55.363Z"
   },
   {
    "duration": 4,
    "start_time": "2023-01-16T11:06:22.530Z"
   },
   {
    "duration": 4,
    "start_time": "2023-01-16T11:06:23.319Z"
   },
   {
    "duration": 69,
    "start_time": "2023-01-16T11:07:49.127Z"
   },
   {
    "duration": 50,
    "start_time": "2023-01-16T11:08:04.558Z"
   },
   {
    "duration": 8,
    "start_time": "2023-01-16T11:08:59.056Z"
   },
   {
    "duration": 2314,
    "start_time": "2023-01-16T11:12:10.513Z"
   },
   {
    "duration": 5,
    "start_time": "2023-01-16T11:23:51.568Z"
   },
   {
    "duration": 3985,
    "start_time": "2023-01-16T11:24:37.610Z"
   },
   {
    "duration": 8,
    "start_time": "2023-01-16T11:28:36.548Z"
   },
   {
    "duration": 13,
    "start_time": "2023-01-16T11:28:39.555Z"
   },
   {
    "duration": 3,
    "start_time": "2023-01-16T11:29:16.359Z"
   },
   {
    "duration": 12,
    "start_time": "2023-01-16T11:29:19.426Z"
   },
   {
    "duration": 4,
    "start_time": "2023-01-16T11:29:41.707Z"
   },
   {
    "duration": 3,
    "start_time": "2023-01-16T11:29:42.392Z"
   },
   {
    "duration": 7,
    "start_time": "2023-01-16T11:29:59.300Z"
   },
   {
    "duration": 4,
    "start_time": "2023-01-16T11:30:05.161Z"
   },
   {
    "duration": 3,
    "start_time": "2023-01-16T11:30:05.911Z"
   },
   {
    "duration": 7,
    "start_time": "2023-01-16T11:30:06.692Z"
   },
   {
    "duration": 3,
    "start_time": "2023-01-16T11:31:14.576Z"
   },
   {
    "duration": 2,
    "start_time": "2023-01-16T11:31:15.151Z"
   },
   {
    "duration": 7,
    "start_time": "2023-01-16T11:31:15.740Z"
   },
   {
    "duration": 4,
    "start_time": "2023-01-16T11:32:20.024Z"
   },
   {
    "duration": 3,
    "start_time": "2023-01-16T11:32:21.147Z"
   },
   {
    "duration": 4,
    "start_time": "2023-01-16T11:33:13.954Z"
   },
   {
    "duration": 3,
    "start_time": "2023-01-16T11:33:15.306Z"
   },
   {
    "duration": 7,
    "start_time": "2023-01-16T11:33:23.039Z"
   },
   {
    "duration": 4,
    "start_time": "2023-01-16T11:33:41.743Z"
   },
   {
    "duration": 3,
    "start_time": "2023-01-16T11:33:42.367Z"
   },
   {
    "duration": 7,
    "start_time": "2023-01-16T11:33:44.755Z"
   },
   {
    "duration": 4,
    "start_time": "2023-01-16T11:33:57.693Z"
   },
   {
    "duration": 9,
    "start_time": "2023-01-16T11:33:58.362Z"
   },
   {
    "duration": 5,
    "start_time": "2023-01-16T11:36:21.153Z"
   },
   {
    "duration": 63,
    "start_time": "2023-01-16T11:36:22.018Z"
   },
   {
    "duration": 5,
    "start_time": "2023-01-16T11:36:53.956Z"
   },
   {
    "duration": 68,
    "start_time": "2023-01-16T11:37:44.371Z"
   },
   {
    "duration": 4,
    "start_time": "2023-01-16T11:38:53.140Z"
   },
   {
    "duration": 2,
    "start_time": "2023-01-16T11:38:54.094Z"
   },
   {
    "duration": 6,
    "start_time": "2023-01-16T11:38:56.856Z"
   },
   {
    "duration": 8,
    "start_time": "2023-01-16T11:39:01.844Z"
   },
   {
    "duration": 3,
    "start_time": "2023-01-16T11:39:41.777Z"
   },
   {
    "duration": 8,
    "start_time": "2023-01-16T11:39:43.162Z"
   },
   {
    "duration": 3,
    "start_time": "2023-01-16T11:39:48.233Z"
   },
   {
    "duration": 9,
    "start_time": "2023-01-16T11:39:53.812Z"
   },
   {
    "duration": 3,
    "start_time": "2023-01-16T11:40:03.534Z"
   },
   {
    "duration": 3,
    "start_time": "2023-01-16T11:40:04.161Z"
   },
   {
    "duration": 3,
    "start_time": "2023-01-16T11:40:08.262Z"
   },
   {
    "duration": 4,
    "start_time": "2023-01-16T11:40:11.358Z"
   },
   {
    "duration": 2,
    "start_time": "2023-01-16T11:40:12.093Z"
   },
   {
    "duration": 3,
    "start_time": "2023-01-16T11:40:12.705Z"
   },
   {
    "duration": 3,
    "start_time": "2023-01-16T11:40:33.731Z"
   },
   {
    "duration": 3,
    "start_time": "2023-01-16T11:40:34.274Z"
   },
   {
    "duration": 3,
    "start_time": "2023-01-16T11:40:35.004Z"
   },
   {
    "duration": 4,
    "start_time": "2023-01-16T11:43:00.655Z"
   },
   {
    "duration": 2,
    "start_time": "2023-01-16T11:43:01.313Z"
   },
   {
    "duration": 3,
    "start_time": "2023-01-16T11:43:02.164Z"
   },
   {
    "duration": 2,
    "start_time": "2023-01-16T11:43:08.944Z"
   },
   {
    "duration": 3,
    "start_time": "2023-01-16T11:43:32.811Z"
   },
   {
    "duration": 2,
    "start_time": "2023-01-16T11:43:34.903Z"
   },
   {
    "duration": 3,
    "start_time": "2023-01-16T11:43:45.280Z"
   },
   {
    "duration": 4,
    "start_time": "2023-01-16T11:43:46.948Z"
   },
   {
    "duration": 4,
    "start_time": "2023-01-16T11:44:12.314Z"
   },
   {
    "duration": 3,
    "start_time": "2023-01-16T11:44:12.957Z"
   },
   {
    "duration": 3,
    "start_time": "2023-01-16T11:44:19.967Z"
   },
   {
    "duration": 3,
    "start_time": "2023-01-16T11:44:20.602Z"
   },
   {
    "duration": 2,
    "start_time": "2023-01-16T11:44:21.813Z"
   },
   {
    "duration": 4,
    "start_time": "2023-01-16T11:45:04.660Z"
   },
   {
    "duration": 3,
    "start_time": "2023-01-16T11:45:05.671Z"
   },
   {
    "duration": 6,
    "start_time": "2023-01-16T11:45:18.409Z"
   },
   {
    "duration": 3,
    "start_time": "2023-01-16T11:45:28.955Z"
   },
   {
    "duration": 3,
    "start_time": "2023-01-16T11:45:29.616Z"
   },
   {
    "duration": 6,
    "start_time": "2023-01-16T11:45:30.242Z"
   },
   {
    "duration": 51,
    "start_time": "2023-01-16T11:45:34.740Z"
   },
   {
    "duration": 3,
    "start_time": "2023-01-16T11:46:42.852Z"
   },
   {
    "duration": 409,
    "start_time": "2023-01-16T11:46:56.732Z"
   },
   {
    "duration": 3,
    "start_time": "2023-01-16T11:48:01.704Z"
   },
   {
    "duration": 3,
    "start_time": "2023-01-16T11:48:02.595Z"
   },
   {
    "duration": 447,
    "start_time": "2023-01-16T11:48:10.680Z"
   },
   {
    "duration": 3,
    "start_time": "2023-01-16T11:49:05.976Z"
   },
   {
    "duration": 3,
    "start_time": "2023-01-16T11:49:07.089Z"
   },
   {
    "duration": 4,
    "start_time": "2023-01-16T11:49:57.061Z"
   },
   {
    "duration": 3,
    "start_time": "2023-01-16T11:49:57.670Z"
   },
   {
    "duration": 3,
    "start_time": "2023-01-16T12:04:02.368Z"
   },
   {
    "duration": 3,
    "start_time": "2023-01-16T12:04:04.722Z"
   },
   {
    "duration": 3,
    "start_time": "2023-01-16T12:04:10.129Z"
   },
   {
    "duration": 3,
    "start_time": "2023-01-16T12:04:59.592Z"
   },
   {
    "duration": 4,
    "start_time": "2023-01-16T12:05:03.220Z"
   },
   {
    "duration": 3,
    "start_time": "2023-01-16T12:05:42.713Z"
   },
   {
    "duration": 405,
    "start_time": "2023-01-16T12:05:43.369Z"
   },
   {
    "duration": 4,
    "start_time": "2023-01-16T12:08:23.944Z"
   },
   {
    "duration": 7,
    "start_time": "2023-01-16T12:08:25.015Z"
   },
   {
    "duration": 412,
    "start_time": "2023-01-16T12:08:37.719Z"
   },
   {
    "duration": 2,
    "start_time": "2023-01-16T12:09:22.766Z"
   },
   {
    "duration": 3,
    "start_time": "2023-01-16T12:09:26.614Z"
   },
   {
    "duration": 2,
    "start_time": "2023-01-16T12:09:27.254Z"
   },
   {
    "duration": 416,
    "start_time": "2023-01-16T12:09:37.121Z"
   },
   {
    "duration": 4,
    "start_time": "2023-01-16T12:10:21.406Z"
   },
   {
    "duration": 4,
    "start_time": "2023-01-16T12:10:48.401Z"
   },
   {
    "duration": 3,
    "start_time": "2023-01-16T12:10:49.136Z"
   },
   {
    "duration": 4,
    "start_time": "2023-01-16T12:10:50.105Z"
   },
   {
    "duration": 7,
    "start_time": "2023-01-16T12:10:56.697Z"
   },
   {
    "duration": 4,
    "start_time": "2023-01-16T12:12:51.288Z"
   },
   {
    "duration": 419,
    "start_time": "2023-01-16T12:12:59.244Z"
   },
   {
    "duration": 3,
    "start_time": "2023-01-16T12:13:18.836Z"
   },
   {
    "duration": 5,
    "start_time": "2023-01-16T12:13:22.772Z"
   },
   {
    "duration": 10,
    "start_time": "2023-01-16T12:14:24.902Z"
   },
   {
    "duration": 10,
    "start_time": "2023-01-16T12:14:42.950Z"
   },
   {
    "duration": 422,
    "start_time": "2023-01-16T12:15:21.703Z"
   },
   {
    "duration": 46,
    "start_time": "2023-01-16T12:15:27.946Z"
   },
   {
    "duration": 4,
    "start_time": "2023-01-16T12:15:32.604Z"
   },
   {
    "duration": 6,
    "start_time": "2023-01-16T12:15:44.019Z"
   },
   {
    "duration": 4,
    "start_time": "2023-01-16T12:16:35.802Z"
   },
   {
    "duration": 4,
    "start_time": "2023-01-16T12:17:06.066Z"
   },
   {
    "duration": 4,
    "start_time": "2023-01-16T12:17:06.835Z"
   },
   {
    "duration": 5,
    "start_time": "2023-01-16T12:17:15.340Z"
   },
   {
    "duration": 3,
    "start_time": "2023-01-16T12:17:32.094Z"
   },
   {
    "duration": 4,
    "start_time": "2023-01-16T12:18:00.911Z"
   },
   {
    "duration": 3,
    "start_time": "2023-01-16T12:18:16.677Z"
   },
   {
    "duration": 3,
    "start_time": "2023-01-16T12:18:49.843Z"
   },
   {
    "duration": 3,
    "start_time": "2023-01-16T12:19:12.540Z"
   },
   {
    "duration": 3,
    "start_time": "2023-01-16T12:19:16.006Z"
   },
   {
    "duration": 4,
    "start_time": "2023-01-16T12:19:29.668Z"
   },
   {
    "duration": 5,
    "start_time": "2023-01-16T12:19:42.306Z"
   },
   {
    "duration": 425,
    "start_time": "2023-01-16T12:20:07.296Z"
   },
   {
    "duration": 4,
    "start_time": "2023-01-16T12:28:15.635Z"
   },
   {
    "duration": 417,
    "start_time": "2023-01-16T12:28:26.444Z"
   },
   {
    "duration": 3,
    "start_time": "2023-01-16T12:28:36.175Z"
   },
   {
    "duration": 5,
    "start_time": "2023-01-16T12:28:57.669Z"
   },
   {
    "duration": 419,
    "start_time": "2023-01-16T12:29:07.203Z"
   },
   {
    "duration": 416,
    "start_time": "2023-01-16T12:29:13.301Z"
   },
   {
    "duration": 4,
    "start_time": "2023-01-16T12:29:52.975Z"
   },
   {
    "duration": 3,
    "start_time": "2023-01-16T12:29:53.935Z"
   },
   {
    "duration": 472,
    "start_time": "2023-01-16T12:29:54.993Z"
   },
   {
    "duration": 3,
    "start_time": "2023-01-16T12:30:01.436Z"
   },
   {
    "duration": 415,
    "start_time": "2023-01-16T12:30:03.506Z"
   },
   {
    "duration": 8,
    "start_time": "2023-01-16T12:32:03.401Z"
   },
   {
    "duration": 4,
    "start_time": "2023-01-16T12:32:23.981Z"
   },
   {
    "duration": 451,
    "start_time": "2023-01-16T12:32:34.565Z"
   },
   {
    "duration": 7,
    "start_time": "2023-01-16T12:33:18.859Z"
   },
   {
    "duration": 3,
    "start_time": "2023-01-16T12:34:10.222Z"
   },
   {
    "duration": 2,
    "start_time": "2023-01-16T12:34:11.322Z"
   },
   {
    "duration": 3,
    "start_time": "2023-01-16T12:34:22.611Z"
   },
   {
    "duration": 3,
    "start_time": "2023-01-16T12:35:03.874Z"
   },
   {
    "duration": 3,
    "start_time": "2023-01-16T12:35:04.630Z"
   },
   {
    "duration": 431,
    "start_time": "2023-01-16T12:35:09.676Z"
   },
   {
    "duration": 3,
    "start_time": "2023-01-16T12:35:34.330Z"
   },
   {
    "duration": 441,
    "start_time": "2023-01-16T12:35:43.104Z"
   },
   {
    "duration": 3,
    "start_time": "2023-01-16T12:36:04.825Z"
   },
   {
    "duration": 425,
    "start_time": "2023-01-16T12:36:21.973Z"
   },
   {
    "duration": 3,
    "start_time": "2023-01-16T12:37:16.650Z"
   },
   {
    "duration": 3,
    "start_time": "2023-01-16T12:37:23.107Z"
   },
   {
    "duration": 3,
    "start_time": "2023-01-16T12:37:29.702Z"
   },
   {
    "duration": 7,
    "start_time": "2023-01-16T12:37:41.118Z"
   },
   {
    "duration": 4,
    "start_time": "2023-01-16T12:38:59.955Z"
   },
   {
    "duration": 4,
    "start_time": "2023-01-16T12:39:09.270Z"
   },
   {
    "duration": 452,
    "start_time": "2023-01-16T12:39:39.575Z"
   },
   {
    "duration": 6,
    "start_time": "2023-01-16T12:39:46.247Z"
   },
   {
    "duration": 3,
    "start_time": "2023-01-16T12:39:54.750Z"
   },
   {
    "duration": 3,
    "start_time": "2023-01-16T12:43:23.961Z"
   },
   {
    "duration": 4,
    "start_time": "2023-01-16T12:44:31.374Z"
   },
   {
    "duration": 3,
    "start_time": "2023-01-16T12:44:31.722Z"
   },
   {
    "duration": 421,
    "start_time": "2023-01-16T12:44:45.561Z"
   },
   {
    "duration": 5,
    "start_time": "2023-01-16T12:44:56.169Z"
   },
   {
    "duration": 5,
    "start_time": "2023-01-16T12:45:04.473Z"
   },
   {
    "duration": 8,
    "start_time": "2023-01-16T12:46:47.129Z"
   },
   {
    "duration": 7,
    "start_time": "2023-01-16T12:48:33.309Z"
   },
   {
    "duration": 7,
    "start_time": "2023-01-16T12:48:40.483Z"
   },
   {
    "duration": 4,
    "start_time": "2023-01-16T12:48:50.780Z"
   },
   {
    "duration": 4,
    "start_time": "2023-01-16T12:49:02.833Z"
   },
   {
    "duration": 4,
    "start_time": "2023-01-16T12:49:10.496Z"
   },
   {
    "duration": 5,
    "start_time": "2023-01-16T12:49:23.680Z"
   },
   {
    "duration": 4,
    "start_time": "2023-01-16T12:49:31.516Z"
   },
   {
    "duration": 12,
    "start_time": "2023-01-16T12:52:03.527Z"
   },
   {
    "duration": 4,
    "start_time": "2023-01-16T12:52:37.245Z"
   },
   {
    "duration": 416,
    "start_time": "2023-01-16T12:52:46.274Z"
   },
   {
    "duration": 4,
    "start_time": "2023-01-16T12:53:00.489Z"
   },
   {
    "duration": 7,
    "start_time": "2023-01-16T12:53:12.640Z"
   },
   {
    "duration": 4,
    "start_time": "2023-01-16T12:54:00.889Z"
   },
   {
    "duration": 10,
    "start_time": "2023-01-16T12:54:07.496Z"
   },
   {
    "duration": 4,
    "start_time": "2023-01-16T12:54:17.866Z"
   },
   {
    "duration": 444,
    "start_time": "2023-01-16T12:54:19.081Z"
   },
   {
    "duration": 11,
    "start_time": "2023-01-16T12:57:37.729Z"
   },
   {
    "duration": 4,
    "start_time": "2023-01-16T12:57:46.407Z"
   },
   {
    "duration": 9,
    "start_time": "2023-01-16T13:06:26.130Z"
   },
   {
    "duration": 53,
    "start_time": "2023-01-16T13:06:52.284Z"
   },
   {
    "duration": 4,
    "start_time": "2023-01-16T13:07:04.248Z"
   },
   {
    "duration": 410,
    "start_time": "2023-01-16T13:07:08.672Z"
   },
   {
    "duration": 10,
    "start_time": "2023-01-16T13:08:23.098Z"
   },
   {
    "duration": 8,
    "start_time": "2023-01-16T13:09:52.465Z"
   },
   {
    "duration": 11,
    "start_time": "2023-01-16T13:10:25.671Z"
   },
   {
    "duration": 8,
    "start_time": "2023-01-16T13:12:26.531Z"
   },
   {
    "duration": 3,
    "start_time": "2023-01-16T13:12:36.737Z"
   },
   {
    "duration": 427,
    "start_time": "2023-01-16T13:12:40.451Z"
   },
   {
    "duration": 5,
    "start_time": "2023-01-16T13:12:47.833Z"
   },
   {
    "duration": 7,
    "start_time": "2023-01-16T13:12:56.754Z"
   },
   {
    "duration": 7,
    "start_time": "2023-01-16T13:13:11.756Z"
   },
   {
    "duration": 5,
    "start_time": "2023-01-16T13:13:16.589Z"
   },
   {
    "duration": 3,
    "start_time": "2023-01-16T13:14:02.908Z"
   },
   {
    "duration": 8,
    "start_time": "2023-01-16T13:14:07.755Z"
   },
   {
    "duration": 5,
    "start_time": "2023-01-16T13:14:13.229Z"
   },
   {
    "duration": 9,
    "start_time": "2023-01-16T13:14:46.356Z"
   },
   {
    "duration": 3,
    "start_time": "2023-01-16T13:15:32.097Z"
   },
   {
    "duration": 9,
    "start_time": "2023-01-16T13:15:44.435Z"
   },
   {
    "duration": 4,
    "start_time": "2023-01-16T13:16:06.560Z"
   },
   {
    "duration": 3,
    "start_time": "2023-01-16T13:16:07.679Z"
   },
   {
    "duration": 7,
    "start_time": "2023-01-16T13:16:32.103Z"
   },
   {
    "duration": 7,
    "start_time": "2023-01-16T13:16:40.097Z"
   },
   {
    "duration": 4,
    "start_time": "2023-01-16T13:16:51.034Z"
   },
   {
    "duration": 3,
    "start_time": "2023-01-16T13:17:11.230Z"
   },
   {
    "duration": 3,
    "start_time": "2023-01-16T13:17:24.721Z"
   },
   {
    "duration": 4,
    "start_time": "2023-01-16T13:17:34.510Z"
   },
   {
    "duration": 3,
    "start_time": "2023-01-16T13:17:46.617Z"
   },
   {
    "duration": 5,
    "start_time": "2023-01-16T13:17:56.495Z"
   },
   {
    "duration": 4,
    "start_time": "2023-01-16T13:18:16.866Z"
   },
   {
    "duration": 3,
    "start_time": "2023-01-16T13:18:58.943Z"
   },
   {
    "duration": 8,
    "start_time": "2023-01-16T13:19:25.824Z"
   },
   {
    "duration": 6,
    "start_time": "2023-01-16T13:19:39.697Z"
   },
   {
    "duration": 5,
    "start_time": "2023-01-16T13:19:48.043Z"
   },
   {
    "duration": 8,
    "start_time": "2023-01-16T13:34:36.990Z"
   },
   {
    "duration": 4,
    "start_time": "2023-01-16T13:42:43.497Z"
   },
   {
    "duration": 70,
    "start_time": "2023-01-16T13:43:50.279Z"
   },
   {
    "duration": 4,
    "start_time": "2023-01-16T13:48:39.863Z"
   },
   {
    "duration": 8,
    "start_time": "2023-01-16T13:48:45.734Z"
   },
   {
    "duration": 4,
    "start_time": "2023-01-16T13:49:02.381Z"
   },
   {
    "duration": 6,
    "start_time": "2023-01-16T13:49:15.414Z"
   },
   {
    "duration": 4,
    "start_time": "2023-01-16T13:49:32.324Z"
   },
   {
    "duration": 7,
    "start_time": "2023-01-16T13:49:38.318Z"
   },
   {
    "duration": 3,
    "start_time": "2023-01-16T13:49:43.594Z"
   },
   {
    "duration": 3,
    "start_time": "2023-01-16T13:49:47.316Z"
   },
   {
    "duration": 4,
    "start_time": "2023-01-16T13:49:50.714Z"
   },
   {
    "duration": 4,
    "start_time": "2023-01-16T13:49:54.161Z"
   },
   {
    "duration": 3,
    "start_time": "2023-01-16T13:49:58.112Z"
   },
   {
    "duration": 6,
    "start_time": "2023-01-16T13:50:02.011Z"
   },
   {
    "duration": 4,
    "start_time": "2023-01-16T13:50:28.974Z"
   },
   {
    "duration": 3,
    "start_time": "2023-01-16T13:50:33.841Z"
   },
   {
    "duration": 4,
    "start_time": "2023-01-16T13:50:43.115Z"
   },
   {
    "duration": 3,
    "start_time": "2023-01-16T13:51:42.259Z"
   },
   {
    "duration": 3,
    "start_time": "2023-01-16T13:53:09.505Z"
   },
   {
    "duration": 466,
    "start_time": "2023-01-16T13:53:15.039Z"
   },
   {
    "duration": 9,
    "start_time": "2023-01-16T13:53:47.208Z"
   },
   {
    "duration": 4,
    "start_time": "2023-01-16T13:54:14.038Z"
   },
   {
    "duration": 8,
    "start_time": "2023-01-16T13:55:10.707Z"
   },
   {
    "duration": 3,
    "start_time": "2023-01-16T13:55:35.506Z"
   },
   {
    "duration": 8,
    "start_time": "2023-01-16T13:56:52.212Z"
   },
   {
    "duration": 9,
    "start_time": "2023-01-16T13:57:05.450Z"
   },
   {
    "duration": 4,
    "start_time": "2023-01-16T13:57:18.497Z"
   },
   {
    "duration": 382,
    "start_time": "2023-01-16T13:57:27.445Z"
   },
   {
    "duration": 6,
    "start_time": "2023-01-16T13:57:41.986Z"
   },
   {
    "duration": 5,
    "start_time": "2023-01-16T14:00:41.485Z"
   },
   {
    "duration": 2,
    "start_time": "2023-01-16T14:01:05.689Z"
   },
   {
    "duration": 9,
    "start_time": "2023-01-16T14:01:48.066Z"
   },
   {
    "duration": 7,
    "start_time": "2023-01-16T14:01:58.312Z"
   },
   {
    "duration": 4,
    "start_time": "2023-01-16T14:02:13.692Z"
   },
   {
    "duration": 3,
    "start_time": "2023-01-16T14:02:15.663Z"
   },
   {
    "duration": 3,
    "start_time": "2023-01-16T14:02:16.935Z"
   },
   {
    "duration": 3,
    "start_time": "2023-01-16T14:02:55.798Z"
   },
   {
    "duration": 4,
    "start_time": "2023-01-16T14:03:17.142Z"
   },
   {
    "duration": 3,
    "start_time": "2023-01-16T14:03:17.885Z"
   },
   {
    "duration": 5,
    "start_time": "2023-01-16T14:03:53.399Z"
   },
   {
    "duration": 3,
    "start_time": "2023-01-16T14:03:54.175Z"
   },
   {
    "duration": 13,
    "start_time": "2023-01-16T14:04:03.345Z"
   },
   {
    "duration": 3,
    "start_time": "2023-01-16T14:04:32.539Z"
   },
   {
    "duration": 3,
    "start_time": "2023-01-16T14:04:37.709Z"
   },
   {
    "duration": 4,
    "start_time": "2023-01-16T14:07:10.547Z"
   },
   {
    "duration": 4,
    "start_time": "2023-01-16T14:07:18.916Z"
   },
   {
    "duration": 5,
    "start_time": "2023-01-16T14:07:25.500Z"
   },
   {
    "duration": 4,
    "start_time": "2023-01-16T14:07:31.898Z"
   },
   {
    "duration": 6,
    "start_time": "2023-01-16T14:07:36.229Z"
   },
   {
    "duration": 4,
    "start_time": "2023-01-16T14:07:40.237Z"
   },
   {
    "duration": 4,
    "start_time": "2023-01-16T14:08:02.754Z"
   },
   {
    "duration": 4,
    "start_time": "2023-01-16T14:08:10.665Z"
   },
   {
    "duration": 4,
    "start_time": "2023-01-16T14:08:17.691Z"
   },
   {
    "duration": 4,
    "start_time": "2023-01-16T14:08:23.429Z"
   },
   {
    "duration": 19,
    "start_time": "2023-01-16T14:08:30.025Z"
   },
   {
    "duration": 2,
    "start_time": "2023-01-16T14:14:27.659Z"
   },
   {
    "duration": 3,
    "start_time": "2023-01-16T14:14:28.235Z"
   },
   {
    "duration": 3,
    "start_time": "2023-01-16T14:14:28.810Z"
   },
   {
    "duration": 4,
    "start_time": "2023-01-16T14:14:29.478Z"
   },
   {
    "duration": 3,
    "start_time": "2023-01-16T14:14:30.107Z"
   },
   {
    "duration": 3,
    "start_time": "2023-01-16T14:14:30.681Z"
   },
   {
    "duration": 65,
    "start_time": "2023-01-16T14:14:37.435Z"
   },
   {
    "duration": 4,
    "start_time": "2023-01-16T14:14:44.990Z"
   },
   {
    "duration": 3,
    "start_time": "2023-01-16T14:15:05.510Z"
   },
   {
    "duration": 4,
    "start_time": "2023-01-16T14:15:23.262Z"
   },
   {
    "duration": 4,
    "start_time": "2023-01-16T14:15:30.861Z"
   },
   {
    "duration": 4,
    "start_time": "2023-01-16T14:15:35.536Z"
   },
   {
    "duration": 4,
    "start_time": "2023-01-16T14:15:39.331Z"
   },
   {
    "duration": 4,
    "start_time": "2023-01-16T14:15:44.061Z"
   },
   {
    "duration": 1895,
    "start_time": "2023-01-16T14:16:22.326Z"
   },
   {
    "duration": 11,
    "start_time": "2023-01-16T14:16:29.448Z"
   },
   {
    "duration": 4,
    "start_time": "2023-01-16T14:18:45.459Z"
   },
   {
    "duration": 3,
    "start_time": "2023-01-16T14:18:46.287Z"
   },
   {
    "duration": 2,
    "start_time": "2023-01-16T14:18:47.207Z"
   },
   {
    "duration": 5,
    "start_time": "2023-01-16T14:18:47.826Z"
   },
   {
    "duration": 6,
    "start_time": "2023-01-16T14:18:48.479Z"
   },
   {
    "duration": 4,
    "start_time": "2023-01-16T14:18:49.258Z"
   },
   {
    "duration": 3,
    "start_time": "2023-01-16T14:18:50.032Z"
   },
   {
    "duration": 4,
    "start_time": "2023-01-16T14:19:03.321Z"
   },
   {
    "duration": 13910,
    "start_time": "2023-01-16T14:19:14.416Z"
   },
   {
    "duration": 11,
    "start_time": "2023-01-16T14:19:30.007Z"
   },
   {
    "duration": 15,
    "start_time": "2023-01-16T14:20:45.742Z"
   },
   {
    "duration": 12,
    "start_time": "2023-01-16T14:21:04.381Z"
   },
   {
    "duration": 5,
    "start_time": "2023-01-16T14:21:37.545Z"
   },
   {
    "duration": 6,
    "start_time": "2023-01-16T14:21:41.652Z"
   },
   {
    "duration": 4,
    "start_time": "2023-01-16T14:22:01.812Z"
   },
   {
    "duration": 5,
    "start_time": "2023-01-16T14:22:49.644Z"
   },
   {
    "duration": 5,
    "start_time": "2023-01-16T14:22:58.169Z"
   },
   {
    "duration": 4,
    "start_time": "2023-01-16T14:23:01.642Z"
   },
   {
    "duration": 10,
    "start_time": "2023-01-16T14:23:06.794Z"
   },
   {
    "duration": 12,
    "start_time": "2023-01-16T14:23:30.307Z"
   },
   {
    "duration": 10,
    "start_time": "2023-01-16T14:24:10.378Z"
   },
   {
    "duration": 9,
    "start_time": "2023-01-16T14:24:18.756Z"
   },
   {
    "duration": 6,
    "start_time": "2023-01-16T14:24:46.244Z"
   },
   {
    "duration": 5,
    "start_time": "2023-01-16T14:25:52.730Z"
   },
   {
    "duration": 5,
    "start_time": "2023-01-16T14:26:07.879Z"
   },
   {
    "duration": 11,
    "start_time": "2023-01-16T14:26:43.568Z"
   },
   {
    "duration": 8,
    "start_time": "2023-01-16T14:28:13.506Z"
   },
   {
    "duration": 15,
    "start_time": "2023-01-16T14:28:19.569Z"
   },
   {
    "duration": 14,
    "start_time": "2023-01-16T14:28:49.583Z"
   },
   {
    "duration": 13,
    "start_time": "2023-01-16T14:29:07.800Z"
   },
   {
    "duration": 15,
    "start_time": "2023-01-16T14:29:44.456Z"
   },
   {
    "duration": 14,
    "start_time": "2023-01-16T14:30:00.274Z"
   },
   {
    "duration": 13,
    "start_time": "2023-01-16T14:30:12.537Z"
   },
   {
    "duration": 13,
    "start_time": "2023-01-16T14:30:23.743Z"
   },
   {
    "duration": 464,
    "start_time": "2023-01-16T14:34:14.911Z"
   },
   {
    "duration": 3,
    "start_time": "2023-01-16T14:34:15.378Z"
   },
   {
    "duration": 2560,
    "start_time": "2023-01-16T14:34:15.383Z"
   },
   {
    "duration": 3,
    "start_time": "2023-01-16T14:34:17.944Z"
   },
   {
    "duration": 13,
    "start_time": "2023-01-16T14:34:17.949Z"
   },
   {
    "duration": 21,
    "start_time": "2023-01-16T14:34:17.963Z"
   },
   {
    "duration": 14,
    "start_time": "2023-01-16T14:34:17.985Z"
   },
   {
    "duration": 13,
    "start_time": "2023-01-16T14:34:18.001Z"
   },
   {
    "duration": 5,
    "start_time": "2023-01-16T14:34:18.016Z"
   },
   {
    "duration": 20,
    "start_time": "2023-01-16T14:34:18.022Z"
   },
   {
    "duration": 10,
    "start_time": "2023-01-16T14:34:18.044Z"
   },
   {
    "duration": 9,
    "start_time": "2023-01-16T14:34:18.055Z"
   },
   {
    "duration": 13,
    "start_time": "2023-01-16T14:34:18.066Z"
   },
   {
    "duration": 15,
    "start_time": "2023-01-16T14:34:18.081Z"
   },
   {
    "duration": 6,
    "start_time": "2023-01-16T14:34:18.098Z"
   },
   {
    "duration": 13763,
    "start_time": "2023-01-16T14:34:18.106Z"
   },
   {
    "duration": 6,
    "start_time": "2023-01-16T14:34:31.870Z"
   },
   {
    "duration": 15,
    "start_time": "2023-01-16T14:34:31.878Z"
   },
   {
    "duration": 80,
    "start_time": "2023-01-16T14:34:31.895Z"
   },
   {
    "duration": 0,
    "start_time": "2023-01-16T14:34:31.977Z"
   },
   {
    "duration": 0,
    "start_time": "2023-01-16T14:34:31.978Z"
   },
   {
    "duration": 0,
    "start_time": "2023-01-16T14:34:31.979Z"
   },
   {
    "duration": 0,
    "start_time": "2023-01-16T14:34:31.981Z"
   },
   {
    "duration": 0,
    "start_time": "2023-01-16T14:34:31.982Z"
   },
   {
    "duration": 0,
    "start_time": "2023-01-16T14:34:31.983Z"
   },
   {
    "duration": 0,
    "start_time": "2023-01-16T14:34:31.984Z"
   },
   {
    "duration": 0,
    "start_time": "2023-01-16T14:34:31.985Z"
   },
   {
    "duration": 0,
    "start_time": "2023-01-16T14:34:31.986Z"
   },
   {
    "duration": 0,
    "start_time": "2023-01-16T14:34:31.987Z"
   },
   {
    "duration": 449,
    "start_time": "2023-01-16T14:35:07.991Z"
   },
   {
    "duration": 2,
    "start_time": "2023-01-16T14:35:08.442Z"
   },
   {
    "duration": 2971,
    "start_time": "2023-01-16T14:35:08.446Z"
   },
   {
    "duration": 2,
    "start_time": "2023-01-16T14:35:11.419Z"
   },
   {
    "duration": 52,
    "start_time": "2023-01-16T14:35:11.423Z"
   },
   {
    "duration": 47,
    "start_time": "2023-01-16T14:35:11.476Z"
   },
   {
    "duration": 39,
    "start_time": "2023-01-16T14:35:11.524Z"
   },
   {
    "duration": 52,
    "start_time": "2023-01-16T14:35:11.565Z"
   },
   {
    "duration": 21,
    "start_time": "2023-01-16T14:35:11.619Z"
   },
   {
    "duration": 34,
    "start_time": "2023-01-16T14:35:11.643Z"
   },
   {
    "duration": 41,
    "start_time": "2023-01-16T14:35:11.678Z"
   },
   {
    "duration": 47,
    "start_time": "2023-01-16T14:35:11.721Z"
   },
   {
    "duration": 36,
    "start_time": "2023-01-16T14:35:11.770Z"
   },
   {
    "duration": 24,
    "start_time": "2023-01-16T14:35:11.808Z"
   },
   {
    "duration": 6,
    "start_time": "2023-01-16T14:35:11.833Z"
   },
   {
    "duration": 13745,
    "start_time": "2023-01-16T14:35:11.841Z"
   },
   {
    "duration": 8,
    "start_time": "2023-01-16T14:35:25.588Z"
   },
   {
    "duration": 26,
    "start_time": "2023-01-16T14:35:25.598Z"
   },
   {
    "duration": 13404,
    "start_time": "2023-01-16T14:35:25.626Z"
   },
   {
    "duration": 6,
    "start_time": "2023-01-16T14:35:39.032Z"
   },
   {
    "duration": 12,
    "start_time": "2023-01-16T14:35:39.039Z"
   },
   {
    "duration": 22,
    "start_time": "2023-01-16T14:35:39.053Z"
   },
   {
    "duration": 8,
    "start_time": "2023-01-16T14:35:39.077Z"
   },
   {
    "duration": 9,
    "start_time": "2023-01-16T14:35:39.086Z"
   },
   {
    "duration": 623747,
    "start_time": "2023-01-16T14:35:39.096Z"
   },
   {
    "duration": 0,
    "start_time": "2023-01-16T14:46:02.845Z"
   },
   {
    "duration": 0,
    "start_time": "2023-01-16T14:46:02.847Z"
   },
   {
    "duration": 549,
    "start_time": "2023-01-16T16:31:07.507Z"
   },
   {
    "duration": 0,
    "start_time": "2023-01-16T16:31:08.058Z"
   },
   {
    "duration": 0,
    "start_time": "2023-01-16T16:31:08.059Z"
   },
   {
    "duration": 0,
    "start_time": "2023-01-16T16:31:08.060Z"
   },
   {
    "duration": 0,
    "start_time": "2023-01-16T16:31:08.061Z"
   },
   {
    "duration": 0,
    "start_time": "2023-01-16T16:31:08.062Z"
   },
   {
    "duration": 0,
    "start_time": "2023-01-16T16:31:08.063Z"
   },
   {
    "duration": 0,
    "start_time": "2023-01-16T16:31:08.064Z"
   },
   {
    "duration": 0,
    "start_time": "2023-01-16T16:31:08.065Z"
   },
   {
    "duration": 0,
    "start_time": "2023-01-16T16:31:08.066Z"
   },
   {
    "duration": 0,
    "start_time": "2023-01-16T16:31:08.067Z"
   },
   {
    "duration": 0,
    "start_time": "2023-01-16T16:31:08.068Z"
   },
   {
    "duration": 0,
    "start_time": "2023-01-16T16:31:08.069Z"
   },
   {
    "duration": 0,
    "start_time": "2023-01-16T16:31:08.070Z"
   },
   {
    "duration": 0,
    "start_time": "2023-01-16T16:31:08.072Z"
   },
   {
    "duration": 0,
    "start_time": "2023-01-16T16:31:08.073Z"
   },
   {
    "duration": 0,
    "start_time": "2023-01-16T16:31:08.073Z"
   },
   {
    "duration": 0,
    "start_time": "2023-01-16T16:31:08.074Z"
   },
   {
    "duration": 0,
    "start_time": "2023-01-16T16:31:08.075Z"
   },
   {
    "duration": 0,
    "start_time": "2023-01-16T16:31:08.076Z"
   },
   {
    "duration": 0,
    "start_time": "2023-01-16T16:31:08.077Z"
   },
   {
    "duration": 0,
    "start_time": "2023-01-16T16:31:08.078Z"
   },
   {
    "duration": 0,
    "start_time": "2023-01-16T16:31:08.079Z"
   },
   {
    "duration": 0,
    "start_time": "2023-01-16T16:31:08.080Z"
   },
   {
    "duration": 0,
    "start_time": "2023-01-16T16:31:08.081Z"
   },
   {
    "duration": 0,
    "start_time": "2023-01-16T16:31:08.082Z"
   },
   {
    "duration": 0,
    "start_time": "2023-01-16T16:31:08.120Z"
   },
   {
    "duration": 2785,
    "start_time": "2023-01-16T16:31:25.334Z"
   },
   {
    "duration": 6,
    "start_time": "2023-01-16T16:31:31.070Z"
   },
   {
    "duration": 413,
    "start_time": "2023-01-16T16:31:45.147Z"
   },
   {
    "duration": 2,
    "start_time": "2023-01-16T16:31:45.562Z"
   },
   {
    "duration": 2332,
    "start_time": "2023-01-16T16:31:45.566Z"
   },
   {
    "duration": 3,
    "start_time": "2023-01-16T16:31:47.900Z"
   },
   {
    "duration": 11,
    "start_time": "2023-01-16T16:31:47.904Z"
   },
   {
    "duration": 20,
    "start_time": "2023-01-16T16:31:47.916Z"
   },
   {
    "duration": 12,
    "start_time": "2023-01-16T16:31:47.937Z"
   },
   {
    "duration": 13,
    "start_time": "2023-01-16T16:31:47.950Z"
   },
   {
    "duration": 6,
    "start_time": "2023-01-16T16:31:47.964Z"
   },
   {
    "duration": 4,
    "start_time": "2023-01-16T16:31:47.973Z"
   },
   {
    "duration": 11,
    "start_time": "2023-01-16T16:31:47.978Z"
   },
   {
    "duration": 9,
    "start_time": "2023-01-16T16:31:47.990Z"
   },
   {
    "duration": 6,
    "start_time": "2023-01-16T16:31:48.000Z"
   },
   {
    "duration": 7,
    "start_time": "2023-01-16T16:31:48.008Z"
   },
   {
    "duration": 10,
    "start_time": "2023-01-16T16:31:48.017Z"
   },
   {
    "duration": 14156,
    "start_time": "2023-01-16T16:31:48.028Z"
   },
   {
    "duration": 6,
    "start_time": "2023-01-16T16:32:02.185Z"
   },
   {
    "duration": 20,
    "start_time": "2023-01-16T16:32:02.192Z"
   },
   {
    "duration": 13461,
    "start_time": "2023-01-16T16:32:02.214Z"
   },
   {
    "duration": 6,
    "start_time": "2023-01-16T16:32:15.677Z"
   },
   {
    "duration": 13,
    "start_time": "2023-01-16T16:32:15.684Z"
   },
   {
    "duration": 28,
    "start_time": "2023-01-16T16:32:15.699Z"
   },
   {
    "duration": 6,
    "start_time": "2023-01-16T16:32:15.729Z"
   },
   {
    "duration": 13,
    "start_time": "2023-01-16T16:32:15.736Z"
   },
   {
    "duration": 5922266,
    "start_time": "2023-01-16T16:32:15.750Z"
   },
   {
    "duration": 223,
    "start_time": "2023-01-16T18:10:58.018Z"
   },
   {
    "duration": 11,
    "start_time": "2023-01-16T18:10:58.242Z"
   },
   {
    "duration": 75,
    "start_time": "2023-01-16T18:12:19.239Z"
   },
   {
    "duration": 10,
    "start_time": "2023-01-16T18:12:24.158Z"
   },
   {
    "duration": 12,
    "start_time": "2023-01-16T18:12:37.823Z"
   },
   {
    "duration": 10,
    "start_time": "2023-01-16T18:12:50.248Z"
   },
   {
    "duration": 11,
    "start_time": "2023-01-16T18:13:31.221Z"
   },
   {
    "duration": 914,
    "start_time": "2023-01-16T18:13:58.565Z"
   },
   {
    "duration": 11,
    "start_time": "2023-01-16T18:14:33.165Z"
   },
   {
    "duration": 4,
    "start_time": "2023-01-16T18:14:45.902Z"
   },
   {
    "duration": 9,
    "start_time": "2023-01-16T18:14:50.349Z"
   },
   {
    "duration": 703,
    "start_time": "2023-01-16T18:14:54.894Z"
   },
   {
    "duration": 9,
    "start_time": "2023-01-16T18:15:19.565Z"
   },
   {
    "duration": 4,
    "start_time": "2023-01-16T18:15:33.835Z"
   },
   {
    "duration": 7,
    "start_time": "2023-01-16T18:15:47.613Z"
   },
   {
    "duration": 4,
    "start_time": "2023-01-16T18:15:55.948Z"
   },
   {
    "duration": 3,
    "start_time": "2023-01-16T18:16:04.884Z"
   },
   {
    "duration": 12,
    "start_time": "2023-01-16T18:16:19.643Z"
   },
   {
    "duration": 547,
    "start_time": "2023-01-17T07:01:10.236Z"
   },
   {
    "duration": 0,
    "start_time": "2023-01-17T07:01:10.785Z"
   },
   {
    "duration": 0,
    "start_time": "2023-01-17T07:01:10.789Z"
   },
   {
    "duration": 0,
    "start_time": "2023-01-17T07:01:10.790Z"
   },
   {
    "duration": 0,
    "start_time": "2023-01-17T07:01:10.791Z"
   },
   {
    "duration": 0,
    "start_time": "2023-01-17T07:01:10.792Z"
   },
   {
    "duration": 0,
    "start_time": "2023-01-17T07:01:10.793Z"
   },
   {
    "duration": 0,
    "start_time": "2023-01-17T07:01:10.794Z"
   },
   {
    "duration": 0,
    "start_time": "2023-01-17T07:01:10.795Z"
   },
   {
    "duration": 0,
    "start_time": "2023-01-17T07:01:10.795Z"
   },
   {
    "duration": 0,
    "start_time": "2023-01-17T07:01:10.812Z"
   },
   {
    "duration": 0,
    "start_time": "2023-01-17T07:01:10.814Z"
   },
   {
    "duration": 0,
    "start_time": "2023-01-17T07:01:10.815Z"
   },
   {
    "duration": 0,
    "start_time": "2023-01-17T07:01:10.816Z"
   },
   {
    "duration": 0,
    "start_time": "2023-01-17T07:01:10.817Z"
   },
   {
    "duration": 0,
    "start_time": "2023-01-17T07:01:10.818Z"
   },
   {
    "duration": 0,
    "start_time": "2023-01-17T07:01:10.819Z"
   },
   {
    "duration": 0,
    "start_time": "2023-01-17T07:01:10.820Z"
   },
   {
    "duration": 0,
    "start_time": "2023-01-17T07:01:10.821Z"
   },
   {
    "duration": 0,
    "start_time": "2023-01-17T07:01:10.821Z"
   },
   {
    "duration": 1,
    "start_time": "2023-01-17T07:01:10.822Z"
   },
   {
    "duration": 0,
    "start_time": "2023-01-17T07:01:10.824Z"
   },
   {
    "duration": 0,
    "start_time": "2023-01-17T07:01:10.825Z"
   },
   {
    "duration": 0,
    "start_time": "2023-01-17T07:01:10.826Z"
   },
   {
    "duration": 0,
    "start_time": "2023-01-17T07:01:10.827Z"
   },
   {
    "duration": 0,
    "start_time": "2023-01-17T07:01:10.828Z"
   },
   {
    "duration": 0,
    "start_time": "2023-01-17T07:01:10.829Z"
   },
   {
    "duration": 3015,
    "start_time": "2023-01-17T07:01:33.311Z"
   },
   {
    "duration": 474,
    "start_time": "2023-01-17T07:01:49.013Z"
   },
   {
    "duration": 3,
    "start_time": "2023-01-17T07:01:49.489Z"
   },
   {
    "duration": 2508,
    "start_time": "2023-01-17T07:01:49.494Z"
   },
   {
    "duration": 3,
    "start_time": "2023-01-17T07:01:52.004Z"
   },
   {
    "duration": 17,
    "start_time": "2023-01-17T07:01:52.009Z"
   },
   {
    "duration": 47,
    "start_time": "2023-01-17T07:01:52.028Z"
   },
   {
    "duration": 39,
    "start_time": "2023-01-17T07:01:52.077Z"
   },
   {
    "duration": 26,
    "start_time": "2023-01-17T07:01:52.118Z"
   },
   {
    "duration": 27,
    "start_time": "2023-01-17T07:01:52.146Z"
   },
   {
    "duration": 22,
    "start_time": "2023-01-17T07:01:52.176Z"
   },
   {
    "duration": 19,
    "start_time": "2023-01-17T07:01:52.200Z"
   },
   {
    "duration": 21,
    "start_time": "2023-01-17T07:01:52.221Z"
   },
   {
    "duration": 16,
    "start_time": "2023-01-17T07:01:52.243Z"
   },
   {
    "duration": 16,
    "start_time": "2023-01-17T07:01:52.261Z"
   },
   {
    "duration": 39,
    "start_time": "2023-01-17T07:01:52.279Z"
   },
   {
    "duration": 15119,
    "start_time": "2023-01-17T07:01:52.320Z"
   },
   {
    "duration": 6,
    "start_time": "2023-01-17T07:02:07.441Z"
   },
   {
    "duration": 15,
    "start_time": "2023-01-17T07:02:07.449Z"
   },
   {
    "duration": 14830,
    "start_time": "2023-01-17T07:02:07.466Z"
   },
   {
    "duration": 6,
    "start_time": "2023-01-17T07:02:22.298Z"
   },
   {
    "duration": 17,
    "start_time": "2023-01-17T07:02:22.305Z"
   },
   {
    "duration": 27,
    "start_time": "2023-01-17T07:02:22.324Z"
   },
   {
    "duration": 8,
    "start_time": "2023-01-17T07:02:22.352Z"
   },
   {
    "duration": 12,
    "start_time": "2023-01-17T07:02:22.362Z"
   },
   {
    "duration": 131,
    "start_time": "2023-01-17T07:02:22.375Z"
   },
   {
    "duration": 4,
    "start_time": "2023-01-17T07:02:22.508Z"
   },
   {
    "duration": 29,
    "start_time": "2023-01-17T07:02:22.513Z"
   },
   {
    "duration": 9,
    "start_time": "2023-01-17T07:44:54.575Z"
   },
   {
    "duration": 4,
    "start_time": "2023-01-17T08:00:59.618Z"
   },
   {
    "duration": 73,
    "start_time": "2023-01-17T08:02:56.820Z"
   },
   {
    "duration": 4,
    "start_time": "2023-01-17T08:05:13.077Z"
   },
   {
    "duration": 66,
    "start_time": "2023-01-17T08:06:36.738Z"
   },
   {
    "duration": 4,
    "start_time": "2023-01-17T08:08:32.664Z"
   },
   {
    "duration": 132,
    "start_time": "2023-01-17T08:09:04.965Z"
   },
   {
    "duration": 4,
    "start_time": "2023-01-17T08:09:19.848Z"
   },
   {
    "duration": 15390,
    "start_time": "2023-01-17T08:09:23.945Z"
   },
   {
    "duration": 6,
    "start_time": "2023-01-17T08:09:39.337Z"
   },
   {
    "duration": 10,
    "start_time": "2023-01-17T08:09:42.400Z"
   },
   {
    "duration": 8,
    "start_time": "2023-01-17T08:09:47.938Z"
   },
   {
    "duration": 5,
    "start_time": "2023-01-17T08:10:04.051Z"
   },
   {
    "duration": 4,
    "start_time": "2023-01-17T08:10:04.738Z"
   },
   {
    "duration": 3,
    "start_time": "2023-01-17T08:10:05.598Z"
   },
   {
    "duration": 3,
    "start_time": "2023-01-17T08:10:07.871Z"
   },
   {
    "duration": 4,
    "start_time": "2023-01-17T08:10:08.454Z"
   },
   {
    "duration": 7,
    "start_time": "2023-01-17T08:10:09.039Z"
   },
   {
    "duration": 4,
    "start_time": "2023-01-17T08:10:09.634Z"
   },
   {
    "duration": 5,
    "start_time": "2023-01-17T08:10:10.266Z"
   },
   {
    "duration": 4,
    "start_time": "2023-01-17T08:10:11.289Z"
   },
   {
    "duration": 4,
    "start_time": "2023-01-17T08:10:15.438Z"
   },
   {
    "duration": 94,
    "start_time": "2023-01-17T08:10:20.878Z"
   },
   {
    "duration": 4,
    "start_time": "2023-01-17T08:11:33.534Z"
   },
   {
    "duration": 4,
    "start_time": "2023-01-17T08:12:32.829Z"
   },
   {
    "duration": 4,
    "start_time": "2023-01-17T08:12:35.208Z"
   },
   {
    "duration": 4,
    "start_time": "2023-01-17T08:13:32.548Z"
   },
   {
    "duration": 3,
    "start_time": "2023-01-17T08:13:35.762Z"
   },
   {
    "duration": 3,
    "start_time": "2023-01-17T08:13:36.729Z"
   },
   {
    "duration": 5,
    "start_time": "2023-01-17T08:13:37.595Z"
   },
   {
    "duration": 6,
    "start_time": "2023-01-17T08:13:38.858Z"
   },
   {
    "duration": 5,
    "start_time": "2023-01-17T08:13:39.455Z"
   },
   {
    "duration": 7,
    "start_time": "2023-01-17T08:13:40.210Z"
   },
   {
    "duration": 4,
    "start_time": "2023-01-17T08:13:41.549Z"
   },
   {
    "duration": 92,
    "start_time": "2023-01-17T08:18:35.683Z"
   },
   {
    "duration": 84,
    "start_time": "2023-01-17T08:18:46.912Z"
   },
   {
    "duration": 3,
    "start_time": "2023-01-17T08:19:20.328Z"
   },
   {
    "duration": 492,
    "start_time": "2023-01-17T08:20:10.066Z"
   },
   {
    "duration": 2,
    "start_time": "2023-01-17T08:20:10.561Z"
   },
   {
    "duration": 2290,
    "start_time": "2023-01-17T08:20:10.565Z"
   },
   {
    "duration": 3,
    "start_time": "2023-01-17T08:20:12.858Z"
   },
   {
    "duration": 18,
    "start_time": "2023-01-17T08:20:12.863Z"
   },
   {
    "duration": 23,
    "start_time": "2023-01-17T08:20:12.883Z"
   },
   {
    "duration": 5,
    "start_time": "2023-01-17T08:20:12.916Z"
   },
   {
    "duration": 18,
    "start_time": "2023-01-17T08:20:12.923Z"
   },
   {
    "duration": 31,
    "start_time": "2023-01-17T08:20:12.944Z"
   },
   {
    "duration": 10,
    "start_time": "2023-01-17T08:20:12.978Z"
   },
   {
    "duration": 12,
    "start_time": "2023-01-17T08:20:12.990Z"
   },
   {
    "duration": 31,
    "start_time": "2023-01-17T08:20:13.003Z"
   },
   {
    "duration": 9,
    "start_time": "2023-01-17T08:20:13.036Z"
   },
   {
    "duration": 8,
    "start_time": "2023-01-17T08:20:13.048Z"
   },
   {
    "duration": 11,
    "start_time": "2023-01-17T08:20:13.058Z"
   },
   {
    "duration": 6,
    "start_time": "2023-01-17T08:20:13.070Z"
   },
   {
    "duration": 12,
    "start_time": "2023-01-17T08:20:13.077Z"
   },
   {
    "duration": 9,
    "start_time": "2023-01-17T08:20:13.090Z"
   },
   {
    "duration": 84,
    "start_time": "2023-01-17T08:20:13.100Z"
   },
   {
    "duration": 0,
    "start_time": "2023-01-17T08:20:13.186Z"
   },
   {
    "duration": 0,
    "start_time": "2023-01-17T08:20:13.187Z"
   },
   {
    "duration": 0,
    "start_time": "2023-01-17T08:20:13.188Z"
   },
   {
    "duration": 0,
    "start_time": "2023-01-17T08:20:13.190Z"
   },
   {
    "duration": 0,
    "start_time": "2023-01-17T08:20:13.190Z"
   },
   {
    "duration": 0,
    "start_time": "2023-01-17T08:20:13.191Z"
   },
   {
    "duration": 0,
    "start_time": "2023-01-17T08:20:13.193Z"
   },
   {
    "duration": 1,
    "start_time": "2023-01-17T08:20:13.193Z"
   },
   {
    "duration": 0,
    "start_time": "2023-01-17T08:20:13.195Z"
   },
   {
    "duration": 0,
    "start_time": "2023-01-17T08:20:13.196Z"
   },
   {
    "duration": 1,
    "start_time": "2023-01-17T08:20:13.196Z"
   },
   {
    "duration": 0,
    "start_time": "2023-01-17T08:20:13.214Z"
   },
   {
    "duration": 0,
    "start_time": "2023-01-17T08:20:13.215Z"
   },
   {
    "duration": 3,
    "start_time": "2023-01-17T08:29:53.426Z"
   },
   {
    "duration": 525,
    "start_time": "2023-01-17T08:30:50.053Z"
   },
   {
    "duration": 3,
    "start_time": "2023-01-17T08:30:50.580Z"
   },
   {
    "duration": 2621,
    "start_time": "2023-01-17T08:30:50.584Z"
   },
   {
    "duration": 3,
    "start_time": "2023-01-17T08:30:53.207Z"
   },
   {
    "duration": 41,
    "start_time": "2023-01-17T08:30:53.211Z"
   },
   {
    "duration": 49,
    "start_time": "2023-01-17T08:30:53.253Z"
   },
   {
    "duration": 46,
    "start_time": "2023-01-17T08:30:53.304Z"
   },
   {
    "duration": 53,
    "start_time": "2023-01-17T08:30:53.352Z"
   },
   {
    "duration": 23,
    "start_time": "2023-01-17T08:30:53.407Z"
   },
   {
    "duration": 19,
    "start_time": "2023-01-17T08:30:53.433Z"
   },
   {
    "duration": 33,
    "start_time": "2023-01-17T08:30:53.454Z"
   },
   {
    "duration": 41,
    "start_time": "2023-01-17T08:30:53.489Z"
   },
   {
    "duration": 14,
    "start_time": "2023-01-17T08:30:53.531Z"
   },
   {
    "duration": 74,
    "start_time": "2023-01-17T08:30:53.546Z"
   },
   {
    "duration": 0,
    "start_time": "2023-01-17T08:30:53.622Z"
   },
   {
    "duration": 0,
    "start_time": "2023-01-17T08:30:53.624Z"
   },
   {
    "duration": 0,
    "start_time": "2023-01-17T08:30:53.626Z"
   },
   {
    "duration": 0,
    "start_time": "2023-01-17T08:30:53.627Z"
   },
   {
    "duration": 0,
    "start_time": "2023-01-17T08:30:53.629Z"
   },
   {
    "duration": 0,
    "start_time": "2023-01-17T08:30:53.630Z"
   },
   {
    "duration": 0,
    "start_time": "2023-01-17T08:30:53.632Z"
   },
   {
    "duration": 0,
    "start_time": "2023-01-17T08:30:53.633Z"
   },
   {
    "duration": 0,
    "start_time": "2023-01-17T08:30:53.635Z"
   },
   {
    "duration": 0,
    "start_time": "2023-01-17T08:30:53.636Z"
   },
   {
    "duration": 0,
    "start_time": "2023-01-17T08:30:53.638Z"
   },
   {
    "duration": 0,
    "start_time": "2023-01-17T08:30:53.639Z"
   },
   {
    "duration": 0,
    "start_time": "2023-01-17T08:30:53.640Z"
   },
   {
    "duration": 4,
    "start_time": "2023-01-17T08:32:50.358Z"
   },
   {
    "duration": 474,
    "start_time": "2023-01-17T08:37:04.282Z"
   },
   {
    "duration": 3,
    "start_time": "2023-01-17T08:37:04.758Z"
   },
   {
    "duration": 3000,
    "start_time": "2023-01-17T08:37:04.762Z"
   },
   {
    "duration": 3,
    "start_time": "2023-01-17T08:37:07.765Z"
   },
   {
    "duration": 19,
    "start_time": "2023-01-17T08:37:07.770Z"
   },
   {
    "duration": 8,
    "start_time": "2023-01-17T08:37:07.791Z"
   },
   {
    "duration": 10,
    "start_time": "2023-01-17T08:37:07.801Z"
   },
   {
    "duration": 17,
    "start_time": "2023-01-17T08:37:07.813Z"
   },
   {
    "duration": 19,
    "start_time": "2023-01-17T08:37:07.832Z"
   },
   {
    "duration": 29,
    "start_time": "2023-01-17T08:37:07.853Z"
   },
   {
    "duration": 8,
    "start_time": "2023-01-17T08:37:07.884Z"
   },
   {
    "duration": 15489,
    "start_time": "2023-01-17T08:37:07.893Z"
   },
   {
    "duration": 10,
    "start_time": "2023-01-17T08:37:23.384Z"
   },
   {
    "duration": 31,
    "start_time": "2023-01-17T08:37:23.396Z"
   },
   {
    "duration": 14,
    "start_time": "2023-01-17T08:37:23.429Z"
   },
   {
    "duration": 19,
    "start_time": "2023-01-17T08:37:23.445Z"
   },
   {
    "duration": 3,
    "start_time": "2023-01-17T08:37:23.466Z"
   },
   {
    "duration": 139,
    "start_time": "2023-01-17T08:37:23.470Z"
   },
   {
    "duration": 10,
    "start_time": "2023-01-17T08:37:23.611Z"
   },
   {
    "duration": 27,
    "start_time": "2023-01-17T08:37:23.623Z"
   },
   {
    "duration": 7,
    "start_time": "2023-01-17T08:44:15.560Z"
   },
   {
    "duration": 4,
    "start_time": "2023-01-17T10:18:02.586Z"
   },
   {
    "duration": 3,
    "start_time": "2023-01-17T10:42:54.057Z"
   },
   {
    "duration": 1986,
    "start_time": "2023-01-17T10:43:08.089Z"
   },
   {
    "duration": 3,
    "start_time": "2023-01-17T10:44:41.108Z"
   },
   {
    "duration": 1163,
    "start_time": "2023-01-17T10:44:42.235Z"
   },
   {
    "duration": 4,
    "start_time": "2023-01-17T10:45:14.894Z"
   },
   {
    "duration": 1505,
    "start_time": "2023-01-17T10:45:15.658Z"
   },
   {
    "duration": 1218,
    "start_time": "2023-01-17T10:45:35.667Z"
   },
   {
    "duration": 3,
    "start_time": "2023-01-17T10:46:46.955Z"
   },
   {
    "duration": 1183,
    "start_time": "2023-01-17T10:46:47.824Z"
   },
   {
    "duration": 3,
    "start_time": "2023-01-17T10:48:11.604Z"
   },
   {
    "duration": 1176,
    "start_time": "2023-01-17T10:48:12.276Z"
   },
   {
    "duration": 4,
    "start_time": "2023-01-17T10:48:55.875Z"
   },
   {
    "duration": 1213,
    "start_time": "2023-01-17T10:48:56.752Z"
   },
   {
    "duration": 4,
    "start_time": "2023-01-17T10:49:13.222Z"
   },
   {
    "duration": 1195,
    "start_time": "2023-01-17T10:49:13.889Z"
   },
   {
    "duration": 1661,
    "start_time": "2023-01-17T10:50:13.414Z"
   },
   {
    "duration": 47,
    "start_time": "2023-01-17T10:50:26.677Z"
   },
   {
    "duration": 10,
    "start_time": "2023-01-17T10:51:18.865Z"
   },
   {
    "duration": 9,
    "start_time": "2023-01-17T10:51:34.929Z"
   },
   {
    "duration": 4,
    "start_time": "2023-01-17T10:51:42.338Z"
   },
   {
    "duration": 1688,
    "start_time": "2023-01-17T10:52:07.036Z"
   },
   {
    "duration": 50,
    "start_time": "2023-01-17T10:52:12.989Z"
   },
   {
    "duration": 43,
    "start_time": "2023-01-17T10:52:20.859Z"
   },
   {
    "duration": 7,
    "start_time": "2023-01-17T10:52:46.183Z"
   },
   {
    "duration": 8,
    "start_time": "2023-01-17T10:53:00.928Z"
   },
   {
    "duration": 1620,
    "start_time": "2023-01-17T10:53:10.798Z"
   },
   {
    "duration": 45,
    "start_time": "2023-01-17T10:53:13.318Z"
   },
   {
    "duration": 4,
    "start_time": "2023-01-17T10:53:27.894Z"
   },
   {
    "duration": 7,
    "start_time": "2023-01-17T10:54:17.203Z"
   },
   {
    "duration": 4,
    "start_time": "2023-01-17T10:54:26.665Z"
   },
   {
    "duration": 1308,
    "start_time": "2023-01-17T10:55:00.676Z"
   },
   {
    "duration": 3,
    "start_time": "2023-01-17T10:55:01.987Z"
   },
   {
    "duration": 43,
    "start_time": "2023-01-17T10:55:15.945Z"
   },
   {
    "duration": 4,
    "start_time": "2023-01-17T10:55:23.278Z"
   },
   {
    "duration": 5,
    "start_time": "2023-01-17T10:55:33.751Z"
   },
   {
    "duration": 5,
    "start_time": "2023-01-17T10:55:40.855Z"
   },
   {
    "duration": 3,
    "start_time": "2023-01-17T10:55:51.212Z"
   },
   {
    "duration": 1257,
    "start_time": "2023-01-17T10:56:34.818Z"
   },
   {
    "duration": 2,
    "start_time": "2023-01-17T10:56:36.077Z"
   },
   {
    "duration": 3,
    "start_time": "2023-01-17T10:56:37.634Z"
   },
   {
    "duration": 4,
    "start_time": "2023-01-17T10:56:46.195Z"
   },
   {
    "duration": 1408,
    "start_time": "2023-01-17T11:05:05.492Z"
   },
   {
    "duration": 2,
    "start_time": "2023-01-17T11:05:06.903Z"
   },
   {
    "duration": 11,
    "start_time": "2023-01-17T11:05:10.672Z"
   },
   {
    "duration": 52,
    "start_time": "2023-01-17T11:05:42.672Z"
   },
   {
    "duration": 4,
    "start_time": "2023-01-17T11:05:48.397Z"
   },
   {
    "duration": 4,
    "start_time": "2023-01-17T11:06:00.395Z"
   },
   {
    "duration": 5,
    "start_time": "2023-01-17T11:06:09.673Z"
   },
   {
    "duration": 43,
    "start_time": "2023-01-17T11:06:23.039Z"
   },
   {
    "duration": 4,
    "start_time": "2023-01-17T11:07:56.925Z"
   },
   {
    "duration": 4,
    "start_time": "2023-01-17T11:08:08.243Z"
   },
   {
    "duration": 4,
    "start_time": "2023-01-17T11:08:15.387Z"
   },
   {
    "duration": 4,
    "start_time": "2023-01-17T11:08:20.946Z"
   },
   {
    "duration": 5,
    "start_time": "2023-01-17T11:08:25.368Z"
   },
   {
    "duration": 4,
    "start_time": "2023-01-17T11:08:41.586Z"
   },
   {
    "duration": 209,
    "start_time": "2023-01-17T11:10:32.830Z"
   },
   {
    "duration": 117,
    "start_time": "2023-01-17T11:10:44.797Z"
   },
   {
    "duration": 7,
    "start_time": "2023-01-17T11:12:31.983Z"
   },
   {
    "duration": 8,
    "start_time": "2023-01-17T11:16:17.034Z"
   },
   {
    "duration": 25,
    "start_time": "2023-01-17T11:16:27.562Z"
   },
   {
    "duration": 11,
    "start_time": "2023-01-17T11:16:40.399Z"
   },
   {
    "duration": 18,
    "start_time": "2023-01-17T11:17:23.102Z"
   },
   {
    "duration": 635,
    "start_time": "2023-01-17T11:18:46.608Z"
   },
   {
    "duration": 4,
    "start_time": "2023-01-17T11:19:19.166Z"
   },
   {
    "duration": 50,
    "start_time": "2023-01-17T11:19:19.946Z"
   },
   {
    "duration": 11,
    "start_time": "2023-01-17T11:23:20.563Z"
   },
   {
    "duration": 11,
    "start_time": "2023-01-17T11:24:03.915Z"
   },
   {
    "duration": 11,
    "start_time": "2023-01-17T11:24:21.344Z"
   },
   {
    "duration": 13,
    "start_time": "2023-01-17T11:26:29.626Z"
   },
   {
    "duration": 12,
    "start_time": "2023-01-17T11:26:55.146Z"
   },
   {
    "duration": 8,
    "start_time": "2023-01-17T11:27:19.450Z"
   },
   {
    "duration": 3280,
    "start_time": "2023-01-17T11:33:55.710Z"
   },
   {
    "duration": 18,
    "start_time": "2023-01-17T11:34:09.781Z"
   },
   {
    "duration": 211,
    "start_time": "2023-01-17T11:35:58.360Z"
   },
   {
    "duration": 24,
    "start_time": "2023-01-17T11:36:53.830Z"
   },
   {
    "duration": 3145,
    "start_time": "2023-01-17T11:40:08.038Z"
   },
   {
    "duration": 30,
    "start_time": "2023-01-17T11:40:14.680Z"
   },
   {
    "duration": 14,
    "start_time": "2023-01-17T11:43:36.504Z"
   },
   {
    "duration": 15,
    "start_time": "2023-01-17T11:44:08.694Z"
   },
   {
    "duration": 31,
    "start_time": "2023-01-17T11:44:20.412Z"
   },
   {
    "duration": 14,
    "start_time": "2023-01-17T11:45:41.609Z"
   },
   {
    "duration": 687,
    "start_time": "2023-01-17T11:45:52.275Z"
   },
   {
    "duration": 3,
    "start_time": "2023-01-17T11:47:16.307Z"
   },
   {
    "duration": 59,
    "start_time": "2023-01-17T11:47:18.097Z"
   },
   {
    "duration": 14,
    "start_time": "2023-01-17T11:49:46.701Z"
   },
   {
    "duration": 14,
    "start_time": "2023-01-17T11:54:36.290Z"
   },
   {
    "duration": 10,
    "start_time": "2023-01-17T11:56:00.922Z"
   },
   {
    "duration": 2819,
    "start_time": "2023-01-17T11:56:50.651Z"
   },
   {
    "duration": 17,
    "start_time": "2023-01-17T11:57:00.793Z"
   },
   {
    "duration": 3172,
    "start_time": "2023-01-17T11:58:44.296Z"
   },
   {
    "duration": 14,
    "start_time": "2023-01-17T11:59:00.261Z"
   },
   {
    "duration": 5,
    "start_time": "2023-01-17T11:59:21.770Z"
   },
   {
    "duration": 2714,
    "start_time": "2023-01-17T11:59:38.548Z"
   },
   {
    "duration": 90,
    "start_time": "2023-01-17T11:59:42.923Z"
   },
   {
    "duration": 5,
    "start_time": "2023-01-17T11:59:44.456Z"
   },
   {
    "duration": 6,
    "start_time": "2023-01-17T11:59:50.431Z"
   },
   {
    "duration": 13,
    "start_time": "2023-01-17T11:59:51.372Z"
   },
   {
    "duration": 4,
    "start_time": "2023-01-17T12:08:40.379Z"
   },
   {
    "duration": 2773,
    "start_time": "2023-01-17T12:08:54.157Z"
   },
   {
    "duration": 6,
    "start_time": "2023-01-17T12:09:14.597Z"
   },
   {
    "duration": 12,
    "start_time": "2023-01-17T12:09:23.224Z"
   },
   {
    "duration": 3771,
    "start_time": "2023-01-17T12:10:13.938Z"
   },
   {
    "duration": 3143,
    "start_time": "2023-01-17T12:10:28.274Z"
   },
   {
    "duration": 5,
    "start_time": "2023-01-17T12:10:35.538Z"
   },
   {
    "duration": 3206,
    "start_time": "2023-01-17T12:10:58.783Z"
   },
   {
    "duration": 5,
    "start_time": "2023-01-17T12:11:04.394Z"
   },
   {
    "duration": 11,
    "start_time": "2023-01-17T12:11:34.964Z"
   },
   {
    "duration": 2726,
    "start_time": "2023-01-17T12:16:36.339Z"
   },
   {
    "duration": 4,
    "start_time": "2023-01-17T12:16:39.370Z"
   },
   {
    "duration": 2817,
    "start_time": "2023-01-17T12:16:59.749Z"
   },
   {
    "duration": 5,
    "start_time": "2023-01-17T12:17:05.239Z"
   },
   {
    "duration": 17,
    "start_time": "2023-01-17T12:17:10.541Z"
   },
   {
    "duration": 22902,
    "start_time": "2023-01-17T12:19:06.111Z"
   },
   {
    "duration": 5,
    "start_time": "2023-01-17T12:19:29.015Z"
   },
   {
    "duration": 17,
    "start_time": "2023-01-17T12:19:33.129Z"
   },
   {
    "duration": 23377,
    "start_time": "2023-01-17T12:20:09.614Z"
   },
   {
    "duration": 24874,
    "start_time": "2023-01-17T12:20:45.492Z"
   },
   {
    "duration": 1268,
    "start_time": "2023-01-17T12:31:50.627Z"
   },
   {
    "duration": 3522,
    "start_time": "2023-01-17T12:32:19.491Z"
   },
   {
    "duration": 5,
    "start_time": "2023-01-17T12:32:28.277Z"
   },
   {
    "duration": 6,
    "start_time": "2023-01-17T12:35:57.237Z"
   },
   {
    "duration": 19,
    "start_time": "2023-01-17T12:36:03.433Z"
   },
   {
    "duration": 4,
    "start_time": "2023-01-17T12:36:28.916Z"
   },
   {
    "duration": 4,
    "start_time": "2023-01-17T12:39:15.304Z"
   },
   {
    "duration": 1429,
    "start_time": "2023-01-17T12:40:14.039Z"
   },
   {
    "duration": 1379,
    "start_time": "2023-01-17T12:40:17.285Z"
   },
   {
    "duration": 4,
    "start_time": "2023-01-17T12:40:25.280Z"
   },
   {
    "duration": 4,
    "start_time": "2023-01-17T12:40:28.100Z"
   },
   {
    "duration": 5,
    "start_time": "2023-01-17T12:42:38.403Z"
   },
   {
    "duration": 4,
    "start_time": "2023-01-17T12:50:53.820Z"
   },
   {
    "duration": 2759,
    "start_time": "2023-01-17T12:50:59.783Z"
   },
   {
    "duration": 4,
    "start_time": "2023-01-17T12:51:06.999Z"
   },
   {
    "duration": 1482,
    "start_time": "2023-01-17T12:52:20.218Z"
   },
   {
    "duration": 4,
    "start_time": "2023-01-17T12:52:30.737Z"
   },
   {
    "duration": 47,
    "start_time": "2023-01-17T12:52:36.387Z"
   },
   {
    "duration": 6,
    "start_time": "2023-01-17T12:53:00.541Z"
   },
   {
    "duration": 6,
    "start_time": "2023-01-17T12:53:20.104Z"
   },
   {
    "duration": 5,
    "start_time": "2023-01-17T12:54:07.166Z"
   },
   {
    "duration": 1611,
    "start_time": "2023-01-17T12:55:36.579Z"
   },
   {
    "duration": 2831,
    "start_time": "2023-01-17T13:03:52.774Z"
   },
   {
    "duration": 4,
    "start_time": "2023-01-17T13:04:00.207Z"
   },
   {
    "duration": 4,
    "start_time": "2023-01-17T13:04:09.890Z"
   },
   {
    "duration": 5,
    "start_time": "2023-01-17T13:04:14.739Z"
   },
   {
    "duration": 3290,
    "start_time": "2023-01-17T13:06:07.216Z"
   },
   {
    "duration": 4,
    "start_time": "2023-01-17T13:06:17.229Z"
   },
   {
    "duration": 5,
    "start_time": "2023-01-17T13:06:27.555Z"
   },
   {
    "duration": 2033,
    "start_time": "2023-01-17T13:12:44.859Z"
   },
   {
    "duration": 1561,
    "start_time": "2023-01-17T13:13:12.997Z"
   },
   {
    "duration": 2639,
    "start_time": "2023-01-17T13:13:29.657Z"
   },
   {
    "duration": 4,
    "start_time": "2023-01-17T13:13:38.023Z"
   },
   {
    "duration": 539,
    "start_time": "2023-01-17T13:14:00.127Z"
   },
   {
    "duration": 2,
    "start_time": "2023-01-17T13:14:00.668Z"
   },
   {
    "duration": 2290,
    "start_time": "2023-01-17T13:14:00.672Z"
   },
   {
    "duration": 3,
    "start_time": "2023-01-17T13:14:02.964Z"
   },
   {
    "duration": 72,
    "start_time": "2023-01-17T13:14:02.968Z"
   },
   {
    "duration": 17,
    "start_time": "2023-01-17T13:14:03.042Z"
   },
   {
    "duration": 19,
    "start_time": "2023-01-17T13:14:03.060Z"
   },
   {
    "duration": 25,
    "start_time": "2023-01-17T13:14:03.080Z"
   },
   {
    "duration": 52,
    "start_time": "2023-01-17T13:14:03.106Z"
   },
   {
    "duration": 42,
    "start_time": "2023-01-17T13:14:03.161Z"
   },
   {
    "duration": 44,
    "start_time": "2023-01-17T13:14:03.205Z"
   },
   {
    "duration": 15577,
    "start_time": "2023-01-17T13:14:03.250Z"
   },
   {
    "duration": 11,
    "start_time": "2023-01-17T13:14:18.829Z"
   },
   {
    "duration": 9,
    "start_time": "2023-01-17T13:14:18.841Z"
   },
   {
    "duration": 9,
    "start_time": "2023-01-17T13:14:18.852Z"
   },
   {
    "duration": 11,
    "start_time": "2023-01-17T13:14:18.863Z"
   },
   {
    "duration": 10,
    "start_time": "2023-01-17T13:14:18.875Z"
   },
   {
    "duration": 32,
    "start_time": "2023-01-17T13:14:18.887Z"
   },
   {
    "duration": 5,
    "start_time": "2023-01-17T13:14:18.921Z"
   },
   {
    "duration": 157,
    "start_time": "2023-01-17T13:14:18.927Z"
   },
   {
    "duration": 4,
    "start_time": "2023-01-17T13:14:19.086Z"
   },
   {
    "duration": 20,
    "start_time": "2023-01-17T13:14:19.092Z"
   },
   {
    "duration": 10,
    "start_time": "2023-01-17T13:14:19.114Z"
   },
   {
    "duration": 69,
    "start_time": "2023-01-17T13:14:19.125Z"
   },
   {
    "duration": 98,
    "start_time": "2023-01-17T13:14:19.196Z"
   },
   {
    "duration": 0,
    "start_time": "2023-01-17T13:14:19.297Z"
   },
   {
    "duration": 0,
    "start_time": "2023-01-17T13:14:19.299Z"
   },
   {
    "duration": 0,
    "start_time": "2023-01-17T13:14:19.313Z"
   },
   {
    "duration": 0,
    "start_time": "2023-01-17T13:14:19.314Z"
   },
   {
    "duration": 0,
    "start_time": "2023-01-17T13:14:19.315Z"
   },
   {
    "duration": 0,
    "start_time": "2023-01-17T13:14:19.316Z"
   },
   {
    "duration": 0,
    "start_time": "2023-01-17T13:14:19.316Z"
   },
   {
    "duration": 0,
    "start_time": "2023-01-17T13:14:19.317Z"
   },
   {
    "duration": 0,
    "start_time": "2023-01-17T13:14:19.318Z"
   },
   {
    "duration": 0,
    "start_time": "2023-01-17T13:14:19.319Z"
   },
   {
    "duration": 0,
    "start_time": "2023-01-17T13:14:19.320Z"
   },
   {
    "duration": 0,
    "start_time": "2023-01-17T13:14:19.322Z"
   },
   {
    "duration": 0,
    "start_time": "2023-01-17T13:14:19.323Z"
   },
   {
    "duration": 3,
    "start_time": "2023-01-17T13:15:35.716Z"
   },
   {
    "duration": 3059,
    "start_time": "2023-01-17T13:15:37.441Z"
   },
   {
    "duration": 436,
    "start_time": "2023-01-17T13:16:14.777Z"
   },
   {
    "duration": 2,
    "start_time": "2023-01-17T13:16:15.215Z"
   },
   {
    "duration": 2306,
    "start_time": "2023-01-17T13:16:15.219Z"
   },
   {
    "duration": 3,
    "start_time": "2023-01-17T13:16:17.528Z"
   },
   {
    "duration": 33,
    "start_time": "2023-01-17T13:16:17.533Z"
   },
   {
    "duration": 8,
    "start_time": "2023-01-17T13:16:17.568Z"
   },
   {
    "duration": 21,
    "start_time": "2023-01-17T13:16:17.578Z"
   },
   {
    "duration": 28,
    "start_time": "2023-01-17T13:16:17.601Z"
   },
   {
    "duration": 20,
    "start_time": "2023-01-17T13:16:17.631Z"
   },
   {
    "duration": 20,
    "start_time": "2023-01-17T13:16:17.655Z"
   },
   {
    "duration": 13,
    "start_time": "2023-01-17T13:16:17.677Z"
   },
   {
    "duration": 15181,
    "start_time": "2023-01-17T13:16:17.692Z"
   },
   {
    "duration": 12,
    "start_time": "2023-01-17T13:16:32.874Z"
   },
   {
    "duration": 10,
    "start_time": "2023-01-17T13:16:32.888Z"
   },
   {
    "duration": 15,
    "start_time": "2023-01-17T13:16:32.900Z"
   },
   {
    "duration": 13,
    "start_time": "2023-01-17T13:16:32.917Z"
   },
   {
    "duration": 24,
    "start_time": "2023-01-17T13:16:32.932Z"
   },
   {
    "duration": 17,
    "start_time": "2023-01-17T13:16:32.958Z"
   },
   {
    "duration": 4,
    "start_time": "2023-01-17T13:16:32.977Z"
   },
   {
    "duration": 42,
    "start_time": "2023-01-17T13:16:32.983Z"
   },
   {
    "duration": 4,
    "start_time": "2023-01-17T13:16:33.028Z"
   },
   {
    "duration": 20,
    "start_time": "2023-01-17T13:16:33.034Z"
   },
   {
    "duration": 8,
    "start_time": "2023-01-17T13:16:33.055Z"
   },
   {
    "duration": 69,
    "start_time": "2023-01-17T13:16:33.064Z"
   },
   {
    "duration": 3,
    "start_time": "2023-01-17T13:16:33.134Z"
   },
   {
    "duration": 2921,
    "start_time": "2023-01-17T13:16:33.139Z"
   },
   {
    "duration": 4,
    "start_time": "2023-01-17T13:16:36.062Z"
   },
   {
    "duration": 92,
    "start_time": "2023-01-17T13:16:36.070Z"
   },
   {
    "duration": 0,
    "start_time": "2023-01-17T13:16:36.164Z"
   },
   {
    "duration": 0,
    "start_time": "2023-01-17T13:16:36.165Z"
   },
   {
    "duration": 0,
    "start_time": "2023-01-17T13:16:36.167Z"
   },
   {
    "duration": 0,
    "start_time": "2023-01-17T13:16:36.168Z"
   },
   {
    "duration": 0,
    "start_time": "2023-01-17T13:16:36.170Z"
   },
   {
    "duration": 0,
    "start_time": "2023-01-17T13:16:36.171Z"
   },
   {
    "duration": 20,
    "start_time": "2023-01-17T13:17:27.171Z"
   },
   {
    "duration": 2946,
    "start_time": "2023-01-17T13:18:45.196Z"
   },
   {
    "duration": 26,
    "start_time": "2023-01-17T13:18:50.436Z"
   },
   {
    "duration": 2753,
    "start_time": "2023-01-17T13:20:19.389Z"
   },
   {
    "duration": 31,
    "start_time": "2023-01-17T13:20:24.089Z"
   },
   {
    "duration": 30,
    "start_time": "2023-01-17T13:21:37.526Z"
   },
   {
    "duration": 5,
    "start_time": "2023-01-17T13:21:54.425Z"
   },
   {
    "duration": 9,
    "start_time": "2023-01-17T13:22:15.747Z"
   },
   {
    "duration": 2,
    "start_time": "2023-01-17T13:23:12.758Z"
   },
   {
    "duration": 4,
    "start_time": "2023-01-17T13:23:29.372Z"
   },
   {
    "duration": 3,
    "start_time": "2023-01-17T13:23:34.439Z"
   },
   {
    "duration": 2674,
    "start_time": "2023-01-17T13:23:55.714Z"
   },
   {
    "duration": 23,
    "start_time": "2023-01-17T13:24:12.963Z"
   },
   {
    "duration": 30,
    "start_time": "2023-01-17T13:27:49.382Z"
   },
   {
    "duration": 4,
    "start_time": "2023-01-17T13:27:55.469Z"
   },
   {
    "duration": 3,
    "start_time": "2023-01-17T13:28:23.473Z"
   },
   {
    "duration": 4,
    "start_time": "2023-01-17T13:28:33.703Z"
   },
   {
    "duration": 3031,
    "start_time": "2023-01-17T13:29:16.625Z"
   },
   {
    "duration": 2701,
    "start_time": "2023-01-17T13:29:37.400Z"
   },
   {
    "duration": 6,
    "start_time": "2023-01-17T13:29:42.615Z"
   },
   {
    "duration": 15,
    "start_time": "2023-01-17T13:30:01.393Z"
   },
   {
    "duration": 3075,
    "start_time": "2023-01-17T13:30:40.349Z"
   },
   {
    "duration": 6,
    "start_time": "2023-01-17T13:30:47.417Z"
   },
   {
    "duration": 16,
    "start_time": "2023-01-17T13:30:50.343Z"
   },
   {
    "duration": 454,
    "start_time": "2023-01-17T13:32:09.557Z"
   },
   {
    "duration": 2,
    "start_time": "2023-01-17T13:32:10.013Z"
   },
   {
    "duration": 2880,
    "start_time": "2023-01-17T13:32:10.017Z"
   },
   {
    "duration": 3,
    "start_time": "2023-01-17T13:32:12.900Z"
   },
   {
    "duration": 22,
    "start_time": "2023-01-17T13:32:12.905Z"
   },
   {
    "duration": 9,
    "start_time": "2023-01-17T13:32:12.929Z"
   },
   {
    "duration": 12,
    "start_time": "2023-01-17T13:32:12.940Z"
   },
   {
    "duration": 6,
    "start_time": "2023-01-17T13:32:12.954Z"
   },
   {
    "duration": 21,
    "start_time": "2023-01-17T13:32:12.962Z"
   },
   {
    "duration": 10,
    "start_time": "2023-01-17T13:32:12.987Z"
   },
   {
    "duration": 9,
    "start_time": "2023-01-17T13:32:12.999Z"
   },
   {
    "duration": 9852,
    "start_time": "2023-01-17T13:32:13.009Z"
   },
   {
    "duration": 0,
    "start_time": "2023-01-17T13:32:22.864Z"
   },
   {
    "duration": 0,
    "start_time": "2023-01-17T13:32:22.865Z"
   },
   {
    "duration": 0,
    "start_time": "2023-01-17T13:32:22.866Z"
   },
   {
    "duration": 0,
    "start_time": "2023-01-17T13:32:22.867Z"
   },
   {
    "duration": 0,
    "start_time": "2023-01-17T13:32:22.868Z"
   },
   {
    "duration": 0,
    "start_time": "2023-01-17T13:32:22.869Z"
   },
   {
    "duration": 0,
    "start_time": "2023-01-17T13:32:22.870Z"
   },
   {
    "duration": 0,
    "start_time": "2023-01-17T13:32:22.871Z"
   },
   {
    "duration": 0,
    "start_time": "2023-01-17T13:32:22.872Z"
   },
   {
    "duration": 0,
    "start_time": "2023-01-17T13:32:22.873Z"
   },
   {
    "duration": 0,
    "start_time": "2023-01-17T13:32:22.874Z"
   },
   {
    "duration": 0,
    "start_time": "2023-01-17T13:32:22.875Z"
   },
   {
    "duration": 0,
    "start_time": "2023-01-17T13:32:22.876Z"
   },
   {
    "duration": 0,
    "start_time": "2023-01-17T13:32:22.877Z"
   },
   {
    "duration": 0,
    "start_time": "2023-01-17T13:32:22.879Z"
   },
   {
    "duration": 0,
    "start_time": "2023-01-17T13:32:22.879Z"
   },
   {
    "duration": 0,
    "start_time": "2023-01-17T13:32:22.880Z"
   },
   {
    "duration": 0,
    "start_time": "2023-01-17T13:32:22.881Z"
   },
   {
    "duration": 0,
    "start_time": "2023-01-17T13:32:22.882Z"
   },
   {
    "duration": 0,
    "start_time": "2023-01-17T13:32:22.883Z"
   },
   {
    "duration": 0,
    "start_time": "2023-01-17T13:32:22.914Z"
   },
   {
    "duration": 480,
    "start_time": "2023-01-17T13:33:20.329Z"
   },
   {
    "duration": 3,
    "start_time": "2023-01-17T13:33:20.810Z"
   },
   {
    "duration": 2863,
    "start_time": "2023-01-17T13:33:20.815Z"
   },
   {
    "duration": 3,
    "start_time": "2023-01-17T13:33:23.681Z"
   },
   {
    "duration": 19,
    "start_time": "2023-01-17T13:33:23.686Z"
   },
   {
    "duration": 11,
    "start_time": "2023-01-17T13:33:23.713Z"
   },
   {
    "duration": 7,
    "start_time": "2023-01-17T13:33:23.726Z"
   },
   {
    "duration": 8,
    "start_time": "2023-01-17T13:33:23.735Z"
   },
   {
    "duration": 14,
    "start_time": "2023-01-17T13:33:23.745Z"
   },
   {
    "duration": 6,
    "start_time": "2023-01-17T13:33:23.762Z"
   },
   {
    "duration": 13,
    "start_time": "2023-01-17T13:33:23.769Z"
   },
   {
    "duration": 15008,
    "start_time": "2023-01-17T13:33:23.783Z"
   },
   {
    "duration": 10,
    "start_time": "2023-01-17T13:33:38.793Z"
   },
   {
    "duration": 17,
    "start_time": "2023-01-17T13:33:38.804Z"
   },
   {
    "duration": 11,
    "start_time": "2023-01-17T13:33:38.823Z"
   },
   {
    "duration": 13,
    "start_time": "2023-01-17T13:33:38.836Z"
   },
   {
    "duration": 10,
    "start_time": "2023-01-17T13:33:38.851Z"
   },
   {
    "duration": 11,
    "start_time": "2023-01-17T13:33:38.863Z"
   },
   {
    "duration": 8,
    "start_time": "2023-01-17T13:33:38.876Z"
   },
   {
    "duration": 54,
    "start_time": "2023-01-17T13:33:38.885Z"
   },
   {
    "duration": 5,
    "start_time": "2023-01-17T13:33:38.941Z"
   },
   {
    "duration": 27,
    "start_time": "2023-01-17T13:33:38.948Z"
   },
   {
    "duration": 13,
    "start_time": "2023-01-17T13:33:38.976Z"
   },
   {
    "duration": 55,
    "start_time": "2023-01-17T13:33:38.991Z"
   },
   {
    "duration": 2,
    "start_time": "2023-01-17T13:33:39.048Z"
   },
   {
    "duration": 46889,
    "start_time": "2023-01-17T13:33:39.052Z"
   },
   {
    "duration": 73,
    "start_time": "2023-01-17T13:34:25.943Z"
   },
   {
    "duration": 0,
    "start_time": "2023-01-17T13:34:26.018Z"
   },
   {
    "duration": 0,
    "start_time": "2023-01-17T13:34:26.019Z"
   },
   {
    "duration": 0,
    "start_time": "2023-01-17T13:34:26.020Z"
   },
   {
    "duration": 0,
    "start_time": "2023-01-17T13:34:26.021Z"
   },
   {
    "duration": 0,
    "start_time": "2023-01-17T13:34:26.023Z"
   },
   {
    "duration": 0,
    "start_time": "2023-01-17T13:34:26.024Z"
   },
   {
    "duration": 0,
    "start_time": "2023-01-17T13:34:26.025Z"
   },
   {
    "duration": 475,
    "start_time": "2023-01-17T13:37:00.744Z"
   },
   {
    "duration": 3,
    "start_time": "2023-01-17T13:37:01.221Z"
   },
   {
    "duration": 2695,
    "start_time": "2023-01-17T13:37:01.225Z"
   },
   {
    "duration": 3,
    "start_time": "2023-01-17T13:37:03.922Z"
   },
   {
    "duration": 32,
    "start_time": "2023-01-17T13:37:03.927Z"
   },
   {
    "duration": 26,
    "start_time": "2023-01-17T13:37:03.961Z"
   },
   {
    "duration": 51,
    "start_time": "2023-01-17T13:37:03.989Z"
   },
   {
    "duration": 17,
    "start_time": "2023-01-17T13:37:04.041Z"
   },
   {
    "duration": 23,
    "start_time": "2023-01-17T13:37:04.060Z"
   },
   {
    "duration": 6,
    "start_time": "2023-01-17T13:37:04.087Z"
   },
   {
    "duration": 34,
    "start_time": "2023-01-17T13:37:04.095Z"
   },
   {
    "duration": 15169,
    "start_time": "2023-01-17T13:37:04.130Z"
   },
   {
    "duration": 17,
    "start_time": "2023-01-17T13:37:19.301Z"
   },
   {
    "duration": 21,
    "start_time": "2023-01-17T13:37:19.320Z"
   },
   {
    "duration": 10,
    "start_time": "2023-01-17T13:37:19.343Z"
   },
   {
    "duration": 14,
    "start_time": "2023-01-17T13:37:19.354Z"
   },
   {
    "duration": 12,
    "start_time": "2023-01-17T13:37:19.369Z"
   },
   {
    "duration": 6,
    "start_time": "2023-01-17T13:37:19.383Z"
   },
   {
    "duration": 3,
    "start_time": "2023-01-17T13:37:19.391Z"
   },
   {
    "duration": 36,
    "start_time": "2023-01-17T13:37:19.396Z"
   },
   {
    "duration": 4,
    "start_time": "2023-01-17T13:37:19.433Z"
   },
   {
    "duration": 17,
    "start_time": "2023-01-17T13:37:19.438Z"
   },
   {
    "duration": 5,
    "start_time": "2023-01-17T13:37:19.457Z"
   },
   {
    "duration": 55,
    "start_time": "2023-01-17T13:37:19.464Z"
   },
   {
    "duration": 2,
    "start_time": "2023-01-17T13:37:19.521Z"
   },
   {
    "duration": 48150,
    "start_time": "2023-01-17T13:37:19.524Z"
   },
   {
    "duration": 209,
    "start_time": "2023-01-17T13:38:07.676Z"
   },
   {
    "duration": 5,
    "start_time": "2023-01-17T13:38:07.888Z"
   },
   {
    "duration": 17,
    "start_time": "2023-01-17T13:38:07.895Z"
   },
   {
    "duration": 11,
    "start_time": "2023-01-17T13:38:07.914Z"
   },
   {
    "duration": 75,
    "start_time": "2023-01-17T13:38:07.927Z"
   },
   {
    "duration": 0,
    "start_time": "2023-01-17T13:38:08.004Z"
   },
   {
    "duration": 0,
    "start_time": "2023-01-17T13:38:08.013Z"
   },
   {
    "duration": 0,
    "start_time": "2023-01-17T13:38:08.015Z"
   },
   {
    "duration": 18,
    "start_time": "2023-01-17T13:42:51.606Z"
   },
   {
    "duration": 6,
    "start_time": "2023-01-17T13:43:00.152Z"
   },
   {
    "duration": 4467125,
    "start_time": "2023-01-17T13:43:53.902Z"
   },
   {
    "duration": 528,
    "start_time": "2023-01-17T16:37:12.633Z"
   },
   {
    "duration": 0,
    "start_time": "2023-01-17T16:37:13.163Z"
   },
   {
    "duration": 0,
    "start_time": "2023-01-17T16:37:13.165Z"
   },
   {
    "duration": 0,
    "start_time": "2023-01-17T16:37:13.166Z"
   },
   {
    "duration": 0,
    "start_time": "2023-01-17T16:37:13.166Z"
   },
   {
    "duration": 0,
    "start_time": "2023-01-17T16:37:13.167Z"
   },
   {
    "duration": 0,
    "start_time": "2023-01-17T16:37:13.168Z"
   },
   {
    "duration": 0,
    "start_time": "2023-01-17T16:37:13.178Z"
   },
   {
    "duration": 0,
    "start_time": "2023-01-17T16:37:13.179Z"
   },
   {
    "duration": 0,
    "start_time": "2023-01-17T16:37:13.180Z"
   },
   {
    "duration": 0,
    "start_time": "2023-01-17T16:37:13.181Z"
   },
   {
    "duration": 0,
    "start_time": "2023-01-17T16:37:13.182Z"
   },
   {
    "duration": 0,
    "start_time": "2023-01-17T16:37:13.183Z"
   },
   {
    "duration": 0,
    "start_time": "2023-01-17T16:37:13.184Z"
   },
   {
    "duration": 0,
    "start_time": "2023-01-17T16:37:13.185Z"
   },
   {
    "duration": 0,
    "start_time": "2023-01-17T16:37:13.186Z"
   },
   {
    "duration": 0,
    "start_time": "2023-01-17T16:37:13.187Z"
   },
   {
    "duration": 0,
    "start_time": "2023-01-17T16:37:13.188Z"
   },
   {
    "duration": 0,
    "start_time": "2023-01-17T16:37:13.189Z"
   },
   {
    "duration": 0,
    "start_time": "2023-01-17T16:37:13.190Z"
   },
   {
    "duration": 0,
    "start_time": "2023-01-17T16:37:13.191Z"
   },
   {
    "duration": 0,
    "start_time": "2023-01-17T16:37:13.192Z"
   },
   {
    "duration": 0,
    "start_time": "2023-01-17T16:37:13.193Z"
   },
   {
    "duration": 0,
    "start_time": "2023-01-17T16:37:13.195Z"
   },
   {
    "duration": 0,
    "start_time": "2023-01-17T16:37:13.196Z"
   },
   {
    "duration": 0,
    "start_time": "2023-01-17T16:37:13.198Z"
   },
   {
    "duration": 0,
    "start_time": "2023-01-17T16:37:13.199Z"
   },
   {
    "duration": 0,
    "start_time": "2023-01-17T16:37:13.200Z"
   },
   {
    "duration": 0,
    "start_time": "2023-01-17T16:37:13.201Z"
   },
   {
    "duration": 0,
    "start_time": "2023-01-17T16:37:13.203Z"
   },
   {
    "duration": 0,
    "start_time": "2023-01-17T16:37:13.204Z"
   },
   {
    "duration": 0,
    "start_time": "2023-01-17T16:37:13.205Z"
   },
   {
    "duration": 0,
    "start_time": "2023-01-17T16:37:13.206Z"
   },
   {
    "duration": 0,
    "start_time": "2023-01-17T16:37:13.208Z"
   },
   {
    "duration": 2832,
    "start_time": "2023-01-17T16:37:24.458Z"
   },
   {
    "duration": 446,
    "start_time": "2023-01-17T16:37:37.150Z"
   },
   {
    "duration": 2,
    "start_time": "2023-01-17T16:37:37.598Z"
   },
   {
    "duration": 2793,
    "start_time": "2023-01-17T16:37:37.602Z"
   },
   {
    "duration": 2,
    "start_time": "2023-01-17T16:37:40.398Z"
   },
   {
    "duration": 34,
    "start_time": "2023-01-17T16:37:40.401Z"
   },
   {
    "duration": 62,
    "start_time": "2023-01-17T16:37:40.437Z"
   },
   {
    "duration": 68,
    "start_time": "2023-01-17T16:37:40.501Z"
   },
   {
    "duration": 19,
    "start_time": "2023-01-17T16:37:40.571Z"
   },
   {
    "duration": 24,
    "start_time": "2023-01-17T16:37:40.591Z"
   },
   {
    "duration": 10,
    "start_time": "2023-01-17T16:37:40.619Z"
   },
   {
    "duration": 13,
    "start_time": "2023-01-17T16:37:40.631Z"
   },
   {
    "duration": 14615,
    "start_time": "2023-01-17T16:37:40.646Z"
   },
   {
    "duration": 15,
    "start_time": "2023-01-17T16:37:55.263Z"
   },
   {
    "duration": 8,
    "start_time": "2023-01-17T16:37:55.279Z"
   },
   {
    "duration": 17,
    "start_time": "2023-01-17T16:37:55.288Z"
   },
   {
    "duration": 13,
    "start_time": "2023-01-17T16:37:55.306Z"
   },
   {
    "duration": 19,
    "start_time": "2023-01-17T16:37:55.321Z"
   },
   {
    "duration": 13,
    "start_time": "2023-01-17T16:37:55.341Z"
   },
   {
    "duration": 14,
    "start_time": "2023-01-17T16:37:55.356Z"
   },
   {
    "duration": 86,
    "start_time": "2023-01-17T16:37:55.372Z"
   },
   {
    "duration": 4,
    "start_time": "2023-01-17T16:37:55.459Z"
   },
   {
    "duration": 28,
    "start_time": "2023-01-17T16:37:55.465Z"
   },
   {
    "duration": 13,
    "start_time": "2023-01-17T16:37:55.495Z"
   },
   {
    "duration": 68,
    "start_time": "2023-01-17T16:37:55.510Z"
   },
   {
    "duration": 2,
    "start_time": "2023-01-17T16:37:55.580Z"
   },
   {
    "duration": 59883,
    "start_time": "2023-01-17T16:37:55.584Z"
   },
   {
    "duration": 0,
    "start_time": "2023-01-17T16:38:55.469Z"
   },
   {
    "duration": 0,
    "start_time": "2023-01-17T16:38:55.471Z"
   },
   {
    "duration": 0,
    "start_time": "2023-01-17T16:38:55.472Z"
   },
   {
    "duration": 0,
    "start_time": "2023-01-17T16:38:55.473Z"
   },
   {
    "duration": 0,
    "start_time": "2023-01-17T16:38:55.474Z"
   },
   {
    "duration": 0,
    "start_time": "2023-01-17T16:38:55.474Z"
   },
   {
    "duration": 0,
    "start_time": "2023-01-17T16:38:55.477Z"
   },
   {
    "duration": 0,
    "start_time": "2023-01-17T16:38:55.478Z"
   },
   {
    "duration": 31,
    "start_time": "2023-01-17T16:39:46.032Z"
   },
   {
    "duration": 51,
    "start_time": "2023-01-17T16:40:06.096Z"
   },
   {
    "duration": 96,
    "start_time": "2023-01-17T16:41:03.569Z"
   },
   {
    "duration": 52,
    "start_time": "2023-01-17T16:41:04.738Z"
   },
   {
    "duration": 425,
    "start_time": "2023-01-17T16:42:18.150Z"
   },
   {
    "duration": 2,
    "start_time": "2023-01-17T16:42:18.578Z"
   },
   {
    "duration": 2367,
    "start_time": "2023-01-17T16:42:18.582Z"
   },
   {
    "duration": 3,
    "start_time": "2023-01-17T16:42:20.951Z"
   },
   {
    "duration": 15,
    "start_time": "2023-01-17T16:42:20.955Z"
   },
   {
    "duration": 7,
    "start_time": "2023-01-17T16:42:20.971Z"
   },
   {
    "duration": 6,
    "start_time": "2023-01-17T16:42:20.980Z"
   },
   {
    "duration": 11,
    "start_time": "2023-01-17T16:42:20.987Z"
   },
   {
    "duration": 25,
    "start_time": "2023-01-17T16:42:20.999Z"
   },
   {
    "duration": 13,
    "start_time": "2023-01-17T16:42:21.028Z"
   },
   {
    "duration": 12,
    "start_time": "2023-01-17T16:42:21.043Z"
   },
   {
    "duration": 14366,
    "start_time": "2023-01-17T16:42:21.057Z"
   },
   {
    "duration": 10,
    "start_time": "2023-01-17T16:42:35.424Z"
   },
   {
    "duration": 13,
    "start_time": "2023-01-17T16:42:35.435Z"
   },
   {
    "duration": 35,
    "start_time": "2023-01-17T16:42:35.449Z"
   },
   {
    "duration": 15,
    "start_time": "2023-01-17T16:42:35.485Z"
   },
   {
    "duration": 11,
    "start_time": "2023-01-17T16:42:35.501Z"
   },
   {
    "duration": 12,
    "start_time": "2023-01-17T16:42:35.513Z"
   },
   {
    "duration": 2,
    "start_time": "2023-01-17T16:42:35.527Z"
   },
   {
    "duration": 53,
    "start_time": "2023-01-17T16:42:35.531Z"
   },
   {
    "duration": 3,
    "start_time": "2023-01-17T16:42:35.586Z"
   },
   {
    "duration": 25,
    "start_time": "2023-01-17T16:42:35.590Z"
   },
   {
    "duration": 24,
    "start_time": "2023-01-17T16:42:35.617Z"
   },
   {
    "duration": 57,
    "start_time": "2023-01-17T16:42:35.643Z"
   },
   {
    "duration": 3,
    "start_time": "2023-01-17T16:42:35.701Z"
   },
   {
    "duration": 11897540,
    "start_time": "2023-01-17T16:42:35.705Z"
   },
   {
    "duration": 0,
    "start_time": "2023-01-17T20:00:53.247Z"
   },
   {
    "duration": 0,
    "start_time": "2023-01-17T20:00:53.248Z"
   },
   {
    "duration": 0,
    "start_time": "2023-01-17T20:00:53.249Z"
   },
   {
    "duration": 0,
    "start_time": "2023-01-17T20:00:53.250Z"
   },
   {
    "duration": 0,
    "start_time": "2023-01-17T20:00:53.251Z"
   },
   {
    "duration": 0,
    "start_time": "2023-01-17T20:00:53.252Z"
   },
   {
    "duration": 0,
    "start_time": "2023-01-17T20:00:53.253Z"
   },
   {
    "duration": 0,
    "start_time": "2023-01-17T20:00:53.255Z"
   },
   {
    "duration": 11,
    "start_time": "2023-01-17T20:01:30.833Z"
   },
   {
    "duration": 11,
    "start_time": "2023-01-17T20:02:23.076Z"
   },
   {
    "duration": 11,
    "start_time": "2023-01-17T20:02:30.920Z"
   },
   {
    "duration": 12,
    "start_time": "2023-01-17T20:02:55.954Z"
   },
   {
    "duration": 10,
    "start_time": "2023-01-17T20:03:07.335Z"
   },
   {
    "duration": 12,
    "start_time": "2023-01-17T20:03:25.184Z"
   },
   {
    "duration": 10,
    "start_time": "2023-01-17T20:03:41.185Z"
   },
   {
    "duration": 14,
    "start_time": "2023-01-17T20:03:58.295Z"
   },
   {
    "duration": 9,
    "start_time": "2023-01-17T20:04:22.710Z"
   },
   {
    "duration": 9,
    "start_time": "2023-01-17T20:04:47.934Z"
   },
   {
    "duration": 2683,
    "start_time": "2023-01-18T06:01:23.789Z"
   },
   {
    "duration": 427,
    "start_time": "2023-01-18T06:05:21.947Z"
   },
   {
    "duration": 14,
    "start_time": "2023-01-18T06:05:22.376Z"
   },
   {
    "duration": 3995,
    "start_time": "2023-01-18T06:05:22.393Z"
   },
   {
    "duration": 3,
    "start_time": "2023-01-18T06:05:26.392Z"
   },
   {
    "duration": 15,
    "start_time": "2023-01-18T06:05:26.396Z"
   },
   {
    "duration": 6,
    "start_time": "2023-01-18T06:05:26.412Z"
   },
   {
    "duration": 6,
    "start_time": "2023-01-18T06:05:26.420Z"
   },
   {
    "duration": 7,
    "start_time": "2023-01-18T06:05:26.428Z"
   },
   {
    "duration": 11,
    "start_time": "2023-01-18T06:05:26.437Z"
   },
   {
    "duration": 5,
    "start_time": "2023-01-18T06:05:26.451Z"
   },
   {
    "duration": 8,
    "start_time": "2023-01-18T06:05:26.458Z"
   },
   {
    "duration": 15083,
    "start_time": "2023-01-18T06:05:26.467Z"
   },
   {
    "duration": 10,
    "start_time": "2023-01-18T06:05:41.552Z"
   },
   {
    "duration": 25,
    "start_time": "2023-01-18T06:05:41.564Z"
   },
   {
    "duration": 14,
    "start_time": "2023-01-18T06:05:41.594Z"
   },
   {
    "duration": 16,
    "start_time": "2023-01-18T06:05:41.610Z"
   },
   {
    "duration": 22,
    "start_time": "2023-01-18T06:05:41.628Z"
   },
   {
    "duration": 12,
    "start_time": "2023-01-18T06:05:41.652Z"
   },
   {
    "duration": 33,
    "start_time": "2023-01-18T06:05:41.666Z"
   },
   {
    "duration": 91,
    "start_time": "2023-01-18T06:05:41.702Z"
   },
   {
    "duration": 0,
    "start_time": "2023-01-18T06:05:41.795Z"
   },
   {
    "duration": 0,
    "start_time": "2023-01-18T06:05:41.797Z"
   },
   {
    "duration": 0,
    "start_time": "2023-01-18T06:05:41.797Z"
   },
   {
    "duration": 0,
    "start_time": "2023-01-18T06:05:41.798Z"
   },
   {
    "duration": 0,
    "start_time": "2023-01-18T06:05:41.800Z"
   },
   {
    "duration": 0,
    "start_time": "2023-01-18T06:05:41.801Z"
   },
   {
    "duration": 0,
    "start_time": "2023-01-18T06:05:41.802Z"
   },
   {
    "duration": 0,
    "start_time": "2023-01-18T06:05:41.803Z"
   },
   {
    "duration": 0,
    "start_time": "2023-01-18T06:05:41.804Z"
   },
   {
    "duration": 0,
    "start_time": "2023-01-18T06:05:41.805Z"
   },
   {
    "duration": 0,
    "start_time": "2023-01-18T06:05:41.806Z"
   },
   {
    "duration": 0,
    "start_time": "2023-01-18T06:05:41.808Z"
   },
   {
    "duration": 0,
    "start_time": "2023-01-18T06:05:41.809Z"
   },
   {
    "duration": 0,
    "start_time": "2023-01-18T06:05:41.810Z"
   },
   {
    "duration": 0,
    "start_time": "2023-01-18T06:05:41.812Z"
   },
   {
    "duration": 0,
    "start_time": "2023-01-18T06:05:41.813Z"
   },
   {
    "duration": 11,
    "start_time": "2023-01-18T06:06:03.866Z"
   },
   {
    "duration": 83,
    "start_time": "2023-01-18T06:06:29.747Z"
   },
   {
    "duration": 9,
    "start_time": "2023-01-18T06:06:36.513Z"
   },
   {
    "duration": 8,
    "start_time": "2023-01-18T06:06:39.368Z"
   },
   {
    "duration": 14,
    "start_time": "2023-01-18T06:08:02.483Z"
   },
   {
    "duration": 8,
    "start_time": "2023-01-18T06:08:03.158Z"
   },
   {
    "duration": 12,
    "start_time": "2023-01-18T06:08:06.489Z"
   },
   {
    "duration": 5,
    "start_time": "2023-01-18T06:08:21.246Z"
   },
   {
    "duration": 413,
    "start_time": "2023-01-18T06:09:06.264Z"
   },
   {
    "duration": 3,
    "start_time": "2023-01-18T06:09:06.679Z"
   },
   {
    "duration": 2803,
    "start_time": "2023-01-18T06:09:06.683Z"
   },
   {
    "duration": 3,
    "start_time": "2023-01-18T06:09:09.489Z"
   },
   {
    "duration": 14,
    "start_time": "2023-01-18T06:09:09.493Z"
   },
   {
    "duration": 6,
    "start_time": "2023-01-18T06:09:09.509Z"
   },
   {
    "duration": 8,
    "start_time": "2023-01-18T06:09:09.516Z"
   },
   {
    "duration": 8,
    "start_time": "2023-01-18T06:09:09.526Z"
   },
   {
    "duration": 13,
    "start_time": "2023-01-18T06:09:09.536Z"
   },
   {
    "duration": 8,
    "start_time": "2023-01-18T06:09:09.552Z"
   },
   {
    "duration": 18,
    "start_time": "2023-01-18T06:09:09.562Z"
   },
   {
    "duration": 14576,
    "start_time": "2023-01-18T06:09:09.581Z"
   },
   {
    "duration": 18,
    "start_time": "2023-01-18T06:09:24.159Z"
   },
   {
    "duration": 6,
    "start_time": "2023-01-18T06:09:24.179Z"
   },
   {
    "duration": 14,
    "start_time": "2023-01-18T06:09:24.187Z"
   },
   {
    "duration": 12,
    "start_time": "2023-01-18T06:09:24.202Z"
   },
   {
    "duration": 10,
    "start_time": "2023-01-18T06:09:24.215Z"
   },
   {
    "duration": 6,
    "start_time": "2023-01-18T06:09:24.227Z"
   },
   {
    "duration": 7,
    "start_time": "2023-01-18T06:09:24.235Z"
   },
   {
    "duration": 4,
    "start_time": "2023-01-18T06:09:24.244Z"
   },
   {
    "duration": 110,
    "start_time": "2023-01-18T06:09:24.250Z"
   },
   {
    "duration": 4,
    "start_time": "2023-01-18T06:09:24.361Z"
   },
   {
    "duration": 16,
    "start_time": "2023-01-18T06:09:24.367Z"
   },
   {
    "duration": 25,
    "start_time": "2023-01-18T06:09:24.385Z"
   },
   {
    "duration": 56,
    "start_time": "2023-01-18T06:09:24.412Z"
   },
   {
    "duration": 8,
    "start_time": "2023-01-18T06:09:24.470Z"
   },
   {
    "duration": 2616710,
    "start_time": "2023-01-18T06:09:24.480Z"
   },
   {
    "duration": 4438,
    "start_time": "2023-01-18T06:53:01.193Z"
   },
   {
    "duration": 5,
    "start_time": "2023-01-18T06:53:05.632Z"
   },
   {
    "duration": 1231,
    "start_time": "2023-01-18T06:53:05.639Z"
   },
   {
    "duration": 12,
    "start_time": "2023-01-18T06:53:06.871Z"
   },
   {
    "duration": 84,
    "start_time": "2023-01-18T06:53:06.884Z"
   },
   {
    "duration": 0,
    "start_time": "2023-01-18T06:53:06.970Z"
   },
   {
    "duration": 0,
    "start_time": "2023-01-18T06:53:06.971Z"
   },
   {
    "duration": 0,
    "start_time": "2023-01-18T06:53:06.972Z"
   },
   {
    "duration": 952,
    "start_time": "2023-01-18T06:54:50.012Z"
   },
   {
    "duration": 14,
    "start_time": "2023-01-18T06:55:02.879Z"
   },
   {
    "duration": 488,
    "start_time": "2023-01-18T06:56:53.833Z"
   },
   {
    "duration": 2,
    "start_time": "2023-01-18T06:56:54.323Z"
   },
   {
    "duration": 2697,
    "start_time": "2023-01-18T06:56:54.327Z"
   },
   {
    "duration": 3,
    "start_time": "2023-01-18T06:56:57.026Z"
   },
   {
    "duration": 19,
    "start_time": "2023-01-18T06:56:57.031Z"
   },
   {
    "duration": 31,
    "start_time": "2023-01-18T06:56:57.051Z"
   },
   {
    "duration": 22,
    "start_time": "2023-01-18T06:56:57.084Z"
   },
   {
    "duration": 23,
    "start_time": "2023-01-18T06:56:57.107Z"
   },
   {
    "duration": 16,
    "start_time": "2023-01-18T06:56:57.132Z"
   },
   {
    "duration": 21,
    "start_time": "2023-01-18T06:56:57.151Z"
   },
   {
    "duration": 16,
    "start_time": "2023-01-18T06:56:57.174Z"
   },
   {
    "duration": 14528,
    "start_time": "2023-01-18T06:56:57.191Z"
   },
   {
    "duration": 10,
    "start_time": "2023-01-18T06:57:11.720Z"
   },
   {
    "duration": 24,
    "start_time": "2023-01-18T06:57:11.732Z"
   },
   {
    "duration": 17,
    "start_time": "2023-01-18T06:57:11.758Z"
   },
   {
    "duration": 33,
    "start_time": "2023-01-18T06:57:11.776Z"
   },
   {
    "duration": 13,
    "start_time": "2023-01-18T06:57:11.811Z"
   },
   {
    "duration": 19,
    "start_time": "2023-01-18T06:57:11.826Z"
   },
   {
    "duration": 9,
    "start_time": "2023-01-18T06:57:11.846Z"
   },
   {
    "duration": 7,
    "start_time": "2023-01-18T06:57:11.857Z"
   },
   {
    "duration": 60,
    "start_time": "2023-01-18T06:57:11.865Z"
   },
   {
    "duration": 4,
    "start_time": "2023-01-18T06:57:11.926Z"
   },
   {
    "duration": 30,
    "start_time": "2023-01-18T06:57:11.932Z"
   },
   {
    "duration": 17,
    "start_time": "2023-01-18T06:57:11.964Z"
   },
   {
    "duration": 58,
    "start_time": "2023-01-18T06:57:11.982Z"
   },
   {
    "duration": 3,
    "start_time": "2023-01-18T06:57:12.042Z"
   },
   {
    "duration": 2640396,
    "start_time": "2023-01-18T06:57:12.047Z"
   },
   {
    "duration": 4095,
    "start_time": "2023-01-18T07:41:12.445Z"
   },
   {
    "duration": 6,
    "start_time": "2023-01-18T07:41:16.544Z"
   },
   {
    "duration": 1284,
    "start_time": "2023-01-18T07:41:16.551Z"
   },
   {
    "duration": 11,
    "start_time": "2023-01-18T07:41:17.837Z"
   },
   {
    "duration": 902,
    "start_time": "2023-01-18T07:41:17.850Z"
   },
   {
    "duration": 11,
    "start_time": "2023-01-18T07:41:18.754Z"
   },
   {
    "duration": 9,
    "start_time": "2023-01-18T07:41:18.766Z"
   },
   {
    "duration": 1067,
    "start_time": "2023-01-18T09:52:13.394Z"
   },
   {
    "duration": 95,
    "start_time": "2023-01-18T09:52:15.159Z"
   },
   {
    "duration": 6,
    "start_time": "2023-01-18T09:53:43.487Z"
   },
   {
    "duration": 11,
    "start_time": "2023-01-18T09:54:43.164Z"
   },
   {
    "duration": 95,
    "start_time": "2023-01-18T09:54:51.071Z"
   },
   {
    "duration": 10,
    "start_time": "2023-01-18T09:54:58.496Z"
   },
   {
    "duration": 10,
    "start_time": "2023-01-18T09:55:08.900Z"
   },
   {
    "duration": 25,
    "start_time": "2023-01-18T09:55:19.359Z"
   },
   {
    "duration": 16,
    "start_time": "2023-01-18T09:56:21.722Z"
   },
   {
    "duration": 8,
    "start_time": "2023-01-18T09:56:42.365Z"
   },
   {
    "duration": 13,
    "start_time": "2023-01-18T10:02:18.333Z"
   },
   {
    "duration": 5,
    "start_time": "2023-01-18T10:02:44.371Z"
   },
   {
    "duration": 5,
    "start_time": "2023-01-18T10:03:08.480Z"
   },
   {
    "duration": 12,
    "start_time": "2023-01-18T10:03:26.516Z"
   },
   {
    "duration": 5,
    "start_time": "2023-01-18T10:03:46.866Z"
   },
   {
    "duration": 12,
    "start_time": "2023-01-18T10:03:52.331Z"
   },
   {
    "duration": 5,
    "start_time": "2023-01-18T10:06:33.492Z"
   },
   {
    "duration": 11,
    "start_time": "2023-01-18T10:06:40.592Z"
   },
   {
    "duration": 6,
    "start_time": "2023-01-18T10:07:28.321Z"
   },
   {
    "duration": 5,
    "start_time": "2023-01-18T10:08:07.011Z"
   },
   {
    "duration": 5,
    "start_time": "2023-01-18T10:08:46.450Z"
   },
   {
    "duration": 9,
    "start_time": "2023-01-18T10:08:51.196Z"
   },
   {
    "duration": 6,
    "start_time": "2023-01-18T10:09:47.970Z"
   },
   {
    "duration": 1380,
    "start_time": "2023-01-18T10:10:10.927Z"
   },
   {
    "duration": 6,
    "start_time": "2023-01-18T10:10:17.214Z"
   },
   {
    "duration": 7,
    "start_time": "2023-01-18T10:10:22.164Z"
   },
   {
    "duration": 11,
    "start_time": "2023-01-18T10:10:26.675Z"
   },
   {
    "duration": 6,
    "start_time": "2023-01-18T10:11:14.527Z"
   },
   {
    "duration": 9,
    "start_time": "2023-01-18T10:11:18.230Z"
   },
   {
    "duration": 7,
    "start_time": "2023-01-18T10:14:04.588Z"
   },
   {
    "duration": 1126,
    "start_time": "2023-01-18T10:15:48.487Z"
   },
   {
    "duration": 159,
    "start_time": "2023-01-18T10:17:02.260Z"
   },
   {
    "duration": 61,
    "start_time": "2023-01-18T10:26:15.361Z"
   },
   {
    "duration": 8,
    "start_time": "2023-01-18T10:26:21.157Z"
   },
   {
    "duration": 120,
    "start_time": "2023-01-18T10:26:24.393Z"
   },
   {
    "duration": 126,
    "start_time": "2023-01-18T10:26:36.125Z"
   },
   {
    "duration": 125,
    "start_time": "2023-01-18T10:30:54.286Z"
   },
   {
    "duration": 142,
    "start_time": "2023-01-18T10:31:01.415Z"
   },
   {
    "duration": 22,
    "start_time": "2023-01-18T10:32:17.202Z"
   },
   {
    "duration": 140,
    "start_time": "2023-01-18T10:32:21.903Z"
   },
   {
    "duration": 52,
    "start_time": "2023-01-18T10:34:00.877Z"
   },
   {
    "duration": 16,
    "start_time": "2023-01-18T10:35:21.200Z"
   },
   {
    "duration": 138,
    "start_time": "2023-01-18T10:35:24.857Z"
   },
   {
    "duration": 127,
    "start_time": "2023-01-18T10:35:36.351Z"
   },
   {
    "duration": 139,
    "start_time": "2023-01-18T10:35:40.400Z"
   },
   {
    "duration": 288,
    "start_time": "2023-01-18T10:39:40.293Z"
   },
   {
    "duration": 15,
    "start_time": "2023-01-18T10:39:52.429Z"
   },
   {
    "duration": 145,
    "start_time": "2023-01-18T10:39:55.154Z"
   },
   {
    "duration": 177,
    "start_time": "2023-01-18T10:40:39.475Z"
   },
   {
    "duration": 144,
    "start_time": "2023-01-18T10:40:49.579Z"
   },
   {
    "duration": 46,
    "start_time": "2023-01-18T10:48:27.965Z"
   },
   {
    "duration": 151,
    "start_time": "2023-01-18T10:48:40.279Z"
   },
   {
    "duration": 158,
    "start_time": "2023-01-18T10:51:44.427Z"
   },
   {
    "duration": 21,
    "start_time": "2023-01-18T10:59:19.353Z"
   },
   {
    "duration": 170,
    "start_time": "2023-01-18T10:59:24.024Z"
   },
   {
    "duration": 167,
    "start_time": "2023-01-18T10:59:39.870Z"
   },
   {
    "duration": 159,
    "start_time": "2023-01-18T11:00:39.967Z"
   },
   {
    "duration": 152,
    "start_time": "2023-01-18T11:02:19.093Z"
   },
   {
    "duration": 161,
    "start_time": "2023-01-18T11:02:38.423Z"
   },
   {
    "duration": 141,
    "start_time": "2023-01-18T11:03:44.165Z"
   },
   {
    "duration": 23,
    "start_time": "2023-01-18T11:04:09.549Z"
   },
   {
    "duration": 150,
    "start_time": "2023-01-18T11:04:29.315Z"
   },
   {
    "duration": 140,
    "start_time": "2023-01-18T11:06:29.583Z"
   },
   {
    "duration": 315,
    "start_time": "2023-01-18T11:12:56.163Z"
   },
   {
    "duration": 53,
    "start_time": "2023-01-18T11:15:41.189Z"
   },
   {
    "duration": 118,
    "start_time": "2023-01-18T11:15:44.389Z"
   },
   {
    "duration": 150,
    "start_time": "2023-01-18T11:15:53.785Z"
   },
   {
    "duration": 132,
    "start_time": "2023-01-18T11:16:03.596Z"
   },
   {
    "duration": 150,
    "start_time": "2023-01-18T11:16:38.191Z"
   },
   {
    "duration": 131,
    "start_time": "2023-01-18T11:18:17.136Z"
   },
   {
    "duration": 21,
    "start_time": "2023-01-18T11:19:50.040Z"
   },
   {
    "duration": 127,
    "start_time": "2023-01-18T11:20:01.828Z"
   },
   {
    "duration": 119,
    "start_time": "2023-01-18T11:20:14.521Z"
   },
   {
    "duration": 156,
    "start_time": "2023-01-18T11:20:55.710Z"
   },
   {
    "duration": 179,
    "start_time": "2023-01-18T11:21:13.889Z"
   },
   {
    "duration": 131,
    "start_time": "2023-01-18T11:21:33.742Z"
   },
   {
    "duration": 119,
    "start_time": "2023-01-18T11:21:42.276Z"
   },
   {
    "duration": 121,
    "start_time": "2023-01-18T11:21:49.721Z"
   },
   {
    "duration": 119,
    "start_time": "2023-01-18T11:23:44.663Z"
   },
   {
    "duration": 47,
    "start_time": "2023-01-18T11:24:03.738Z"
   },
   {
    "duration": 291,
    "start_time": "2023-01-18T11:24:06.853Z"
   },
   {
    "duration": 114,
    "start_time": "2023-01-18T11:24:27.067Z"
   },
   {
    "duration": 145,
    "start_time": "2023-01-18T11:25:14.046Z"
   },
   {
    "duration": 124,
    "start_time": "2023-01-18T11:25:25.282Z"
   },
   {
    "duration": 124,
    "start_time": "2023-01-18T11:25:36.609Z"
   },
   {
    "duration": 117,
    "start_time": "2023-01-18T11:25:48.750Z"
   },
   {
    "duration": 150,
    "start_time": "2023-01-18T11:26:08.265Z"
   },
   {
    "duration": 122,
    "start_time": "2023-01-18T11:26:17.232Z"
   },
   {
    "duration": 142,
    "start_time": "2023-01-18T11:26:24.595Z"
   },
   {
    "duration": 135,
    "start_time": "2023-01-18T11:26:51.264Z"
   },
   {
    "duration": 147,
    "start_time": "2023-01-18T11:27:02.633Z"
   },
   {
    "duration": 131,
    "start_time": "2023-01-18T11:27:08.947Z"
   },
   {
    "duration": 127,
    "start_time": "2023-01-18T11:27:26.398Z"
   },
   {
    "duration": 18,
    "start_time": "2023-01-18T11:27:44.549Z"
   },
   {
    "duration": 111,
    "start_time": "2023-01-18T11:27:49.370Z"
   },
   {
    "duration": 107,
    "start_time": "2023-01-18T11:28:07.213Z"
   },
   {
    "duration": 256,
    "start_time": "2023-01-18T11:28:25.418Z"
   },
   {
    "duration": 165,
    "start_time": "2023-01-18T11:28:56.351Z"
   },
   {
    "duration": 151,
    "start_time": "2023-01-18T11:29:02.894Z"
   },
   {
    "duration": 121,
    "start_time": "2023-01-18T11:29:11.368Z"
   },
   {
    "duration": 17,
    "start_time": "2023-01-18T11:30:20.004Z"
   },
   {
    "duration": 6,
    "start_time": "2023-01-18T11:30:35.089Z"
   },
   {
    "duration": 113,
    "start_time": "2023-01-18T11:31:59.799Z"
   },
   {
    "duration": 5,
    "start_time": "2023-01-18T11:32:33.637Z"
   },
   {
    "duration": 106,
    "start_time": "2023-01-18T11:33:23.289Z"
   },
   {
    "duration": 6,
    "start_time": "2023-01-18T11:33:47.765Z"
   },
   {
    "duration": 106,
    "start_time": "2023-01-18T11:34:14.626Z"
   },
   {
    "duration": 108,
    "start_time": "2023-01-18T11:35:09.708Z"
   },
   {
    "duration": 5,
    "start_time": "2023-01-18T12:11:50.718Z"
   },
   {
    "duration": 5,
    "start_time": "2023-01-18T12:12:28.374Z"
   },
   {
    "duration": 219,
    "start_time": "2023-01-18T12:12:33.911Z"
   },
   {
    "duration": 161,
    "start_time": "2023-01-18T12:13:19.410Z"
   },
   {
    "duration": 7,
    "start_time": "2023-01-18T12:13:52.377Z"
   },
   {
    "duration": 11,
    "start_time": "2023-01-18T12:14:24.671Z"
   },
   {
    "duration": 189,
    "start_time": "2023-01-18T12:14:39.450Z"
   },
   {
    "duration": 6,
    "start_time": "2023-01-18T12:14:56.293Z"
   },
   {
    "duration": 173,
    "start_time": "2023-01-18T12:15:14.674Z"
   },
   {
    "duration": 177,
    "start_time": "2023-01-18T12:15:41.827Z"
   },
   {
    "duration": 319,
    "start_time": "2023-01-18T12:15:56.493Z"
   },
   {
    "duration": 213,
    "start_time": "2023-01-18T12:16:33.975Z"
   },
   {
    "duration": 132,
    "start_time": "2023-01-18T12:17:20.754Z"
   },
   {
    "duration": 178,
    "start_time": "2023-01-18T12:17:28.634Z"
   },
   {
    "duration": 189,
    "start_time": "2023-01-18T12:19:20.066Z"
   },
   {
    "duration": 19,
    "start_time": "2023-01-18T12:23:42.644Z"
   },
   {
    "duration": 142,
    "start_time": "2023-01-18T12:23:49.869Z"
   },
   {
    "duration": 203,
    "start_time": "2023-01-18T12:24:04.054Z"
   },
   {
    "duration": 228,
    "start_time": "2023-01-18T12:27:43.981Z"
   },
   {
    "duration": 5,
    "start_time": "2023-01-18T12:38:13.679Z"
   },
   {
    "duration": 229,
    "start_time": "2023-01-18T12:38:57.317Z"
   },
   {
    "duration": 158,
    "start_time": "2023-01-18T12:39:22.380Z"
   },
   {
    "duration": 9,
    "start_time": "2023-01-18T12:39:41.290Z"
   },
   {
    "duration": 1236,
    "start_time": "2023-01-18T12:51:05.347Z"
   },
   {
    "duration": 3,
    "start_time": "2023-01-18T12:51:06.584Z"
   },
   {
    "duration": 2102,
    "start_time": "2023-01-18T12:51:06.589Z"
   },
   {
    "duration": 3,
    "start_time": "2023-01-18T12:51:08.693Z"
   },
   {
    "duration": 10,
    "start_time": "2023-01-18T12:51:08.697Z"
   },
   {
    "duration": 6,
    "start_time": "2023-01-18T12:51:08.709Z"
   },
   {
    "duration": 7,
    "start_time": "2023-01-18T12:51:08.717Z"
   },
   {
    "duration": 4,
    "start_time": "2023-01-18T12:51:08.726Z"
   },
   {
    "duration": 13,
    "start_time": "2023-01-18T12:51:08.732Z"
   },
   {
    "duration": 5,
    "start_time": "2023-01-18T12:51:08.747Z"
   },
   {
    "duration": 8,
    "start_time": "2023-01-18T12:51:08.753Z"
   },
   {
    "duration": 14545,
    "start_time": "2023-01-18T12:51:08.762Z"
   },
   {
    "duration": 11,
    "start_time": "2023-01-18T12:51:23.308Z"
   },
   {
    "duration": 15,
    "start_time": "2023-01-18T12:51:23.320Z"
   },
   {
    "duration": 27,
    "start_time": "2023-01-18T12:51:23.336Z"
   },
   {
    "duration": 13,
    "start_time": "2023-01-18T12:51:23.365Z"
   },
   {
    "duration": 10,
    "start_time": "2023-01-18T12:51:23.380Z"
   },
   {
    "duration": 6,
    "start_time": "2023-01-18T12:51:23.392Z"
   },
   {
    "duration": 8,
    "start_time": "2023-01-18T12:51:23.400Z"
   },
   {
    "duration": 6,
    "start_time": "2023-01-18T12:51:23.410Z"
   },
   {
    "duration": 108,
    "start_time": "2023-01-18T12:51:23.417Z"
   },
   {
    "duration": 4,
    "start_time": "2023-01-18T12:51:23.526Z"
   },
   {
    "duration": 18,
    "start_time": "2023-01-18T12:51:23.531Z"
   },
   {
    "duration": 10,
    "start_time": "2023-01-18T12:51:23.551Z"
   },
   {
    "duration": 54,
    "start_time": "2023-01-18T12:51:23.562Z"
   },
   {
    "duration": 3,
    "start_time": "2023-01-18T12:51:23.618Z"
   },
   {
    "duration": 1232,
    "start_time": "2023-01-18T12:51:23.623Z"
   },
   {
    "duration": 95,
    "start_time": "2023-01-18T12:51:24.859Z"
   },
   {
    "duration": 24,
    "start_time": "2023-01-18T12:51:24.955Z"
   },
   {
    "duration": 12,
    "start_time": "2023-01-18T12:51:24.980Z"
   },
   {
    "duration": 6,
    "start_time": "2023-01-18T12:51:24.994Z"
   },
   {
    "duration": 22,
    "start_time": "2023-01-18T12:51:25.001Z"
   },
   {
    "duration": 7,
    "start_time": "2023-01-18T12:51:25.025Z"
   },
   {
    "duration": 8,
    "start_time": "2023-01-18T12:51:25.034Z"
   },
   {
    "duration": 7,
    "start_time": "2023-01-18T12:51:25.043Z"
   },
   {
    "duration": 29,
    "start_time": "2023-01-18T12:51:25.052Z"
   },
   {
    "duration": 137,
    "start_time": "2023-01-18T12:51:25.083Z"
   },
   {
    "duration": 138,
    "start_time": "2023-01-18T12:51:25.222Z"
   },
   {
    "duration": 17,
    "start_time": "2023-01-18T12:51:25.362Z"
   },
   {
    "duration": 7,
    "start_time": "2023-01-18T12:51:25.381Z"
   },
   {
    "duration": 8,
    "start_time": "2023-01-18T12:51:25.389Z"
   },
   {
    "duration": 132,
    "start_time": "2023-01-18T12:51:25.398Z"
   },
   {
    "duration": 175,
    "start_time": "2023-01-18T12:51:25.532Z"
   },
   {
    "duration": 14,
    "start_time": "2023-01-18T12:51:25.709Z"
   },
   {
    "duration": 2774,
    "start_time": "2023-01-19T06:18:32.620Z"
   },
   {
    "duration": 1489,
    "start_time": "2023-01-19T06:18:53.798Z"
   },
   {
    "duration": 3,
    "start_time": "2023-01-19T06:18:55.289Z"
   },
   {
    "duration": 3660,
    "start_time": "2023-01-19T06:18:55.299Z"
   },
   {
    "duration": 3,
    "start_time": "2023-01-19T06:18:58.961Z"
   },
   {
    "duration": 8,
    "start_time": "2023-01-19T06:18:58.965Z"
   },
   {
    "duration": 12,
    "start_time": "2023-01-19T06:18:58.974Z"
   },
   {
    "duration": 6,
    "start_time": "2023-01-19T06:18:58.988Z"
   },
   {
    "duration": 5,
    "start_time": "2023-01-19T06:18:58.996Z"
   },
   {
    "duration": 14,
    "start_time": "2023-01-19T06:18:59.003Z"
   },
   {
    "duration": 6,
    "start_time": "2023-01-19T06:18:59.020Z"
   },
   {
    "duration": 6,
    "start_time": "2023-01-19T06:18:59.028Z"
   },
   {
    "duration": 15470,
    "start_time": "2023-01-19T06:18:59.035Z"
   },
   {
    "duration": 14,
    "start_time": "2023-01-19T06:19:14.507Z"
   },
   {
    "duration": 47,
    "start_time": "2023-01-19T06:19:14.523Z"
   },
   {
    "duration": 43,
    "start_time": "2023-01-19T06:19:14.571Z"
   },
   {
    "duration": 58,
    "start_time": "2023-01-19T06:19:14.615Z"
   },
   {
    "duration": 51,
    "start_time": "2023-01-19T06:19:14.675Z"
   },
   {
    "duration": 21,
    "start_time": "2023-01-19T06:19:14.733Z"
   },
   {
    "duration": 51,
    "start_time": "2023-01-19T06:19:14.756Z"
   },
   {
    "duration": 48,
    "start_time": "2023-01-19T06:19:14.809Z"
   },
   {
    "duration": 84,
    "start_time": "2023-01-19T06:19:14.858Z"
   },
   {
    "duration": 4,
    "start_time": "2023-01-19T06:19:14.943Z"
   },
   {
    "duration": 28,
    "start_time": "2023-01-19T06:19:14.948Z"
   },
   {
    "duration": 10,
    "start_time": "2023-01-19T06:19:14.978Z"
   },
   {
    "duration": 67,
    "start_time": "2023-01-19T06:19:14.989Z"
   },
   {
    "duration": 3,
    "start_time": "2023-01-19T06:19:15.058Z"
   },
   {
    "duration": 1417,
    "start_time": "2023-01-19T06:19:15.063Z"
   },
   {
    "duration": 81,
    "start_time": "2023-01-19T06:19:16.484Z"
   },
   {
    "duration": 1403,
    "start_time": "2023-01-19T06:19:16.568Z"
   },
   {
    "duration": 139,
    "start_time": "2023-01-19T06:19:17.974Z"
   },
   {
    "duration": 47,
    "start_time": "2023-01-19T06:19:18.115Z"
   },
   {
    "duration": 79,
    "start_time": "2023-01-19T06:19:18.166Z"
   },
   {
    "duration": 56,
    "start_time": "2023-01-19T06:19:18.247Z"
   },
   {
    "duration": 78,
    "start_time": "2023-01-19T06:19:18.306Z"
   },
   {
    "duration": 82,
    "start_time": "2023-01-19T06:19:18.386Z"
   },
   {
    "duration": 42,
    "start_time": "2023-01-19T06:19:18.469Z"
   },
   {
    "duration": 170,
    "start_time": "2023-01-19T06:19:18.513Z"
   },
   {
    "duration": 173,
    "start_time": "2023-01-19T06:19:18.686Z"
   },
   {
    "duration": 13,
    "start_time": "2023-01-19T06:19:18.861Z"
   },
   {
    "duration": 42,
    "start_time": "2023-01-19T06:19:18.876Z"
   },
   {
    "duration": 59,
    "start_time": "2023-01-19T06:19:18.919Z"
   },
   {
    "duration": 174,
    "start_time": "2023-01-19T06:19:18.979Z"
   },
   {
    "duration": 230,
    "start_time": "2023-01-19T06:19:19.156Z"
   },
   {
    "duration": 15,
    "start_time": "2023-01-19T06:19:19.388Z"
   },
   {
    "duration": 108,
    "start_time": "2023-01-19T07:33:46.074Z"
   },
   {
    "duration": 173,
    "start_time": "2023-01-19T07:33:56.666Z"
   },
   {
    "duration": 8,
    "start_time": "2023-01-19T07:50:13.707Z"
   },
   {
    "duration": 11,
    "start_time": "2023-01-19T07:50:43.714Z"
   },
   {
    "duration": 12,
    "start_time": "2023-01-19T07:51:14.159Z"
   },
   {
    "duration": 15,
    "start_time": "2023-01-19T09:40:15.675Z"
   },
   {
    "duration": 12,
    "start_time": "2023-01-19T09:40:55.710Z"
   },
   {
    "duration": 5,
    "start_time": "2023-01-19T09:41:33.530Z"
   },
   {
    "duration": 9,
    "start_time": "2023-01-19T09:41:56.245Z"
   },
   {
    "duration": 11,
    "start_time": "2023-01-19T09:42:45.642Z"
   },
   {
    "duration": 12,
    "start_time": "2023-01-19T09:42:57.259Z"
   },
   {
    "duration": 11,
    "start_time": "2023-01-19T09:43:02.290Z"
   },
   {
    "duration": 10,
    "start_time": "2023-01-19T09:55:47.037Z"
   },
   {
    "duration": 11,
    "start_time": "2023-01-19T09:56:13.357Z"
   },
   {
    "duration": 12,
    "start_time": "2023-01-19T09:56:21.658Z"
   },
   {
    "duration": 15,
    "start_time": "2023-01-19T09:56:38.892Z"
   },
   {
    "duration": 7,
    "start_time": "2023-01-19T09:57:21.787Z"
   },
   {
    "duration": 6,
    "start_time": "2023-01-19T09:58:12.470Z"
   },
   {
    "duration": 7,
    "start_time": "2023-01-19T09:58:29.588Z"
   },
   {
    "duration": 10,
    "start_time": "2023-01-19T09:58:58.116Z"
   },
   {
    "duration": 9,
    "start_time": "2023-01-19T10:01:49.093Z"
   },
   {
    "duration": 11,
    "start_time": "2023-01-19T10:02:27.814Z"
   },
   {
    "duration": 10,
    "start_time": "2023-01-19T10:02:58.972Z"
   },
   {
    "duration": 7,
    "start_time": "2023-01-19T10:04:45.057Z"
   },
   {
    "duration": 8,
    "start_time": "2023-01-19T10:06:03.096Z"
   },
   {
    "duration": 9,
    "start_time": "2023-01-19T10:06:25.654Z"
   },
   {
    "duration": 77,
    "start_time": "2023-01-19T10:06:39.206Z"
   },
   {
    "duration": 9,
    "start_time": "2023-01-19T10:07:21.272Z"
   },
   {
    "duration": 6,
    "start_time": "2023-01-19T10:57:31.979Z"
   },
   {
    "duration": 6,
    "start_time": "2023-01-19T11:04:16.149Z"
   },
   {
    "duration": 9,
    "start_time": "2023-01-19T11:04:20.453Z"
   },
   {
    "duration": 7,
    "start_time": "2023-01-19T11:04:44.327Z"
   },
   {
    "duration": 106,
    "start_time": "2023-01-19T11:04:52.358Z"
   },
   {
    "duration": 83,
    "start_time": "2023-01-19T11:05:09.939Z"
   },
   {
    "duration": 145,
    "start_time": "2023-01-19T11:06:34.135Z"
   },
   {
    "duration": 138,
    "start_time": "2023-01-19T11:07:23.135Z"
   },
   {
    "duration": 112,
    "start_time": "2023-01-19T11:16:05.348Z"
   },
   {
    "duration": 121,
    "start_time": "2023-01-19T11:16:20.024Z"
   },
   {
    "duration": 13,
    "start_time": "2023-01-19T11:16:47.560Z"
   },
   {
    "duration": 11,
    "start_time": "2023-01-19T11:19:17.516Z"
   },
   {
    "duration": 5,
    "start_time": "2023-01-19T11:19:26.913Z"
   },
   {
    "duration": 14,
    "start_time": "2023-01-19T11:20:20.618Z"
   },
   {
    "duration": 9,
    "start_time": "2023-01-19T11:20:31.683Z"
   },
   {
    "duration": 11,
    "start_time": "2023-01-19T11:20:36.990Z"
   },
   {
    "duration": 5,
    "start_time": "2023-01-19T11:21:47.425Z"
   },
   {
    "duration": 10,
    "start_time": "2023-01-19T11:22:24.680Z"
   },
   {
    "duration": 13,
    "start_time": "2023-01-19T11:22:59.138Z"
   },
   {
    "duration": 8,
    "start_time": "2023-01-19T11:24:29.379Z"
   },
   {
    "duration": 15,
    "start_time": "2023-01-19T11:27:49.781Z"
   },
   {
    "duration": 14,
    "start_time": "2023-01-19T11:30:01.228Z"
   },
   {
    "duration": 28,
    "start_time": "2023-01-19T11:30:24.285Z"
   },
   {
    "duration": 22,
    "start_time": "2023-01-19T11:31:35.562Z"
   },
   {
    "duration": 9,
    "start_time": "2023-01-19T11:31:55.947Z"
   },
   {
    "duration": 10,
    "start_time": "2023-01-19T11:32:26.153Z"
   },
   {
    "duration": 15,
    "start_time": "2023-01-19T11:32:44.425Z"
   },
   {
    "duration": 8,
    "start_time": "2023-01-19T11:45:58.283Z"
   },
   {
    "duration": 19,
    "start_time": "2023-01-19T11:46:11.975Z"
   },
   {
    "duration": 41,
    "start_time": "2023-01-19T11:56:21.134Z"
   },
   {
    "duration": 49,
    "start_time": "2023-01-19T11:57:39.043Z"
   },
   {
    "duration": 14,
    "start_time": "2023-01-19T11:57:56.063Z"
   },
   {
    "duration": 12,
    "start_time": "2023-01-19T11:58:30.818Z"
   },
   {
    "duration": 19,
    "start_time": "2023-01-19T11:59:53.260Z"
   },
   {
    "duration": 20,
    "start_time": "2023-01-19T12:00:07.950Z"
   },
   {
    "duration": 55,
    "start_time": "2023-01-19T12:01:19.290Z"
   },
   {
    "duration": 1383,
    "start_time": "2023-01-19T12:01:38.577Z"
   },
   {
    "duration": 4,
    "start_time": "2023-01-19T12:01:39.962Z"
   },
   {
    "duration": 3762,
    "start_time": "2023-01-19T12:01:39.968Z"
   },
   {
    "duration": 4,
    "start_time": "2023-01-19T12:01:43.733Z"
   },
   {
    "duration": 112,
    "start_time": "2023-01-19T12:01:43.739Z"
   },
   {
    "duration": 16,
    "start_time": "2023-01-19T12:01:43.853Z"
   },
   {
    "duration": 11,
    "start_time": "2023-01-19T12:01:43.871Z"
   },
   {
    "duration": 53,
    "start_time": "2023-01-19T12:01:43.885Z"
   },
   {
    "duration": 28,
    "start_time": "2023-01-19T12:01:43.941Z"
   },
   {
    "duration": 22,
    "start_time": "2023-01-19T12:01:43.973Z"
   },
   {
    "duration": 50,
    "start_time": "2023-01-19T12:01:43.997Z"
   },
   {
    "duration": 17152,
    "start_time": "2023-01-19T12:01:44.050Z"
   },
   {
    "duration": 24,
    "start_time": "2023-01-19T12:02:01.204Z"
   },
   {
    "duration": 63,
    "start_time": "2023-01-19T12:02:01.230Z"
   },
   {
    "duration": 59,
    "start_time": "2023-01-19T12:02:01.294Z"
   },
   {
    "duration": 25,
    "start_time": "2023-01-19T12:02:01.355Z"
   },
   {
    "duration": 93,
    "start_time": "2023-01-19T12:02:01.382Z"
   },
   {
    "duration": 27,
    "start_time": "2023-01-19T12:02:01.477Z"
   },
   {
    "duration": 39,
    "start_time": "2023-01-19T12:02:01.509Z"
   },
   {
    "duration": 31,
    "start_time": "2023-01-19T12:02:01.551Z"
   },
   {
    "duration": 147,
    "start_time": "2023-01-19T12:02:01.584Z"
   },
   {
    "duration": 6,
    "start_time": "2023-01-19T12:02:01.733Z"
   },
   {
    "duration": 76,
    "start_time": "2023-01-19T12:02:01.741Z"
   },
   {
    "duration": 8,
    "start_time": "2023-01-19T12:02:01.819Z"
   },
   {
    "duration": 104,
    "start_time": "2023-01-19T12:02:01.829Z"
   },
   {
    "duration": 13,
    "start_time": "2023-01-19T12:02:01.935Z"
   },
   {
    "duration": 1392,
    "start_time": "2023-01-19T12:02:01.951Z"
   },
   {
    "duration": 14,
    "start_time": "2023-01-19T12:02:03.348Z"
   },
   {
    "duration": 59,
    "start_time": "2023-01-19T12:02:03.364Z"
   },
   {
    "duration": 123,
    "start_time": "2023-01-19T12:02:03.425Z"
   },
   {
    "duration": 5,
    "start_time": "2023-01-19T12:02:03.550Z"
   },
   {
    "duration": 36,
    "start_time": "2023-01-19T12:02:03.557Z"
   },
   {
    "duration": 45,
    "start_time": "2023-01-19T12:02:03.594Z"
   },
   {
    "duration": 20,
    "start_time": "2023-01-19T12:02:03.641Z"
   },
   {
    "duration": 34,
    "start_time": "2023-01-19T12:02:03.662Z"
   },
   {
    "duration": 33,
    "start_time": "2023-01-19T12:02:03.698Z"
   },
   {
    "duration": 16,
    "start_time": "2023-01-19T12:02:03.733Z"
   },
   {
    "duration": 9,
    "start_time": "2023-01-19T12:02:03.750Z"
   },
   {
    "duration": 15,
    "start_time": "2023-01-19T12:02:03.761Z"
   },
   {
    "duration": 141,
    "start_time": "2023-01-19T12:02:03.778Z"
   },
   {
    "duration": 182,
    "start_time": "2023-01-19T12:02:03.921Z"
   },
   {
    "duration": 21,
    "start_time": "2023-01-19T12:02:04.105Z"
   },
   {
    "duration": 151,
    "start_time": "2023-01-19T12:02:04.128Z"
   },
   {
    "duration": 57,
    "start_time": "2023-01-19T12:02:04.282Z"
   },
   {
    "duration": 174,
    "start_time": "2023-01-19T12:02:04.342Z"
   },
   {
    "duration": 204,
    "start_time": "2023-01-19T12:02:04.518Z"
   },
   {
    "duration": 11,
    "start_time": "2023-01-19T12:02:04.724Z"
   },
   {
    "duration": 229,
    "start_time": "2023-01-19T12:02:04.736Z"
   },
   {
    "duration": 14,
    "start_time": "2023-01-19T12:02:04.966Z"
   },
   {
    "duration": 32,
    "start_time": "2023-01-19T12:02:04.982Z"
   },
   {
    "duration": 18,
    "start_time": "2023-01-19T12:02:05.017Z"
   },
   {
    "duration": 26,
    "start_time": "2023-01-19T12:02:05.037Z"
   },
   {
    "duration": 40,
    "start_time": "2023-01-19T12:02:05.065Z"
   },
   {
    "duration": 14,
    "start_time": "2023-01-19T12:02:05.107Z"
   },
   {
    "duration": 18,
    "start_time": "2023-01-19T12:02:05.123Z"
   },
   {
    "duration": 29,
    "start_time": "2023-01-19T12:02:05.143Z"
   },
   {
    "duration": 18,
    "start_time": "2023-01-19T12:02:05.174Z"
   },
   {
    "duration": 101,
    "start_time": "2023-01-19T12:02:05.193Z"
   },
   {
    "duration": 11,
    "start_time": "2023-01-19T12:02:05.296Z"
   },
   {
    "duration": 36,
    "start_time": "2023-01-19T12:02:05.314Z"
   },
   {
    "duration": 102,
    "start_time": "2023-01-19T12:02:05.352Z"
   },
   {
    "duration": 19,
    "start_time": "2023-01-19T12:02:05.457Z"
   },
   {
    "duration": 40,
    "start_time": "2023-01-19T12:02:05.479Z"
   },
   {
    "duration": 9,
    "start_time": "2023-01-19T12:02:05.521Z"
   },
   {
    "duration": 27,
    "start_time": "2023-01-19T12:02:05.532Z"
   },
   {
    "duration": 14,
    "start_time": "2023-01-19T12:02:05.561Z"
   },
   {
    "duration": 11,
    "start_time": "2023-01-19T12:02:05.578Z"
   },
   {
    "duration": 37,
    "start_time": "2023-01-19T12:02:05.591Z"
   },
   {
    "duration": 8,
    "start_time": "2023-01-19T12:02:05.629Z"
   },
   {
    "duration": 19,
    "start_time": "2023-01-19T12:02:05.638Z"
   },
   {
    "duration": 192,
    "start_time": "2023-01-19T12:26:48.763Z"
   },
   {
    "duration": 206,
    "start_time": "2023-01-19T12:27:07.297Z"
   },
   {
    "duration": 519,
    "start_time": "2023-01-19T12:33:54.669Z"
   },
   {
    "duration": 484,
    "start_time": "2023-01-19T12:34:24.482Z"
   },
   {
    "duration": 449,
    "start_time": "2023-01-19T12:34:52.873Z"
   },
   {
    "duration": 354,
    "start_time": "2023-01-19T12:35:54.856Z"
   },
   {
    "duration": 666,
    "start_time": "2023-01-19T12:36:03.985Z"
   },
   {
    "duration": 332,
    "start_time": "2023-01-19T12:36:28.932Z"
   },
   {
    "duration": 407,
    "start_time": "2023-01-19T12:37:45.432Z"
   },
   {
    "duration": 416,
    "start_time": "2023-01-19T12:38:14.759Z"
   },
   {
    "duration": 315,
    "start_time": "2023-01-19T12:39:13.651Z"
   },
   {
    "duration": 332,
    "start_time": "2023-01-19T12:39:45.546Z"
   },
   {
    "duration": 478,
    "start_time": "2023-01-19T12:40:59.462Z"
   },
   {
    "duration": 441,
    "start_time": "2023-01-19T12:41:22.546Z"
   },
   {
    "duration": 1316,
    "start_time": "2023-01-19T13:22:59.776Z"
   },
   {
    "duration": 23,
    "start_time": "2023-01-19T13:23:01.094Z"
   },
   {
    "duration": 2727,
    "start_time": "2023-01-19T13:23:01.125Z"
   },
   {
    "duration": 3,
    "start_time": "2023-01-19T13:23:03.855Z"
   },
   {
    "duration": 48,
    "start_time": "2023-01-19T13:23:03.859Z"
   },
   {
    "duration": 64,
    "start_time": "2023-01-19T13:23:03.908Z"
   },
   {
    "duration": 42,
    "start_time": "2023-01-19T13:23:03.974Z"
   },
   {
    "duration": 71,
    "start_time": "2023-01-19T13:23:04.021Z"
   },
   {
    "duration": 81,
    "start_time": "2023-01-19T13:23:04.094Z"
   },
   {
    "duration": 62,
    "start_time": "2023-01-19T13:23:04.179Z"
   },
   {
    "duration": 37,
    "start_time": "2023-01-19T13:23:04.243Z"
   },
   {
    "duration": 17175,
    "start_time": "2023-01-19T13:23:04.281Z"
   },
   {
    "duration": 9,
    "start_time": "2023-01-19T13:23:21.458Z"
   },
   {
    "duration": 22,
    "start_time": "2023-01-19T13:23:21.469Z"
   },
   {
    "duration": 49,
    "start_time": "2023-01-19T13:23:21.492Z"
   },
   {
    "duration": 29,
    "start_time": "2023-01-19T13:23:21.543Z"
   },
   {
    "duration": 18,
    "start_time": "2023-01-19T13:23:21.575Z"
   },
   {
    "duration": 69,
    "start_time": "2023-01-19T13:23:21.594Z"
   },
   {
    "duration": 37,
    "start_time": "2023-01-19T13:23:21.665Z"
   },
   {
    "duration": 16,
    "start_time": "2023-01-19T13:23:21.703Z"
   },
   {
    "duration": 131,
    "start_time": "2023-01-19T13:23:21.720Z"
   },
   {
    "duration": 4,
    "start_time": "2023-01-19T13:23:21.853Z"
   },
   {
    "duration": 29,
    "start_time": "2023-01-19T13:23:21.859Z"
   },
   {
    "duration": 57,
    "start_time": "2023-01-19T13:23:21.889Z"
   },
   {
    "duration": 77,
    "start_time": "2023-01-19T13:23:21.948Z"
   },
   {
    "duration": 5,
    "start_time": "2023-01-19T13:23:22.029Z"
   },
   {
    "duration": 2397,
    "start_time": "2023-01-19T13:23:22.036Z"
   },
   {
    "duration": 19,
    "start_time": "2023-01-19T13:23:24.438Z"
   },
   {
    "duration": 63,
    "start_time": "2023-01-19T13:23:24.460Z"
   },
   {
    "duration": 115,
    "start_time": "2023-01-19T13:23:24.524Z"
   },
   {
    "duration": 10,
    "start_time": "2023-01-19T13:23:24.640Z"
   },
   {
    "duration": 13,
    "start_time": "2023-01-19T13:23:24.651Z"
   },
   {
    "duration": 4,
    "start_time": "2023-01-19T13:23:24.666Z"
   },
   {
    "duration": 16,
    "start_time": "2023-01-19T13:23:24.672Z"
   },
   {
    "duration": 12,
    "start_time": "2023-01-19T13:23:24.699Z"
   },
   {
    "duration": 40,
    "start_time": "2023-01-19T13:23:24.713Z"
   },
   {
    "duration": 11,
    "start_time": "2023-01-19T13:23:24.755Z"
   },
   {
    "duration": 6,
    "start_time": "2023-01-19T13:23:24.767Z"
   },
   {
    "duration": 8,
    "start_time": "2023-01-19T13:23:24.775Z"
   },
   {
    "duration": 183,
    "start_time": "2023-01-19T13:23:24.785Z"
   },
   {
    "duration": 124,
    "start_time": "2023-01-19T13:23:24.970Z"
   },
   {
    "duration": 20,
    "start_time": "2023-01-19T13:23:25.095Z"
   },
   {
    "duration": 12,
    "start_time": "2023-01-19T13:23:25.118Z"
   },
   {
    "duration": 26,
    "start_time": "2023-01-19T13:23:25.136Z"
   },
   {
    "duration": 164,
    "start_time": "2023-01-19T13:23:25.163Z"
   },
   {
    "duration": 389,
    "start_time": "2023-01-19T13:23:25.335Z"
   },
   {
    "duration": 25,
    "start_time": "2023-01-19T13:23:25.725Z"
   },
   {
    "duration": 118,
    "start_time": "2023-01-19T13:23:25.753Z"
   },
   {
    "duration": 0,
    "start_time": "2023-01-19T13:23:25.873Z"
   },
   {
    "duration": 0,
    "start_time": "2023-01-19T13:23:25.874Z"
   },
   {
    "duration": 0,
    "start_time": "2023-01-19T13:23:25.876Z"
   },
   {
    "duration": 0,
    "start_time": "2023-01-19T13:23:25.878Z"
   },
   {
    "duration": 0,
    "start_time": "2023-01-19T13:23:25.880Z"
   },
   {
    "duration": 0,
    "start_time": "2023-01-19T13:23:25.881Z"
   },
   {
    "duration": 0,
    "start_time": "2023-01-19T13:23:25.883Z"
   },
   {
    "duration": 0,
    "start_time": "2023-01-19T13:23:25.884Z"
   },
   {
    "duration": 0,
    "start_time": "2023-01-19T13:23:25.886Z"
   },
   {
    "duration": 0,
    "start_time": "2023-01-19T13:23:25.887Z"
   },
   {
    "duration": 0,
    "start_time": "2023-01-19T13:23:25.889Z"
   },
   {
    "duration": 0,
    "start_time": "2023-01-19T13:23:25.891Z"
   },
   {
    "duration": 0,
    "start_time": "2023-01-19T13:23:25.893Z"
   },
   {
    "duration": 0,
    "start_time": "2023-01-19T13:23:25.894Z"
   },
   {
    "duration": 1,
    "start_time": "2023-01-19T13:23:25.895Z"
   },
   {
    "duration": 0,
    "start_time": "2023-01-19T13:23:25.977Z"
   },
   {
    "duration": 0,
    "start_time": "2023-01-19T13:23:25.978Z"
   },
   {
    "duration": 0,
    "start_time": "2023-01-19T13:23:25.980Z"
   },
   {
    "duration": 0,
    "start_time": "2023-01-19T13:23:25.981Z"
   },
   {
    "duration": 0,
    "start_time": "2023-01-19T13:23:25.999Z"
   },
   {
    "duration": 0,
    "start_time": "2023-01-19T13:23:25.999Z"
   },
   {
    "duration": 0,
    "start_time": "2023-01-19T13:23:26.000Z"
   },
   {
    "duration": 1311,
    "start_time": "2023-01-19T13:28:13.106Z"
   },
   {
    "duration": 8,
    "start_time": "2023-01-19T13:28:14.419Z"
   },
   {
    "duration": 2331,
    "start_time": "2023-01-19T13:28:14.429Z"
   },
   {
    "duration": 3,
    "start_time": "2023-01-19T13:28:16.762Z"
   },
   {
    "duration": 11,
    "start_time": "2023-01-19T13:28:16.767Z"
   },
   {
    "duration": 62,
    "start_time": "2023-01-19T13:28:16.780Z"
   },
   {
    "duration": 48,
    "start_time": "2023-01-19T13:28:16.844Z"
   },
   {
    "duration": 58,
    "start_time": "2023-01-19T13:28:16.894Z"
   },
   {
    "duration": 48,
    "start_time": "2023-01-19T13:28:16.954Z"
   },
   {
    "duration": 56,
    "start_time": "2023-01-19T13:28:17.011Z"
   },
   {
    "duration": 49,
    "start_time": "2023-01-19T13:28:17.069Z"
   },
   {
    "duration": 16321,
    "start_time": "2023-01-19T13:28:17.121Z"
   },
   {
    "duration": 10,
    "start_time": "2023-01-19T13:28:33.444Z"
   },
   {
    "duration": 16,
    "start_time": "2023-01-19T13:28:33.456Z"
   },
   {
    "duration": 13,
    "start_time": "2023-01-19T13:28:33.473Z"
   },
   {
    "duration": 34,
    "start_time": "2023-01-19T13:28:33.488Z"
   },
   {
    "duration": 20,
    "start_time": "2023-01-19T13:28:33.526Z"
   },
   {
    "duration": 7,
    "start_time": "2023-01-19T13:28:33.548Z"
   },
   {
    "duration": 8,
    "start_time": "2023-01-19T13:28:33.557Z"
   },
   {
    "duration": 11,
    "start_time": "2023-01-19T13:28:33.566Z"
   },
   {
    "duration": 69,
    "start_time": "2023-01-19T13:28:33.579Z"
   },
   {
    "duration": 4,
    "start_time": "2023-01-19T13:28:33.649Z"
   },
   {
    "duration": 15,
    "start_time": "2023-01-19T13:28:33.655Z"
   },
   {
    "duration": 13,
    "start_time": "2023-01-19T13:28:33.671Z"
   },
   {
    "duration": 72,
    "start_time": "2023-01-19T13:28:33.685Z"
   },
   {
    "duration": 3,
    "start_time": "2023-01-19T13:28:33.759Z"
   },
   {
    "duration": 1094,
    "start_time": "2023-01-19T13:28:33.764Z"
   },
   {
    "duration": 14,
    "start_time": "2023-01-19T13:28:34.862Z"
   },
   {
    "duration": 70,
    "start_time": "2023-01-19T13:28:34.878Z"
   },
   {
    "duration": 114,
    "start_time": "2023-01-19T13:28:34.949Z"
   },
   {
    "duration": 5,
    "start_time": "2023-01-19T13:28:35.065Z"
   },
   {
    "duration": 23,
    "start_time": "2023-01-19T13:28:35.071Z"
   },
   {
    "duration": 55,
    "start_time": "2023-01-19T13:28:35.095Z"
   },
   {
    "duration": 45,
    "start_time": "2023-01-19T13:28:35.152Z"
   },
   {
    "duration": 58,
    "start_time": "2023-01-19T13:28:35.198Z"
   },
   {
    "duration": 31,
    "start_time": "2023-01-19T13:28:35.258Z"
   },
   {
    "duration": 57,
    "start_time": "2023-01-19T13:28:35.291Z"
   },
   {
    "duration": 16,
    "start_time": "2023-01-19T13:28:35.350Z"
   },
   {
    "duration": 19,
    "start_time": "2023-01-19T13:28:35.368Z"
   },
   {
    "duration": 162,
    "start_time": "2023-01-19T13:28:35.389Z"
   },
   {
    "duration": 141,
    "start_time": "2023-01-19T13:28:35.553Z"
   },
   {
    "duration": 30,
    "start_time": "2023-01-19T13:28:35.695Z"
   },
   {
    "duration": 22,
    "start_time": "2023-01-19T13:28:35.727Z"
   },
   {
    "duration": 42,
    "start_time": "2023-01-19T13:28:35.751Z"
   },
   {
    "duration": 159,
    "start_time": "2023-01-19T13:28:35.795Z"
   },
   {
    "duration": 406,
    "start_time": "2023-01-19T13:28:35.956Z"
   },
   {
    "duration": 27,
    "start_time": "2023-01-19T13:28:36.364Z"
   },
   {
    "duration": 280,
    "start_time": "2023-01-19T13:28:36.392Z"
   },
   {
    "duration": 11,
    "start_time": "2023-01-19T13:28:36.674Z"
   },
   {
    "duration": 32,
    "start_time": "2023-01-19T13:28:36.687Z"
   },
   {
    "duration": 30,
    "start_time": "2023-01-19T13:28:36.721Z"
   },
   {
    "duration": 13,
    "start_time": "2023-01-19T13:28:36.752Z"
   },
   {
    "duration": 10,
    "start_time": "2023-01-19T13:28:36.767Z"
   },
   {
    "duration": 7,
    "start_time": "2023-01-19T13:28:36.778Z"
   },
   {
    "duration": 31,
    "start_time": "2023-01-19T13:28:36.787Z"
   },
   {
    "duration": 19,
    "start_time": "2023-01-19T13:28:36.820Z"
   },
   {
    "duration": 8,
    "start_time": "2023-01-19T13:28:36.842Z"
   },
   {
    "duration": 9,
    "start_time": "2023-01-19T13:28:36.852Z"
   },
   {
    "duration": 6,
    "start_time": "2023-01-19T13:28:36.863Z"
   },
   {
    "duration": 36,
    "start_time": "2023-01-19T13:28:36.870Z"
   },
   {
    "duration": 103,
    "start_time": "2023-01-19T13:28:36.912Z"
   },
   {
    "duration": 13,
    "start_time": "2023-01-19T13:28:37.017Z"
   },
   {
    "duration": 22,
    "start_time": "2023-01-19T13:28:37.032Z"
   },
   {
    "duration": 8,
    "start_time": "2023-01-19T13:28:37.056Z"
   },
   {
    "duration": 14,
    "start_time": "2023-01-19T13:28:37.065Z"
   },
   {
    "duration": 36,
    "start_time": "2023-01-19T13:28:37.081Z"
   },
   {
    "duration": 14,
    "start_time": "2023-01-19T13:28:37.119Z"
   },
   {
    "duration": 18,
    "start_time": "2023-01-19T13:28:37.137Z"
   },
   {
    "duration": 20,
    "start_time": "2023-01-19T13:28:37.157Z"
   },
   {
    "duration": 15,
    "start_time": "2023-01-19T13:28:37.179Z"
   },
   {
    "duration": 167,
    "start_time": "2023-01-19T13:28:37.196Z"
   },
   {
    "duration": 2789,
    "start_time": "2023-01-20T06:07:28.535Z"
   },
   {
    "duration": 1504,
    "start_time": "2023-01-20T06:07:45.622Z"
   },
   {
    "duration": 2,
    "start_time": "2023-01-20T06:07:47.128Z"
   },
   {
    "duration": 3343,
    "start_time": "2023-01-20T06:07:47.132Z"
   },
   {
    "duration": 3,
    "start_time": "2023-01-20T06:07:50.476Z"
   },
   {
    "duration": 37,
    "start_time": "2023-01-20T06:07:50.481Z"
   },
   {
    "duration": 15,
    "start_time": "2023-01-20T06:07:50.520Z"
   },
   {
    "duration": 10,
    "start_time": "2023-01-20T06:07:50.537Z"
   },
   {
    "duration": 14,
    "start_time": "2023-01-20T06:07:50.549Z"
   },
   {
    "duration": 32,
    "start_time": "2023-01-20T06:07:50.565Z"
   },
   {
    "duration": 31,
    "start_time": "2023-01-20T06:07:50.600Z"
   },
   {
    "duration": 12,
    "start_time": "2023-01-20T06:07:50.633Z"
   },
   {
    "duration": 16138,
    "start_time": "2023-01-20T06:07:50.647Z"
   },
   {
    "duration": 17,
    "start_time": "2023-01-20T06:08:06.787Z"
   },
   {
    "duration": 10,
    "start_time": "2023-01-20T06:08:06.806Z"
   },
   {
    "duration": 9,
    "start_time": "2023-01-20T06:08:06.818Z"
   },
   {
    "duration": 13,
    "start_time": "2023-01-20T06:08:06.831Z"
   },
   {
    "duration": 12,
    "start_time": "2023-01-20T06:08:06.846Z"
   },
   {
    "duration": 36,
    "start_time": "2023-01-20T06:08:06.861Z"
   },
   {
    "duration": 9,
    "start_time": "2023-01-20T06:08:06.900Z"
   },
   {
    "duration": 6,
    "start_time": "2023-01-20T06:08:06.911Z"
   },
   {
    "duration": 73,
    "start_time": "2023-01-20T06:08:06.919Z"
   },
   {
    "duration": 4,
    "start_time": "2023-01-20T06:08:06.994Z"
   },
   {
    "duration": 19,
    "start_time": "2023-01-20T06:08:07.001Z"
   },
   {
    "duration": 8,
    "start_time": "2023-01-20T06:08:07.022Z"
   },
   {
    "duration": 85,
    "start_time": "2023-01-20T06:08:07.032Z"
   },
   {
    "duration": 3,
    "start_time": "2023-01-20T06:08:07.119Z"
   },
   {
    "duration": 1322,
    "start_time": "2023-01-20T06:08:07.124Z"
   },
   {
    "duration": 15,
    "start_time": "2023-01-20T06:08:08.451Z"
   },
   {
    "duration": 56,
    "start_time": "2023-01-20T06:08:08.468Z"
   },
   {
    "duration": 134,
    "start_time": "2023-01-20T06:08:08.526Z"
   },
   {
    "duration": 6,
    "start_time": "2023-01-20T06:08:08.662Z"
   },
   {
    "duration": 31,
    "start_time": "2023-01-20T06:08:08.670Z"
   },
   {
    "duration": 11,
    "start_time": "2023-01-20T06:08:08.703Z"
   },
   {
    "duration": 18,
    "start_time": "2023-01-20T06:08:08.716Z"
   },
   {
    "duration": 11,
    "start_time": "2023-01-20T06:08:08.736Z"
   },
   {
    "duration": 10,
    "start_time": "2023-01-20T06:08:08.749Z"
   },
   {
    "duration": 8,
    "start_time": "2023-01-20T06:08:08.761Z"
   },
   {
    "duration": 7,
    "start_time": "2023-01-20T06:08:08.793Z"
   },
   {
    "duration": 15,
    "start_time": "2023-01-20T06:08:08.803Z"
   },
   {
    "duration": 147,
    "start_time": "2023-01-20T06:08:08.820Z"
   },
   {
    "duration": 151,
    "start_time": "2023-01-20T06:08:08.970Z"
   },
   {
    "duration": 10,
    "start_time": "2023-01-20T06:08:09.123Z"
   },
   {
    "duration": 8,
    "start_time": "2023-01-20T06:08:09.134Z"
   },
   {
    "duration": 10,
    "start_time": "2023-01-20T06:08:09.144Z"
   },
   {
    "duration": 201,
    "start_time": "2023-01-20T06:08:09.156Z"
   },
   {
    "duration": 444,
    "start_time": "2023-01-20T06:08:09.359Z"
   },
   {
    "duration": 13,
    "start_time": "2023-01-20T06:08:09.805Z"
   },
   {
    "duration": 20,
    "start_time": "2023-01-20T06:08:09.820Z"
   },
   {
    "duration": 22,
    "start_time": "2023-01-20T06:08:09.842Z"
   },
   {
    "duration": 41,
    "start_time": "2023-01-20T06:08:09.866Z"
   },
   {
    "duration": 15,
    "start_time": "2023-01-20T06:08:09.909Z"
   },
   {
    "duration": 13,
    "start_time": "2023-01-20T06:08:09.926Z"
   },
   {
    "duration": 7,
    "start_time": "2023-01-20T06:08:09.941Z"
   },
   {
    "duration": 57,
    "start_time": "2023-01-20T06:08:09.950Z"
   },
   {
    "duration": 83,
    "start_time": "2023-01-20T06:08:10.009Z"
   },
   {
    "duration": 11,
    "start_time": "2023-01-20T06:08:10.094Z"
   },
   {
    "duration": 10,
    "start_time": "2023-01-20T06:08:10.107Z"
   },
   {
    "duration": 7,
    "start_time": "2023-01-20T06:08:10.119Z"
   },
   {
    "duration": 9,
    "start_time": "2023-01-20T06:08:10.128Z"
   },
   {
    "duration": 144,
    "start_time": "2023-01-20T06:08:10.139Z"
   },
   {
    "duration": 15,
    "start_time": "2023-01-20T06:08:10.285Z"
   },
   {
    "duration": 15,
    "start_time": "2023-01-20T06:08:10.302Z"
   },
   {
    "duration": 8,
    "start_time": "2023-01-20T06:08:10.319Z"
   },
   {
    "duration": 8,
    "start_time": "2023-01-20T06:08:10.329Z"
   },
   {
    "duration": 14,
    "start_time": "2023-01-20T06:08:10.339Z"
   },
   {
    "duration": 47,
    "start_time": "2023-01-20T06:08:10.355Z"
   },
   {
    "duration": 10,
    "start_time": "2023-01-20T06:08:10.404Z"
   },
   {
    "duration": 9,
    "start_time": "2023-01-20T06:08:10.417Z"
   },
   {
    "duration": 10,
    "start_time": "2023-01-20T06:08:10.428Z"
   },
   {
    "duration": 154,
    "start_time": "2023-01-20T06:08:10.440Z"
   },
   {
    "duration": 625,
    "start_time": "2023-01-21T10:22:33.914Z"
   },
   {
    "duration": 0,
    "start_time": "2023-01-21T10:22:34.545Z"
   },
   {
    "duration": 0,
    "start_time": "2023-01-21T10:22:34.546Z"
   },
   {
    "duration": 0,
    "start_time": "2023-01-21T10:22:34.548Z"
   },
   {
    "duration": 0,
    "start_time": "2023-01-21T10:22:34.550Z"
   },
   {
    "duration": 0,
    "start_time": "2023-01-21T10:22:34.551Z"
   },
   {
    "duration": 0,
    "start_time": "2023-01-21T10:22:34.553Z"
   },
   {
    "duration": 0,
    "start_time": "2023-01-21T10:22:34.555Z"
   },
   {
    "duration": 0,
    "start_time": "2023-01-21T10:22:34.556Z"
   },
   {
    "duration": 0,
    "start_time": "2023-01-21T10:22:34.584Z"
   },
   {
    "duration": 0,
    "start_time": "2023-01-21T10:22:34.585Z"
   },
   {
    "duration": 0,
    "start_time": "2023-01-21T10:22:34.587Z"
   },
   {
    "duration": 0,
    "start_time": "2023-01-21T10:22:34.589Z"
   },
   {
    "duration": 0,
    "start_time": "2023-01-21T10:22:34.591Z"
   },
   {
    "duration": 0,
    "start_time": "2023-01-21T10:22:34.594Z"
   },
   {
    "duration": 0,
    "start_time": "2023-01-21T10:22:34.595Z"
   },
   {
    "duration": 0,
    "start_time": "2023-01-21T10:22:34.597Z"
   },
   {
    "duration": 0,
    "start_time": "2023-01-21T10:22:34.598Z"
   },
   {
    "duration": 0,
    "start_time": "2023-01-21T10:22:34.600Z"
   },
   {
    "duration": 0,
    "start_time": "2023-01-21T10:22:34.601Z"
   },
   {
    "duration": 0,
    "start_time": "2023-01-21T10:22:34.603Z"
   },
   {
    "duration": 0,
    "start_time": "2023-01-21T10:22:34.605Z"
   },
   {
    "duration": 0,
    "start_time": "2023-01-21T10:22:34.607Z"
   },
   {
    "duration": 0,
    "start_time": "2023-01-21T10:22:34.608Z"
   },
   {
    "duration": 0,
    "start_time": "2023-01-21T10:22:34.610Z"
   },
   {
    "duration": 0,
    "start_time": "2023-01-21T10:22:34.612Z"
   },
   {
    "duration": 0,
    "start_time": "2023-01-21T10:22:34.613Z"
   },
   {
    "duration": 0,
    "start_time": "2023-01-21T10:22:34.615Z"
   },
   {
    "duration": 0,
    "start_time": "2023-01-21T10:22:34.616Z"
   },
   {
    "duration": 0,
    "start_time": "2023-01-21T10:22:34.618Z"
   },
   {
    "duration": 0,
    "start_time": "2023-01-21T10:22:34.619Z"
   },
   {
    "duration": 0,
    "start_time": "2023-01-21T10:22:34.623Z"
   },
   {
    "duration": 0,
    "start_time": "2023-01-21T10:22:34.683Z"
   },
   {
    "duration": 0,
    "start_time": "2023-01-21T10:22:34.685Z"
   },
   {
    "duration": 0,
    "start_time": "2023-01-21T10:22:34.688Z"
   },
   {
    "duration": 0,
    "start_time": "2023-01-21T10:22:34.690Z"
   },
   {
    "duration": 0,
    "start_time": "2023-01-21T10:22:34.692Z"
   },
   {
    "duration": 0,
    "start_time": "2023-01-21T10:22:34.694Z"
   },
   {
    "duration": 0,
    "start_time": "2023-01-21T10:22:34.697Z"
   },
   {
    "duration": 0,
    "start_time": "2023-01-21T10:22:34.699Z"
   },
   {
    "duration": 0,
    "start_time": "2023-01-21T10:22:34.700Z"
   },
   {
    "duration": 0,
    "start_time": "2023-01-21T10:22:34.703Z"
   },
   {
    "duration": 0,
    "start_time": "2023-01-21T10:22:34.705Z"
   },
   {
    "duration": 0,
    "start_time": "2023-01-21T10:22:34.707Z"
   },
   {
    "duration": 0,
    "start_time": "2023-01-21T10:22:34.709Z"
   },
   {
    "duration": 0,
    "start_time": "2023-01-21T10:22:34.712Z"
   },
   {
    "duration": 0,
    "start_time": "2023-01-21T10:22:34.713Z"
   },
   {
    "duration": 0,
    "start_time": "2023-01-21T10:22:34.715Z"
   },
   {
    "duration": 0,
    "start_time": "2023-01-21T10:22:34.717Z"
   },
   {
    "duration": 0,
    "start_time": "2023-01-21T10:22:34.718Z"
   },
   {
    "duration": 0,
    "start_time": "2023-01-21T10:22:34.720Z"
   },
   {
    "duration": 0,
    "start_time": "2023-01-21T10:22:34.722Z"
   },
   {
    "duration": 0,
    "start_time": "2023-01-21T10:22:34.723Z"
   },
   {
    "duration": 0,
    "start_time": "2023-01-21T10:22:34.725Z"
   },
   {
    "duration": 0,
    "start_time": "2023-01-21T10:22:34.785Z"
   },
   {
    "duration": 0,
    "start_time": "2023-01-21T10:22:34.788Z"
   },
   {
    "duration": 0,
    "start_time": "2023-01-21T10:22:34.789Z"
   },
   {
    "duration": 0,
    "start_time": "2023-01-21T10:22:34.791Z"
   },
   {
    "duration": 0,
    "start_time": "2023-01-21T10:22:34.793Z"
   },
   {
    "duration": 0,
    "start_time": "2023-01-21T10:22:34.794Z"
   },
   {
    "duration": 0,
    "start_time": "2023-01-21T10:22:34.796Z"
   },
   {
    "duration": 0,
    "start_time": "2023-01-21T10:22:34.798Z"
   },
   {
    "duration": 0,
    "start_time": "2023-01-21T10:22:34.799Z"
   },
   {
    "duration": 0,
    "start_time": "2023-01-21T10:22:34.801Z"
   },
   {
    "duration": 0,
    "start_time": "2023-01-21T10:22:34.802Z"
   },
   {
    "duration": 0,
    "start_time": "2023-01-21T10:22:34.803Z"
   },
   {
    "duration": 0,
    "start_time": "2023-01-21T10:22:34.805Z"
   },
   {
    "duration": 0,
    "start_time": "2023-01-21T10:22:34.806Z"
   },
   {
    "duration": 0,
    "start_time": "2023-01-21T10:22:34.808Z"
   },
   {
    "duration": 0,
    "start_time": "2023-01-21T10:22:34.809Z"
   },
   {
    "duration": 3622,
    "start_time": "2023-01-21T10:24:19.102Z"
   },
   {
    "duration": 1948,
    "start_time": "2023-01-21T10:24:39.165Z"
   },
   {
    "duration": 5,
    "start_time": "2023-01-21T10:24:41.116Z"
   },
   {
    "duration": 4115,
    "start_time": "2023-01-21T10:24:41.123Z"
   },
   {
    "duration": 3,
    "start_time": "2023-01-21T10:24:45.241Z"
   },
   {
    "duration": 15,
    "start_time": "2023-01-21T10:24:45.246Z"
   },
   {
    "duration": 8,
    "start_time": "2023-01-21T10:24:45.263Z"
   },
   {
    "duration": 7,
    "start_time": "2023-01-21T10:24:45.274Z"
   },
   {
    "duration": 26,
    "start_time": "2023-01-21T10:24:45.284Z"
   },
   {
    "duration": 15,
    "start_time": "2023-01-21T10:24:45.312Z"
   },
   {
    "duration": 11,
    "start_time": "2023-01-21T10:24:45.331Z"
   },
   {
    "duration": 6,
    "start_time": "2023-01-21T10:24:45.344Z"
   },
   {
    "duration": 20690,
    "start_time": "2023-01-21T10:24:45.352Z"
   },
   {
    "duration": 16,
    "start_time": "2023-01-21T10:25:06.045Z"
   },
   {
    "duration": 21,
    "start_time": "2023-01-21T10:25:06.063Z"
   },
   {
    "duration": 27,
    "start_time": "2023-01-21T10:25:06.087Z"
   },
   {
    "duration": 14,
    "start_time": "2023-01-21T10:25:06.116Z"
   },
   {
    "duration": 16,
    "start_time": "2023-01-21T10:25:06.133Z"
   },
   {
    "duration": 13,
    "start_time": "2023-01-21T10:25:06.151Z"
   },
   {
    "duration": 10,
    "start_time": "2023-01-21T10:25:06.185Z"
   },
   {
    "duration": 19,
    "start_time": "2023-01-21T10:25:06.198Z"
   },
   {
    "duration": 92,
    "start_time": "2023-01-21T10:25:06.220Z"
   },
   {
    "duration": 7,
    "start_time": "2023-01-21T10:25:06.315Z"
   },
   {
    "duration": 25,
    "start_time": "2023-01-21T10:25:06.324Z"
   },
   {
    "duration": 15,
    "start_time": "2023-01-21T10:25:06.352Z"
   },
   {
    "duration": 113,
    "start_time": "2023-01-21T10:25:06.372Z"
   },
   {
    "duration": 4,
    "start_time": "2023-01-21T10:25:06.488Z"
   },
   {
    "duration": 1784,
    "start_time": "2023-01-21T10:25:06.495Z"
   },
   {
    "duration": 21,
    "start_time": "2023-01-21T10:25:08.286Z"
   },
   {
    "duration": 92,
    "start_time": "2023-01-21T10:25:08.313Z"
   },
   {
    "duration": 181,
    "start_time": "2023-01-21T10:25:08.408Z"
   },
   {
    "duration": 8,
    "start_time": "2023-01-21T10:25:08.591Z"
   },
   {
    "duration": 24,
    "start_time": "2023-01-21T10:25:08.602Z"
   },
   {
    "duration": 7,
    "start_time": "2023-01-21T10:25:08.629Z"
   },
   {
    "duration": 51,
    "start_time": "2023-01-21T10:25:08.640Z"
   },
   {
    "duration": 35,
    "start_time": "2023-01-21T10:25:08.694Z"
   },
   {
    "duration": 20,
    "start_time": "2023-01-21T10:25:08.732Z"
   },
   {
    "duration": 22,
    "start_time": "2023-01-21T10:25:08.754Z"
   },
   {
    "duration": 13,
    "start_time": "2023-01-21T10:25:08.780Z"
   },
   {
    "duration": 13,
    "start_time": "2023-01-21T10:25:08.796Z"
   },
   {
    "duration": 237,
    "start_time": "2023-01-21T10:25:08.812Z"
   },
   {
    "duration": 217,
    "start_time": "2023-01-21T10:25:09.053Z"
   },
   {
    "duration": 20,
    "start_time": "2023-01-21T10:25:09.273Z"
   },
   {
    "duration": 80,
    "start_time": "2023-01-21T10:25:09.295Z"
   },
   {
    "duration": 9,
    "start_time": "2023-01-21T10:25:09.377Z"
   },
   {
    "duration": 217,
    "start_time": "2023-01-21T10:25:09.388Z"
   },
   {
    "duration": 717,
    "start_time": "2023-01-21T10:25:09.608Z"
   },
   {
    "duration": 15,
    "start_time": "2023-01-21T10:25:10.328Z"
   },
   {
    "duration": 40,
    "start_time": "2023-01-21T10:25:10.345Z"
   },
   {
    "duration": 73,
    "start_time": "2023-01-21T10:25:10.388Z"
   },
   {
    "duration": 18,
    "start_time": "2023-01-21T10:25:10.463Z"
   },
   {
    "duration": 87,
    "start_time": "2023-01-21T10:25:10.484Z"
   },
   {
    "duration": 51,
    "start_time": "2023-01-21T10:25:10.573Z"
   },
   {
    "duration": 12,
    "start_time": "2023-01-21T10:25:10.626Z"
   },
   {
    "duration": 46,
    "start_time": "2023-01-21T10:25:10.641Z"
   },
   {
    "duration": 106,
    "start_time": "2023-01-21T10:25:10.698Z"
   },
   {
    "duration": 12,
    "start_time": "2023-01-21T10:25:10.806Z"
   },
   {
    "duration": 21,
    "start_time": "2023-01-21T10:25:10.821Z"
   },
   {
    "duration": 8,
    "start_time": "2023-01-21T10:25:10.844Z"
   },
   {
    "duration": 38,
    "start_time": "2023-01-21T10:25:10.855Z"
   },
   {
    "duration": 155,
    "start_time": "2023-01-21T10:25:10.895Z"
   },
   {
    "duration": 16,
    "start_time": "2023-01-21T10:25:11.052Z"
   },
   {
    "duration": 23,
    "start_time": "2023-01-21T10:25:11.086Z"
   },
   {
    "duration": 21,
    "start_time": "2023-01-21T10:25:11.112Z"
   },
   {
    "duration": 10,
    "start_time": "2023-01-21T10:25:11.137Z"
   },
   {
    "duration": 51,
    "start_time": "2023-01-21T10:25:11.150Z"
   },
   {
    "duration": 20,
    "start_time": "2023-01-21T10:25:11.203Z"
   },
   {
    "duration": 19,
    "start_time": "2023-01-21T10:25:11.226Z"
   },
   {
    "duration": 40,
    "start_time": "2023-01-21T10:25:11.247Z"
   },
   {
    "duration": 19,
    "start_time": "2023-01-21T10:25:11.290Z"
   },
   {
    "duration": 214,
    "start_time": "2023-01-21T10:25:11.312Z"
   },
   {
    "duration": 5,
    "start_time": "2023-01-21T10:25:51.465Z"
   },
   {
    "duration": 1386,
    "start_time": "2023-01-21T10:28:47.453Z"
   },
   {
    "duration": 3,
    "start_time": "2023-01-21T10:28:48.841Z"
   },
   {
    "duration": 3876,
    "start_time": "2023-01-21T10:28:48.846Z"
   },
   {
    "duration": 3,
    "start_time": "2023-01-21T10:28:52.725Z"
   },
   {
    "duration": 36,
    "start_time": "2023-01-21T10:28:52.731Z"
   },
   {
    "duration": 33,
    "start_time": "2023-01-21T10:28:52.770Z"
   },
   {
    "duration": 32,
    "start_time": "2023-01-21T10:28:52.806Z"
   },
   {
    "duration": 32,
    "start_time": "2023-01-21T10:28:52.840Z"
   },
   {
    "duration": 38,
    "start_time": "2023-01-21T10:28:52.875Z"
   },
   {
    "duration": 26,
    "start_time": "2023-01-21T10:28:52.918Z"
   },
   {
    "duration": 17,
    "start_time": "2023-01-21T10:28:52.946Z"
   },
   {
    "duration": 17660,
    "start_time": "2023-01-21T10:28:52.966Z"
   },
   {
    "duration": 5,
    "start_time": "2023-01-21T10:29:10.629Z"
   },
   {
    "duration": 99,
    "start_time": "2023-01-21T10:29:10.636Z"
   },
   {
    "duration": 8,
    "start_time": "2023-01-21T10:29:10.738Z"
   },
   {
    "duration": 37,
    "start_time": "2023-01-21T10:29:10.749Z"
   },
   {
    "duration": 13,
    "start_time": "2023-01-21T10:29:10.789Z"
   },
   {
    "duration": 8,
    "start_time": "2023-01-21T10:29:10.804Z"
   },
   {
    "duration": 8,
    "start_time": "2023-01-21T10:29:10.814Z"
   },
   {
    "duration": 17,
    "start_time": "2023-01-21T10:29:10.824Z"
   },
   {
    "duration": 1152,
    "start_time": "2023-01-21T10:29:10.843Z"
   },
   {
    "duration": 15,
    "start_time": "2023-01-21T10:29:11.997Z"
   },
   {
    "duration": 45,
    "start_time": "2023-01-21T10:29:12.014Z"
   },
   {
    "duration": 167,
    "start_time": "2023-01-21T10:29:12.062Z"
   },
   {
    "duration": 7,
    "start_time": "2023-01-21T10:29:12.231Z"
   },
   {
    "duration": 22,
    "start_time": "2023-01-21T10:29:12.241Z"
   },
   {
    "duration": 22,
    "start_time": "2023-01-21T10:29:12.265Z"
   },
   {
    "duration": 19,
    "start_time": "2023-01-21T10:29:12.291Z"
   },
   {
    "duration": 15,
    "start_time": "2023-01-21T10:29:12.312Z"
   },
   {
    "duration": 11,
    "start_time": "2023-01-21T10:29:12.330Z"
   },
   {
    "duration": 9,
    "start_time": "2023-01-21T10:29:12.344Z"
   },
   {
    "duration": 40,
    "start_time": "2023-01-21T10:29:12.355Z"
   },
   {
    "duration": 8,
    "start_time": "2023-01-21T10:29:12.398Z"
   },
   {
    "duration": 173,
    "start_time": "2023-01-21T10:29:12.408Z"
   },
   {
    "duration": 154,
    "start_time": "2023-01-21T10:29:12.585Z"
   },
   {
    "duration": 13,
    "start_time": "2023-01-21T10:29:12.741Z"
   },
   {
    "duration": 30,
    "start_time": "2023-01-21T10:29:12.756Z"
   },
   {
    "duration": 7,
    "start_time": "2023-01-21T10:29:12.788Z"
   },
   {
    "duration": 159,
    "start_time": "2023-01-21T10:29:12.797Z"
   },
   {
    "duration": 439,
    "start_time": "2023-01-21T10:29:12.958Z"
   },
   {
    "duration": 12,
    "start_time": "2023-01-21T10:29:13.399Z"
   },
   {
    "duration": 20,
    "start_time": "2023-01-21T10:29:13.414Z"
   },
   {
    "duration": 20,
    "start_time": "2023-01-21T10:29:13.436Z"
   },
   {
    "duration": 17,
    "start_time": "2023-01-21T10:29:13.485Z"
   },
   {
    "duration": 152,
    "start_time": "2023-01-21T10:29:13.505Z"
   },
   {
    "duration": 0,
    "start_time": "2023-01-21T10:29:13.659Z"
   },
   {
    "duration": 0,
    "start_time": "2023-01-21T10:29:13.660Z"
   },
   {
    "duration": 0,
    "start_time": "2023-01-21T10:29:13.662Z"
   },
   {
    "duration": 0,
    "start_time": "2023-01-21T10:29:13.663Z"
   },
   {
    "duration": 0,
    "start_time": "2023-01-21T10:29:13.665Z"
   },
   {
    "duration": 0,
    "start_time": "2023-01-21T10:29:13.684Z"
   },
   {
    "duration": 0,
    "start_time": "2023-01-21T10:29:13.686Z"
   },
   {
    "duration": 0,
    "start_time": "2023-01-21T10:29:13.804Z"
   },
   {
    "duration": 0,
    "start_time": "2023-01-21T10:29:13.806Z"
   },
   {
    "duration": 0,
    "start_time": "2023-01-21T10:29:13.807Z"
   },
   {
    "duration": 0,
    "start_time": "2023-01-21T10:29:13.808Z"
   },
   {
    "duration": 0,
    "start_time": "2023-01-21T10:29:13.810Z"
   },
   {
    "duration": 0,
    "start_time": "2023-01-21T10:29:13.811Z"
   },
   {
    "duration": 0,
    "start_time": "2023-01-21T10:29:13.812Z"
   },
   {
    "duration": 0,
    "start_time": "2023-01-21T10:29:13.813Z"
   },
   {
    "duration": 0,
    "start_time": "2023-01-21T10:29:13.814Z"
   },
   {
    "duration": 0,
    "start_time": "2023-01-21T10:29:13.816Z"
   },
   {
    "duration": 0,
    "start_time": "2023-01-21T10:29:13.817Z"
   },
   {
    "duration": 0,
    "start_time": "2023-01-21T10:29:13.818Z"
   },
   {
    "duration": 1487,
    "start_time": "2023-01-21T10:31:57.824Z"
   },
   {
    "duration": 3,
    "start_time": "2023-01-21T10:31:59.314Z"
   },
   {
    "duration": 2496,
    "start_time": "2023-01-21T10:31:59.319Z"
   },
   {
    "duration": 4,
    "start_time": "2023-01-21T10:32:01.818Z"
   },
   {
    "duration": 21,
    "start_time": "2023-01-21T10:32:01.824Z"
   },
   {
    "duration": 11,
    "start_time": "2023-01-21T10:32:01.847Z"
   },
   {
    "duration": 18,
    "start_time": "2023-01-21T10:32:01.861Z"
   },
   {
    "duration": 8,
    "start_time": "2023-01-21T10:32:01.881Z"
   },
   {
    "duration": 27,
    "start_time": "2023-01-21T10:32:01.891Z"
   },
   {
    "duration": 13,
    "start_time": "2023-01-21T10:32:01.923Z"
   },
   {
    "duration": 22,
    "start_time": "2023-01-21T10:32:01.938Z"
   },
   {
    "duration": 18271,
    "start_time": "2023-01-21T10:32:01.962Z"
   },
   {
    "duration": 6,
    "start_time": "2023-01-21T10:32:20.236Z"
   },
   {
    "duration": 95,
    "start_time": "2023-01-21T10:32:20.245Z"
   },
   {
    "duration": 11,
    "start_time": "2023-01-21T10:32:20.343Z"
   },
   {
    "duration": 25,
    "start_time": "2023-01-21T10:32:20.384Z"
   },
   {
    "duration": 33,
    "start_time": "2023-01-21T10:32:20.412Z"
   },
   {
    "duration": 40,
    "start_time": "2023-01-21T10:32:20.448Z"
   },
   {
    "duration": 22,
    "start_time": "2023-01-21T10:32:20.491Z"
   },
   {
    "duration": 28,
    "start_time": "2023-01-21T10:32:20.516Z"
   },
   {
    "duration": 1294,
    "start_time": "2023-01-21T10:32:20.547Z"
   },
   {
    "duration": 20,
    "start_time": "2023-01-21T10:32:21.844Z"
   },
   {
    "duration": 371,
    "start_time": "2023-01-21T10:32:21.866Z"
   },
   {
    "duration": 181,
    "start_time": "2023-01-21T10:32:22.240Z"
   },
   {
    "duration": 8,
    "start_time": "2023-01-21T10:32:22.423Z"
   },
   {
    "duration": 40,
    "start_time": "2023-01-21T10:32:22.433Z"
   },
   {
    "duration": 19,
    "start_time": "2023-01-21T10:32:22.475Z"
   },
   {
    "duration": 28,
    "start_time": "2023-01-21T10:32:22.499Z"
   },
   {
    "duration": 18,
    "start_time": "2023-01-21T10:32:22.529Z"
   },
   {
    "duration": 34,
    "start_time": "2023-01-21T10:32:22.550Z"
   },
   {
    "duration": 37,
    "start_time": "2023-01-21T10:32:22.588Z"
   },
   {
    "duration": 12,
    "start_time": "2023-01-21T10:32:22.627Z"
   },
   {
    "duration": 26,
    "start_time": "2023-01-21T10:32:22.641Z"
   },
   {
    "duration": 154,
    "start_time": "2023-01-21T10:32:22.670Z"
   },
   {
    "duration": 151,
    "start_time": "2023-01-21T10:32:22.826Z"
   },
   {
    "duration": 21,
    "start_time": "2023-01-21T10:32:22.979Z"
   },
   {
    "duration": 11,
    "start_time": "2023-01-21T10:32:23.002Z"
   },
   {
    "duration": 18,
    "start_time": "2023-01-21T10:32:23.016Z"
   },
   {
    "duration": 197,
    "start_time": "2023-01-21T10:32:23.038Z"
   },
   {
    "duration": 464,
    "start_time": "2023-01-21T10:32:23.237Z"
   },
   {
    "duration": 14,
    "start_time": "2023-01-21T10:32:23.704Z"
   },
   {
    "duration": 33,
    "start_time": "2023-01-21T10:32:23.721Z"
   },
   {
    "duration": 42,
    "start_time": "2023-01-21T10:32:23.756Z"
   },
   {
    "duration": 16,
    "start_time": "2023-01-21T10:32:23.800Z"
   },
   {
    "duration": 20,
    "start_time": "2023-01-21T10:32:23.818Z"
   },
   {
    "duration": 46,
    "start_time": "2023-01-21T10:32:23.840Z"
   },
   {
    "duration": 160,
    "start_time": "2023-01-21T10:32:23.889Z"
   },
   {
    "duration": 0,
    "start_time": "2023-01-21T10:32:24.051Z"
   },
   {
    "duration": 0,
    "start_time": "2023-01-21T10:32:24.053Z"
   },
   {
    "duration": 0,
    "start_time": "2023-01-21T10:32:24.054Z"
   },
   {
    "duration": 0,
    "start_time": "2023-01-21T10:32:24.157Z"
   },
   {
    "duration": 0,
    "start_time": "2023-01-21T10:32:24.159Z"
   },
   {
    "duration": 0,
    "start_time": "2023-01-21T10:32:24.161Z"
   },
   {
    "duration": 0,
    "start_time": "2023-01-21T10:32:24.163Z"
   },
   {
    "duration": 0,
    "start_time": "2023-01-21T10:32:24.165Z"
   },
   {
    "duration": 0,
    "start_time": "2023-01-21T10:32:24.167Z"
   },
   {
    "duration": 0,
    "start_time": "2023-01-21T10:32:24.185Z"
   },
   {
    "duration": 0,
    "start_time": "2023-01-21T10:32:24.187Z"
   },
   {
    "duration": 0,
    "start_time": "2023-01-21T10:32:24.188Z"
   },
   {
    "duration": 0,
    "start_time": "2023-01-21T10:32:24.190Z"
   },
   {
    "duration": 0,
    "start_time": "2023-01-21T10:32:24.191Z"
   },
   {
    "duration": 0,
    "start_time": "2023-01-21T10:32:24.193Z"
   },
   {
    "duration": 0,
    "start_time": "2023-01-21T10:32:24.194Z"
   },
   {
    "duration": 0,
    "start_time": "2023-01-21T10:32:24.195Z"
   },
   {
    "duration": 12,
    "start_time": "2023-01-21T10:34:06.760Z"
   },
   {
    "duration": 3076,
    "start_time": "2023-01-21T10:34:13.509Z"
   },
   {
    "duration": 3,
    "start_time": "2023-01-21T10:34:16.588Z"
   },
   {
    "duration": 2883,
    "start_time": "2023-01-21T10:34:16.594Z"
   },
   {
    "duration": 4,
    "start_time": "2023-01-21T10:34:19.480Z"
   },
   {
    "duration": 10,
    "start_time": "2023-01-21T10:34:19.486Z"
   },
   {
    "duration": 7,
    "start_time": "2023-01-21T10:34:19.498Z"
   },
   {
    "duration": 9,
    "start_time": "2023-01-21T10:34:19.507Z"
   },
   {
    "duration": 12,
    "start_time": "2023-01-21T10:34:19.519Z"
   },
   {
    "duration": 28,
    "start_time": "2023-01-21T10:34:19.533Z"
   },
   {
    "duration": 73,
    "start_time": "2023-01-21T10:34:19.566Z"
   },
   {
    "duration": 15,
    "start_time": "2023-01-21T10:34:19.641Z"
   },
   {
    "duration": 19720,
    "start_time": "2023-01-21T10:34:19.658Z"
   },
   {
    "duration": 4,
    "start_time": "2023-01-21T10:34:39.380Z"
   },
   {
    "duration": 149,
    "start_time": "2023-01-21T10:34:39.387Z"
   },
   {
    "duration": 11,
    "start_time": "2023-01-21T10:34:39.538Z"
   },
   {
    "duration": 36,
    "start_time": "2023-01-21T10:34:39.552Z"
   },
   {
    "duration": 135,
    "start_time": "2023-01-21T10:34:39.591Z"
   },
   {
    "duration": 87,
    "start_time": "2023-01-21T10:34:39.729Z"
   },
   {
    "duration": 42,
    "start_time": "2023-01-21T10:34:39.819Z"
   },
   {
    "duration": 72,
    "start_time": "2023-01-21T10:34:39.865Z"
   },
   {
    "duration": 1539,
    "start_time": "2023-01-21T10:34:39.939Z"
   },
   {
    "duration": 20,
    "start_time": "2023-01-21T10:34:41.480Z"
   },
   {
    "duration": 46,
    "start_time": "2023-01-21T10:34:41.504Z"
   },
   {
    "duration": 183,
    "start_time": "2023-01-21T10:34:41.553Z"
   },
   {
    "duration": 8,
    "start_time": "2023-01-21T10:34:41.739Z"
   },
   {
    "duration": 36,
    "start_time": "2023-01-21T10:34:41.750Z"
   },
   {
    "duration": 9,
    "start_time": "2023-01-21T10:34:41.788Z"
   },
   {
    "duration": 49,
    "start_time": "2023-01-21T10:34:41.804Z"
   },
   {
    "duration": 31,
    "start_time": "2023-01-21T10:34:41.856Z"
   },
   {
    "duration": 16,
    "start_time": "2023-01-21T10:34:41.889Z"
   },
   {
    "duration": 15,
    "start_time": "2023-01-21T10:34:41.908Z"
   },
   {
    "duration": 16,
    "start_time": "2023-01-21T10:34:41.926Z"
   },
   {
    "duration": 16,
    "start_time": "2023-01-21T10:34:41.944Z"
   },
   {
    "duration": 226,
    "start_time": "2023-01-21T10:34:41.963Z"
   },
   {
    "duration": 222,
    "start_time": "2023-01-21T10:34:42.191Z"
   },
   {
    "duration": 17,
    "start_time": "2023-01-21T10:34:42.417Z"
   },
   {
    "duration": 20,
    "start_time": "2023-01-21T10:34:42.438Z"
   },
   {
    "duration": 22,
    "start_time": "2023-01-21T10:34:42.463Z"
   },
   {
    "duration": 159,
    "start_time": "2023-01-21T10:34:42.489Z"
   },
   {
    "duration": 521,
    "start_time": "2023-01-21T10:34:42.650Z"
   },
   {
    "duration": 20,
    "start_time": "2023-01-21T10:34:43.174Z"
   },
   {
    "duration": 24,
    "start_time": "2023-01-21T10:34:43.197Z"
   },
   {
    "duration": 25,
    "start_time": "2023-01-21T10:34:43.223Z"
   },
   {
    "duration": 36,
    "start_time": "2023-01-21T10:34:43.251Z"
   },
   {
    "duration": 28,
    "start_time": "2023-01-21T10:34:43.290Z"
   },
   {
    "duration": 23,
    "start_time": "2023-01-21T10:34:43.321Z"
   },
   {
    "duration": 43,
    "start_time": "2023-01-21T10:34:43.347Z"
   },
   {
    "duration": 26,
    "start_time": "2023-01-21T10:34:43.393Z"
   },
   {
    "duration": 148,
    "start_time": "2023-01-21T10:34:43.421Z"
   },
   {
    "duration": 20,
    "start_time": "2023-01-21T10:34:43.572Z"
   },
   {
    "duration": 18,
    "start_time": "2023-01-21T10:34:43.595Z"
   },
   {
    "duration": 14,
    "start_time": "2023-01-21T10:34:43.616Z"
   },
   {
    "duration": 24,
    "start_time": "2023-01-21T10:34:43.633Z"
   },
   {
    "duration": 136,
    "start_time": "2023-01-21T10:34:43.660Z"
   },
   {
    "duration": 16,
    "start_time": "2023-01-21T10:34:43.798Z"
   },
   {
    "duration": 29,
    "start_time": "2023-01-21T10:34:43.816Z"
   },
   {
    "duration": 42,
    "start_time": "2023-01-21T10:34:43.847Z"
   },
   {
    "duration": 52,
    "start_time": "2023-01-21T10:34:43.892Z"
   },
   {
    "duration": 49,
    "start_time": "2023-01-21T10:34:43.946Z"
   },
   {
    "duration": 37,
    "start_time": "2023-01-21T10:34:43.998Z"
   },
   {
    "duration": 29,
    "start_time": "2023-01-21T10:34:44.037Z"
   },
   {
    "duration": 44,
    "start_time": "2023-01-21T10:34:44.069Z"
   },
   {
    "duration": 39,
    "start_time": "2023-01-21T10:34:44.116Z"
   },
   {
    "duration": 174,
    "start_time": "2023-01-21T10:34:44.158Z"
   },
   {
    "duration": 1591,
    "start_time": "2023-01-21T11:08:36.486Z"
   },
   {
    "duration": 3,
    "start_time": "2023-01-21T11:08:38.079Z"
   },
   {
    "duration": 3147,
    "start_time": "2023-01-21T11:08:38.088Z"
   },
   {
    "duration": 3,
    "start_time": "2023-01-21T11:08:41.238Z"
   },
   {
    "duration": 14,
    "start_time": "2023-01-21T11:08:41.242Z"
   },
   {
    "duration": 8,
    "start_time": "2023-01-21T11:08:41.257Z"
   },
   {
    "duration": 6,
    "start_time": "2023-01-21T11:08:41.266Z"
   },
   {
    "duration": 37,
    "start_time": "2023-01-21T11:08:41.274Z"
   },
   {
    "duration": 48,
    "start_time": "2023-01-21T11:08:41.314Z"
   },
   {
    "duration": 51,
    "start_time": "2023-01-21T11:08:41.365Z"
   },
   {
    "duration": 31,
    "start_time": "2023-01-21T11:08:41.418Z"
   },
   {
    "duration": 20522,
    "start_time": "2023-01-21T11:08:41.451Z"
   },
   {
    "duration": 12,
    "start_time": "2023-01-21T11:09:01.975Z"
   },
   {
    "duration": 62,
    "start_time": "2023-01-21T11:09:01.990Z"
   },
   {
    "duration": 27,
    "start_time": "2023-01-21T11:09:02.054Z"
   },
   {
    "duration": 60,
    "start_time": "2023-01-21T11:09:02.082Z"
   },
   {
    "duration": 35,
    "start_time": "2023-01-21T11:09:02.144Z"
   },
   {
    "duration": 2087,
    "start_time": "2023-01-21T11:09:02.181Z"
   },
   {
    "duration": 4,
    "start_time": "2023-01-21T11:09:04.270Z"
   },
   {
    "duration": 132,
    "start_time": "2023-01-21T11:09:04.277Z"
   },
   {
    "duration": 20,
    "start_time": "2023-01-21T11:09:04.411Z"
   },
   {
    "duration": 59,
    "start_time": "2023-01-21T11:09:04.433Z"
   },
   {
    "duration": 168,
    "start_time": "2023-01-21T11:09:04.495Z"
   },
   {
    "duration": 7,
    "start_time": "2023-01-21T11:09:04.665Z"
   },
   {
    "duration": 34,
    "start_time": "2023-01-21T11:09:04.686Z"
   },
   {
    "duration": 15,
    "start_time": "2023-01-21T11:09:04.723Z"
   },
   {
    "duration": 33,
    "start_time": "2023-01-21T11:09:04.740Z"
   },
   {
    "duration": 39,
    "start_time": "2023-01-21T11:09:04.778Z"
   },
   {
    "duration": 28,
    "start_time": "2023-01-21T11:09:04.819Z"
   },
   {
    "duration": 16,
    "start_time": "2023-01-21T11:09:04.849Z"
   },
   {
    "duration": 53,
    "start_time": "2023-01-21T11:09:04.867Z"
   },
   {
    "duration": 40,
    "start_time": "2023-01-21T11:09:04.922Z"
   },
   {
    "duration": 197,
    "start_time": "2023-01-21T11:09:04.964Z"
   },
   {
    "duration": 180,
    "start_time": "2023-01-21T11:09:05.163Z"
   },
   {
    "duration": 12,
    "start_time": "2023-01-21T11:09:05.346Z"
   },
   {
    "duration": 69,
    "start_time": "2023-01-21T11:09:05.360Z"
   },
   {
    "duration": 20,
    "start_time": "2023-01-21T11:09:05.431Z"
   },
   {
    "duration": 182,
    "start_time": "2023-01-21T11:09:05.453Z"
   },
   {
    "duration": 517,
    "start_time": "2023-01-21T11:09:05.638Z"
   },
   {
    "duration": 13,
    "start_time": "2023-01-21T11:09:06.157Z"
   },
   {
    "duration": 66,
    "start_time": "2023-01-21T11:09:06.172Z"
   },
   {
    "duration": 36,
    "start_time": "2023-01-21T11:09:06.242Z"
   },
   {
    "duration": 37,
    "start_time": "2023-01-21T11:09:06.282Z"
   },
   {
    "duration": 40,
    "start_time": "2023-01-21T11:09:06.322Z"
   },
   {
    "duration": 13,
    "start_time": "2023-01-21T11:09:06.364Z"
   },
   {
    "duration": 43,
    "start_time": "2023-01-21T11:09:06.379Z"
   },
   {
    "duration": 33,
    "start_time": "2023-01-21T11:09:06.424Z"
   },
   {
    "duration": 110,
    "start_time": "2023-01-21T11:09:06.459Z"
   },
   {
    "duration": 68,
    "start_time": "2023-01-21T11:09:06.572Z"
   },
   {
    "duration": 19,
    "start_time": "2023-01-21T11:09:06.642Z"
   },
   {
    "duration": 52,
    "start_time": "2023-01-21T11:09:06.662Z"
   },
   {
    "duration": 41,
    "start_time": "2023-01-21T11:09:06.716Z"
   },
   {
    "duration": 153,
    "start_time": "2023-01-21T11:09:06.759Z"
   },
   {
    "duration": 12,
    "start_time": "2023-01-21T11:09:06.914Z"
   },
   {
    "duration": 13,
    "start_time": "2023-01-21T11:09:06.928Z"
   },
   {
    "duration": 14,
    "start_time": "2023-01-21T11:09:06.943Z"
   },
   {
    "duration": 31,
    "start_time": "2023-01-21T11:09:06.959Z"
   },
   {
    "duration": 41,
    "start_time": "2023-01-21T11:09:06.992Z"
   },
   {
    "duration": 16,
    "start_time": "2023-01-21T11:09:07.035Z"
   },
   {
    "duration": 27,
    "start_time": "2023-01-21T11:09:07.053Z"
   },
   {
    "duration": 56,
    "start_time": "2023-01-21T11:09:07.081Z"
   },
   {
    "duration": 22,
    "start_time": "2023-01-21T11:09:07.139Z"
   },
   {
    "duration": 175,
    "start_time": "2023-01-21T11:09:07.163Z"
   },
   {
    "duration": 1636,
    "start_time": "2023-01-21T11:17:38.855Z"
   },
   {
    "duration": 7,
    "start_time": "2023-01-21T11:17:40.501Z"
   },
   {
    "duration": 2819,
    "start_time": "2023-01-21T11:17:40.511Z"
   },
   {
    "duration": 3,
    "start_time": "2023-01-21T11:17:43.334Z"
   },
   {
    "duration": 34,
    "start_time": "2023-01-21T11:17:43.339Z"
   },
   {
    "duration": 71,
    "start_time": "2023-01-21T11:17:43.375Z"
   },
   {
    "duration": 22,
    "start_time": "2023-01-21T11:17:43.449Z"
   },
   {
    "duration": 58,
    "start_time": "2023-01-21T11:17:43.473Z"
   },
   {
    "duration": 36,
    "start_time": "2023-01-21T11:17:43.533Z"
   },
   {
    "duration": 34,
    "start_time": "2023-01-21T11:17:43.572Z"
   },
   {
    "duration": 67,
    "start_time": "2023-01-21T11:17:43.608Z"
   },
   {
    "duration": 21542,
    "start_time": "2023-01-21T11:17:43.677Z"
   },
   {
    "duration": 14,
    "start_time": "2023-01-21T11:18:05.232Z"
   },
   {
    "duration": 15,
    "start_time": "2023-01-21T11:18:05.248Z"
   },
   {
    "duration": 4,
    "start_time": "2023-01-21T11:18:05.265Z"
   },
   {
    "duration": 79,
    "start_time": "2023-01-21T11:18:05.271Z"
   },
   {
    "duration": 36,
    "start_time": "2023-01-21T11:18:05.352Z"
   },
   {
    "duration": 8,
    "start_time": "2023-01-21T11:18:05.392Z"
   },
   {
    "duration": 25,
    "start_time": "2023-01-21T11:18:05.403Z"
   },
   {
    "duration": 1573,
    "start_time": "2023-01-21T11:18:05.430Z"
   },
   {
    "duration": 28,
    "start_time": "2023-01-21T11:18:07.005Z"
   },
   {
    "duration": 57,
    "start_time": "2023-01-21T11:18:07.038Z"
   },
   {
    "duration": 166,
    "start_time": "2023-01-21T11:18:07.098Z"
   },
   {
    "duration": 19,
    "start_time": "2023-01-21T11:18:07.266Z"
   },
   {
    "duration": 75,
    "start_time": "2023-01-21T11:18:07.287Z"
   },
   {
    "duration": 14,
    "start_time": "2023-01-21T11:18:07.364Z"
   },
   {
    "duration": 73,
    "start_time": "2023-01-21T11:18:07.380Z"
   },
   {
    "duration": 12,
    "start_time": "2023-01-21T11:18:07.461Z"
   },
   {
    "duration": 47,
    "start_time": "2023-01-21T11:18:07.476Z"
   },
   {
    "duration": 34,
    "start_time": "2023-01-21T11:18:07.525Z"
   },
   {
    "duration": 18,
    "start_time": "2023-01-21T11:18:07.562Z"
   },
   {
    "duration": 64,
    "start_time": "2023-01-21T11:18:07.582Z"
   },
   {
    "duration": 181,
    "start_time": "2023-01-21T11:18:07.649Z"
   },
   {
    "duration": 199,
    "start_time": "2023-01-21T11:18:07.832Z"
   },
   {
    "duration": 13,
    "start_time": "2023-01-21T11:18:08.033Z"
   },
   {
    "duration": 10,
    "start_time": "2023-01-21T11:18:08.048Z"
   },
   {
    "duration": 42,
    "start_time": "2023-01-21T11:18:08.059Z"
   },
   {
    "duration": 189,
    "start_time": "2023-01-21T11:18:08.103Z"
   },
   {
    "duration": 517,
    "start_time": "2023-01-21T11:18:08.300Z"
   },
   {
    "duration": 13,
    "start_time": "2023-01-21T11:18:08.824Z"
   },
   {
    "duration": 17,
    "start_time": "2023-01-21T11:18:08.838Z"
   },
   {
    "duration": 51,
    "start_time": "2023-01-21T11:18:08.857Z"
   },
   {
    "duration": 21,
    "start_time": "2023-01-21T11:18:08.910Z"
   },
   {
    "duration": 17,
    "start_time": "2023-01-21T11:18:08.934Z"
   },
   {
    "duration": 42,
    "start_time": "2023-01-21T11:18:08.954Z"
   },
   {
    "duration": 17,
    "start_time": "2023-01-21T11:18:08.999Z"
   },
   {
    "duration": 33,
    "start_time": "2023-01-21T11:18:09.019Z"
   },
   {
    "duration": 111,
    "start_time": "2023-01-21T11:18:09.054Z"
   },
   {
    "duration": 11,
    "start_time": "2023-01-21T11:18:09.166Z"
   },
   {
    "duration": 52,
    "start_time": "2023-01-21T11:18:09.179Z"
   },
   {
    "duration": 7,
    "start_time": "2023-01-21T11:18:09.233Z"
   },
   {
    "duration": 11,
    "start_time": "2023-01-21T11:18:09.242Z"
   },
   {
    "duration": 119,
    "start_time": "2023-01-21T11:18:09.255Z"
   },
   {
    "duration": 29,
    "start_time": "2023-01-21T11:18:09.376Z"
   },
   {
    "duration": 37,
    "start_time": "2023-01-21T11:18:09.407Z"
   },
   {
    "duration": 8,
    "start_time": "2023-01-21T11:18:09.446Z"
   },
   {
    "duration": 11,
    "start_time": "2023-01-21T11:18:09.456Z"
   },
   {
    "duration": 17,
    "start_time": "2023-01-21T11:18:09.469Z"
   },
   {
    "duration": 24,
    "start_time": "2023-01-21T11:18:09.490Z"
   },
   {
    "duration": 21,
    "start_time": "2023-01-21T11:18:09.519Z"
   },
   {
    "duration": 9,
    "start_time": "2023-01-21T11:18:09.542Z"
   },
   {
    "duration": 11,
    "start_time": "2023-01-21T11:18:09.553Z"
   },
   {
    "duration": 209,
    "start_time": "2023-01-21T11:18:09.585Z"
   },
   {
    "duration": 22,
    "start_time": "2023-01-21T11:27:46.127Z"
   },
   {
    "duration": 1867,
    "start_time": "2023-01-21T11:28:39.982Z"
   },
   {
    "duration": 19,
    "start_time": "2023-01-21T11:29:02.183Z"
   },
   {
    "duration": 85,
    "start_time": "2023-01-21T11:29:08.350Z"
   },
   {
    "duration": 1429,
    "start_time": "2023-01-21T11:48:37.529Z"
   },
   {
    "duration": 4,
    "start_time": "2023-01-21T11:48:38.960Z"
   },
   {
    "duration": 2387,
    "start_time": "2023-01-21T11:48:38.965Z"
   },
   {
    "duration": 4,
    "start_time": "2023-01-21T11:48:41.354Z"
   },
   {
    "duration": 18,
    "start_time": "2023-01-21T11:48:41.359Z"
   },
   {
    "duration": 9,
    "start_time": "2023-01-21T11:48:41.379Z"
   },
   {
    "duration": 15,
    "start_time": "2023-01-21T11:48:41.390Z"
   },
   {
    "duration": 12,
    "start_time": "2023-01-21T11:48:41.408Z"
   },
   {
    "duration": 24,
    "start_time": "2023-01-21T11:48:41.422Z"
   },
   {
    "duration": 15,
    "start_time": "2023-01-21T11:48:41.450Z"
   },
   {
    "duration": 13,
    "start_time": "2023-01-21T11:48:41.467Z"
   },
   {
    "duration": 18612,
    "start_time": "2023-01-21T11:48:41.483Z"
   },
   {
    "duration": 9,
    "start_time": "2023-01-21T11:49:00.098Z"
   },
   {
    "duration": 23,
    "start_time": "2023-01-21T11:49:00.110Z"
   },
   {
    "duration": 19,
    "start_time": "2023-01-21T11:49:00.136Z"
   },
   {
    "duration": 13,
    "start_time": "2023-01-21T11:49:00.157Z"
   },
   {
    "duration": 88,
    "start_time": "2023-01-21T11:49:00.173Z"
   },
   {
    "duration": 33,
    "start_time": "2023-01-21T11:49:00.264Z"
   },
   {
    "duration": 27,
    "start_time": "2023-01-21T11:49:00.299Z"
   },
   {
    "duration": 26,
    "start_time": "2023-01-21T11:49:00.329Z"
   },
   {
    "duration": 1768,
    "start_time": "2023-01-21T11:49:00.358Z"
   },
   {
    "duration": 16,
    "start_time": "2023-01-21T11:49:02.129Z"
   },
   {
    "duration": 53,
    "start_time": "2023-01-21T11:49:02.147Z"
   },
   {
    "duration": 147,
    "start_time": "2023-01-21T11:49:02.202Z"
   },
   {
    "duration": 0,
    "start_time": "2023-01-21T11:49:02.353Z"
   },
   {
    "duration": 0,
    "start_time": "2023-01-21T11:49:02.354Z"
   },
   {
    "duration": 0,
    "start_time": "2023-01-21T11:49:02.356Z"
   },
   {
    "duration": 0,
    "start_time": "2023-01-21T11:49:02.358Z"
   },
   {
    "duration": 0,
    "start_time": "2023-01-21T11:49:02.360Z"
   },
   {
    "duration": 0,
    "start_time": "2023-01-21T11:49:02.362Z"
   },
   {
    "duration": 0,
    "start_time": "2023-01-21T11:49:02.363Z"
   },
   {
    "duration": 0,
    "start_time": "2023-01-21T11:49:02.385Z"
   },
   {
    "duration": 0,
    "start_time": "2023-01-21T11:49:02.387Z"
   },
   {
    "duration": 0,
    "start_time": "2023-01-21T11:49:02.388Z"
   },
   {
    "duration": 0,
    "start_time": "2023-01-21T11:49:02.390Z"
   },
   {
    "duration": 0,
    "start_time": "2023-01-21T11:49:02.391Z"
   },
   {
    "duration": 0,
    "start_time": "2023-01-21T11:49:02.392Z"
   },
   {
    "duration": 0,
    "start_time": "2023-01-21T11:49:02.394Z"
   },
   {
    "duration": 0,
    "start_time": "2023-01-21T11:49:02.396Z"
   },
   {
    "duration": 0,
    "start_time": "2023-01-21T11:49:02.397Z"
   },
   {
    "duration": 0,
    "start_time": "2023-01-21T11:49:02.399Z"
   },
   {
    "duration": 0,
    "start_time": "2023-01-21T11:49:02.401Z"
   },
   {
    "duration": 0,
    "start_time": "2023-01-21T11:49:02.402Z"
   },
   {
    "duration": 0,
    "start_time": "2023-01-21T11:49:02.404Z"
   },
   {
    "duration": 0,
    "start_time": "2023-01-21T11:49:02.406Z"
   },
   {
    "duration": 0,
    "start_time": "2023-01-21T11:49:02.407Z"
   },
   {
    "duration": 0,
    "start_time": "2023-01-21T11:49:02.410Z"
   },
   {
    "duration": 0,
    "start_time": "2023-01-21T11:49:02.411Z"
   },
   {
    "duration": 0,
    "start_time": "2023-01-21T11:49:02.415Z"
   },
   {
    "duration": 0,
    "start_time": "2023-01-21T11:49:02.417Z"
   },
   {
    "duration": 0,
    "start_time": "2023-01-21T11:49:02.419Z"
   },
   {
    "duration": 0,
    "start_time": "2023-01-21T11:49:02.420Z"
   },
   {
    "duration": 0,
    "start_time": "2023-01-21T11:49:02.422Z"
   },
   {
    "duration": 0,
    "start_time": "2023-01-21T11:49:02.424Z"
   },
   {
    "duration": 0,
    "start_time": "2023-01-21T11:49:02.426Z"
   },
   {
    "duration": 0,
    "start_time": "2023-01-21T11:49:02.485Z"
   },
   {
    "duration": 0,
    "start_time": "2023-01-21T11:49:02.487Z"
   },
   {
    "duration": 0,
    "start_time": "2023-01-21T11:49:02.489Z"
   },
   {
    "duration": 0,
    "start_time": "2023-01-21T11:49:02.490Z"
   },
   {
    "duration": 0,
    "start_time": "2023-01-21T11:49:02.491Z"
   },
   {
    "duration": 0,
    "start_time": "2023-01-21T11:49:02.493Z"
   },
   {
    "duration": 0,
    "start_time": "2023-01-21T11:49:02.494Z"
   },
   {
    "duration": 0,
    "start_time": "2023-01-21T11:49:02.496Z"
   },
   {
    "duration": 0,
    "start_time": "2023-01-21T11:49:02.497Z"
   },
   {
    "duration": 1769,
    "start_time": "2023-01-21T11:57:41.204Z"
   },
   {
    "duration": 3,
    "start_time": "2023-01-21T11:57:42.976Z"
   },
   {
    "duration": 2274,
    "start_time": "2023-01-21T11:57:42.982Z"
   },
   {
    "duration": 3,
    "start_time": "2023-01-21T11:57:45.258Z"
   },
   {
    "duration": 11,
    "start_time": "2023-01-21T11:57:45.263Z"
   },
   {
    "duration": 39,
    "start_time": "2023-01-21T11:57:45.276Z"
   },
   {
    "duration": 8,
    "start_time": "2023-01-21T11:57:45.319Z"
   },
   {
    "duration": 8,
    "start_time": "2023-01-21T11:57:45.329Z"
   },
   {
    "duration": 15,
    "start_time": "2023-01-21T11:57:45.339Z"
   },
   {
    "duration": 14,
    "start_time": "2023-01-21T11:57:45.356Z"
   },
   {
    "duration": 7,
    "start_time": "2023-01-21T11:57:45.372Z"
   },
   {
    "duration": 21762,
    "start_time": "2023-01-21T11:57:45.381Z"
   },
   {
    "duration": 8,
    "start_time": "2023-01-21T11:58:07.145Z"
   },
   {
    "duration": 27,
    "start_time": "2023-01-21T11:58:07.157Z"
   },
   {
    "duration": 13,
    "start_time": "2023-01-21T11:58:07.196Z"
   },
   {
    "duration": 31,
    "start_time": "2023-01-21T11:58:07.212Z"
   },
   {
    "duration": 109,
    "start_time": "2023-01-21T11:58:07.246Z"
   },
   {
    "duration": 20,
    "start_time": "2023-01-21T11:58:07.357Z"
   },
   {
    "duration": 56,
    "start_time": "2023-01-21T11:58:07.389Z"
   },
   {
    "duration": 7,
    "start_time": "2023-01-21T11:58:07.447Z"
   },
   {
    "duration": 1608,
    "start_time": "2023-01-21T11:58:07.456Z"
   },
   {
    "duration": 15,
    "start_time": "2023-01-21T11:58:09.066Z"
   },
   {
    "duration": 66,
    "start_time": "2023-01-21T11:58:09.083Z"
   },
   {
    "duration": 182,
    "start_time": "2023-01-21T11:58:09.152Z"
   },
   {
    "duration": 7,
    "start_time": "2023-01-21T11:58:09.336Z"
   },
   {
    "duration": 14,
    "start_time": "2023-01-21T11:58:09.346Z"
   },
   {
    "duration": 8,
    "start_time": "2023-01-21T11:58:09.361Z"
   },
   {
    "duration": 159,
    "start_time": "2023-01-21T11:58:09.391Z"
   },
   {
    "duration": 0,
    "start_time": "2023-01-21T11:58:09.553Z"
   },
   {
    "duration": 0,
    "start_time": "2023-01-21T11:58:09.555Z"
   },
   {
    "duration": 0,
    "start_time": "2023-01-21T11:58:09.557Z"
   },
   {
    "duration": 0,
    "start_time": "2023-01-21T11:58:09.559Z"
   },
   {
    "duration": 0,
    "start_time": "2023-01-21T11:58:09.560Z"
   },
   {
    "duration": 0,
    "start_time": "2023-01-21T11:58:09.561Z"
   },
   {
    "duration": 0,
    "start_time": "2023-01-21T11:58:09.563Z"
   },
   {
    "duration": 0,
    "start_time": "2023-01-21T11:58:09.565Z"
   },
   {
    "duration": 0,
    "start_time": "2023-01-21T11:58:09.567Z"
   },
   {
    "duration": 0,
    "start_time": "2023-01-21T11:58:09.570Z"
   },
   {
    "duration": 0,
    "start_time": "2023-01-21T11:58:09.586Z"
   },
   {
    "duration": 0,
    "start_time": "2023-01-21T11:58:09.587Z"
   },
   {
    "duration": 0,
    "start_time": "2023-01-21T11:58:09.588Z"
   },
   {
    "duration": 0,
    "start_time": "2023-01-21T11:58:09.590Z"
   },
   {
    "duration": 0,
    "start_time": "2023-01-21T11:58:09.591Z"
   },
   {
    "duration": 0,
    "start_time": "2023-01-21T11:58:09.592Z"
   },
   {
    "duration": 0,
    "start_time": "2023-01-21T11:58:09.595Z"
   },
   {
    "duration": 0,
    "start_time": "2023-01-21T11:58:09.596Z"
   },
   {
    "duration": 0,
    "start_time": "2023-01-21T11:58:09.597Z"
   },
   {
    "duration": 0,
    "start_time": "2023-01-21T11:58:09.601Z"
   },
   {
    "duration": 0,
    "start_time": "2023-01-21T11:58:09.602Z"
   },
   {
    "duration": 0,
    "start_time": "2023-01-21T11:58:09.608Z"
   },
   {
    "duration": 0,
    "start_time": "2023-01-21T11:58:09.609Z"
   },
   {
    "duration": 0,
    "start_time": "2023-01-21T11:58:09.610Z"
   },
   {
    "duration": 0,
    "start_time": "2023-01-21T11:58:09.612Z"
   },
   {
    "duration": 0,
    "start_time": "2023-01-21T11:58:09.613Z"
   },
   {
    "duration": 0,
    "start_time": "2023-01-21T11:58:09.614Z"
   },
   {
    "duration": 0,
    "start_time": "2023-01-21T11:58:09.615Z"
   },
   {
    "duration": 0,
    "start_time": "2023-01-21T11:58:09.619Z"
   },
   {
    "duration": 0,
    "start_time": "2023-01-21T11:58:09.621Z"
   },
   {
    "duration": 0,
    "start_time": "2023-01-21T11:58:09.622Z"
   },
   {
    "duration": 0,
    "start_time": "2023-01-21T11:58:09.624Z"
   },
   {
    "duration": 0,
    "start_time": "2023-01-21T11:58:09.625Z"
   },
   {
    "duration": 0,
    "start_time": "2023-01-21T11:58:09.627Z"
   },
   {
    "duration": 0,
    "start_time": "2023-01-21T11:58:09.629Z"
   },
   {
    "duration": 0,
    "start_time": "2023-01-21T11:58:09.631Z"
   },
   {
    "duration": 1835,
    "start_time": "2023-01-21T12:01:00.227Z"
   },
   {
    "duration": 19,
    "start_time": "2023-01-21T12:01:32.018Z"
   },
   {
    "duration": 14,
    "start_time": "2023-01-21T12:01:49.427Z"
   },
   {
    "duration": 61,
    "start_time": "2023-01-21T12:01:59.627Z"
   },
   {
    "duration": 92,
    "start_time": "2023-01-21T12:03:07.012Z"
   },
   {
    "duration": 1920,
    "start_time": "2023-01-21T12:03:22.834Z"
   },
   {
    "duration": 6,
    "start_time": "2023-01-21T12:03:24.757Z"
   },
   {
    "duration": 2946,
    "start_time": "2023-01-21T12:03:24.766Z"
   },
   {
    "duration": 3,
    "start_time": "2023-01-21T12:03:27.716Z"
   },
   {
    "duration": 22,
    "start_time": "2023-01-21T12:03:27.722Z"
   },
   {
    "duration": 15,
    "start_time": "2023-01-21T12:03:27.749Z"
   },
   {
    "duration": 100,
    "start_time": "2023-01-21T12:03:27.767Z"
   },
   {
    "duration": 31,
    "start_time": "2023-01-21T12:03:27.870Z"
   },
   {
    "duration": 65,
    "start_time": "2023-01-21T12:03:27.909Z"
   },
   {
    "duration": 44,
    "start_time": "2023-01-21T12:03:27.978Z"
   },
   {
    "duration": 16,
    "start_time": "2023-01-21T12:03:28.031Z"
   },
   {
    "duration": 29655,
    "start_time": "2023-01-21T12:03:28.051Z"
   },
   {
    "duration": 11,
    "start_time": "2023-01-21T12:03:57.708Z"
   },
   {
    "duration": 53,
    "start_time": "2023-01-21T12:03:57.722Z"
   },
   {
    "duration": 33,
    "start_time": "2023-01-21T12:03:57.778Z"
   },
   {
    "duration": 32,
    "start_time": "2023-01-21T12:03:57.817Z"
   },
   {
    "duration": 99,
    "start_time": "2023-01-21T12:03:57.851Z"
   },
   {
    "duration": 15,
    "start_time": "2023-01-21T12:03:57.955Z"
   },
   {
    "duration": 53,
    "start_time": "2023-01-21T12:03:57.975Z"
   },
   {
    "duration": 12,
    "start_time": "2023-01-21T12:03:58.037Z"
   },
   {
    "duration": 3387,
    "start_time": "2023-01-21T12:03:58.055Z"
   },
   {
    "duration": 36,
    "start_time": "2023-01-21T12:04:01.446Z"
   },
   {
    "duration": 201,
    "start_time": "2023-01-21T12:04:01.492Z"
   },
   {
    "duration": 267,
    "start_time": "2023-01-21T12:04:01.697Z"
   },
   {
    "duration": 9,
    "start_time": "2023-01-21T12:04:01.966Z"
   },
   {
    "duration": 95,
    "start_time": "2023-01-21T12:04:01.978Z"
   },
   {
    "duration": 85,
    "start_time": "2023-01-21T12:04:02.077Z"
   },
   {
    "duration": 219,
    "start_time": "2023-01-21T12:04:02.168Z"
   },
   {
    "duration": 35,
    "start_time": "2023-01-21T12:04:02.391Z"
   },
   {
    "duration": 39,
    "start_time": "2023-01-21T12:04:02.434Z"
   },
   {
    "duration": 74,
    "start_time": "2023-01-21T12:04:02.476Z"
   },
   {
    "duration": 22,
    "start_time": "2023-01-21T12:04:02.552Z"
   },
   {
    "duration": 17,
    "start_time": "2023-01-21T12:04:02.577Z"
   },
   {
    "duration": 281,
    "start_time": "2023-01-21T12:04:02.599Z"
   },
   {
    "duration": 212,
    "start_time": "2023-01-21T12:04:02.890Z"
   },
   {
    "duration": 14,
    "start_time": "2023-01-21T12:04:03.105Z"
   },
   {
    "duration": 38,
    "start_time": "2023-01-21T12:04:03.121Z"
   },
   {
    "duration": 20,
    "start_time": "2023-01-21T12:04:03.161Z"
   },
   {
    "duration": 270,
    "start_time": "2023-01-21T12:04:03.189Z"
   },
   {
    "duration": 670,
    "start_time": "2023-01-21T12:04:03.461Z"
   },
   {
    "duration": 34,
    "start_time": "2023-01-21T12:04:04.133Z"
   },
   {
    "duration": 98,
    "start_time": "2023-01-21T12:04:04.170Z"
   },
   {
    "duration": 41,
    "start_time": "2023-01-21T12:04:04.270Z"
   },
   {
    "duration": 54,
    "start_time": "2023-01-21T12:04:04.313Z"
   },
   {
    "duration": 24,
    "start_time": "2023-01-21T12:04:04.369Z"
   },
   {
    "duration": 114,
    "start_time": "2023-01-21T12:04:04.395Z"
   },
   {
    "duration": 66,
    "start_time": "2023-01-21T12:04:04.511Z"
   },
   {
    "duration": 90,
    "start_time": "2023-01-21T12:04:04.579Z"
   },
   {
    "duration": 133,
    "start_time": "2023-01-21T12:04:04.672Z"
   },
   {
    "duration": 68,
    "start_time": "2023-01-21T12:04:04.807Z"
   },
   {
    "duration": 81,
    "start_time": "2023-01-21T12:04:04.879Z"
   },
   {
    "duration": 51,
    "start_time": "2023-01-21T12:04:04.963Z"
   },
   {
    "duration": 56,
    "start_time": "2023-01-21T12:04:05.017Z"
   },
   {
    "duration": 244,
    "start_time": "2023-01-21T12:04:05.075Z"
   },
   {
    "duration": 17,
    "start_time": "2023-01-21T12:04:05.322Z"
   },
   {
    "duration": 38,
    "start_time": "2023-01-21T12:04:05.345Z"
   },
   {
    "duration": 28,
    "start_time": "2023-01-21T12:04:05.398Z"
   },
   {
    "duration": 45,
    "start_time": "2023-01-21T12:04:05.433Z"
   },
   {
    "duration": 69,
    "start_time": "2023-01-21T12:04:05.481Z"
   },
   {
    "duration": 27,
    "start_time": "2023-01-21T12:04:05.553Z"
   },
   {
    "duration": 84,
    "start_time": "2023-01-21T12:04:05.583Z"
   },
   {
    "duration": 74,
    "start_time": "2023-01-21T12:04:05.669Z"
   },
   {
    "duration": 13,
    "start_time": "2023-01-21T12:04:05.745Z"
   },
   {
    "duration": 226,
    "start_time": "2023-01-21T12:04:05.763Z"
   },
   {
    "duration": 27,
    "start_time": "2023-01-21T12:10:21.615Z"
   },
   {
    "duration": 11,
    "start_time": "2023-01-21T12:10:53.422Z"
   },
   {
    "duration": 16,
    "start_time": "2023-01-21T12:11:14.053Z"
   },
   {
    "duration": 13,
    "start_time": "2023-01-21T12:11:21.111Z"
   },
   {
    "duration": 14,
    "start_time": "2023-01-21T12:11:43.542Z"
   },
   {
    "duration": 86,
    "start_time": "2023-01-21T12:12:36.771Z"
   },
   {
    "duration": 13,
    "start_time": "2023-01-21T12:12:46.555Z"
   },
   {
    "duration": 204,
    "start_time": "2023-01-21T12:14:06.948Z"
   },
   {
    "duration": 16,
    "start_time": "2023-01-21T12:16:30.250Z"
   },
   {
    "duration": 20,
    "start_time": "2023-01-21T12:18:41.422Z"
   },
   {
    "duration": 226,
    "start_time": "2023-01-21T12:18:59.655Z"
   },
   {
    "duration": 214,
    "start_time": "2023-01-21T12:19:28.827Z"
   },
   {
    "duration": 76,
    "start_time": "2023-01-21T12:20:10.411Z"
   },
   {
    "duration": 182,
    "start_time": "2023-01-21T12:20:18.630Z"
   },
   {
    "duration": 24,
    "start_time": "2023-01-21T12:20:39.518Z"
   },
   {
    "duration": 4,
    "start_time": "2023-01-21T12:21:06.231Z"
   },
   {
    "duration": 20,
    "start_time": "2023-01-21T12:21:11.134Z"
   },
   {
    "duration": 167,
    "start_time": "2023-01-21T12:22:26.025Z"
   },
   {
    "duration": 224,
    "start_time": "2023-01-21T12:22:33.341Z"
   },
   {
    "duration": 18,
    "start_time": "2023-01-21T12:26:48.411Z"
   },
   {
    "duration": 158,
    "start_time": "2023-01-21T12:28:31.798Z"
   },
   {
    "duration": 212,
    "start_time": "2023-01-21T12:32:45.308Z"
   },
   {
    "duration": 216,
    "start_time": "2023-01-21T12:34:40.880Z"
   },
   {
    "duration": 186,
    "start_time": "2023-01-21T12:37:29.417Z"
   },
   {
    "duration": 41,
    "start_time": "2023-01-21T12:45:36.726Z"
   },
   {
    "duration": 719,
    "start_time": "2023-01-21T12:45:53.283Z"
   },
   {
    "duration": 555,
    "start_time": "2023-01-21T12:46:18.329Z"
   },
   {
    "duration": 147,
    "start_time": "2023-01-21T12:47:27.072Z"
   },
   {
    "duration": 548,
    "start_time": "2023-01-21T12:47:47.183Z"
   },
   {
    "duration": 30,
    "start_time": "2023-01-21T12:56:12.513Z"
   },
   {
    "duration": 1529,
    "start_time": "2023-01-21T12:57:05.184Z"
   },
   {
    "duration": 3,
    "start_time": "2023-01-21T12:57:06.716Z"
   },
   {
    "duration": 2448,
    "start_time": "2023-01-21T12:57:06.721Z"
   },
   {
    "duration": 4,
    "start_time": "2023-01-21T12:57:09.172Z"
   },
   {
    "duration": 41,
    "start_time": "2023-01-21T12:57:09.178Z"
   },
   {
    "duration": 5,
    "start_time": "2023-01-21T12:57:09.221Z"
   },
   {
    "duration": 6,
    "start_time": "2023-01-21T12:57:09.229Z"
   },
   {
    "duration": 6,
    "start_time": "2023-01-21T12:57:09.237Z"
   },
   {
    "duration": 16,
    "start_time": "2023-01-21T12:57:09.244Z"
   },
   {
    "duration": 6,
    "start_time": "2023-01-21T12:57:09.263Z"
   },
   {
    "duration": 6,
    "start_time": "2023-01-21T12:57:09.271Z"
   },
   {
    "duration": 20621,
    "start_time": "2023-01-21T12:57:09.279Z"
   },
   {
    "duration": 16,
    "start_time": "2023-01-21T12:57:29.904Z"
   },
   {
    "duration": 26,
    "start_time": "2023-01-21T12:57:29.922Z"
   },
   {
    "duration": 22,
    "start_time": "2023-01-21T12:57:29.950Z"
   },
   {
    "duration": 62,
    "start_time": "2023-01-21T12:57:29.975Z"
   },
   {
    "duration": 111,
    "start_time": "2023-01-21T12:57:30.040Z"
   },
   {
    "duration": 10,
    "start_time": "2023-01-21T12:57:30.153Z"
   },
   {
    "duration": 55,
    "start_time": "2023-01-21T12:57:30.165Z"
   },
   {
    "duration": 29,
    "start_time": "2023-01-21T12:57:30.222Z"
   },
   {
    "duration": 1751,
    "start_time": "2023-01-21T12:57:30.253Z"
   },
   {
    "duration": 21,
    "start_time": "2023-01-21T12:57:32.010Z"
   },
   {
    "duration": 76,
    "start_time": "2023-01-21T12:57:32.033Z"
   },
   {
    "duration": 198,
    "start_time": "2023-01-21T12:57:32.112Z"
   },
   {
    "duration": 7,
    "start_time": "2023-01-21T12:57:32.317Z"
   },
   {
    "duration": 47,
    "start_time": "2023-01-21T12:57:32.325Z"
   },
   {
    "duration": 49,
    "start_time": "2023-01-21T12:57:32.374Z"
   },
   {
    "duration": 94,
    "start_time": "2023-01-21T12:57:32.427Z"
   },
   {
    "duration": 13,
    "start_time": "2023-01-21T12:57:32.523Z"
   },
   {
    "duration": 28,
    "start_time": "2023-01-21T12:57:32.538Z"
   },
   {
    "duration": 81,
    "start_time": "2023-01-21T12:57:32.568Z"
   },
   {
    "duration": 72,
    "start_time": "2023-01-21T12:57:32.651Z"
   },
   {
    "duration": 9,
    "start_time": "2023-01-21T12:57:32.725Z"
   },
   {
    "duration": 190,
    "start_time": "2023-01-21T12:57:32.736Z"
   },
   {
    "duration": 7,
    "start_time": "2023-01-21T12:57:32.928Z"
   },
   {
    "duration": 180,
    "start_time": "2023-01-21T12:57:32.937Z"
   },
   {
    "duration": 180,
    "start_time": "2023-01-21T12:57:33.119Z"
   },
   {
    "duration": 17,
    "start_time": "2023-01-21T12:57:33.301Z"
   },
   {
    "duration": 161,
    "start_time": "2023-01-21T12:57:33.320Z"
   },
   {
    "duration": 606,
    "start_time": "2023-01-21T12:57:33.483Z"
   },
   {
    "duration": 28,
    "start_time": "2023-01-21T12:57:34.094Z"
   },
   {
    "duration": 13,
    "start_time": "2023-01-21T12:57:34.124Z"
   },
   {
    "duration": 14,
    "start_time": "2023-01-21T12:57:34.139Z"
   },
   {
    "duration": 43,
    "start_time": "2023-01-21T12:57:34.155Z"
   },
   {
    "duration": 21,
    "start_time": "2023-01-21T12:57:34.210Z"
   },
   {
    "duration": 9,
    "start_time": "2023-01-21T12:57:34.233Z"
   },
   {
    "duration": 9,
    "start_time": "2023-01-21T12:57:34.244Z"
   },
   {
    "duration": 10,
    "start_time": "2023-01-21T12:57:34.254Z"
   },
   {
    "duration": 25,
    "start_time": "2023-01-21T12:57:34.266Z"
   },
   {
    "duration": 73,
    "start_time": "2023-01-21T12:57:34.293Z"
   },
   {
    "duration": 157,
    "start_time": "2023-01-21T12:57:34.368Z"
   },
   {
    "duration": 11,
    "start_time": "2023-01-21T12:57:34.527Z"
   },
   {
    "duration": 14,
    "start_time": "2023-01-21T12:57:34.540Z"
   },
   {
    "duration": 9,
    "start_time": "2023-01-21T12:57:34.556Z"
   },
   {
    "duration": 29,
    "start_time": "2023-01-21T12:57:34.567Z"
   },
   {
    "duration": 31,
    "start_time": "2023-01-21T12:57:34.604Z"
   },
   {
    "duration": 13,
    "start_time": "2023-01-21T12:57:34.637Z"
   },
   {
    "duration": 13,
    "start_time": "2023-01-21T12:57:34.652Z"
   },
   {
    "duration": 28,
    "start_time": "2023-01-21T12:57:34.667Z"
   },
   {
    "duration": 16,
    "start_time": "2023-01-21T12:57:34.698Z"
   },
   {
    "duration": 156,
    "start_time": "2023-01-21T12:57:34.722Z"
   },
   {
    "duration": 17,
    "start_time": "2023-01-21T13:04:49.821Z"
   },
   {
    "duration": 15,
    "start_time": "2023-01-21T13:06:22.551Z"
   },
   {
    "duration": 19,
    "start_time": "2023-01-21T13:06:30.232Z"
   },
   {
    "duration": 24,
    "start_time": "2023-01-21T13:08:56.627Z"
   },
   {
    "duration": 12,
    "start_time": "2023-01-21T13:12:00.230Z"
   },
   {
    "duration": 21,
    "start_time": "2023-01-21T13:12:37.054Z"
   },
   {
    "duration": 12,
    "start_time": "2023-01-21T13:13:42.227Z"
   },
   {
    "duration": 13,
    "start_time": "2023-01-21T13:14:04.084Z"
   },
   {
    "duration": 31,
    "start_time": "2023-01-21T13:17:41.072Z"
   },
   {
    "duration": 29,
    "start_time": "2023-01-21T13:18:46.472Z"
   },
   {
    "duration": 32,
    "start_time": "2023-01-21T13:19:05.320Z"
   },
   {
    "duration": 11,
    "start_time": "2023-01-21T13:19:51.618Z"
   },
   {
    "duration": 10,
    "start_time": "2023-01-21T13:19:53.408Z"
   },
   {
    "duration": 10,
    "start_time": "2023-01-21T13:19:54.520Z"
   },
   {
    "duration": 1578,
    "start_time": "2023-01-21T13:26:46.104Z"
   },
   {
    "duration": 4,
    "start_time": "2023-01-21T13:26:47.686Z"
   },
   {
    "duration": 2619,
    "start_time": "2023-01-21T13:26:47.693Z"
   },
   {
    "duration": 3,
    "start_time": "2023-01-21T13:26:50.315Z"
   },
   {
    "duration": 21,
    "start_time": "2023-01-21T13:26:50.320Z"
   },
   {
    "duration": 15,
    "start_time": "2023-01-21T13:26:50.343Z"
   },
   {
    "duration": 7,
    "start_time": "2023-01-21T13:26:50.360Z"
   },
   {
    "duration": 10,
    "start_time": "2023-01-21T13:26:50.369Z"
   },
   {
    "duration": 39,
    "start_time": "2023-01-21T13:26:50.381Z"
   },
   {
    "duration": 9,
    "start_time": "2023-01-21T13:26:50.424Z"
   },
   {
    "duration": 6,
    "start_time": "2023-01-21T13:26:50.435Z"
   },
   {
    "duration": 20975,
    "start_time": "2023-01-21T13:26:50.444Z"
   },
   {
    "duration": 8,
    "start_time": "2023-01-21T13:27:11.421Z"
   },
   {
    "duration": 14,
    "start_time": "2023-01-21T13:27:11.432Z"
   },
   {
    "duration": 7,
    "start_time": "2023-01-21T13:27:11.448Z"
   },
   {
    "duration": 38,
    "start_time": "2023-01-21T13:27:11.458Z"
   },
   {
    "duration": 60,
    "start_time": "2023-01-21T13:27:11.502Z"
   },
   {
    "duration": 29,
    "start_time": "2023-01-21T13:27:11.564Z"
   },
   {
    "duration": 25,
    "start_time": "2023-01-21T13:27:11.596Z"
   },
   {
    "duration": 9,
    "start_time": "2023-01-21T13:27:11.623Z"
   },
   {
    "duration": 1639,
    "start_time": "2023-01-21T13:27:11.635Z"
   },
   {
    "duration": 29,
    "start_time": "2023-01-21T13:27:13.277Z"
   },
   {
    "duration": 35,
    "start_time": "2023-01-21T13:27:13.309Z"
   },
   {
    "duration": 177,
    "start_time": "2023-01-21T13:27:13.346Z"
   },
   {
    "duration": 6,
    "start_time": "2023-01-21T13:27:13.526Z"
   },
   {
    "duration": 17,
    "start_time": "2023-01-21T13:27:13.535Z"
   },
   {
    "duration": 6,
    "start_time": "2023-01-21T13:27:13.555Z"
   },
   {
    "duration": 81,
    "start_time": "2023-01-21T13:27:13.597Z"
   },
   {
    "duration": 22,
    "start_time": "2023-01-21T13:27:13.684Z"
   },
   {
    "duration": 9,
    "start_time": "2023-01-21T13:27:13.708Z"
   },
   {
    "duration": 11,
    "start_time": "2023-01-21T13:27:13.719Z"
   },
   {
    "duration": 14,
    "start_time": "2023-01-21T13:27:13.734Z"
   },
   {
    "duration": 40,
    "start_time": "2023-01-21T13:27:13.750Z"
   },
   {
    "duration": 178,
    "start_time": "2023-01-21T13:27:13.792Z"
   },
   {
    "duration": 16,
    "start_time": "2023-01-21T13:27:13.972Z"
   },
   {
    "duration": 176,
    "start_time": "2023-01-21T13:27:13.991Z"
   },
   {
    "duration": 179,
    "start_time": "2023-01-21T13:27:14.169Z"
   },
   {
    "duration": 8,
    "start_time": "2023-01-21T13:27:14.350Z"
   },
   {
    "duration": 185,
    "start_time": "2023-01-21T13:27:14.359Z"
   },
   {
    "duration": 612,
    "start_time": "2023-01-21T13:27:14.546Z"
   },
   {
    "duration": 36,
    "start_time": "2023-01-21T13:27:15.161Z"
   },
   {
    "duration": 24,
    "start_time": "2023-01-21T13:27:15.201Z"
   },
   {
    "duration": 24,
    "start_time": "2023-01-21T13:27:15.227Z"
   },
   {
    "duration": 47,
    "start_time": "2023-01-21T13:27:15.253Z"
   },
   {
    "duration": 49,
    "start_time": "2023-01-21T13:27:15.302Z"
   },
   {
    "duration": 26,
    "start_time": "2023-01-21T13:27:15.354Z"
   },
   {
    "duration": 37,
    "start_time": "2023-01-21T13:27:15.382Z"
   },
   {
    "duration": 47,
    "start_time": "2023-01-21T13:27:15.421Z"
   },
   {
    "duration": 12,
    "start_time": "2023-01-21T13:27:15.470Z"
   },
   {
    "duration": 28,
    "start_time": "2023-01-21T13:27:15.484Z"
   },
   {
    "duration": 14,
    "start_time": "2023-01-21T13:27:15.514Z"
   },
   {
    "duration": 15,
    "start_time": "2023-01-21T13:27:15.530Z"
   },
   {
    "duration": 21,
    "start_time": "2023-01-21T13:27:15.547Z"
   },
   {
    "duration": 41,
    "start_time": "2023-01-21T13:27:15.571Z"
   },
   {
    "duration": 30,
    "start_time": "2023-01-21T13:27:15.615Z"
   },
   {
    "duration": 166,
    "start_time": "2023-01-21T13:27:15.648Z"
   },
   {
    "duration": 14,
    "start_time": "2023-01-21T13:27:15.816Z"
   },
   {
    "duration": 14,
    "start_time": "2023-01-21T13:27:15.832Z"
   },
   {
    "duration": 17,
    "start_time": "2023-01-21T13:27:15.848Z"
   },
   {
    "duration": 25,
    "start_time": "2023-01-21T13:27:15.889Z"
   },
   {
    "duration": 15,
    "start_time": "2023-01-21T13:27:15.916Z"
   },
   {
    "duration": 15,
    "start_time": "2023-01-21T13:27:15.932Z"
   },
   {
    "duration": 24,
    "start_time": "2023-01-21T13:27:15.949Z"
   },
   {
    "duration": 28,
    "start_time": "2023-01-21T13:27:15.975Z"
   },
   {
    "duration": 18,
    "start_time": "2023-01-21T13:29:14.538Z"
   },
   {
    "duration": 23,
    "start_time": "2023-01-21T13:29:24.834Z"
   },
   {
    "duration": 14,
    "start_time": "2023-01-21T13:29:31.714Z"
   },
   {
    "duration": 12,
    "start_time": "2023-01-21T13:31:59.322Z"
   },
   {
    "duration": 1452,
    "start_time": "2023-01-21T13:33:51.301Z"
   },
   {
    "duration": 3,
    "start_time": "2023-01-21T13:33:52.756Z"
   },
   {
    "duration": 2767,
    "start_time": "2023-01-21T13:33:52.761Z"
   },
   {
    "duration": 3,
    "start_time": "2023-01-21T13:33:55.531Z"
   },
   {
    "duration": 36,
    "start_time": "2023-01-21T13:33:55.536Z"
   },
   {
    "duration": 24,
    "start_time": "2023-01-21T13:33:55.574Z"
   },
   {
    "duration": 41,
    "start_time": "2023-01-21T13:33:55.600Z"
   },
   {
    "duration": 23,
    "start_time": "2023-01-21T13:33:55.644Z"
   },
   {
    "duration": 42,
    "start_time": "2023-01-21T13:33:55.670Z"
   },
   {
    "duration": 22,
    "start_time": "2023-01-21T13:33:55.715Z"
   },
   {
    "duration": 22,
    "start_time": "2023-01-21T13:33:55.739Z"
   },
   {
    "duration": 18670,
    "start_time": "2023-01-21T13:33:55.764Z"
   },
   {
    "duration": 9,
    "start_time": "2023-01-21T13:34:14.436Z"
   },
   {
    "duration": 47,
    "start_time": "2023-01-21T13:34:14.448Z"
   },
   {
    "duration": 12,
    "start_time": "2023-01-21T13:34:14.498Z"
   },
   {
    "duration": 32,
    "start_time": "2023-01-21T13:34:14.511Z"
   },
   {
    "duration": 87,
    "start_time": "2023-01-21T13:34:14.545Z"
   },
   {
    "duration": 14,
    "start_time": "2023-01-21T13:34:14.634Z"
   },
   {
    "duration": 43,
    "start_time": "2023-01-21T13:34:14.650Z"
   },
   {
    "duration": 23,
    "start_time": "2023-01-21T13:34:14.695Z"
   },
   {
    "duration": 1583,
    "start_time": "2023-01-21T13:34:14.720Z"
   },
   {
    "duration": 21,
    "start_time": "2023-01-21T13:34:16.305Z"
   },
   {
    "duration": 65,
    "start_time": "2023-01-21T13:34:16.329Z"
   },
   {
    "duration": 151,
    "start_time": "2023-01-21T13:34:16.396Z"
   },
   {
    "duration": 7,
    "start_time": "2023-01-21T13:34:16.550Z"
   },
   {
    "duration": 36,
    "start_time": "2023-01-21T13:34:16.559Z"
   },
   {
    "duration": 23,
    "start_time": "2023-01-21T13:34:16.597Z"
   },
   {
    "duration": 116,
    "start_time": "2023-01-21T13:34:16.631Z"
   },
   {
    "duration": 26,
    "start_time": "2023-01-21T13:34:16.750Z"
   },
   {
    "duration": 13,
    "start_time": "2023-01-21T13:34:16.786Z"
   },
   {
    "duration": 18,
    "start_time": "2023-01-21T13:34:16.801Z"
   },
   {
    "duration": 27,
    "start_time": "2023-01-21T13:34:16.822Z"
   },
   {
    "duration": 17,
    "start_time": "2023-01-21T13:34:16.851Z"
   },
   {
    "duration": 171,
    "start_time": "2023-01-21T13:34:16.871Z"
   },
   {
    "duration": 10,
    "start_time": "2023-01-21T13:34:17.045Z"
   },
   {
    "duration": 211,
    "start_time": "2023-01-21T13:34:17.058Z"
   },
   {
    "duration": 172,
    "start_time": "2023-01-21T13:34:17.271Z"
   },
   {
    "duration": 8,
    "start_time": "2023-01-21T13:34:17.445Z"
   },
   {
    "duration": 180,
    "start_time": "2023-01-21T13:34:17.456Z"
   },
   {
    "duration": 560,
    "start_time": "2023-01-21T13:34:17.639Z"
   },
   {
    "duration": 29,
    "start_time": "2023-01-21T13:34:18.202Z"
   },
   {
    "duration": 16,
    "start_time": "2023-01-21T13:34:18.234Z"
   },
   {
    "duration": 49,
    "start_time": "2023-01-21T13:34:18.252Z"
   },
   {
    "duration": 16,
    "start_time": "2023-01-21T13:34:18.303Z"
   },
   {
    "duration": 22,
    "start_time": "2023-01-21T13:34:18.321Z"
   },
   {
    "duration": 9,
    "start_time": "2023-01-21T13:34:18.346Z"
   },
   {
    "duration": 35,
    "start_time": "2023-01-21T13:34:18.357Z"
   },
   {
    "duration": 46,
    "start_time": "2023-01-21T13:34:18.394Z"
   },
   {
    "duration": 14,
    "start_time": "2023-01-21T13:34:18.442Z"
   },
   {
    "duration": 13,
    "start_time": "2023-01-21T13:34:18.486Z"
   },
   {
    "duration": 16,
    "start_time": "2023-01-21T13:34:18.501Z"
   },
   {
    "duration": 18,
    "start_time": "2023-01-21T13:34:18.519Z"
   },
   {
    "duration": 44,
    "start_time": "2023-01-21T13:34:18.540Z"
   },
   {
    "duration": 10,
    "start_time": "2023-01-21T13:34:18.587Z"
   },
   {
    "duration": 16,
    "start_time": "2023-01-21T13:34:18.599Z"
   },
   {
    "duration": 21,
    "start_time": "2023-01-21T13:34:18.617Z"
   },
   {
    "duration": 46,
    "start_time": "2023-01-21T13:34:18.639Z"
   },
   {
    "duration": 14,
    "start_time": "2023-01-21T13:34:18.688Z"
   },
   {
    "duration": 131,
    "start_time": "2023-01-21T13:34:18.705Z"
   },
   {
    "duration": 20,
    "start_time": "2023-01-21T13:54:46.847Z"
   },
   {
    "duration": 174,
    "start_time": "2023-01-21T13:55:19.436Z"
   },
   {
    "duration": 11,
    "start_time": "2023-01-21T14:00:02.995Z"
   },
   {
    "duration": 1748,
    "start_time": "2023-01-21T14:16:09.724Z"
   },
   {
    "duration": 11,
    "start_time": "2023-01-21T14:16:11.475Z"
   },
   {
    "duration": 3838,
    "start_time": "2023-01-21T14:16:11.496Z"
   },
   {
    "duration": 4,
    "start_time": "2023-01-21T14:16:15.336Z"
   },
   {
    "duration": 24,
    "start_time": "2023-01-21T14:16:15.343Z"
   },
   {
    "duration": 47,
    "start_time": "2023-01-21T14:16:15.369Z"
   },
   {
    "duration": 13,
    "start_time": "2023-01-21T14:16:15.418Z"
   },
   {
    "duration": 7,
    "start_time": "2023-01-21T14:16:15.434Z"
   },
   {
    "duration": 25,
    "start_time": "2023-01-21T14:16:15.443Z"
   },
   {
    "duration": 11,
    "start_time": "2023-01-21T14:16:15.471Z"
   },
   {
    "duration": 34,
    "start_time": "2023-01-21T14:16:15.484Z"
   },
   {
    "duration": 21322,
    "start_time": "2023-01-21T14:16:15.521Z"
   },
   {
    "duration": 9,
    "start_time": "2023-01-21T14:16:36.845Z"
   },
   {
    "duration": 36,
    "start_time": "2023-01-21T14:16:36.858Z"
   },
   {
    "duration": 31,
    "start_time": "2023-01-21T14:16:36.896Z"
   },
   {
    "duration": 11,
    "start_time": "2023-01-21T14:16:36.929Z"
   },
   {
    "duration": 82,
    "start_time": "2023-01-21T14:16:36.942Z"
   },
   {
    "duration": 12,
    "start_time": "2023-01-21T14:16:37.026Z"
   },
   {
    "duration": 11,
    "start_time": "2023-01-21T14:16:37.039Z"
   },
   {
    "duration": 4,
    "start_time": "2023-01-21T14:16:37.053Z"
   },
   {
    "duration": 1663,
    "start_time": "2023-01-21T14:16:37.059Z"
   },
   {
    "duration": 17,
    "start_time": "2023-01-21T14:16:38.724Z"
   },
   {
    "duration": 62,
    "start_time": "2023-01-21T14:16:38.743Z"
   },
   {
    "duration": 185,
    "start_time": "2023-01-21T14:16:38.809Z"
   },
   {
    "duration": 15,
    "start_time": "2023-01-21T14:16:38.996Z"
   },
   {
    "duration": 20,
    "start_time": "2023-01-21T14:16:39.013Z"
   },
   {
    "duration": 8,
    "start_time": "2023-01-21T14:16:39.036Z"
   },
   {
    "duration": 126,
    "start_time": "2023-01-21T14:16:39.046Z"
   },
   {
    "duration": 37,
    "start_time": "2023-01-21T14:16:39.174Z"
   },
   {
    "duration": 7,
    "start_time": "2023-01-21T14:16:39.214Z"
   },
   {
    "duration": 11,
    "start_time": "2023-01-21T14:16:39.223Z"
   },
   {
    "duration": 14,
    "start_time": "2023-01-21T14:16:39.236Z"
   },
   {
    "duration": 12,
    "start_time": "2023-01-21T14:16:39.253Z"
   },
   {
    "duration": 206,
    "start_time": "2023-01-21T14:16:39.267Z"
   },
   {
    "duration": 88,
    "start_time": "2023-01-21T14:16:39.475Z"
   },
   {
    "duration": 0,
    "start_time": "2023-01-21T14:16:39.566Z"
   },
   {
    "duration": 0,
    "start_time": "2023-01-21T14:16:39.567Z"
   },
   {
    "duration": 0,
    "start_time": "2023-01-21T14:16:39.568Z"
   },
   {
    "duration": 0,
    "start_time": "2023-01-21T14:16:39.569Z"
   },
   {
    "duration": 0,
    "start_time": "2023-01-21T14:16:39.569Z"
   },
   {
    "duration": 0,
    "start_time": "2023-01-21T14:16:39.570Z"
   },
   {
    "duration": 0,
    "start_time": "2023-01-21T14:16:39.571Z"
   },
   {
    "duration": 0,
    "start_time": "2023-01-21T14:16:39.572Z"
   },
   {
    "duration": 0,
    "start_time": "2023-01-21T14:16:39.580Z"
   },
   {
    "duration": 0,
    "start_time": "2023-01-21T14:16:39.584Z"
   },
   {
    "duration": 0,
    "start_time": "2023-01-21T14:16:39.585Z"
   },
   {
    "duration": 0,
    "start_time": "2023-01-21T14:16:39.586Z"
   },
   {
    "duration": 0,
    "start_time": "2023-01-21T14:16:39.589Z"
   },
   {
    "duration": 0,
    "start_time": "2023-01-21T14:16:39.590Z"
   },
   {
    "duration": 0,
    "start_time": "2023-01-21T14:16:39.591Z"
   },
   {
    "duration": 0,
    "start_time": "2023-01-21T14:16:39.593Z"
   },
   {
    "duration": 0,
    "start_time": "2023-01-21T14:16:39.594Z"
   },
   {
    "duration": 0,
    "start_time": "2023-01-21T14:16:39.595Z"
   },
   {
    "duration": 0,
    "start_time": "2023-01-21T14:16:39.596Z"
   },
   {
    "duration": 0,
    "start_time": "2023-01-21T14:16:39.598Z"
   },
   {
    "duration": 0,
    "start_time": "2023-01-21T14:16:39.599Z"
   },
   {
    "duration": 0,
    "start_time": "2023-01-21T14:16:39.600Z"
   },
   {
    "duration": 0,
    "start_time": "2023-01-21T14:16:39.601Z"
   },
   {
    "duration": 0,
    "start_time": "2023-01-21T14:16:39.603Z"
   },
   {
    "duration": 0,
    "start_time": "2023-01-21T14:16:39.604Z"
   },
   {
    "duration": 0,
    "start_time": "2023-01-21T14:16:39.605Z"
   },
   {
    "duration": 1545,
    "start_time": "2023-01-21T14:17:51.610Z"
   },
   {
    "duration": 3,
    "start_time": "2023-01-21T14:17:53.158Z"
   },
   {
    "duration": 3000,
    "start_time": "2023-01-21T14:17:53.164Z"
   },
   {
    "duration": 4,
    "start_time": "2023-01-21T14:17:56.166Z"
   },
   {
    "duration": 71,
    "start_time": "2023-01-21T14:17:56.172Z"
   },
   {
    "duration": 43,
    "start_time": "2023-01-21T14:17:56.245Z"
   },
   {
    "duration": 27,
    "start_time": "2023-01-21T14:17:56.309Z"
   },
   {
    "duration": 40,
    "start_time": "2023-01-21T14:17:56.338Z"
   },
   {
    "duration": 68,
    "start_time": "2023-01-21T14:17:56.380Z"
   },
   {
    "duration": 16,
    "start_time": "2023-01-21T14:17:56.452Z"
   },
   {
    "duration": 50,
    "start_time": "2023-01-21T14:17:56.470Z"
   },
   {
    "duration": 20996,
    "start_time": "2023-01-21T14:17:56.522Z"
   },
   {
    "duration": 8,
    "start_time": "2023-01-21T14:18:17.526Z"
   },
   {
    "duration": 12,
    "start_time": "2023-01-21T14:18:17.535Z"
   },
   {
    "duration": 8,
    "start_time": "2023-01-21T14:18:17.550Z"
   },
   {
    "duration": 5,
    "start_time": "2023-01-21T14:18:17.561Z"
   },
   {
    "duration": 72,
    "start_time": "2023-01-21T14:18:17.568Z"
   },
   {
    "duration": 10,
    "start_time": "2023-01-21T14:18:17.642Z"
   },
   {
    "duration": 14,
    "start_time": "2023-01-21T14:18:17.654Z"
   },
   {
    "duration": 4,
    "start_time": "2023-01-21T14:18:17.670Z"
   },
   {
    "duration": 1925,
    "start_time": "2023-01-21T14:18:17.676Z"
   },
   {
    "duration": 28,
    "start_time": "2023-01-21T14:18:19.603Z"
   },
   {
    "duration": 111,
    "start_time": "2023-01-21T14:18:19.633Z"
   },
   {
    "duration": 205,
    "start_time": "2023-01-21T14:18:19.747Z"
   },
   {
    "duration": 10,
    "start_time": "2023-01-21T14:18:19.955Z"
   },
   {
    "duration": 33,
    "start_time": "2023-01-21T14:18:19.967Z"
   },
   {
    "duration": 52,
    "start_time": "2023-01-21T14:18:20.002Z"
   },
   {
    "duration": 174,
    "start_time": "2023-01-21T14:18:20.059Z"
   },
   {
    "duration": 19,
    "start_time": "2023-01-21T14:18:20.236Z"
   },
   {
    "duration": 55,
    "start_time": "2023-01-21T14:18:20.258Z"
   },
   {
    "duration": 35,
    "start_time": "2023-01-21T14:18:20.315Z"
   },
   {
    "duration": 16,
    "start_time": "2023-01-21T14:18:20.352Z"
   },
   {
    "duration": 58,
    "start_time": "2023-01-21T14:18:20.370Z"
   },
   {
    "duration": 215,
    "start_time": "2023-01-21T14:18:20.430Z"
   },
   {
    "duration": 13,
    "start_time": "2023-01-21T14:18:20.647Z"
   },
   {
    "duration": 18,
    "start_time": "2023-01-21T14:18:20.662Z"
   },
   {
    "duration": 226,
    "start_time": "2023-01-21T14:18:20.682Z"
   },
   {
    "duration": 231,
    "start_time": "2023-01-21T14:18:20.910Z"
   },
   {
    "duration": 47,
    "start_time": "2023-01-21T14:18:21.144Z"
   },
   {
    "duration": 406,
    "start_time": "2023-01-21T14:18:21.193Z"
   },
   {
    "duration": 1226,
    "start_time": "2023-01-21T14:18:21.602Z"
   },
   {
    "duration": 25,
    "start_time": "2023-01-21T14:18:22.830Z"
   },
   {
    "duration": 14,
    "start_time": "2023-01-21T14:18:22.857Z"
   },
   {
    "duration": 49,
    "start_time": "2023-01-21T14:18:22.873Z"
   },
   {
    "duration": 11,
    "start_time": "2023-01-21T14:18:22.924Z"
   },
   {
    "duration": 51,
    "start_time": "2023-01-21T14:18:22.938Z"
   },
   {
    "duration": 29,
    "start_time": "2023-01-21T14:18:22.998Z"
   },
   {
    "duration": 10,
    "start_time": "2023-01-21T14:18:23.029Z"
   },
   {
    "duration": 48,
    "start_time": "2023-01-21T14:18:23.041Z"
   },
   {
    "duration": 17,
    "start_time": "2023-01-21T14:18:23.091Z"
   },
   {
    "duration": 49,
    "start_time": "2023-01-21T14:18:23.110Z"
   },
   {
    "duration": 36,
    "start_time": "2023-01-21T14:18:23.161Z"
   },
   {
    "duration": 46,
    "start_time": "2023-01-21T14:18:23.199Z"
   },
   {
    "duration": 49,
    "start_time": "2023-01-21T14:18:23.247Z"
   },
   {
    "duration": 15,
    "start_time": "2023-01-21T14:18:23.301Z"
   },
   {
    "duration": 29,
    "start_time": "2023-01-21T14:18:23.322Z"
   },
   {
    "duration": 19,
    "start_time": "2023-01-21T14:18:23.354Z"
   },
   {
    "duration": 7,
    "start_time": "2023-01-21T14:18:23.375Z"
   },
   {
    "duration": 42,
    "start_time": "2023-01-21T14:18:23.385Z"
   },
   {
    "duration": 129,
    "start_time": "2023-01-21T14:18:23.429Z"
   },
   {
    "duration": 593,
    "start_time": "2023-01-21T14:19:46.861Z"
   },
   {
    "duration": 450,
    "start_time": "2023-01-21T16:40:50.024Z"
   },
   {
    "duration": 0,
    "start_time": "2023-01-21T16:40:50.477Z"
   },
   {
    "duration": 0,
    "start_time": "2023-01-21T16:40:50.479Z"
   },
   {
    "duration": 0,
    "start_time": "2023-01-21T16:40:50.480Z"
   },
   {
    "duration": 0,
    "start_time": "2023-01-21T16:40:50.481Z"
   },
   {
    "duration": 0,
    "start_time": "2023-01-21T16:40:50.483Z"
   },
   {
    "duration": 0,
    "start_time": "2023-01-21T16:40:50.494Z"
   },
   {
    "duration": 0,
    "start_time": "2023-01-21T16:40:50.495Z"
   },
   {
    "duration": 0,
    "start_time": "2023-01-21T16:40:50.497Z"
   },
   {
    "duration": 0,
    "start_time": "2023-01-21T16:40:50.498Z"
   },
   {
    "duration": 1,
    "start_time": "2023-01-21T16:40:50.498Z"
   },
   {
    "duration": 0,
    "start_time": "2023-01-21T16:40:50.500Z"
   },
   {
    "duration": 0,
    "start_time": "2023-01-21T16:40:50.501Z"
   },
   {
    "duration": 0,
    "start_time": "2023-01-21T16:40:50.502Z"
   },
   {
    "duration": 0,
    "start_time": "2023-01-21T16:40:50.504Z"
   },
   {
    "duration": 0,
    "start_time": "2023-01-21T16:40:50.505Z"
   },
   {
    "duration": 0,
    "start_time": "2023-01-21T16:40:50.506Z"
   },
   {
    "duration": 0,
    "start_time": "2023-01-21T16:40:50.507Z"
   },
   {
    "duration": 0,
    "start_time": "2023-01-21T16:40:50.509Z"
   },
   {
    "duration": 0,
    "start_time": "2023-01-21T16:40:50.510Z"
   },
   {
    "duration": 0,
    "start_time": "2023-01-21T16:40:50.512Z"
   },
   {
    "duration": 0,
    "start_time": "2023-01-21T16:40:50.513Z"
   },
   {
    "duration": 0,
    "start_time": "2023-01-21T16:40:50.515Z"
   },
   {
    "duration": 0,
    "start_time": "2023-01-21T16:40:50.516Z"
   },
   {
    "duration": 0,
    "start_time": "2023-01-21T16:40:50.517Z"
   },
   {
    "duration": 0,
    "start_time": "2023-01-21T16:40:50.518Z"
   },
   {
    "duration": 0,
    "start_time": "2023-01-21T16:40:50.520Z"
   },
   {
    "duration": 0,
    "start_time": "2023-01-21T16:40:50.521Z"
   },
   {
    "duration": 0,
    "start_time": "2023-01-21T16:40:50.522Z"
   },
   {
    "duration": 0,
    "start_time": "2023-01-21T16:40:50.523Z"
   },
   {
    "duration": 0,
    "start_time": "2023-01-21T16:40:50.525Z"
   },
   {
    "duration": 0,
    "start_time": "2023-01-21T16:40:50.526Z"
   },
   {
    "duration": 0,
    "start_time": "2023-01-21T16:40:50.527Z"
   },
   {
    "duration": 0,
    "start_time": "2023-01-21T16:40:50.528Z"
   },
   {
    "duration": 0,
    "start_time": "2023-01-21T16:40:50.529Z"
   },
   {
    "duration": 0,
    "start_time": "2023-01-21T16:40:50.530Z"
   },
   {
    "duration": 0,
    "start_time": "2023-01-21T16:40:50.594Z"
   },
   {
    "duration": 0,
    "start_time": "2023-01-21T16:40:50.595Z"
   },
   {
    "duration": 0,
    "start_time": "2023-01-21T16:40:50.597Z"
   },
   {
    "duration": 0,
    "start_time": "2023-01-21T16:40:50.598Z"
   },
   {
    "duration": 0,
    "start_time": "2023-01-21T16:40:50.599Z"
   },
   {
    "duration": 0,
    "start_time": "2023-01-21T16:40:50.600Z"
   },
   {
    "duration": 0,
    "start_time": "2023-01-21T16:40:50.602Z"
   },
   {
    "duration": 0,
    "start_time": "2023-01-21T16:40:50.603Z"
   },
   {
    "duration": 0,
    "start_time": "2023-01-21T16:40:50.605Z"
   },
   {
    "duration": 0,
    "start_time": "2023-01-21T16:40:50.606Z"
   },
   {
    "duration": 0,
    "start_time": "2023-01-21T16:40:50.607Z"
   },
   {
    "duration": 0,
    "start_time": "2023-01-21T16:40:50.609Z"
   },
   {
    "duration": 0,
    "start_time": "2023-01-21T16:40:50.610Z"
   },
   {
    "duration": 0,
    "start_time": "2023-01-21T16:40:50.611Z"
   },
   {
    "duration": 0,
    "start_time": "2023-01-21T16:40:50.612Z"
   },
   {
    "duration": 0,
    "start_time": "2023-01-21T16:40:50.613Z"
   },
   {
    "duration": 0,
    "start_time": "2023-01-21T16:40:50.613Z"
   },
   {
    "duration": 0,
    "start_time": "2023-01-21T16:40:50.615Z"
   },
   {
    "duration": 0,
    "start_time": "2023-01-21T16:40:50.616Z"
   },
   {
    "duration": 0,
    "start_time": "2023-01-21T16:40:50.617Z"
   },
   {
    "duration": 0,
    "start_time": "2023-01-21T16:40:50.618Z"
   },
   {
    "duration": 0,
    "start_time": "2023-01-21T16:40:50.619Z"
   },
   {
    "duration": 0,
    "start_time": "2023-01-21T16:40:50.620Z"
   },
   {
    "duration": 0,
    "start_time": "2023-01-21T16:40:50.621Z"
   },
   {
    "duration": 3136,
    "start_time": "2023-01-21T16:41:13.351Z"
   },
   {
    "duration": 1325,
    "start_time": "2023-01-21T16:41:26.788Z"
   },
   {
    "duration": 3,
    "start_time": "2023-01-21T16:41:28.116Z"
   },
   {
    "duration": 3444,
    "start_time": "2023-01-21T16:41:28.120Z"
   },
   {
    "duration": 3,
    "start_time": "2023-01-21T16:41:31.565Z"
   },
   {
    "duration": 467,
    "start_time": "2023-01-21T16:41:31.570Z"
   },
   {
    "duration": 4,
    "start_time": "2023-01-21T16:41:32.039Z"
   },
   {
    "duration": 30,
    "start_time": "2023-01-21T16:41:32.044Z"
   },
   {
    "duration": 15,
    "start_time": "2023-01-21T16:41:32.076Z"
   },
   {
    "duration": 21,
    "start_time": "2023-01-21T16:41:32.093Z"
   },
   {
    "duration": 11,
    "start_time": "2023-01-21T16:41:32.118Z"
   },
   {
    "duration": 18,
    "start_time": "2023-01-21T16:41:32.131Z"
   },
   {
    "duration": 14205,
    "start_time": "2023-01-21T16:41:32.152Z"
   },
   {
    "duration": 6,
    "start_time": "2023-01-21T16:41:46.359Z"
   },
   {
    "duration": 14,
    "start_time": "2023-01-21T16:41:46.366Z"
   },
   {
    "duration": 12,
    "start_time": "2023-01-21T16:41:46.381Z"
   },
   {
    "duration": 4,
    "start_time": "2023-01-21T16:41:46.394Z"
   },
   {
    "duration": 44,
    "start_time": "2023-01-21T16:41:46.400Z"
   },
   {
    "duration": 8,
    "start_time": "2023-01-21T16:41:46.446Z"
   },
   {
    "duration": 6,
    "start_time": "2023-01-21T16:41:46.455Z"
   },
   {
    "duration": 31,
    "start_time": "2023-01-21T16:41:46.462Z"
   },
   {
    "duration": 1505,
    "start_time": "2023-01-21T16:41:46.494Z"
   },
   {
    "duration": 12,
    "start_time": "2023-01-21T16:41:48.001Z"
   },
   {
    "duration": 35,
    "start_time": "2023-01-21T16:41:48.014Z"
   },
   {
    "duration": 111,
    "start_time": "2023-01-21T16:41:48.051Z"
   },
   {
    "duration": 5,
    "start_time": "2023-01-21T16:41:48.164Z"
   },
   {
    "duration": 27,
    "start_time": "2023-01-21T16:41:48.170Z"
   },
   {
    "duration": 5,
    "start_time": "2023-01-21T16:41:48.198Z"
   },
   {
    "duration": 66,
    "start_time": "2023-01-21T16:41:48.207Z"
   },
   {
    "duration": 10,
    "start_time": "2023-01-21T16:41:48.274Z"
   },
   {
    "duration": 12,
    "start_time": "2023-01-21T16:41:48.286Z"
   },
   {
    "duration": 6,
    "start_time": "2023-01-21T16:41:48.300Z"
   },
   {
    "duration": 14,
    "start_time": "2023-01-21T16:41:48.307Z"
   },
   {
    "duration": 12,
    "start_time": "2023-01-21T16:41:48.322Z"
   },
   {
    "duration": 129,
    "start_time": "2023-01-21T16:41:48.336Z"
   },
   {
    "duration": 11,
    "start_time": "2023-01-21T16:41:48.466Z"
   },
   {
    "duration": 16,
    "start_time": "2023-01-21T16:41:48.478Z"
   },
   {
    "duration": 114,
    "start_time": "2023-01-21T16:41:48.495Z"
   },
   {
    "duration": 135,
    "start_time": "2023-01-21T16:41:48.611Z"
   },
   {
    "duration": 6,
    "start_time": "2023-01-21T16:41:48.747Z"
   },
   {
    "duration": 140,
    "start_time": "2023-01-21T16:41:48.755Z"
   },
   {
    "duration": 418,
    "start_time": "2023-01-21T16:41:48.896Z"
   },
   {
    "duration": 15,
    "start_time": "2023-01-21T16:41:49.316Z"
   },
   {
    "duration": 11,
    "start_time": "2023-01-21T16:41:49.332Z"
   },
   {
    "duration": 13,
    "start_time": "2023-01-21T16:41:49.345Z"
   },
   {
    "duration": 6,
    "start_time": "2023-01-21T16:41:49.360Z"
   },
   {
    "duration": 12,
    "start_time": "2023-01-21T16:41:49.393Z"
   },
   {
    "duration": 7,
    "start_time": "2023-01-21T16:41:49.407Z"
   },
   {
    "duration": 6,
    "start_time": "2023-01-21T16:41:49.415Z"
   },
   {
    "duration": 25,
    "start_time": "2023-01-21T16:41:49.422Z"
   },
   {
    "duration": 7,
    "start_time": "2023-01-21T16:41:49.449Z"
   },
   {
    "duration": 38,
    "start_time": "2023-01-21T16:41:49.457Z"
   },
   {
    "duration": 6,
    "start_time": "2023-01-21T16:41:49.497Z"
   },
   {
    "duration": 12,
    "start_time": "2023-01-21T16:41:49.505Z"
   },
   {
    "duration": 6,
    "start_time": "2023-01-21T16:41:49.518Z"
   },
   {
    "duration": 7,
    "start_time": "2023-01-21T16:41:49.525Z"
   },
   {
    "duration": 10,
    "start_time": "2023-01-21T16:41:49.534Z"
   },
   {
    "duration": 10,
    "start_time": "2023-01-21T16:41:49.546Z"
   },
   {
    "duration": 39,
    "start_time": "2023-01-21T16:41:49.557Z"
   },
   {
    "duration": 9,
    "start_time": "2023-01-21T16:41:49.598Z"
   },
   {
    "duration": 107,
    "start_time": "2023-01-21T16:41:49.608Z"
   },
   {
    "duration": 1191,
    "start_time": "2023-01-21T17:14:27.771Z"
   },
   {
    "duration": 2,
    "start_time": "2023-01-21T17:14:28.964Z"
   },
   {
    "duration": 2638,
    "start_time": "2023-01-21T17:14:28.968Z"
   },
   {
    "duration": 3,
    "start_time": "2023-01-21T17:14:31.608Z"
   },
   {
    "duration": 14,
    "start_time": "2023-01-21T17:14:31.613Z"
   },
   {
    "duration": 26,
    "start_time": "2023-01-21T17:14:31.629Z"
   },
   {
    "duration": 7,
    "start_time": "2023-01-21T17:14:31.657Z"
   },
   {
    "duration": 28,
    "start_time": "2023-01-21T17:14:31.666Z"
   },
   {
    "duration": 18,
    "start_time": "2023-01-21T17:14:31.696Z"
   },
   {
    "duration": 19,
    "start_time": "2023-01-21T17:14:31.718Z"
   },
   {
    "duration": 14116,
    "start_time": "2023-01-21T17:14:31.738Z"
   },
   {
    "duration": 6,
    "start_time": "2023-01-21T17:14:45.856Z"
   },
   {
    "duration": 12,
    "start_time": "2023-01-21T17:14:45.863Z"
   },
   {
    "duration": 5,
    "start_time": "2023-01-21T17:14:45.876Z"
   },
   {
    "duration": 3,
    "start_time": "2023-01-21T17:14:45.894Z"
   },
   {
    "duration": 43,
    "start_time": "2023-01-21T17:14:45.898Z"
   },
   {
    "duration": 7,
    "start_time": "2023-01-21T17:14:45.943Z"
   },
   {
    "duration": 6,
    "start_time": "2023-01-21T17:14:45.952Z"
   },
   {
    "duration": 35,
    "start_time": "2023-01-21T17:14:45.959Z"
   },
   {
    "duration": 115,
    "start_time": "2023-01-21T17:14:45.996Z"
   },
   {
    "duration": 0,
    "start_time": "2023-01-21T17:14:46.113Z"
   },
   {
    "duration": 0,
    "start_time": "2023-01-21T17:14:46.114Z"
   },
   {
    "duration": 0,
    "start_time": "2023-01-21T17:14:46.116Z"
   },
   {
    "duration": 0,
    "start_time": "2023-01-21T17:14:46.117Z"
   },
   {
    "duration": 0,
    "start_time": "2023-01-21T17:14:46.118Z"
   },
   {
    "duration": 0,
    "start_time": "2023-01-21T17:14:46.119Z"
   },
   {
    "duration": 0,
    "start_time": "2023-01-21T17:14:46.120Z"
   },
   {
    "duration": 0,
    "start_time": "2023-01-21T17:14:46.121Z"
   },
   {
    "duration": 0,
    "start_time": "2023-01-21T17:14:46.122Z"
   },
   {
    "duration": 0,
    "start_time": "2023-01-21T17:14:46.123Z"
   },
   {
    "duration": 0,
    "start_time": "2023-01-21T17:14:46.124Z"
   },
   {
    "duration": 0,
    "start_time": "2023-01-21T17:14:46.125Z"
   },
   {
    "duration": 0,
    "start_time": "2023-01-21T17:14:46.126Z"
   },
   {
    "duration": 0,
    "start_time": "2023-01-21T17:14:46.127Z"
   },
   {
    "duration": 0,
    "start_time": "2023-01-21T17:14:46.128Z"
   },
   {
    "duration": 0,
    "start_time": "2023-01-21T17:14:46.129Z"
   },
   {
    "duration": 0,
    "start_time": "2023-01-21T17:14:46.130Z"
   },
   {
    "duration": 0,
    "start_time": "2023-01-21T17:14:46.131Z"
   },
   {
    "duration": 0,
    "start_time": "2023-01-21T17:14:46.132Z"
   },
   {
    "duration": 0,
    "start_time": "2023-01-21T17:14:46.133Z"
   },
   {
    "duration": 0,
    "start_time": "2023-01-21T17:14:46.134Z"
   },
   {
    "duration": 0,
    "start_time": "2023-01-21T17:14:46.135Z"
   },
   {
    "duration": 0,
    "start_time": "2023-01-21T17:14:46.136Z"
   },
   {
    "duration": 0,
    "start_time": "2023-01-21T17:14:46.137Z"
   },
   {
    "duration": 0,
    "start_time": "2023-01-21T17:14:46.138Z"
   },
   {
    "duration": 0,
    "start_time": "2023-01-21T17:14:46.139Z"
   },
   {
    "duration": 0,
    "start_time": "2023-01-21T17:14:46.140Z"
   },
   {
    "duration": 0,
    "start_time": "2023-01-21T17:14:46.141Z"
   },
   {
    "duration": 0,
    "start_time": "2023-01-21T17:14:46.142Z"
   },
   {
    "duration": 0,
    "start_time": "2023-01-21T17:14:46.143Z"
   },
   {
    "duration": 0,
    "start_time": "2023-01-21T17:14:46.193Z"
   },
   {
    "duration": 0,
    "start_time": "2023-01-21T17:14:46.194Z"
   },
   {
    "duration": 0,
    "start_time": "2023-01-21T17:14:46.195Z"
   },
   {
    "duration": 0,
    "start_time": "2023-01-21T17:14:46.196Z"
   },
   {
    "duration": 0,
    "start_time": "2023-01-21T17:14:46.197Z"
   },
   {
    "duration": 0,
    "start_time": "2023-01-21T17:14:46.198Z"
   },
   {
    "duration": 0,
    "start_time": "2023-01-21T17:14:46.199Z"
   },
   {
    "duration": 0,
    "start_time": "2023-01-21T17:14:46.200Z"
   },
   {
    "duration": 0,
    "start_time": "2023-01-21T17:14:46.201Z"
   },
   {
    "duration": 0,
    "start_time": "2023-01-21T17:14:46.202Z"
   },
   {
    "duration": 1114,
    "start_time": "2023-01-21T17:15:10.967Z"
   },
   {
    "duration": 3,
    "start_time": "2023-01-21T17:15:12.083Z"
   },
   {
    "duration": 2406,
    "start_time": "2023-01-21T17:15:12.087Z"
   },
   {
    "duration": 3,
    "start_time": "2023-01-21T17:15:14.496Z"
   },
   {
    "duration": 7,
    "start_time": "2023-01-21T17:15:14.500Z"
   },
   {
    "duration": 6,
    "start_time": "2023-01-21T17:15:14.509Z"
   },
   {
    "duration": 9,
    "start_time": "2023-01-21T17:15:14.517Z"
   },
   {
    "duration": 15,
    "start_time": "2023-01-21T17:15:14.528Z"
   },
   {
    "duration": 11,
    "start_time": "2023-01-21T17:15:14.545Z"
   },
   {
    "duration": 4,
    "start_time": "2023-01-21T17:15:14.560Z"
   },
   {
    "duration": 14506,
    "start_time": "2023-01-21T17:15:14.566Z"
   },
   {
    "duration": 7,
    "start_time": "2023-01-21T17:15:29.073Z"
   },
   {
    "duration": 17,
    "start_time": "2023-01-21T17:15:29.081Z"
   },
   {
    "duration": 7,
    "start_time": "2023-01-21T17:15:29.100Z"
   },
   {
    "duration": 11,
    "start_time": "2023-01-21T17:15:29.109Z"
   },
   {
    "duration": 42,
    "start_time": "2023-01-21T17:15:29.122Z"
   },
   {
    "duration": 34,
    "start_time": "2023-01-21T17:15:29.165Z"
   },
   {
    "duration": 7,
    "start_time": "2023-01-21T17:15:29.201Z"
   },
   {
    "duration": 7,
    "start_time": "2023-01-21T17:15:29.209Z"
   },
   {
    "duration": 1335,
    "start_time": "2023-01-21T17:15:29.218Z"
   },
   {
    "duration": 1316,
    "start_time": "2023-01-21T17:15:30.555Z"
   },
   {
    "duration": 15,
    "start_time": "2023-01-21T17:15:31.873Z"
   },
   {
    "duration": 53,
    "start_time": "2023-01-21T17:15:31.890Z"
   },
   {
    "duration": 117,
    "start_time": "2023-01-21T17:15:31.945Z"
   },
   {
    "duration": 5,
    "start_time": "2023-01-21T17:15:32.064Z"
   },
   {
    "duration": 30,
    "start_time": "2023-01-21T17:15:32.070Z"
   },
   {
    "duration": 4,
    "start_time": "2023-01-21T17:15:32.101Z"
   },
   {
    "duration": 56,
    "start_time": "2023-01-21T17:15:32.108Z"
   },
   {
    "duration": 27,
    "start_time": "2023-01-21T17:15:32.166Z"
   },
   {
    "duration": 6,
    "start_time": "2023-01-21T17:15:32.194Z"
   },
   {
    "duration": 19,
    "start_time": "2023-01-21T17:15:32.201Z"
   },
   {
    "duration": 9,
    "start_time": "2023-01-21T17:15:32.221Z"
   },
   {
    "duration": 8,
    "start_time": "2023-01-21T17:15:32.231Z"
   },
   {
    "duration": 142,
    "start_time": "2023-01-21T17:15:32.241Z"
   },
   {
    "duration": 18,
    "start_time": "2023-01-21T17:15:32.384Z"
   },
   {
    "duration": 6,
    "start_time": "2023-01-21T17:15:32.403Z"
   },
   {
    "duration": 136,
    "start_time": "2023-01-21T17:15:32.411Z"
   },
   {
    "duration": 148,
    "start_time": "2023-01-21T17:15:32.548Z"
   },
   {
    "duration": 6,
    "start_time": "2023-01-21T17:15:32.697Z"
   },
   {
    "duration": 169,
    "start_time": "2023-01-21T17:15:32.704Z"
   },
   {
    "duration": 509,
    "start_time": "2023-01-21T17:15:32.875Z"
   },
   {
    "duration": 23,
    "start_time": "2023-01-21T17:15:33.386Z"
   },
   {
    "duration": 13,
    "start_time": "2023-01-21T17:15:33.411Z"
   },
   {
    "duration": 24,
    "start_time": "2023-01-21T17:15:33.426Z"
   },
   {
    "duration": 11,
    "start_time": "2023-01-21T17:15:33.452Z"
   },
   {
    "duration": 35,
    "start_time": "2023-01-21T17:15:33.464Z"
   },
   {
    "duration": 8,
    "start_time": "2023-01-21T17:15:33.501Z"
   },
   {
    "duration": 14,
    "start_time": "2023-01-21T17:15:33.511Z"
   },
   {
    "duration": 30,
    "start_time": "2023-01-21T17:15:33.526Z"
   },
   {
    "duration": 8,
    "start_time": "2023-01-21T17:15:33.558Z"
   },
   {
    "duration": 28,
    "start_time": "2023-01-21T17:15:33.568Z"
   },
   {
    "duration": 7,
    "start_time": "2023-01-21T17:15:33.597Z"
   },
   {
    "duration": 14,
    "start_time": "2023-01-21T17:15:33.606Z"
   },
   {
    "duration": 7,
    "start_time": "2023-01-21T17:15:33.621Z"
   },
   {
    "duration": 8,
    "start_time": "2023-01-21T17:15:33.629Z"
   },
   {
    "duration": 11,
    "start_time": "2023-01-21T17:15:33.638Z"
   },
   {
    "duration": 44,
    "start_time": "2023-01-21T17:15:33.650Z"
   },
   {
    "duration": 5,
    "start_time": "2023-01-21T17:15:33.696Z"
   },
   {
    "duration": 11,
    "start_time": "2023-01-21T17:15:33.702Z"
   },
   {
    "duration": 107,
    "start_time": "2023-01-21T17:15:33.714Z"
   }
  ],
  "kernelspec": {
   "display_name": "Python 3 (ipykernel)",
   "language": "python",
   "name": "python3"
  },
  "language_info": {
   "codemirror_mode": {
    "name": "ipython",
    "version": 3
   },
   "file_extension": ".py",
   "mimetype": "text/x-python",
   "name": "python",
   "nbconvert_exporter": "python",
   "pygments_lexer": "ipython3",
   "version": "3.9.5"
  },
  "toc": {
   "base_numbering": 1,
   "nav_menu": {},
   "number_sections": true,
   "sideBar": true,
   "skip_h1_title": true,
   "title_cell": "Table of Contents",
   "title_sidebar": "Contents",
   "toc_cell": false,
   "toc_position": {},
   "toc_section_display": true,
   "toc_window_display": true
  },
  "vscode": {
   "interpreter": {
    "hash": "4147809c994a734601c7c1e54c7ace358e0979b97a9137c67979df7b76cf16c0"
   }
  }
 },
 "nbformat": 4,
 "nbformat_minor": 2
}
