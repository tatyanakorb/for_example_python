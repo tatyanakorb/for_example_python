{
 "cells": [
  {
   "cell_type": "code",
   "execution_count": 1,
   "metadata": {},
   "outputs": [],
   "source": [
    "# импортируем библиотеки\n",
    "import pandas as pd\n",
    "from sqlalchemy import create_engine"
   ]
  },
  {
   "cell_type": "code",
   "execution_count": 2,
   "metadata": {},
   "outputs": [],
   "source": [
    "\n",
    "# устанавливаем параметры\n",
    "db_config = {'user': 'praktikum_student', # имя пользователя\n",
    "'pwd': 'Sdf4$2;d-d30pp', # пароль\n",
    "'host': 'rc1b-wcoijxj3yxfsf3fs.mdb.yandexcloud.net',\n",
    "'port': 6432, # порт подключения\n",
    "'db': 'data-analyst-final-project-db'} # название базы данных\n",
    "connection_string = 'postgresql://{}:{}@{}:{}/{}'.format(db_config['user'],\n",
    " db_config['pwd'],\n",
    " db_config['host'],\n",
    " db_config['port'],\n",
    " db_config['db'])\n",
    "# сохраняем коннектор\n",
    "engine = create_engine(connection_string, connect_args={'sslmode':'require'}) "
   ]
  },
  {
   "cell_type": "markdown",
   "metadata": {},
   "source": [
    "##  Исследуйте таблицы — выведите первые строки"
   ]
  },
  {
   "cell_type": "code",
   "execution_count": 3,
   "metadata": {},
   "outputs": [
    {
     "data": {
      "text/html": [
       "<div>\n",
       "<style scoped>\n",
       "    .dataframe tbody tr th:only-of-type {\n",
       "        vertical-align: middle;\n",
       "    }\n",
       "\n",
       "    .dataframe tbody tr th {\n",
       "        vertical-align: top;\n",
       "    }\n",
       "\n",
       "    .dataframe thead th {\n",
       "        text-align: right;\n",
       "    }\n",
       "</style>\n",
       "<table border=\"1\" class=\"dataframe\">\n",
       "  <thead>\n",
       "    <tr style=\"text-align: right;\">\n",
       "      <th></th>\n",
       "      <th>book_id</th>\n",
       "      <th>author_id</th>\n",
       "      <th>title</th>\n",
       "      <th>num_pages</th>\n",
       "      <th>publication_date</th>\n",
       "      <th>publisher_id</th>\n",
       "    </tr>\n",
       "  </thead>\n",
       "  <tbody>\n",
       "    <tr>\n",
       "      <th>0</th>\n",
       "      <td>1</td>\n",
       "      <td>546</td>\n",
       "      <td>'Salem's Lot</td>\n",
       "      <td>594</td>\n",
       "      <td>2005-11-01</td>\n",
       "      <td>93</td>\n",
       "    </tr>\n",
       "    <tr>\n",
       "      <th>1</th>\n",
       "      <td>2</td>\n",
       "      <td>465</td>\n",
       "      <td>1 000 Places to See Before You Die</td>\n",
       "      <td>992</td>\n",
       "      <td>2003-05-22</td>\n",
       "      <td>336</td>\n",
       "    </tr>\n",
       "    <tr>\n",
       "      <th>2</th>\n",
       "      <td>3</td>\n",
       "      <td>407</td>\n",
       "      <td>13 Little Blue Envelopes (Little Blue Envelope...</td>\n",
       "      <td>322</td>\n",
       "      <td>2010-12-21</td>\n",
       "      <td>135</td>\n",
       "    </tr>\n",
       "    <tr>\n",
       "      <th>3</th>\n",
       "      <td>4</td>\n",
       "      <td>82</td>\n",
       "      <td>1491: New Revelations of the Americas Before C...</td>\n",
       "      <td>541</td>\n",
       "      <td>2006-10-10</td>\n",
       "      <td>309</td>\n",
       "    </tr>\n",
       "    <tr>\n",
       "      <th>4</th>\n",
       "      <td>5</td>\n",
       "      <td>125</td>\n",
       "      <td>1776</td>\n",
       "      <td>386</td>\n",
       "      <td>2006-07-04</td>\n",
       "      <td>268</td>\n",
       "    </tr>\n",
       "  </tbody>\n",
       "</table>\n",
       "</div>"
      ],
      "text/plain": [
       "   book_id  author_id                                              title  \\\n",
       "0        1        546                                       'Salem's Lot   \n",
       "1        2        465                 1 000 Places to See Before You Die   \n",
       "2        3        407  13 Little Blue Envelopes (Little Blue Envelope...   \n",
       "3        4         82  1491: New Revelations of the Americas Before C...   \n",
       "4        5        125                                               1776   \n",
       "\n",
       "   num_pages publication_date  publisher_id  \n",
       "0        594       2005-11-01            93  \n",
       "1        992       2003-05-22           336  \n",
       "2        322       2010-12-21           135  \n",
       "3        541       2006-10-10           309  \n",
       "4        386       2006-07-04           268  "
      ]
     },
     "execution_count": 3,
     "metadata": {},
     "output_type": "execute_result"
    }
   ],
   "source": [
    "query = ''' SELECT *\n",
    "            FROM books\n",
    "            LIMIT 5\n",
    "        '''\n",
    "\n",
    "pd.io.sql.read_sql(query, con = engine)         "
   ]
  },
  {
   "cell_type": "code",
   "execution_count": null,
   "metadata": {},
   "outputs": [],
   "source": []
  },
  {
   "cell_type": "code",
   "execution_count": 4,
   "metadata": {},
   "outputs": [
    {
     "data": {
      "text/html": [
       "<div>\n",
       "<style scoped>\n",
       "    .dataframe tbody tr th:only-of-type {\n",
       "        vertical-align: middle;\n",
       "    }\n",
       "\n",
       "    .dataframe tbody tr th {\n",
       "        vertical-align: top;\n",
       "    }\n",
       "\n",
       "    .dataframe thead th {\n",
       "        text-align: right;\n",
       "    }\n",
       "</style>\n",
       "<table border=\"1\" class=\"dataframe\">\n",
       "  <thead>\n",
       "    <tr style=\"text-align: right;\">\n",
       "      <th></th>\n",
       "      <th>author_id</th>\n",
       "      <th>author</th>\n",
       "    </tr>\n",
       "  </thead>\n",
       "  <tbody>\n",
       "    <tr>\n",
       "      <th>0</th>\n",
       "      <td>1</td>\n",
       "      <td>A.S. Byatt</td>\n",
       "    </tr>\n",
       "    <tr>\n",
       "      <th>1</th>\n",
       "      <td>2</td>\n",
       "      <td>Aesop/Laura Harris/Laura Gibbs</td>\n",
       "    </tr>\n",
       "    <tr>\n",
       "      <th>2</th>\n",
       "      <td>3</td>\n",
       "      <td>Agatha Christie</td>\n",
       "    </tr>\n",
       "    <tr>\n",
       "      <th>3</th>\n",
       "      <td>4</td>\n",
       "      <td>Alan Brennert</td>\n",
       "    </tr>\n",
       "    <tr>\n",
       "      <th>4</th>\n",
       "      <td>5</td>\n",
       "      <td>Alan Moore/David   Lloyd</td>\n",
       "    </tr>\n",
       "  </tbody>\n",
       "</table>\n",
       "</div>"
      ],
      "text/plain": [
       "   author_id                          author\n",
       "0          1                      A.S. Byatt\n",
       "1          2  Aesop/Laura Harris/Laura Gibbs\n",
       "2          3                 Agatha Christie\n",
       "3          4                   Alan Brennert\n",
       "4          5        Alan Moore/David   Lloyd"
      ]
     },
     "execution_count": 4,
     "metadata": {},
     "output_type": "execute_result"
    }
   ],
   "source": [
    "query = ''' SELECT *\n",
    "            FROM authors\n",
    "            LIMIT 5\n",
    "        '''\n",
    "\n",
    "pd.io.sql.read_sql(query, con = engine)     "
   ]
  },
  {
   "cell_type": "code",
   "execution_count": 5,
   "metadata": {},
   "outputs": [
    {
     "data": {
      "text/html": [
       "<div>\n",
       "<style scoped>\n",
       "    .dataframe tbody tr th:only-of-type {\n",
       "        vertical-align: middle;\n",
       "    }\n",
       "\n",
       "    .dataframe tbody tr th {\n",
       "        vertical-align: top;\n",
       "    }\n",
       "\n",
       "    .dataframe thead th {\n",
       "        text-align: right;\n",
       "    }\n",
       "</style>\n",
       "<table border=\"1\" class=\"dataframe\">\n",
       "  <thead>\n",
       "    <tr style=\"text-align: right;\">\n",
       "      <th></th>\n",
       "      <th>publisher_id</th>\n",
       "      <th>publisher</th>\n",
       "    </tr>\n",
       "  </thead>\n",
       "  <tbody>\n",
       "    <tr>\n",
       "      <th>0</th>\n",
       "      <td>1</td>\n",
       "      <td>Ace</td>\n",
       "    </tr>\n",
       "    <tr>\n",
       "      <th>1</th>\n",
       "      <td>2</td>\n",
       "      <td>Ace Book</td>\n",
       "    </tr>\n",
       "    <tr>\n",
       "      <th>2</th>\n",
       "      <td>3</td>\n",
       "      <td>Ace Books</td>\n",
       "    </tr>\n",
       "    <tr>\n",
       "      <th>3</th>\n",
       "      <td>4</td>\n",
       "      <td>Ace Hardcover</td>\n",
       "    </tr>\n",
       "    <tr>\n",
       "      <th>4</th>\n",
       "      <td>5</td>\n",
       "      <td>Addison Wesley Publishing Company</td>\n",
       "    </tr>\n",
       "  </tbody>\n",
       "</table>\n",
       "</div>"
      ],
      "text/plain": [
       "   publisher_id                          publisher\n",
       "0             1                                Ace\n",
       "1             2                           Ace Book\n",
       "2             3                          Ace Books\n",
       "3             4                      Ace Hardcover\n",
       "4             5  Addison Wesley Publishing Company"
      ]
     },
     "execution_count": 5,
     "metadata": {},
     "output_type": "execute_result"
    }
   ],
   "source": [
    "query = ''' SELECT *\n",
    "            FROM publishers\n",
    "\n",
    "            LIMIT 5\n",
    "        '''\n",
    "\n",
    "pd.io.sql.read_sql(query, con = engine) "
   ]
  },
  {
   "cell_type": "code",
   "execution_count": 6,
   "metadata": {},
   "outputs": [
    {
     "data": {
      "text/html": [
       "<div>\n",
       "<style scoped>\n",
       "    .dataframe tbody tr th:only-of-type {\n",
       "        vertical-align: middle;\n",
       "    }\n",
       "\n",
       "    .dataframe tbody tr th {\n",
       "        vertical-align: top;\n",
       "    }\n",
       "\n",
       "    .dataframe thead th {\n",
       "        text-align: right;\n",
       "    }\n",
       "</style>\n",
       "<table border=\"1\" class=\"dataframe\">\n",
       "  <thead>\n",
       "    <tr style=\"text-align: right;\">\n",
       "      <th></th>\n",
       "      <th>rating_id</th>\n",
       "      <th>book_id</th>\n",
       "      <th>username</th>\n",
       "      <th>rating</th>\n",
       "    </tr>\n",
       "  </thead>\n",
       "  <tbody>\n",
       "    <tr>\n",
       "      <th>0</th>\n",
       "      <td>1</td>\n",
       "      <td>1</td>\n",
       "      <td>ryanfranco</td>\n",
       "      <td>4</td>\n",
       "    </tr>\n",
       "    <tr>\n",
       "      <th>1</th>\n",
       "      <td>2</td>\n",
       "      <td>1</td>\n",
       "      <td>grantpatricia</td>\n",
       "      <td>2</td>\n",
       "    </tr>\n",
       "    <tr>\n",
       "      <th>2</th>\n",
       "      <td>3</td>\n",
       "      <td>1</td>\n",
       "      <td>brandtandrea</td>\n",
       "      <td>5</td>\n",
       "    </tr>\n",
       "    <tr>\n",
       "      <th>3</th>\n",
       "      <td>4</td>\n",
       "      <td>2</td>\n",
       "      <td>lorichen</td>\n",
       "      <td>3</td>\n",
       "    </tr>\n",
       "    <tr>\n",
       "      <th>4</th>\n",
       "      <td>5</td>\n",
       "      <td>2</td>\n",
       "      <td>mariokeller</td>\n",
       "      <td>2</td>\n",
       "    </tr>\n",
       "  </tbody>\n",
       "</table>\n",
       "</div>"
      ],
      "text/plain": [
       "   rating_id  book_id       username  rating\n",
       "0          1        1     ryanfranco       4\n",
       "1          2        1  grantpatricia       2\n",
       "2          3        1   brandtandrea       5\n",
       "3          4        2       lorichen       3\n",
       "4          5        2    mariokeller       2"
      ]
     },
     "execution_count": 6,
     "metadata": {},
     "output_type": "execute_result"
    }
   ],
   "source": [
    "query = ''' SELECT *\n",
    "            FROM ratings\n",
    "\n",
    "            LIMIT 5\n",
    "        '''\n",
    "\n",
    "pd.io.sql.read_sql(query, con = engine) "
   ]
  },
  {
   "cell_type": "code",
   "execution_count": 7,
   "metadata": {},
   "outputs": [
    {
     "data": {
      "text/html": [
       "<div>\n",
       "<style scoped>\n",
       "    .dataframe tbody tr th:only-of-type {\n",
       "        vertical-align: middle;\n",
       "    }\n",
       "\n",
       "    .dataframe tbody tr th {\n",
       "        vertical-align: top;\n",
       "    }\n",
       "\n",
       "    .dataframe thead th {\n",
       "        text-align: right;\n",
       "    }\n",
       "</style>\n",
       "<table border=\"1\" class=\"dataframe\">\n",
       "  <thead>\n",
       "    <tr style=\"text-align: right;\">\n",
       "      <th></th>\n",
       "      <th>review_id</th>\n",
       "      <th>book_id</th>\n",
       "      <th>username</th>\n",
       "      <th>text</th>\n",
       "    </tr>\n",
       "  </thead>\n",
       "  <tbody>\n",
       "    <tr>\n",
       "      <th>0</th>\n",
       "      <td>1</td>\n",
       "      <td>1</td>\n",
       "      <td>brandtandrea</td>\n",
       "      <td>Mention society tell send professor analysis. ...</td>\n",
       "    </tr>\n",
       "    <tr>\n",
       "      <th>1</th>\n",
       "      <td>2</td>\n",
       "      <td>1</td>\n",
       "      <td>ryanfranco</td>\n",
       "      <td>Foot glass pretty audience hit themselves. Amo...</td>\n",
       "    </tr>\n",
       "    <tr>\n",
       "      <th>2</th>\n",
       "      <td>3</td>\n",
       "      <td>2</td>\n",
       "      <td>lorichen</td>\n",
       "      <td>Listen treat keep worry. Miss husband tax but ...</td>\n",
       "    </tr>\n",
       "    <tr>\n",
       "      <th>3</th>\n",
       "      <td>4</td>\n",
       "      <td>3</td>\n",
       "      <td>johnsonamanda</td>\n",
       "      <td>Finally month interesting blue could nature cu...</td>\n",
       "    </tr>\n",
       "    <tr>\n",
       "      <th>4</th>\n",
       "      <td>5</td>\n",
       "      <td>3</td>\n",
       "      <td>scotttamara</td>\n",
       "      <td>Nation purpose heavy give wait song will. List...</td>\n",
       "    </tr>\n",
       "  </tbody>\n",
       "</table>\n",
       "</div>"
      ],
      "text/plain": [
       "   review_id  book_id       username  \\\n",
       "0          1        1   brandtandrea   \n",
       "1          2        1     ryanfranco   \n",
       "2          3        2       lorichen   \n",
       "3          4        3  johnsonamanda   \n",
       "4          5        3    scotttamara   \n",
       "\n",
       "                                                text  \n",
       "0  Mention society tell send professor analysis. ...  \n",
       "1  Foot glass pretty audience hit themselves. Amo...  \n",
       "2  Listen treat keep worry. Miss husband tax but ...  \n",
       "3  Finally month interesting blue could nature cu...  \n",
       "4  Nation purpose heavy give wait song will. List...  "
      ]
     },
     "execution_count": 7,
     "metadata": {},
     "output_type": "execute_result"
    }
   ],
   "source": [
    "query = ''' SELECT *\n",
    "            FROM reviews\n",
    "\n",
    "            LIMIT 5\n",
    "        '''\n",
    "\n",
    "pd.io.sql.read_sql(query, con = engine) "
   ]
  },
  {
   "cell_type": "markdown",
   "metadata": {},
   "source": [
    "# Посчитайте, сколько книг вышло после 1 января 2000 года;"
   ]
  },
  {
   "cell_type": "code",
   "execution_count": 8,
   "metadata": {},
   "outputs": [
    {
     "data": {
      "text/html": [
       "<div>\n",
       "<style scoped>\n",
       "    .dataframe tbody tr th:only-of-type {\n",
       "        vertical-align: middle;\n",
       "    }\n",
       "\n",
       "    .dataframe tbody tr th {\n",
       "        vertical-align: top;\n",
       "    }\n",
       "\n",
       "    .dataframe thead th {\n",
       "        text-align: right;\n",
       "    }\n",
       "</style>\n",
       "<table border=\"1\" class=\"dataframe\">\n",
       "  <thead>\n",
       "    <tr style=\"text-align: right;\">\n",
       "      <th></th>\n",
       "      <th>count</th>\n",
       "    </tr>\n",
       "  </thead>\n",
       "  <tbody>\n",
       "    <tr>\n",
       "      <th>0</th>\n",
       "      <td>819</td>\n",
       "    </tr>\n",
       "  </tbody>\n",
       "</table>\n",
       "</div>"
      ],
      "text/plain": [
       "   count\n",
       "0    819"
      ]
     },
     "execution_count": 8,
     "metadata": {},
     "output_type": "execute_result"
    }
   ],
   "source": [
    "query = ''' SELECT COUNT(book_id)\n",
    "            FROM books\n",
    "\n",
    "            WHERE CAST(publication_date AS date) > '2000-01-01'\n",
    "\n",
    "        '''\n",
    "\n",
    "pd.io.sql.read_sql(query, con = engine) "
   ]
  },
  {
   "cell_type": "markdown",
   "metadata": {},
   "source": [
    "После первого января 2000 года вышло 819 книг"
   ]
  },
  {
   "cell_type": "markdown",
   "metadata": {},
   "source": [
    "# Для каждой книги посчитайте количество обзоров и среднюю оценку"
   ]
  },
  {
   "cell_type": "code",
   "execution_count": 9,
   "metadata": {},
   "outputs": [
    {
     "data": {
      "text/html": [
       "<div>\n",
       "<style scoped>\n",
       "    .dataframe tbody tr th:only-of-type {\n",
       "        vertical-align: middle;\n",
       "    }\n",
       "\n",
       "    .dataframe tbody tr th {\n",
       "        vertical-align: top;\n",
       "    }\n",
       "\n",
       "    .dataframe thead th {\n",
       "        text-align: right;\n",
       "    }\n",
       "</style>\n",
       "<table border=\"1\" class=\"dataframe\">\n",
       "  <thead>\n",
       "    <tr style=\"text-align: right;\">\n",
       "      <th></th>\n",
       "      <th>avg</th>\n",
       "      <th>count</th>\n",
       "      <th>title</th>\n",
       "    </tr>\n",
       "  </thead>\n",
       "  <tbody>\n",
       "    <tr>\n",
       "      <th>0</th>\n",
       "      <td>3.662500</td>\n",
       "      <td>1120</td>\n",
       "      <td>Twilight (Twilight  #1)</td>\n",
       "    </tr>\n",
       "    <tr>\n",
       "      <th>1</th>\n",
       "      <td>4.125000</td>\n",
       "      <td>528</td>\n",
       "      <td>The Hobbit  or There and Back Again</td>\n",
       "    </tr>\n",
       "    <tr>\n",
       "      <th>2</th>\n",
       "      <td>3.825581</td>\n",
       "      <td>516</td>\n",
       "      <td>The Catcher in the Rye</td>\n",
       "    </tr>\n",
       "    <tr>\n",
       "      <th>3</th>\n",
       "      <td>4.414634</td>\n",
       "      <td>492</td>\n",
       "      <td>Harry Potter and the Prisoner of Azkaban (Harr...</td>\n",
       "    </tr>\n",
       "    <tr>\n",
       "      <th>4</th>\n",
       "      <td>4.287500</td>\n",
       "      <td>480</td>\n",
       "      <td>Harry Potter and the Chamber of Secrets (Harry...</td>\n",
       "    </tr>\n",
       "    <tr>\n",
       "      <th>...</th>\n",
       "      <td>...</td>\n",
       "      <td>...</td>\n",
       "      <td>...</td>\n",
       "    </tr>\n",
       "    <tr>\n",
       "      <th>988</th>\n",
       "      <td>5.000000</td>\n",
       "      <td>2</td>\n",
       "      <td>The Adventures of Tom Sawyer and Adventures of...</td>\n",
       "    </tr>\n",
       "    <tr>\n",
       "      <th>989</th>\n",
       "      <td>2.500000</td>\n",
       "      <td>2</td>\n",
       "      <td>History of Beauty</td>\n",
       "    </tr>\n",
       "    <tr>\n",
       "      <th>990</th>\n",
       "      <td>4.000000</td>\n",
       "      <td>2</td>\n",
       "      <td>Lysistrata</td>\n",
       "    </tr>\n",
       "    <tr>\n",
       "      <th>991</th>\n",
       "      <td>3.500000</td>\n",
       "      <td>2</td>\n",
       "      <td>Executive Orders (Jack Ryan  #8)</td>\n",
       "    </tr>\n",
       "    <tr>\n",
       "      <th>992</th>\n",
       "      <td>4.000000</td>\n",
       "      <td>2</td>\n",
       "      <td>Dragons of Winter Night (Dragonlance: Chronicl...</td>\n",
       "    </tr>\n",
       "  </tbody>\n",
       "</table>\n",
       "<p>993 rows × 3 columns</p>\n",
       "</div>"
      ],
      "text/plain": [
       "          avg  count                                              title\n",
       "0    3.662500   1120                            Twilight (Twilight  #1)\n",
       "1    4.125000    528                The Hobbit  or There and Back Again\n",
       "2    3.825581    516                             The Catcher in the Rye\n",
       "3    4.414634    492  Harry Potter and the Prisoner of Azkaban (Harr...\n",
       "4    4.287500    480  Harry Potter and the Chamber of Secrets (Harry...\n",
       "..        ...    ...                                                ...\n",
       "988  5.000000      2  The Adventures of Tom Sawyer and Adventures of...\n",
       "989  2.500000      2                                  History of Beauty\n",
       "990  4.000000      2                                         Lysistrata\n",
       "991  3.500000      2                   Executive Orders (Jack Ryan  #8)\n",
       "992  4.000000      2  Dragons of Winter Night (Dragonlance: Chronicl...\n",
       "\n",
       "[993 rows x 3 columns]"
      ]
     },
     "execution_count": 9,
     "metadata": {},
     "output_type": "execute_result"
    }
   ],
   "source": [
    "query = ''' SELECT AVG(r.rating),\n",
    "                   COUNT(re.review_id),\n",
    "                   b.title\n",
    "            FROM ratings AS r JOIN reviews AS re ON r.book_id = re.book_id\n",
    "            JOIN books AS b ON re.book_id = b.book_id\n",
    "            GROUP BY b.title\n",
    "            ORDER BY  COUNT(re.review_id) DESC;\n",
    "\n",
    "            \n",
    "\n",
    "        '''\n",
    "\n",
    "pd.io.sql.read_sql(query, con = engine) "
   ]
  },
  {
   "cell_type": "code",
   "execution_count": 10,
   "metadata": {},
   "outputs": [
    {
     "data": {
      "text/html": [
       "<div>\n",
       "<style scoped>\n",
       "    .dataframe tbody tr th:only-of-type {\n",
       "        vertical-align: middle;\n",
       "    }\n",
       "\n",
       "    .dataframe tbody tr th {\n",
       "        vertical-align: top;\n",
       "    }\n",
       "\n",
       "    .dataframe thead th {\n",
       "        text-align: right;\n",
       "    }\n",
       "</style>\n",
       "<table border=\"1\" class=\"dataframe\">\n",
       "  <thead>\n",
       "    <tr style=\"text-align: right;\">\n",
       "      <th></th>\n",
       "      <th>sum</th>\n",
       "    </tr>\n",
       "  </thead>\n",
       "  <tbody>\n",
       "    <tr>\n",
       "      <th>0</th>\n",
       "      <td>2793.0</td>\n",
       "    </tr>\n",
       "  </tbody>\n",
       "</table>\n",
       "</div>"
      ],
      "text/plain": [
       "      sum\n",
       "0  2793.0"
      ]
     },
     "execution_count": 10,
     "metadata": {},
     "output_type": "execute_result"
    }
   ],
   "source": [
    "query = ''' with\n",
    "            r as (SELECT AVG(rating) AS avg_rating,\n",
    "                   book_id\n",
    "                   \n",
    "            FROM ratings\n",
    "            GROUP BY book_id),\n",
    "            \n",
    "            re as (SELECT COUNT(review_id) AS rev_count,\n",
    "                          book_id\n",
    "                   \n",
    "                   FROM reviews \n",
    "                   GROUP BY book_id),\n",
    "                   \n",
    "            \n",
    "            d as (select re.rev_count as rr,\n",
    "                   r.avg_rating,\n",
    "                   b.title\n",
    "            from r LEFT JOIN re ON r.book_id=re.book_id\n",
    "            JOIN books AS b ON r.book_id=b.book_id)\n",
    "            \n",
    "            select sum(d.rr)\n",
    "            from d\n",
    "            \n",
    "\n",
    "        '''\n",
    "\n",
    "pd.io.sql.read_sql(query, con = engine) "
   ]
  },
  {
   "cell_type": "code",
   "execution_count": 11,
   "metadata": {},
   "outputs": [
    {
     "data": {
      "text/html": [
       "<div>\n",
       "<style scoped>\n",
       "    .dataframe tbody tr th:only-of-type {\n",
       "        vertical-align: middle;\n",
       "    }\n",
       "\n",
       "    .dataframe tbody tr th {\n",
       "        vertical-align: top;\n",
       "    }\n",
       "\n",
       "    .dataframe thead th {\n",
       "        text-align: right;\n",
       "    }\n",
       "</style>\n",
       "<table border=\"1\" class=\"dataframe\">\n",
       "  <thead>\n",
       "    <tr style=\"text-align: right;\">\n",
       "      <th></th>\n",
       "      <th>rev_count</th>\n",
       "      <th>avg_rating</th>\n",
       "      <th>title</th>\n",
       "    </tr>\n",
       "  </thead>\n",
       "  <tbody>\n",
       "    <tr>\n",
       "      <th>0</th>\n",
       "      <td>2.0</td>\n",
       "      <td>3.666667</td>\n",
       "      <td>'Salem's Lot</td>\n",
       "    </tr>\n",
       "    <tr>\n",
       "      <th>1</th>\n",
       "      <td>1.0</td>\n",
       "      <td>2.500000</td>\n",
       "      <td>1 000 Places to See Before You Die</td>\n",
       "    </tr>\n",
       "    <tr>\n",
       "      <th>2</th>\n",
       "      <td>3.0</td>\n",
       "      <td>4.666667</td>\n",
       "      <td>13 Little Blue Envelopes (Little Blue Envelope...</td>\n",
       "    </tr>\n",
       "    <tr>\n",
       "      <th>3</th>\n",
       "      <td>2.0</td>\n",
       "      <td>4.500000</td>\n",
       "      <td>1491: New Revelations of the Americas Before C...</td>\n",
       "    </tr>\n",
       "    <tr>\n",
       "      <th>4</th>\n",
       "      <td>4.0</td>\n",
       "      <td>4.000000</td>\n",
       "      <td>1776</td>\n",
       "    </tr>\n",
       "    <tr>\n",
       "      <th>...</th>\n",
       "      <td>...</td>\n",
       "      <td>...</td>\n",
       "      <td>...</td>\n",
       "    </tr>\n",
       "    <tr>\n",
       "      <th>995</th>\n",
       "      <td>3.0</td>\n",
       "      <td>3.666667</td>\n",
       "      <td>Wyrd Sisters (Discworld  #6; Witches #2)</td>\n",
       "    </tr>\n",
       "    <tr>\n",
       "      <th>996</th>\n",
       "      <td>3.0</td>\n",
       "      <td>3.400000</td>\n",
       "      <td>Xenocide (Ender's Saga  #3)</td>\n",
       "    </tr>\n",
       "    <tr>\n",
       "      <th>997</th>\n",
       "      <td>4.0</td>\n",
       "      <td>3.200000</td>\n",
       "      <td>Year of Wonders</td>\n",
       "    </tr>\n",
       "    <tr>\n",
       "      <th>998</th>\n",
       "      <td>2.0</td>\n",
       "      <td>4.500000</td>\n",
       "      <td>You Suck (A Love Story  #2)</td>\n",
       "    </tr>\n",
       "    <tr>\n",
       "      <th>999</th>\n",
       "      <td>4.0</td>\n",
       "      <td>3.833333</td>\n",
       "      <td>Zen and the Art of Motorcycle Maintenance: An ...</td>\n",
       "    </tr>\n",
       "  </tbody>\n",
       "</table>\n",
       "<p>1000 rows × 3 columns</p>\n",
       "</div>"
      ],
      "text/plain": [
       "     rev_count  avg_rating                                              title\n",
       "0          2.0    3.666667                                       'Salem's Lot\n",
       "1          1.0    2.500000                 1 000 Places to See Before You Die\n",
       "2          3.0    4.666667  13 Little Blue Envelopes (Little Blue Envelope...\n",
       "3          2.0    4.500000  1491: New Revelations of the Americas Before C...\n",
       "4          4.0    4.000000                                               1776\n",
       "..         ...         ...                                                ...\n",
       "995        3.0    3.666667           Wyrd Sisters (Discworld  #6; Witches #2)\n",
       "996        3.0    3.400000                        Xenocide (Ender's Saga  #3)\n",
       "997        4.0    3.200000                                    Year of Wonders\n",
       "998        2.0    4.500000                        You Suck (A Love Story  #2)\n",
       "999        4.0    3.833333  Zen and the Art of Motorcycle Maintenance: An ...\n",
       "\n",
       "[1000 rows x 3 columns]"
      ]
     },
     "execution_count": 11,
     "metadata": {},
     "output_type": "execute_result"
    }
   ],
   "source": [
    "query = ''' with\n",
    "            r as (SELECT AVG(rating) AS avg_rating,\n",
    "                   book_id\n",
    "                   \n",
    "            FROM ratings\n",
    "            GROUP BY book_id),\n",
    "            \n",
    "            re as (SELECT COUNT(review_id) AS rev_count,\n",
    "                          book_id\n",
    "                   \n",
    "                   FROM reviews \n",
    "                   GROUP BY book_id)\n",
    "                   \n",
    "            \n",
    "            select re.rev_count,\n",
    "                   r.avg_rating,\n",
    "                   b.title\n",
    "            from r LEFT JOIN re ON r.book_id=re.book_id\n",
    "            JOIN books AS b ON r.book_id=b.book_id\n",
    "            \n",
    "            \n",
    "\n",
    "        '''\n",
    "\n",
    "pd.io.sql.read_sql(query, con = engine)"
   ]
  },
  {
   "cell_type": "markdown",
   "metadata": {},
   "source": [
    "Наилучшие показатели по средней оценке и кол-ву обзоров у книг - A Dirty Job (Grim Reaper #1) (рейтинг 5, кол-во обзоров 16),\n",
    "School's Out—Forever (Maximum Ride #2) (5 и 12) и Moneyball: The Art of Winning an Unfair Game (5 и 9)\n",
    "\n",
    "Самыми обсуждаемыми являются: Twilight (Twilight #1)(1120 обзоров), The Hobbit or There and Back Again (528), The Catcher in the Rye (516), Harry Potter and the Prisoner of Azkaban (492) и Harry Potter and the Chamber of Secrets (480)"
   ]
  },
  {
   "cell_type": "markdown",
   "metadata": {},
   "source": [
    "# Определите издательство, которое выпустило наибольшее число книг толще 50 страниц — так вы исключите из анализа брошюры"
   ]
  },
  {
   "cell_type": "code",
   "execution_count": 12,
   "metadata": {},
   "outputs": [
    {
     "data": {
      "text/html": [
       "<div>\n",
       "<style scoped>\n",
       "    .dataframe tbody tr th:only-of-type {\n",
       "        vertical-align: middle;\n",
       "    }\n",
       "\n",
       "    .dataframe tbody tr th {\n",
       "        vertical-align: top;\n",
       "    }\n",
       "\n",
       "    .dataframe thead th {\n",
       "        text-align: right;\n",
       "    }\n",
       "</style>\n",
       "<table border=\"1\" class=\"dataframe\">\n",
       "  <thead>\n",
       "    <tr style=\"text-align: right;\">\n",
       "      <th></th>\n",
       "      <th>publisher</th>\n",
       "      <th>count</th>\n",
       "    </tr>\n",
       "  </thead>\n",
       "  <tbody>\n",
       "    <tr>\n",
       "      <th>0</th>\n",
       "      <td>Penguin Books</td>\n",
       "      <td>42</td>\n",
       "    </tr>\n",
       "  </tbody>\n",
       "</table>\n",
       "</div>"
      ],
      "text/plain": [
       "       publisher  count\n",
       "0  Penguin Books     42"
      ]
     },
     "execution_count": 12,
     "metadata": {},
     "output_type": "execute_result"
    }
   ],
   "source": [
    "query = ''' SELECT p.publisher,\n",
    "                   COUNT(b.book_id)\n",
    "            FROM publishers AS p JOIN books AS b ON p.publisher_id = b.publisher_id\n",
    "            WHERE b.num_pages > 50\n",
    "            GROUP BY p.publisher\n",
    "            order by COUNT(b.book_id) desc\n",
    "            LIMIT 1\n",
    "\n",
    "\n",
    "            \n",
    "\n",
    "        '''\n",
    "\n",
    "pd.io.sql.read_sql(query, con = engine) "
   ]
  },
  {
   "cell_type": "markdown",
   "metadata": {},
   "source": [
    "Издательство, которое выпустило наибольшее кол-во книг - Penguin Books"
   ]
  },
  {
   "cell_type": "markdown",
   "metadata": {},
   "source": [
    "# Определите автора с самой высокой средней оценкой книг — учитывайте только книги с 50 и более оценками"
   ]
  },
  {
   "cell_type": "code",
   "execution_count": 13,
   "metadata": {},
   "outputs": [
    {
     "data": {
      "text/html": [
       "<div>\n",
       "<style scoped>\n",
       "    .dataframe tbody tr th:only-of-type {\n",
       "        vertical-align: middle;\n",
       "    }\n",
       "\n",
       "    .dataframe tbody tr th {\n",
       "        vertical-align: top;\n",
       "    }\n",
       "\n",
       "    .dataframe thead th {\n",
       "        text-align: right;\n",
       "    }\n",
       "</style>\n",
       "<table border=\"1\" class=\"dataframe\">\n",
       "  <thead>\n",
       "    <tr style=\"text-align: right;\">\n",
       "      <th></th>\n",
       "      <th>author</th>\n",
       "      <th>avg</th>\n",
       "    </tr>\n",
       "  </thead>\n",
       "  <tbody>\n",
       "    <tr>\n",
       "      <th>0</th>\n",
       "      <td>J.K. Rowling/Mary GrandPré</td>\n",
       "      <td>4.283844</td>\n",
       "    </tr>\n",
       "  </tbody>\n",
       "</table>\n",
       "</div>"
      ],
      "text/plain": [
       "                       author       avg\n",
       "0  J.K. Rowling/Mary GrandPré  4.283844"
      ]
     },
     "execution_count": 13,
     "metadata": {},
     "output_type": "execute_result"
    }
   ],
   "source": [
    "query = ''' WITH\n",
    "            f AS (SELECT AVG(r.rating) AS avg_rating,\n",
    "                        r.book_id AS book_id,\n",
    "                        COUNT(r.rating_id) \n",
    "                  FROM ratings AS r\n",
    "                  GROUP BY  r.book_id\n",
    "                  HAVING COUNT(r.rating_id) >= 50\n",
    "                  ORDER BY avg_rating DESC)\n",
    "      \n",
    "                SELECT a.author,\n",
    "                       AVG(f.avg_rating)\n",
    "                       \n",
    "                FROM f LEFT JOIN books AS b ON f.book_id = b.book_id\n",
    "                LEFT JOIN authors AS a ON b.author_id = a.author_id\n",
    "                GROUP BY a.author\n",
    "                ORDER BY AVG(f.avg_rating) DESC\n",
    "                LIMIT 1\n",
    "                \n",
    "\n",
    "\n",
    "            \n",
    "\n",
    "        '''\n",
    "\n",
    "pd.io.sql.read_sql(query, con = engine)"
   ]
  },
  {
   "cell_type": "markdown",
   "metadata": {},
   "source": [
    "Автор с наивысшей средней оценкой - J.K. Rowling/Mary GrandPré\t"
   ]
  },
  {
   "cell_type": "markdown",
   "metadata": {},
   "source": [
    "# Посчитайте среднее количество обзоров от пользователей, которые поставили больше 50 оценок."
   ]
  },
  {
   "cell_type": "code",
   "execution_count": 14,
   "metadata": {},
   "outputs": [
    {
     "data": {
      "text/html": [
       "<div>\n",
       "<style scoped>\n",
       "    .dataframe tbody tr th:only-of-type {\n",
       "        vertical-align: middle;\n",
       "    }\n",
       "\n",
       "    .dataframe tbody tr th {\n",
       "        vertical-align: top;\n",
       "    }\n",
       "\n",
       "    .dataframe thead th {\n",
       "        text-align: right;\n",
       "    }\n",
       "</style>\n",
       "<table border=\"1\" class=\"dataframe\">\n",
       "  <thead>\n",
       "    <tr style=\"text-align: right;\">\n",
       "      <th></th>\n",
       "      <th>avg</th>\n",
       "    </tr>\n",
       "  </thead>\n",
       "  <tbody>\n",
       "    <tr>\n",
       "      <th>0</th>\n",
       "      <td>24.333333</td>\n",
       "    </tr>\n",
       "  </tbody>\n",
       "</table>\n",
       "</div>"
      ],
      "text/plain": [
       "         avg\n",
       "0  24.333333"
      ]
     },
     "execution_count": 14,
     "metadata": {},
     "output_type": "execute_result"
    }
   ],
   "source": [
    "query = ''' WITH\n",
    "            f AS (SELECT \n",
    "                        r.username AS users_50,\n",
    "                        COUNT(r.rating_id) \n",
    "                  FROM ratings AS r\n",
    "                  GROUP BY  users_50\n",
    "                  HAVING COUNT(r.rating_id) > 50),\n",
    "      \n",
    "            sd AS (SELECT  count(re.review_id) as cnt_re,\n",
    "                        f.users_50\n",
    "                FROM f left JOIN reviews AS re ON f.users_50 = re.username\n",
    "                group by f.users_50)  \n",
    "\n",
    "                SELECT AVG(cnt_re)\n",
    "                FROM sd\n",
    "                \n",
    "                \n",
    "\n",
    "\n",
    "            \n",
    "\n",
    "        '''\n",
    "\n",
    "pd.io.sql.read_sql(query, con = engine)"
   ]
  },
  {
   "cell_type": "markdown",
   "metadata": {},
   "source": [
    "В среднем на пользователя, который поставил больше 50 оценок, приходится по 24 обзора"
   ]
  },
  {
   "cell_type": "markdown",
   "metadata": {},
   "source": [
    "# Вывод\n",
    "\n",
    "Если взять во внимание все полученные результаты, то компании стоит обратить внимание на автора с наибольшей средней оценкой - J.K. Rowling/Mary GrandPré, издательство с хорошими показателями выпуска книг - Penguin Books и на самые обсуждаемые и с наибольшей средней оценкой книги - A Dirty Job (Grim Reaper #1) (рейтинг 5, кол-во обзоров 16),\n",
    "School's Out—Forever (Maximum Ride #2) (5 и 12) и Moneyball: The Art of Winning an Unfair Game (5 и 9). \n",
    "\n",
    "Еще на самые обсуждаемые, но с не самыми высокими средними оценками книги: Twilight (Twilight #1)(1120 обзоров), The Hobbit or There and Back Again (528), The Catcher in the Rye (516), Harry Potter and the Prisoner of Azkaban (492) и Harry Potter and the Chamber of Secrets (480)"
   ]
  }
 ],
 "metadata": {
  "ExecuteTimeLog": [
   {
    "duration": 45,
    "start_time": "2022-12-18T22:37:28.121Z"
   },
   {
    "duration": 486,
    "start_time": "2022-12-18T22:37:37.003Z"
   },
   {
    "duration": 10847,
    "start_time": "2022-12-18T22:37:37.491Z"
   },
   {
    "duration": 57,
    "start_time": "2022-12-18T22:37:48.340Z"
   },
   {
    "duration": 11,
    "start_time": "2022-12-18T22:37:48.399Z"
   },
   {
    "duration": 13,
    "start_time": "2022-12-18T22:37:48.412Z"
   },
   {
    "duration": 12,
    "start_time": "2022-12-18T22:37:48.426Z"
   },
   {
    "duration": 16,
    "start_time": "2022-12-18T22:37:48.441Z"
   },
   {
    "duration": 12,
    "start_time": "2022-12-18T22:37:48.459Z"
   },
   {
    "duration": 37,
    "start_time": "2022-12-18T22:37:48.473Z"
   },
   {
    "duration": 14,
    "start_time": "2022-12-18T22:37:48.513Z"
   },
   {
    "duration": 16,
    "start_time": "2022-12-18T22:37:48.530Z"
   },
   {
    "duration": 16,
    "start_time": "2022-12-18T22:37:48.548Z"
   },
   {
    "duration": 21,
    "start_time": "2022-12-18T22:37:55.077Z"
   },
   {
    "duration": 16,
    "start_time": "2022-12-18T22:37:57.289Z"
   },
   {
    "duration": 505,
    "start_time": "2022-12-19T06:58:21.506Z"
   },
   {
    "duration": 5213,
    "start_time": "2022-12-19T06:58:22.013Z"
   },
   {
    "duration": 310,
    "start_time": "2022-12-19T06:58:27.228Z"
   },
   {
    "duration": 70,
    "start_time": "2022-12-19T06:58:27.540Z"
   },
   {
    "duration": 71,
    "start_time": "2022-12-19T06:58:27.611Z"
   },
   {
    "duration": 71,
    "start_time": "2022-12-19T06:58:27.683Z"
   },
   {
    "duration": 71,
    "start_time": "2022-12-19T06:58:27.756Z"
   },
   {
    "duration": 69,
    "start_time": "2022-12-19T06:58:27.829Z"
   },
   {
    "duration": 109,
    "start_time": "2022-12-19T06:58:27.899Z"
   },
   {
    "duration": 72,
    "start_time": "2022-12-19T06:58:28.010Z"
   },
   {
    "duration": 74,
    "start_time": "2022-12-19T06:58:28.084Z"
   },
   {
    "duration": 72,
    "start_time": "2022-12-19T06:58:28.160Z"
   },
   {
    "duration": 74,
    "start_time": "2022-12-19T07:02:55.512Z"
   },
   {
    "duration": 79,
    "start_time": "2022-12-19T07:03:16.015Z"
   },
   {
    "duration": 74,
    "start_time": "2022-12-19T07:03:22.736Z"
   },
   {
    "duration": 91,
    "start_time": "2022-12-19T07:11:29.714Z"
   },
   {
    "duration": 102,
    "start_time": "2022-12-19T07:12:00.826Z"
   },
   {
    "duration": 116,
    "start_time": "2022-12-19T07:12:36.048Z"
   },
   {
    "duration": 78,
    "start_time": "2022-12-19T07:15:09.446Z"
   },
   {
    "duration": 81,
    "start_time": "2022-12-19T07:16:10.469Z"
   },
   {
    "duration": 79,
    "start_time": "2022-12-19T07:16:18.267Z"
   },
   {
    "duration": 75,
    "start_time": "2022-12-19T07:16:34.370Z"
   },
   {
    "duration": 70,
    "start_time": "2022-12-19T07:20:17.590Z"
   },
   {
    "duration": 196,
    "start_time": "2022-12-19T07:22:57.404Z"
   },
   {
    "duration": 120,
    "start_time": "2022-12-19T07:23:18.853Z"
   },
   {
    "duration": 127,
    "start_time": "2022-12-19T07:24:13.401Z"
   },
   {
    "duration": 129,
    "start_time": "2022-12-19T07:28:17.179Z"
   },
   {
    "duration": 123,
    "start_time": "2022-12-19T07:28:54.187Z"
   },
   {
    "duration": 91,
    "start_time": "2022-12-19T07:29:43.936Z"
   },
   {
    "duration": 74,
    "start_time": "2022-12-19T07:30:47.105Z"
   },
   {
    "duration": 104,
    "start_time": "2022-12-19T07:32:33.276Z"
   },
   {
    "duration": 101,
    "start_time": "2022-12-19T07:32:47.454Z"
   },
   {
    "duration": 102,
    "start_time": "2022-12-19T07:34:09.938Z"
   },
   {
    "duration": 75,
    "start_time": "2022-12-19T07:34:34.070Z"
   },
   {
    "duration": 93,
    "start_time": "2022-12-19T07:34:44.907Z"
   },
   {
    "duration": 553,
    "start_time": "2022-12-19T07:35:05.726Z"
   },
   {
    "duration": 5018,
    "start_time": "2022-12-19T07:35:06.280Z"
   },
   {
    "duration": 264,
    "start_time": "2022-12-19T07:35:11.299Z"
   },
   {
    "duration": 75,
    "start_time": "2022-12-19T07:35:11.565Z"
   },
   {
    "duration": 75,
    "start_time": "2022-12-19T07:35:11.642Z"
   },
   {
    "duration": 75,
    "start_time": "2022-12-19T07:35:11.719Z"
   },
   {
    "duration": 75,
    "start_time": "2022-12-19T07:35:11.795Z"
   },
   {
    "duration": 74,
    "start_time": "2022-12-19T07:35:11.872Z"
   },
   {
    "duration": 112,
    "start_time": "2022-12-19T07:35:11.948Z"
   },
   {
    "duration": 78,
    "start_time": "2022-12-19T07:35:12.062Z"
   },
   {
    "duration": 83,
    "start_time": "2022-12-19T07:35:12.142Z"
   },
   {
    "duration": 74,
    "start_time": "2022-12-19T07:35:12.227Z"
   },
   {
    "duration": 78,
    "start_time": "2022-12-19T07:35:12.303Z"
   },
   {
    "duration": 78,
    "start_time": "2022-12-19T07:35:12.383Z"
   },
   {
    "duration": 122,
    "start_time": "2022-12-19T09:45:22.330Z"
   },
   {
    "duration": 90,
    "start_time": "2022-12-19T09:46:06.923Z"
   },
   {
    "duration": 121,
    "start_time": "2022-12-19T09:46:13.135Z"
   },
   {
    "duration": 118,
    "start_time": "2022-12-19T09:47:22.263Z"
   },
   {
    "duration": 78,
    "start_time": "2022-12-19T09:48:03.760Z"
   },
   {
    "duration": 107,
    "start_time": "2022-12-19T09:48:53.991Z"
   },
   {
    "duration": 632,
    "start_time": "2022-12-19T09:49:45.480Z"
   },
   {
    "duration": 6182,
    "start_time": "2022-12-19T09:49:46.122Z"
   },
   {
    "duration": 302,
    "start_time": "2022-12-19T09:49:52.306Z"
   },
   {
    "duration": 74,
    "start_time": "2022-12-19T09:49:52.621Z"
   },
   {
    "duration": 84,
    "start_time": "2022-12-19T09:49:52.698Z"
   },
   {
    "duration": 99,
    "start_time": "2022-12-19T09:49:52.784Z"
   },
   {
    "duration": 75,
    "start_time": "2022-12-19T09:49:52.885Z"
   },
   {
    "duration": 76,
    "start_time": "2022-12-19T09:49:52.963Z"
   },
   {
    "duration": 122,
    "start_time": "2022-12-19T09:49:53.041Z"
   },
   {
    "duration": 78,
    "start_time": "2022-12-19T09:49:53.166Z"
   },
   {
    "duration": 105,
    "start_time": "2022-12-19T09:49:53.246Z"
   },
   {
    "duration": 86,
    "start_time": "2022-12-19T09:49:53.354Z"
   },
   {
    "duration": 92,
    "start_time": "2022-12-19T09:49:53.442Z"
   },
   {
    "duration": 81,
    "start_time": "2022-12-19T09:49:53.536Z"
   },
   {
    "duration": 108,
    "start_time": "2022-12-19T09:50:23.552Z"
   }
  ],
  "kernelspec": {
   "display_name": "Python 3 (ipykernel)",
   "language": "python",
   "name": "python3"
  },
  "language_info": {
   "codemirror_mode": {
    "name": "ipython",
    "version": 3
   },
   "file_extension": ".py",
   "mimetype": "text/x-python",
   "name": "python",
   "nbconvert_exporter": "python",
   "pygments_lexer": "ipython3",
   "version": "3.9.5"
  },
  "toc": {
   "base_numbering": 1,
   "nav_menu": {},
   "number_sections": true,
   "sideBar": true,
   "skip_h1_title": true,
   "title_cell": "Table of Contents",
   "title_sidebar": "Contents",
   "toc_cell": false,
   "toc_position": {},
   "toc_section_display": true,
   "toc_window_display": false
  },
  "vscode": {
   "interpreter": {
    "hash": "4147809c994a734601c7c1e54c7ace358e0979b97a9137c67979df7b76cf16c0"
   }
  }
 },
 "nbformat": 4,
 "nbformat_minor": 2
}
